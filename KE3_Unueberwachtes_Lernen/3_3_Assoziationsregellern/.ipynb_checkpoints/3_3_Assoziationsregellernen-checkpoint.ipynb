{
 "cells": [
  {
   "cell_type": "markdown",
   "metadata": {
    "ExecuteTime": {
     "end_time": "2024-01-22T15:05:33.584082Z",
     "start_time": "2024-01-22T15:05:33.537800Z"
    },
    "collapsed": true,
    "jupyter": {
     "outputs_hidden": true
    }
   },
   "source": [
    "# 3.3. Assoziationsregellern\n",
    "\n",
    ">## <ins>Table of contents</ins>\n",
    ">* [**3.3.1. Assoziationsregeln**](#3_3_1)\n",
    ">* [**3.3.2. Der Apriori-Algorithmus**](#3_3_2)\n",
    ">* [**3.3.3. Der FP-Growth-Algorithmus**](#3_3_3)\n",
    "\n",
    "## Imports"
   ]
  },
  {
   "cell_type": "code",
   "execution_count": 69,
   "metadata": {
    "collapsed": false,
    "jupyter": {
     "outputs_hidden": false
    }
   },
   "outputs": [],
   "source": [
    "import pandas as pd\n",
    "import numpy as np\n",
    "import matplotlib.pyplot as plt\n",
    "import itertools"
   ]
  },
  {
   "cell_type": "markdown",
   "metadata": {},
   "source": [
    "Beim Assoziationsregellernen, wie bei anderen unüberwachten Lernverfahren, geht es darum, Strukturen in Daten zu erkennen. Insbesondere werden häufig *zusammen auftretende Mengen von Elementen und Assoziationen zwischen Elementen* gesucht.\n",
    "\n",
    "## 3.3.1.  Assoziationsregeln <a name=\"3_3_1\"></a>\n",
    "\n",
    "Die **Eingabedaten für Assoziationsregellernen** sind anders strukturiert als bei anderen maschinellen Lernverfahren. Ein Datensatz besteht aus einer Menge von *Transaktionen*, die jeweils aus einer Menge von Elementen bestehen.\n",
    "\n",
    "\n",
    "#### **Beispiel 1: Standardbeispiel - Supermarkteinkäufe**:\n",
    "\n",
    "Jeder Einkauf in einem Supermarkt besteht aus der Menge der eingekauften Artikel. Ein Supermarkt kann daran interessiert sein, aus diesen Daten zu ermitteln, welche Artikel oft zusammen eingekauft werden und ob das Kaufen eines gewissen Artikels den Kauf\n",
    "eines anderen Artikels impliziert.\n",
    "\n",
    "Solche Informationen sind aus Marketingperspektive wertvoll. Sie kann dazu genutzt werden, Artikel in der Nähe anderer Artikel zu positionieren, um Einkaufswege zu optimieren oder den Verkauf zu erhöhen.\n",
    "\n",
    "#### **3.3.1.1.  (Assoziations-)Regel**\n",
    "\n",
    "Sei $I$ eine Menge beliebiger Elemente.\n",
    "Ein Datensatz $F$ ist dann eine Multimenge $F = {t_1,...,t_m}$ (die Transaktionen) mit $t_i ⊆ I$, wobei $i = 1,...,m$.\n",
    "\n",
    "- Eine (Assoziations-)Regel hat die Form $X ⇒ Y$ mit $X,Y ⊆ I$\n",
    "- Es wird \"Wenn X dann auch Y\" gelesen.\n",
    "- Hier heißt $X$ auch Prämisse und $Y$ Konklusion.\n",
    "\n",
    "Die folgende Tabelle zeigt den Datensatz $F_{supermarket}$, der die Einkäufe in einem Supermarkt (an einem bestimmten Tag oder einer bestimmten Stunde) darstellt. "
   ]
  },
  {
   "cell_type": "code",
   "execution_count": 39,
   "metadata": {},
   "outputs": [
    {
     "name": "stdout",
     "output_type": "stream",
     "text": [
      "   Milch  Käse  Butter  Brot  Kaffee  Zucker  Mehl\n",
      "0      1     1       1     1       0       1     1\n",
      "1      0     1       1     1       1       1     1\n",
      "2      1     0       1     0       1       1     1\n",
      "3      1     0       1     0       0       0     0\n",
      "4      1     0       1     0       1       0     0\n",
      "5      1     0       0     0       0       0     1\n",
      "6      1     1       1     1       1       1     1\n",
      "7      0     0       0     0       0       0     0\n",
      "8      1     1       1     0       0       1     0\n",
      "9      1     1       0     1       1       1     1\n"
     ]
    }
   ],
   "source": [
    "import pandas as pd\n",
    "\n",
    "# Erstellen des DataFrames\n",
    "F_supermarket = pd.DataFrame({\n",
    "    'Milch': [1, 0, 1, 1, 1, 1, 1, 0, 1, 1],\n",
    "    'Käse': [1, 1, 0, 0, 0, 0, 1, 0, 1, 1],\n",
    "    'Butter': [1, 1, 1, 1, 1, 0, 1, 0, 1, 0],\n",
    "    'Brot': [1, 1, 0, 0, 0, 0, 1, 0, 0, 1],\n",
    "    'Kaffee': [0, 1, 1, 0, 1, 0, 1, 0, 0, 1],\n",
    "    'Zucker': [1, 1, 1, 0, 0, 0, 1, 0, 1, 1],\n",
    "    'Mehl': [1, 1, 1, 0, 0, 1, 1, 0, 0, 1]\n",
    "})\n",
    "\n",
    "# Ausgabe des DataFrames\n",
    "print(F_supermarket)\n"
   ]
  },
  {
   "cell_type": "markdown",
   "metadata": {},
   "source": [
    "$$I_{supermarket} = \\{Milch,Käse,Butter,Brot,Kaffee,Zucker,Mehl\\}$$\n",
    "\n",
    "Der Datensatz wird so gelesen:\n",
    "- **1** bedeutet, dass das Element in der entsprechenden Transaktion enthalten ist.\n",
    "- **0** bedeutet, dass das Element nicht vorhanden ist.\n",
    "-  $F$ ist eine <ins>Multimenge</ins>, daher können die gleichen Transaktionen mehrfach auftreten.\n",
    "-  **$F$** ist hier $$F = {t_1,...,t_{10}}$$\n",
    "-  Ein **Beispielstransaktion** ist $$t_3 = {Milch, Butter, Kaffee, Zucker, Mehl}$$\n",
    "-  Eine allgemeingültige **Assoziationsregel** in $F_{supermarket}$ ist beispielsweise $${Brot} ⇒ {Käse}$$ was bedeutet \"*Wenn Brot gekauft wurde, dann wurde auch Käse gekauft*\".\n",
    "\n",
    "    Bei allen Transaktionen, bei denen Brot enthalten ist, ist auch Käse enthalten.\n",
    "\n",
    "<ins>Das Ziel des Assoziationsregellernens</ins> ist es, Regeln wie {Brot} ⇒ {Käse} automatisch aus dem Datensatz zu extrahieren. Wir sind in der Regel nicht nur an allgemeingültigen Regeln interessiert, sondern an Regeln, die *häufig* auftreten.\n",
    "\n",
    "\n",
    "#### **3.3.1.2. Evaluationsmetriken für Regeln:** \n",
    "\n",
    "Um den Aspekt der Häufigkeit zu formalisieren, gibt es eine Reihe von Evaluationsmetriken für Regeln. Die wichtigsten sind der **Support** und die **Konfidenz** (engl. confidence)."
   ]
  },
  {
   "cell_type": "markdown",
   "metadata": {},
   "source": [
    "Seien $X, Y ⊆ I$:\n",
    "\n",
    "- Der **Support von X** in $F$, bezeichnet als $support_F(X)$, ist der Anteil der Transaktionen in den Daten, bei denen $X$ eine Teilmenge ist, zur Gesamtzahl aller Transaktionen. Bzw. Der Prozentsatz der Transaktionen in den Daten die den Artikel oder die Artikelgruppe enthalten.\n",
    "\n",
    "  Es wird definiert durch:\n",
    "    $$support_F(X) = \\frac{|{t \\in F | X \\subseteq t}|}{|F|}$$\n",
    "\n",
    "  Zum Beispiel ist der Support von ${Zucker, Mehl}$ gleich $\\frac{5}{10}$, was bedeutet, dass Zucker und Mehl zusammen in $50%$ der Transaktionen vorkommen."
   ]
  },
  {
   "cell_type": "code",
   "execution_count": 40,
   "metadata": {},
   "outputs": [
    {
     "name": "stdout",
     "output_type": "stream",
     "text": [
      "Der Support von {Zucker, Mehl} ist 50.0%\n"
     ]
    }
   ],
   "source": [
    "# In Python, der Durchschnitt und der Prozentsatz sind im Grunde das Gleiche, wenn Sie mit binären Daten (0 und 1) arbeiten. \n",
    "support_Zucker_Mehl = ((F_supermarket['Zucker'] == 1) & (F_supermarket['Mehl'] == 1)).mean()\n",
    "\n",
    "print(f\"Der Support von {{Zucker, Mehl}} ist {support_Zucker_Mehl * 100}%\")"
   ]
  },
  {
   "cell_type": "markdown",
   "metadata": {},
   "source": [
    "- Der **Support einer Regel X ⇒ Y** in F, bezeichnet als $support_F(X ⇒ Y)$, ist der Anteil der Transaktionen, bei denen die Regel angewendet werden kann, zur Gesamtzahl aller Transaktionen.\n",
    "\n",
    "  Es wird definiert durch:\n",
    "    $$support_F(X \\Rightarrow Y) = support_F(X \\cup Y)$$"
   ]
  },
  {
   "cell_type": "code",
   "execution_count": 99,
   "metadata": {},
   "outputs": [],
   "source": [
    "def intersection_all_elements(lst):\n",
    "    result = (F_supermarket[lst[0]] == 1)\n",
    "    for i in range(1, len(lst)):\n",
    "        result &=  (F_supermarket[lst[i]] == 1)\n",
    "    return result\n",
    "\n",
    "'''\n",
    "def supportF_regel(list1, list2):\n",
    "    a = 0\n",
    "    if len(list2) > 0:\n",
    "        a = intersection_all_elements(list1+list2).mean()\n",
    "    else:\n",
    "        a = intersection_all_elements(list1).mean()\n",
    "    return a'''\n",
    "def supportF_regel(list1, list2):\n",
    "    return intersection_all_elements(list1+list2).mean()\n",
    "    \n",
    "def supportF(list1):\n",
    "    return supportF_regel(list1, [])"
   ]
  },
  {
   "cell_type": "markdown",
   "metadata": {},
   "source": [
    "- Die **Konfidenz einer Regel X ⇒ Y** in F, bezeichnet als $conf_F(X ⇒ Y)$, ist der Anteil der Transaktionen, bei denen die Regel angewendet werden kann, zur Anzahl der Transaktionen, bei denen die Prämisse der Regel vorhanden ist. Bzw. Der Prozentsatz der Transaktionen, die A enthalten, die auch B enthalten.\n",
    "  Es wird definiert durch:\n",
    "    $$conf_F(X \\Rightarrow Y) = \\frac{support_F(X \\cup Y)}{support_F(X)}$$\n",
    "\n",
    "  Zum Beispiel ist die Konfidenz von ${Zucker, Mehl} ⇒ {Butter}$ gleich $\\frac{4}{5}$, was bedeutet, dass, wenn Zucker und Mehl gekauft werden, in 80% der Fälle auch Butter gekauft wird."
   ]
  },
  {
   "cell_type": "code",
   "execution_count": 42,
   "metadata": {},
   "outputs": [
    {
     "name": "stdout",
     "output_type": "stream",
     "text": [
      "Die Konfidenz von {Zucker, Mehl} ⇒ {Butter} ist 80.0%\n"
     ]
    }
   ],
   "source": [
    "# Erstellen Sie eine neue Spalte, die True ist, wenn Zucker, Mehl und Butter gekauft wurden, und False sonst\n",
    "a = (F_supermarket['Zucker'] == 1) & (F_supermarket['Mehl'] == 1) & (F_supermarket['Butter'] == 1)\n",
    "\n",
    "# Erstellen Sie eine neue Spalte, die True ist, wenn Zucker und Mehl gekauft wurden, und False sonst\n",
    "b = (F_supermarket['Zucker'] == 1) & (F_supermarket['Mehl'] == 1)\n",
    "\n",
    "# Berechnen Sie die Konfidenz, indem Sie den Durchschnitt der Spalte 'Zucker_Mehl_Butter' berechnen und durch den Durchschnitt der Spalte 'Zucker_Mehl' teilen\n",
    "confidence_Zucker_Mehl_Butter = a.mean() / b.mean()\n",
    "\n",
    "print(f\"Die Konfidenz von {{Zucker, Mehl}} ⇒ {{Butter}} ist {confidence_Zucker_Mehl_Butter * 100}%\")\n"
   ]
  },
  {
   "cell_type": "code",
   "execution_count": 43,
   "metadata": {},
   "outputs": [],
   "source": [
    "def conF(list1, list2):\n",
    "    return supportF(list1+list2)/supportF(list1)"
   ]
  },
  {
   "cell_type": "markdown",
   "metadata": {},
   "source": [
    ">Beachten Sie:\n",
    ">- dass die Werte von $support_F$ und $conf_F$ stets zwischen 0 und 1 liegen.\n",
    ">\n",
    ">- Beim Assoziationsregellernen ist es das Ziel, Regeln mit möglichst hohem Support und hoher Konfidenz zu lernen.\n",
    ">  \n",
    ">- im Allgemeinen der **Support** einen Hinweis darauf gibt, wie oft eine Regel angewendet werden kann, während die **Konfidenz** angibt, wie gut die Regel den Zusammenhang zwischen Prämisse und Konklusion abbildet.\n",
    "\n",
    "\n",
    "#### Beispiel 2. Wir fahren mit Beispiel 1 fort. \n",
    "\n",
    "Hier gilt beispielsweise:\n",
    "\r\n",
    "- $support_{F_{supermarket}}(\\{Zucker,Mehl\\}) = \\frac{5}{10}$\r\n",
    "- $support_{F_{supermarket}}(\\{Zucker,Mehl,Butter\\}) = \\frac{4}{10}$\r\n",
    "- $support_{F_{supermarket}}(\\{Brot\\}) = \\frac{4}{10}$\r\n",
    "- $support_{F_{supermarket}}(\\{Brot,Käse\\}) = \\frac{4}{10}$\r\n",
    "- $support_{F_{supermarket}}(\\{Zucker,Mehl\\} \\Rightarrow \\{Butter\\}) = \\frac{4}{10}$\r\n",
    "- $conf_{F_{supermarket}}(\\{Zucker,Mehl\\} \\Rightarrow \\{Butter\\}) = \\frac{support_{F_{supermarket}}(\\{Zucker,Mehl,Butter\\})}{support_{F_{supermarket}}(\\{Zucker,Mehl\\})} = \\frac{4}{5}$\r\n",
    "- $support_{F_{supermarket}}(\\{Brot\\} \\Rightarrow \\{Käse\\}) = \\frac{4}{10}$\r\n",
    "- $conf_{F_{supermarket}}(\\{Brot\\} \\Rightarrow \\{Käse\\}) = \\frac{support_{F_{supermarket}}(\\{Brot,Käse\\})}{support_{F_{supermarket}}(\\{Brot\\})} = 1$\r\n"
   ]
  },
  {
   "cell_type": "code",
   "execution_count": 44,
   "metadata": {},
   "outputs": [
    {
     "data": {
      "text/plain": [
       "0.5"
      ]
     },
     "execution_count": 44,
     "metadata": {},
     "output_type": "execute_result"
    }
   ],
   "source": [
    "supportF(['Zucker', 'Mehl'])"
   ]
  },
  {
   "cell_type": "code",
   "execution_count": 45,
   "metadata": {},
   "outputs": [
    {
     "data": {
      "text/plain": [
       "0.4"
      ]
     },
     "execution_count": 45,
     "metadata": {},
     "output_type": "execute_result"
    }
   ],
   "source": [
    "supportF(['Zucker', 'Mehl', 'Butter'])"
   ]
  },
  {
   "cell_type": "code",
   "execution_count": 46,
   "metadata": {},
   "outputs": [
    {
     "data": {
      "text/plain": [
       "0.4"
      ]
     },
     "execution_count": 46,
     "metadata": {},
     "output_type": "execute_result"
    }
   ],
   "source": [
    "supportF(['Brot'])"
   ]
  },
  {
   "cell_type": "code",
   "execution_count": 47,
   "metadata": {},
   "outputs": [
    {
     "data": {
      "text/plain": [
       "0.4"
      ]
     },
     "execution_count": 47,
     "metadata": {},
     "output_type": "execute_result"
    }
   ],
   "source": [
    "supportF(['Brot', 'Käse'])"
   ]
  },
  {
   "cell_type": "code",
   "execution_count": 48,
   "metadata": {},
   "outputs": [
    {
     "data": {
      "text/plain": [
       "0.4"
      ]
     },
     "execution_count": 48,
     "metadata": {},
     "output_type": "execute_result"
    }
   ],
   "source": [
    "supportF_regel(['Zucker', 'Mehl'], ['Butter'])"
   ]
  },
  {
   "cell_type": "code",
   "execution_count": 49,
   "metadata": {},
   "outputs": [
    {
     "data": {
      "text/plain": [
       "0.4"
      ]
     },
     "execution_count": 49,
     "metadata": {},
     "output_type": "execute_result"
    }
   ],
   "source": [
    "supportF_regel(['Brot'], ['Käse'])"
   ]
  },
  {
   "cell_type": "code",
   "execution_count": 50,
   "metadata": {},
   "outputs": [
    {
     "data": {
      "text/plain": [
       "0.8"
      ]
     },
     "execution_count": 50,
     "metadata": {},
     "output_type": "execute_result"
    }
   ],
   "source": [
    "conF(['Zucker', 'Mehl'], ['Butter'])"
   ]
  },
  {
   "cell_type": "code",
   "execution_count": 51,
   "metadata": {},
   "outputs": [
    {
     "data": {
      "text/plain": [
       "1.0"
      ]
     },
     "execution_count": 51,
     "metadata": {},
     "output_type": "execute_result"
    }
   ],
   "source": [
    "conF(['Brot'], ['Käse'])"
   ]
  },
  {
   "cell_type": "markdown",
   "metadata": {},
   "source": [
    "Da die Kombinationsmöglichkeiten von Elementen aus $I$ zur Bildung einer Regel sehr hoch sind, muss man bei der Suche nach diesen Regeln etwas geschickter vorgehen. Im Folgenden schauen wir uns mit dem **Apriori-Algorithmus** und dem **FP-Growth-Algorithmus** zwei Algorithmen zum Assoziationsregellernen an.\n",
    "\n",
    "## 3.3.2.  A-Priori-Algorithmus <a name=\"3_3_2\"></a>\n",
    "\n",
    "- Der Apriori-Algorithmus ist der klassische Algorithmus zum Lernen von Assoziationsregeln aus Daten.\n",
    "- Neben dem eigentlichen Datensatz bekommt der Algorithmus noch zwei Parameter:\n",
    "    - Der Parameter $minsupp \\in [0,1]$ (minimal support) gibt an, welchen minimalen Wert $support_F(X \\Rightarrow Y)$ eine gelernte Regel $X \\Rightarrow Y$ haben muss,\n",
    "    - der Parameter $minconf \\in [0,1]$ (minimal confidence) gibt an, welchen minimalen Wert $conf_F(X \\Rightarrow Y)$ haben muss.\n",
    "- Die Ausgabe des Algorithmus besteht dann aus allen Regeln, die diese beiden Bedingungen erfüllen.\n",
    "- Durch Variation von $minsupp$ und $minconf$ kann die Anzahl gelernter Regeln gesteuert werden.\n",
    "\n",
    "\n",
    "Der Apriori-Algorithmus verfährt in zwei Schritten:\n",
    "1. Bestimmung der häufigen Mengen (engl. frequent item sets).\n",
    "2. Berechne solche Regeln $X \\Rightarrow Y$ aus $Z$, sodass $X \\cup Y$ häufig ist und für die $conf_F(X \\Rightarrow Y) \\geq minconf$ gilt.\n",
    "\n",
    "\n",
    "#### Schritt 1. Bestimmung der häufigen Mengen (engl. frequent item sets).\n",
    "\n",
    "   Zunächst werden alle Mengen $X \\subseteq I$ bestimmt, die $support_F(X) \\geq minsupp$ erfüllen.\n",
    "   Notwendigerweise muss dann für alle Regeln $X \\Rightarrow Y$ mit $support_F(X \\Rightarrow Y) \\geq minsupp$ gelten, dass $X \\cup Y = Z$ für solch ein $Z$ gilt.\n",
    "\n",
    "   Um eine stumpfe Auflistung aller Teilmengen und Überprüfung des Supports zu vermeiden, benutzt der Apriori-Algorithmus die folgende Einsicht."
   ]
  },
  {
   "cell_type": "markdown",
   "metadata": {},
   "source": [
    "\n",
    "  **Proposition 1.**\n",
    "  Sei $X \\subseteq I$.\n",
    "  - Wenn $support_F(X) \\geq minsupp$ dann $support_F(X') \\geq minsupp$ für jedes $X'  \\subseteq X$.\n",
    "  - Wenn $support_F(X) < minsupp$ dann $support_F(X') < minsupp$ für jedes $X' \\supseteq X$.\n",
    "\n",
    "  Mit anderen Worten, Teilmengen häufiger Mengen sind häufig und Obermengen nicht-häufiger Mengen sind nicht-häufig.\n",
    "\n",
    "\r\n",
    "1. **Berechnung der ein-elementigen Mengen**: Der Algorithmus betrachtet zunächst alle ein-elementigen Mengen und berechnet deren Suppor *: Nur die Mengen, deren Support größer oder gleich `minsupp` ist, werden weiter berücksichtigt.\r",
    "**: Aus diesen Mengen werden Kandidaten für häufige zwei-elementige Mengen gebildet, indem je zwei verschiedene ein-elementige Mengen vereinigt werden.n**: Alle zwei-elementigen Mengen, deren Support nicht größer oder gleich `minsupp` ist, werden aussortierten**: Aus den häufigen zwei-elementigen Mengen werden Kandidaten für häufige drei-elementige Mengen gebildet, indem Paare von zwei-elementigen Mengen vereinigt werden, die genau ein Element gemeinsam habegen**: Alle drei-elementigen Mengen, bei denen nicht alle zwei-elementigen Teilmengen häufig sind, werden aussortiert. Ebenso werden alle drei-elementigen Mengen aussortiert, deren Support nicht größer oder gleich `minsupp` ist.\r\n",
    "7. **Weiterführung des Prozesses**: Der Algorithmus fährt entsprechend mit der Berechnung häufiger vier-elementiger Mengen fort bis keine weiteren häufigen Mengen gefunden werden.\r\n",
    "\r\n",
    "Dieser Prozess wird iterativ fortgesetzt, bis keine weiteren häufigen Mengen gefunden werden können. Jede Iteration erhöht die Kardinalität der betrachteten Mengen um eins. Der Algorithmus endet, wenn keine weiteren häufigen Mengen gefunden werden können."
   ]
  },
  {
   "cell_type": "markdown",
   "metadata": {},
   "source": [
    "##### Schritt 2. Berechne solche Regeln $X \\Rightarrow Y$ aus $Z$, sodass $X \\cup Y$ häufig ist und für die $conf_F(X \\Rightarrow Y) \\geq minconf$ gilt."
   ]
  },
  {
   "cell_type": "markdown",
   "metadata": {},
   "source": [
    "#### Beispiel 3. Fortsetzung zu Beispiel 2 \n",
    "Wir betrachten `minsupp = 0.4` und `minconf = 0.9`. Wir führen den Apriori-Algorithmus schrittweise aus.\n",
    "1. Wir berechnen zunächst die häufigen ein-elementigen Mengen von Fsupermarket und erhalten:\n",
    "    * $support_{F_{\\text{supermarket}}} (\\{\\text{{Milch}}\\}) = 0.8$\n",
    "    * $support_{F_{\\text{supermarket}}}(\\{\\text{{Käse}}\\}) = 0.5$\n",
    "    * $support_{F_{\\text{supermarket}}}(\\{\\text{{Butter}}\\}) = 0.7$\n",
    "    * $support_{F_{\\text{supermarket}}}(\\{\\text{{Brot}}\\}) = 0.4$\n",
    "    * $support_{F_{\\text{supermarket}}}(\\{\\text{{Kaffee}}\\}) = 0.5$\n",
    "    * $support_{F_{\\text{supermarket}}}(\\{\\text{{Zucker}}\\}) = 0.6$\n",
    "    * $support_{F_{\\text{supermarket}}}(\\{\\text{{Mehl}}\\}) = 0.6$\n",
    "   \n",
    "\n",
    "   Alle ein-elementigen Mengen sind häufig bzgl. minsupp und damit folgt:\n",
    "    * $K1 = \\{\\{\\text{{Milch}}\\},\\{\\text{{Käse}}\\},\\{\\text{{Butter}}\\},\\{\\text{{Brot}}\\},\\{\\text{{Kaffee}}\\},\\{\\text{{Zucker}}\\},\\{\\text{{Mehl}}\\}\\}$"
   ]
  },
  {
   "cell_type": "code",
   "execution_count": 52,
   "metadata": {},
   "outputs": [
    {
     "data": {
      "text/plain": [
       "Index(['Milch', 'Käse', 'Butter', 'Brot', 'Kaffee', 'Zucker', 'Mehl'], dtype='object')"
      ]
     },
     "execution_count": 52,
     "metadata": {},
     "output_type": "execute_result"
    }
   ],
   "source": [
    "minsupp = 0.4\n",
    "minconf = 0.9\n",
    "\n",
    "F_supermarket.columns"
   ]
  },
  {
   "cell_type": "code",
   "execution_count": 77,
   "metadata": {},
   "outputs": [],
   "source": [
    "def get_frequent_items(lst_of_combinations):\n",
    "    df = pd.DataFrame(columns = ['item', 'frequency'])\n",
    "    i = 0\n",
    "\n",
    "    if(isinstance(lst_of_combinations[0], list)):\n",
    "        for e in lst_of_combinations:\n",
    "            temp = supportF(e)\n",
    "            if temp >= 0.4:\n",
    "                df.loc[i,'item'] = e\n",
    "                df.loc[i,'frequency'] = temp\n",
    "                i+=1\n",
    "    else:\n",
    "        for e in lst_of_combinations:\n",
    "            temp = supportF([e])\n",
    "            if temp >= 0.4:\n",
    "                df.loc[i,'item'] = e\n",
    "                df.loc[i,'frequency'] = temp\n",
    "                i+=1\n",
    "    \n",
    "    \n",
    "    return df"
   ]
  },
  {
   "cell_type": "code",
   "execution_count": 152,
   "metadata": {},
   "outputs": [
    {
     "data": {
      "text/html": [
       "<div>\n",
       "<style scoped>\n",
       "    .dataframe tbody tr th:only-of-type {\n",
       "        vertical-align: middle;\n",
       "    }\n",
       "\n",
       "    .dataframe tbody tr th {\n",
       "        vertical-align: top;\n",
       "    }\n",
       "\n",
       "    .dataframe thead th {\n",
       "        text-align: right;\n",
       "    }\n",
       "</style>\n",
       "<table border=\"1\" class=\"dataframe\">\n",
       "  <thead>\n",
       "    <tr style=\"text-align: right;\">\n",
       "      <th></th>\n",
       "      <th>item</th>\n",
       "      <th>frequency</th>\n",
       "    </tr>\n",
       "  </thead>\n",
       "  <tbody>\n",
       "    <tr>\n",
       "      <th>0</th>\n",
       "      <td>Milch</td>\n",
       "      <td>0.8</td>\n",
       "    </tr>\n",
       "    <tr>\n",
       "      <th>1</th>\n",
       "      <td>Käse</td>\n",
       "      <td>0.5</td>\n",
       "    </tr>\n",
       "    <tr>\n",
       "      <th>2</th>\n",
       "      <td>Butter</td>\n",
       "      <td>0.7</td>\n",
       "    </tr>\n",
       "    <tr>\n",
       "      <th>3</th>\n",
       "      <td>Brot</td>\n",
       "      <td>0.4</td>\n",
       "    </tr>\n",
       "    <tr>\n",
       "      <th>4</th>\n",
       "      <td>Kaffee</td>\n",
       "      <td>0.5</td>\n",
       "    </tr>\n",
       "    <tr>\n",
       "      <th>5</th>\n",
       "      <td>Zucker</td>\n",
       "      <td>0.6</td>\n",
       "    </tr>\n",
       "    <tr>\n",
       "      <th>6</th>\n",
       "      <td>Mehl</td>\n",
       "      <td>0.6</td>\n",
       "    </tr>\n",
       "  </tbody>\n",
       "</table>\n",
       "</div>"
      ],
      "text/plain": [
       "     item frequency\n",
       "0   Milch       0.8\n",
       "1    Käse       0.5\n",
       "2  Butter       0.7\n",
       "3    Brot       0.4\n",
       "4  Kaffee       0.5\n",
       "5  Zucker       0.6\n",
       "6    Mehl       0.6"
      ]
     },
     "execution_count": 152,
     "metadata": {},
     "output_type": "execute_result"
    }
   ],
   "source": [
    "df_1_item = get_frequent_items(F_supermarket.columns)\n",
    "df_1_item"
   ]
  },
  {
   "cell_type": "markdown",
   "metadata": {},
   "source": [
    "2. Wir berechnen die häufigen zwei-elementigen Mengen. Dazu kombinieren wir alle Paare von ein-elementigen Mengen aus K1 und erhalten:\n",
    "    * $\\text{{support}}_{F_{\\text{{supermarket}}}}(\\{\\text{{Milch}},\\text{{Käse}}\\}) = 0.4$\n",
    "    * $\\text{{support}}_{F_{\\text{{supermarket}}}}(\\{\\text{{Milch}},\\text{{Butter}}\\}) = 0.6$\n",
    "    * $\\text{{support}}_{F_{\\text{{supermarket}}}}(\\{\\text{{Milch}},\\text{{Brot}}\\}) = 0.3$\n",
    "    * $\\text{{support}}_{F_{\\text{{supermarket}}}}(\\{\\text{{Milch}},\\text{{Kaffee}}\\}) = 0.4$\n",
    "    * $\\text{{support}}_{F_{\\text{{supermarket}}}}(\\{\\text{{Milch}},\\text{{Zucker}}\\}) = 0.5$\n",
    "    * $\\text{{support}}_{F_{\\text{{supermarket}}}}(\\{\\text{{Milch}},\\text{{Mehl}}\\}) = 0.5$\n",
    "    * $\\text{{support}}_{F_{\\text{{supermarket}}}}(\\{\\text{{Käse}},\\text{{Butter}}\\}) = 0.4$\n",
    "    * $\\text{{support}}_{F_{\\text{{supermarket}}}}(\\{\\text{{Käse}},\\text{{Brot}}\\}) = 0.4$\n",
    "    * $\\text{{support}}_{F_{\\text{{supermarket}}}}(\\{\\text{{Käse}},\\text{{Kaffee}}\\}) = 0.3$\n",
    "    * $\\text{{support}}_{F_{\\text{{supermarket}}}}(\\{\\text{{Käse}},\\text{{Zucker}}\\}) = 0.5$\n",
    "    * $\\text{{support}}_{F_{\\text{{supermarket}}}}(\\{\\text{{Käse}},\\text{{Mehl}}\\}) = 0.4$\n",
    "    * $\\text{{support}}_{F_{\\text{{supermarket}}}}(\\{\\text{{Butter}},\\text{{Brot}}\\}) = 0.3$\n",
    "    * $\\text{{support}}_{F_{\\text{{supermarket}}}}(\\{\\text{{Butter}},\\text{{Kaffee}}\\}) = 0.4$\n",
    "    * $\\text{{support}}_{F_{\\text{{supermarket}}}}(\\{\\text{{Butter}},\\text{{Zucker}}\\}) = 0.5$\n",
    "    * $\\text{{support}}_{F_{\\text{{supermarket}}}}(\\{\\text{{Butter}},\\text{{Mehl}}\\}) = 0.4$\n",
    "    * $\\text{{support}}_{F_{\\text{{supermarket}}}}(\\{\\text{{Brot}},\\text{{Kaffee}}\\}) = 0.3$\n",
    "    * $\\text{{support}}_{F_{\\text{{supermarket}}}}(\\{\\text{{Brot}},\\text{{Zucker}}\\}) = 0.4$\n",
    "    * $\\text{{support}}_{F_{\\text{{supermarket}}}}(\\{\\text{{Brot}},\\text{{Mehl}}\\}) = 0.4$\n",
    "    * $\\text{{support}}_{F_{\\text{{supermarket}}}}(\\{\\text{{Kaffee}},\\text{{Zucker}}\\}) = 0.4$\n",
    "    * $\\text{{support}}_{F_{\\text{{supermarket}}}}(\\{\\text{{Kaffee}},\\text{{Mehl}}\\}) = 0.4$\n",
    "    * $\\text{{support}}_{F_{\\text{{supermarket}}}}(\\{\\text{{Zucker}},\\text{{Mehl}}\\}) = 0.5$\n",
    "  \n",
    "\n",
    "3. Beachten Sie, dass für alle zwei-elementigen Mengen oben die Bedingung von Zeile 9 aus Algorithmus 1 stets erfüllt ist. Wir sortieren noch die Mengen mit Support kleiner 0.4 aus und erhalten:\n",
    "    * $$K2 = \\{\\{\\text{{Milch}},\\text{{Käse}}\\},\\{\\text{{Milch}},\\text{{Butter}}\\},\\{\\text{{Milch}},\\text{{Kaffee}}\\},\\{\\text{{Milch}},\\text{{Zucker}}\\},\\{\\text{{Milch}},\\text{{Mehl}}\\},\\{\\text{{Käse}},\\text{{Butter}}\\},\\{\\text{{Käse}},\\text{{Brot}}\\},\\{\\text{{Käse}},\\text{{Zucker}}\\},\\{\\text{{Käse}},\\text{{Mehl}}\\},\\{\\text{{Butter}},\\text{{Kaffee}}\\},\\{\\text{{Butter}},\\text{{Zucker}}\\},\\{\\text{{Butter}},\\text{{Mehl}}\\},\\{\\text{{Brot}},\\text{{Zucker}}\\},\\{\\text{{Brot}},\\text{{Mehl}}\\},\\{\\text{{Kaffee}},\\text{{Zucker}}\\},\\{\\text{{Kaffee}},\\text{{Mehl}}\\},\\{\\text{{Zucker}},\\text{{Mehl}}\\}\\}$$"
   ]
  },
  {
   "cell_type": "code",
   "execution_count": 75,
   "metadata": {},
   "outputs": [],
   "source": [
    "def combinations(lst, n):\n",
    "    if n>2:\n",
    "        # Flatten the list\n",
    "        flat_list = [item for sublist in lst for item in sublist]\n",
    "        \n",
    "        # Get all unique items\n",
    "        unique_items = list(set(flat_list))\n",
    "\n",
    "        list_of_tuples = list(itertools.combinations(unique_items, n))\n",
    "        # Generate all combinations of 3 items\n",
    "        return [list(tup) for tup in list_of_tuples] \n",
    "    else: \n",
    "        combinations = []\n",
    "        for i in range(len(lst)):\n",
    "            for j in range(i+1, len(lst)):\n",
    "            # Append each 2-element combination to the list\n",
    "                combinations.append([lst[i], lst[j]])\n",
    "        return combinations\n"
   ]
  },
  {
   "cell_type": "code",
   "execution_count": 78,
   "metadata": {},
   "outputs": [
    {
     "data": {
      "text/html": [
       "<div>\n",
       "<style scoped>\n",
       "    .dataframe tbody tr th:only-of-type {\n",
       "        vertical-align: middle;\n",
       "    }\n",
       "\n",
       "    .dataframe tbody tr th {\n",
       "        vertical-align: top;\n",
       "    }\n",
       "\n",
       "    .dataframe thead th {\n",
       "        text-align: right;\n",
       "    }\n",
       "</style>\n",
       "<table border=\"1\" class=\"dataframe\">\n",
       "  <thead>\n",
       "    <tr style=\"text-align: right;\">\n",
       "      <th></th>\n",
       "      <th>item</th>\n",
       "      <th>frequency</th>\n",
       "    </tr>\n",
       "  </thead>\n",
       "  <tbody>\n",
       "    <tr>\n",
       "      <th>0</th>\n",
       "      <td>[Milch, Käse]</td>\n",
       "      <td>0.4</td>\n",
       "    </tr>\n",
       "    <tr>\n",
       "      <th>1</th>\n",
       "      <td>[Milch, Butter]</td>\n",
       "      <td>0.6</td>\n",
       "    </tr>\n",
       "    <tr>\n",
       "      <th>2</th>\n",
       "      <td>[Milch, Kaffee]</td>\n",
       "      <td>0.4</td>\n",
       "    </tr>\n",
       "    <tr>\n",
       "      <th>3</th>\n",
       "      <td>[Milch, Zucker]</td>\n",
       "      <td>0.5</td>\n",
       "    </tr>\n",
       "    <tr>\n",
       "      <th>4</th>\n",
       "      <td>[Milch, Mehl]</td>\n",
       "      <td>0.5</td>\n",
       "    </tr>\n",
       "    <tr>\n",
       "      <th>5</th>\n",
       "      <td>[Käse, Butter]</td>\n",
       "      <td>0.4</td>\n",
       "    </tr>\n",
       "    <tr>\n",
       "      <th>6</th>\n",
       "      <td>[Käse, Brot]</td>\n",
       "      <td>0.4</td>\n",
       "    </tr>\n",
       "    <tr>\n",
       "      <th>7</th>\n",
       "      <td>[Käse, Zucker]</td>\n",
       "      <td>0.5</td>\n",
       "    </tr>\n",
       "    <tr>\n",
       "      <th>8</th>\n",
       "      <td>[Käse, Mehl]</td>\n",
       "      <td>0.4</td>\n",
       "    </tr>\n",
       "    <tr>\n",
       "      <th>9</th>\n",
       "      <td>[Butter, Kaffee]</td>\n",
       "      <td>0.4</td>\n",
       "    </tr>\n",
       "    <tr>\n",
       "      <th>10</th>\n",
       "      <td>[Butter, Zucker]</td>\n",
       "      <td>0.5</td>\n",
       "    </tr>\n",
       "    <tr>\n",
       "      <th>11</th>\n",
       "      <td>[Butter, Mehl]</td>\n",
       "      <td>0.4</td>\n",
       "    </tr>\n",
       "    <tr>\n",
       "      <th>12</th>\n",
       "      <td>[Brot, Zucker]</td>\n",
       "      <td>0.4</td>\n",
       "    </tr>\n",
       "    <tr>\n",
       "      <th>13</th>\n",
       "      <td>[Brot, Mehl]</td>\n",
       "      <td>0.4</td>\n",
       "    </tr>\n",
       "    <tr>\n",
       "      <th>14</th>\n",
       "      <td>[Kaffee, Zucker]</td>\n",
       "      <td>0.4</td>\n",
       "    </tr>\n",
       "    <tr>\n",
       "      <th>15</th>\n",
       "      <td>[Kaffee, Mehl]</td>\n",
       "      <td>0.4</td>\n",
       "    </tr>\n",
       "    <tr>\n",
       "      <th>16</th>\n",
       "      <td>[Zucker, Mehl]</td>\n",
       "      <td>0.5</td>\n",
       "    </tr>\n",
       "  </tbody>\n",
       "</table>\n",
       "</div>"
      ],
      "text/plain": [
       "                item frequency\n",
       "0      [Milch, Käse]       0.4\n",
       "1    [Milch, Butter]       0.6\n",
       "2    [Milch, Kaffee]       0.4\n",
       "3    [Milch, Zucker]       0.5\n",
       "4      [Milch, Mehl]       0.5\n",
       "5     [Käse, Butter]       0.4\n",
       "6       [Käse, Brot]       0.4\n",
       "7     [Käse, Zucker]       0.5\n",
       "8       [Käse, Mehl]       0.4\n",
       "9   [Butter, Kaffee]       0.4\n",
       "10  [Butter, Zucker]       0.5\n",
       "11    [Butter, Mehl]       0.4\n",
       "12    [Brot, Zucker]       0.4\n",
       "13      [Brot, Mehl]       0.4\n",
       "14  [Kaffee, Zucker]       0.4\n",
       "15    [Kaffee, Mehl]       0.4\n",
       "16    [Zucker, Mehl]       0.5"
      ]
     },
     "execution_count": 78,
     "metadata": {},
     "output_type": "execute_result"
    }
   ],
   "source": [
    "combis = combinations(df_1_item['item'].tolist(), 2)\n",
    "\n",
    "df_2_item = get_frequent_items(combis)\n",
    "df_2_item"
   ]
  },
  {
   "cell_type": "markdown",
   "metadata": {},
   "source": [
    "Wir berechnen die häufigen drei-elementigen Mengen. Dazu vereinigen wir je zwei zwei-elementige Mengen, die eine drei-elementige Menge erzeugen (d. h., wir vereinigen beispielsweise die Mengen {Milch,Käse} und {Butter,Kaffee} nicht). Wir erhalten zunächst die folgenden Kandidaten:\n",
    "\n",
    "***{Milch,Käse,Butter}, {Milch,Käse,Brot}, {Milch,Käse,Zucker}, {Milch,Käse,Mehl}, {Milch,Butter,Kaffee},{Milch,Butter,Zucker}, {Milch,Butter,Mehl}, {Milch,Kaffee,Zucker}, {Milch,Kaffee,Mehl}, {Milch,Zucker,Mehl}, {Käse,Butter,Kaffee}, {Käse,Butter,Zucker}, {Käse,Butter,Mehl}, {Käse,Brot,Zucker}, {Käse,Brot,Mehl}, {Käse,Zucker,Mehl}, {Butter,Kaffee,Mehl}, {Butter,Zucker,Mehl}, {Brot,Zucker,Mehl}, {Kaffee,Zucker,Mehl}, {Milch,Käse,Kaffee}, {Käse,Butter,Brot}, {Käse,Zucker,Kaffee}, {Butter,Kaffee,Zucker}, {Butter,Zucker,Brot}, {Butter,Zucker,Kaffee}, {Butter,Mehl,Brot}, {Brot,Zucker,Kaffee}, {Brot,Kaffee,Mehl}***\n",
    "\n",
    "Nicht alle obigen Mengen erfüllen die Bedingung von Zeile 9 aus Algorithmus 1, beispielsweise gilt für die Menge {Milch,Käse,Brot}, dass die Teilmenge {Milch,Brot} nicht in K2 enthalten ist. Für die übrigen Mengen berechnen wir...\n"
   ]
  },
  {
   "cell_type": "code",
   "execution_count": 79,
   "metadata": {},
   "outputs": [
    {
     "data": {
      "text/html": [
       "<div>\n",
       "<style scoped>\n",
       "    .dataframe tbody tr th:only-of-type {\n",
       "        vertical-align: middle;\n",
       "    }\n",
       "\n",
       "    .dataframe tbody tr th {\n",
       "        vertical-align: top;\n",
       "    }\n",
       "\n",
       "    .dataframe thead th {\n",
       "        text-align: right;\n",
       "    }\n",
       "</style>\n",
       "<table border=\"1\" class=\"dataframe\">\n",
       "  <thead>\n",
       "    <tr style=\"text-align: right;\">\n",
       "      <th></th>\n",
       "      <th>item</th>\n",
       "      <th>frequency</th>\n",
       "    </tr>\n",
       "  </thead>\n",
       "  <tbody>\n",
       "    <tr>\n",
       "      <th>0</th>\n",
       "      <td>[Käse, Mehl, Brot]</td>\n",
       "      <td>0.4</td>\n",
       "    </tr>\n",
       "    <tr>\n",
       "      <th>1</th>\n",
       "      <td>[Käse, Mehl, Zucker]</td>\n",
       "      <td>0.4</td>\n",
       "    </tr>\n",
       "    <tr>\n",
       "      <th>2</th>\n",
       "      <td>[Käse, Milch, Zucker]</td>\n",
       "      <td>0.4</td>\n",
       "    </tr>\n",
       "    <tr>\n",
       "      <th>3</th>\n",
       "      <td>[Käse, Butter, Zucker]</td>\n",
       "      <td>0.4</td>\n",
       "    </tr>\n",
       "    <tr>\n",
       "      <th>4</th>\n",
       "      <td>[Käse, Brot, Zucker]</td>\n",
       "      <td>0.4</td>\n",
       "    </tr>\n",
       "    <tr>\n",
       "      <th>5</th>\n",
       "      <td>[Mehl, Milch, Zucker]</td>\n",
       "      <td>0.4</td>\n",
       "    </tr>\n",
       "    <tr>\n",
       "      <th>6</th>\n",
       "      <td>[Mehl, Butter, Zucker]</td>\n",
       "      <td>0.4</td>\n",
       "    </tr>\n",
       "    <tr>\n",
       "      <th>7</th>\n",
       "      <td>[Mehl, Kaffee, Zucker]</td>\n",
       "      <td>0.4</td>\n",
       "    </tr>\n",
       "    <tr>\n",
       "      <th>8</th>\n",
       "      <td>[Mehl, Brot, Zucker]</td>\n",
       "      <td>0.4</td>\n",
       "    </tr>\n",
       "    <tr>\n",
       "      <th>9</th>\n",
       "      <td>[Milch, Butter, Zucker]</td>\n",
       "      <td>0.4</td>\n",
       "    </tr>\n",
       "  </tbody>\n",
       "</table>\n",
       "</div>"
      ],
      "text/plain": [
       "                      item frequency\n",
       "0       [Käse, Mehl, Brot]       0.4\n",
       "1     [Käse, Mehl, Zucker]       0.4\n",
       "2    [Käse, Milch, Zucker]       0.4\n",
       "3   [Käse, Butter, Zucker]       0.4\n",
       "4     [Käse, Brot, Zucker]       0.4\n",
       "5    [Mehl, Milch, Zucker]       0.4\n",
       "6   [Mehl, Butter, Zucker]       0.4\n",
       "7   [Mehl, Kaffee, Zucker]       0.4\n",
       "8     [Mehl, Brot, Zucker]       0.4\n",
       "9  [Milch, Butter, Zucker]       0.4"
      ]
     },
     "execution_count": 79,
     "metadata": {},
     "output_type": "execute_result"
    }
   ],
   "source": [
    "combis = combinations(df_2_item['item'].tolist(), 3)\n",
    "df_3_item = get_frequent_items(combis)\n",
    "df_3_item"
   ]
  },
  {
   "cell_type": "markdown",
   "metadata": {},
   "source": [
    "Und damit\n",
    "***K3 = {{Milch,Käse,Zucker},{Milch,Butter,Zucker},{Milch,Zucker,Mehl},\n",
    "{Käse,Butter,Zucker},{Käse,Brot,Zucker},{Käse,Brot,Mehl},{Käse,Zucker,Mehl},\n",
    "{Butter,Zucker,Mehl},{Brot,Zucker,Mehl},{Kaffee,Zucker,Mehl}}***\n",
    "\n",
    "4. Wir berechnen die häufigen vier-elementigen Mengen. Dazu vereinigen wir je zwei drei-elementige Mengen, die eine vier-elementige Menge erzeugen (d. h., wir vereinigen beispielsweise die Mengen {Milch,Käse,Zucker} und ***{Kaffee,Zucker,Mehl} nicht). Wir erhalten zunächst die folgenden Kandidaten:\n",
    "{Milch,Käse,Zucker,Mehl}, {Milch,Käse,Zucker,Butter}, {Milch,Butter,Zucker,Mehl}, {Milch,Käse,Zucker,Brot}, {Milch,Zucker,Mehl,Brot}, {Käse,Butter,Zucker,Mehl}, {Milch,Zucker,Mehl,Kaffee}, {Butter,Zucker,Mehl,Kaffee}, {Brot,Kaffee,Zucker,Mehl}, {Käse,Butter,Zucker,Brot}, {Käse,Brot,Mehl,Zucker}, {Käse,Zucker,Mehl,Kaffee}, {Butter,Zucker,Mehl,Brot}***\n",
    "\n",
    "Von den obigen Mengen erfüllt nur {Käse,Brot,Mehl,Zucker} die Bedingung von Zeile 9 aus Algorithmus 1 und wir erhalten\n",
    "supportFsupermarket({Käse,Brot,Mehl,Zucker}) = 0.4"
   ]
  },
  {
   "cell_type": "code",
   "execution_count": 80,
   "metadata": {},
   "outputs": [
    {
     "data": {
      "text/html": [
       "<div>\n",
       "<style scoped>\n",
       "    .dataframe tbody tr th:only-of-type {\n",
       "        vertical-align: middle;\n",
       "    }\n",
       "\n",
       "    .dataframe tbody tr th {\n",
       "        vertical-align: top;\n",
       "    }\n",
       "\n",
       "    .dataframe thead th {\n",
       "        text-align: right;\n",
       "    }\n",
       "</style>\n",
       "<table border=\"1\" class=\"dataframe\">\n",
       "  <thead>\n",
       "    <tr style=\"text-align: right;\">\n",
       "      <th></th>\n",
       "      <th>item</th>\n",
       "      <th>frequency</th>\n",
       "    </tr>\n",
       "  </thead>\n",
       "  <tbody>\n",
       "    <tr>\n",
       "      <th>0</th>\n",
       "      <td>[Käse, Mehl, Brot, Zucker]</td>\n",
       "      <td>0.4</td>\n",
       "    </tr>\n",
       "  </tbody>\n",
       "</table>\n",
       "</div>"
      ],
      "text/plain": [
       "                         item frequency\n",
       "0  [Käse, Mehl, Brot, Zucker]       0.4"
      ]
     },
     "execution_count": 80,
     "metadata": {},
     "output_type": "execute_result"
    }
   ],
   "source": [
    "combis = combinations(df_2_item['item'].tolist(), 4)\n",
    "df_4_item = get_frequent_items(combis)\n",
    "df_4_item"
   ]
  },
  {
   "cell_type": "code",
   "execution_count": 150,
   "metadata": {},
   "outputs": [
    {
     "data": {
      "text/plain": [
       "['Käse', 'Mehl', 'Brot', 'Zucker']"
      ]
     },
     "execution_count": 150,
     "metadata": {},
     "output_type": "execute_result"
    }
   ],
   "source": [
    "X = df_4_item['item'][0]\n",
    "X"
   ]
  },
  {
   "cell_type": "markdown",
   "metadata": {},
   "source": [
    "und damit\n",
    "\n",
    "***K4 = {{Käse,Brot,Mehl,Zucker}}***\n",
    "\n",
    "5. Da K4 nur ein Element hat, ist K5 = 0/ (wir können keine zwei Elemente aus K4 vereinigen) und damit ist die Bestimmung der häufigsten Mengen abgeschlossen. Die Menge K aller häufigsten Mengen ist damit\n",
    "$$K = K1 \\cup K2 \\cup K3 \\cup K4$$\n",
    "Bzw. die nicht-leere Powerset von `K4`:\n",
    "\n",
    "***{{'Zucker'}, {'Brot'}, {'Mehl'}, {'Käse'}, {'Brot', 'Zucker'}, {'Mehl', 'Zucker'}, {'Mehl', 'Brot'}, {'Käse', 'Zucker'}, {'Käse', 'Brot'}, {'Käse', 'Mehl'}, {'Mehl', 'Brot', 'Zucker'}, {'Käse', 'Brot', 'Zucker'}, {'Käse', 'Mehl', 'Zucker'}, {'Käse', 'Mehl', 'Brot'}}***\n"
   ]
  },
  {
   "cell_type": "code",
   "execution_count": 151,
   "metadata": {},
   "outputs": [
    {
     "name": "stdout",
     "output_type": "stream",
     "text": [
      "[['Zucker'], ['Brot'], ['Mehl'], ['Käse'], ['Brot', 'Zucker'], ['Mehl', 'Zucker'], ['Mehl', 'Brot'], ['Käse', 'Zucker'], ['Käse', 'Brot'], ['Käse', 'Mehl'], ['Mehl', 'Brot', 'Zucker'], ['Käse', 'Brot', 'Zucker'], ['Käse', 'Mehl', 'Zucker'], ['Käse', 'Mehl', 'Brot']]\n"
     ]
    }
   ],
   "source": [
    "def power_set(input_set):\n",
    "    # Base case: an empty set has one subset, the empty set\n",
    "    if len(input_set) == 0:\n",
    "        return [[]]\n",
    "\n",
    "    # Recursive case:\n",
    "    # - take an element from the set\n",
    "    # - find all subsets of the set without this element\n",
    "    # - the power set is the set of subsets without this element plus the set of subsets with this element\n",
    "    subsets = power_set(input_set[1:])\n",
    "    return subsets + [[input_set[0]] + subset for subset in subsets]\n",
    "\n",
    "def power_set_reduced(my_set):\n",
    "    lst = power_set(my_set)\n",
    "    del lst[0]\n",
    "    del lst[-1]\n",
    "    return lst\n",
    "\n",
    "powerset = power_set_reduced(X)\n",
    "powerset.sort(key=len)\n",
    "print(powerset)"
   ]
  },
  {
   "cell_type": "markdown",
   "metadata": {},
   "source": [
    "#### Schritt 2. die Konfidenz aller Regeln mit einer ein-elementigen Konklusion vberechnen.\n",
    "\n",
    "Wir betrachten wir exemplarisch nur die Menge X = {Käse,Brot, \n",
    "Mehl,Zucker}. Wir berechnen zuä¨chst die Konfidenz aller Regeln mit einer ein-elementigen Konklusion, di \r\n",
    "man aus X bilden kan:\n"
   ]
  },
  {
   "cell_type": "code",
   "execution_count": 146,
   "metadata": {},
   "outputs": [
    {
     "name": "stdout",
     "output_type": "stream",
     "text": [
      "['Käse', 'Brot', 'Mehl'] --> ['Zucker'] = 1.0\n",
      "\n",
      "['Mehl', 'Käse', 'Zucker'] --> ['Brot'] = 1.0\n",
      "\n",
      "['Käse', 'Brot', 'Zucker'] --> ['Mehl'] = 1.0\n",
      "\n",
      "['Mehl', 'Brot', 'Zucker'] --> ['Käse'] = 1.0\n",
      "\n",
      "['Käse', 'Mehl'] --> ['Brot', 'Zucker'] = 1.0\n",
      "\n",
      "['Käse', 'Brot'] --> ['Mehl', 'Zucker'] = 1.0\n",
      "\n",
      "['Käse', 'Zucker'] --> ['Mehl', 'Brot'] = 0.8\n",
      "\n",
      "['Mehl', 'Brot'] --> ['Käse', 'Zucker'] = 1.0\n",
      "\n",
      "['Mehl', 'Zucker'] --> ['Käse', 'Brot'] = 0.8\n",
      "\n",
      "['Brot', 'Zucker'] --> ['Käse', 'Mehl'] = 1.0\n",
      "\n",
      "['Käse'] --> ['Mehl', 'Brot', 'Zucker'] = 0.8\n",
      "\n",
      "['Mehl'] --> ['Käse', 'Brot', 'Zucker'] = 0.6666666666666667\n",
      "\n",
      "['Brot'] --> ['Käse', 'Mehl', 'Zucker'] = 1.0\n",
      "\n",
      "['Zucker'] --> ['Käse', 'Mehl', 'Brot'] = 0.6666666666666667\n",
      "\n"
     ]
    }
   ],
   "source": [
    "# Convert X to a set for faster operations\n",
    "X_set = set(X)\n",
    "\n",
    "# Generate association rules\n",
    "association_rules = []\n",
    "for p in powerset:\n",
    "    temp = conF(X, p)\n",
    "    if temp >= minconf:\n",
    "        association_rules.append((list(X_set - set(p)), p))\n",
    "\n",
    "# Print the association rules\n",
    "for rule in association_rules:\n",
    "    print(f\"{rule[0]} --> {rule[1]} = {conF(rule[0], rule[1])}\")\n",
    "    print()"
   ]
  },
  {
   "cell_type": "markdown",
   "metadata": {},
   "source": [
    "Für alle vier Regeln ist die Konfidenz größer oder gleich minconf = 0.9, also gilt\n",
    "\n",
    "***R1 = {({Brot,Mehl,Zucker} ⇒ {Käse},{Käse,Mehl,Zucker} ⇒ {Brot},{Käse,Brot,Zucker} ⇒ {Mehl},\n",
    "{Käse,Brot,Mehl} ⇒ {Zucker}}***\n",
    "\n",
    "***R2 = {{Brot,Mehl} ⇒ {Käse,Zucker},{Brot,Käse} ⇒ {Mehl,Zucker},\n",
    "{Brot,Zucker} ⇒ {Käse,Mehl},{Käse,Mehl} ⇒ {Zucker,Brot}}***\n",
    "\n",
    "***R3 = {{Brot} ⇒ {Käse,Zucker,Mehl}}***\n",
    "\n",
    "9. Da R3 nur ein Element hat, ist R4 = 0/ und damit ist die Bestimmung der Regeln für X abgeschlossen. Eine weiterführende Ausführung des Algorithmus findet insgesamt 29 Assoziationsregeln für minsupp = 0.4 und minconf = 0.9\n",
    "\n"
   ]
  },
  {
   "cell_type": "markdown",
   "metadata": {},
   "source": [
    "## 3.3.3.  Der FP-Growth-Algorithmus <a name=\"3_3_3\"></a>\n",
    "\n",
    "Eine Frequent pattern set $I_f$ beinhaltet alle Elemente `>= minsupp`"
   ]
  },
  {
   "cell_type": "markdown",
   "metadata": {},
   "source": [
    "#### Beispiel 4. \n",
    "Wir betrachten wieder $F_{supermarket} = \\{t_1,...,t_{10}\\}$ aus Beispiel 1 und nehmen wieder `minsupp = 0.4` an, d. h., $minsupp_{abs} = 4$. Wir bestimmen zunächst den Support aller ein-elementigen Mengen (siehe auch Beispiel 2):"
   ]
  },
  {
   "cell_type": "code",
   "execution_count": 159,
   "metadata": {},
   "outputs": [
    {
     "name": "stdout",
     "output_type": "stream",
     "text": [
      "   Milch  Käse  Butter  Brot  Kaffee  Zucker  Mehl\n",
      "0      1     1       1     1       0       1     1\n",
      "1      0     1       1     1       1       1     1\n",
      "2      1     0       1     0       1       1     1\n",
      "3      1     0       1     0       0       0     0\n",
      "4      1     0       1     0       1       0     0\n",
      "5      1     0       0     0       0       0     1\n",
      "6      1     1       1     1       1       1     1\n",
      "7      0     0       0     0       0       0     0\n",
      "8      1     1       1     0       0       1     0\n",
      "9      1     1       0     1       1       1     1\n"
     ]
    }
   ],
   "source": [
    "import pandas as pd\n",
    "\n",
    "# Erstellen des DataFrames\n",
    "F_supermarket = pd.DataFrame({\n",
    "    'Milch': [1, 0, 1, 1, 1, 1, 1, 0, 1, 1],\n",
    "    'Käse': [1, 1, 0, 0, 0, 0, 1, 0, 1, 1],\n",
    "    'Butter': [1, 1, 1, 1, 1, 0, 1, 0, 1, 0],\n",
    "    'Brot': [1, 1, 0, 0, 0, 0, 1, 0, 0, 1],\n",
    "    'Kaffee': [0, 1, 1, 0, 1, 0, 1, 0, 0, 1],\n",
    "    'Zucker': [1, 1, 1, 0, 0, 0, 1, 0, 1, 1],\n",
    "    'Mehl': [1, 1, 1, 0, 0, 1, 1, 0, 0, 1]\n",
    "})\n",
    "\n",
    "# Ausgabe des DataFrames\n",
    "print(F_supermarket)\n"
   ]
  },
  {
   "cell_type": "code",
   "execution_count": 161,
   "metadata": {},
   "outputs": [
    {
     "data": {
      "text/html": [
       "<div>\n",
       "<style scoped>\n",
       "    .dataframe tbody tr th:only-of-type {\n",
       "        vertical-align: middle;\n",
       "    }\n",
       "\n",
       "    .dataframe tbody tr th {\n",
       "        vertical-align: top;\n",
       "    }\n",
       "\n",
       "    .dataframe thead th {\n",
       "        text-align: right;\n",
       "    }\n",
       "</style>\n",
       "<table border=\"1\" class=\"dataframe\">\n",
       "  <thead>\n",
       "    <tr style=\"text-align: right;\">\n",
       "      <th></th>\n",
       "      <th>items</th>\n",
       "    </tr>\n",
       "  </thead>\n",
       "  <tbody>\n",
       "    <tr>\n",
       "      <th>0</th>\n",
       "      <td>[Milch, Käse, Butter, Brot, Zucker, Mehl]</td>\n",
       "    </tr>\n",
       "    <tr>\n",
       "      <th>1</th>\n",
       "      <td>[Käse, Butter, Brot, Kaffee, Zucker, Mehl]</td>\n",
       "    </tr>\n",
       "    <tr>\n",
       "      <th>2</th>\n",
       "      <td>[Milch, Butter, Kaffee, Zucker, Mehl]</td>\n",
       "    </tr>\n",
       "    <tr>\n",
       "      <th>3</th>\n",
       "      <td>[Milch, Butter]</td>\n",
       "    </tr>\n",
       "    <tr>\n",
       "      <th>4</th>\n",
       "      <td>[Milch, Butter, Kaffee]</td>\n",
       "    </tr>\n",
       "    <tr>\n",
       "      <th>5</th>\n",
       "      <td>[Milch, Mehl]</td>\n",
       "    </tr>\n",
       "    <tr>\n",
       "      <th>6</th>\n",
       "      <td>[Milch, Käse, Butter, Brot, Kaffee, Zucker, Mehl]</td>\n",
       "    </tr>\n",
       "    <tr>\n",
       "      <th>7</th>\n",
       "      <td>[]</td>\n",
       "    </tr>\n",
       "    <tr>\n",
       "      <th>8</th>\n",
       "      <td>[Milch, Käse, Butter, Zucker]</td>\n",
       "    </tr>\n",
       "    <tr>\n",
       "      <th>9</th>\n",
       "      <td>[Milch, Käse, Brot, Kaffee, Zucker, Mehl]</td>\n",
       "    </tr>\n",
       "  </tbody>\n",
       "</table>\n",
       "</div>"
      ],
      "text/plain": [
       "                                               items\n",
       "0          [Milch, Käse, Butter, Brot, Zucker, Mehl]\n",
       "1         [Käse, Butter, Brot, Kaffee, Zucker, Mehl]\n",
       "2              [Milch, Butter, Kaffee, Zucker, Mehl]\n",
       "3                                    [Milch, Butter]\n",
       "4                            [Milch, Butter, Kaffee]\n",
       "5                                      [Milch, Mehl]\n",
       "6  [Milch, Käse, Butter, Brot, Kaffee, Zucker, Mehl]\n",
       "7                                                 []\n",
       "8                      [Milch, Käse, Butter, Zucker]\n",
       "9          [Milch, Käse, Brot, Kaffee, Zucker, Mehl]"
      ]
     },
     "execution_count": 161,
     "metadata": {},
     "output_type": "execute_result"
    }
   ],
   "source": [
    "# Erstellen des neuen DataFrames\n",
    "transactions = pd.DataFrame({\n",
    "    'items': [row[row == 1].index.tolist() for _, row in F_supermarket.iterrows()]\n",
    "})\n",
    "\n",
    "# Ausgabe des neuen DataFrames\n",
    "transactions"
   ]
  },
  {
   "cell_type": "code",
   "execution_count": 162,
   "metadata": {},
   "outputs": [
    {
     "data": {
      "text/html": [
       "<div>\n",
       "<style scoped>\n",
       "    .dataframe tbody tr th:only-of-type {\n",
       "        vertical-align: middle;\n",
       "    }\n",
       "\n",
       "    .dataframe tbody tr th {\n",
       "        vertical-align: top;\n",
       "    }\n",
       "\n",
       "    .dataframe thead th {\n",
       "        text-align: right;\n",
       "    }\n",
       "</style>\n",
       "<table border=\"1\" class=\"dataframe\">\n",
       "  <thead>\n",
       "    <tr style=\"text-align: right;\">\n",
       "      <th></th>\n",
       "      <th>item</th>\n",
       "      <th>frequency</th>\n",
       "    </tr>\n",
       "  </thead>\n",
       "  <tbody>\n",
       "    <tr>\n",
       "      <th>0</th>\n",
       "      <td>Milch</td>\n",
       "      <td>0.8</td>\n",
       "    </tr>\n",
       "    <tr>\n",
       "      <th>2</th>\n",
       "      <td>Butter</td>\n",
       "      <td>0.7</td>\n",
       "    </tr>\n",
       "    <tr>\n",
       "      <th>5</th>\n",
       "      <td>Zucker</td>\n",
       "      <td>0.6</td>\n",
       "    </tr>\n",
       "    <tr>\n",
       "      <th>6</th>\n",
       "      <td>Mehl</td>\n",
       "      <td>0.6</td>\n",
       "    </tr>\n",
       "    <tr>\n",
       "      <th>1</th>\n",
       "      <td>Käse</td>\n",
       "      <td>0.5</td>\n",
       "    </tr>\n",
       "    <tr>\n",
       "      <th>4</th>\n",
       "      <td>Kaffee</td>\n",
       "      <td>0.5</td>\n",
       "    </tr>\n",
       "    <tr>\n",
       "      <th>3</th>\n",
       "      <td>Brot</td>\n",
       "      <td>0.4</td>\n",
       "    </tr>\n",
       "  </tbody>\n",
       "</table>\n",
       "</div>"
      ],
      "text/plain": [
       "     item frequency\n",
       "0   Milch       0.8\n",
       "2  Butter       0.7\n",
       "5  Zucker       0.6\n",
       "6    Mehl       0.6\n",
       "1    Käse       0.5\n",
       "4  Kaffee       0.5\n",
       "3    Brot       0.4"
      ]
     },
     "execution_count": 162,
     "metadata": {},
     "output_type": "execute_result"
    }
   ],
   "source": [
    "frequency = get_frequent_items(F_supermarket.columns)\n",
    "frequency = frequency.sort_values(by='frequency', ascending=False)\n",
    "frequency"
   ]
  },
  {
   "cell_type": "code",
   "execution_count": 165,
   "metadata": {},
   "outputs": [
    {
     "data": {
      "text/plain": [
       "['Milch', 'Butter', 'Zucker', 'Mehl', 'Käse', 'Kaffee', 'Brot']"
      ]
     },
     "execution_count": 165,
     "metadata": {},
     "output_type": "execute_result"
    }
   ],
   "source": [
    "I_f = frequency['item'].tolist()\n",
    "I_f"
   ]
  },
  {
   "cell_type": "markdown",
   "metadata": {},
   "source": [
    "Damit sind alle ein-elementigen Mengen häufig. Aufgrund der Support-Werte definieren wir die Ordnung (Frequent pattern set)\n",
    "$$I_f = (Milch, Butter, Zucker, Mehl, Kaffee, Käse, Brot)$$"
   ]
  },
  {
   "cell_type": "markdown",
   "metadata": {},
   "source": [
    "(Ordered Item set)\n",
    "Damit gilt für die Transaktionen aus Tabelle 1:\n",
    "- $t_1^f$ = (Milch,Butter,Zucker,Mehl,Käse,Brot)\n",
    "- $t_2^f$ = (Butter,Zucker,Mehl,Kaffee,Käse,Brot)\n",
    "- $t_3^f$ = (Milch,Butter,Zucker,Mehl,Kaffee)\n",
    "- $t_4^f$ = (Milch,Butter)\n",
    "- $t_5^f$ = (Milch,Butter,Kaffee)\n",
    "- $t_6^f$ = (Milch,Mehl)\n",
    "- $t_7^f$ = (Milch,Butter,Zucker,Mehl,Kaffee,Käse,Brot)\n",
    "- $t_8^f$ = ()\n",
    "- $t_9^f$ = (Milch,Zucker,Mehl,Kaffee,Käse,Brot)\n",
    "- $t_{10}^f$ = (Milch,Zucker,Mehl,Kaffee,Käse,Brot)\n"
   ]
  },
  {
   "cell_type": "code",
   "execution_count": 169,
   "metadata": {},
   "outputs": [
    {
     "data": {
      "text/html": [
       "<div>\n",
       "<style scoped>\n",
       "    .dataframe tbody tr th:only-of-type {\n",
       "        vertical-align: middle;\n",
       "    }\n",
       "\n",
       "    .dataframe tbody tr th {\n",
       "        vertical-align: top;\n",
       "    }\n",
       "\n",
       "    .dataframe thead th {\n",
       "        text-align: right;\n",
       "    }\n",
       "</style>\n",
       "<table border=\"1\" class=\"dataframe\">\n",
       "  <thead>\n",
       "    <tr style=\"text-align: right;\">\n",
       "      <th></th>\n",
       "      <th>items</th>\n",
       "      <th>ordered</th>\n",
       "    </tr>\n",
       "  </thead>\n",
       "  <tbody>\n",
       "    <tr>\n",
       "      <th>0</th>\n",
       "      <td>[Milch, Käse, Butter, Brot, Zucker, Mehl]</td>\n",
       "      <td>[Milch, Butter, Zucker, Mehl, Käse, Brot]</td>\n",
       "    </tr>\n",
       "    <tr>\n",
       "      <th>1</th>\n",
       "      <td>[Käse, Butter, Brot, Kaffee, Zucker, Mehl]</td>\n",
       "      <td>[Butter, Zucker, Mehl, Käse, Kaffee, Brot]</td>\n",
       "    </tr>\n",
       "    <tr>\n",
       "      <th>2</th>\n",
       "      <td>[Milch, Butter, Kaffee, Zucker, Mehl]</td>\n",
       "      <td>[Milch, Butter, Zucker, Mehl, Kaffee]</td>\n",
       "    </tr>\n",
       "    <tr>\n",
       "      <th>3</th>\n",
       "      <td>[Milch, Butter]</td>\n",
       "      <td>[Milch, Butter]</td>\n",
       "    </tr>\n",
       "    <tr>\n",
       "      <th>4</th>\n",
       "      <td>[Milch, Butter, Kaffee]</td>\n",
       "      <td>[Milch, Butter, Kaffee]</td>\n",
       "    </tr>\n",
       "    <tr>\n",
       "      <th>5</th>\n",
       "      <td>[Milch, Mehl]</td>\n",
       "      <td>[Milch, Mehl]</td>\n",
       "    </tr>\n",
       "    <tr>\n",
       "      <th>6</th>\n",
       "      <td>[Milch, Käse, Butter, Brot, Kaffee, Zucker, Mehl]</td>\n",
       "      <td>[Milch, Butter, Zucker, Mehl, Käse, Kaffee, Brot]</td>\n",
       "    </tr>\n",
       "    <tr>\n",
       "      <th>7</th>\n",
       "      <td>[]</td>\n",
       "      <td>[]</td>\n",
       "    </tr>\n",
       "    <tr>\n",
       "      <th>8</th>\n",
       "      <td>[Milch, Käse, Butter, Zucker]</td>\n",
       "      <td>[Milch, Butter, Zucker, Käse]</td>\n",
       "    </tr>\n",
       "    <tr>\n",
       "      <th>9</th>\n",
       "      <td>[Milch, Käse, Brot, Kaffee, Zucker, Mehl]</td>\n",
       "      <td>[Milch, Zucker, Mehl, Käse, Kaffee, Brot]</td>\n",
       "    </tr>\n",
       "  </tbody>\n",
       "</table>\n",
       "</div>"
      ],
      "text/plain": [
       "                                               items  \\\n",
       "0          [Milch, Käse, Butter, Brot, Zucker, Mehl]   \n",
       "1         [Käse, Butter, Brot, Kaffee, Zucker, Mehl]   \n",
       "2              [Milch, Butter, Kaffee, Zucker, Mehl]   \n",
       "3                                    [Milch, Butter]   \n",
       "4                            [Milch, Butter, Kaffee]   \n",
       "5                                      [Milch, Mehl]   \n",
       "6  [Milch, Käse, Butter, Brot, Kaffee, Zucker, Mehl]   \n",
       "7                                                 []   \n",
       "8                      [Milch, Käse, Butter, Zucker]   \n",
       "9          [Milch, Käse, Brot, Kaffee, Zucker, Mehl]   \n",
       "\n",
       "                                             ordered  \n",
       "0          [Milch, Butter, Zucker, Mehl, Käse, Brot]  \n",
       "1         [Butter, Zucker, Mehl, Käse, Kaffee, Brot]  \n",
       "2              [Milch, Butter, Zucker, Mehl, Kaffee]  \n",
       "3                                    [Milch, Butter]  \n",
       "4                            [Milch, Butter, Kaffee]  \n",
       "5                                      [Milch, Mehl]  \n",
       "6  [Milch, Butter, Zucker, Mehl, Käse, Kaffee, Brot]  \n",
       "7                                                 []  \n",
       "8                      [Milch, Butter, Zucker, Käse]  \n",
       "9          [Milch, Zucker, Mehl, Käse, Kaffee, Brot]  "
      ]
     },
     "execution_count": 169,
     "metadata": {},
     "output_type": "execute_result"
    }
   ],
   "source": [
    "# Erstellen Sie ein Wörterbuch, das jedem Element in 'I' seine Frequenz zuordnet\n",
    "frequency_dict = frequency.set_index('item')['frequency'].to_dict()\n",
    "\n",
    "# Definieren Sie eine Funktion, die die Elemente in 'items' mit den Elementen in 'I' vergleicht,\n",
    "# die Schnittmenge berechnet, die Elemente basierend auf ihrer Frequenz sortiert und das Ergebnis zurückgibt\n",
    "def order_items(items):\n",
    "    intersected_items = [item for item in items if item in I_f]\n",
    "    return sorted(intersected_items, key=lambda item: frequency_dict[item], reverse=True)\n",
    "\n",
    "# Wenden Sie die Funktion auf jede Zeile in der Spalte 'items' an und speichern Sie das Ergebnis in einer neuen Spalte 'ordered'\n",
    "transactions['ordered'] = transactions['items'].apply(order_items)\n",
    "\n",
    "# Ausgabe des aktualisierten DataFrame 'transactions'\n",
    "transactions"
   ]
  },
  {
   "cell_type": "markdown",
   "metadata": {},
   "source": [
    "![fp-baum](.\\dataset\\fp-baum.PNG)"
   ]
  },
  {
   "cell_type": "markdown",
   "metadata": {},
   "source": [
    "Conditional pattern base\n",
    "\n",
    "Ein nach Algorithmus 3 konstruierter FP-Baum enthält kompakt alle Information über das Auftreten häufiger Elemente und mit welchen anderen häufigeren Elementen diese häufig auftreten. Diese Information ist in den Pfaden von den jeweiligen Elementen bis zur Wurzel enthalten. Schauen wir uns den FP-Baum in Abbildung 2 noch einmal an und betrachten das Element \"Mehl\". Insgesamt gibt es vier Knoten in dem Baum für das Element \"Mehl\" und die zugehörigen Pfade (ohne die Wurzel) sind\n",
    "\n",
    "- $P_1 = (\\text{{Mehl}} : 1,\\text{{Milch}} : 8)$\n",
    "- $P_2 = (\\text{{Mehl}} : 1,\\text{{Zucker}} : 1,\\text{{Milch}} : 8)$\n",
    "- $P_3 = (\\text{{Mehl}} : 3,\\text{{Zucker}} : 4,\\text{{Butter}} : 6,\\text{{Milch}} : 8)$\n",
    "- $P_4 = (\\text{{Mehl}} : 1,\\text{{Zucker}} : 1,\\text{{Butter}} : 1)$\n",
    "\n"
   ]
  },
  {
   "cell_type": "markdown",
   "metadata": {},
   "source": [
    "Aus diesen Pfaden kann man ablesen, dass \"Mehl\" 1-mal in Kombination mit \"Milch\" auftritt , 1-mal mit \"Zucker\" und \"Milch\", 3-mal mit \"Zucker\", \"Butter\" und \"Milch\" und 1-mal mit \"Zucker\" und \"Butter\".\n",
    "\n",
    ">(beachten Sie, dass für diese Beobachtung nur die Frequenz des betrachteten Elements von Relevanz ist, nicht die Frequenz der anderen Knoten)\n",
    "\n",
    "Betrachten wir nun den folgenden Datensatz $F'_{\\text{{supermarket}}}$:\n",
    "$F'_{\\text{{supermarket}}} = \\{\\{\\text{{Milch}}\\},\n",
    "\\{\\text{{Zucker,Milch}}\\},\\{\\text{{Zucker,Butter,Milch}}\\},\\{\\text{{Zucker,Butter,Milch}}\\},\\{\\text{{Zucker,Butter,Milch}}\\},\\{\\text{{Zucker,Butter}}\\}\\}$\n"
   ]
  },
  {
   "cell_type": "markdown",
   "metadata": {},
   "source": [
    "$F'_{\\text{{supermarket}}}$ enthält genau die in $F_{\\text{{supermarket}}}$ enthaltenen Informationen zu häufigen Elementen, die mit \"Mehl\" zusammen vorkommen und vor \"Mehl\" in $I_f$ einsortiert sind. Insbesondere gilt:\n",
    "- $M \\subseteq \\{\\text{{Milch}},\\text{{Butter}},\\text{{Zucker}},\\text{{Mehl}}\\}$ ist eine häufige Menge in $F_{\\text{{supermarket}}}$ mit \"Mehl\" $\\in M$ (bzgl. minsuppabs)\n",
    "- gdw. $M \\setminus \\{\\text{{Mehl}}\\}$ eine häufige Menge in $F'_{\\text{{supermarket}}}$ ist (bzgl. minsuppabs).\n",
    "\n",
    "Die obige Einsicht erlaubt es, zur Bestimmung aller häufigen Mengen $M \\subseteq \\{\\text{{Milch}},\\text{{Butter}},\\text{{Zucker}},\\text{{Mehl}}\\}$ mit \"Mehl\" $\\in M$ einfach die häufigen Mengen von $F'_{\\text{{supermarket}}}$ zu bestimmen und \"Mehl\" hinzuzufügen. Hierzu kann man dann den (noch zu konkretisierenden) FP-Growth-Algorithmus rekursiv aufrufen. Den Datensatz $F'_{\\text{{supermarket}}}$ nennt man auch den zu \"Mehl\" konditionierten Datensatz und dieser ist allgemein wie folgt definiert.\n"
   ]
  },
  {
   "cell_type": "code",
   "execution_count": 172,
   "metadata": {},
   "outputs": [
    {
     "data": {
      "text/html": [
       "<div>\n",
       "<style scoped>\n",
       "    .dataframe tbody tr th:only-of-type {\n",
       "        vertical-align: middle;\n",
       "    }\n",
       "\n",
       "    .dataframe tbody tr th {\n",
       "        vertical-align: top;\n",
       "    }\n",
       "\n",
       "    .dataframe thead th {\n",
       "        text-align: right;\n",
       "    }\n",
       "</style>\n",
       "<table border=\"1\" class=\"dataframe\">\n",
       "  <thead>\n",
       "    <tr style=\"text-align: right;\">\n",
       "      <th></th>\n",
       "      <th>item</th>\n",
       "    </tr>\n",
       "  </thead>\n",
       "  <tbody>\n",
       "    <tr>\n",
       "      <th>0</th>\n",
       "      <td>Milch</td>\n",
       "    </tr>\n",
       "    <tr>\n",
       "      <th>2</th>\n",
       "      <td>Butter</td>\n",
       "    </tr>\n",
       "    <tr>\n",
       "      <th>5</th>\n",
       "      <td>Zucker</td>\n",
       "    </tr>\n",
       "    <tr>\n",
       "      <th>6</th>\n",
       "      <td>Mehl</td>\n",
       "    </tr>\n",
       "    <tr>\n",
       "      <th>1</th>\n",
       "      <td>Käse</td>\n",
       "    </tr>\n",
       "    <tr>\n",
       "      <th>4</th>\n",
       "      <td>Kaffee</td>\n",
       "    </tr>\n",
       "    <tr>\n",
       "      <th>3</th>\n",
       "      <td>Brot</td>\n",
       "    </tr>\n",
       "  </tbody>\n",
       "</table>\n",
       "</div>"
      ],
      "text/plain": [
       "     item\n",
       "0   Milch\n",
       "2  Butter\n",
       "5  Zucker\n",
       "6    Mehl\n",
       "1    Käse\n",
       "4  Kaffee\n",
       "3    Brot"
      ]
     },
     "execution_count": 172,
     "metadata": {},
     "output_type": "execute_result"
    }
   ],
   "source": [
    "conditional_df = frequency.drop('frequency', axis=1)\n",
    "conditional_df"
   ]
  },
  {
   "cell_type": "code",
   "execution_count": 180,
   "metadata": {},
   "outputs": [
    {
     "data": {
      "text/html": [
       "<div>\n",
       "<style scoped>\n",
       "    .dataframe tbody tr th:only-of-type {\n",
       "        vertical-align: middle;\n",
       "    }\n",
       "\n",
       "    .dataframe tbody tr th {\n",
       "        vertical-align: top;\n",
       "    }\n",
       "\n",
       "    .dataframe thead th {\n",
       "        text-align: right;\n",
       "    }\n",
       "</style>\n",
       "<table border=\"1\" class=\"dataframe\">\n",
       "  <thead>\n",
       "    <tr style=\"text-align: right;\">\n",
       "      <th></th>\n",
       "      <th>item</th>\n",
       "      <th>CP-base</th>\n",
       "    </tr>\n",
       "  </thead>\n",
       "  <tbody>\n",
       "    <tr>\n",
       "      <th>0</th>\n",
       "      <td>Milch</td>\n",
       "      <td>[([], 8)]</td>\n",
       "    </tr>\n",
       "    <tr>\n",
       "      <th>2</th>\n",
       "      <td>Butter</td>\n",
       "      <td>[([], 1), ([Milch], 6)]</td>\n",
       "    </tr>\n",
       "    <tr>\n",
       "      <th>5</th>\n",
       "      <td>Zucker</td>\n",
       "      <td>[([Butter], 1), ([Milch, Butter], 4), ([Milch]...</td>\n",
       "    </tr>\n",
       "    <tr>\n",
       "      <th>6</th>\n",
       "      <td>Mehl</td>\n",
       "      <td>[([Milch], 1), ([Milch, Zucker], 1), ([Milch, ...</td>\n",
       "    </tr>\n",
       "    <tr>\n",
       "      <th>1</th>\n",
       "      <td>Käse</td>\n",
       "      <td>[([Butter, Zucker, Mehl, Kaffee], 1), ([Milch,...</td>\n",
       "    </tr>\n",
       "    <tr>\n",
       "      <th>4</th>\n",
       "      <td>Kaffee</td>\n",
       "      <td>[([Butter, Zucker, Mehl], 1), ([Milch, Butter]...</td>\n",
       "    </tr>\n",
       "    <tr>\n",
       "      <th>3</th>\n",
       "      <td>Brot</td>\n",
       "      <td>[([Butter, Zucker, Mehl, Kaffee, Käse], 1), ([...</td>\n",
       "    </tr>\n",
       "  </tbody>\n",
       "</table>\n",
       "</div>"
      ],
      "text/plain": [
       "     item                                            CP-base\n",
       "0   Milch                                          [([], 8)]\n",
       "2  Butter                            [([], 1), ([Milch], 6)]\n",
       "5  Zucker  [([Butter], 1), ([Milch, Butter], 4), ([Milch]...\n",
       "6    Mehl  [([Milch], 1), ([Milch, Zucker], 1), ([Milch, ...\n",
       "1    Käse  [([Butter, Zucker, Mehl, Kaffee], 1), ([Milch,...\n",
       "4  Kaffee  [([Butter, Zucker, Mehl], 1), ([Milch, Butter]...\n",
       "3    Brot  [([Butter, Zucker, Mehl, Kaffee, Käse], 1), ([..."
      ]
     },
     "execution_count": 180,
     "metadata": {},
     "output_type": "execute_result"
    }
   ],
   "source": [
    "conditional_df['CP-base'] = None\n",
    "conditional_df['CP-base'][0] = [([], 8)]\n",
    "conditional_df['CP-base'][1] = [(['Butter','Zucker','Mehl','Kaffee'], 1),\n",
    "                                   (['Milch','Butter','Zucker','Mehl','Käse'], 1),\n",
    "                                  (['Milch','Butter','Zucker','Käse'], 1),\n",
    "                                  (['Milch','Zucker','Mehl','Kaffee'], 1)]\n",
    "conditional_df['CP-base'][2] = [([], 1), (['Milch'], 6)]\n",
    "conditional_df['CP-base'][3] = [(['Butter','Zucker','Mehl','Kaffee', 'Käse'], 1), \n",
    "                                (['Milch', 'Butter','Zucker','Mehl','Kaffee', 'Käse'], 1), \n",
    "                                (['Milch','Butter','Zucker','Mehl', 'Käse'], 1),\n",
    "                               (['Milch','Zucker','Mehl','Kaffee', 'Käse'], 1)]\n",
    "conditional_df['CP-base'][4] = [(['Butter','Zucker','Mehl'], 1),\n",
    "                               (['Milch', 'Butter'], 1),\n",
    "                               (['Milch', 'Butter','Zucker','Mehl'], 2),\n",
    "                               (['Milch','Zucker','Mehl'], 1)]\n",
    "conditional_df['CP-base'][5] = [(['Butter'], 1),\n",
    "                               (['Milch', 'Butter'], 4),\n",
    "                               (['Milch'], 1)]\n",
    "conditional_df['CP-base'][6] = [(['Milch'], 1),\n",
    "                               (['Milch','Zucker'], 1),\n",
    "                               (['Milch', 'Butter','Zucker'], 3),\n",
    "                               (['Butter','Zucker'], 1)]\n",
    "\n",
    "conditional_df"
   ]
  },
  {
   "cell_type": "code",
   "execution_count": null,
   "metadata": {},
   "outputs": [],
   "source": []
  }
 ],
 "metadata": {
  "kernelspec": {
   "display_name": "Python 3 (ipykernel)",
   "language": "python",
   "name": "python3"
  },
  "language_info": {
   "codemirror_mode": {
    "name": "ipython",
    "version": 3
   },
   "file_extension": ".py",
   "mimetype": "text/x-python",
   "name": "python",
   "nbconvert_exporter": "python",
   "pygments_lexer": "ipython3",
   "version": "3.11.3"
  }
 },
 "nbformat": 4,
 "nbformat_minor": 4
}
