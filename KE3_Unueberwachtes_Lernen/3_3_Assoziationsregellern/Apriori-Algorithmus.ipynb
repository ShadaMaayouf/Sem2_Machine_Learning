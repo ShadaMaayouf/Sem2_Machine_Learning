{
 "cells": [
  {
   "cell_type": "markdown",
   "id": "46d3590e-a7fd-4128-8fc7-de2f89d23097",
   "metadata": {},
   "source": [
    "## Prep"
   ]
  },
  {
   "cell_type": "code",
   "execution_count": 2,
   "id": "3ca2f680-a7c1-4d07-86e3-e92403d8a1e0",
   "metadata": {},
   "outputs": [],
   "source": [
    "import pandas as pd\n",
    "import numpy as np\n",
    "import matplotlib.pyplot as plt\n",
    "import itertools"
   ]
  },
  {
   "cell_type": "code",
   "execution_count": 3,
   "id": "acde0d21-a071-4560-a38d-8e6d6f930ffa",
   "metadata": {},
   "outputs": [
    {
     "name": "stdout",
     "output_type": "stream",
     "text": [
      "   Milch  Käse  Butter  Brot  Kaffee  Zucker  Mehl\n",
      "0      1     1       1     1       0       1     1\n",
      "1      0     1       1     1       1       1     1\n",
      "2      1     0       1     0       1       1     1\n",
      "3      1     0       1     0       0       0     0\n",
      "4      1     0       1     0       1       0     0\n",
      "5      1     0       0     0       0       0     1\n",
      "6      1     1       1     1       1       1     1\n",
      "7      0     0       0     0       0       0     0\n",
      "8      1     1       1     0       0       1     0\n",
      "9      1     1       0     1       1       1     1\n"
     ]
    }
   ],
   "source": [
    "import pandas as pd\n",
    "\n",
    "# Erstellen des DataFrames\n",
    "F_supermarket = pd.DataFrame({\n",
    "    'Milch': [1, 0, 1, 1, 1, 1, 1, 0, 1, 1],\n",
    "    'Käse': [1, 1, 0, 0, 0, 0, 1, 0, 1, 1],\n",
    "    'Butter': [1, 1, 1, 1, 1, 0, 1, 0, 1, 0],\n",
    "    'Brot': [1, 1, 0, 0, 0, 0, 1, 0, 0, 1],\n",
    "    'Kaffee': [0, 1, 1, 0, 1, 0, 1, 0, 0, 1],\n",
    "    'Zucker': [1, 1, 1, 0, 0, 0, 1, 0, 1, 1],\n",
    "    'Mehl': [1, 1, 1, 0, 0, 1, 1, 0, 0, 1]\n",
    "})\n",
    "\n",
    "# Ausgabe des DataFrames\n",
    "print(F_supermarket)\n"
   ]
  },
  {
   "cell_type": "markdown",
   "id": "353d8628-b98b-4464-aaeb-6f08dddb3908",
   "metadata": {},
   "source": [
    "#### SupportF"
   ]
  },
  {
   "cell_type": "code",
   "execution_count": 22,
   "id": "82083777-1a90-45db-995f-fb75f3117320",
   "metadata": {},
   "outputs": [],
   "source": [
    "def intersection_all_elements(lst):\n",
    "    result = (F_supermarket[lst[0]] == 1)\n",
    "    for i in range(1, len(lst)):\n",
    "        result &=  (F_supermarket[lst[i]] == 1)\n",
    "    return result\n",
    "\n",
    "def supportF_regel(list1, list2):\n",
    "    return intersection_all_elements(list1+list2).mean()\n",
    "\n",
    "def supportF(list1):\n",
    "    return supportF_regel(list1, [])\n",
    "\n",
    "a = supportF(['Zucker', 'Mehl'])\n",
    "b = supportF_regel(['Zucker', 'Mehl'], ['Butter'])"
   ]
  },
  {
   "cell_type": "code",
   "execution_count": 23,
   "id": "4f71cfeb-3d89-4947-b1eb-c6702cacab6f",
   "metadata": {},
   "outputs": [
    {
     "data": {
      "text/plain": [
       "0.5"
      ]
     },
     "execution_count": 23,
     "metadata": {},
     "output_type": "execute_result"
    }
   ],
   "source": [
    "a"
   ]
  },
  {
   "cell_type": "code",
   "execution_count": 24,
   "id": "0e5dcff1-15b4-4e98-a226-ef6c11339601",
   "metadata": {},
   "outputs": [
    {
     "data": {
      "text/plain": [
       "0.4"
      ]
     },
     "execution_count": 24,
     "metadata": {},
     "output_type": "execute_result"
    }
   ],
   "source": [
    "b"
   ]
  },
  {
   "cell_type": "markdown",
   "id": "59dd6e20-7047-4811-840f-b426902c0910",
   "metadata": {},
   "source": [
    "#### ConF"
   ]
  },
  {
   "cell_type": "code",
   "execution_count": 28,
   "id": "96678dda-f036-4060-bb11-3ad8eea5da44",
   "metadata": {},
   "outputs": [
    {
     "data": {
      "text/plain": [
       "1.0"
      ]
     },
     "execution_count": 28,
     "metadata": {},
     "output_type": "execute_result"
    }
   ],
   "source": [
    "def conF(list1, list2):\n",
    "    return supportF(list1+list2)/supportF(list1)\n",
    "\n",
    "conF(['Brot'], ['Käse'])"
   ]
  },
  {
   "cell_type": "markdown",
   "id": "648aa90f-ca40-494f-a865-8daee8646732",
   "metadata": {},
   "source": [
    "## Algorithmus"
   ]
  },
  {
   "cell_type": "markdown",
   "id": "14d31aca-b291-4d0b-9618-7c253f46d01c",
   "metadata": {},
   "source": [
    "### Teil 1"
   ]
  },
  {
   "cell_type": "code",
   "execution_count": 29,
   "id": "0633d4ea-3576-461b-a017-94a4b3730476",
   "metadata": {},
   "outputs": [],
   "source": [
    "minsupp = 0.4\n",
    "minconf = 0.9"
   ]
  },
  {
   "cell_type": "code",
   "execution_count": 6,
   "id": "72976ea2-9bfd-4334-b52e-1a82b60887f4",
   "metadata": {},
   "outputs": [],
   "source": [
    "def get_frequent_items(lst_of_combinations):\n",
    "    df = pd.DataFrame(columns = ['item', 'frequency'])\n",
    "    i = 0\n",
    "\n",
    "    if(isinstance(lst_of_combinations[0], list)):\n",
    "        for e in lst_of_combinations:\n",
    "            temp = supportF(e)\n",
    "            if temp >= 0.4:\n",
    "                df.loc[i,'item'] = e\n",
    "                df.loc[i,'frequency'] = temp\n",
    "                i+=1\n",
    "    else:\n",
    "        for e in lst_of_combinations:\n",
    "            temp = supportF([e])\n",
    "            if temp >= 0.4:\n",
    "                df.loc[i,'item'] = e\n",
    "                df.loc[i,'frequency'] = temp\n",
    "                i+=1\n",
    "    \n",
    "    \n",
    "    return df\n",
    "\n",
    "def combinations(lst, n):\n",
    "    if n>2:\n",
    "        # Flatten the list\n",
    "        flat_list = [item for sublist in lst for item in sublist]\n",
    "        \n",
    "        # Get all unique items\n",
    "        unique_items = list(set(flat_list))\n",
    "\n",
    "        list_of_tuples = list(itertools.combinations(unique_items, n))\n",
    "        # Generate all combinations of 3 items\n",
    "        return [list(tup) for tup in list_of_tuples] \n",
    "    else: \n",
    "        combinations = []\n",
    "        for i in range(len(lst)):\n",
    "            for j in range(i+1, len(lst)):\n",
    "            # Append each 2-element combination to the list\n",
    "                combinations.append([lst[i], lst[j]])\n",
    "        return combinations\n"
   ]
  },
  {
   "cell_type": "code",
   "execution_count": 7,
   "id": "b89feda4-702c-4b97-8d2c-895347f9ecc6",
   "metadata": {},
   "outputs": [],
   "source": [
    "df_1_item = get_frequent_items(F_supermarket.columns)"
   ]
  },
  {
   "cell_type": "code",
   "execution_count": 8,
   "id": "2bae8f2f-197a-4c0b-a024-e47ac41651b8",
   "metadata": {},
   "outputs": [
    {
     "data": {
      "text/html": [
       "<div>\n",
       "<style scoped>\n",
       "    .dataframe tbody tr th:only-of-type {\n",
       "        vertical-align: middle;\n",
       "    }\n",
       "\n",
       "    .dataframe tbody tr th {\n",
       "        vertical-align: top;\n",
       "    }\n",
       "\n",
       "    .dataframe thead th {\n",
       "        text-align: right;\n",
       "    }\n",
       "</style>\n",
       "<table border=\"1\" class=\"dataframe\">\n",
       "  <thead>\n",
       "    <tr style=\"text-align: right;\">\n",
       "      <th></th>\n",
       "      <th>item</th>\n",
       "      <th>frequency</th>\n",
       "    </tr>\n",
       "  </thead>\n",
       "  <tbody>\n",
       "    <tr>\n",
       "      <th>0</th>\n",
       "      <td>[Milch, Käse]</td>\n",
       "      <td>0.4</td>\n",
       "    </tr>\n",
       "    <tr>\n",
       "      <th>1</th>\n",
       "      <td>[Milch, Butter]</td>\n",
       "      <td>0.6</td>\n",
       "    </tr>\n",
       "    <tr>\n",
       "      <th>2</th>\n",
       "      <td>[Milch, Kaffee]</td>\n",
       "      <td>0.4</td>\n",
       "    </tr>\n",
       "    <tr>\n",
       "      <th>3</th>\n",
       "      <td>[Milch, Zucker]</td>\n",
       "      <td>0.5</td>\n",
       "    </tr>\n",
       "    <tr>\n",
       "      <th>4</th>\n",
       "      <td>[Milch, Mehl]</td>\n",
       "      <td>0.5</td>\n",
       "    </tr>\n",
       "    <tr>\n",
       "      <th>5</th>\n",
       "      <td>[Käse, Butter]</td>\n",
       "      <td>0.4</td>\n",
       "    </tr>\n",
       "    <tr>\n",
       "      <th>6</th>\n",
       "      <td>[Käse, Brot]</td>\n",
       "      <td>0.4</td>\n",
       "    </tr>\n",
       "    <tr>\n",
       "      <th>7</th>\n",
       "      <td>[Käse, Zucker]</td>\n",
       "      <td>0.5</td>\n",
       "    </tr>\n",
       "    <tr>\n",
       "      <th>8</th>\n",
       "      <td>[Käse, Mehl]</td>\n",
       "      <td>0.4</td>\n",
       "    </tr>\n",
       "    <tr>\n",
       "      <th>9</th>\n",
       "      <td>[Butter, Kaffee]</td>\n",
       "      <td>0.4</td>\n",
       "    </tr>\n",
       "    <tr>\n",
       "      <th>10</th>\n",
       "      <td>[Butter, Zucker]</td>\n",
       "      <td>0.5</td>\n",
       "    </tr>\n",
       "    <tr>\n",
       "      <th>11</th>\n",
       "      <td>[Butter, Mehl]</td>\n",
       "      <td>0.4</td>\n",
       "    </tr>\n",
       "    <tr>\n",
       "      <th>12</th>\n",
       "      <td>[Brot, Zucker]</td>\n",
       "      <td>0.4</td>\n",
       "    </tr>\n",
       "    <tr>\n",
       "      <th>13</th>\n",
       "      <td>[Brot, Mehl]</td>\n",
       "      <td>0.4</td>\n",
       "    </tr>\n",
       "    <tr>\n",
       "      <th>14</th>\n",
       "      <td>[Kaffee, Zucker]</td>\n",
       "      <td>0.4</td>\n",
       "    </tr>\n",
       "    <tr>\n",
       "      <th>15</th>\n",
       "      <td>[Kaffee, Mehl]</td>\n",
       "      <td>0.4</td>\n",
       "    </tr>\n",
       "    <tr>\n",
       "      <th>16</th>\n",
       "      <td>[Zucker, Mehl]</td>\n",
       "      <td>0.5</td>\n",
       "    </tr>\n",
       "  </tbody>\n",
       "</table>\n",
       "</div>"
      ],
      "text/plain": [
       "                item frequency\n",
       "0      [Milch, Käse]       0.4\n",
       "1    [Milch, Butter]       0.6\n",
       "2    [Milch, Kaffee]       0.4\n",
       "3    [Milch, Zucker]       0.5\n",
       "4      [Milch, Mehl]       0.5\n",
       "5     [Käse, Butter]       0.4\n",
       "6       [Käse, Brot]       0.4\n",
       "7     [Käse, Zucker]       0.5\n",
       "8       [Käse, Mehl]       0.4\n",
       "9   [Butter, Kaffee]       0.4\n",
       "10  [Butter, Zucker]       0.5\n",
       "11    [Butter, Mehl]       0.4\n",
       "12    [Brot, Zucker]       0.4\n",
       "13      [Brot, Mehl]       0.4\n",
       "14  [Kaffee, Zucker]       0.4\n",
       "15    [Kaffee, Mehl]       0.4\n",
       "16    [Zucker, Mehl]       0.5"
      ]
     },
     "execution_count": 8,
     "metadata": {},
     "output_type": "execute_result"
    }
   ],
   "source": [
    "combis = combinations(df_1_item['item'].tolist(), 2)\n",
    "\n",
    "df_2_item = get_frequent_items(combis)\n",
    "df_2_item"
   ]
  },
  {
   "cell_type": "code",
   "execution_count": 9,
   "id": "878c590a-da3c-412f-95f9-4aa1fe27a918",
   "metadata": {},
   "outputs": [
    {
     "data": {
      "text/html": [
       "<div>\n",
       "<style scoped>\n",
       "    .dataframe tbody tr th:only-of-type {\n",
       "        vertical-align: middle;\n",
       "    }\n",
       "\n",
       "    .dataframe tbody tr th {\n",
       "        vertical-align: top;\n",
       "    }\n",
       "\n",
       "    .dataframe thead th {\n",
       "        text-align: right;\n",
       "    }\n",
       "</style>\n",
       "<table border=\"1\" class=\"dataframe\">\n",
       "  <thead>\n",
       "    <tr style=\"text-align: right;\">\n",
       "      <th></th>\n",
       "      <th>item</th>\n",
       "      <th>frequency</th>\n",
       "    </tr>\n",
       "  </thead>\n",
       "  <tbody>\n",
       "    <tr>\n",
       "      <th>0</th>\n",
       "      <td>[Käse, Brot, Zucker]</td>\n",
       "      <td>0.4</td>\n",
       "    </tr>\n",
       "    <tr>\n",
       "      <th>1</th>\n",
       "      <td>[Käse, Brot, Mehl]</td>\n",
       "      <td>0.4</td>\n",
       "    </tr>\n",
       "    <tr>\n",
       "      <th>2</th>\n",
       "      <td>[Käse, Zucker, Butter]</td>\n",
       "      <td>0.4</td>\n",
       "    </tr>\n",
       "    <tr>\n",
       "      <th>3</th>\n",
       "      <td>[Käse, Zucker, Mehl]</td>\n",
       "      <td>0.4</td>\n",
       "    </tr>\n",
       "    <tr>\n",
       "      <th>4</th>\n",
       "      <td>[Käse, Zucker, Milch]</td>\n",
       "      <td>0.4</td>\n",
       "    </tr>\n",
       "    <tr>\n",
       "      <th>5</th>\n",
       "      <td>[Brot, Zucker, Mehl]</td>\n",
       "      <td>0.4</td>\n",
       "    </tr>\n",
       "    <tr>\n",
       "      <th>6</th>\n",
       "      <td>[Zucker, Butter, Mehl]</td>\n",
       "      <td>0.4</td>\n",
       "    </tr>\n",
       "    <tr>\n",
       "      <th>7</th>\n",
       "      <td>[Zucker, Butter, Milch]</td>\n",
       "      <td>0.4</td>\n",
       "    </tr>\n",
       "    <tr>\n",
       "      <th>8</th>\n",
       "      <td>[Zucker, Kaffee, Mehl]</td>\n",
       "      <td>0.4</td>\n",
       "    </tr>\n",
       "    <tr>\n",
       "      <th>9</th>\n",
       "      <td>[Zucker, Mehl, Milch]</td>\n",
       "      <td>0.4</td>\n",
       "    </tr>\n",
       "  </tbody>\n",
       "</table>\n",
       "</div>"
      ],
      "text/plain": [
       "                      item frequency\n",
       "0     [Käse, Brot, Zucker]       0.4\n",
       "1       [Käse, Brot, Mehl]       0.4\n",
       "2   [Käse, Zucker, Butter]       0.4\n",
       "3     [Käse, Zucker, Mehl]       0.4\n",
       "4    [Käse, Zucker, Milch]       0.4\n",
       "5     [Brot, Zucker, Mehl]       0.4\n",
       "6   [Zucker, Butter, Mehl]       0.4\n",
       "7  [Zucker, Butter, Milch]       0.4\n",
       "8   [Zucker, Kaffee, Mehl]       0.4\n",
       "9    [Zucker, Mehl, Milch]       0.4"
      ]
     },
     "execution_count": 9,
     "metadata": {},
     "output_type": "execute_result"
    }
   ],
   "source": [
    "combis = combinations(df_2_item['item'].tolist(), 3)\n",
    "df_3_item = get_frequent_items(combis)\n",
    "df_3_item"
   ]
  },
  {
   "cell_type": "code",
   "execution_count": 10,
   "id": "16d4d35f-a162-4b2d-bc9e-de29242639e8",
   "metadata": {},
   "outputs": [
    {
     "data": {
      "text/html": [
       "<div>\n",
       "<style scoped>\n",
       "    .dataframe tbody tr th:only-of-type {\n",
       "        vertical-align: middle;\n",
       "    }\n",
       "\n",
       "    .dataframe tbody tr th {\n",
       "        vertical-align: top;\n",
       "    }\n",
       "\n",
       "    .dataframe thead th {\n",
       "        text-align: right;\n",
       "    }\n",
       "</style>\n",
       "<table border=\"1\" class=\"dataframe\">\n",
       "  <thead>\n",
       "    <tr style=\"text-align: right;\">\n",
       "      <th></th>\n",
       "      <th>item</th>\n",
       "      <th>frequency</th>\n",
       "    </tr>\n",
       "  </thead>\n",
       "  <tbody>\n",
       "    <tr>\n",
       "      <th>0</th>\n",
       "      <td>[Käse, Brot, Zucker, Mehl]</td>\n",
       "      <td>0.4</td>\n",
       "    </tr>\n",
       "  </tbody>\n",
       "</table>\n",
       "</div>"
      ],
      "text/plain": [
       "                         item frequency\n",
       "0  [Käse, Brot, Zucker, Mehl]       0.4"
      ]
     },
     "execution_count": 10,
     "metadata": {},
     "output_type": "execute_result"
    }
   ],
   "source": [
    "combis = combinations(df_2_item['item'].tolist(), 4)\n",
    "df_4_item = get_frequent_items(combis)\n",
    "df_4_item"
   ]
  },
  {
   "cell_type": "markdown",
   "id": "e7a02926-86fd-4fa6-a36a-853c5285788a",
   "metadata": {},
   "source": [
    "#### Power set:"
   ]
  },
  {
   "cell_type": "code",
   "execution_count": 12,
   "id": "b877f60d-8876-4453-8153-6bdacf484c15",
   "metadata": {},
   "outputs": [
    {
     "name": "stdout",
     "output_type": "stream",
     "text": [
      "X:  ['Käse', 'Brot', 'Zucker', 'Mehl']\n",
      "powerset:  [['Mehl'], ['Zucker'], ['Brot'], ['Käse'], ['Zucker', 'Mehl'], ['Brot', 'Mehl'], ['Brot', 'Zucker'], ['Käse', 'Mehl'], ['Käse', 'Zucker'], ['Käse', 'Brot'], ['Brot', 'Zucker', 'Mehl'], ['Käse', 'Zucker', 'Mehl'], ['Käse', 'Brot', 'Mehl'], ['Käse', 'Brot', 'Zucker']]\n"
     ]
    }
   ],
   "source": [
    "def power_set(input_set):\n",
    "    # Base case: an empty set has one subset, the empty set\n",
    "    if len(input_set) == 0:\n",
    "        return [[]]\n",
    "\n",
    "    # Recursive case:\n",
    "    # - take an element from the set\n",
    "    # - find all subsets of the set without this element\n",
    "    # - the power set is the set of subsets without this element plus the set of subsets with this element\n",
    "    subsets = power_set(input_set[1:])\n",
    "    return subsets + [[input_set[0]] + subset for subset in subsets]\n",
    "\n",
    "def power_set_reduced(my_set):\n",
    "    lst = power_set(my_set)\n",
    "    del lst[0]\n",
    "    del lst[-1]\n",
    "    return lst\n",
    "\n",
    "\n",
    "X = df_4_item['item'][0]\n",
    "powerset = power_set_reduced(X)\n",
    "powerset.sort(key=len)\n",
    "\n",
    "print(\"X: \",X)\n",
    "print(\"powerset: \",powerset)"
   ]
  },
  {
   "cell_type": "markdown",
   "id": "8aa47e09-9ca4-4d70-a157-5e8c40635d22",
   "metadata": {},
   "source": [
    "### Teil 2"
   ]
  },
  {
   "cell_type": "code",
   "execution_count": 30,
   "id": "0b4d4589-6f91-4c3d-9438-b96aed0c812d",
   "metadata": {},
   "outputs": [
    {
     "name": "stdout",
     "output_type": "stream",
     "text": [
      "['Zucker', 'Käse', 'Brot'] --> ['Mehl'] = 1.0\n",
      "\n",
      "['Käse', 'Mehl', 'Brot'] --> ['Zucker'] = 1.0\n",
      "\n",
      "['Zucker', 'Käse', 'Mehl'] --> ['Brot'] = 1.0\n",
      "\n",
      "['Zucker', 'Mehl', 'Brot'] --> ['Käse'] = 1.0\n",
      "\n",
      "['Käse', 'Brot'] --> ['Zucker', 'Mehl'] = 1.0\n",
      "\n",
      "['Zucker', 'Käse'] --> ['Brot', 'Mehl'] = 0.8\n",
      "\n",
      "['Käse', 'Mehl'] --> ['Brot', 'Zucker'] = 1.0\n",
      "\n",
      "['Zucker', 'Brot'] --> ['Käse', 'Mehl'] = 1.0\n",
      "\n",
      "['Mehl', 'Brot'] --> ['Käse', 'Zucker'] = 1.0\n",
      "\n",
      "['Zucker', 'Mehl'] --> ['Käse', 'Brot'] = 0.8\n",
      "\n",
      "['Käse'] --> ['Brot', 'Zucker', 'Mehl'] = 0.8\n",
      "\n",
      "['Brot'] --> ['Käse', 'Zucker', 'Mehl'] = 1.0\n",
      "\n",
      "['Zucker'] --> ['Käse', 'Brot', 'Mehl'] = 0.6666666666666667\n",
      "\n",
      "['Mehl'] --> ['Käse', 'Brot', 'Zucker'] = 0.6666666666666667\n",
      "\n"
     ]
    }
   ],
   "source": [
    "# Convert X to a set for faster operations\n",
    "X_set = set(X)\n",
    "\n",
    "# Generate association rules\n",
    "association_rules = []\n",
    "for p in powerset:\n",
    "    temp = conF(X, p)\n",
    "    if temp >= minconf:\n",
    "        association_rules.append((list(X_set - set(p)), p))\n",
    "\n",
    "# Print the association rules\n",
    "for rule in association_rules:\n",
    "    print(f\"{rule[0]} --> {rule[1]} = {conF(rule[0], rule[1])}\")\n",
    "    print()\n"
   ]
  },
  {
   "cell_type": "code",
   "execution_count": null,
   "id": "53828b5e-3568-4399-9b51-29300f9d84e3",
   "metadata": {},
   "outputs": [],
   "source": []
  }
 ],
 "metadata": {
  "kernelspec": {
   "display_name": "Python 3 (ipykernel)",
   "language": "python",
   "name": "python3"
  },
  "language_info": {
   "codemirror_mode": {
    "name": "ipython",
    "version": 3
   },
   "file_extension": ".py",
   "mimetype": "text/x-python",
   "name": "python",
   "nbconvert_exporter": "python",
   "pygments_lexer": "ipython3",
   "version": "3.11.3"
  }
 },
 "nbformat": 4,
 "nbformat_minor": 5
}
