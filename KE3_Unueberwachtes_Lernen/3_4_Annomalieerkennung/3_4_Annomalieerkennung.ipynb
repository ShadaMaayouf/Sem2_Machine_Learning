{
 "cells": [
  {
   "cell_type": "markdown",
   "metadata": {
    "ExecuteTime": {
     "end_time": "2024-01-22T15:05:33.584082Z",
     "start_time": "2024-01-22T15:05:33.537800Z"
    },
    "collapsed": true,
    "jupyter": {
     "outputs_hidden": true
    }
   },
   "source": [
    "# 3.4 Anomalieerkennung\r\n",
    "\n",
    ">## <ins>Table of contents</ins>\n",
    ">* [**341.1.Die Dichteschätzung einer Normalverteilungs**](#341_1))\n",
    "\n",
    "## Imports"
   ]
  },
  {
   "cell_type": "code",
   "execution_count": 3,
   "metadata": {
    "collapsed": false,
    "jupyter": {
     "outputs_hidden": false
    }
   },
   "outputs": [],
   "source": [
    "import pandas as pd\n",
    "import numpy as np\n",
    "import matplotlib.pyplot as plt\n"
   ]
  },
  {
   "cell_type": "markdown",
   "metadata": {},
   "source": [
    "- Bei der **Anomalieerkennung** (engl. anomaly detection) geht es um die Erkennung von abnormalen Datenpunkten oder Ausreißern.\n",
    "- Gegeben ist eine **Menge von Datenpunkten** $E = {x^{(1)},..., x^{(m)}} und ein neuer **Die Frage der Anomalieerkennung** besteht darin zu entscheiden, ob x ähnlich genug zu den Datenpunkten in E ist oder eher abnormal.\n",
    "- Man sieht dieses Problem als ein **Überwachtes Lernproblem** wenn wir Daten zu *normalen* und *abnormalen* Datenpunkten haben.\n",
    "- **Wie sehen solche Datensätze aus?**: In [Abschnitt 2.2.3 Beispiel 14](http://127.0.0.1:8888/lab/tree/KE2_ueberwachtes_Lernen/2_2_Logistische_Regression/2_2_logistische_regression.ipynb), und [Abschnitt 2.3.2 Beispiel 5](http://127.0.0.1:8888/lab/tree/KE2_ueberwachtes_Lernen/2_3_Support_Vector_Machines/2.3.%20Support%20Vector%20Machines.ipynb), wurde das Problem der Erkennung von Schrauben als \"ok\" und \"nicht ok\" betrachtet. \n",
    "- Üblicherweise verfügt man bei dieser Art von Problemen eher über eine große Menge an normalen Datenpunkten und nur relativ wenig (oder keine) abnormale Datenpunkte. Aus diesem Grund benutzt man für Anomalieerkennung üblicherweise **Unüberwachte Lernverfahren**, bei denen nur die Menge E an normalen Datenpunkten gegeben ist.\n",
    "\n",
    "Wir schauen uns in diesem Unterkapitel eine einfache Methode der Anomalieerkennung an, nämlich *die Dichteabschätzung einer Normalverteilung*."
   ]
  },
  {
   "cell_type": "markdown",
   "metadata": {},
   "source": [
    "## Die Dichteschätzung einer Normalverteilung\n",
    "\n",
    "Die Dichteschätzung einer Normalverteilung ist ein statistischer Ansatz, der auf der Annahme basiert, dass die Daten, die wir analysieren, normalverteilt sind. \n",
    "\n",
    "Der Ansatz hat zwei Verbindungen zu [Unterkapitel 2.5 zur Bayes-Klassifikation](http://127.0.0.1:8888/lab/tree/KE2_ueberwachtes_Lernen/2_5_Bayes_Klassifikator/2_5_Bayes-Klassifikator.ipynb):\n",
    "\n",
    "1. Zum einen ist die Dichteabschätzung eine **Maximum-Likelihood-Methode**, da das gelernte Modell <ins>auf den Prinzipien der Maximum-Likelihood-Hypothese basiert </ins>. (Dies kann mit der Modellbildung unten und der Herleitung in Abschnitt 2.5.1 verglichen werden).\n",
    "\n",
    "2. Zum anderen löst der Ansatz der Dichteabschätzung das in Abschnitt 2.5.3 [Abschnitt 2.5.3 zur Bayes-Klassifikation](http://127.0.0.1:8888/lab/tree/KE2_ueberwachtes_Lernen/2_5_Bayes_Klassifikator/2_5_Bayes-Klassifikator.ipynb) angesprochene Problem der Bayes-Klassifikation mit kontinuierlichen Merkmalen, da die dort gesuchte Dichte $$p(x_i | c,D)$$ damit bestimmt werden kann."
   ]
  },
  {
   "cell_type": "markdown",
   "metadata": {},
   "source": [
    "Im Grunde wird hierbei **ein wahrscheinlichkeitstheoretisches Modell $p_E$** auf den Datenpunkten erstellt. \n",
    "\n",
    "Die Funktion $p_E(x)$ gibt an, <ins>wie ähnlich ein gegebener Datenpunkt $x$ zu den Datenpunkten in $E$ ist</ins>. \n",
    "- Ein hoher Wert von $p_E(x)$ deutet darauf hin, dass $x$ sehr ähnlich zu den meisten Datenpunkten in $E$ ist,\n",
    "- während ein niedriger Wert darauf hindeut, dass $x$ ungewöhnlich oder anomalistisch ist.\n",
    "\n",
    "Die tatsächliche Klassifikation eines Datenpunktes $x$ als normal oder abnormal geschieht dann durch einen Schwellenwert $\\varepsilon$ im Bereich $[0,1]$: Wenn $p_E(x) < \\varepsilon$, dann wird $x$ als abnormal klassifiziert. \n",
    "\n",
    "Die Bestimmung von $p_E$ basiert auf zwei zentralen Annahmen:\n",
    "\n",
    "1. Die Merkmale von $x = (x_1,..., x_n)$ sind unabhängig voneinander, d. h., wir können $p_E(x)$ schreiben als\n",
    "\n",
    "$$p_E(x) = p_{E_1}(x_1) \\cdot \\ldots \\cdot p_{E_n}(x_n)$$\n",
    "\n",
    "   mit Wahrscheinlichkeitsdichten $p_{E_1},..., p_{E_n}$ für die Merkmale $x_1,..., x_n$.\n",
    "\n",
    "2. Die Merkmalsausprägungen eines jeden Merkmals $x_i$, $i = 1,...,n$ sind normalverteilt, d. h., es gilt\n",
    "\n",
    "$$p_{E_i}(x_i) = \\frac{1}{\\sqrt{2\\pi\\sigma^2_i}} e^{-\\frac{(x_i-\\mu_i)^2}{2\\sigma^2_i}}$$\n",
    "\n",
    "   für \"passende\" $\\mu_i,\\sigma^2_i \\in \\mathbb{R}$.\n",
    "\n",
    "In diesen Ausdrücken steht `n` für die Anzahl der Merkmale, $x_i$ für den `i`-ten Merkmalswert, $p_{E_i}$ für die Wahrscheinlichkeitsdichte des `i`-ten Merkmals, $µ_i$ für den Mittelwert des `i`-ten Merkmals und $σ²_i$ für die Varianz des `i`-ten Merkmals. "
   ]
  },
  {
   "cell_type": "markdown",
   "metadata": {},
   "source": [
    "Hier sind die grundlegenden Schritte der Dichteschätzung einer Normalverteilung:\n",
    "\n",
    "1. **Mittelwert und Standardabweichung berechnen**: Zunächst berechnen wir den Mittelwert (µ) und die Standardabweichung (σ) der Daten. Der Mittelwert ist der Durchschnittswert der Daten, und die Standardabweichung misst die Streuung der Daten um den Mittelwert.\n",
    "\n",
    "2. **Normalverteilungsfunktion anwenden**: Dann wenden wir die Normalverteilungsfunktion auf jeden Datenpunkt an. Die Normalverteilungsfunktion ist definiert als:\n",
    "\n",
    "    $$p_i^E(x_i) = \\frac{1}{\\sqrt{2\\pi\\sigma^2_i}} e^{-\\frac{(x_i-\\mu_i)^2}{2\\sigma^2_i}}$$\n",
    "\n",
    "    Dabei ist:\n",
    "    - $p_i^E(x_i)$ die Wahrscheinlichkeitsdichte für den Wert $x$,\n",
    "    - $e$ die Basis des natürlichen Logarithmus,\n",
    "    - $\\mu$ der Mittelwert der Daten $$\\mu_i = \\frac{1}{m} \\sum_{i=1}^{m} x^{(i)}_i$$\n",
    "    - $\\sigma$ die Standardabweichung der Daten: $$\\sigma^2_i = \\frac{1}{m} \\sum_{i=1}^{m} (x^{(i)}_i - \\mu_i)^2$$\n",
    "\n",
    "3. **Anomalien identifizieren**: Schließlich identifizieren wir Anomalien als Datenpunkte, deren Wahrscheinlichkeitsdichte unter einem bestimmten Schwellenwert liegt. Dieser Schwellenwert wird oft so gewählt, dass er einen kleinen Prozentsatz (z.B. 1%) der Datenpunkte als anomale betrachtet.\n",
    "\n",
    "> \n",
    "> **Wichtig !!**\n",
    "> \n",
    "> Es ist wichtig zu beachten, dass diese Methode gut funktioniert, wenn die Daten tatsächlich annähernd normalverteilt sind. Wenn die Daten jedoch stark von einer Normalverteilung abweichen, kann diese Methode zu vielen Fehlalarmen oder übersehenen Anomalien führen. Daher ist es immer wichtig, die Annahmen, die wir über unsere Daten treffen, kritisch zu hinterfragen.\n",
    "\n",
    "**Aber!!!**\n",
    "\n",
    ">- Die beiden Annahmen, dass die Merkmale unabhängig sind und normalverteilt sind, <ins>treffen nicht immer zu</ins> für einen gegebenen Datensatz $E$ eines bestimmten Problems.\n",
    ">- Trotzdem liefert das resultierende Modell, ähnlich wie bei der naiven Bayes-Klassifikation, auch bei Nichterfüllung der Annahmen gute Ergebnisse.\n",
    ">- Das Lernproblem besteht darin, passende Werte für $\\mu_1,...,\\mu_n$ und $\\sigma^2_1 ,...,\\sigma^2_n$ zu finden, wobei $n$ die Anzahl der Merkmale ist.\n",
    ">- Die Maximum-Likelihood-Methode wird verwendet, um anzunehmen, dass $\\mu_i$ genau die empirischen Mittelwerte und $\\sigma^2_i$ genau die empirischen Varianzen aus dem Datensatz $E$ sind.\n",
    ">- Mit anderen Worten, jedes $\\mu_i$ ist genau der Durchschnitt der Datenpunkte in $E$ und jedes $\\sigma^2_i$ ist genau der Durchschnitt der quadratischen Abweichungen der Datenpunkte aus $E$ zu $\\mu_i$.\n",
    "\n"
   ]
  },
  {
   "cell_type": "markdown",
   "metadata": {},
   "source": [
    "#### **Beispiel 1: $E_{screws}$**\n",
    "\n",
    "Wir betrachten ein ähnliches Problem wie in Beispiel 14, Abschnitt 2.2.3. Die folgende Tabelle zeigt den Datensatz $E_{screws}$, der die Merkmale `Gewicht` und `Länge` von 10 Schrauben enthält. Diese 10 Schrauben werden als `normal` angesehen.\n"
   ]
  },
  {
   "cell_type": "code",
   "execution_count": 2,
   "metadata": {},
   "outputs": [
    {
     "data": {
      "text/html": [
       "<div>\n",
       "<style scoped>\n",
       "    .dataframe tbody tr th:only-of-type {\n",
       "        vertical-align: middle;\n",
       "    }\n",
       "\n",
       "    .dataframe tbody tr th {\n",
       "        vertical-align: top;\n",
       "    }\n",
       "\n",
       "    .dataframe thead th {\n",
       "        text-align: right;\n",
       "    }\n",
       "</style>\n",
       "<table border=\"1\" class=\"dataframe\">\n",
       "  <thead>\n",
       "    <tr style=\"text-align: right;\">\n",
       "      <th></th>\n",
       "      <th>Gewicht</th>\n",
       "      <th>Länge</th>\n",
       "    </tr>\n",
       "  </thead>\n",
       "  <tbody>\n",
       "    <tr>\n",
       "      <th>0</th>\n",
       "      <td>11.0</td>\n",
       "      <td>27.0</td>\n",
       "    </tr>\n",
       "    <tr>\n",
       "      <th>1</th>\n",
       "      <td>10.0</td>\n",
       "      <td>28.0</td>\n",
       "    </tr>\n",
       "    <tr>\n",
       "      <th>2</th>\n",
       "      <td>10.3</td>\n",
       "      <td>27.5</td>\n",
       "    </tr>\n",
       "    <tr>\n",
       "      <th>3</th>\n",
       "      <td>11.0</td>\n",
       "      <td>28.0</td>\n",
       "    </tr>\n",
       "    <tr>\n",
       "      <th>4</th>\n",
       "      <td>10.9</td>\n",
       "      <td>27.1</td>\n",
       "    </tr>\n",
       "    <tr>\n",
       "      <th>5</th>\n",
       "      <td>10.9</td>\n",
       "      <td>28.1</td>\n",
       "    </tr>\n",
       "    <tr>\n",
       "      <th>6</th>\n",
       "      <td>10.2</td>\n",
       "      <td>28.2</td>\n",
       "    </tr>\n",
       "    <tr>\n",
       "      <th>7</th>\n",
       "      <td>10.7</td>\n",
       "      <td>27.6</td>\n",
       "    </tr>\n",
       "    <tr>\n",
       "      <th>8</th>\n",
       "      <td>10.9</td>\n",
       "      <td>27.2</td>\n",
       "    </tr>\n",
       "    <tr>\n",
       "      <th>9</th>\n",
       "      <td>10.1</td>\n",
       "      <td>27.0</td>\n",
       "    </tr>\n",
       "  </tbody>\n",
       "</table>\n",
       "</div>"
      ],
      "text/plain": [
       "   Gewicht  Länge\n",
       "0     11.0   27.0\n",
       "1     10.0   28.0\n",
       "2     10.3   27.5\n",
       "3     11.0   28.0\n",
       "4     10.9   27.1\n",
       "5     10.9   28.1\n",
       "6     10.2   28.2\n",
       "7     10.7   27.6\n",
       "8     10.9   27.2\n",
       "9     10.1   27.0"
      ]
     },
     "execution_count": 2,
     "metadata": {},
     "output_type": "execute_result"
    }
   ],
   "source": [
    "# DataFrame erstellen\n",
    "E_screws = pd.DataFrame({\n",
    "    'Gewicht': [11, 10, 10.3, 11, 10.9, 10.9, 10.2, 10.7, 10.9, 10.1],\n",
    "    'Länge': [27, 28, 27.5, 28, 27.1, 28.1, 28.2, 27.6, 27.2, 27]\n",
    "})\n",
    "\n",
    "# DataFrame ausgeben\n",
    "E_screws"
   ]
  },
  {
   "cell_type": "markdown",
   "metadata": {},
   "source": [
    "Wir berechnen die Mittelwerte und Varianzen für die Merkmale \"Gewicht\" und \"Länge\" des Datensatzes $E_{screws}$.\n",
    "\n",
    "1. Berechnung der Mittelwerte:\n",
    "$$\n",
    "\\mu_{\\text{Gewicht}} = \\frac{11+10+10.3+11+10.9+10.9+10.2+10.7+10.9+10.1}{10} = 10.6$$\n",
    "$$\\mu_{\\text{Länge}} = \\frac{27+28+27.5+28+27.1+28.1+28.2+27.6+27.2+27}{10} = 27.57\n",
    "$$"
   ]
  },
  {
   "cell_type": "code",
   "execution_count": 18,
   "metadata": {},
   "outputs": [
    {
     "name": "stdout",
     "output_type": "stream",
     "text": [
      "{'Gewicht': 10.6, 'Länge': 27.57}\n"
     ]
    }
   ],
   "source": [
    "def berechne_mittelwerte_df(df):\n",
    "    mittelwerte = {}\n",
    "    for spalte in df.columns:\n",
    "        mittelwerte[spalte] = df[spalte].mean()\n",
    "    return mittelwerte\n",
    "    \n",
    "def berechne_mittelwerte_col(df, spalte):\n",
    "    return df[spalte].mean()\n",
    "    \n",
    "mittelwerte = berechne_mittelwerte(E_screws)\n",
    "print(mittelwerte)\n"
   ]
  },
  {
   "cell_type": "markdown",
   "metadata": {},
   "source": [
    "2. Berechnung der Varianzen:\n",
    "\n",
    "$$\n",
    "\\sigma^2_{\\text{Gewicht}} = \\frac{1}{10} \\left((11-\\mu_{\\text{Gewicht}})^2 + (10-\\mu_{\\text{Gewicht}})^2 + \\ldots + (10.1-\\mu_{\\text{Gewicht}})^2\\right) = 0.146 $$\n",
    "$$\\sigma^2_{\\text{Länge}} = \\frac{1}{10} \\left((27-\\mu_{\\text{Länge}})^2 + (28-\\mu_{\\text{Länge}})^2 + \\ldots + (27-\\mu_{\\text{Länge}})^2\\right) = 0.2061\n",
    "$$"
   ]
  },
  {
   "cell_type": "code",
   "execution_count": 21,
   "metadata": {},
   "outputs": [
    {
     "name": "stdout",
     "output_type": "stream",
     "text": [
      "{'Gewicht': 0.1460000000000001, 'Länge': 0.2061}\n"
     ]
    },
    {
     "data": {
      "text/plain": [
       "0.1460000000000001"
      ]
     },
     "execution_count": 21,
     "metadata": {},
     "output_type": "execute_result"
    }
   ],
   "source": [
    "def berechne_varianzen(df):\n",
    "    varianzen = {}\n",
    "    for spalte in df.columns:\n",
    "        varianzen[spalte] = berechne_varianzen_col(df, spalte)\n",
    "    return varianzen\n",
    "\n",
    "def berechne_varianzen_col(df, spalte):\n",
    "    varianz = 0\n",
    "    for value in df[spalte]:\n",
    "        varianz += (value - berechne_mittelwerte_col(df, spalte))**2\n",
    "    return varianz/df[spalte].count()\n",
    "    \n",
    "varianzen = berechne_varianzen(E_screws)\n",
    "print(varianzen)\n"
   ]
  },
  {
   "cell_type": "markdown",
   "metadata": {},
   "source": [
    "3. Berechnung der Wahrscheinlichkeiten für ein neuen Datenpunkt $x = (x_1, x_2)^T$:\n",
    "\n",
    "$$p_{\\text{Escrews}}(x) = p_{\\text{Escrews Gewicht}}(x_1) * p_{\\text{Escrews Länge}}(x_2) $$"
   ]
  },
  {
   "cell_type": "code",
   "execution_count": 27,
   "metadata": {},
   "outputs": [],
   "source": [
    "import numpy as np\n",
    "def berechne_p_E_i(sigma_i, mu_i, x_i):\n",
    "    return (1 / np.sqrt(2 * np.pi * sigma_i)) * np.exp(- (x_i - mu_i)**2 / (2 * sigma_i))\n",
    "    \n",
    "def berechne_p_E(df, x):\n",
    "    sigma = berechne_varianzen(df)\n",
    "    mu = berechne_mittelwerte_df(df)\n",
    "\n",
    "    p_E = 1\n",
    "    i = 0\n",
    "    for i, spalte in enumerate(df.columns):\n",
    "        p_E *= berechne_p_E_i(sigma[spalte], mu[spalte], x[i])\n",
    "                                                           \n",
    "    return p_E"
   ]
  },
  {
   "cell_type": "markdown",
   "metadata": {},
   "source": [
    "Dann gilt für einen Datenpunkt $x = (x_1, x_2)^T = (10.8,27.5)^T$\n",
    "$$= \\frac{1}{\\sqrt{2\\pi\\sigma^2_{\\text{Gewicht}}}} e^{-\\frac{(x_1-\\mu_{\\text{Gewicht}})^2}{2\\sigma^2_{\\text{Gewicht}}}} \\frac{1}{\\sqrt{2\\pi\\sigma^2_{\\text{Länge}}}} e^{-\\frac{(x_2-\\mu_{\\text{Länge}})^2}{2\\sigma^2_{\\text{Länge}}}} \\approx 0.791$$"
   ]
  },
  {
   "cell_type": "code",
   "execution_count": 26,
   "metadata": {},
   "outputs": [
    {
     "data": {
      "text/plain": [
       "0.7905869957135732"
      ]
     },
     "execution_count": 26,
     "metadata": {},
     "output_type": "execute_result"
    }
   ],
   "source": [
    "berechne_p_E(E_screws, (10.8,27.5))"
   ]
  },
  {
   "cell_type": "markdown",
   "metadata": {},
   "source": [
    "und für einen Datenpunkt $x' = (x'_1, x'_2)^T = (9.8,26.9)^T$.\n",
    "\n",
    "$$p_{\\text{Escrews}}(x') \\approx 0.034$$\n",
    "\n"
   ]
  },
  {
   "cell_type": "code",
   "execution_count": 24,
   "metadata": {},
   "outputs": [
    {
     "data": {
      "text/plain": [
       "0.03449568230198757"
      ]
     },
     "execution_count": 24,
     "metadata": {},
     "output_type": "execute_result"
    }
   ],
   "source": [
    "berechne_p_E(E_screws, (9.8,26.9))"
   ]
  },
  {
   "cell_type": "markdown",
   "metadata": {},
   "source": [
    "In diesen Ausdrücken steht $x_1$ und $x_2$ für die Merkmale \"Gewicht\" und \"Länge\" eines neuen Datenpunkts, und $\\mu_{\\text{Gewicht}}$, $\\mu_{\\text{Länge}}$, $\\sigma^2_{\\text{Gewicht}}$ und $\\sigma^2_{\\text{Länge}}$ sind die berechneten Mittelwerte und Varianzen für diese Merkmale. "
   ]
  },
  {
   "cell_type": "markdown",
   "metadata": {},
   "source": [
    "**Schwellwert $\\varepsilon$**\n",
    "Würden wir also beispielsweise den Schwellwert $\\varepsilon = 0.1$ setzen, so würde $x$ als normal und $x'$ als abnormal klassifiziert werden. \n",
    "\n",
    "Die folgende Abbildung 2 visualisiert den Datensatz $E_{screws}$, die beiden Testpunkte $x$ und $x'$ und die Entscheidungsgrenze für $\\varepsilon = 0.1$.\n"
   ]
  },
  {
   "cell_type": "code",
   "execution_count": 42,
   "metadata": {},
   "outputs": [
    {
     "data": {
      "image/png": "[encoded data removed]",
      "text/plain": [
       "<Figure size 640x480 with 1 Axes>"
      ]
     },
     "metadata": {},
     "output_type": "display_data"
    }
   ],
   "source": [
    "import matplotlib.pyplot as plt\n",
    "\n",
    "# Erstellen Sie das Streudiagramm für den Datensatz\n",
    "plt.scatter(E_screws['Gewicht'], E_screws['Länge'], label='Datensatz')\n",
    "\n",
    "# Zeichnen Sie die Testpunkte\n",
    "plt.scatter(10.8, 27.5, color='red', label='Testpunkt x')\n",
    "plt.scatter(9.8, 26.9, color='green', label=\"Testpunkt x'\")\n",
    "\n",
    "x_values = np.linspace(E_screws['Gewicht'].min(), E_screws['Gewicht'].max(), 100)\n",
    "\n",
    "mu = [mittelwerte['Gewicht'], mittelwerte['Länge']]  # Mittelpunkt des Kreises\n",
    "epsilon = 0.1  # Radius des Kreises\n",
    "circle = plt.Circle(mu, 1-epsilon, color='green', fill=False, label='Entscheidungsgrenze')\n",
    "plt.gca().add_patch(circle)\n",
    "\n",
    "plt.xlim(9, 12)\n",
    "plt.ylim(26, 29)\n",
    "\n",
    "plt.xlabel('Gewicht')\n",
    "plt.ylabel('Länge')\n",
    "plt.legend()\n",
    "plt.show()\n"
   ]
  },
  {
   "cell_type": "code",
   "execution_count": null,
   "metadata": {},
   "outputs": [],
   "source": []
  }
 ],
 "metadata": {
  "kernelspec": {
   "display_name": "Python 3 (ipykernel)",
   "language": "python",
   "name": "python3"
  },
  "language_info": {
   "codemirror_mode": {
    "name": "ipython",
    "version": 3
   },
   "file_extension": ".py",
   "mimetype": "text/x-python",
   "name": "python",
   "nbconvert_exporter": "python",
   "pygments_lexer": "ipython3",
   "version": "3.11.3"
  }
 },
 "nbformat": 4,
 "nbformat_minor": 4
}
