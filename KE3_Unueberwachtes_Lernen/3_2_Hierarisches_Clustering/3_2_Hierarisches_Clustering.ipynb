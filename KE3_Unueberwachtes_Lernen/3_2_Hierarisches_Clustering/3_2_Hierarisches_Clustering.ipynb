{
 "cells": [
  {
   "cell_type": "markdown",
   "metadata": {
    "ExecuteTime": {
     "end_time": "2024-01-22T15:05:33.584082Z",
     "start_time": "2024-01-22T15:05:33.537800Z"
    },
    "collapsed": true,
    "jupyter": {
     "outputs_hidden": true
    }
   },
   "source": [
    "# 3.2. Hierarisches_Clustering\n",
    "\n",
    ">## <ins>Table of contents</ins>\n",
    ">* [**3.2.1. Clusteranzahl und hierarchisches Clustering**](#3_2_1)\n",
    ">* [**3.2.2. Single-Link-Clustering**](#3_2_2)\n",
    ">* [**3.2.3. Divisive Analysis Clusterin**](#3_2_3)\n",
    "\n",
    "# `Links`\n",
    "> - https://youtu.be/z2yncM2HE6M?si=x9QWLV4mEHoXBiLS\n",
    "\n",
    "## Imports"
   ]
  },
  {
   "cell_type": "code",
   "execution_count": 1,
   "metadata": {
    "collapsed": false,
    "jupyter": {
     "outputs_hidden": false
    }
   },
   "outputs": [],
   "source": [
    "import pandas as pd\n",
    "import numpy as np\n",
    "import matplotlib.pyplot as plt\n"
   ]
  },
  {
   "cell_type": "markdown",
   "metadata": {},
   "source": [
    "\n",
    "## 3.2.1.  Clusteranzahl und hierarchisches Clustering <a name=\"3_2_1\"></a>\n",
    "\n",
    "Herausforderung in der Clusteranalyse: Bestimmung der optimalen Anzahl `k` von Clustern für einen gegebenen Datensatz.\n",
    "\n",
    "Eine Methode, die wir gesehen haben: `die Ellenbogenmethode`. Eine heuristische Methode zur Bestimmung der Clusteranzahl beim K-Means-Algorithmus.\n",
    "\n",
    "Aber es gibt keine universelle Definition der \"richtigen\" Anzahl von Clustern, weil diese je nach Anwendung und Datensatz variieren kann (*haben wir in dem Beispiel der Marktsegmentierung gesehen*).\n",
    "\n",
    "Verschiedene sinnvolle Clusterzahlen: Abhängig vom Anwendungsfall können für denselben Datensatz verschiedene Clusterzahlen sinnvoll sein.\n"
   ]
  },
  {
   "cell_type": "markdown",
   "metadata": {},
   "source": [
    "### Beipiel 1: Giftige Tiere\n",
    "- `Kontext`:\n",
    "\n",
    "  In diesem Szenario haben wir eine Reihe von Tie $E_{animals} = {x_1,..., x_6}$ren, die durch zwei Merkmale charakterisiert sind: die Anzahl der Beine und den Giftigkeitsgrad (auf einer imaginären Skala von 0 = \"nicht giftig\" bis 2 = \"sehr giftig\").\n",
    "\n",
    "- `Ziel`:\n",
    "\n",
    "  Das Ziel ist es, verschiedene Clusterings oder Gruppierungen dieser Tiere basierend auf ihren Merkmalen zu erstellen.\n",
    "\n",
    "- `Herausforderung`:\n",
    "\n",
    "  Jedes dieser Clusterings hat seine eigenen Vor- und Nachteile und kann je nach Kontext und Ziel der Analyse geeignet sein. Die Herausforderung besteht darin, das passende Clustering für den jeweiligen Anwendungsfall zu wählen.\n"
   ]
  },
  {
   "cell_type": "code",
   "execution_count": 2,
   "metadata": {},
   "outputs": [
    {
     "name": "stdout",
     "output_type": "stream",
     "text": [
      "   legs  venom\n",
      "0     8      2\n",
      "1     8      1\n",
      "2     6      1\n",
      "3     4      0\n",
      "4     4      1\n",
      "5     2      0\n"
     ]
    },
    {
     "data": {
      "image/png": "[encoded data removed]",
      "text/plain": [
       "<Figure size 640x480 with 1 Axes>"
      ]
     },
     "metadata": {},
     "output_type": "display_data"
    }
   ],
   "source": [
    "import matplotlib.pyplot as plt\n",
    "import pandas as pd\n",
    "\n",
    "E_animals = pd.read_csv(\"./dataset/dataset_animals.csv\")\n",
    "print(E_animals)\n",
    "X = E_animals.values\n",
    "plt.figure()\n",
    "plt.scatter(X.T[0], X.T[1])\n",
    "plt.show()"
   ]
  },
  {
   "cell_type": "markdown",
   "metadata": {},
   "source": [
    "Es gibt mehrere mögliche Clusterings:\n",
    "\n",
    "  **Individuelle Tierarten**: Das Clusterin `{{x1},{x2},{x3},{x4},{x5},{x6}}` bildet jede einzelne Tierart in einen eigenen Cluster ab. Dies ist eine sehr spezifische Art der Gruppierung, bei der jedes Tier als einzigartig betrachtet wird.\n",
    "\n",
    "  **Spinnenartige und Vierbeinige Säugetiere**: Das Clustering `{{x1, x2},{x3},{x4, x5},{x6}}` verbindet Skorpione und Spinnen zum Cluster \"Spinnenartige\" sowie Hausschweine und Schnabeltiere zu \"Vierbeinige Säugetiere\". Hier werden Tiere aufgrund ihrer ähnlichen Merkmale und Klassifizierungen gruppiert.\n",
    "\n",
    "  **Gliederfüßer und Säugetiere**: Das Clustering `{{x1, x2, x3},{x4, x5, x6}}` teilt die Daten in \"Gliederfüßer\" und \"Säugetiere\" auf. Dies ist eine breitere Kategorisierung, die auf höheren Taxonomieebenen basiert.\n",
    "\n",
    "Diese *Clusterhierarchie* ist ein wichtiges Analysewerkzeug in der Clusteranalyse, da sie die Zusammenhänge zwischen Clustern auf verschiedenen Ebenen der Granularität illustriert.\n",
    "\n",
    "#### Hierarchisches Clustering: \n",
    "\n",
    "Diese Methode erzeugt eine Hierarchie von Clustern und bietet Einblicke in die Beziehungen zwischen verschieden granularen Clusterings.\n",
    "\n",
    "  $\\Rightarrow$ hilft bei der Bestimmung der optimalen Clusterzahl für die gegebene Anwendung.\n",
    "\n"
   ]
  },
  {
   "cell_type": "markdown",
   "metadata": {},
   "source": [
    "Formal ist die Ausgabe einer solchen hierarchischen Clusteringmethode gegeben\n",
    "durch ein Dendrogramm.\n",
    "\n",
    "**Dendrogramm**: \n",
    "\n",
    "Die Ausgabe einer hierarchischen Clusteringmethode wird formal durch ein Dendrogramm dargestellt.\n",
    "\n",
    "Sei $E$ ein Datensatz. Ein Dendrogramm $T$ über $E$ ist ein gerichteter Baumdiagramm $T = (V,K,r)$, der die Hierarchie der Cluster in einem Datensatz darstellt, mit Knoten $V$, Kanten $K$ und Wurzel $r \\in V$, sodass gilt:\n",
    "- Für alle $v \\in V$, $v \\subseteq E$.\n",
    "- $r = E$:\n",
    "\n",
    "  Die Wurzel des Baums repräsentiert den gesamten Datensatz. Die Wurzel enthält das gröbste Clustering, bei dem alle Datenpunkte im gleichen Cluster sind.\n",
    "- Für alle $x \\in E$ ist $\\{x\\}$ ein Blatt von $T$:\n",
    "\n",
    "  Jedes Blatt repräsentiert einen einzelnen Datenpunkt. Die Blätter des Dendrogramms enthalten das detaillierteste Clustering.\n",
    "- Jeder innere Knoten $v$ mit Kindern $v_1,..., v_k$ stellt einen Cluster dar, der aus der Vereinigung seiner Untercluster $v_1,..., v_k$ besteht.\n",
    "\n",
    "- Ein Dendrogramm wird üblicherweise mit Schwellwerten annotiert, die notwendig sind, um Cluster zu vereinigen. Dieses Dendrogramm wird dann als quantitativ bezeichnet. Diese Schwellwerte sind algorithmenabhängig und werden in den folgenden Abschnitten genauer diskutiert. Ein \"Schnitt\" durch das Dendrogramm an einem bestimmten Schwellwert ergibt ein konkretes Clustering.\n",
    "\n",
    "Jede Verzweigung im Dendrogramm repräsentiert eine spezifische Gruppierung der Daten in Cluster."
   ]
  },
  {
   "cell_type": "markdown",
   "metadata": {},
   "source": [
    "> **Unterschied zwischen einem Baum und einem ungerichteten Baum**:\n",
    "> - Ein **Baum** ist ein spezieller Typ von Graph, der zusammenhängend ist und keine geschlossenen Pfade enthält. Das bedeutet, es gibt genau einen Pfad zwischen jedem Paar von Knoten.\n",
    "> - Ein **gerichteter Baum** ist ein gerichteter Graph, der ein ungerichteter Baum ist, wenn man die Richtungen der Kanten ignoriert. Bei vielen Autoren müssen die Richtungen einheitlich von einem Knoten weg oder auf einen Knoten zu orientiert sein¹."
   ]
  },
  {
   "cell_type": "markdown",
   "metadata": {},
   "source": [
    "### Python-Funktion `AgglomerativeClustering`\n"
   ]
  },
  {
   "cell_type": "markdown",
   "metadata": {},
   "source": [
    "```python\n",
    "from sklearn.cluster import AgglomerativeClustering\n",
    "\n",
    "clust = AgglomerativeClustering(n_clusters=None,distance_threshold=0,linkage='average').fit(X)\n",
    "```\n",
    "- Die verwendete Funktion `AgglomerativeClustering` führt die agglomeratives hierarchisches Clustering durch. Dies ist eine Methode, bei der jedes Datenobjekt zunächst als einzelner Cluster betrachtet wird und dann, in jedem aufeinanderfolgenden Schritt, die beiden ähnlichsten Cluster zu einem einzigen Cluster zusammengefasst werden.\n",
    "\n",
    "- `n_clusters=None`: Dies bedeutet, dass die Anzahl der Cluster, die am Ende des Algorithmus übrig bleiben sollen, nicht festgelegt ist. \n",
    "\n",
    "- `distance_threshold=0`: Dies legt den Schwellenwert für die Entfernung fest, bei der Cluster zusammengeführt werden sollen¹. In diesem Fall ist der Schwellenwert 0, was bedeutet, dass alle Datenpunkte in einem einzigen Cluster enden werden.\n",
    "\n",
    "- `linkage='average'`: Dies legt das Verknüpfungskriterium fest, das bestimmt, welche Entfernung zwischen den Mengen von Beobachtungen verwendet wird¹. Die Option 'average' verwendet den Durchschnitt der Entfernungen jeder Beobachtung der beiden Mengen.\n",
    "\n",
    "- `.fit(X)`: Dieser Befehl führt das Clustering auf dem Datensatz X aus.\n",
    "\n",
    "Das Ergebnis dieses Befehls ist ein Modell, das die Clusterzugehörigkeiten der Datenpunkte in X kennt."
   ]
  },
  {
   "cell_type": "markdown",
   "metadata": {},
   "source": [
    "```python\n",
    "import numpy as np\n",
    "from scipy.cluster.hierarchy import dendrogram\n",
    "\n",
    "plt.figure()\n",
    "dendrogram(np.column_stack([clust.children_, np.arange(clust.children_.shape[0]), \n",
    "                            np.arange(2, clust.children_.shape[0]+2)]).astype(float))\n",
    "plt.show()\n",
    "```\n",
    "Die gegebene Zeile ist ein Befehl in Python, der die Funktion `dendrogram` aus der `scipy.cluster.hierarchy` Bibliothek verwendet, um ein Dendrogramm zu erstellen¹. Hier ist, was jeder Teil des Befehls bedeutet:\n",
    "\n",
    "- `dendrogram`: Diese Funktion erstellt ein Dendrogramm, das eine Baumstruktur darstellt, die die Hierarchie der Cluster in einem Datensatz zeigt¹.\n",
    "\n",
    "- `np.column_stack`: Diese Funktion stapelt 1-D Arrays als Spalten in ein 2-D Array.\n",
    "\n",
    "- `clust.children_`: Dies gibt die Liste der Kinder für jeden nicht-blatt Knoten. Kinder sind Paare von Knoten in den Indizes (n, 2), wobei n der Index des Knotenpaars ist².\n",
    "\n",
    "- `np.arange(clust.children_.shape[0])`: Dies erzeugt eine Sequenz von Zahlen von 0 bis zur Anzahl der Kinderknoten.\n",
    "\n",
    "- `np.arange(2, clust.children_.shape[0]+2)`: Dies erzeugt eine Sequenz von Zahlen von 2 bis zur Anzahl der Kinderknoten plus 2.\n",
    "\n",
    "- `.astype(float)`: Dies konvertiert den Datentyp des resultierenden Arrays in `float`.\n",
    "\n",
    "Die Zeile könnte auch so geschrieben werden:\n",
    "\n",
    "```python\n",
    "children = clust.children_\n",
    "num_children = children.shape[0]\n",
    "\n",
    "# Erzeugen der Sequenzen\n",
    "seq1 = np.arange(num_children)\n",
    "seq2 = np.arange(2, num_children + 2)\n",
    "\n",
    "# Stapeln der Sequenzen\n",
    "stacked_seq = np.column_stack([children, seq1, seq2])\n",
    "\n",
    "# Konvertieren in float und Erzeugen des Dendrogramms\n",
    "dendrogram(stacked_seq.astype(float))\n",
    "```"
   ]
  },
  {
   "cell_type": "markdown",
   "metadata": {},
   "source": [
    "### Beipiel 2: Fortsetzung von Beispiel 2\n",
    "\n",
    "Wir versuchen das hierarische Clustering auf den Datensatz `E_animals` anzuwenden.\n",
    "- Das gröbste Clustering in der Wurzel besteht aus allen Datenpunkten D.h. zu Beginn werden alle Datenpunkte als ein einziger Cluster betrachtet $\\{x1, x2, x3\\, x4, x5, x6\\}$.\n",
    "  \n",
    "- das nächst-feinere aus den beiden Clustern $\\{x1, x2, x3\\}$ und $\\{x4, x5, x6\\}$. D.h. der ursprüngliche Cluster wird in zwei kleinere Cluster aufgeteilt. Diese kleineren Cluster können aufgrund bestimmter Ähnlichkeiten zwischen den Datenpunkten gebildet werden.\n",
    "  \n",
    "- Danach folgt das Clustering $\\{\\{x3\\},\\{x1, x2\\},\\{x6\\},\\{x4, x5\\}\\}$\n",
    "- und schließlich mit $\\{\\{x1\\},\\{x2\\},\\{x3\\},\\{x4\\},\\{x5\\},\\{x6\\}\\}$ das detaillierteste Clustering."
   ]
  },
  {
   "cell_type": "code",
   "execution_count": 3,
   "metadata": {},
   "outputs": [],
   "source": [
    "from sklearn.cluster import AgglomerativeClustering\n",
    "\n",
    "clust = AgglomerativeClustering(n_clusters=None,distance_threshold=0,linkage='average').fit(X)"
   ]
  },
  {
   "cell_type": "code",
   "execution_count": 4,
   "metadata": {},
   "outputs": [
    {
     "name": "stdout",
     "output_type": "stream",
     "text": [
      "[5 2 3 4 1 0]\n",
      "6\n",
      "Cluster 0:\n",
      "[[2 0]]\n",
      "Cluster 1:\n",
      "[[4 1]]\n",
      "Cluster 2:\n",
      "[[8 1]]\n",
      "Cluster 3:\n",
      "[[6 1]]\n",
      "Cluster 4:\n",
      "[[4 0]]\n",
      "Cluster 5:\n",
      "[[8 2]]\n"
     ]
    }
   ],
   "source": [
    "# Anzeigen der Cluster-Zuweisungen\n",
    "labels = clust.labels_\n",
    "print(labels)\n",
    "\n",
    "# die Anzahl der Cluster in den Daten\n",
    "print(clust.n_clusters_)\n",
    "\n",
    "# Anzeigen der Punkte in jedem Cluster\n",
    "for i in range(clust.n_clusters_):\n",
    "    print(f\"Cluster {i}:\")\n",
    "    print(X[labels == i])"
   ]
  },
  {
   "cell_type": "markdown",
   "metadata": {},
   "source": [
    "Die folgende Abbildung  zeigt ein **quantitatives** Dendrogramm. \n",
    "\n",
    "Die Knoten des Dendrogramms sind hier implizit als Schnittpunkte der Verbindungslinien dargestellt und die Elemente aus $E$ sind auf der x-Achse verzeichnet.\n",
    "\n",
    "Die y-Achse zeigt die Schwellwerte der Distanzen von Knoten, an denen Cluster vereinigt (bzw. getrennt) werden. Näheres dazu in den nächsten beiden Abschnitten.\n",
    "\n",
    "Schneidet man beispielsweise das Dendrogramm beim Distanzwert 2, so erhält man das Clustering $\\{\\{x3\\},\\{x1, x2\\},\\{x6\\},\\{x4, x5\\}\\}$."
   ]
  },
  {
   "cell_type": "code",
   "execution_count": 5,
   "metadata": {},
   "outputs": [
    {
     "data": {
      "image/png": "[encoded data removed]",
      "text/plain": [
       "<Figure size 640x480 with 1 Axes>"
      ]
     },
     "metadata": {},
     "output_type": "display_data"
    }
   ],
   "source": [
    "import numpy as np\n",
    "from scipy.cluster.hierarchy import dendrogram\n",
    "\n",
    "plt.figure()\n",
    "dendrogram(np.column_stack([clust.children_, np.arange(clust.children_.shape[0]), \n",
    "                            np.arange(2, clust.children_.shape[0]+2)]).astype(float))\n",
    "plt.show()"
   ]
  },
  {
   "cell_type": "markdown",
   "metadata": {},
   "source": [
    "Quantitative Dendrogramme ermöglichen es, abhängig von der Interpretation der Distanzfunktion, die Plausibilität von Clusterings verschiedener Hierarchiestufen quantitativ abzuschätzen. \n",
    "\n",
    "Aus unserer Abbildung geht beispielsweise hervor, dass es mindestens zwei Cluster $\\{x1, x2, x3\\}$ und $\\{x4, x5, x6\\}$ geben sollte. Der Grund dafür ist, dass der Schwellenwert zur Vereinigung dieser beiden Cluster (bei etwa 4.1) relativ groß ist im Vergleich zum Schwellenwert zur Vereinigung der nächst-feineren Cluster (bei etwa 2.1)."
   ]
  },
  {
   "cell_type": "markdown",
   "metadata": {},
   "source": [
    "#### Methoden des hierarchischen Clusterings:\n",
    "\n",
    "Methoden des hierarchischen Clusterings lassen sich grundsätzlich in zwei Gruppen einteilen:\n",
    "\n",
    "- **agglomerative Verfahren** (bzw. bottom-up Verfahren) beginnen die Konstruktion eines Dendrogramms von den Blättern an. Zunächst werden alle Datenpunkte individuell einem Cluster zugewiesen. Anschließend werden iterativ diejenigen Cluster miteinander vereinigt, die am ”ähnlichsten“ sind.\n",
    "- **divisive Verfahren** (bzw. top-down Verfahren) beginnen die Konstruktion eines Dendrogramms an der Wurzel. Zunächst werden alle Datenpunkte einem einzigen Cluster zugewiesen. Anschließend wird iterativ der aktuelle Knoten in zwei (oder) mehr Cluster\n",
    "aufgeteilt.\n",
    "\n",
    "Konkrete Clusteringverfahren dieser beiden Gruppen unterscheiden sich hauptsächlich durch die benutzte Ä hnlichkeits- bzw. Distanzfunktion."
   ]
  },
  {
   "cell_type": "markdown",
   "metadata": {},
   "source": [
    "## 3.2.2. Single-Link-Clustering <a name=\"3_2_2\"></a>\n",
    "\n",
    "[Erklärungsvideo](https://youtu.be/YH0r47m0kFM?si=ENb9_DcqAP69nIK3)\n",
    "\n",
    "[Erklärungsvideo](https://youtu.be/oNYtYm0tFso?si=KCceCN9txNN5yGzy)\n",
    "\n",
    "Single-Link-Clustering ist ein agglomeratives Clusteringverfahren. Es funktioniert wie folgt:\n",
    "- Initial werden alle Datenpunkte des Datensatzes $E$ in einen separaten Cluster gesetzt.\n",
    "- Anschließend wird iterativ das Paar von Clustern, das am nächsten liegt, zu einem einzigen Cluster zusammengeführt.\n",
    "Auf diese Weise entsteht bottom-up ein Dendrogramm.\n",
    "\n",
    "![Single-Link-Clustering](./dataset/single-link-clustering.PNG)\n",
    "\n",
    "Sei $D$ eine Funktion, die für zwei Mengen von Datenpunkten $E1,E2 \\subseteq E$ die *Distanz* $D(E1,E2)$ von $E1$ zu $E2$ berechnet.\n",
    "\n",
    "Die Menge `X` speichert zu jedem Zeitpunkt die Menge von Clustern, die noch vereinigt werden müssen. Am Ende des Algorithmus enthält `X` dann nur noch die Wurzel des\n",
    "konstruierten Baumes (Zeile 10). Falls es mehrere Paare von Mengen mit minimalem Abstand in Zeile 7 gibt, wählen wir zufällig ein Paar aus.\n",
    "\n",
    "Die Distanzfunktion $D_{single}$, die definiert ist durch:\n",
    "$$D_{\\text{single}}(E_1,E_2) = \\min_{x_1 \\in E_1, x_2 \\in E_2} ||x_1 - x_2||$$\n",
    "Der Abstand zwischen zwei Mengen $E_1$ und $E_2$ ist also der minimale (euklidische) Abstand von beliebigen Datenpunkten aus $E_1$ und $E_2$.\n",
    "\n",
    "> - Je nach Definition der Distanzfunktion D erhält man ein anderes konkretes Clusteringverfahren. Diese Funktion ist nur für das Single-Link-Clustering.\n",
    "> - Wie schon zuvor, muss an dieser Stelle darauf geachtet werden, dass die Merkmale entsprechend \n",
    "skaliert sind, da ansonsten Unterschiede in den Auspä¨gungen mancher Merkmale sä¨rker gewichtet werden als a\u0002der.. Algorithmus 1 geht davon aus, dass der Datensatz E entsprechend vorverarbeite \r\n",
    "wurd\n",
    "e."
   ]
  },
  {
   "cell_type": "markdown",
   "metadata": {},
   "source": [
    "### Beipiel 3: Fortsetzung von Beispiel 2\n",
    "\n",
    "1. Wir erzeugen zunächst Cluster für alle Datenpunkte aus $E_{animals}$ und setzen $$X := \\{\\{x1\\},\\{x2\\},\\{x3\\},\\{x4\\},\\{x5\\},\\{x6\\}\\}$$\n",
    "2. Wir berechnen $D_{single}(X_1,X_2)$ für alle $X_1, X_2 ∈ X$  mit $X_1 ∕= X_2$ (wegen $D_{single}(X_1,X_2) = D_{single}(X_2,X_1)$ müssen wir nicht alle Kombinationen berechnen):\n",
    "- $D_{\\text{single}}(\\{x1\\},\\{x2\\}) = ||x1 - x2|| = ||(8,2) - (8,1)|| = \\sqrt{0^2 + 1^2} = 1$\n",
    "- $D_{\\text{single}}(\\{x1\\},\\{x3\\}) = ||x1 - x3|| = \\sqrt{2^2 + 1^2} \\approx 2.236$\n",
    "- $D_{\\text{single}}(\\{x1\\},\\{x4\\}) = ||x1 - x4|| = \\sqrt{4^2 + 2^2} \\approx 4.472$\n",
    "- $D_{\\text{single}}(\\{x1\\},\\{x5\\}) = ||x1 - x5|| = \\sqrt{4^2 + 1^2} \\approx 4.123$\n",
    "- $D_{\\text{single}}(\\{x1\\},\\{x6\\}) = ||x1 - x6|| = \\sqrt{6^2 + 2^2} \\approx 6.325$\n",
    "- $D_{\\text{single}}(\\{x2\\},\\{x3\\}) = ||x2 - x3|| = \\sqrt{2^2 + 0^2} = 2$\n",
    "- $D_{\\text{single}}(\\{x2\\},\\{x4\\}) = ||x2 - x4|| = \\sqrt{4^2 + 1^2} \\approx 4.123$\n",
    "- $D_{\\text{single}}(\\{x2\\},\\{x5\\}) = ||x2 - x5|| = \\sqrt{4^2 + 0^2} = 4$\n",
    "- $D_{\\text{single}}(\\{x2\\},\\{x6\\}) = ||x2 - x6|| = \\sqrt{6^2 + 1^2} \\approx 6.083$\n",
    "- $D_{\\text{single}}(\\{x3\\},\\{x4\\}) = ||x3 - x4|| = \\sqrt{2^2 + 1^2} \\approx 2.236$\n",
    "- $D_{\\text{single}}(\\{x3\\},\\{x5\\}) = ||x3 - x5|| = \\sqrt{2^2 + 0^2} = 2$\n",
    "- $D_{\\text{single}}(\\{x3\\},\\{x6\\}) = ||x3 - x6|| = \\sqrt{4^2 + 1^2} \\approx 4.123$\n",
    "- $D_{\\text{single}}(\\{x4\\},\\{x5\\}) = ||x4 - x5|| = \\sqrt{0^2 + 1^2} = 1$\n",
    "- $D_{\\text{single}}(\\{x4\\},\\{x6\\}) = ||x4 - x6|| = \\sqrt{2^2 + 0^2} = 2$\n",
    "- $D_{\\text{single}}(\\{x5\\},\\{x6\\}) = ||x5 - x6|| = \\sqrt{2^2 + 1^2} \\approx 2.236$\n",
    "\n",
    "Es gilt, dass $D_{\\text{single}}(\\{x1\\},\\{x2\\}) = D_{\\text{single}}(\\{x4\\},\\{x5\\}) = 1$ minimal ist.\n",
    "\n",
    "Daher wählen wir zufällig $\\{x1\\},\\{x2\\}$ aus und aktualisieren $X$ zu $X := \\{\\{x1, x2\\},\\{x3\\},\\{x4\\},\\{x5\\},\\{x6\\}\\}$.\n"
   ]
  },
  {
   "cell_type": "code",
   "execution_count": 6,
   "metadata": {},
   "outputs": [],
   "source": [
    "import numpy as np\n",
    "import pandas as pd\n",
    "\n",
    "def euclidean_distance(x1, x2):\n",
    "    return np.sqrt(np.sum((x1 - x2) ** 2))\n",
    "\n",
    "def list_euclidean(x_list, x_list_2):\n",
    "    min_distances = []\n",
    "    for x1 in x_list:\n",
    "        for x2 in x_list_2:\n",
    "            min_distances.append(euclidean_distance(np.array(x1), np.array(x2)))\n",
    "    return min(min_distances)\n",
    "\n"
   ]
  },
  {
   "cell_type": "code",
   "execution_count": 9,
   "metadata": {},
   "outputs": [
    {
     "name": "stdout",
     "output_type": "stream",
     "text": [
      "   legs  venom\n",
      "0     8      2\n",
      "1     8      1\n",
      "2     6      1\n",
      "3     4      0\n",
      "4     4      1\n",
      "5     2      0\n",
      "     1         2         3         4         5\n",
      "0  1.0  2.236068  4.472136  4.123106  6.324555\n",
      "1  NaN  2.000000  4.123106  4.000000  6.082763\n",
      "2  NaN       NaN  2.236068  2.000000  4.123106\n",
      "3  NaN       NaN       NaN  1.000000  2.000000\n",
      "4  NaN       NaN       NaN       NaN  2.236068\n",
      "(legs     8\n",
      "venom    2\n",
      "Name: 0, dtype: int64, legs     8\n",
      "venom    1\n",
      "Name: 1, dtype: int64)\n"
     ]
    }
   ],
   "source": [
    "\n",
    "def calculate_upper_triangular_distances(df):\n",
    "    # Initialisiere einen leeren DataFrame, um die Distanzen zu speichern\n",
    "    distances = pd.DataFrame()\n",
    "\n",
    "    # Initialisiere eine Variable, um das Paar mit minimaler Distanz zu speichern\n",
    "    min_distance_pair = None\n",
    "    min_distance = np.inf\n",
    "\n",
    "    # Iteriere über jedes Paar von Zeilen im DataFrame\n",
    "    for i in range(len(df)):\n",
    "        for j in range(i+1, len(df)):\n",
    "            # Berechne die euklidische Distanz zwischen den beiden Zeilen\n",
    "            dist = euclidean_distance(df.iloc[i], df.iloc[j])\n",
    "            \n",
    "            # Speichere die Distanz im DataFrame\n",
    "            distances.loc[df.index[i], df.index[j]] = dist\n",
    "\n",
    "            # Überprüfe, ob die aktuelle Distanz kleiner ist als die bisher kleinste Distanz\n",
    "            if dist < min_distance:\n",
    "                min_distance = dist\n",
    "                min_distance_pair = (df.iloc[i], df.iloc[j])\n",
    "\n",
    "    return distances, min_distance_pair\n",
    "\n",
    "# Teste die Funktion mit dem DataFrame E_animals\n",
    "print(E_animals)\n",
    "distance_triangle, mindistance = calculate_upper_triangular_distances(E_animals)\n",
    "print(distance_triangle)\n",
    "print(mindistance)\n"
   ]
  },
  {
   "cell_type": "markdown",
   "metadata": {},
   "source": [
    "3. Wir berechnen $D_{\\text{single}}(X_1,X_2)$ für alle $X_1,X_2 \\in X$ mit $X_1 \\neq X_2$:\n",
    "    - $D_{\\text{single}}(\\{x_1, x_2\\},\\{x_3\\}) = \\min\\{|x_1 -x_3|,|x_2 -x_3|\\} = 2$\n",
    "    - $D_{\\text{single}}(\\{x_1, x_2\\},\\{x_4\\}) = \\min\\{|x_1 -x_4|,|x_2 -x_4|\\} \\approx 4.123$\n",
    "    - $D_{\\text{single}}(\\{x_1, x_2\\},\\{x_5\\}) = \\min\\{|x_1 -x_5|,|x_2 -x_5|\\} = 4$\n",
    "    - $D_{\\text{single}}(\\{x_1, x_2\\},\\{x_6\\}) = \\min\\{|x_1 -x_6|,|x_2 -x_6|\\} \\approx 6.083$\n",
    "    - $D_{\\text{single}}(\\{x_3\\},\\{x_4\\}) = |x_3 -x_4| \\approx 2.236$\n",
    "    - $D_{\\text{single}}(\\{x_3\\},\\{x_5\\}) = |x_3 -x_5| = 2$\n",
    "    - $D_{\\text{single}}(\\{x_3\\},\\{x_6\\}) = |x_3 -x_6| \\approx 4.123$\n",
    "    - $D_{\\text{single}}(\\{x_4\\},\\{x_5\\}) = |x_4 -x_5| = 1$\n",
    "    - $D_{\\text{single}}(\\{x_4\\},\\{x_6\\}) = |x_4 -x_6| = 2$\n",
    "    - $D_{\\text{single}}(\\{x_5\\},\\{x_6\\}) = |x_5 -x_6| \\approx 2.236$"
   ]
  },
  {
   "cell_type": "code",
   "execution_count": 56,
   "metadata": {},
   "outputs": [
    {
     "name": "stdout",
     "output_type": "stream",
     "text": [
      "D_single({x_1, x_2},{x_3}) =  2.0\n"
     ]
    }
   ],
   "source": [
    "print('D_single({x_1, x_2},{x_3}) = ', list_euclidean([E_animals.iloc[0], E_animals.iloc[1]], [E_animals.iloc[2]]))"
   ]
  },
  {
   "cell_type": "markdown",
   "metadata": {},
   "source": [
    "Es gilt, dass $D_{\\text{single}}(\\{x_4\\},\\{x_5\\}) = 1$ minimal ist. \n",
    "\n",
    "Wir aktualisieren $X$ zu\n",
    "$$X := \\{\\{x_1, x_2\\},\\{x_3\\},\\{x_4, x_5\\},\\{x_6\\}\\}$$\n",
    "\n",
    "4. Wir berechnen $D_{\\text{single}}(X_1,X_2)$ für alle $X_1,X_2 \\in X$ mit $X_1 \\neq X_2$:\n",
    "    - $D_{\\text{single}}(\\{x_1, x_2\\},\\{x_3\\}) = \\min\\{|x_1 -x_3|,|x_2 -x_3|\\} = 2$\n",
    "    - $D_{\\text{single}}(\\{x_1, x_2\\},\\{x_4, x_5\\}) = \\min\\{|x_1 -x_4|,|x_2 -x_4|,|x_1 -x_5|,|x_2 -x_5|\\} = 4$\n",
    "    - $D_{\\text{single}}(\\{x_1, x_2\\},\\{x_6\\}) = \\min\\{|x_1 -x_6|,|x_2 -x_6|\\} \\approx 6.083$\n",
    "    - $D_{\\text{single}}(\\{x_3\\},\\{x_4, x_5\\}) = \\min\\{|x_3 -x_4|,|x_3 -x_5|\\} = 2$\n",
    "    - $D_{\\text{single}}(\\{x_3\\},\\{x_6\\}) = |x_3 -x_6| \\approx 4.123$\n",
    "    - $D_{\\text{single}}(\\{x_4, x_5\\},\\{x_6\\}) = \\min\\{|x_4 -x_6|,|x_5 -x_6|\\} = 2$\n"
   ]
  },
  {
   "cell_type": "code",
   "execution_count": 57,
   "metadata": {},
   "outputs": [
    {
     "name": "stdout",
     "output_type": "stream",
     "text": [
      "D_single({x_1, x_2},{x_4, x_5}) =  4.0\n"
     ]
    }
   ],
   "source": [
    "print('D_single({x_1, x_2},{x_4, x_5}) = ', list_euclidean([E_animals.iloc[0], E_animals.iloc[1]], [E_animals.iloc[3], E_animals.iloc[4]]))"
   ]
  },
  {
   "cell_type": "markdown",
   "metadata": {},
   "source": [
    "Hier haben wir drei Paare mit Distanz 2, wir wählen zufällig $\\{x_1, x_2\\}$ und $\\{x_3\\}$ und aktualisieren $X$ zu $$X := \\{\\{x_1, x_2, x_3\\},\\{x_4, x_5\\},\\{x_6\\}\\}$$\n",
    "\n",
    "Here is the corrected markdown:\n",
    "\n",
    "5. Wir berechnen $D_{\\text{single}}(X_1,X_2)$ für alle $X_1,X_2 \\in X$ mit $X_1 \\neq X_2$:\n",
    "- $D_{\\text{single}}(\\{x_1, x_2, x_3\\},\\{x_4, x_5\\}) = \\min\\{|x_1 -x_4|,|x_2 -x_4|,|x_3 -x_4|,|x_1 -x_5|,|x_2 -x_5|,|x_3 -x_5|\\} = 2$\n",
    "- $D_{\\text{single}}(\\{x_1, x_2, x_3\\},\\{x_6\\}) = \\min\\{|x_1 -x_6|,|x_2 -x_6|,|x_3 -x_6|\\} \\approx 4.123$\n",
    "- $D_{\\text{single}}(\\{x_4, x_5\\},\\{x_6\\}) = \\min\\{|x_4 -x_6|,|x_5 -x_6|\\} = 2$"
   ]
  },
  {
   "cell_type": "code",
   "execution_count": 51,
   "metadata": {},
   "outputs": [
    {
     "name": "stdout",
     "output_type": "stream",
     "text": [
      "2.0\n",
      "4.123105625617661\n",
      "2.0\n"
     ]
    }
   ],
   "source": [
    "\n",
    "x_list = [E_animals.iloc[0], E_animals.iloc[1], E_animals.iloc[2]]\n",
    "x_list_2 = [E_animals.iloc[3], E_animals.iloc[4]]\n",
    "\n",
    "print(list_euclidean(x_list, x_list_2))\n",
    "print(list_euclidean(x_list, [E_animals.iloc[5]]))\n",
    "print(list_euclidean(x_list_2, [E_animals.iloc[5]]))"
   ]
  },
  {
   "cell_type": "markdown",
   "metadata": {},
   "source": [
    "Es gilt, dass $$D_{\\text{single}}(\\{x_1, x_2, x_3\\},\\{x_4, x_5\\}) = D_{\\text{single}}(\\{x_4, x_5\\},\\{x_6\\}) = 2$$ minimal ist. Wir wählen also zufällig\n",
    "$\\{x_4, x_5\\},\\{x_6\\}$ aus und aktualisieren X zu\n",
    "$$X := \\{\\{x_1, x_2, x_3\\},\\{x_4, x_5, x_6\\}\\}$$\n",
    "\n",
    "7. Auch wenn diese Berechnung nicht mehr notwendig ist, da wir nur noch zwei Elemente in X haben, berechnen\n",
    "wir\n",
    "$$D_{\\text{single}}(\\{x_1, x_2, x_3\\},\\{x_4, x_5, x_6\\}) = \\min\\{|x_1 -x_4|,|x_2 -x_4|,|x_3 -x_4|,|x_1 -x_5|,|x_2 -x_5|,\n",
    "|x_3 -x_5|,|x_1 -x_6|,|x_2 -x_6|,|x_3 -x_6|\\}\n",
    "= 2$$\n",
    "und wir aktualisieren X zu\n",
    "$$X := \\{\\{x_1, x_2, x_3, x_4, x_5, x_6\\}\\}$$"
   ]
  },
  {
   "cell_type": "code",
   "execution_count": 58,
   "metadata": {},
   "outputs": [
    {
     "name": "stdout",
     "output_type": "stream",
     "text": [
      "D_single({x_1, x_2, x_3},{x_4, x_5, x_6}) =  2.0\n"
     ]
    }
   ],
   "source": [
    "print('D_single({x_1, x_2, x_3},{x_4, x_5, x_6}) = ', list_euclidean([E_animals.iloc[0], E_animals.iloc[1], E_animals.iloc[2]], [E_animals.iloc[3], E_animals.iloc[4], E_animals.iloc[5]]))"
   ]
  },
  {
   "cell_type": "markdown",
   "metadata": {},
   "source": [
    "Damit terminiert der Algorithmus und wir erhalten das folgende qualitative Dendrogramm:\n",
    "\n",
    "![qualitatives-dendrogramm](./dataset/qualitatives-dendrogramm.PNG)\n",
    "\n",
    ">Wie man im vorigen Beispiel sieht, liefert das Single-Link-Clustering relativ ”langgezogene“ Cluster und eignet sich daher gut für entsprechend strukturierte Daten.\n",
    "\n",
    "Die methode `AgglomerativeClustering` verwendet die folgende Distanzfunktion\n",
    "$$D_{\\text{avg}}(E_1,E_2) = \\frac{1}{|E_1||E_2|} \\sum_{x_1 \\in E_1, x_2 \\in E_2} |x_1 - x_2|$$\n",
    "Die Funktion $D_{\\text{avg}}$ misst den durchschnittlichen Abstand von Datenpunkten in $E_1$ zu Datenpunkten in $E_2$. Deswegen erhalten wir den quantitativen Dendroggramm von [Abschnitt 3_2_1](#3_2_1). \n",
    "\n",
    "In unserem Beispiel haben wir allerdings die Distanzfunktion $D_{\\text{single}}$ deshalb erhalten wir den folgenden quantitativen Dendroggramm:\n",
    "\n",
    "![qualitatives-dendrogramm](./dataset/quantitatives-dendrogramm.PNG)"
   ]
  },
  {
   "cell_type": "markdown",
   "metadata": {},
   "source": [
    "## 3.2.3. Divisive Analysis Clustering <a name=\"3_2_3\"></a>\n",
    "\n",
    "[Erklärungsvideo](https://youtu.be/vQEXvV5W7s0?si=sSdBOh1uP0GdEvqy)\n",
    "\n",
    "Mit DIANA (engl. Divise Analysis Clustering) beginnt man die Konstruktion eines Dendrogramms an der Wurzel mit einem Cluster, der alle Datenpunkte eines gegebenen Datensatzes $E$ enthält, und teilt iterativ solche Blattknoten auf, die noch mehr als einen Datenpunkt enthalten.\n",
    "\n",
    "Hierbei wird auch eine Distanzfunktion $D$ zur Distanzberechnung von Mengen von Datenpunkten benötigt (wie etwa $D_{\\text{single}}$ oder $D_{\\text{avg}}$).\n",
    "\n",
    "Die tatsächliche Entscheidung, wie ein Knoten $X$ mit $X| > 1$ in zwei Cluster aufgeteilt wird, erfolgt wie folgt.\n",
    "1. Zunächst wird der Knoten $\\hat{x}$ aus $X$ gesucht, der am weitesten entfernt von allen anderen Knoten in $X$ is ist.\n",
    "\n",
    "2. Dann wird initial $X$ aufgeteilt in einen Cluster $X_1$, der nur $\\hat{x}$ enthält, und einen Cluster $X_2$, d der alle übrigen Datenpunkte aus $X$ enthält.\n",
    "\n",
    "3. Anschließend wird der Datenpunkt $x^† \\in X_2$ gesucht, der von allen Punkten aus $X_2$ am ehesten noch zu $X_1$ gehören kann.\n",
    "\n",
    "4. Ist $x^†$ darüber hinaus auch näher an $X_1$ als an $X_2$, so verschieben wir $x^†$ von $X_2$ zu $X_1$.\n",
    "\n",
    "5. Finden wir keinen Datenpunkt $x \\in X_2$, der näher an $X_1$ als am Rest von $X_2$ liegt, so beenden wir die Konstruktion.\n",
    "\n",
    "6. Und setzen $X_1$ und $X_2$ als neue Kinder von $X$ im Baum ein. \n"
   ]
  },
  {
   "cell_type": "markdown",
   "metadata": {},
   "source": [
    "![DIANA-Clustering](./dataset/Diana-algo.PNG)\n",
    "\n",
    "### Beipiel 4: Fortsetzung von Beispiel 2\n",
    "Wir führen Beispiel 2 fort und führen Algorithmus 2 schrittweise mit $D_{\\text{avg}}$ durch (beachten Sie, dass wir nur die erste Iteration des Algorithmus zur Verdeutlichung ausführen).\n",
    "\n",
    "$$D_{\\text{avg}}(E_1,E_2) = \\frac{1}{|E_1||E_2|} \\sum_{x_1 \\in E_1, x_2 \\in E_2} |x_1 - x_2|$$\n",
    "\n",
    "Zur Vereinfachung der Darstellung berechnen wir alle paarweisen Distanzen (bzgl. der euklidischen Metrik) von Datenpunkten aus $E_{\\text{animals}}$ vor (siehe Beispiel 3 für die Rechnungen), die Ergebnisse sind in der folgenden Tabelle zu sehen. "
   ]
  },
  {
   "cell_type": "code",
   "execution_count": 10,
   "metadata": {},
   "outputs": [
    {
     "name": "stdout",
     "output_type": "stream",
     "text": [
      "     1         2         3         4         5\n",
      "0  1.0  2.236068  4.472136  4.123106  6.324555\n",
      "1  NaN  2.000000  4.123106  4.000000  6.082763\n",
      "2  NaN       NaN  2.236068  2.000000  4.123106\n",
      "3  NaN       NaN       NaN  1.000000  2.000000\n",
      "4  NaN       NaN       NaN       NaN  2.236068\n",
      "(legs     8\n",
      "venom    2\n",
      "Name: 0, dtype: int64, legs     8\n",
      "venom    1\n",
      "Name: 1, dtype: int64)\n"
     ]
    }
   ],
   "source": [
    "distance_triangle, mindistance = calculate_upper_triangular_distances(E_animals)\n",
    "print(distance_triangle)\n"
   ]
  },
  {
   "cell_type": "markdown",
   "metadata": {},
   "source": [
    "1. Wir erzeugen zunächst die Wurzel $X_1$ $$X_1 = {x1, x2, x3, x4, x5, x6}$$\n",
    "\n",
    "2. Da $|X_1| > 1$ ist, berechnen wir zunächst $\\hat{x}$. Dazu bestimmen wir\n",
    "   \n",
    "- $D_{\\text{avg}}(\\{x_1\\},\\{x_2, x_3, x_4, x_5, x_6\\}) = \\frac{1+2.236+4.472+4.123+6.325}{5} \\approx 3.631$\n",
    "- $D_{\\text{avg}}(\\{x_2\\},\\{x_1, x_3, x_4, x_5, x_6\\}) = \\frac{1+2+4.123+4+6.083}{5} \\approx 3.441$\n",
    "- $D_{\\text{avg}}(\\{x_3\\},\\{x_1, x_2, x_4, x_5, x_6\\}) = \\frac{2.236+2+2.236+2+4.123}{5} \\approx 2.519$\n",
    "- $D_{\\text{avg}}(\\{x_4\\},\\{x_1, x_2, x_3, x_5, x_6\\}) = \\frac{4.472+4.123+2.236+1+2}{5} \\approx 2.766$\n",
    "- $D_{\\text{avg}}(\\{x_5\\},\\{x_1, x_2, x_3, x_4, x_6\\}) = \\frac{4.123+4+2+1+2.236}{5} \\approx 2.672$\n",
    "- $D_{\\text{avg}}(\\{x_6\\},\\{x_1, x_2, x_3, x_4, x_5\\}) = \\frac{6.325+6.083+4.123+2+2.236}{5} \\approx 4.153$\n",
    "\n",
    "Damit ist $\\hat{x} = x_6$ (Weil $x_6$ am weitestens entfernt ist) und wir setzen $X_1 := \\{x_6\\}$ und $$X_2 := \\{x_1, x_2, x_3, x_4, x_5\\}$$\n",
    "\n"
   ]
  },
  {
   "cell_type": "markdown",
   "metadata": {},
   "source": [
    "3. Wir berechnen $x^†$:\n",
    "- $D(\\{x_1\\},\\{x_2, x_3, x_4, x_5\\})−D(\\{x_1\\},\\{x_6\\}) = \\frac{1+2.236+4.472+4.123}{4} −6.325 = 2.958−6.325 = −3.367$\n",
    "- $D(\\{x_2\\},\\{x_1, x_3, x_4, x_5\\})−D(\\{x_2\\},\\{x_6\\}) = \\frac{1+2+4.123+4}{4} −6.083 = 2.781−6.083 = −3.302$\n",
    "- $D(\\{x_3\\},\\{x_1, x_2, x_4, x_5\\})−D(\\{x_3\\},\\{x_6\\}) = \\frac{2.236+2+2.236+2}{4} −4.123 = 2.118−4.123 = −2.005$\n",
    "- $D(\\{x_4\\},\\{x_1, x_2, x_3, x_5\\})−D(\\{x_4\\},\\{x_6\\}) = \\frac{4.472+4.123+2.236+1}{4} −2 = 2.958−2 = 0.958$\n",
    "- $D(\\{x_5\\},\\{x_1, x_2, x_3, x_4\\})−D(\\{x_5\\},\\{x_6\\}) = \\frac{4.123+4+2+1}{4} −2.236 = 2.781−2.236 = 0.545$\n",
    "\n",
    "Damit ist $x^† = x_4$ und da $D(\\{x_4\\},\\{x_1, x_2, x_3, x_5\\}) − D(\\{x_4\\},\\{x_6\\}) > 0$, setzen wir $X_1$ und $X_2$:\n",
    "$$X_1 := \\{x_4, x_6\\}$$ $$X_2 := \\{x_1, x_2, x_3, x_5\\}$$ und fahren wir mit der Konstruktion fort.\n",
    "\n",
    "4. Wir berechnen $x^†$:\n",
    "- $D(\\{x_1\\},\\{x_2, x_3, x_5\\})−D(\\{x_1\\},\\{x_4, x_6\\}) = \\frac{1+2.236+4.123}{3} − \\frac{4.472+6.325}{2} ≈ 2.453−5.399 ≈ −2.946$\n",
    "- $D(\\{x_2\\},\\{x_1, x_3, x_5\\})−D(\\{x_2\\},\\{x_4, x_6\\}) = \\frac{1+2+4}{3} − \\frac{4.123+6.083}{2} ≈ 2.333−5.103 ≈ −2.77$\n",
    "- $D(\\{x_3\\},\\{x_1, x_2, x_5\\})−D(\\{x_3\\},\\{x_4, x_6\\}) = \\frac{2.236+2+2}{3} − \\frac{2.236+4.123}{2} ≈ 2.079−3.18 ≈ −1.101$\n",
    "- $D(\\{x_5\\},\\{x_1, x_2, x_3\\})−D(\\{x_5\\},\\{x_4, x_6\\}) ≈ \\frac{4.123+4+2}{3} − \\frac{1+2.236}{2} ≈ 3.374−1.618 ≈ 1.756$\n",
    "\n",
    "Damit ist $x^† = x_5$ und da $D(\\{x_5\\},\\{x_1, x_2, x_3\\}) − D(\\{x_5\\},\\{x_4, x_6\\}) > 0$ setzen wir $X_1$ und $X_2$:\n",
    "$$X_1 := \\{x_4, x_5, x_6\\}$$ $$X_2 := \\{x_1, x_2, x_3\\}$$ und fahren wir mit der Konstruktion fort.\n"
   ]
  },
  {
   "cell_type": "markdown",
   "metadata": {},
   "source": [
    "5. Wir berechnen $x^†$:\n",
    "- $D(\\{x_1\\},\\{x_2, x_3\\})−D(\\{x_1\\},\\{x_4, x_5, x_6\\}) = \\frac{1+2.236}{2} − \\frac{4.472+4.123+6.325}{3} ≈ 1.618−4.973 ≈ −3.356$\n",
    "- $D(\\{x_2\\},\\{x_1, x_3\\})−D(\\{x_2\\},\\{x_4, x_5, x_6\\}) = \\frac{1+2}{2} − \\frac{4.123+4+6.083}{3} ≈ 1.5−4.735 ≈ −3.235$\n",
    "- $D(\\{x_3\\},\\{x_1, x_2\\})−D(\\{x_3\\},\\{x_4, x_5, x_6\\}) = \\frac{2.236+2}{2} − \\frac{2.236+2+4.123}{2} ≈ 2.118−2.786 ≈ −0.668$\n",
    "\n",
    "Damit ist $x^† = x_3$, aber da $$D(\\{x_3\\},\\{x_1, x_2\\})−D(\\{x_3\\},\\{x_4, x_5, x_6\\}) ≤ 0$$ wird $x^†$ nicht mehr $X_1$ hinzufügt und es bleibt bei $X_1$ und $X_2$:\n",
    "$$X_1 = \\{x_4, x_5, x_6\\}$$ $$X_2 = \\{x_1, x_2, x_3\\}$$. \n",
    "\n",
    "Die Knoten $X_1 = \\{x_4, x_5, x_6\\}$ und $X_2 = \\{x_1, x_2, x_3\\}$ werden nun als Kinder von $X = \\{x_1, x_2, x_3, x_4, x_5, x_6\\}$ hinzugefügt und der Algorithmus würde iterativ gesondert mit $X_1$ und $X_2$ fortfahren. Aufgrund der langen Berechnungen führen wir dieses Verfahren allerdings nicht fort. Das finale qualitative Dendrogramm ist identisch mit dem Dendrogramm in Abbildung 2 und das finale quantitative Dendtrogramm ist identisch mit dem Dendrogramm in Abbildung 3. \n",
    "\n"
   ]
  },
  {
   "cell_type": "markdown",
   "metadata": {},
   "source": [
    "## 3.3.3. Zusammenfassung <a name=\"3_3_3\"></a>\n"
   ]
  },
  {
   "cell_type": "code",
   "execution_count": 2,
   "metadata": {},
   "outputs": [
    {
     "name": "stdout",
     "output_type": "stream",
     "text": [
      "   legs  venom\n",
      "0     8      2\n",
      "1     8      1\n",
      "2     6      1\n",
      "3     4      0\n",
      "4     4      1\n",
      "5     2      0\n"
     ]
    },
    {
     "data": {
      "image/png": "[encoded data removed]",
      "text/plain": [
       "<Figure size 640x480 with 1 Axes>"
      ]
     },
     "metadata": {},
     "output_type": "display_data"
    }
   ],
   "source": [
    "import matplotlib.pyplot as plt\n",
    "import pandas as pd\n",
    "\n",
    "E_animals = pd.read_csv(\"./dataset/dataset_animals.csv\")\n",
    "print(E_animals)\n",
    "X = E_animals.values\n",
    "plt.figure()\n",
    "plt.scatter(X.T[0], X.T[1])\n",
    "plt.show()"
   ]
  },
  {
   "cell_type": "code",
   "execution_count": 3,
   "metadata": {},
   "outputs": [],
   "source": [
    "from sklearn.cluster import AgglomerativeClustering\n",
    "\n",
    "clust = AgglomerativeClustering(n_clusters=None,distance_threshold=0,linkage='average').fit(X)"
   ]
  },
  {
   "cell_type": "code",
   "execution_count": 4,
   "metadata": {},
   "outputs": [
    {
     "name": "stdout",
     "output_type": "stream",
     "text": [
      "[5 2 3 4 1 0]\n",
      "6\n",
      "Cluster 0:\n",
      "[[2 0]]\n",
      "Cluster 1:\n",
      "[[4 1]]\n",
      "Cluster 2:\n",
      "[[8 1]]\n",
      "Cluster 3:\n",
      "[[6 1]]\n",
      "Cluster 4:\n",
      "[[4 0]]\n",
      "Cluster 5:\n",
      "[[8 2]]\n"
     ]
    }
   ],
   "source": [
    "# Anzeigen der Cluster-Zuweisungen\n",
    "labels = clust.labels_\n",
    "print(labels)\n",
    "\n",
    "# die Anzahl der Cluster in den Daten\n",
    "print(clust.n_clusters_)\n",
    "\n",
    "# Anzeigen der Punkte in jedem Cluster\n",
    "for i in range(clust.n_clusters_):\n",
    "    print(f\"Cluster {i}:\")\n",
    "    print(X[labels == i])"
   ]
  },
  {
   "cell_type": "code",
   "execution_count": 5,
   "metadata": {},
   "outputs": [
    {
     "data": {
      "image/png": "[encoded data removed]",
      "text/plain": [
       "<Figure size 640x480 with 1 Axes>"
      ]
     },
     "metadata": {},
     "output_type": "display_data"
    }
   ],
   "source": [
    "import numpy as np\n",
    "from scipy.cluster.hierarchy import dendrogram\n",
    "\n",
    "plt.figure()\n",
    "dendrogram(np.column_stack([clust.children_, np.arange(clust.children_.shape[0]), \n",
    "                            np.arange(2, clust.children_.shape[0]+2)]).astype(float))\n",
    "plt.show()"
   ]
  },
  {
   "cell_type": "code",
   "execution_count": null,
   "metadata": {},
   "outputs": [],
   "source": [
    "children = clust.children_\n",
    "num_children = children.shape[0]\n",
    "\n",
    "# Erzeugen der Sequenzen\n",
    "seq1 = np.arange(num_children)\n",
    "seq2 = np.arange(2, num_children + 2)\n",
    "\n",
    "# Stapeln der Sequenzen\n",
    "stacked_seq = np.column_stack([children, seq1, seq2])\n",
    "\n",
    "# Konvertieren in float und Erzeugen des Dendrogramms\n",
    "dendrogram(stacked_seq.astype(float))"
   ]
  },
  {
   "cell_type": "code",
   "execution_count": null,
   "metadata": {},
   "outputs": [],
   "source": [
    "import numpy as np\n",
    "import pandas as pd\n",
    "\n",
    "def euclidean_distance(x1, x2):\n",
    "    return np.sqrt(np.sum((x1 - x2) ** 2))\n",
    "\n",
    "def list_euclidean(x_list, x_list_2):\n",
    "    min_distances = []\n",
    "    for x1 in x_list:\n",
    "        for x2 in x_list_2:\n",
    "            min_distances.append(euclidean_distance(np.array(x1), np.array(x2)))\n",
    "    return min(min_distances)\n",
    "\n"
   ]
  },
  {
   "cell_type": "code",
   "execution_count": null,
   "metadata": {},
   "outputs": [],
   "source": [
    "\n",
    "def calculate_upper_triangular_distances(df):\n",
    "    # Initialisiere einen leeren DataFrame, um die Distanzen zu speichern\n",
    "    distances = pd.DataFrame()\n",
    "\n",
    "    # Initialisiere eine Variable, um das Paar mit minimaler Distanz zu speichern\n",
    "    min_distance_pair = None\n",
    "    min_distance = np.inf\n",
    "\n",
    "    # Iteriere über jedes Paar von Zeilen im DataFrame\n",
    "    for i in range(len(df)):\n",
    "        for j in range(i+1, len(df)):\n",
    "            # Berechne die euklidische Distanz zwischen den beiden Zeilen\n",
    "            dist = euclidean_distance(df.iloc[i], df.iloc[j])\n",
    "            \n",
    "            # Speichere die Distanz im DataFrame\n",
    "            distances.loc[df.index[i], df.index[j]] = dist\n",
    "\n",
    "            # Überprüfe, ob die aktuelle Distanz kleiner ist als die bisher kleinste Distanz\n",
    "            if dist < min_distance:\n",
    "                min_distance = dist\n",
    "                min_distance_pair = (df.iloc[i], df.iloc[j])\n",
    "\n",
    "    return distances, min_distance_pair\n",
    "\n",
    "# Teste die Funktion mit dem DataFrame E_animals\n",
    "print(E_animals)\n",
    "distance_triangle, mindistance = calculate_upper_triangular_distances(E_animals)\n",
    "print(distance_triangle)\n",
    "print(mindistance)\n"
   ]
  }
 ],
 "metadata": {
  "kernelspec": {
   "display_name": "Python 3 (ipykernel)",
   "language": "python",
   "name": "python3"
  },
  "language_info": {
   "codemirror_mode": {
    "name": "ipython",
    "version": 3
   },
   "file_extension": ".py",
   "mimetype": "text/x-python",
   "name": "python",
   "nbconvert_exporter": "python",
   "pygments_lexer": "ipython3",
   "version": "3.11.3"
  }
 },
 "nbformat": 4,
 "nbformat_minor": 4
}
