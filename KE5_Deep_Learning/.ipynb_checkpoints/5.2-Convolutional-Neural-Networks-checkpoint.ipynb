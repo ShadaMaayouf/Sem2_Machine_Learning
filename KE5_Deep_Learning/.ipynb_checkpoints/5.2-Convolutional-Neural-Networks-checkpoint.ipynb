{
 "cells": [
  {
   "cell_type": "markdown",
   "metadata": {
    "ExecuteTime": {
     "end_time": "2024-01-22T15:05:33.584082Z",
     "start_time": "2024-01-22T15:05:33.537800Z"
    },
    "collapsed": true,
    "jupyter": {
     "outputs_hidden": true
    }
   },
   "source": [
    "# 5.2 Convolutional Neural Networks\n",
    ">## <ins>Table of contents</ins> <a name=\"up\"></a>[<sup>[1]</sup>](#cite_note-1)\n",
    ">* [**5.2.1. Faltung**](#5_2_1)\n",
    ">* [**5.2.2. Padding und Stride**](#5_2_2)\n",
    ">* [**5.2.3. Die Pooling-Operation**](#5_2_3)\n",
    ">* [**5.2.4. CNN-Architektur**](#5_2_4)\n",
    ">\n",
    ">## <ins>Beispiele</ins>\n",
    ">* [**Beispiel 1**:Darstellung von AND-, OR- und XOR-Funktionen mit Perzeptronen](#b1)\n",
    ">* [**Beispiel 2**: Backpropagation-Algorithmus$](#b2)\n",
    ">* [**Beispiel 3**: Q-Learning des Staubsaugerproblems](#b3)"
   ]
  },
  {
   "cell_type": "markdown",
   "metadata": {},
   "source": [
    "### Useful code:"
   ]
  },
  {
   "cell_type": "code",
   "execution_count": 2,
   "metadata": {},
   "outputs": [],
   "source": [
    "import numpy as np\n",
    "import matplotlib.pyplot as plt"
   ]
  },
  {
   "cell_type": "code",
   "execution_count": 6,
   "metadata": {},
   "outputs": [],
   "source": [
    "def multiply_matrix(matrix1, matrix2):\n",
    "    result = np.dot(matrix1, matrix2)\n",
    "    print(result)\n",
    "    return result"
   ]
  },
  {
   "cell_type": "code",
   "execution_count": 4,
   "metadata": {},
   "outputs": [
    {
     "data": {
      "text/plain": [
       "array([[12, 24, 28],\n",
       "       [54, 43, 43],\n",
       "       [67, 50, 89]])"
      ]
     },
     "execution_count": 4,
     "metadata": {},
     "output_type": "execute_result"
    }
   ],
   "source": [
    "import numpy as np\n",
    "\n",
    "# Definieren Sie die Matrix MK\n",
    "MK = np.array([\n",
    "    [1/16, 1/16, 1/16],\n",
    "    [1/16, 1/2, 1/16],\n",
    "    [1/16, 1/16, 1/16]\n",
    "])\n",
    "\n",
    "# Definieren Sie die Matrix MI\n",
    "MI = np.array([\n",
    "    [12, 24, 28, 105, 250, 251],\n",
    "    [54, 43, 43, 42, 221, 241],\n",
    "    [67, 50, 89, 92, 210, 211],\n",
    "    [105, 156, 178, 115, 201, 187],\n",
    "    [19, 78, 125, 108, 52, 188],\n",
    "    [112, 101, 154, 205, 198, 192]\n",
    "])\n",
    "\n",
    "# Wählen Sie eine Untermatrix aus\n",
    "submatrix = MI[:3, :3]\n",
    "submatrix"
   ]
  },
  {
   "cell_type": "code",
   "execution_count": 5,
   "metadata": {},
   "outputs": [
    {
     "name": "stdout",
     "output_type": "stream",
     "text": [
      "[[ 8.3125  7.3125 10.    ]\n",
      " [31.9375 26.125  28.8125]\n",
      " [ 8.3125  7.3125 10.    ]]\n"
     ]
    },
    {
     "data": {
      "text/plain": [
       "array([[ 8.3125,  7.3125, 10.    ],\n",
       "       [31.9375, 26.125 , 28.8125],\n",
       "       [ 8.3125,  7.3125, 10.    ]])"
      ]
     },
     "execution_count": 5,
     "metadata": {},
     "output_type": "execute_result"
    }
   ],
   "source": [
    " multiply_matrix(MK, submatrix)\n"
   ]
  },
  {
   "cell_type": "markdown",
   "metadata": {},
   "source": [
    "## 5.2.0. Einleitung zum Convolutional Neural Network (CNN)<a name=\"5_1_0\"></a>\n",
    "---"
   ]
  },
  {
   "cell_type": "markdown",
   "metadata": {},
   "source": [
    "Ein Convolutional Neural Network (CNN) ist eine spezielle Form eines Feedforward-Netzwerks, das für Daten verwendet wird, die in einer Gitterstruktur angeordnet sind oder bei denen Merkmale in einer räumlichen oder zeitlichen Beziehung zueinander stehen. Es wird häufig in der Bildanalyse eingesetzt, aber auch für Zeitreihen wie Signalmessungen oder natürliche Sprache.\n",
    "\n",
    "#### Anwendungsgebiete von CNNs\n",
    "\n",
    "- **Bilddaten**: Bilder werden als Matrizen interpretiert, wobei jede Zelle den Graustufenwert oder den Farbwert kodiert.\n",
    "- **Zeitreihen**: Zum Beispiel Signalmessungen oder natürliche Sprache.\n",
    "- In diesem Kontext werden wir uns auf die Anwendung in der Bildanalyse konzentrieren, insbesondere auf die Klassifikation von Objekten auf Bildern, wie z.B. die Erkennung von Hunden oder Katzen.\n",
    "\n",
    "#### Herausforderungen bei der Bildanalyse\n",
    "\n",
    "- **Komplexität der Merkmale**: Um Objekte auf Bildern zu klassifizieren, müssen komplexe Merkmale wie Schnurrhaare erkannt werden.\n",
    "- **Variabilität der Position und Orientierung**: Die Merkmale können an verschiedenen Stellen des Bildes auftreten und in verschiedenen Orientierungen vorliegen.\n",
    "\n",
    "#### Motivation für CNNs\n",
    "\n",
    "- Ein herkömmliches Feedforward-Netzwerk würde sehr viele Parameter benötigen, um Merkmale an verschiedenen Stellen des Bildes zu erkennen, was zu Überanpassung führen kann.\n",
    "- Viele Merkmale sind lokalisiert, d.h. bestimmte Bereiche des Bildes sind für die Erkennung bestimmter Merkmale relevant, während andere Bereiche irrelevant sind.\n",
    "\n",
    "#### Zentrale Methode von CNNs: Faltungsoperation\n",
    "\n",
    "- Die Faltungsoperation ist zentral für die Implementierung der Merkmalsextraktion in CNNs.\n",
    "- Sie ermöglicht es, Merkmale wie Schnurrhaare an verschiedenen Positionen und in verschiedenen Orientierungen effizient zu erkennen, ohne dass jede Position separat trainiert werden muss.\n",
    "- Dies reduziert die Anzahl der Parameter und macht das Modell robuster gegenüber Überanpassung."
   ]
  },
  {
   "cell_type": "markdown",
   "metadata": {},
   "source": [
    "## 5.2.1. Faltung <a name=\"5_2_1\"></a>\n",
    "---"
   ]
  },
  {
   "cell_type": "markdown",
   "metadata": {},
   "source": [
    "\r\n",
    "Die (kontinuierliche) Faltungsoperation $\\ast$ ist im einfachsten Fall eine mathematische Operation, die zwei reellwertige Funktionen $i, k : \\mathbb{R} \\rightarrow \\mathbb{R}$ als Eingabe nimmt und eine reellwertige Funktion als Ausgabe liefert, d. h.,\r\n",
    "\r\n",
    "$$\\ast : (\\mathbb{R} \\rightarrow \\mathbb{R}) \\times (\\mathbb{R} \\rightarrow \\mathbb{R}) \\rightarrow (\\mathbb{R} \\rightarrow \\mathbb{R})$$\r\n",
    "\r\n",
    "Konkret ist $\\ast$ definiert als\r\n",
    "\r\n",
    "$$(i \\ast k)(x) = \\int_{-\\infty}^{\\infty} i(y)k(x-y)dy$$\r\n",
    "\r\n",
    "Die Funktion $i$ heißt dabei Eingabefunktion und $k$ heißt Kernelfunktion (oder auch Filterfunktion). Die Ausgabe $i \\ast k$ heißt (im CNN-Kontext) auch Feature Map von $i$ bzndet werden."
   ]
  },
  {
   "cell_type": "markdown",
   "metadata": {},
   "source": [
    "## 5.2.2. Padding und Stride <a name=\"5_2_2\"></a>\n",
    "---"
   ]
  },
  {
   "cell_type": "markdown",
   "metadata": {},
   "source": [
    "## 5.2.3. Die Pooling-Operation <a name=\"5_2_3\"></a>\n",
    "---"
   ]
  },
  {
   "cell_type": "markdown",
   "metadata": {},
   "source": [
    "## 5.2.4. CNN-Architektur <a name=\"5_2_4\"></a>\n",
    "---"
   ]
  },
  {
   "cell_type": "markdown",
   "metadata": {},
   "source": [
    "---\n",
    "<a name=\"up\"></a>**`[Go Up!^](#up)**"
   ]
  },
  {
   "cell_type": "markdown",
   "metadata": {},
   "source": [
    "##### Sources:\n",
    "\n",
    "(1) Why does Q-Learning use epsilon-greedy during testing?. https://stats.stackexchange.com/questions/270618/why-does-q-learning-use-epsilon-greedy-during-testing.\n",
    "(2) Epsilon-Greedy Q-learning | Baeldung on Computer Science. https://www.baeldung.com/cs/epsilon-greedy-q-learning.\n",
    "(3) Epsilon and learning rate decay in epsilon greedy q learning. https://stackoverflow.com/questions/53198503/epsilon-and-learning-rate-decay-in-epsilon-greedy-q-learning.\n",
    "(4) Exploration in Q learning: Epsilon greedy vs Exploration function. https://datascience.stackexchange.com/questions/94029/exploration-in-q-learning-epsilon-greedy-vs-exploration-function."
   ]
  }
 ],
 "metadata": {
  "kernelspec": {
   "display_name": "Python 3 (ipykernel)",
   "language": "python",
   "name": "python3"
  },
  "language_info": {
   "codemirror_mode": {
    "name": "ipython",
    "version": 3
   },
   "file_extension": ".py",
   "mimetype": "text/x-python",
   "name": "python",
   "nbconvert_exporter": "python",
   "pygments_lexer": "ipython3",
   "version": "3.11.3"
  }
 },
 "nbformat": 4,
 "nbformat_minor": 4
}
