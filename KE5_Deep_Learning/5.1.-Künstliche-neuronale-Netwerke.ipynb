{
 "cells": [
  {
   "cell_type": "markdown",
   "metadata": {
    "ExecuteTime": {
     "end_time": "2024-01-22T15:05:33.584082Z",
     "start_time": "2024-01-22T15:05:33.537800Z"
    },
    "collapsed": true,
    "jupyter": {
     "outputs_hidden": true
    }
   },
   "source": [
    "# 5.1. Künstliche neuronale Netwerke\n",
    ">## <ins>Table of contents</ins> <a name=\"up\"></a>[<sup>[1]</sup>](#cite_note-1)\n",
    ">* [**5.1.1. Neuronen**](#5_1_1)\n",
    ">* [**5.1.2. Neuronale Architekturen**](#5_1_2)\n",
    ">* [**5.1.3. Aktivierungsfunktionen**](#5_1_3)\n",
    ">* [**5.1.4. Backpropagation**](#5_1_4)\n",
    ">* [**5.1.5. Praktische Probleme beim Lernen**](#5_1_5)\n",
    ">\n",
    ">## <ins>Beispiele</ins>\n",
    ">* [**Beispiel 1**:Darstellung von AND-, OR- und XOR-Funktionen mit Perzeptronen](#b1)\n",
    ">* [**Beispiel 2**: Backpropagation-Algorithmus$](#b2)\n",
    ">* [**Beispiel 3**: Q-Learning des Staubsaugerproblems](#b3)"
   ]
  },
  {
   "cell_type": "markdown",
   "metadata": {},
   "source": [
    "### Useful code:"
   ]
  },
  {
   "cell_type": "code",
   "execution_count": 1,
   "metadata": {
    "collapsed": true,
    "jupyter": {
     "outputs_hidden": true,
     "source_hidden": true
    },
    "ExecuteTime": {
     "start_time": "2024-02-23T13:55:48.550522Z",
     "end_time": "2024-02-23T13:55:53.338288Z"
    }
   },
   "outputs": [],
   "source": [
    "import numpy as np\n",
    "import matplotlib.pyplot as plt"
   ]
  },
  {
   "cell_type": "code",
   "execution_count": 1,
   "metadata": {
    "ExecuteTime": {
     "start_time": "2024-02-24T18:34:41.647815Z",
     "end_time": "2024-02-24T18:34:42.687066Z"
    },
    "collapsed": true,
    "jupyter": {
     "outputs_hidden": true
    }
   },
   "outputs": [],
   "source": [
    "# Definieren Sie die Funktionen\n",
    "def hthresh(x):\n",
    "    return np.where(x > 0, 1, 0)\n",
    "\n",
    "def hid(x):\n",
    "    return x\n",
    "\n",
    "def hlogit(x):\n",
    "    return round(1 / (1 + np.exp(-x)), 3)\n",
    "\n",
    "def hrelu(x):\n",
    "    return np.maximum(0, x)\n",
    "\n",
    "def htanh(x):\n",
    "    return (np.exp(x) - np.exp(-x)) / (np.exp(x) + np.exp(-x))\n",
    "\n",
    "def hsplus(x):\n",
    "    return np.log(1 + np.exp(x))\n",
    "\n",
    "def logit_cost(y, a):\n",
    "    return -y * np.log(a) - (1 - y) * np.log(1 - a)"
   ]
  },
  {
   "cell_type": "code",
   "execution_count": 32,
   "metadata": {
    "collapsed": true,
    "jupyter": {
     "outputs_hidden": true
    }
   },
   "outputs": [],
   "source": [
    "def multiply_matrix(matrix1, matrix2):\n",
    "    result = np.dot(matrix1, matrix2)\n",
    "    print(result)\n",
    "    if np.size(result) > 1:\n",
    "        return result\n",
    "    else: return [result]"
   ]
  },
  {
   "cell_type": "code",
   "execution_count": 1,
   "metadata": {
    "collapsed": true,
    "jupyter": {
     "outputs_hidden": true,
     "source_hidden": true
    }
   },
   "outputs": [
    {
     "ename": "NameError",
     "evalue": "name 'np' is not defined",
     "output_type": "error",
     "traceback": [
      "\u001B[1;31m---------------------------------------------------------------------------\u001B[0m",
      "\u001B[1;31mNameError\u001B[0m                                 Traceback (most recent call last)",
      "Cell \u001B[1;32mIn[1], line 1\u001B[0m\n\u001B[1;32m----> 1\u001B[0m matrix1\u001B[38;5;241m=\u001B[39m \u001B[43mnp\u001B[49m\u001B[38;5;241m.\u001B[39marray([[\u001B[38;5;241m2\u001B[39m, \u001B[38;5;241m-\u001B[39m\u001B[38;5;241m1\u001B[39m, \u001B[38;5;241m-\u001B[39m\u001B[38;5;241m1\u001B[39m], \n\u001B[0;32m      2\u001B[0m                    [\u001B[38;5;241m0\u001B[39m, \u001B[38;5;241m1\u001B[39m, \u001B[38;5;241m-\u001B[39m\u001B[38;5;241m1\u001B[39m]])\n\u001B[0;32m      3\u001B[0m matrix2 \u001B[38;5;241m=\u001B[39m np\u001B[38;5;241m.\u001B[39marray([\u001B[38;5;241m1\u001B[39m,\u001B[38;5;241m2\u001B[39m,\u001B[38;5;241m-\u001B[39m\u001B[38;5;241m1\u001B[39m])\n\u001B[0;32m      4\u001B[0m z1 \u001B[38;5;241m=\u001B[39m multiply_matrix(matrix1, matrix2)\n",
      "\u001B[1;31mNameError\u001B[0m: name 'np' is not defined"
     ]
    }
   ],
   "source": [
    "matrix1= np.array([[2, -1, -1], \n",
    "                   [0, 1, -1]])\n",
    "matrix2 = np.array([1,2,-1])\n",
    "z1 = multiply_matrix(matrix1, matrix2)"
   ]
  },
  {
   "cell_type": "code",
   "execution_count": 34,
   "metadata": {
    "collapsed": true,
    "jupyter": {
     "outputs_hidden": true,
     "source_hidden": true
    }
   },
   "outputs": [
    {
     "data": {
      "text/plain": [
       "[0.731, 0.953]"
      ]
     },
     "execution_count": 34,
     "metadata": {},
     "output_type": "execute_result"
    }
   ],
   "source": [
    "a1 = list(map(hlogit, z1))\n",
    "a1"
   ]
  },
  {
   "cell_type": "code",
   "execution_count": 35,
   "metadata": {
    "collapsed": true,
    "jupyter": {
     "outputs_hidden": true,
     "source_hidden": true
    }
   },
   "outputs": [
    {
     "data": {
      "text/plain": [
       "[1, 0.731, 0.953]"
      ]
     },
     "execution_count": 35,
     "metadata": {},
     "output_type": "execute_result"
    }
   ],
   "source": [
    "a1.insert(0, 1)\n",
    "a1"
   ]
  },
  {
   "cell_type": "code",
   "execution_count": 36,
   "metadata": {
    "collapsed": true,
    "jupyter": {
     "outputs_hidden": true,
     "source_hidden": true
    }
   },
   "outputs": [
    {
     "name": "stdout",
     "output_type": "stream",
     "text": [
      "[0.585 2.222]\n",
      "[0.642, 0.902]\n"
     ]
    },
    {
     "data": {
      "text/plain": [
       "[1, 0.642, 0.902]"
      ]
     },
     "execution_count": 36,
     "metadata": {},
     "output_type": "execute_result"
    }
   ],
   "source": [
    "matrix1= np.array([[3, -2, -1], \n",
    "                   [2, -1, 1]])\n",
    "z2 = multiply_matrix(matrix1, np.array(a1))\n",
    "a2 = list(map(hlogit, z2))\n",
    "print(a2)\n",
    "a2.insert(0, 1)\n",
    "a2"
   ]
  },
  {
   "cell_type": "code",
   "execution_count": 38,
   "metadata": {
    "collapsed": true,
    "jupyter": {
     "outputs_hidden": true,
     "source_hidden": true
    }
   },
   "outputs": [
    {
     "name": "stdout",
     "output_type": "stream",
     "text": [
      "-1.064\n",
      "[0.257]\n"
     ]
    }
   ],
   "source": [
    "matrix1= np.array([1, 1, -3])\n",
    "z3 = multiply_matrix(matrix1, np.array(a2))\n",
    "a3 = list(map(hlogit, z3))\n",
    "print(a3)"
   ]
  },
  {
   "cell_type": "code",
   "execution_count": null,
   "metadata": {
    "collapsed": true,
    "jupyter": {
     "outputs_hidden": true,
     "source_hidden": true
    }
   },
   "outputs": [],
   "source": [
    "print(round(logit_cost(1, a3[0]), 3))  # Should print: 1.359"
   ]
  },
  {
   "cell_type": "markdown",
   "metadata": {},
   "source": [
    "| Funktion | Formel | Ableitung | \n",
    "| --- | --- | --- |\n",
    "| Schwellwertfunktion ($h^{thresh}$) | $$h^{thresh}(x) = \\begin{cases} 1 & \\text{falls } x > 0 \\\\ 0 & \\text{sonst} \\end{cases}$$ | Nicht definiert |\n",
    "| Identitätsfunktion ($h^{id}$) | $$h^{id}(x) = x$$ | $$1$$ |\n",
    "| Sigmoid-Funktion oder logistische Funktion ($h^{logit}$) | $$h^{logit}(x) = \\frac{1}{1+e^{-x}}$$ | $$h^{logit}(x) \\cdot (1 - h^{logit}(x))$$ |\n",
    "| Rectified Linear Unit (ReLU, dt. Gleichrichter) ($h^{relu}$) | $$h^{relu}(x) = \\max\\{0, x\\}$$ | $$\\begin{cases} 1 & \\text{falls } x > 0 \\\\ 0 & \\text{sonst} \\end{cases}$$ |\n",
    "| Hyperbeltangens-Funktion ($h^{tanh}$) | $$h^{tanh}(x) = \\frac{e^x - e^{-x}}{e^x + e^{-x}}$$ | $$1 - (h^{tanh}(x))^2$$ |\n",
    "| Softplus ($h^{splus}$) | $$h^{splus}(x) = \\ln(1+e^x)$$ | $$h^{logit}(x)$$ |\n"
   ]
  },
  {
   "cell_type": "markdown",
   "metadata": {
    "jp-MarkdownHeadingCollapsed": true
   },
   "source": [
    "## 5.1.0. Einleitung <a name=\"5_1_0\"></a>\n",
    "---"
   ]
  },
  {
   "cell_type": "markdown",
   "metadata": {},
   "source": [
    "1. Ein **künstliches neuronales Netzwerk (ANN)** ist ein vielseitiges Modell für verschiedene Aufgaben des maschinellen Lernens.\n",
    "2. Es ist <ins>an biologische neuronale Netzwerke angelehnt</ins> und besteht aus einer Anordnung von <ins>künstlichen Neuronen</ins>.\n",
    "3. Jedes Neuron führt eine einfache mathematische Operation aus, basierend auf einer Reihe von Gewichten, um Eingaben zu verarbeiten.\n",
    "4. Die moderne Forschung zu ANNs ist weitgehend unabhängig von der Forschung in Biologie und Kognitionswissenschaften.\n",
    "5. ANNs <ins>werden als flexible Datenstruktur</ins> zur Repräsentation von Modellen für maschinelles Lernen betrachtet.\n",
    "6. Der Begriff \"neuronales Netzwerk\" wird im Text oft verwendet, da sich dieser ausschließlich auf die künstliche Variante bezieht.\n",
    "7. ANNs können für überwachtes und unüberwachtes Lernen sowie für das Reinforcement Learning verwendet werden.\n",
    "8. Der Fokus liegt zunächst auf der Anwendung von ANNs für überwachtes Lernen.\n",
    "\n",
    "> **Definition 1.** *künstliches neuronales Netzwerk (ANN)*\n",
    ">\n",
    "> Ein künstliches neuronales Netzwerk (ANN) ist ein mathematisches Modell, das aus einer Anordnung von künstlichen Neuronen besteht und zur Modellierung komplexer Zusammenhänge in Daten verwendet wird, insbesondere für Aufgaben des maschinellen Lernens.\n",
    ">"
   ]
  },
  {
   "cell_type": "markdown",
   "metadata": {
    "jp-MarkdownHeadingCollapsed": true
   },
   "source": [
    "## 5.1.1. Neuronen <a name=\"5_1_1\"></a>\n",
    "---"
   ]
  },
  {
   "cell_type": "markdown",
   "metadata": {},
   "source": [
    "- Die Grundeinheit eines ANNs.\n",
    "\n",
    ">**Definition 2.** *künstliches Neuron*\n",
    ">\n",
    ">Ein künstliches Neuron ist eine grundlegende Einheit eines künstlichen neuronalen Netzwerks, das Eingaben verarbeitet, eine mathematische Operation durchführt und das Ergebnis an nachfolgende Neuronen weitergibt oder als Gesamtergebnis des Netzwerks ausgibt.\n",
    ">\n",
    ">Formal heißt das:\n",
    ">\n",
    ">Sei $n \\in \\mathbb{N}$. Ein Neuron $r$ ist ein Tupel $r = (w, \\text{act})$ mit $w \\in \\mathbb{R}^{n+1}$ und $\\text{act} : \\mathbb{R} \\to \\mathbb{R}$.\n"
   ]
  },
  {
   "attachments": {},
   "cell_type": "markdown",
   "metadata": {},
   "source": [
    "\n",
    "- Der Parameter $n$ ist die Länge der Eingabe für das Neuron $r = (w, \\text{act})$.\n",
    "- Der Vektor  $w = (w_0, w_1, \\ldots, w_n)^T \\in \\mathbb{R}^{n+1}$ sind die Parameter von $r$.\n",
    "- $\\text{act}$ ist die Aktivierungsfunktion des Neurons.\n",
    "- Die Aktivierungsfunktion bestimmt, wann die Eingabe eines Neurons ausreicht, um dieses zu aktivieren, d.h., einen relativ \"hohen\" Wert als Ausgabe zu produzieren.\n",
    "- Ein einfaches Beispiel für eine Aktivierungsfunktion ist die Schwellwertfunktion $$h_{\\text{thresh}}(x) = \\begin{cases} 1 & \\text{falls } x > 0 \\\\ 0 & \\text{sonst} \\end{cases}$$\n",
    "- In der Praxis ist die Schwellwertfunktion $h_{\\text{thresh}}$ keine sehr gute Aktivierungsfunktion. Dennoch dient sie als einfaches Beispiel, um den Begriff der Aktivierungsfunktion zu veranschaulichen. In Abschnitt 5.1.3 wird das Thema der Aktivierungsfunktionen genauer behandelt.\n",
    "\n",
    "- Wenn $x = (x_1, ..., x_n) \\in \\mathbb{R}^n$ die Eingabe für $r$ ist, berechnet $r$ den Aktivierungswert $a_r$, definiert durch $$z_r = w_0 + w_1x_1 + ... + w_nx_n$$ und $$a_r = \\text{act}(z_r)$$\n",
    "- Der Zwischenwert $z_r$ wird auch als **linearer Anteil** von $r$ bezeichnet.\n",
    "- Wenn $r = (w, \\text{act})$, dann schreiben wir $$r_{w, \\text{act}}(x) = \\text{act}(w_0 + w_1x_1 + ... + w_nx_n)$$ für die gesamte Funktion, die von $r$ dargestellt wird. Eine schematische Darstellung eines Neurons ist in Abbildung 1 zu finden.\n",
    "- Um die Notation zu vereinfachen, wird üblicherweise angenommen, dass jedes Neuron neben der Eingabe $x = (x_1, ..., x_n) \\in \\mathbb{R}^n$ noch einen zusätzlichen konstanten Eingabewert $x_0 = 1$ enthält.\n",
    "- Wenn $x = (x_0, x_1, ..., x_n) \\in \\mathbb{R}^n$ mit $x_0 = 1$, dann gilt einfach $$z_r = w^T x = w_0x_0 + w_1x_1 + ... + w_nx_n$$ und $$a_r = \\text{act}(z_r)$$\n",
    "\n",
    "> Die zusätzliche Eingabe $x_0$ heißt **Bias-Eingabe**"
   ]
  },
  {
   "cell_type": "markdown",
   "metadata": {},
   "source": [
    "![neuron](./neuron.PNG)"
   ]
  },
  {
   "cell_type": "code",
   "execution_count": 12,
   "metadata": {
    "ExecuteTime": {
     "end_time": "2024-02-10T13:54:02.477373Z",
     "start_time": "2024-02-10T13:54:02.034435Z"
    },
    "collapsed": true,
    "jupyter": {
     "outputs_hidden": true,
     "source_hidden": true
    }
   },
   "outputs": [
    {
     "name": "stdout",
     "output_type": "stream",
     "text": [
      "Das Ausgabe des Neurons ist: 1\n"
     ]
    }
   ],
   "source": [
    "import numpy as np\n",
    "\n",
    "# Define the activation function\n",
    "def act(z):\n",
    "    # This is an example of a threshold activation function\n",
    "    return 1 if z > 0 else 0\n",
    "\n",
    "# Define the neuron function\n",
    "def neuron(w, x):\n",
    "    # Compute the linear part\n",
    "    #new_x = np.insert(x, 0, 1)\n",
    "    z = np.dot(w, x)\n",
    "    # Apply the activation function\n",
    "    a = act(z)\n",
    "    return a\n",
    "\n",
    "# Parametervektor w\n",
    "w = np.array([0.5, -0.2, 0.1])\n",
    "\n",
    "# Eingabevektor x\n",
    "x = np.array([1, 0.3, 0.8])\n",
    "\n",
    "# Aufruf der Neuronenfunktion mit den Testdaten\n",
    "output = neuron(w, x)\n",
    "\n",
    "print(\"Das Ausgabe des Neurons ist:\", output)\n"
   ]
  },
  {
   "cell_type": "markdown",
   "metadata": {},
   "source": [
    "- Ein einzelnes Neuron $r = (w, \\text{act})$ kann bereits als einfaches Modell für das maschinelle Lernen verwendet werden.\n",
    "\n",
    "- Sei $D = \\{(x^{(1)}, y^{(1)}), ..., (x^{(m)}, y^{(m)})\\}$ ein Trainingsdatensatz für ein überwachtes Lernproblem (*z.B. Regression oder Klassifikation*), und $L$ sei eine Kostenfunktion für das Lernproblem d.h. $L(D,f)$ gibt an wie gut eine Funktion $f: \\mathbb{R}^n \\to \\mathbb{R}$ die Daten in $D$ repräsentieren kann.\n",
    "\n",
    "  Das Ziel ist es, Parameter $\\hat{w}$ zu finden, so dass $L(D, r_{\\hat{w}, \\text{act}})$ minimal ist. Die Funktion, die durch ein Neuron $r$ dargestellt wird, verallgemeinert bereits einige bekannte Modelle des maschinellen Lernens:\n",
    "    1. Wenn $\\text{act} = h^{id}$ die *Identitätsfunktion* ist und $L = L^{\\text{qF}}$ der quadratische Fehler $$L_qF(D, f) = \\sum_{i=1}^{m} (f(x^{(i)}) - y^{(i)})^2$$, dann <ins>entspricht $r_{\\hat{w}, \\text{act}}$ der optimal angepassten linearen Funktion für die lineare Regression</ins>.\n",
    "    \n",
    "    2. Wenn $\\text{act} = h^{\\text{logit}}$ die *Sigmoid-Funktion* ist und $L = L^{\\text{logit}}$ die *logistische Kostenfunktion* $$L_{\\text{logit}}(D, f) = -\\sum_{i=1}^{m} \\left[ y^{(i)} \\log f(x^{(i)}) + (1 - y^{(i)}) \\log (1 - f(x^{(i)})) \\right]$$, dann entspricht $r_{\\hat{w}, \\text{act}}$ dem optimalen Modell für die logistische Regression aus <ins>[Unterkapitel 2.2.](http://localhost:8888/lab/tree/KE2_ueberwachtes_Lernen/2_2_Logistische_Regression/2_2_logistische_regression.ipynb)</ins>.\n",
    "\n",
    "- Durch Aneinanderreihung mehrerer Neuronen, wird die Ausdrucksstärke signifikant erhöht.\n",
    "  \n",
    "> **!!**\n",
    ">\n",
    "> Eine Support Vector Machine kann ebenfalls als einzelnes Neuron dargestellt werden, wobei die konkrete Aktivierungs- und Kostenfunktion je nach Implementierung variieren."
   ]
  },
  {
   "cell_type": "markdown",
   "metadata": {},
   "source": [
    "## 5.1.2. Neuronale Architekturen <a name=\"5_1_2\"></a>\n",
    "---"
   ]
  },
  {
   "cell_type": "markdown",
   "metadata": {},
   "source": [
    "- Ein einzelnes Neuron kann bereits eine Reihe von klassischen Modellen des maschinellen Lernens darstellen.\n",
    "- Eine einfache Architektur eines neuronalen Netzwerks mit einem einzelnen Neuron wurde bereits in den 1940/50er Jahren unter dem Namen **Perzeptron** entwickelt.\n",
    "- Das Perzeptron verwendet die Schwellwertfunktion $h^{\\text{thresh}}$ als Aktivierungsfunktion.\n",
    "- In den ursprünglichen Arbeiten zum Perzeptron wurde die Kostenfunktion nicht explizit beschrieben, jedoch wird hier der quadratische Fehler $L_{\\text{qF}}$ zu Demonstrationszwecken verwendet.\n",
    "- **Das Problem mit dem Perzeptron**, das dazu führte, dass die Forschung zu neuronalen Netzen lange Zeit in Vergessenheit geriet, ist seine Unzulänglichkeit bei der Darstellung der relativ simplen XOR-Funktion."
   ]
  },
  {
   "cell_type": "markdown",
   "metadata": {},
   "source": [
    "#### **Beispiel 1.** <a name=\"b1\"></a> Darstellung von AND-, OR- und XOR-Funktionen mit Perzeptronen\n",
    "\n",
    "Wir betrachten zunächst das Problem der Darstellung der AND-Funktion, d.h., der Bool’schen Funktion\n",
    "$$\\text{AND} : \\{0,1\\} \\times \\{0,1\\} \\rightarrow \\{0,1\\}$$ \n",
    "definiert durch\n",
    "$$\\text{AND}(0,0) = \\text{AND}(0,1) = \\text{AND}(1,0) = 0$$\n",
    "$$\\text{AND}(1,1) = 1$$\n",
    "Die AND-Funktion kann leicht mit einem Perzeptron implementiert werden, insbesondere gilt $\\text{AND} = r_{(-1,1,1)^T ,h^{\\text{thresh}}}$, siehe Abbildung 3. \n",
    "\n"
   ]
  },
  {
   "cell_type": "markdown",
   "metadata": {},
   "source": [
    "![neuron](./and.PNG)"
   ]
  },
  {
   "cell_type": "markdown",
   "metadata": {},
   "source": [
    "In ähnlicher Weise kann die OR-Funktion durch $r_{(0,1,1)^T ,h^{\\text{thresh}}}$ und die NEG-Funktion durch\n",
    "$r_{(1, -1)^T ,h^{\\text{thresh}}}$ dargestellt werden. \n",
    "\n",
    "Betrachten wir nun die XOR-Funktion definiert durch\n",
    "$$\\text{XOR}(0,0) = \\text{XOR}(1,1) = 0$$\n",
    "$$\\text{XOR}(0,1) = \\text{XOR}(1,0) = 1$$\n",
    "Die XOR-Funktion kann nicht durch ein Perzeptron (oder jedes andere einzelne Neuron) dargestellt werden. Die\n",
    "Leserin/der Leser ist eingeladen, sich von diesem Umstand selbst zu überzeugen.\n",
    "\n",
    ">Ein **Perzeptron** ist ein einfacher Typ eines künstlichen Neurons, der eine lineare Trennung zwischen den Klassen in seinem Eingaberaum durchführt. Das bedeutet, dass ein Perzeptron nur Funktionen lernen kann, die linear trennbar sind. Die XOR-Funktion ist jedoch **nicht linear trennbar**. Wenn Sie die möglichen Eingaben und Ausgaben der XOR-Funktion in einem zweidimensionalen Raum darstellen (mit den Eingaben auf den Achsen und der Ausgabe als Farbe oder Symbol), werden Sie feststellen, dass es keine gerade Linie gibt, die die Punkte mit der Ausgabe 1 von den Punkten mit der Ausgabe 0 trennt.\n",
    ">Daher kann ein einzelnes Perzeptron (oder jedes andere einzelne Neuron) die XOR-Funktion nicht darstellen. Sie benötigen ein Netzwerk aus Perzeptronen (oder Neuronen), um die XOR-Funktion zu modellieren. "
   ]
  },
  {
   "cell_type": "markdown",
   "metadata": {},
   "source": [
    "Da einzelne Perzeptronen die Bool’schen Operatoren AND, OR und NEG repräsentieren können und es leicht zu erkennen ist, dass\n",
    "$$\\text{XOR}(x_1, x_2) = \\text{AND}(\\text{OR}(x_1, x_2),\\text{NEG}(\\text{AND}(x_1, x_2)))$$\n",
    "\n",
    "gilt, liegt es nahe, komplexe Funktionen wie XOR durch Aneinanderreihung von Neuronen der Basisfunktionen zu realisieren. Mit den obigen Erkenntnissen folgt auch direkt, dass\n",
    "\n",
    "$$\\text{XOR}(x_1, x_2) = r_{(-1,1,1)^T ,h^{\\text{thresh}}} \\left( r_{(0,1,1)^T ,h^{\\text{thresh}}} (x_1, x_2),r_{(1,-1)^T ,h^{\\text{thresh}}} \\left( r_{(-1,1,1)^T ,h^{\\text{thresh}}} (x_1, x_2) \\right) \\right)$$\n",
    "\n",
    "gilt. Eine entsprechende schematische Darstellung des neuronalen Netzwerks ist in Abbildung 4 zu finden.\n",
    "\n",
    "![neuron](./xor.PNG)"
   ]
  },
  {
   "cell_type": "markdown",
   "metadata": {},
   "source": [
    "##### Feedforward-Netzwerk\n",
    "\n",
    "- Ein neuronales Netzwerk wird üblicherweise in **Schichten** angeordnet, wobei jede Schicht die Ausgaben der vorherigen Schichten als Eingabe erhält und die Ausgabe an die nächste Schicht weiterleitet. Diese Art von Netzwerk wird als **Feedforward-Netzwerk** bezeichnet.\n",
    "\n",
    "- Die allgemeine Struktur eines Feedforward-Netzwerks für eine Regressions- oder binäre Klassifikationsaufgabe ist in Abbildung 5 dargestellt.\n",
    "![Feedforward-Netzwerk](./Feedforward-Netzwerk.PNG)"
   ]
  },
  {
   "attachments": {},
   "cell_type": "markdown",
   "metadata": {},
   "source": [
    "- Das Netzwerk besteht aus $l$ Schichten, wobei die Eingabeschicht (bestehend aus dem Eingabevektor $(x_0, x_1,..., x_n)$, inklusive dem\n",
    "Bias-Neuron $x_0 = 1$) nicht gezählt wird. Die Ausgabeschicht hat einen Index $l$, und die Schichten mit den Indizes $1, ..., l-1$ werden als versteckte Schichten bezeichnet.\n",
    "- Jede Schicht kann eine unterschiedliche Anzahl von Neuronen enthalten.\n",
    "> z.B. in Abbildung 5 enthält die Eingabeschicht $n_0 = n + 1$ Eingabeneuronen (inklusive dem Bias-Neuron), die versteckte Schicht $k = 1,...,l − 1$ enthält $n_k$ Neuronen und die Ausgabeschicht ein Neuron.\n",
    "\n",
    "\n",
    "- Zwischen jedem Paar von aufeinanderfolgenden Schichten $k-1$ und $k$ für $k = 1,...,l − 1$ gibt es eine Parametermatrix **Gewichtsmatrix**  $W^{(k-1)} \\in \\mathbb{R}^{n_k \\times n_k -1} $, die die Parameter der Neuronen der $k$-ten Schicht enthält.\n",
    "\n",
    "- Allgemein bezeichnet $W^{(x)}_{y,z}$ das Gewicht des z-ten Neurons der x-ten Schichten in der Berechnung des Wertes im y-ten Neuron der x+1-ten Schicht. Genauer, ist $x = (x_0, x_1,..., x_n)$ die Eingabe des Netzwerkes (mit $x_0 = 1$), so berechnen sich die Aktivierungswerte der ersten versteckten Schicht durch\n",
    "\n",
    "$$a^{(1)}_i = \\text{act}\\left(W^{(0)}_{i,0} x_0 + W^{(0)}_{i,1} x_1 +...+ W^{(0)}_{i,n} x_n\\right)$$\n",
    "\n",
    "  für $i = 1,...,n_1$.\n",
    "\n",
    "  Für $a^{(1)} = (a^{(1)}_1 ,...,a^{(1)}_{n_1}) \\in \\mathbb{R}^{n_1}$ schreiben wir dies verkürzt als\n",
    "\n",
    "  $$a^{(1)} = \\text{act}\\left(W^{(0)}x\\right)$$\n",
    "\n",
    "  wobei die Anwendung der Aktivierungsfunktion act hierbei komponentenweise zu verstehen ist.\n",
    "\n",
    "- Die Gesamtfunktion, die durch das Netzwerk dargestellt wird, kann als <ins>Komposition der Aktivierungsfunktionen und Gewichtsmatrizen geschrieben werden</ins>.\n",
    "\n",
    "- Allgemein berechnen sich die Aktivierungswerte der k-ten Schicht aus den schon berechneten Werten der (k-1)-ten Schicht durch\n",
    "\n",
    "$$a^{(k)} = \\text{act}\\left(W^{(k-1)}a^{(k-1)}\\right)$$\n",
    "\n",
    "für $k = 1,...,l$ (beachten Sie auch, dass die Bias-Neuronen stets auf den rechten Seiten zusätzlich hinzugefügt werden müss\n",
    "\n",
    "n). Sei $W = \\{W^{(0)},...,W^{(l-1)}\\}$ die geordnete Menge aller Gewichtsmatrizen der einzelnen Schichten. Die insgesamt durch das Netzwerk in Abbildung 5 dargestellte Funktion $\\phi_W(x)$ (also der Wert $a^{(l)}_1$ aus dem \"Ausgabevektor\" $a^{(l)} = (a^{(l)}_1)$ (bei Eingabe von x) kann also geschrieben werden als\n",
    "\n",
    "$$\\phi_W(x) = \\text{act}\\left(W^{(l-1)}\\text{act}\\left(W^{(l-2)} ... \\text{act}\\left(W^{(1)}\\text{act}\\left(W^{(0)}x\\right)\\right)\\right)\\right) \\tag{1}$$\n",
    "\n",
    "\n",
    "![abbildung6](./abbildung6.PNG)"
   ]
  },
  {
   "cell_type": "markdown",
   "metadata": {},
   "source": [
    "In der obigen Darstellung haben wir implizit angenommen, dass die Aktivierungsfunktion act für alle Neuronen des Netzwerks identisch ist. Dies ist **nicht** notwendigerweise der Fall.\n",
    "\n",
    "Üblicherweise haben Neuronen der inneren Schichten eine identische Aktivierungsfunktion, die Aktivierungsfunktion der Ausgabeschicht ist aber anwendungsabhängig uundü¨blicherweise nicht identisch mit denen der versteckten SchichtenU"
   ]
  },
  {
   "cell_type": "markdown",
   "metadata": {},
   "source": [
    "- Ein neuronales Netzwerk mit nur einer versteckten Schicht kann jede beliebige Funktion beliebig genau approximieren, vorausgesetzt die verwendeten Aktivierungsfunktionen <ins>sind nicht-linear</ins>.\n",
    "- Tiefe Netzwerke, die aus mindestens zwei versteckten Schichten bestehen, bilden die Grundlage für moderne Deep-Learning-Techniken.\n",
    "- Durch die Aufteilung einer komplexen Lernaufgabe in Teilaufgaben und die Verknüpfung der Ergebnisse in späteren Schichten können tiefe Netzwerke komplexe Konzepte lernen.\n",
    "- Tiefe Netzwerke ermöglichen das automatische Erlernen von Zwischenkonzepten, was bedeutet, dass der Lernalgorithmus entscheidet, welche Merkmale repräsentiert werden, ohne dass der Benutzer diese manuell festlegen muss.\n",
    "- Der Lernprozess tiefer Netzwerke erfordert große Mengen an Trainingsdaten und leistungsfähige Hardware, um effektiv zu funktionieren.\n",
    "- Für die Optimierung von tiefen Netzwerken werden numerische Methoden wie der Gradientenabstieg verwendet, wobei der Backpropagation-Algorithmus eine zentrale Rolle spielt.\n",
    "- Ein Feedforward-Netzwerk mit einem Ausgabeneuron <ins>eignet sich sowohl für Regression als auch für binäre Klassifikation</ins>. Für die Mehrklassenklassifikation werden entsprechend k Neuronen in der Ausgabeschicht benötigt, wobei die Ausgabewerte eine Wahrscheinlichkeitsverteilung über die Klassen darstellen."
   ]
  },
  {
   "cell_type": "markdown",
   "metadata": {},
   "source": [
    "\n",
    "1. Tiefe Netzwerke sind sehr breit anwendbare Modelle des maschinellen Lernens.\n",
    "2. Die Fähigkeit von tiefen Netzwerken, beim Lernen automatisch \"Zwischenkonzepte\" zu erlernen, bringt die größte Herausforderung mit sich, nämlich den Aufwand des Lernens.\n",
    "3. Sei $D = \\{(x^{(1)}, y^{(1)}),...,(x^{(m)}, y^{(m)})\\}$ ein Trainingsdatensatz für ein binäres Klassifikationsproblem (es gilt also $y^{(1)},..., y^{(m)} \\in \\{0,1\\}$).\n",
    "4. Um ein tiefes Netzwerk für die binäre Klassifikation zu trainieren, benutzt man üblicherweise die schon bekannte logistische Kostenfunktion $L_{logit}$:\n",
    "    $$L_{logit}(D, f) = -\\sum_{i=1}^{m} y^{(i)} \\log f(x^{(i)})+(1-y^{(i)})\\log(1- f(x^{(i)}))$$\n",
    "5. Die Lernaufgabe ist das Lösen des folgenden Optimierungsproblems: $$\\hat{W} = \\arg\\min_W L_{logit}(D,\\phi_W)$$\n",
    "6. Numerische Methoden zur Lösung des obigen Optimierungsproblems, wie etwa Gradient Descent, benötigen die Berechnung und Auswertung diverser Ableitungen der Zielfunktion $L_{logit}(D,\\phi_W)$, dessen zentraler Bestandteil $\\phi_W$ ist.\n",
    "7. Die Berechnung und Auswertung von Ableitungen von $\\phi_W$ bzgl. eines Parameters $W^{(k)}_{x,y}$ ist eine sehr aufwändige Angelegenheit und selbst für relativ kleine Netzwerke in direkter Form nicht praktikabel.\n",
    "8. Dieses Hindernis wird allerdings durch den Backpropagation-Algorithmus gelöst.\n",
    "9. Ein weiteres Problem zur Lösung von (2) ist gegeben durch die sehr hohe Anzahl an Parametern und die sehr große Menge an Trainingsdaten, die nötig ist, diese Parameter ausreichend gut zu erlernen.\n",
    "10. Erst durch Hardwareentwicklungen Anfang der 2010er konnten tiefe Netzwerke ausreichend gut gelernt werden, um in der Praxis gute Ergebnisse zu liefern."
   ]
  },
  {
   "cell_type": "markdown",
   "metadata": {
    "jp-MarkdownHeadingCollapsed": true
   },
   "source": [
    "## 5.1.3. Aktivierungsfunktionen <a name=\"5_1_3\"></a>\n",
    "---"
   ]
  },
  {
   "cell_type": "markdown",
   "metadata": {},
   "source": [
    "die Wahl der richtigen Aktivierungsfunktion kann sowohl den Lernaufwand als auch die Qualität des gelernten Netzwerks stark beeinflussen. Hier die Aktivierungsfunktionen, die wir bisher schon kennengelernt haben sowie weitere in der Praxis gebräuchliche Aktivierungsfunktionen :\n",
    "\n",
    "Natürlich, hier sind die Funktionen in einer Tabelle:\n",
    "\n",
    "| Funktion | Formel |Eigenschaft|\n",
    "| --- | --- | --- |\n",
    "| Schwellwertfunktion ($h^{thresh}$) | $$h^{thresh}(x) = \\begin{cases} 1 & \\text{falls } x > 0 \\\\ 0 & \\text{sonst} \\end{cases}$$ ||\n",
    "| Identitätsfunktion ($h^{id}$) | $$h^{id}(x) = x$$ ||\n",
    "| Sigmoid-Funktion oder logistische Funktion ($h^{logit}$) | $$h^{logit}(x) = \\frac{1}{1+e^{-x}}$$ ||\n",
    "| Rectified Linear Unit (ReLU, dt. Gleichrichter) ($h^{relu}$) | $$h^{relu}(x) = \\max\\{0, x\\}$$ ||\n",
    "| Hyperbeltangens-Funktion ($h^{tanh}$) | $$h^{tanh}(x) = \\frac{e^x - e^{-x}}{e^x + e^{-x}}$$ ||\n",
    "| Softplus ($h^{splus}$) | $$h^{splus}(x) = \\ln(1+e^x)$$ |ist immer positiv|\n",
    "\n",
    "itiv |\n",
    "Die Kurvenverläufe dieser Aktivierungsfunktionen sind in Abbildung 7 dargestellt."
   ]
  },
  {
   "cell_type": "code",
   "execution_count": 13,
   "metadata": {
    "collapsed": true,
    "jupyter": {
     "outputs_hidden": true,
     "source_hidden": true
    }
   },
   "outputs": [
    {
     "data": {
      "image/png": "[encoded data removed]",
      "text/plain": [
       "<Figure size 1500x1000 with 6 Axes>"
      ]
     },
     "metadata": {},
     "output_type": "display_data"
    }
   ],
   "source": [
    "# Erstellen Sie ein Array von x-Werten\n",
    "x = np.linspace(-10, 10, 400)\n",
    "\n",
    "# Erstellen Sie ein 2x3-Raster von Plots\n",
    "fig, axs = plt.subplots(2, 3, figsize=(15, 10))\n",
    "\n",
    "# Zeichnen Sie jede Funktion in einem separaten Subplot\n",
    "axs[0, 0].plot(x, hthresh(x))\n",
    "axs[0, 0].set_title('hthresh')\n",
    "axs[0, 0].set_xlim([-10, 10])\n",
    "\n",
    "axs[0, 1].plot(x, hid(x))\n",
    "axs[0, 1].set_title('hid')\n",
    "axs[0, 1].set_xlim([-10, 10])\n",
    "\n",
    "axs[0, 2].plot(x, hlogit(x))\n",
    "axs[0, 2].set_title('hlogit')\n",
    "axs[0, 2].set_xlim([-10, 10])\n",
    "\n",
    "axs[1, 0].plot(x, hrelu(x))\n",
    "axs[1, 0].set_title('hrelu')\n",
    "axs[1, 0].set_xlim([-10, 10])\n",
    "\n",
    "axs[1, 1].plot(x, htanh(x))\n",
    "axs[1, 1].set_title('htanh')\n",
    "axs[1, 1].set_xlim([-10, 10])\n",
    "\n",
    "axs[1, 2].plot(x, hsplus(x))\n",
    "axs[1, 2].set_title('hsplus')\n",
    "axs[1, 2].set_xlim([-10, 10])\n",
    "\n",
    "# Anzeigen der Plots\n",
    "plt.tight_layout()\n",
    "plt.show()"
   ]
  },
  {
   "cell_type": "markdown",
   "metadata": {},
   "source": [
    "> **Warum findet $h^{id}$ kaum Anwendung in neuronalen Netzen?**\n",
    ">\n",
    "> Die Funktion $h^{id}$ findet kaum Anwendung in neuronalen Netzen, da sie die Ausdrucksstärke des Netzes stark einschränkt.\n",
    ">\n",
    "> Wenn alle Neuronen im Netzwerk die Identitätsfunktion als Aktivierungsfunktion besitzen, repräsentiert das gesamte Netzwerk eine lineare Funktion, was nicht ausdrucksstärker ist als ein einzelnes Neuron.\n",
    "\n",
    "- Die Ableitung der Aktivierungsfunktion spielt eine wichtige Rolle beim Lernen von neuronalen Netzen, da lokale Ableitungen benötigt werden, um Änderungen der Gewichte mit Methoden wie dem Gradientenabstieg zu berechnen.\n",
    "- Eine wohldefinierte und informative Ableitung der Aktivierungsfunktion erleichtert den Lernprozess.\n",
    "- Die Schwellwertfunktion ($h^{thresh}$) wird aufgrund ihrer Ableitung, die größtenteils null ist, kaum in praktischen Anwendungen verwendet.\n",
    "- Die Funktion $h^{relu}$ (Rectified Linear Unit) wird aufgrund ihrer mathematischen Einfachheit und leicht berechenbaren Ableitung am häufigsten verwendet, obwohl auch ihre Ableitung bei $x = 0$ undefiniert ist.\n",
    "- Für die Ausgabeschicht werden je nach Anwendungsfall andere Aktivierungsfunktionen gewählt.\n",
    "- Für Regressionsaufgaben kann die Identitätsfunktion passend sein, da sie die gesamten reellen Zahlen als Zielmenge darstellen kann.\n",
    "- Für binaäre Klassifikationsaufgaben bietet sich die Verwendung der Sigmoid-Funktion ($h^{logit}$) an.\n",
    "\n",
    "- Bei der Mehrklassenklassifikation wird in der Ausgabeschicht üblicherweise die Softmax-Funktion angewendet, um sicherzustellen, dass alle Werte der Ausgabeschicht sich zu 1 aufsummieren.\n",
    "- Die Ausgaben der vorherigen Schicht $a^{(l-1)}_1, ..., a^{(l-1)}_k$ repräsentieren typischerweise die \"Stärke\" der Klassifikation der einzelnen $k$ Klassen.\n",
    "- Die Ausgaben der Ausgabeschicht berechnen sich dann gemäß der Softmax-Funktion: $$a^{(l)}_j = \\frac{e^{a^{(l-1)}_j}}{\\sum_{i=1}^k e^{a^{(l-1)}_i}}$$ für alle $j = 1, ..., k.$\n",
    "- Die Summe aller Ausgaben der Ausgabeschicht ist gleich 1: $$a^{(l)}_1 + ... + a^{(l)}_k = 1$$"
   ]
  },
  {
   "cell_type": "markdown",
   "metadata": {},
   "source": [
    "## 5.1.4. Backpropagation <a name=\"5_1_4\"></a>\n",
    "---"
   ]
  },
  {
   "cell_type": "markdown",
   "metadata": {},
   "source": [
    "##### ANN für ein binäres Klassifikationsproblem:\n",
    "\n",
    "- Es wird die Architektur eines neuronalen Netzwerks (ANN) betrachtet, das für ein binäres Klassifikationsproblem verwendet wird. Der Datensatz D besteht aus Eingabe- und Zielwertpaaren $D = \\{(x^{(1)}, y^{(1)}), \\ldots, (x^{(m)}, y^{(m)})\\}$, wobei die Zielwerte binär sind $y^{(1)}, \\ldots, y^{(m)} \\in \\{0,1\\}$.\n",
    "- Die logistische Kostenfunktion $L^{logit}$ wird für das Lernproblem verwendet: $$L^{\\text{logit}}(D, f) = -\\sum_{i=1}^{m} y^{(i)} \\log f(x^{(i)}) + (1 - y^{(i)}) \\log (1 - f(x^{(i)}))$$\n",
    "\n",
    "- Die Kostenfunktion kann durch den logistischen Einzelkostenwert $cost_{L^{logit}}$ vereinfacht werden: $$\\text{cost}_{L^{\\text{logit}}}(y, y') = -y \\log y' - (1 - y) \\log (1 - y')$$ <a name=cost></a>\n",
    "- Vereinfacht heißt es: $$L^{\\text{logit}}(D, f) = \\sum_{i=1}^{m} \\text{cost}_{L^{\\text{logit}}}(y^{(i)}, f(x^{(i)}))$$\n",
    "\n",
    "- Andere Kostenfunktionen können je nach Architektur und Problemstellung verwendet werden, jedoch bleibt der Zusammenhang zwischen Gesamtkostenfunktion und Einzelkostenwerten ähnlich.\n",
    "- Das Ziel des Lernprozesses ist es, die Gewichte W so anzupassen, dass das neuronale Netzwerk optimal an den Datensatz angepasst ist. Eine mögliche Methode zur Optimierung der Gewichte nennt sich **Gradient Descent**."
   ]
  },
  {
   "cell_type": "markdown",
   "metadata": {},
   "source": [
    "####  Backpropagation-Algorithmus\n",
    "- Der Backpropagation-Algorithmus wird eingeführt, um die partiellen Ableitungen der Kostenfunktion nach den Gewichten zu berechnen.\n",
    "- Die Vorwärts- und Rückwärtspropagationsschritte des Backpropagation-Algorithmus werden erklärt.\n",
    "- Die Berechnung der partiellen Ableitungen für einzelne Gewichte wird durch die Anwendung der Kettenregel und dynamischen Programmierung vereinfacht.\n",
    "\n",
    "Der Backpropagation-Algorithmus besteht aus zwei Hauptphasen: der Vorwärtspropagation und der Rückwärtspropagation. Hier sind die Schritte für jede Phase klar dargestellt:"
   ]
  },
  {
   "cell_type": "markdown",
   "metadata": {},
   "source": [
    "1. **Vorwärtspropagation**:\n",
    "    - Berechnen Sie die linearen Anteile $$z^{(1)} = W^{(0)}x$$ und die Aktivierungswerte $$a^{(1)} = act(z^{(1)})$$ der ersten Schicht.\n",
    "    - Propagieren Sie die Werte durch das gesamte Netzwerk bis zur Ausgabeschicht, d.h., berechnen Sie $$z^{(i)} = W^{(i-1)}a^{(i-1)}$$ und $$a^{(i)} = act(z^{(i)})$$ für alle $i = 2,...,l$.\n",
    "\n",
    "2. **Rückwärtspropagation**:\n",
    "    - Beginnen Sie mit der Berechnung von $$\\delta(z^{(l)}_1) = \\frac{\\partial cost(y,\\phi_W(x))}{\\partial z^{(l)}_1}$$\n",
    "    - Für die Neuronen der versteckten Schichten, berechnen Sie $$\\delta(z^{(k)}_j) = act'(z^{(k)}_j)\\sum_{i=1}^{n_{k+1}}\\delta(z^{(k+1)}_i)W^{(k)}_{i,j}$$ für $k = 1,...,l-1$ und $j = 1,...,n_k$.\n",
    "\n",
    "\n",
    "."
   ]
  },
  {
   "cell_type": "markdown",
   "metadata": {},
   "source": [
    "3. **Berechnung der partiellen Ableitungen**:\n",
    "    \n",
    "    1. Die Fehlerwerte der Gewichte durch die partiellen Ableitungen können dann berechnet werden als $$\\frac{\\partial cost(y,\\phi_W(x))}{\\partial W^{(k)}_{i,j}} = \\delta(z^{(k+1)}_i)a^{(k)}_j \\tag{1}$$<a name=delta1>\n",
    "      wobei $\\delta(z^{(k+1)}_i)$ wird berechnet durch: $$\\delta(z^{(k)}_j) = \\frac{\\partial cost(y,\\phi_W(x))}{\\partial z^{(k)}_{j}} \\\\\n",
    "= act'(z^{(k)}_j) \\sum_{i=1}^{n_{k+1}} \\delta(z^{(k+1)}_i) W^{(k)}_{i, j} \\tag{2}$$ <a name=delta2></a>\n",
    "\n",
    "       >In einem künstlichen neuronalen Netzwerk (ANN), das die logistische Kostenfunktion $L_{logit}$ und die logistische Aktivierungsfunktion $h_{logit}$ in der **Ausgabeschicht** verwendet, ist der Fehler $δ$ für jedes Neuron $z^{(l)}_i$ in der Ausgabeschicht gegeben durch:\n",
    "       $$\\delta^{(l)}_i = a^{(l)}_i - y_i$$\n",
    "\n",
    "Diese Schritte werden für alle Beispiele in Ihrem Datensatz wiederholt und die resultierenden partiellen Ableitungen werden verwendet, um die Gewichte in Ihrem neuronalen Netzwerk zu aktualisieren. Dieser Prozess wird so lange wiederholt, bis ein bestimmtes Abbruchkriterium erfüllt ist, z.B. eine maximale Anzahl von Iterationen oder eine minimale Verbesserung der Kostenfunktion. "
   ]
  },
  {
   "cell_type": "markdown",
   "metadata": {},
   "source": [
    "Wir schauen uns nun die obigen Berechnungen einmal an einem konkreten Beispiel an.\n"
   ]
  },
  {
   "attachments": {},
   "cell_type": "markdown",
   "metadata": {},
   "source": [
    "#### **Beispiel 2.** Backpropagation-Algorithmus <a name=\"b2\"></a>\n",
    "\n",
    "Wir betrachten das Netzwerk in Abbildung 8.\n",
    "\n",
    "![abbildung8](./abbildung8.PNG)\n",
    "\n",
    "Es gilt\n",
    "\n",
    "$$\n",
    "W^{(0)} = \\begin{pmatrix} W^{(0)}_{1,0} & W^{(0)}_{1,1} & W^{(0)}_{1,2} \\\\ W^{(0)}_{2,0} & W^{(0)}_{2,1} & W^{(0)}_{2,2} \\end{pmatrix}, \\quad W^{(1)} = \\begin{pmatrix} W^{(1)}_{1,0} & W^{(1)}_{1,1} & W^{(1)}_{1,2} \\\\ W^{(1)}_{2,0} & W^{(1)}_{2,1} & W^{(1)}_{2,2} \\end{pmatrix}, \\quad W^{(2)} = \\begin{pmatrix} W^{(2)}_{1,0} & W^{(2)}_{1,1} & W^{(2)}_{1,2} \\end{pmatrix}\n",
    "$$\n",
    "\n",
    "und $W = \\{W^{(0)}, W^{(1)}, W^{(2)}\\}$. \n",
    ">Für die Anwendung im Sinne von Gleichung (4) schreiben wir $W$ auch als Vektor $W = (W^{(0)}_{1,0}, W^{(0)}_{1,1}, W^{(0)}_{1,2}, W^{(0)}_{2,0}, \\ldots, W^{(2)}_{1,2})^T$.\n",
    "\n",
    "Wir nehmen folgende initiale Gewichte an:\n",
    "\n",
    "$$\n",
    "W^{(0)} = \\begin{pmatrix} 2 & -1 & -1 \\\\ 0 & 1 & -1 \\end{pmatrix}, \\quad W^{(1)} = \\begin{pmatrix} 3 & -2 & -1 \\\\ 2 & -1 & 1 \\end{pmatrix}, \\quad W^{(2)} = \\begin{pmatrix} 1 & 1 & -3 \\end{pmatrix}\n",
    "$$\n",
    "\n",
    "Weiterhin sei die Aktivierungsfunktion für alle Neuronen des Netzes die Sigmoid-Funktion $h^{\\text{logit}}$ und die Kostenfunktion sei $L° {\\text{logit}}$.\n",
    "\n",
    "Sei ein Beispiel $(x, y)$ gegeben durch $$x = (x_0, x_1, x_2)^T = (1,2,-1)^T \\qquad \\qquad \\qquad y = 1$$\n",
    "\n",
    "#### Lösung\n",
    "\n",
    "1. Für die Vorwärtspropagation berechnen wir zunächst den linearen Anteil $z^{(1)}$ und den Aktivierungswert $a^{(1)}$ der ersten Schicht\n",
    "\n",
    "$$\n",
    "z^{(1)} = W^{(0)}x = \\begin{pmatrix} 2 & -1 & -1 \\\\ 0 & 1 & -1 \\end{pmatrix} \\begin{pmatrix} 1 \\\\ 2 \\\\ -1 \\end{pmatrix} = \\begin{pmatrix} 1 \\\\ 3 \\end{pmatrix}$$\n",
    "$$a^{(1)} = h_{\\text{logit}}(z^{(1)}) = \\begin{pmatrix} h_{\\text{logit}}(1) \\\\ h_{\\text{logit}}(3) \\end{pmatrix} = \\begin{pmatrix} \\frac{1}{1 + e^{-1}} \\\\ \\frac{1}{1 + e^{-3}} \\end{pmatrix} \\approx \\begin{pmatrix} 0.731 \\\\ 0.953 \\end{pmatrix}$$\n",
    "\n",
    "Wir ergänzen nun zunächst bei $a^{(1)}$ den Bias und schreiben $a^{(1)} = (1,0.731,0.953)^T$. "
   ]
  },
  {
   "cell_type": "code",
   "execution_count": 33,
   "metadata": {
    "collapsed": true,
    "jupyter": {
     "outputs_hidden": true,
     "source_hidden": true
    }
   },
   "outputs": [
    {
     "name": "stdout",
     "output_type": "stream",
     "text": [
      "[1 3]\n"
     ]
    }
   ],
   "source": [
    "matrix1= np.array([[2, -1, -1], \n",
    "                   [0, 1, -1]])\n",
    "matrix2 = np.array([1,2,-1])\n",
    "z1 = multiply_matrix(matrix1, matrix2)"
   ]
  },
  {
   "cell_type": "code",
   "execution_count": 34,
   "metadata": {
    "collapsed": true,
    "jupyter": {
     "outputs_hidden": true,
     "source_hidden": true
    }
   },
   "outputs": [
    {
     "data": {
      "text/plain": [
       "[0.731, 0.953]"
      ]
     },
     "execution_count": 34,
     "metadata": {},
     "output_type": "execute_result"
    }
   ],
   "source": [
    "a1 = list(map(hlogit, z1))\n",
    "a1"
   ]
  },
  {
   "cell_type": "code",
   "execution_count": 35,
   "metadata": {
    "collapsed": true,
    "jupyter": {
     "outputs_hidden": true,
     "source_hidden": true
    }
   },
   "outputs": [
    {
     "data": {
      "text/plain": [
       "[1, 0.731, 0.953]"
      ]
     },
     "execution_count": 35,
     "metadata": {},
     "output_type": "execute_result"
    }
   ],
   "source": [
    "a1.insert(0, 1)\n",
    "a1"
   ]
  },
  {
   "cell_type": "markdown",
   "metadata": {},
   "source": [
    "2. Nun evaluieren wir die nächste Schicht:\n",
    "\n",
    "$$\n",
    "z^{(2)} = W^{(1)}a^{(1)} = \\begin{pmatrix} 3 & -2 & -1 \\\\ 2 & -1 & 1 \\end{pmatrix} \\begin{pmatrix} 1 \\\\ 0.731 \\\\ 0.953 \\end{pmatrix} = \\begin{pmatrix} 0.585 \\\\ 2.222 \\end{pmatrix}$$\n",
    "$$a^{(2)} = h_{\\text{logit}}(z^{(2)}) = \\begin{pmatrix} h_{\\text{logit}}(0.585) \\\\ h_{\\text{logit}}(2.222) \\end{pmatrix} \\approx \\begin{pmatrix} 0.642 \\\\ 0.902 \\end{pmatrix}$$\n",
    "\n",
    "Wir ergänzen nun zunächst bei $a^{(2)}$ den Bias und schreiben $a^{(2)} = (1,0.642,0.902)^T$. "
   ]
  },
  {
   "cell_type": "code",
   "execution_count": 36,
   "metadata": {
    "collapsed": true,
    "jupyter": {
     "outputs_hidden": true,
     "source_hidden": true
    }
   },
   "outputs": [
    {
     "name": "stdout",
     "output_type": "stream",
     "text": [
      "[0.585 2.222]\n",
      "[0.642, 0.902]\n"
     ]
    },
    {
     "data": {
      "text/plain": [
       "[1, 0.642, 0.902]"
      ]
     },
     "execution_count": 36,
     "metadata": {},
     "output_type": "execute_result"
    }
   ],
   "source": [
    "matrix1= np.array([[3, -2, -1], \n",
    "                   [2, -1, 1]])\n",
    "z2 = multiply_matrix(matrix1, np.array(a1))\n",
    "a2 = list(map(hlogit, z2))\n",
    "print(a2)\n",
    "a2.insert(0, 1)\n",
    "a2"
   ]
  },
  {
   "cell_type": "markdown",
   "metadata": {},
   "source": [
    "3. Wir evaluieren nun die Ausgabeschicht $a^3$:\n",
    "\n",
    "$$z^{(3)} = W^{(2)}a^{(2)} = \\begin{pmatrix} 1 & 1 & -3 \\end{pmatrix} \\begin{pmatrix} 1 \\\\ 0.642 \\\\ 0.902 \\end{pmatrix} = \\begin{pmatrix} -1.064 \\end{pmatrix}$$\n",
    "$$a^{(3)} = h_{\\text{logit}}(z^{(3)}) = \\begin{pmatrix} h_{\\text{logit}}(-1.064) \\end{pmatrix} \\approx \\begin{pmatrix} 0.257 \\end{pmatrix}$$"
   ]
  },
  {
   "cell_type": "code",
   "execution_count": 38,
   "metadata": {
    "collapsed": true,
    "jupyter": {
     "outputs_hidden": true,
     "source_hidden": true
    }
   },
   "outputs": [
    {
     "name": "stdout",
     "output_type": "stream",
     "text": [
      "-1.064\n",
      "[0.257]\n"
     ]
    }
   ],
   "source": [
    "matrix1= np.array([1, 1, -3])\n",
    "z3 = multiply_matrix(matrix1, np.array(a2))\n",
    "a3 = list(map(hlogit, z3))\n",
    "print(a3)"
   ]
  },
  {
   "cell_type": "markdown",
   "metadata": {},
   "source": [
    "4. **Berechnung des Einzelkostenwerts**: Für unser Beispiel ($x$, $y$) und unser aktuelles Netz erhalten wir folgenden Einzelkostenwert von der [Kostenfunktion $cost_L^{logit}$](#cost):\n",
    "$$\\text{cost}_{L_{\\text{logit}}}(y,a^{(3)}_1) = -y \\cdot \\log(a^{(3)}_1) - (1 - y) \\cdot \\log(1 - a^{(3)}_1)$$\n",
    "\n",
    "$$ = \\text{cost}_{L_{\\text{logit}}}(1,0.257) \\approx 1.359$$"
   ]
  },
  {
   "cell_type": "code",
   "execution_count": 44,
   "metadata": {
    "collapsed": true,
    "jupyter": {
     "outputs_hidden": true,
     "source_hidden": true
    }
   },
   "outputs": [
    {
     "name": "stdout",
     "output_type": "stream",
     "text": [
      "1.359\n"
     ]
    }
   ],
   "source": [
    "print(round(logit_cost(1, a3[0]), 3))  # Should print: 1.359"
   ]
  },
  {
   "cell_type": "markdown",
   "metadata": {},
   "source": [
    "5. **Berechnung der Fehlerwerte $\\delta$ an den einzelnen Neuronen**:\n",
    "    - Beginnen Sie mit der Ausgabeschicht. Nach (9) gilt: \n",
    "        - $$\\delta(z^{(3)}_1) = \\frac{\\partial \\text{cost}_{L_{\\text{logit}}}(y,\\phi_W(x))}{\\partial z^{(3)}_1} = \\frac{\\partial \\text{cost}_{L_{\\text{logit}}}(y,a^{(3)}_1)}{\\partial z^{(3)}_1} = \\frac{\\partial (-y \\log h_{\\text{logit}}(z^{(3)}_1)-(1-y)\\log(1-h_{\\text{logit}}(z^{(3)}_1)))}{\\partial z^{(3)}_1}$$\n",
    "\n",
    "     -  In einem künstlichen neuronalen Netzwerk (ANN), das die logistische Kostenfunktion $L_{logit}$ und die logistische Aktivierungsfunktion $h_{logit}$ in der Ausgabeschicht verwendet, ist der Fehler $δ$ für jedes Neuron $z^{(l)}_i$ in der Ausgabeschicht gegeben durch:\n",
    "       $$\\delta^{(l)}_i = a^{(l)}_i - y_i$$\n",
    "D.h.\n",
    "$$\n",
    "\\begin{align*}\n",
    "&= h^{logit}(z^{(3)}_1) - y \\\\\n",
    "&= a^{(3)}_1 - y \\\\\n",
    "&= 0.257 - 1 = -0.743\n",
    "\\end{align*}\n",
    "$$"
   ]
  },
  {
   "cell_type": "code",
   "execution_count": 48,
   "metadata": {
    "collapsed": true,
    "jupyter": {
     "outputs_hidden": true,
     "source_hidden": true
    }
   },
   "outputs": [
    {
     "data": {
      "text/plain": [
       "-0.743"
      ]
     },
     "execution_count": 48,
     "metadata": {},
     "output_type": "execute_result"
    }
   ],
   "source": [
    "delta3 = a3[0] - 1\n",
    "delta3"
   ]
  },
  {
   "cell_type": "markdown",
   "metadata": {},
   "source": [
    "Wir berechnen nun die Fehlerwerte der letzten versteckten Schicht. Nach [<ins>Gleichungen (1) und (2)</ins>](#delta1) gilt $$\\frac{\\partial cost(y,\\phi_W(x))}{\\partial W^{(k)}_{i,j}} = \\delta(z^{(k+1)}_i)a^{(k)}_j $$\n",
    "\n",
    "$$\\delta(z^{(k)}_j) = \\frac{\\partial cost(y,\\phi_W(x))}{\\partial z^{(k)}_{j}} \\\\\n",
    "= act'(z^{(k)}_j) \\sum_{i=1}^{n_{k+1}} \\delta(z^{(k+1)}_i) W^{(k)}_{i, j}$$\n",
    "\n",
    "   >- Beachten Sie, dass die Ableitung der Sigmoid-Funktion gegeben ist durch $$(h_{\\text{logit}})'(x) = h_{\\text{logit}}(x)(1-h_{\\text{logit}}(x))$$\n",
    "\n",
    "Für $\\delta(z^{(2)}_1)$   \n",
    "$$\n",
    "\\begin{align*}\n",
    "\\delta(z^{(2)}_1 &= (h^{logit})'(z^{(2)}_1) \\delta(z^{(3)}_1) W^{(2)}_{1,1} \\\\\n",
    "&= h^{logit}(z^{(2)}_1)(1 - h^{logit}(z^{(2)}_1)) \\delta(z^{(3)}_1) W^{(2)}_{1,1} \\qquad \\text{und wegen} \\qquad a^{(i)} = act(z^{(i)}) \\\\\n",
    "&= a^{(2)}_1 (1 - a^{(2)}_1) \\delta(z^{(3)}_1) W^{(2)}_{ ,1} \\\\\n",
    "&= 0.642(1 - 0.642) \\cdot (-0.743) \\cdot 1 \\\\\n",
    "&\\approx -0.171\n",
    "\\end{align*}\n",
    "$$\n",
    "\n",
    "und analog\n",
    "\n",
    "$$\n",
    "\\begin{align*}\n",
    "\\delta(z^{(2)}_2) &= a^{(2)}_2 (1 - a^{(2)}_2) \\delta(z^{(3)}_1) W^{(2)}_{1,2} \\\\\n",
    "&= 0.902(1 - 0.902) \\cdot (-0.743) \\cdot (-3) \\\\\n",
    "&\\approx 0.197\n",
    "\\end{align*}\n",
    "$$"
   ]
  },
  {
   "cell_type": "markdown",
   "metadata": {},
   "source": [
    "Für die erste versteckte Schicht erhalten wir nun:\n",
    "\n",
    "$$\n",
    "\\begin{align*}\n",
    "\\delta(z^{(1)}_1) &= (h^{logit})'(z^{(1)}_1) \\left( \\delta(z^{(2)}_1) W^{(1)}_{1,1} + \\delta(z^{(2)}_2) W^{(1)}_{2,1} \\right) \\\\\n",
    "&= a^{(1)}_1 (1 - a^{(1)}_1) \\left( \\delta(z^{(2)}_1) W^{(1)}_{1,1} + \\delta(z^{(2)}_2) W^{(1)}_{2,1} \\right) \\\\\n",
    "&= 0.731(1 - 0.731) \\left[ -0.171 \\cdot (-2) + 0.197 \\cdot (-1) \\right] \\\\\n",
    "&\\approx 0.029\n",
    "\\end{align*}\n",
    "$$\n",
    "\n",
    "und analog\n",
    "\n",
    "$$\n",
    "\\begin{align*}\n",
    "\\delta(z^{(1)}_2) &= a^{(1)}_2 (1 - a^{(1)}_2) \\left( \\delta(z^{(2)}_1) W^{(1)}_{1,2} + \\delta(z^{(2)}_2) W^{(1)}_{2,2} \\right) \\\\\n",
    "&= 0.953(1 - 0.953) \\left[ -0.171 \\cdot (-1) + 0.197 \\cdot 1 \\right] \\\\\n",
    "&\\approx 0.017\n",
    "\\end{align*}\n",
    "$$"
   ]
  },
  {
   "cell_type": "markdown",
   "metadata": {},
   "source": [
    "Schließlich können wir nach (12) die Ableitungen der einzelnen Gewichte berechnen, beispielsweise:\n",
    "\n",
    "$$\n",
    "\\frac{\\partial \\text{cost}_{L_{logit}}(y, \\phi_W(x))}{\\partial W^{(1)}_{2,1}} = \\delta(z^{(2)}_2) a^{(1)}_1 = 0.197 \\cdot 0.731 \\approx 0.144\n",
    "$$\n",
    "\n",
    "Beachten Sie, dass für die Gewichte der Eingabeschicht der Vektor $a^{(0)}$ der Eingabe $x$ entspricht, also beispielsweise:\n",
    "\n",
    "$$\n",
    "\\frac{\\partial \\text{cost}_{L_{logit}}(y, \\phi_W(x))}{\\partial W^{(0)}_{1,2}} = \\delta(z^{(1)}_1) a^{(0)}_2 = \\delta(z^{(1)}_1) x_2 \\approx -0.029\n",
    "$$"
   ]
  },
  {
   "cell_type": "markdown",
   "metadata": {},
   "source": [
    "Ist $(x, y)$ unser einziges Beispiel (also $D = \\{(x, y)\\}$), so gilt $L_{logit}(D,\\phi_W) = \\text{cost}_{L_{logit}}(y,\\phi_W(x))$ und wir könnten nun die Gewichte anhand von (4) aktualisieren. Wäre beispielsweise $\\gamma = 0.1$ unsere Lernrate, so berechnen wir den neuen Wert von Gewicht $W^{(0)}_{1,2}$ zu\n",
    "\n",
    "$$\n",
    "(W^{(0)}_{1,2})_{\\text{neu}} := W^{(0)}_{1,2} - \\gamma \\frac{\\partial L_{logit}(D,\\phi_W)}{\\partial W^{(0)}_{1,2}} = W^{(0)}_{1,2} - \\gamma \\frac{\\partial \\text{cost}_{L_{logit}}(y,\\phi_W(x))}{\\partial W^{(0)}_{1,2}} = -1 - 0.1 \\cdot (-0.029) \\approx -0.997\n",
    "$$\n",
    "\n",
    "Üblicherweise besitzt der Datensatz $D$ mehr als nur ein Beispiel und wir können mithilfe von (6) die einzelnen partiellen Ableitungen bezüglich der einzelnen Beispiele aufsummieren, bevor wir einen einzelnen Schritt beim Gradient Descent unternehmen. Algorithmus 1 zeigt den gesamten Backpropagation-Algorithmus zur Bestimmung der partiellen Ableitungen (5), die dort mit $D^{(k)}_{i, j}$ bezeichnet werden."
   ]
  },
  {
   "attachments": {},
   "cell_type": "markdown",
   "metadata": {},
   "source": [
    "![formel4](formel4.PNG)\n",
    "![formel6](formel6.PNG)\n"
   ]
  },
  {
   "cell_type": "markdown",
   "metadata": {},
   "source": [
    "## 5.1.5. Praktische Probleme beim Lernen <a name=\"5_1_5\"></a>\n",
    "---"
   ]
  },
  {
   "cell_type": "markdown",
   "metadata": {},
   "source": [
    "\n",
    "\n",
    "#### Herausforderungen beim Training von neuronalen Netzwerken:\n",
    "\n",
    "1. **Langsame Berechnung bei großen Datensätzen**:\n",
    "   - Klassische Gradientenabstiegsverfahren wie Gradient Descent können bei großen Datensätzen lange dauern, da der Gradient über den gesamten Datensatz berechnet \n",
    "   - Gradientenabstiegsverfahren (Gradient Descent) ist ein \n",
    "Klassischer Ansatz zur Aktualisierung der Gewichte im neuronalen Netzwerk.wird.\n",
    "\n",
    "2. **Fluktuation der Kostenfunktion und mangelnde Zielausrichtung**:\n",
    "   - Der stochastische Gradientenabstieg (SGD) aktualisiert die Gewichte mit nur einem zufällig ausgewählten Beispiel pro Iteration, was zu einer starken Fluktuation der Kosten und einer mangelnden Zielausrichtung führen kann.\n",
    "\n",
    "3. **Verschwindende oder explodierende Gradienten**:\n",
    "   - Die Wahl der Aktivierungsfunktion kann zu Problemen wie dem Verschwinden oder Explodieren von Gradienten führen, insbesondere bei mehreren Schichten und großen oder kleinen Ein#gaben.\n",
    "\n",
    "### Lösungen und Ansätze:\n",
    "\n",
    "1. **Mini-Batch-Gradientenabstieg (MBGD)**:\n",
    "   - MBGD ist ein Kompromiss zwischen Gradient Descent und SGD.\n",
    "   - Es verwendet eine kleine Teilmenge des Datensatzes für jede Iteration, was die Rechenzeit im Vergleich zu Gradient Descent reduziert und gleichzeitig die Fluktuationen im Vergleich zu SGD verringert.\n",
    "\n",
    "2. **Verwendung geeigneter Aktivierungsfunktionen**:\n",
    "   - Vermeiden von Aktivierungsfunktionen, deren Ableitung an den meisten Stellen null ist, wie z.B. Schwellwertfunktionen.\n",
    "   - Verwenden von Aktivierungsfunktionen wie ReLU, die das Problem des verschwindenden oder explodierenden Gradienten vermeiden.\n",
    "   - Alternativen wie Leaky-ReLU können eine positive Ableitung für alle Eingaben bieten, um das Problem der verschwindenden Gradienten bei negativusforderungen zu begegnen."
   ]
  },
  {
   "cell_type": "markdown",
   "metadata": {},
   "source": [
    "---\n",
    "<a name=\"up\"></a>**`[Go Up!^](#up)**"
   ]
  },
  {
   "cell_type": "markdown",
   "metadata": {},
   "source": [
    "##### Sources:\n",
    "\n",
    "(1) Why does Q-Learning use epsilon-greedy during testing?. https://stats.stackexchange.com/questions/270618/why-does-q-learning-use-epsilon-greedy-during-testing.\n",
    "(2) Epsilon-Greedy Q-learning | Baeldung on Computer Science. https://www.baeldung.com/cs/epsilon-greedy-q-learning.\n",
    "(3) Epsilon and learning rate decay in epsilon greedy q learning. https://stackoverflow.com/questions/53198503/epsilon-and-learning-rate-decay-in-epsilon-greedy-q-learning.\n",
    "(4) Exploration in Q learning: Epsilon greedy vs Exploration function. https://datascience.stackexchange.com/questions/94029/exploration-in-q-learning-epsilon-greedy-vs-exploration-function."
   ]
  }
 ],
 "metadata": {
  "kernelspec": {
   "display_name": "Python 3 (ipykernel)",
   "language": "python",
   "name": "python3"
  },
  "language_info": {
   "codemirror_mode": {
    "name": "ipython",
    "version": 3
   },
   "file_extension": ".py",
   "mimetype": "text/x-python",
   "name": "python",
   "nbconvert_exporter": "python",
   "pygments_lexer": "ipython3",
   "version": "3.11.3"
  }
 },
 "nbformat": 4,
 "nbformat_minor": 4
}
