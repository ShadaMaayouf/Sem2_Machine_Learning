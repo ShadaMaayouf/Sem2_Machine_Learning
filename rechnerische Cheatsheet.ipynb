{
 "cells": [
  {
   "cell_type": "markdown",
   "id": "dbd5d136-be08-4dfc-8ad9-5a5fa1c85e54",
   "metadata": {},
   "source": [
    "# Cheatsheet (rechnerisch)\n",
    ">## <ins>Table of contents</ins> <a name=\"up\"></a>[<sup>[1]</sup>](#cite_note-1)\n",
    ">* [**K2. Überwachtes Lernen**](#2)\n",
    "    * [**2.1. Lineare Regression**](#2.1.)\n",
    "    * [**2.2. logistische Regression**](#2.2.)\n",
    "    * [**2.3. SVM**](#2.3.)\n",
    "    * [**2.4. KNN**](#2.4.)\n",
    "    * [**2.5. Bayes**](#2.5.)\n",
    "    * [**2.6. Entscheidungsbaum**](#2.6.)\n",
    "\n",
    ">* [**K3. Unüberwachtes Lernen**](#3)\n",
    "    * [**3.1. K-Means-Clustering**](#3.1.)\n",
    "    * [**3.2 Hierarchisches Clustering**](#3.2.)\n",
    "    * [**3.3 Anomalieerkennung**](#3.3.)\n",
    "    * [**3.4. Lineare Regression**](#3.4.)\n",
    "    * [**3.5 Hauptkomponentenanalyse**](#3.5.)\n",
    "\n",
    ">* [**K4. Reinforcement Learning**](#4)\n",
    "    * [**4.1. Markov-Entscheidungsprozess**](#4.1.)\n",
    "    * [**4.2. Passives-Reinforcement-Learning**](#4.2.)\n",
    "    * [**4.3. Aktives-Reinforcement-Learning**](#4.3.)\n",
    "\n",
    ">* [**K5. Motivation und Grundlagen**](#5)\n",
    "    * [**5.1. RNN**](#5.1.)\n",
    "       * [**5.1. RNN**](#5.1.)\n",
    "    * [**5.3. RNN**](#5.3.)\n",
    "       * [**spaltenweise Konkatenation zweier Matrizen**](#5.3.1.)\n",
    "       * [**One-Hot-Codierung**](#5.3.2.)\n",
    "       * [**Berechnungsgraphen**](#5.3.3.)\n",
    "\n",
    ">\n"
   ]
  },
  {
   "cell_type": "code",
   "execution_count": 1,
   "id": "36d9e4dc-1af2-4d72-ad51-c8a914ff7040",
   "metadata": {},
   "outputs": [],
   "source": [
    "import pandas as pd\n",
    "import numpy as np\n",
    "from sklearn.linear_model import LinearRegression\n",
    "from sklearn.preprocessing import PolynomialFeatures\n",
    "from sklearn.model_selection import train_test_split\n",
    "from sklearn.model_selection import KFold\n",
    "import matplotlib.pyplot as plt"
   ]
  },
  {
   "cell_type": "code",
   "execution_count": 23,
   "id": "e3038ba3-8aa5-48c9-88a4-77ac81bf803d",
   "metadata": {},
   "outputs": [
    {
     "data": {
      "image/png": "[encoded data removed]",
      "text/plain": [
       "<Figure size 1000x600 with 1 Axes>"
      ]
     },
     "metadata": {},
     "output_type": "display_data"
    }
   ],
   "source": [
    "# Datensatz visualisieren\n",
    "def visualise_datensatz(x,y):\n",
    "    # Erstellen Sie das Diagramm\n",
    "    plt.figure(figsize=(10, 6))\n",
    "    plt.scatter(x,y)\n",
    "    plt.title('Visualisierung des Datensatzes')\n",
    "    plt.xlabel('x')\n",
    "    plt.ylabel('y')\n",
    "    plt.grid(True)\n",
    "    plt.show()\n",
    "    \n",
    "visualise_datensatz(X,y)"
   ]
  },
  {
   "cell_type": "markdown",
   "id": "a9bea975-c801-440d-bc50-cab55291db0a",
   "metadata": {},
   "source": [
    "## 2 Überwachtes Lernen <a name=2><a>"
   ]
  },
  {
   "cell_type": "markdown",
   "id": "dd419998-6f71-48c8-ae57-3b3d2898cf1d",
   "metadata": {},
   "source": [
    "### 2.1. Lineare Regression <a name=2.1.><a>"
   ]
  },
  {
   "cell_type": "markdown",
   "id": "ff67badb-52bf-47a3-b739-baef372d46d9",
   "metadata": {
    "jp-MarkdownHeadingCollapsed": true
   },
   "source": [
    "#### 1. 2D modell"
   ]
  },
  {
   "cell_type": "code",
   "execution_count": 10,
   "id": "e970972b-a302-467c-9585-6b2d2a03f5d3",
   "metadata": {},
   "outputs": [],
   "source": [
    "# Ihre Daten\n",
    "D = [\n",
    "    ((153.3), 47.1),\n",
    "    ((158.9), 46.8),\n",
    "    ((160.8), 49.3),\n",
    "    ((179.6), 53.2),\n",
    "    ((156.6), 47.7),\n",
    "    ((165.1), 49.0),\n",
    "    ((165.9), 50.6),\n",
    "    ((156.7), 47.1),\n",
    "    ((167.8), 51.7),\n",
    "    ((160.8), 47.8)\n",
    "]\n",
    "\n",
    "theta = (-4, 1/3)\n",
    "lambda_ = 0.1\n"
   ]
  },
  {
   "cell_type": "code",
   "execution_count": 11,
   "id": "e8c70093-ad2b-43fd-84d2-6da776b3bd0d",
   "metadata": {},
   "outputs": [
    {
     "name": "stdout",
     "output_type": "stream",
     "text": [
      "Der quadratische Fehler für D und theta ist 21.349\n"
     ]
    }
   ],
   "source": [
    "\n",
    "def h(theta, x):\n",
    "    return theta[0] + theta[1]*x\n",
    "\n",
    "def mse(D, h, theta):\n",
    "    return sum((h(theta, x) - y)**2 for (x, y) in D)\n",
    "\n",
    "L = mse(D, h, theta)\n",
    "print(f'Der quadratische Fehler für D und theta ist {round(L,3)}')\n"
   ]
  },
  {
   "cell_type": "markdown",
   "id": "ebf1db9d-a588-4370-9c71-92be4e61211f",
   "metadata": {},
   "source": [
    "R²-Wert"
   ]
  },
  {
   "cell_type": "code",
   "execution_count": 12,
   "id": "6d89c183-18bf-4f25-a943-297aab603b90",
   "metadata": {},
   "outputs": [
    {
     "name": "stdout",
     "output_type": "stream",
     "text": [
      "R²-Wert: 0.501\n"
     ]
    }
   ],
   "source": [
    "def r2_wert(L, D):\n",
    "    y_values = [y for (_, y) in D]\n",
    "    mean_y = sum(y_values) / len(y_values)  \n",
    "    squared_diff = sum((y - mean_y) ** 2 for y in y_values)\n",
    "    return 1 - L/squared_diff\n",
    "\n",
    "print(f'R²-Wert: {round(r2_wert(L, D),3)}')\n"
   ]
  },
  {
   "cell_type": "markdown",
   "id": "729bef95-be7f-44a8-8a67-a6a2a3af8ee3",
   "metadata": {},
   "source": [
    "tikhonov"
   ]
  },
  {
   "cell_type": "code",
   "execution_count": 13,
   "id": "458a1ed6-f5a7-4a12-9be0-b010f6ca20e6",
   "metadata": {},
   "outputs": [
    {
     "name": "stdout",
     "output_type": "stream",
     "text": [
      "Quadratischer Fehler mit Tikhonov-Regularisierung: 21.360\n"
     ]
    }
   ],
   "source": [
    "def tikhonov(L, lambda_, theta):\n",
    "    RT = sum(i**2 for i in theta[1:])\n",
    "    return L + lambda_ * RT\n",
    "\n",
    "print(f\"Quadratischer Fehler mit Tikhonov-Regularisierung: {tikhonov(L, lambda_, theta):.3f}\")\n"
   ]
  },
  {
   "cell_type": "markdown",
   "id": "44453af6-b82b-465c-8168-cc709a335932",
   "metadata": {},
   "source": [
    "Polynomische Merkmale"
   ]
  },
  {
   "cell_type": "code",
   "execution_count": 16,
   "id": "1d3dbe0d-91cf-4e73-b8bb-68e82785120b",
   "metadata": {},
   "outputs": [
    {
     "name": "stdout",
     "output_type": "stream",
     "text": [
      "Die polynomielle Merkmalserweiterung von D mit Maximalgrad 2 ist:\n",
      " {(674, 40, 454276, 26960, 1600): 998, (100, 19, 10000, 1900, 361): 71, (348, 1, 121104, 348, 1): 1} \n",
      "\n",
      "Die polynomielle Merkmalserweiterung von D mit Maximalgrad 3 ist:\n",
      " {(674, 40, 454276, 26960, 1600, 306182024, 18171040, 26962, 64000): 998, (100, 19, 10000, 1900, 361, 1000000, 190000, 1902, 6859): 71, (348, 1, 121104, 348, 1, 42144192, 121104, 350, 1): 1} \n",
      "\n",
      "[1, 674, 40, 454276, 26960, 1600]\n",
      "[1, 100, 19, 10000, 1900, 361]\n",
      "[1, 348, 1, 121104, 348, 1]\n"
     ]
    }
   ],
   "source": [
    "import math\n",
    "\n",
    "D = [((674,40),998),((100,19),71),((348,1),1)]\n",
    "\n",
    "def poly_2(D):\n",
    "    D_poly = {}\n",
    "\n",
    "    for features, target in D:\n",
    "        x1, x2 = features\n",
    "        D_poly[((x1, x2, x1**2, x1*x2, x2**2))] = target\n",
    "    \n",
    "    print(\"Die polynomielle Merkmalserweiterung von D mit Maximalgrad 2 ist:\\n\",D_poly,\"\\n\")\n",
    "\n",
    "def poly_3(D):\n",
    "    D_poly = {}\n",
    "\n",
    "    for features, target in D:\n",
    "        x1, x2 = features\n",
    "        D_poly[((x1, x2, x1**2, x1*x2, x2**2, x1**3, x1**2*x2, x1*x2^2, x2**3))] = target\n",
    "    \n",
    "    print(\"Die polynomielle Merkmalserweiterung von D mit Maximalgrad 3 ist:\\n\",D_poly,\"\\n\")\n",
    "\n",
    "poly_2(D)\n",
    "poly_3(D)\n",
    "\n",
    "# Trennen Sie die Merkmale und die Zielwerte\n",
    "features = np.array([x for (x, y) in D])\n",
    "targets = np.array([y for (x, y) in D])\n",
    "\n",
    "# Erstellen Sie das PolynomialFeatures-Objekt mit Grad 2\n",
    "poly = PolynomialFeatures(2)\n",
    "\n",
    "# Wenden Sie die Transformation auf Ihre Daten an\n",
    "features_poly = poly.fit_transform(features)\n",
    "\n",
    "# Jetzt enthält 'features_poly' die polynomiale Merkmalserweiterung von 'features'\n",
    "\n",
    "# Anwendung der math.floor oder math.ceil Funktion auf jede Zahl in jeder Liste\n",
    "correctly_rounded_data = [[math.floor(number + 0.5) if number >= 0 else math.ceil(number - 0.5) for number in sublist] for sublist in features_poly]\n",
    "\n",
    "# Ausgabe der korrekt gerundeten Daten\n",
    "for sublist in correctly_rounded_data:\n",
    "    print(sublist)"
   ]
  },
  {
   "cell_type": "markdown",
   "id": "ed8f8598-f883-4f1c-a6d1-440f29f95967",
   "metadata": {
    "jp-MarkdownHeadingCollapsed": true
   },
   "source": [
    "#### 2. 3D modell\n",
    "\n",
    "quadratische Fehler"
   ]
  },
  {
   "cell_type": "code",
   "execution_count": 51,
   "id": "32f147ae-50e0-4002-a1c5-e1738386585b",
   "metadata": {},
   "outputs": [
    {
     "name": "stdout",
     "output_type": "stream",
     "text": [
      "Der quadratische Fehler für D und theta ist 40.24\n"
     ]
    }
   ],
   "source": [
    "D = [((182,23),172),((180,12),168),((162,26),153)]\n",
    "theta = (-15, 1, 0.4)\n",
    "lambda_ = 0.1\n",
    "\n",
    "def h(theta, x):\n",
    "    return theta[0] + sum(t*x_i for t, x_i in zip(theta[1:], x))\n",
    "\n",
    "def mse(D, h, theta):\n",
    "    return sum((h(theta, x) - y)**2 for (x, y) in D)\n",
    "L = mse(D, h, theta)\n",
    "print(f'Der quadratische Fehler für D und theta ist {round(L,3)}')\n"
   ]
  },
  {
   "cell_type": "markdown",
   "id": "1adacc09-8ea6-4671-80fb-a6d64f283d0b",
   "metadata": {},
   "source": [
    "R²-Wert"
   ]
  },
  {
   "cell_type": "code",
   "execution_count": 52,
   "id": "4f97dc54-f10c-4452-bc6a-dce5caa100d5",
   "metadata": {},
   "outputs": [
    {
     "name": "stdout",
     "output_type": "stream",
     "text": [
      "R²-Wert: 0.799\n"
     ]
    }
   ],
   "source": [
    "def r2_wert(L, D):\n",
    "    y_values = [y for (_, y) in D]\n",
    "    mean_y = sum(y_values) / len(y_values)  \n",
    "    squared_diff = sum((y - mean_y) ** 2 for y in y_values)\n",
    "    return 1 - L/squared_diff\n",
    "\n",
    "print(f'R²-Wert: {round(r2_wert(L, D),3)}')\n"
   ]
  },
  {
   "cell_type": "markdown",
   "id": "622e3b78-5c3f-4df7-96ce-c23ffbf92c37",
   "metadata": {},
   "source": [
    "tikhonov"
   ]
  },
  {
   "cell_type": "code",
   "execution_count": 60,
   "id": "c69fab9c-d96b-4b13-afb3-9e59c13605e1",
   "metadata": {},
   "outputs": [
    {
     "name": "stdout",
     "output_type": "stream",
     "text": [
      "Quadratischer Fehler mit Tikhonov-Regularisierung: 40.356\n"
     ]
    }
   ],
   "source": [
    "def tikhonov(L, lambda_, theta):\n",
    "    RT = sum(i**2 for i in theta[1:])\n",
    "    return L + lambda_ * RT\n",
    "\n",
    "print(f\"Quadratischer Fehler mit Tikhonov-Regularisierung: {tikhonov(L, lambda_, theta):.3f}\")\n"
   ]
  },
  {
   "cell_type": "markdown",
   "id": "59070600-2324-45e5-9e69-f007f4efca74",
   "metadata": {},
   "source": [
    "Polynomische Merkmale"
   ]
  },
  {
   "cell_type": "code",
   "execution_count": 75,
   "id": "29038a48-ff41-4084-b5de-dc625cf2f886",
   "metadata": {},
   "outputs": [
    {
     "name": "stdout",
     "output_type": "stream",
     "text": [
      "Die polynomielle Merkmalserweiterung von D mit Maximalgrad 2 ist:\n",
      " {(674, 40, 454276, 26960, 1600): 998, (100, 19, 10000, 1900, 361): 71, (348, 1, 121104, 348, 1): 1} \n",
      "\n",
      "Die polynomielle Merkmalserweiterung von D mit Maximalgrad 3 ist:\n",
      " {(674, 40, 454276, 26960, 1600, 306182024, 18171040, 26962, 64000): 998, (100, 19, 10000, 1900, 361, 1000000, 190000, 1902, 6859): 71, (348, 1, 121104, 348, 1, 42144192, 121104, 350, 1): 1} \n",
      "\n",
      "[1, 674, 40, 454276, 26960, 1600]\n",
      "[1, 100, 19, 10000, 1900, 361]\n",
      "[1, 348, 1, 121104, 348, 1]\n"
     ]
    }
   ],
   "source": [
    "import math\n",
    "\n",
    "D = [((674,40),998),((100,19),71),((348,1),1)]\n",
    "\n",
    "def poly_2(D):\n",
    "    D_poly = {}\n",
    "\n",
    "    for features, target in D:\n",
    "        x1, x2 = features\n",
    "        D_poly[((x1, x2, x1**2, x1*x2, x2**2))] = target\n",
    "    \n",
    "    print(\"Die polynomielle Merkmalserweiterung von D mit Maximalgrad 2 ist:\\n\",D_poly,\"\\n\")\n",
    "\n",
    "def poly_3(D):\n",
    "    D_poly = {}\n",
    "\n",
    "    for features, target in D:\n",
    "        x1, x2 = features\n",
    "        D_poly[((x1, x2, x1**2, x1*x2, x2**2, x1**3, x1**2*x2, x1*x2^2, x2**3))] = target\n",
    "    \n",
    "    print(\"Die polynomielle Merkmalserweiterung von D mit Maximalgrad 3 ist:\\n\",D_poly,\"\\n\")\n",
    "\n",
    "poly_2(D)\n",
    "poly_3(D)\n",
    "\n",
    "# Trennen Sie die Merkmale und die Zielwerte\n",
    "features = np.array([x for (x, y) in D])\n",
    "targets = np.array([y for (x, y) in D])\n",
    "\n",
    "# Erstellen Sie das PolynomialFeatures-Objekt mit Grad 2\n",
    "poly = PolynomialFeatures(2)\n",
    "\n",
    "# Wenden Sie die Transformation auf Ihre Daten an\n",
    "features_poly = poly.fit_transform(features)\n",
    "\n",
    "# Jetzt enthält 'features_poly' die polynomiale Merkmalserweiterung von 'features'\n",
    "\n",
    "# Anwendung der math.floor oder math.ceil Funktion auf jede Zahl in jeder Liste\n",
    "correctly_rounded_data = [[math.floor(number + 0.5) if number >= 0 else math.ceil(number - 0.5) for number in sublist] for sublist in features_poly]\n",
    "\n",
    "# Ausgabe der korrekt gerundeten Daten\n",
    "for sublist in correctly_rounded_data:\n",
    "    print(sublist)"
   ]
  },
  {
   "cell_type": "markdown",
   "id": "8957903a-daa5-45c2-b554-30e07186e14b",
   "metadata": {},
   "source": [
    "### 2.2. logistische Regression <a name=2.2.><a>"
   ]
  },
  {
   "cell_type": "code",
   "execution_count": 31,
   "id": "a5c2203c-6d1b-4d27-90a1-c64d2c6761d2",
   "metadata": {},
   "outputs": [],
   "source": [
    "import pandas as pd\n",
    "import numpy as np\n",
    "import matplotlib.pyplot as plt\n",
    "from sklearn.metrics import accuracy_score\n",
    "from sklearn.metrics import precision_score\n",
    "from sklearn.metrics import recall_score\n",
    "from sklearn.metrics import f1_score\n"
   ]
  },
  {
   "cell_type": "markdown",
   "id": "f66af76f-ec98-456f-8eea-d81fc1ec1048",
   "metadata": {
    "jp-MarkdownHeadingCollapsed": true
   },
   "source": [
    "#### 1. 2D modell"
   ]
  },
  {
   "cell_type": "code",
   "execution_count": 45,
   "id": "38c6b7a2-3ee2-472c-b5c3-b3538e0ae7d2",
   "metadata": {},
   "outputs": [],
   "source": [
    "# Ihre Daten\n",
    "D = [\n",
    "    ((5), 0),\n",
    "    ((14), 1),\n",
    "    ((10), 1),\n",
    "    ((7), 1),\n",
    "    ((2), 0),\n",
    "    ((1), 0),\n",
    "    ((9), 1),\n",
    "    ((8), 0),\n",
    "    ((3), 0),\n",
    "    ((13), 1)\n",
    "]\n",
    "theta = (-5.559, 0.771)\n"
   ]
  },
  {
   "cell_type": "code",
   "execution_count": 47,
   "id": "6a0b7684-6068-4392-8431-988f371d35c1",
   "metadata": {},
   "outputs": [
    {
     "name": "stdout",
     "output_type": "stream",
     "text": [
      "0.15394356385485433\n",
      "0.9947014002271793\n",
      "0.8957621861330917\n",
      "0.45958834166338\n",
      "0.01768839152299949\n",
      "0.008260298092663241\n",
      "0.7989910002494707\n",
      "0.6477126548282953\n",
      "0.03747088801638696\n",
      "0.9886149068701869\n"
     ]
    }
   ],
   "source": [
    "\n",
    "def sigmoid(theta, x):\n",
    "    return 1 / (1 + np.exp(-h(theta, x)))\n",
    "\n",
    "def h(theta, x):\n",
    "    return theta[0] + theta[1]*x\n",
    "\n",
    "for (x,y) in D:\n",
    "    print(sigmoid(theta, x))"
   ]
  },
  {
   "cell_type": "code",
   "execution_count": 48,
   "id": "828c26c8-d201-4cd5-a304-7dfbb4c8d737",
   "metadata": {},
   "outputs": [],
   "source": [
    "def L_logit(D, sigmoid, theta):\n",
    "    \n",
    "    m = len(D)  # Anzahl der Beobachtungen im Datensatz\n",
    "    total_cost = 0.0\n",
    "\n",
    "    for x, y in D:\n",
    "        prediction = sigmoid(theta, x)\n",
    "        cost = y * np.log(prediction) + (1 - y) * np.log(1 - prediction)\n",
    "        print(cost)\n",
    "        total_cost += cost\n",
    "\n",
    "    return -total_cost"
   ]
  },
  {
   "cell_type": "code",
   "execution_count": 49,
   "id": "9abb60b7-c54d-4262-b095-2307a03e7e18",
   "metadata": {},
   "outputs": [
    {
     "name": "stdout",
     "output_type": "stream",
     "text": [
      "-0.1671692122094611\n",
      "-0.005312687136834237\n",
      "-0.11008031849877639\n",
      "-0.7774240995969333\n",
      "-0.01784670072174623\n",
      "-0.00829460340028144\n",
      "-0.22440559704717059\n",
      "-1.0433081148827035\n",
      "-0.038190967060864556\n",
      "-0.011450399454817836\n",
      "Die logostische Kostenfunktion für D und theta ist 2.403\n"
     ]
    }
   ],
   "source": [
    "L = L_logit(D, sigmoid, theta)\n",
    "print(f'Die logostische Kostenfunktion für D und theta ist {round(L,3)}')"
   ]
  },
  {
   "cell_type": "markdown",
   "id": "3e3b7dcc-730e-467b-94c6-cbd7e368a142",
   "metadata": {},
   "source": [
    "Der Klassifikationsmatrix $clf_f$:"
   ]
  },
  {
   "cell_type": "code",
   "execution_count": 56,
   "id": "342f81ef-0181-4629-885c-b3c9cb285e73",
   "metadata": {},
   "outputs": [
    {
     "name": "stdout",
     "output_type": "stream",
     "text": [
      "y_actual:  [0, 1, 1, 1, 0, 0, 1, 0, 0, 1]\n",
      "y_predicted:  [0, 1, 1, 0, 0, 0, 1, 1, 0, 1]\n",
      "\n",
      "Genauigkeit: 0.800\n",
      "Präzesion: 0.800\n",
      "Sensitivität (Recall): 0.800\n",
      "F1-Maß: 0.800\n",
      "\n",
      "Konfusionsmatrix: \n",
      " [[4 1]\n",
      " [1 4]]\n"
     ]
    }
   ],
   "source": [
    "D = [\n",
    "    ((5), 0),\n",
    "    ((14), 1),\n",
    "    ((10), 1),\n",
    "    ((7), 1),\n",
    "    ((2), 0),\n",
    "    ((1), 0),\n",
    "    ((9), 1),\n",
    "    ((8), 0),\n",
    "    ((3), 0),\n",
    "    ((13), 1)\n",
    "]\n",
    "\n",
    "# Beispiel-Klassifikator c\n",
    "def clf_logit(x):\n",
    "    if x >= 0.5:\n",
    "        return 1\n",
    "    else:\n",
    "        return 0\n",
    "\n",
    "def clf(x):\n",
    "    if x == (0.33, 5) or x == (0.36,6) or x == (0.18,6):\n",
    "        return 1\n",
    "    else:\n",
    "        return 0\n",
    "        \n",
    "def create_confusion_matrix(D, clf):\n",
    "    # Extrahiere die tatsächlichen Klassenlabels aus dem Datensatz D\n",
    "    y_actual = [y for _, y in D]\n",
    "    print('y_actual: ', y_actual)\n",
    "    # Erstelle eine Liste der vorhergesagten Klassenlabels basierend auf dem Klassifikator c\n",
    "    y_predicted = [clf(x) for x, _ in D] #[clf_logit(sigmoid(theta,x)) for x, _ in D]\n",
    "    print('y_predicted: ', y_predicted)\n",
    "\n",
    "    # Berechne die Konfusionsmatrix\n",
    "    c_matrix = metrics.confusion_matrix(y_actual, y_predicted)\n",
    "\n",
    "    print(f\"\\nGenauigkeit: {accuracy_score(y_actual, y_predicted):.3f}\")\n",
    "    print(f\"Präzesion: {precision_score(y_actual, y_predicted, zero_division=0):.3f}\")\n",
    "    print(f\"Sensitivität (Recall): {recall_score(y_actual, y_predicted, zero_division=0):.3f}\")\n",
    "    print(f\"F1-Maß: {f1_score(y_actual, y_predicted, zero_division=0):.3f}\")\n",
    "\n",
    "    return c_matrix\n",
    "\n",
    "print(\"\\nKonfusionsmatrix: \\n\", create_confusion_matrix(D, clf))\n"
   ]
  },
  {
   "cell_type": "markdown",
   "id": "0266bbaf-82d9-4081-b75a-8516d9bf0595",
   "metadata": {
    "jp-MarkdownHeadingCollapsed": true
   },
   "source": [
    "#### 2. 3D modell\n",
    "\n",
    "Die logistische Kostenfunktion $L^{logit}(h^{logit}_{\\theta}, D)$:"
   ]
  },
  {
   "cell_type": "code",
   "execution_count": 20,
   "id": "d4c42924-ebc2-4a9e-bad3-06f3a155ebd6",
   "metadata": {},
   "outputs": [],
   "source": [
    "# Ihre Daten\n",
    "D = [\n",
    "    ((56,44),1),((50,37),0),((47,53),1),((18,40),0)\n",
    "]\n",
    "theta = (45, -0.5, -0.5)\n",
    "lambda_ = 0.1\n"
   ]
  },
  {
   "cell_type": "code",
   "execution_count": 21,
   "id": "7d1e1cac-472f-46ca-ba68-38954b9c3ac7",
   "metadata": {},
   "outputs": [
    {
     "name": "stdout",
     "output_type": "stream",
     "text": [
      "0.0066928509242848554\n",
      "0.8175744761936437\n",
      "0.0066928509242848554\n",
      "0.9999998874648379\n"
     ]
    }
   ],
   "source": [
    "\n",
    "def sigmoid(theta, x):\n",
    "    return 1 / (1 + np.exp(-h(theta, x)))\n",
    "\n",
    "def h(theta, x):\n",
    "    return theta[0] + sum(t*x_i for t, x_i in zip(theta[1:], x))\n",
    "\n",
    "for (x,y) in D:\n",
    "    print(sigmoid(theta, x))"
   ]
  },
  {
   "cell_type": "code",
   "execution_count": 24,
   "id": "44284b1f-ed22-439b-9a66-8669d8aa5888",
   "metadata": {},
   "outputs": [],
   "source": [
    "def L_logit(D, sigmoid, theta):\n",
    "    \n",
    "    m = len(D)  # Anzahl der Beobachtungen im Datensatz\n",
    "    total_cost = 0.0\n",
    "\n",
    "    for x, y in D:\n",
    "        prediction = sigmoid(theta, x)\n",
    "        cost = y * np.log(prediction) + (1 - y) * np.log(1 - prediction)\n",
    "        print(cost)\n",
    "        total_cost += cost\n",
    "\n",
    "    return -total_cost"
   ]
  },
  {
   "cell_type": "code",
   "execution_count": 25,
   "id": "cc43a5ba-5e14-4bc8-b3c2-fb8fc914e1b0",
   "metadata": {},
   "outputs": [
    {
     "name": "stdout",
     "output_type": "stream",
     "text": [
      "-5.006715348489118\n",
      "-1.7014132779827524\n",
      "-5.006715348489118\n",
      "-16.000000112332735\n",
      "Der quadratische Fehler für D und theta ist 27.715\n"
     ]
    }
   ],
   "source": [
    "L = L_logit(D, sigmoid, theta)\n",
    "print(f'Die logostische Kostenfunktion für D und theta ist {round(L,3)}')"
   ]
  },
  {
   "cell_type": "markdown",
   "id": "799460d3-9a5d-4f51-86e9-a38a0d04be88",
   "metadata": {},
   "source": [
    "Der Klassifikationsmatrix $clf_f$:"
   ]
  },
  {
   "cell_type": "code",
   "execution_count": 35,
   "id": "42f47e19-b5ef-4954-8216-c403afea4d96",
   "metadata": {},
   "outputs": [
    {
     "name": "stdout",
     "output_type": "stream",
     "text": [
      "y_actual:  [1, 1, 0, 0, 0]\n",
      "y_predicted:  [1, 0, 1, 0, 1]\n",
      "\n",
      "Genauigkeit: 0.400\n",
      "Präzesion: 0.333\n",
      "Sensitivität (Recall): 0.500\n",
      "F1-Maß: 0.400\n",
      "\n",
      "Konfusionsmatrix: \n",
      " [[1 2]\n",
      " [1 1]]\n"
     ]
    }
   ],
   "source": [
    "D = [\n",
    "    ((0.33,5),1),((0.31,4),1),((0.36,6),0),((0.05,29),0),((0.18,6),0)\n",
    "]\n",
    "\n",
    "# Beispiel-Klassifikator c\n",
    "def clf(x):\n",
    "    if x == (0.33, 5) or x == (0.36,6) or x == (0.18,6):\n",
    "        return 1\n",
    "    else:\n",
    "        return 0\n",
    "        \n",
    "def create_confusion_matrix(D, clf):\n",
    "    # Extrahiere die tatsächlichen Klassenlabels aus dem Datensatz D\n",
    "    y_actual = [y for _, y in D]\n",
    "    print('y_actual: ', y_actual)\n",
    "    # Erstelle eine Liste der vorhergesagten Klassenlabels basierend auf dem Klassifikator c\n",
    "    y_predicted = [clf(x) for x, _ in D]\n",
    "    print('y_predicted: ', y_predicted)\n",
    "\n",
    "    # Berechne die Konfusionsmatrix\n",
    "    c_matrix = metrics.confusion_matrix(y_actual, y_predicted)\n",
    "\n",
    "    print(f\"\\nGenauigkeit: {accuracy_score(y_actual, y_predicted):.3f}\")\n",
    "    print(f\"Präzesion: {precision_score(y_actual, y_predicted, zero_division=0):.3f}\")\n",
    "    print(f\"Sensitivität (Recall): {recall_score(y_actual, y_predicted, zero_division=0):.3f}\")\n",
    "    print(f\"F1-Maß: {f1_score(y_actual, y_predicted, zero_division=0):.3f}\")\n",
    "\n",
    "    return c_matrix\n",
    "\n",
    "print(\"\\nKonfusionsmatrix: \\n\", create_confusion_matrix(D, clf))\n"
   ]
  },
  {
   "cell_type": "markdown",
   "id": "8b3855de-a5f2-4ff0-8138-1947d8efd31b",
   "metadata": {},
   "source": [
    "### 2.3. SVM <a name=2.3.><a>"
   ]
  },
  {
   "cell_type": "code",
   "execution_count": 2,
   "id": "76ae47c4-26ca-4ad8-82aa-b38bd8fbf186",
   "metadata": {},
   "outputs": [],
   "source": [
    "# Ihre Daten\n",
    "D = [\n",
    "    ((1,2),-1),((1.5,0.5),-1),((1.5,3.5),1),((3.5,1),1),((3.5,3),1)\n",
    "]\n",
    "theta = (20/17, 16/17)\n",
    "b =  69/17"
   ]
  },
  {
   "cell_type": "markdown",
   "id": "6172b662-3b04-4cd9-ae77-9beaf5139982",
   "metadata": {
    "jp-MarkdownHeadingCollapsed": true
   },
   "source": [
    "##### Abstand von $h_1$ und $h_{-1}$ zu $h_0$  ist genau $\\frac{1}{\\|\\theta\\|}$\n"
   ]
  },
  {
   "cell_type": "code",
   "execution_count": 3,
   "id": "4e849e3a-f862-4190-a746-c356609533bd",
   "metadata": {},
   "outputs": [
    {
     "name": "stdout",
     "output_type": "stream",
     "text": [
      "Der Abstand von h_1 und h_{-1} zu h_0 ist: 0.664\n"
     ]
    }
   ],
   "source": [
    "import numpy as np\n",
    "\n",
    "def abstand_zu_h0(theta):\n",
    "    return 1 / np.linalg.norm(theta)\n",
    "\n",
    "abstand_zu_h0 = abstand_zu_h0(theta)\n",
    "print(\"Der Abstand von h_1 und h_{-1} zu h_0 ist:\", round(abstand_zu_h0,3))\n"
   ]
  },
  {
   "cell_type": "code",
   "execution_count": 4,
   "id": "991739b1-6d09-45e4-bb26-334466b120e3",
   "metadata": {},
   "outputs": [
    {
     "name": "stdout",
     "output_type": "stream",
     "text": [
      "Die Stützvektoren sind: [((1, 2), -1), ((1.5, 3.5), 1), ((3.5, 1), 1)]\n"
     ]
    }
   ],
   "source": [
    "def h0(theta, x, b):\n",
    "    return np.dot(theta, x) - b\n",
    "\n",
    "support_vectors = []\n",
    "\n",
    "for (x,y), target in D:\n",
    "    distance = h0(theta, (x,y), b)\n",
    "    if np.isclose(distance, 1) or np.isclose(distance, -1):\n",
    "        support_vectors.append(((x, y), target))\n",
    "\n",
    "print(\"Die Stützvektoren sind:\", support_vectors)"
   ]
  },
  {
   "cell_type": "markdown",
   "id": "c017968f-2347-49cb-b3aa-010d21740d87",
   "metadata": {
    "jp-MarkdownHeadingCollapsed": true
   },
   "source": [
    "##### Hinge-Kostenfunktion $L^{hinge}(D,f)$"
   ]
  },
  {
   "cell_type": "code",
   "execution_count": 7,
   "id": "e488dc9d-5602-48e1-ab98-f1fafaf08058",
   "metadata": {},
   "outputs": [
    {
     "name": "stdout",
     "output_type": "stream",
     "text": [
      "Die Hinge-Kostenfunktion L_hinge(D, f) ist 2.0\n"
     ]
    }
   ],
   "source": [
    "import numpy as np\n",
    "\n",
    "# Datensatz D\n",
    "D = [((1,3),-1),((4,3),1),((5,3.5),-1),((7,2.5),-1)]\n",
    "\n",
    "def f(x1, x2):\n",
    "    return np.cos((x1 + x2 - 3) * np.pi)\n",
    "\n",
    "def L_hinge(D, f):\n",
    "    cost = 0\n",
    "    for x, y in D:\n",
    "        cost += max(0, 1 - y * f(*x))\n",
    "    return cost\n",
    "##\n",
    "\n",
    "# Berechnen Sie die Hinge-Kostenfunktion\n",
    "cost = L_hinge(D, f)\n",
    "print(f\"Die Hinge-Kostenfunktion L_hinge(D, f) ist {round(cost, 3)}\")\n"
   ]
  },
  {
   "cell_type": "markdown",
   "id": "9aba2546-6ce8-4be3-af07-7e1b689180c1",
   "metadata": {
    "jp-MarkdownHeadingCollapsed": true
   },
   "source": [
    "##### Kernelfunktionen"
   ]
  },
  {
   "cell_type": "code",
   "execution_count": null,
   "id": "e8093b5b-3406-4efe-95bc-f610e6593039",
   "metadata": {},
   "outputs": [],
   "source": [
    "import numpy as np\n",
    "\n",
    "def phi(x):\n",
    "    \"\"\"\n",
    "    Eine Transformation φ : R² → R³.\n",
    "    In diesem Beispiel realisiert φ eine polynomielle Merkmalserweiterung.\n",
    "    \"\"\"\n",
    "    return np.array([x[0]**2, np.sqrt(2)*x[0]*x[1], x[1]**2])\n",
    "\n",
    "# Homogener polynomieller Kernel zu Grad 2\n",
    "def kernel(x, x_prime):\n",
    "    \"\"\"\n",
    "    Eine Kernelfunktion kφ, die das Skalarprodukt im R³ realisiert.\n",
    "    kφ (x, x′) = φ(x)ᵀ φ(x′)\n",
    "    \"\"\"\n",
    "    return np.dot(phi(x), phi(x_prime))\n",
    "\n",
    "# Homogener polynomieller Kernel zu Grad d > 0\n",
    "#f+r das lineare Kernel d = 1\n",
    "def poly_kernel_homogeneous(x, x_prime, d):\n",
    "    return np.dot(x, x_prime)**d\n",
    "\n",
    "# Inhomogener polynomieller Kernel zu Grad d > 0 mit r ∈ R\n",
    "def poly_kernel_inhomogeneous(x, x_prime, d, r):\n",
    "    return (np.dot(x, x_prime) + r)**d\n",
    "\n",
    "# Radiale Basisfunktion mit γ > 0 (Gaußscher Kernel)\n",
    "def rbf_kernel(x, x_prime, gamma):\n",
    "    return np.exp(-gamma * np.linalg.norm(x - x_prime)**2)\n",
    "    \n",
    "# Testen Sie die Funktionen mit zwei Vektoren a und b\n",
    "a = np.array([2, 3])\n",
    "b = np.array([4, 5])\n",
    "\n",
    "print(\"Das Skalarprodukt im transformierten Raum ist: \", kernel(a, b))\n"
   ]
  },
  {
   "cell_type": "markdown",
   "id": "66b9ecfc-af4b-4f65-8f57-3386b8a69fcb",
   "metadata": {},
   "source": [
    "### 2.4. KNN <a name=2.4.><a>"
   ]
  },
  {
   "cell_type": "markdown",
   "id": "01538c55-7c97-4795-977a-9d19691b6993",
   "metadata": {
    "jp-MarkdownHeadingCollapsed": true
   },
   "source": [
    "##### KNN-algorithmus"
   ]
  },
  {
   "cell_type": "code",
   "execution_count": 32,
   "id": "1ec32ab6-c655-48af-afea-de42a731b548",
   "metadata": {},
   "outputs": [
    {
     "name": "stdout",
     "output_type": "stream",
     "text": [
      "[5.80344725 5.93043    5.76974869 5.37587202 5.29528092]\n",
      "Der nächste Nachbar von x ist:  ((-6.8, 6), 3)\n"
     ]
    }
   ],
   "source": [
    "import numpy as np\n",
    "from scipy.spatial import distance\n",
    "\n",
    "def nearestk(D, x_new, k):\n",
    "    # Extrahieren Sie die Punkte aus D\n",
    "    points = np.array([x for x, y in D])\n",
    "    \n",
    "    # Berechnen Sie die euklidische Distanz zwischen x und allen Punkten in D\n",
    "    distances = np.array([distance.euclidean(x_new, point) for point in points])\n",
    "\n",
    "    print(distances)\n",
    "\n",
    "    # Finden Sie den Index des nächsten Nachbarn\n",
    "    nn_index = np.argmin(distances)\n",
    "    \n",
    "    # Der nächste Nachbar\n",
    "    nearest_neighbor = D[nn_index]\n",
    "    \n",
    "    print(\"Der nächste Nachbar von x ist: \", nearest_neighbor)\n",
    "\n",
    "# Testen der Funktion\n",
    "D = [\n",
    "    ((-2, 1), 1),\n",
    "    ((-1.9, 1.4), 1),\n",
    "    ((-2.6, 3.3), 2),\n",
    "    ((-3.9, 4.5), 2),\n",
    "    ((-6.8, 6), 3)\n",
    "]\n",
    "x = np.array([-7.8, 0.8])\n",
    "k = 2\n",
    "\n",
    "nearestk(D, x, k)\n"
   ]
  },
  {
   "cell_type": "markdown",
   "id": "7ed7dc2c-19ca-47e3-b5ca-6a913be5a70b",
   "metadata": {
    "jp-MarkdownHeadingCollapsed": true
   },
   "source": [
    "##### Anwenden der Z-Transformation auf jedes Merkmal\n"
   ]
  },
  {
   "cell_type": "code",
   "execution_count": 10,
   "id": "2b8d23a3-3e20-4c01-9f82-6bbea5045b35",
   "metadata": {},
   "outputs": [
    {
     "name": "stdout",
     "output_type": "stream",
     "text": [
      "Mittelwerte der Merkmale:  [13.7 23.8]\n",
      "Standardabweichungen der Merkmale:  [ 2.1        15.03861696]\n"
     ]
    }
   ],
   "source": [
    "import numpy as np\n",
    "\n",
    "# Datensatz\n",
    "D = [\n",
    "    ((12, 12), 'Hund'),\n",
    "    ((13, 34), 'Hund'),\n",
    "    ((16, 30), 'Wolf'),\n",
    "    ((14, 15), 'Dingo'),\n",
    "    ((15, 39), 'Wolf'),\n",
    "    ((15, 13), 'Dingo'),\n",
    "    ((10, 5), 'Hund'),\n",
    "    ((17, 56), 'Wolf'),\n",
    "    ((14, 11), 'Dingo'),\n",
    "    ((11, 23), 'Hund')\n",
    "]\n",
    "\n",
    "# Trennen Sie die Merkmale und die Ziele\n",
    "features = np.array([item[0] for item in D])\n",
    "targets = np.array([item[1] for item in D])\n",
    "\n",
    "# Berechnen Sie den Mittelwert und die Standardabweichung für jedes Merkmal\n",
    "mean_features = np.mean(features, axis=0)\n",
    "std_features = np.std(features, axis=0)\n",
    "\n",
    "print(\"Mittelwerte der Merkmale: \", mean_features)\n",
    "print(\"Standardabweichungen der Merkmale: \", std_features)\n"
   ]
  },
  {
   "cell_type": "code",
   "execution_count": 12,
   "id": "fd31a8d5-d8a8-4c63-8f5b-58b9106a90a4",
   "metadata": {},
   "outputs": [
    {
     "name": "stdout",
     "output_type": "stream",
     "text": [
      "Z-transformierter Datensatz:  [((-0.8095238095238092, -0.7846466223058651), 'Hund'), ((-0.333333333333333, 0.6782538599593071), 'Hund'), ((1.0952380952380956, 0.4122719540929121), 'Wolf'), ((0.14285714285714318, -0.5851601929060689), 'Dingo'), ((0.6190476190476194, 1.0107312422923007), 'Wolf'), ((0.6190476190476194, -0.7181511458392664), 'Dingo'), ((-1.7619047619047614, -1.2501149575720563), 'Hund'), ((1.5714285714285716, 2.1411543422244796), 'Wolf'), ((0.14285714285714318, -0.8511420987724638), 'Dingo'), ((-1.2857142857142854, -0.05319638117327904), 'Hund')]\n"
     ]
    }
   ],
   "source": [
    "# Anwenden der Z-Transformation auf jedes Merkmal\n",
    "z_transformed_features = (features - mean_features) / std_features\n",
    "\n",
    "# Kombinieren Sie die Z-transformierten Merkmale mit den Zielen, um den Z-transformierten Datensatz zu erhalten\n",
    "z_transformed_D = [(tuple(z_feature), target) for z_feature, target in zip(z_transformed_features, targets)]\n",
    "\n",
    "print(\"Z-transformierter Datensatz: \", z_transformed_D)"
   ]
  },
  {
   "cell_type": "markdown",
   "id": "87496ba0-5baf-42b2-8be6-b807ae2297a4",
   "metadata": {},
   "source": [
    "##### Nächste-Nachbarn-Regression\n",
    "$$regr_{D,k}(x) = \\frac{\\sum_{y \\in nearest_k(D,x)}y}{k} = \\frac{1}{k}\\sum_{y \\in nearest_k(D,x)} y$$"
   ]
  },
  {
   "cell_type": "code",
   "execution_count": 33,
   "id": "44e1dfec-7cff-4119-84f1-011a0d477ab5",
   "metadata": {},
   "outputs": [
    {
     "name": "stdout",
     "output_type": "stream",
     "text": [
      "Der nächste Nachbar von x ist:  [((7, 29), 80), ((5, 13), 54)]\n",
      "Der vorhergesagte Wert von y(6) ist:  67.0\n"
     ]
    }
   ],
   "source": [
    "def nearestk_long(D, x, k):\n",
    "    # Extrahieren Sie die Punkte aus D\n",
    "    points = np.array([point for point, category in D])\n",
    "    \n",
    "    # Berechnen Sie die euklidische Distanz zwischen x und allen Punkten in D\n",
    "    dists = np.array([distance.euclidean(x, point) for point in points])\n",
    "    \n",
    "    # Finden Sie die Indizes der k kleinsten Distanzen\n",
    "    idx = np.argpartition(dists, k)[:k]\n",
    "    \n",
    "    # Rückgabe der k nächsten Punkte und ihrer Kategorien\n",
    "    return [D[i] for i in idx]\n",
    "    \n",
    "def NN_reg(D, x_new, k):\n",
    "    knn = nearestk_long(D, x_new, k)\n",
    "    print(\"Der nächste Nachbar von x ist: \", knn)\n",
    "    return sum(y for x,y in knn)/k\n",
    "\n",
    "D = [\n",
    "    ((5,13),54),((7,29),80),((8,-48),48),((10,3),69),((11,-21),59)\n",
    "]\n",
    "\n",
    "# Neuer Datenpunkt\n",
    "x_new = np.array([9, 59])\n",
    "k = 2\n",
    "\n",
    "print(\"Der vorhergesagte Wert von y(6) ist: \", NN_reg(D, x_new, k))"
   ]
  },
  {
   "cell_type": "markdown",
   "id": "93785fc7-50bb-46ef-ad68-a8b984aac7b5",
   "metadata": {},
   "source": [
    "### 2.5. Bayes <a name=2.5.><a>"
   ]
  },
  {
   "cell_type": "markdown",
   "id": "37649c8f-1d82-4ddc-b0b3-ed1176bf4d1b",
   "metadata": {},
   "source": [
    "##### Naives Bayes klassifikator"
   ]
  },
  {
   "cell_type": "code",
   "execution_count": 2,
   "id": "ffbd33d6-110c-4735-b151-398047741703",
   "metadata": {},
   "outputs": [],
   "source": [
    "D = [(1,0,'c1'),(0,1,'c1'),(1,1,'c2'),(0,0,'c2'),(0,1,'c1')]\n",
    "\n",
    "# Zählen Sie die Anzahl der Instanzen jeder Klasse\n",
    "count_c1 = sum(1 for x in D if x[2] == 'c1')\n",
    "count_c2 = sum(1 for x in D if x[2] == 'c2')"
   ]
  },
  {
   "cell_type": "markdown",
   "id": "e0992c82-808a-44f8-913b-28b2d49cecad",
   "metadata": {},
   "source": [
    "$P(c1 ∣ D)$ und $P(c2 ∣ D)$"
   ]
  },
  {
   "cell_type": "code",
   "execution_count": 3,
   "id": "2a6e31e0-b3f5-4ce0-879b-d2124f97e60f",
   "metadata": {},
   "outputs": [
    {
     "name": "stdout",
     "output_type": "stream",
     "text": [
      "P(c1|D) = 0.6\n",
      "P(c2|D) = 0.4\n"
     ]
    }
   ],
   "source": [
    "# Berechnen Sie die bedingten Wahrscheinlichkeiten\n",
    "P_c1_given_D = count_c1 / len(D)\n",
    "P_c2_given_D = count_c2 / len(D)\n",
    "\n",
    "print(f'P(c1|D) = {P_c1_given_D}')\n",
    "print(f'P(c2|D) = {P_c2_given_D}')"
   ]
  },
  {
   "cell_type": "code",
   "execution_count": 4,
   "id": "9de947a7-c575-45c8-acb0-6b7f9c6adcbf",
   "metadata": {},
   "outputs": [
    {
     "name": "stdout",
     "output_type": "stream",
     "text": [
      "P(x1=0|c=c1,D) = 0.6666666666666666\n",
      "P(x1=0|c=c2,D) = 0.5\n",
      "P(x1=1|c=c1,D) = 0.3333333333333333\n",
      "P(x1=1|c=c2,D) = 0.5\n",
      "P(x2=0|c=c1,D) = 0.3333333333333333\n",
      "P(x2=0|c=c2,D) = 0.5\n",
      "P(x2=1|c=c1,D) = 0.6666666666666666\n",
      "P(x2=1|c=c2,D) = 0.5\n"
     ]
    }
   ],
   "source": [
    "\n",
    "# Zählen Sie die Anzahl der Instanzen jeder Merkmalsausprägung für jede Klasse\n",
    "count_x1_0_c1 = sum(1 for x in D if x[0] == 0 and x[2] == 'c1')\n",
    "count_x1_0_c2 = sum(1 for x in D if x[0] == 0 and x[2] == 'c2')\n",
    "count_x1_1_c1 = sum(1 for x in D if x[0] == 1 and x[2] == 'c1')\n",
    "count_x1_1_c2 = sum(1 for x in D if x[0] == 1 and x[2] == 'c2')\n",
    "\n",
    "count_x2_0_c1 = sum(1 for x in D if x[1] == 0 and x[2] == 'c1')\n",
    "count_x2_0_c2 = sum(1 for x in D if x[1] == 0 and x[2] == 'c2')\n",
    "count_x2_1_c1 = sum(1 for x in D if x[1] == 1 and x[2] == 'c1')\n",
    "count_x2_1_c2 = sum(1 for x in D if x[1] == 1 and x[2] == 'c2')\n",
    "\n",
    "# Berechnen Sie die Wahrscheinlichkeitsverteilungen\n",
    "P_x1_0_given_c1_D = count_x1_0_c1 / count_c1\n",
    "P_x1_0_given_c2_D = count_x1_0_c2 / count_c2\n",
    "P_x1_1_given_c1_D = count_x1_1_c1 / count_c1\n",
    "P_x1_1_given_c2_D = count_x1_1_c2 / count_c2\n",
    "\n",
    "P_x2_0_given_c1_D = count_x2_0_c1 / count_c1\n",
    "P_x2_0_given_c2_D = count_x2_0_c2 / count_c2\n",
    "P_x2_1_given_c1_D = count_x2_1_c1 / count_c1\n",
    "P_x2_1_given_c2_D = count_x2_1_c2 / count_c2\n",
    "\n",
    "# Ausgabe der Ergebnisse\n",
    "print(f'P(x1=0|c=c1,D) = {P_x1_0_given_c1_D}')\n",
    "print(f'P(x1=0|c=c2,D) = {P_x1_0_given_c2_D}')\n",
    "print(f'P(x1=1|c=c1,D) = {P_x1_1_given_c1_D}')\n",
    "print(f'P(x1=1|c=c2,D) = {P_x1_1_given_c2_D}')\n",
    "\n",
    "print(f'P(x2=0|c=c1,D) = {P_x2_0_given_c1_D}')\n",
    "print(f'P(x2=0|c=c2,D) = {P_x2_0_given_c2_D}')\n",
    "print(f'P(x2=1|c=c1,D) = {P_x2_1_given_c1_D}')\n",
    "print(f'P(x2=1|c=c2,D) = {P_x2_1_given_c2_D}')\n"
   ]
  },
  {
   "cell_type": "code",
   "execution_count": 8,
   "id": "8c7cf118-f08c-43a4-8460-d3a03aacefeb",
   "metadata": {},
   "outputs": [
    {
     "name": "stdout",
     "output_type": "stream",
     "text": [
      "clf(x1=0,x2=0,D) = c1 with probability 0.13333333333333333\n",
      "clf(x1=0,x2=0,D) = c2 with probability 0.1\n"
     ]
    }
   ],
   "source": [
    "# Definieren Sie den Datenpunkt\n",
    "x = (0, 0)\n",
    "\n",
    "# Berechnen Sie die Wahrscheinlichkeiten für jede Klasse\n",
    "P_c1_given_x_D = P_x1_0_given_c1_D * P_x2_0_given_c1_D * P_c1_given_D\n",
    "P_c2_given_x_D = P_x1_0_given_c2_D * P_x2_0_given_c2_D * P_c2_given_D\n",
    "\n",
    "'''\n",
    "# Normalisieren Sie die Wahrscheinlichkeiten, so dass sie sich zu 1 addieren\n",
    "sum_P = P_c1_given_x_D + P_c2_given_x_D\n",
    "P_c1_given_x_D /= sum_P\n",
    "P_c2_given_x_D /= sum_P\n",
    "'''\n",
    "\n",
    "# Ausgabe der Ergebnisse\n",
    "print(f'clf(x1=0,x2=0,D) = c1 with probability {P_c1_given_x_D}')\n",
    "print(f'clf(x1=0,x2=0,D) = c2 with probability {round(P_c2_given_x_D,3)}')"
   ]
  },
  {
   "cell_type": "markdown",
   "id": "cc566785-4c87-4cc1-b5d5-ae41677a41db",
   "metadata": {},
   "source": [
    "### 2.6. Entscheidungbäume <a name=2.6.><a>"
   ]
  },
  {
   "cell_type": "markdown",
   "id": "92ab84be-91aa-4e1c-8c35-309856713f47",
   "metadata": {},
   "source": [
    "##### Entropie $H (D)$\n",
    "- Für ein **binäres** Klassifikationsproblem (zwei Klassen 0 und 1):\n",
    "\n",
    "$$\n",
    "H(D) = -\\frac{|{(x, y) \\in D | y = 0}|}{|D|} \\log_{10} \\left(\\frac{|{(x, y) \\in D | y = 0}|}{|D|}\\right) - \\frac{|{(x, y) \\in D | y = 1}|}{|D|} \\log_{10} \\left(\\frac{|{(x, y) \\in D | y = 1}|}{|D|}\\right)\n",
    "$$\n",
    "$$ H(D) = -\\frac{\\text{Positive Beipsiele}}{\\text{alle beispiele}}*log_10\\frac{\\text{Positive Beipsiele}}{\\text{alle beispiele}} - \\frac{\\text{Negative Beipsiele}}{\\text{alle beispiele}}*log_10\\frac{\\text{Negative Beipsiele}}{\\text{alle beispiele}}$$\n",
    "- Für ein **mehrklassiges** Klassifikationsproblem (Klassen $c_1, ..., c_k$):\n",
    "\n",
    "$$\n",
    "H(D) = -\\sum_{i=1}^{k} \\frac{|{(x, c) \\in D | c = c_i}|}{|D|} \\log_{10} \\left(\\frac{|{(x, c) \\in D | c = c_i}|}{|D|}\\right)\n",
    "$$"
   ]
  },
  {
   "cell_type": "code",
   "execution_count": 131,
   "id": "23238376-b4ae-4b95-980a-8001edb79ab3",
   "metadata": {},
   "outputs": [],
   "source": [
    "D = [\n",
    "    (('Sonne','>20°C'),'Eistee'),(('Sonne','10−20°C'),'Eistee'),(('Wolken','>20°C'),'Eistee'),(('Wolken','<10°C'),'Tee')\n",
    "]"
   ]
  },
  {
   "cell_type": "code",
   "execution_count": 132,
   "id": "6e8f5dd4-d284-46cb-8ef5-e69cbe40ccfa",
   "metadata": {},
   "outputs": [
    {
     "name": "stdout",
     "output_type": "stream",
     "text": [
      "die eindeutigen Klassen sind {'Tee', 'Eistee'}\n",
      "H(D) = 0.244\n"
     ]
    }
   ],
   "source": [
    "import math\n",
    "\n",
    "def berechne_entropie(D):\n",
    "    # Extrahiere die Klassen aus D\n",
    "    klassen = [x[1] for x in D]\n",
    "\n",
    "    # Erstelle ein Set, um die eindeutigen Klassen zu erhalten\n",
    "    eindeutige_klassen = set(klassen)\n",
    "\n",
    "    print(f'die eindeutigen Klassen sind {eindeutige_klassen}')\n",
    "    # Gesamtzahl der Instanzen\n",
    "    total = len(D)\n",
    "\n",
    "    # Berechnung der Entropie für jede Klasse und Summierung\n",
    "    entropie = 0\n",
    "    for klasse in eindeutige_klassen:\n",
    "        num_klasse = klassen.count(klasse)\n",
    "        entropie -= (num_klasse / total) * math.log10(num_klasse / total)\n",
    "\n",
    "    return entropie\n",
    "\n",
    "# Datensatz D\n",
    "\n",
    "# Aufruf der Methode\n",
    "H_D = round(berechne_entropie(D),3)\n",
    "\n",
    "print(f\"H(D) = {H_D}\")\n"
   ]
  },
  {
   "cell_type": "markdown",
   "id": "d3ef8436-5a19-44f1-86b1-3a85f6e36a09",
   "metadata": {},
   "source": [
    "##### Die Bedingte Entropie $H(D | i)$\n",
    "\n",
    "$$H(D | i) = \\sum_{j=1}^{ni} \\frac{{(x, y) ∈ D | xi = zi, j}}{|D|} H({(x, y) ∈ D | xi = zi, j})$$"
   ]
  },
  {
   "cell_type": "code",
   "execution_count": 133,
   "id": "ed06396a-d53b-4f59-a6ec-2a6c3cbea546",
   "metadata": {},
   "outputs": [
    {
     "data": {
      "text/html": [
       "<div>\n",
       "<style scoped>\n",
       "    .dataframe tbody tr th:only-of-type {\n",
       "        vertical-align: middle;\n",
       "    }\n",
       "\n",
       "    .dataframe tbody tr th {\n",
       "        vertical-align: top;\n",
       "    }\n",
       "\n",
       "    .dataframe thead th {\n",
       "        text-align: right;\n",
       "    }\n",
       "</style>\n",
       "<table border=\"1\" class=\"dataframe\">\n",
       "  <thead>\n",
       "    <tr style=\"text-align: right;\">\n",
       "      <th></th>\n",
       "      <th>x1</th>\n",
       "      <th>x2</th>\n",
       "      <th>y</th>\n",
       "    </tr>\n",
       "  </thead>\n",
       "  <tbody>\n",
       "    <tr>\n",
       "      <th>0</th>\n",
       "      <td>Sonne</td>\n",
       "      <td>&gt;20°C</td>\n",
       "      <td>Eistee</td>\n",
       "    </tr>\n",
       "    <tr>\n",
       "      <th>1</th>\n",
       "      <td>Sonne</td>\n",
       "      <td>10−20°C</td>\n",
       "      <td>Eistee</td>\n",
       "    </tr>\n",
       "    <tr>\n",
       "      <th>2</th>\n",
       "      <td>Wolken</td>\n",
       "      <td>&gt;20°C</td>\n",
       "      <td>Eistee</td>\n",
       "    </tr>\n",
       "    <tr>\n",
       "      <th>3</th>\n",
       "      <td>Wolken</td>\n",
       "      <td>&lt;10°C</td>\n",
       "      <td>Tee</td>\n",
       "    </tr>\n",
       "  </tbody>\n",
       "</table>\n",
       "</div>"
      ],
      "text/plain": [
       "       x1       x2       y\n",
       "0   Sonne    >20°C  Eistee\n",
       "1   Sonne  10−20°C  Eistee\n",
       "2  Wolken    >20°C  Eistee\n",
       "3  Wolken    <10°C     Tee"
      ]
     },
     "execution_count": 133,
     "metadata": {},
     "output_type": "execute_result"
    }
   ],
   "source": [
    "# Erstelle eine Liste von Dictionaries für den DataFrame\n",
    "data = [{'x1': d[0][0], 'x2': d[0][1], 'y': d[1]} for d in D]\n",
    "\n",
    "''' Für mehr als 2 merkmale\n",
    "D = pd.DataFrame(D, columns=['features', 'target'])\n",
    "# Teile die 'features'-Spalte in mehrere Spalten auf\n",
    "D[['outlook', 'temperature', 'humidity', 'wind']] = pd.DataFrame(D['features'].tolist(), index=D.index)\n",
    "D = D.drop('features', axis=1)\n",
    "\n",
    "'''\n",
    "# Erstelle den DataFrame\n",
    "D = pd.DataFrame(data)\n",
    "D"
   ]
  },
  {
   "cell_type": "markdown",
   "id": "d791752b-9544-4cc2-9da1-0559aea5f944",
   "metadata": {},
   "source": [
    "$H(D | x1)$"
   ]
  },
  {
   "cell_type": "code",
   "execution_count": 134,
   "id": "b8b7c190-9d79-47ae-bc1c-1c3c4ebe7022",
   "metadata": {},
   "outputs": [
    {
     "data": {
      "text/plain": [
       "array(['Eistee', 'Tee'], dtype=object)"
      ]
     },
     "execution_count": 134,
     "metadata": {},
     "output_type": "execute_result"
    }
   ],
   "source": [
    "klassen = D['y'].unique()\n",
    "klassen"
   ]
  },
  {
   "cell_type": "code",
   "execution_count": 136,
   "id": "339c3af0-82ff-4405-badd-0ce93f2a830d",
   "metadata": {},
   "outputs": [],
   "source": [
    "import math\n",
    "\n",
    "def entropie(pos, neg, alle):\n",
    "    pos_term = -(pos/alle)*math.log10(pos/alle) if pos != 0 else 0\n",
    "    neg_term = -(neg/alle)*math.log10(neg/alle) if neg != 0 else 0\n",
    "    return pos_term + neg_term\n",
    "\n",
    "def H_D_i_j(D, i, j):\n",
    "    return D[i].value_counts().loc[j]/len(D)\n",
    "\n",
    "def H_D_x(D, x, y):\n",
    "    H_D_x = 0\n",
    "    for x1_value in D[x].unique():\n",
    "        all = D[x].value_counts()[x1_value]\n",
    "        pos = D.loc[(D[x] == x1_value) & (D['y'] == y)].shape[0]\n",
    "        H_D_x += H_D_i_j(D, x, x1_value) * entropie(pos, all-pos, all)\n",
    "    return round(H_D_x,3)\n",
    "\n",
    "H_D_x1 = H_D_x(D, 'x1', 'Eistee')\n",
    "H_D_x2 = H_D_x(D, 'x2', 'Eistee')"
   ]
  },
  {
   "cell_type": "markdown",
   "id": "dcb45590-75d1-469c-b3b7-a3a0112bb89e",
   "metadata": {},
   "source": [
    "##### Informationsgewinm (Gain) $IG(D,i) = H(D) − H(D | i)$"
   ]
  },
  {
   "cell_type": "code",
   "execution_count": 137,
   "id": "3b0eaeee-f21e-4aa2-a4a5-3729b6c90a59",
   "metadata": {},
   "outputs": [
    {
     "name": "stdout",
     "output_type": "stream",
     "text": [
      "0.093\n",
      "0.244\n"
     ]
    }
   ],
   "source": [
    "IG_D_x1 = H_D - H_D_x1\n",
    "IG_D_x2 = H_D - H_D_x2\n",
    "\n",
    "print(IG_D_x1)\n",
    "print(IG_D_x2)"
   ]
  },
  {
   "cell_type": "markdown",
   "id": "4108d448-19c8-4a36-bff8-e2c90851730a",
   "metadata": {},
   "source": [
    "## 3 Unüberwachtes Lernen <a name=3><a>"
   ]
  },
  {
   "cell_type": "markdown",
   "id": "53da7df6-0e8a-4477-b241-98e8559e6019",
   "metadata": {
    "jp-MarkdownHeadingCollapsed": true
   },
   "source": [
    "### 3.1. K-Means-Clustering <a name=3.1.><a>"
   ]
  },
  {
   "cell_type": "code",
   "execution_count": 16,
   "id": "904c9508-cd03-47d0-b85a-384d056b2aae",
   "metadata": {},
   "outputs": [],
   "source": [
    "import numpy as np\n",
    "import pandas as pd \n",
    "\n",
    "# Define a function to calculate Euclidean distance\n",
    "def euklidische_distanz(df, m):\n",
    "    return np.sqrt((df.iloc[:, 0] - m[0])**2 + (df.iloc[:, 1] - m[1])**2)\n",
    "\n",
    "# Define a function to perform clustering\n",
    "def clustering(df, centroids):\n",
    "    print('\\ncentroids: ')\n",
    "    print(centroids)\n",
    "    liste_distanzen = []\n",
    "    for i, m in enumerate(centroids):\n",
    "        temp = 'Distanz_m'+str(i)\n",
    "        df[temp] = round(euklidische_distanz(df, m),3)\n",
    "        liste_distanzen.append(temp)\n",
    "    print(df)    \n",
    "    df['Cluster'] = df[liste_distanzen].idxmin(axis=1)\n",
    "    df['Cluster'] = df['Cluster'].map({'Distanz_m'+str(i): i for i in range(len(centroids))})\n",
    "\n",
    "def K_Mean_clustering(df, centroids):\n",
    "    # Perform initial clustering\n",
    "    clustering(df, centroids)\n",
    "    # Repeat clustering until centroids do not change significantly\n",
    "    j = 0\n",
    "    while True:\n",
    "        print('Iteration '+str(j))\n",
    "        j+=1\n",
    "        new_centroids = [tuple(df[df['Cluster'] == i].iloc[:, :2].mean()) for i in range(len(centroids))]\n",
    "        if np.allclose(centroids, new_centroids):\n",
    "            break\n",
    "        centroids = new_centroids\n",
    "        clustering(df, centroids)\n",
    "        #print(df)\n",
    "\n",
    "    return df"
   ]
  },
  {
   "cell_type": "code",
   "execution_count": 17,
   "id": "7b22447d-92d1-4646-ba31-d0700269c565",
   "metadata": {},
   "outputs": [
    {
     "name": "stdout",
     "output_type": "stream",
     "text": [
      "     x    y\n",
      "0  4.0  3.5\n",
      "1  1.3  1.3\n",
      "2  5.0  4.7\n",
      "3  3.3  4.5\n",
      "4  6.2  3.9\n",
      "\n",
      "centroids: \n",
      "[(4, 3.5), (5, 4.7)]\n",
      "     x    y  Distanz_m0  Distanz_m1\n",
      "0  4.0  3.5       0.000       1.562\n",
      "1  1.3  1.3       3.483       5.025\n",
      "2  5.0  4.7       1.562       0.000\n",
      "3  3.3  4.5       1.221       1.712\n",
      "4  6.2  3.9       2.236       1.442\n",
      "Iteration 0\n",
      "\n",
      "centroids: \n",
      "[(2.8666666666666667, 3.1), (5.6, 4.3)]\n",
      "     x    y  Distanz_m0  Distanz_m1  Cluster\n",
      "0  4.0  3.5       1.202       1.789        0\n",
      "1  1.3  1.3       2.386       5.243        0\n",
      "2  5.0  4.7       2.667       0.721        1\n",
      "3  3.3  4.5       1.466       2.309        0\n",
      "4  6.2  3.9       3.428       0.721        1\n",
      "Iteration 1\n"
     ]
    },
    {
     "data": {
      "text/html": [
       "<div>\n",
       "<style scoped>\n",
       "    .dataframe tbody tr th:only-of-type {\n",
       "        vertical-align: middle;\n",
       "    }\n",
       "\n",
       "    .dataframe tbody tr th {\n",
       "        vertical-align: top;\n",
       "    }\n",
       "\n",
       "    .dataframe thead th {\n",
       "        text-align: right;\n",
       "    }\n",
       "</style>\n",
       "<table border=\"1\" class=\"dataframe\">\n",
       "  <thead>\n",
       "    <tr style=\"text-align: right;\">\n",
       "      <th></th>\n",
       "      <th>x</th>\n",
       "      <th>y</th>\n",
       "      <th>Distanz_m0</th>\n",
       "      <th>Distanz_m1</th>\n",
       "      <th>Cluster</th>\n",
       "    </tr>\n",
       "  </thead>\n",
       "  <tbody>\n",
       "    <tr>\n",
       "      <th>0</th>\n",
       "      <td>4.0</td>\n",
       "      <td>3.5</td>\n",
       "      <td>1.202</td>\n",
       "      <td>1.789</td>\n",
       "      <td>0</td>\n",
       "    </tr>\n",
       "    <tr>\n",
       "      <th>1</th>\n",
       "      <td>1.3</td>\n",
       "      <td>1.3</td>\n",
       "      <td>2.386</td>\n",
       "      <td>5.243</td>\n",
       "      <td>0</td>\n",
       "    </tr>\n",
       "    <tr>\n",
       "      <th>2</th>\n",
       "      <td>5.0</td>\n",
       "      <td>4.7</td>\n",
       "      <td>2.667</td>\n",
       "      <td>0.721</td>\n",
       "      <td>1</td>\n",
       "    </tr>\n",
       "    <tr>\n",
       "      <th>3</th>\n",
       "      <td>3.3</td>\n",
       "      <td>4.5</td>\n",
       "      <td>1.466</td>\n",
       "      <td>2.309</td>\n",
       "      <td>0</td>\n",
       "    </tr>\n",
       "    <tr>\n",
       "      <th>4</th>\n",
       "      <td>6.2</td>\n",
       "      <td>3.9</td>\n",
       "      <td>3.428</td>\n",
       "      <td>0.721</td>\n",
       "      <td>1</td>\n",
       "    </tr>\n",
       "  </tbody>\n",
       "</table>\n",
       "</div>"
      ],
      "text/plain": [
       "     x    y  Distanz_m0  Distanz_m1  Cluster\n",
       "0  4.0  3.5       1.202       1.789        0\n",
       "1  1.3  1.3       2.386       5.243        0\n",
       "2  5.0  4.7       2.667       0.721        1\n",
       "3  3.3  4.5       1.466       2.309        0\n",
       "4  6.2  3.9       3.428       0.721        1"
      ]
     },
     "execution_count": 17,
     "metadata": {},
     "output_type": "execute_result"
    }
   ],
   "source": [
    "import pandas as pd\n",
    "\n",
    "# Datenpunkte\n",
    "E = [(4,3.5),(1.3,1.3),(5,4.7),(3.3,4.5),(6.2,3.9)]\n",
    "\n",
    "# Erstellen Sie einen DataFrame\n",
    "df = pd.DataFrame(E, columns=['x', 'y'])\n",
    "\n",
    "print(df)\n",
    "\n",
    "# Define k centroids\n",
    "centroids = [(4,3.5), (5,4.7)]  # Add or remove centroids as needed\n",
    "\n",
    "K_Mean_clustering(df, centroids)"
   ]
  },
  {
   "cell_type": "markdown",
   "id": "bfd02e5e-a1fe-43b5-aeef-2c80b2ebb983",
   "metadata": {},
   "source": [
    "### 3.2. hierarisches Clustering <a name=3.2.><a>"
   ]
  },
  {
   "cell_type": "markdown",
   "id": "9dacd44d-048b-4600-9f18-94ccd52c60e3",
   "metadata": {},
   "source": [
    "##### Single link - iteration 1"
   ]
  },
  {
   "cell_type": "code",
   "execution_count": 2,
   "id": "aaaa72a4-66d8-4bed-a5aa-f732b6c39636",
   "metadata": {},
   "outputs": [
    {
     "data": {
      "text/html": [
       "<div>\n",
       "<style scoped>\n",
       "    .dataframe tbody tr th:only-of-type {\n",
       "        vertical-align: middle;\n",
       "    }\n",
       "\n",
       "    .dataframe tbody tr th {\n",
       "        vertical-align: top;\n",
       "    }\n",
       "\n",
       "    .dataframe thead th {\n",
       "        text-align: right;\n",
       "    }\n",
       "</style>\n",
       "<table border=\"1\" class=\"dataframe\">\n",
       "  <thead>\n",
       "    <tr style=\"text-align: right;\">\n",
       "      <th></th>\n",
       "      <th>x</th>\n",
       "      <th>y</th>\n",
       "    </tr>\n",
       "  </thead>\n",
       "  <tbody>\n",
       "    <tr>\n",
       "      <th>0</th>\n",
       "      <td>2.8</td>\n",
       "      <td>12.5</td>\n",
       "    </tr>\n",
       "    <tr>\n",
       "      <th>1</th>\n",
       "      <td>3.9</td>\n",
       "      <td>6.7</td>\n",
       "    </tr>\n",
       "    <tr>\n",
       "      <th>2</th>\n",
       "      <td>14.0</td>\n",
       "      <td>17.3</td>\n",
       "    </tr>\n",
       "    <tr>\n",
       "      <th>3</th>\n",
       "      <td>14.7</td>\n",
       "      <td>17.2</td>\n",
       "    </tr>\n",
       "  </tbody>\n",
       "</table>\n",
       "</div>"
      ],
      "text/plain": [
       "      x     y\n",
       "0   2.8  12.5\n",
       "1   3.9   6.7\n",
       "2  14.0  17.3\n",
       "3  14.7  17.2"
      ]
     },
     "execution_count": 2,
     "metadata": {},
     "output_type": "execute_result"
    }
   ],
   "source": [
    "import pandas as pd\n",
    "\n",
    "data = [(2.8, 12.5), (3.9, 6.7), (14, 17.3), (14.7, 17.2)]\n",
    "df = pd.DataFrame(data, columns=['x', 'y'])\n",
    "df"
   ]
  },
  {
   "cell_type": "code",
   "execution_count": 5,
   "id": "59fede9f-a940-4130-bbdd-41bc313c523c",
   "metadata": {},
   "outputs": [],
   "source": [
    "import numpy as np\n",
    "import pandas as pd\n",
    "from scipy.spatial.distance import cdist\n",
    "\n",
    "def euclidean_distance(x1, x2):\n",
    "    return np.sqrt(np.sum((x1 - x2) ** 2))\n",
    "\n",
    "def list_euclidean(x_list, x_list_2):\n",
    "    min_distances = []\n",
    "    for x1 in x_list:\n",
    "        for x2 in x_list_2:\n",
    "            min_distances.append(euclidean_distance(np.array(x1), np.array(x2)))\n",
    "    return min(min_distances)\n",
    "\n",
    "\n",
    "def D_avg(E1, E2):\n",
    "    \"\"\"\n",
    "    Berechnet die durchschnittliche Distanz zwischen zwei Clustern E1 und E2.\n",
    "    \"\"\"\n",
    "    # Berechnen Sie die paarweisen Distanzen zwischen den Punkten in E1 und E2\n",
    "    distances = cdist(E1, E2)\n",
    "    \n",
    "    # Berechnen Sie die durchschnittliche Distanz\n",
    "    avg_distance = np.sum(distances) / (len(E1) * len(E2))\n",
    "    \n",
    "    return avg_distance\n",
    "\n",
    "def D_single(E1, E2):\n",
    "    \"\"\"\n",
    "    Berechnet die Single-Linkage-Distanz (Dsingle) zwischen zwei Clustern E1 und E2.\n",
    "    \"\"\"\n",
    "    # Berechnen Sie die paarweisen Distanzen zwischen den Punkten in E1 und E2\n",
    "    distances = cdist(E1, E2)\n",
    "    \n",
    "    # Nehmen Sie das Minimum dieser Distanzen als Dsingle\n",
    "    Dsingle = np.min(distances)\n",
    "    \n",
    "    return round(Dsingle,3)"
   ]
  },
  {
   "cell_type": "code",
   "execution_count": 10,
   "id": "366b906e-6a9e-40f6-9bf1-7e143ea3186c",
   "metadata": {},
   "outputs": [
    {
     "name": "stdout",
     "output_type": "stream",
     "text": [
      "      x     y\n",
      "0   2.8  12.5\n",
      "1   3.9   6.7\n",
      "2  14.0  17.3\n",
      "3  14.7  17.2\n",
      "\n",
      "       1       2       3\n",
      "0  5.903  12.185  12.795\n",
      "1    NaN  14.641  15.063\n",
      "2    NaN     NaN   0.707\n",
      "\n",
      "(x    14.0\n",
      "y    17.3\n",
      "Name: 2, dtype: float64, x    14.7\n",
      "y    17.2\n",
      "Name: 3, dtype: float64)\n"
     ]
    }
   ],
   "source": [
    "\n",
    "def calculate_upper_triangular_distances(df):\n",
    "    # Initialisiere einen leeren DataFrame, um die Distanzen zu speichern\n",
    "    distances = pd.DataFrame()\n",
    "\n",
    "    # Initialisiere eine Variable, um das Paar mit minimaler Distanz zu speichern\n",
    "    min_distance_pair = None\n",
    "    min_distance = np.inf\n",
    "\n",
    "    # Iteriere über jedes Paar von Zeilen im DataFrame\n",
    "    for i in range(len(df)):\n",
    "        for j in range(i+1, len(df)):\n",
    "            # Berechne die euklidische Distanz zwischen den beiden Zeilen\n",
    "            dist = euclidean_distance(df.iloc[i], df.iloc[j])\n",
    "            \n",
    "            # Speichere die Distanz im DataFrame\n",
    "            distances.loc[df.index[i], df.index[j]] = round(dist,3)\n",
    "\n",
    "            # Überprüfe, ob die aktuelle Distanz kleiner ist als die bisher kleinste Distanz\n",
    "            if dist < min_distance:\n",
    "                min_distance = dist\n",
    "                min_distance_pair = (df.iloc[i], df.iloc[j])\n",
    "\n",
    "    return distances, min_distance_pair\n",
    "\n",
    "# Teste die Funktion mit dem DataFrame E_animals\n",
    "print(df)\n",
    "print()\n",
    "\n",
    "distance_triangle, mindistance = calculate_upper_triangular_distances(df)\n",
    "print(distance_triangle)\n",
    "print()\n",
    "print(mindistance)\n"
   ]
  },
  {
   "cell_type": "markdown",
   "id": "c99fe90c-48ff-46a8-8d1a-9af67244aab3",
   "metadata": {},
   "source": [
    "##### Single link - iteration 2"
   ]
  },
  {
   "cell_type": "code",
   "execution_count": 22,
   "id": "77e11ed3-8060-4242-b927-ea2be9b61b6b",
   "metadata": {},
   "outputs": [
    {
     "name": "stdout",
     "output_type": "stream",
     "text": [
      "Dsingle({x1},{x3,x4})) =  12.185\n",
      "Dsingle({x2},{x3,x4})) =  14.641\n"
     ]
    }
   ],
   "source": [
    "cluster1 = [(2.8, 12.5)]\n",
    "cluster2 = [(14,17.3),(14.7,17.2)]\n",
    "print('Dsingle({x1},{x3,x4})) = ', D_single(cluster1, cluster2))\n",
    "\n",
    "cluster1 = [(3.9,6.7)]\n",
    "cluster2 = [(14,17.3),(14.7,17.2)]\n",
    "print('Dsingle({x2},{x3,x4})) = ', D_single(cluster1, cluster2))"
   ]
  },
  {
   "cell_type": "code",
   "execution_count": null,
   "id": "dac267db-c5a7-4f3e-addf-0f4dace7eeef",
   "metadata": {},
   "outputs": [],
   "source": []
  },
  {
   "cell_type": "code",
   "execution_count": null,
   "id": "3daae187-f54b-4b56-bdd4-324c6dad701d",
   "metadata": {},
   "outputs": [],
   "source": [
    "import pandas as pd\n",
    "\n",
    "# Daten als Liste von Listen\n",
    "data = [\n",
    "    [1, 1, 0, 1],\n",
    "    [0, 1, 0, 1],\n",
    "    [1, 0, 1, 0],\n",
    "    [1, 1, 1, 1],\n",
    "    [0, 0, 0, 1]\n",
    "]\n",
    "\n",
    "# Spaltennamen\n",
    "columns = ['a', 'b', 'c', 'd']\n",
    "\n",
    "# Erstellen Sie den DataFrame\n",
    "df = pd.DataFrame(data, columns=columns)\n",
    "\n",
    "# Ausgabe des DataFrame\n",
    "print(df)\n",
    "``"
   ]
  },
  {
   "cell_type": "markdown",
   "id": "fae64e73-7ff9-4a5d-a63e-c3864c9bdf1a",
   "metadata": {},
   "source": [
    "### 3.3. Assoziationsregellern <a name=3.3.><a>"
   ]
  },
  {
   "cell_type": "code",
   "execution_count": 2,
   "id": "b94e4fe1-8ec3-47b1-8c56-3ff22e8efe37",
   "metadata": {},
   "outputs": [
    {
     "data": {
      "text/html": [
       "<div>\n",
       "<style scoped>\n",
       "    .dataframe tbody tr th:only-of-type {\n",
       "        vertical-align: middle;\n",
       "    }\n",
       "\n",
       "    .dataframe tbody tr th {\n",
       "        vertical-align: top;\n",
       "    }\n",
       "\n",
       "    .dataframe thead th {\n",
       "        text-align: right;\n",
       "    }\n",
       "</style>\n",
       "<table border=\"1\" class=\"dataframe\">\n",
       "  <thead>\n",
       "    <tr style=\"text-align: right;\">\n",
       "      <th></th>\n",
       "      <th>a</th>\n",
       "      <th>b</th>\n",
       "      <th>c</th>\n",
       "      <th>d</th>\n",
       "    </tr>\n",
       "  </thead>\n",
       "  <tbody>\n",
       "    <tr>\n",
       "      <th>0</th>\n",
       "      <td>1</td>\n",
       "      <td>1</td>\n",
       "      <td>0</td>\n",
       "      <td>1</td>\n",
       "    </tr>\n",
       "    <tr>\n",
       "      <th>1</th>\n",
       "      <td>0</td>\n",
       "      <td>1</td>\n",
       "      <td>0</td>\n",
       "      <td>1</td>\n",
       "    </tr>\n",
       "    <tr>\n",
       "      <th>2</th>\n",
       "      <td>1</td>\n",
       "      <td>0</td>\n",
       "      <td>1</td>\n",
       "      <td>0</td>\n",
       "    </tr>\n",
       "    <tr>\n",
       "      <th>3</th>\n",
       "      <td>1</td>\n",
       "      <td>1</td>\n",
       "      <td>1</td>\n",
       "      <td>1</td>\n",
       "    </tr>\n",
       "    <tr>\n",
       "      <th>4</th>\n",
       "      <td>0</td>\n",
       "      <td>0</td>\n",
       "      <td>0</td>\n",
       "      <td>1</td>\n",
       "    </tr>\n",
       "  </tbody>\n",
       "</table>\n",
       "</div>"
      ],
      "text/plain": [
       "   a  b  c  d\n",
       "0  1  1  0  1\n",
       "1  0  1  0  1\n",
       "2  1  0  1  0\n",
       "3  1  1  1  1\n",
       "4  0  0  0  1"
      ]
     },
     "execution_count": 2,
     "metadata": {},
     "output_type": "execute_result"
    }
   ],
   "source": [
    "import pandas as pd\n",
    "\n",
    "data = [\n",
    "    [1, 1, 0, 1],\n",
    "    [0, 1, 0, 1],\n",
    "    [1, 0, 1, 0],\n",
    "    [1, 1, 1, 1],\n",
    "    [0, 0, 0, 1]\n",
    "]\n",
    "columns = ['a', 'b', 'c', 'd']\n",
    "F = pd.DataFrame(data, columns=columns)\n",
    "F"
   ]
  },
  {
   "cell_type": "markdown",
   "id": "9e64fc51-ae8a-4a75-9b45-a5d88851e309",
   "metadata": {},
   "source": [
    "##### Supoort und Konfidenz"
   ]
  },
  {
   "cell_type": "code",
   "execution_count": 7,
   "id": "ef5b72a4-82e2-4b1b-b60d-d26d0e0f6cef",
   "metadata": {},
   "outputs": [],
   "source": [
    "def intersection_all_elements(lst):\n",
    "    result = (F[lst[0]] == 1)\n",
    "    for i in range(1, len(lst)):\n",
    "        result &=  (F[lst[i]] == 1)\n",
    "    return result\n",
    "\n",
    "def supportF_regel(list1, list2):\n",
    "    return intersection_all_elements(list1+list2).mean()\n",
    "    \n",
    "def supportF(list1):\n",
    "    return supportF_regel(list1, [])"
   ]
  },
  {
   "cell_type": "code",
   "execution_count": 8,
   "id": "3414eeb1-bb97-4a87-9135-b2881cc6bb3b",
   "metadata": {},
   "outputs": [
    {
     "name": "stdout",
     "output_type": "stream",
     "text": [
      "0.6\n",
      "0.2\n",
      "0.4\n",
      "0.2\n",
      "0.4\n",
      "0.2\n"
     ]
    }
   ],
   "source": [
    "print(supportF(['a']))\n",
    "print(supportF(['b', 'c']))\n",
    "print(supportF(['a', 'c']))\n",
    "print(supportF(['b', 'c', 'd']))\n",
    "print(supportF_regel(['a'], ['d']))\n",
    "print(supportF_regel(['a', 'b'], ['c']))"
   ]
  },
  {
   "cell_type": "code",
   "execution_count": 9,
   "id": "f4dedb00-63c5-4b2f-9c17-eb2931da5335",
   "metadata": {},
   "outputs": [],
   "source": [
    "def conF(list1, list2):\n",
    "    return supportF(list1+list2)/supportF(list1)"
   ]
  },
  {
   "cell_type": "code",
   "execution_count": 10,
   "id": "0977a896-95bc-49f0-8c19-cc6f018c3231",
   "metadata": {},
   "outputs": [
    {
     "name": "stdout",
     "output_type": "stream",
     "text": [
      "0.6666666666666667\n",
      "0.5\n"
     ]
    }
   ],
   "source": [
    "print(conF(['a'], ['d']))\n",
    "print(conF(['a', 'b'], ['c']))"
   ]
  },
  {
   "cell_type": "markdown",
   "id": "5ed66324-29b2-4433-b887-379417930923",
   "metadata": {},
   "source": [
    "### 3.4. Anomalierkennung <a name=3.4.><a>"
   ]
  },
  {
   "cell_type": "markdown",
   "id": "9da3220a-38b8-4305-b2d7-46a1e931b369",
   "metadata": {},
   "source": [
    "##### A-Priori-Algorithmus"
   ]
  },
  {
   "cell_type": "code",
   "execution_count": 16,
   "id": "5efa8a88-1714-4d06-a522-e3ab8b17c024",
   "metadata": {},
   "outputs": [
    {
     "data": {
      "text/html": [
       "<div>\n",
       "<style scoped>\n",
       "    .dataframe tbody tr th:only-of-type {\n",
       "        vertical-align: middle;\n",
       "    }\n",
       "\n",
       "    .dataframe tbody tr th {\n",
       "        vertical-align: top;\n",
       "    }\n",
       "\n",
       "    .dataframe thead th {\n",
       "        text-align: right;\n",
       "    }\n",
       "</style>\n",
       "<table border=\"1\" class=\"dataframe\">\n",
       "  <thead>\n",
       "    <tr style=\"text-align: right;\">\n",
       "      <th></th>\n",
       "      <th>x</th>\n",
       "      <th>y</th>\n",
       "    </tr>\n",
       "  </thead>\n",
       "  <tbody>\n",
       "    <tr>\n",
       "      <th>0</th>\n",
       "      <td>10.0</td>\n",
       "      <td>52</td>\n",
       "    </tr>\n",
       "    <tr>\n",
       "      <th>1</th>\n",
       "      <td>11.5</td>\n",
       "      <td>31</td>\n",
       "    </tr>\n",
       "    <tr>\n",
       "      <th>2</th>\n",
       "      <td>10.0</td>\n",
       "      <td>34</td>\n",
       "    </tr>\n",
       "    <tr>\n",
       "      <th>3</th>\n",
       "      <td>11.0</td>\n",
       "      <td>40</td>\n",
       "    </tr>\n",
       "  </tbody>\n",
       "</table>\n",
       "</div>"
      ],
      "text/plain": [
       "      x   y\n",
       "0  10.0  52\n",
       "1  11.5  31\n",
       "2  10.0  34\n",
       "3  11.0  40"
      ]
     },
     "execution_count": 16,
     "metadata": {},
     "output_type": "execute_result"
    }
   ],
   "source": [
    "# DataFrame erstellen\n",
    "import pandas as pd\n",
    "\n",
    "data = [\n",
    "    (10,52),(11.5,31),(10,34),(11,40)\n",
    "]\n",
    "E = pd.DataFrame(data, columns=['x', 'y'])\n",
    "E"
   ]
  },
  {
   "cell_type": "code",
   "execution_count": 17,
   "id": "0ecab4f8-7610-4677-856c-3245b47d2cf8",
   "metadata": {},
   "outputs": [
    {
     "name": "stdout",
     "output_type": "stream",
     "text": [
      "Mittelwerte der Merkmale : {'x': 10.625, 'y': 39.25}\n"
     ]
    }
   ],
   "source": [
    "def berechne_mittelwerte_df(df):\n",
    "    mittelwerte = {}\n",
    "    for spalte in df.columns:\n",
    "        mittelwerte[spalte] = df[spalte].mean()\n",
    "    return mittelwerte\n",
    "    \n",
    "def berechne_mittelwerte_col(df, spalte):\n",
    "    return df[spalte].mean()\n",
    "    \n",
    "mittelwerte = berechne_mittelwerte_df(E)\n",
    "print(f'Mittelwerte der Merkmale : {mittelwerte}')\n"
   ]
  },
  {
   "cell_type": "code",
   "execution_count": 18,
   "id": "c5893178-e2bb-41f9-be9b-79c2165d87d2",
   "metadata": {},
   "outputs": [
    {
     "name": "stdout",
     "output_type": "stream",
     "text": [
      "Mittelwerte der Merkmale : {'x': 0.421875, 'y': 64.6875}\n"
     ]
    }
   ],
   "source": [
    "def berechne_varianzen(df):\n",
    "    varianzen = {}\n",
    "    for spalte in df.columns:\n",
    "        varianzen[spalte] = berechne_varianzen_col(df, spalte)\n",
    "    return varianzen\n",
    "\n",
    "def berechne_varianzen_col(df, spalte):\n",
    "    varianz = 0\n",
    "    for value in df[spalte]:\n",
    "        varianz += (value - berechne_mittelwerte_col(df, spalte))**2\n",
    "    return varianz/df[spalte].count()\n",
    "    \n",
    "varianzen = berechne_varianzen(E)\n",
    "print(f'Mittelwerte der Merkmale : {varianzen}')\n"
   ]
  },
  {
   "cell_type": "code",
   "execution_count": 19,
   "id": "be71519f-6eda-416b-8712-fef06c97ff87",
   "metadata": {},
   "outputs": [
    {
     "data": {
      "text/plain": [
       "0.001"
      ]
     },
     "execution_count": 19,
     "metadata": {},
     "output_type": "execute_result"
    }
   ],
   "source": [
    "import numpy as np\n",
    "def berechne_p_E_i(sigma_i, mu_i, x_i):\n",
    "    return (1 / np.sqrt(2 * np.pi * sigma_i)) * np.exp(- (x_i - mu_i)**2 / (2 * sigma_i))\n",
    "    \n",
    "def berechne_p_E(df, x):\n",
    "    sigma = berechne_varianzen(df)\n",
    "    mu = berechne_mittelwerte_df(df)\n",
    "\n",
    "    p_E = 1\n",
    "    i = 0\n",
    "    for i, spalte in enumerate(df.columns):\n",
    "        p_E *= berechne_p_E_i(sigma[spalte], mu[spalte], x[i])\n",
    "                                                           \n",
    "    return p_E\n",
    "\n",
    "p_E = round(berechne_p_E(E, (9.5,55)),3)\n",
    "p_E"
   ]
  },
  {
   "cell_type": "code",
   "execution_count": 20,
   "id": "d9fd2f74-abb4-4133-8183-32c1dc8d183c",
   "metadata": {},
   "outputs": [
    {
     "name": "stdout",
     "output_type": "stream",
     "text": [
      "Handelt sich die Datenpunkt x(i) um eine Anomalie? True\n"
     ]
    }
   ],
   "source": [
    "epsilon = 0.9\n",
    "print(f'Handelt sich die Datenpunkt x(i) um eine Anomalie? {p_E < epsilon}')"
   ]
  },
  {
   "cell_type": "markdown",
   "id": "3155c125-73b5-4497-9e5e-480b0e5304cb",
   "metadata": {},
   "source": [
    "### 3.5. Hauptkomponenntenanalyse <a name=3.5.><a>"
   ]
  },
  {
   "cell_type": "code",
   "execution_count": 30,
   "id": "60157139-eef5-4416-b619-ecb3f56d274e",
   "metadata": {},
   "outputs": [
    {
     "name": "stdout",
     "output_type": "stream",
     "text": [
      "Die manuell berechnete Kovarianzmatrix von E ist:\n",
      "[[1.045 0.975]\n",
      " [0.975 1.015]]\n",
      "Die Varianz von E ist:\n",
      "2.06\n",
      "Die erhaltene Varianz ist:\n",
      "0.974\n"
     ]
    }
   ],
   "source": [
    "import numpy as np\n",
    "\n",
    "# Ihr Datensatz\n",
    "E = np.array([[-1.3, -1.4], [-0.7, -0.4], [1, 0.5], [1, 1.3]])\n",
    "E_compressed = np.array([1.909, 0.779, -1.063, -1.625])\n",
    "\n",
    "# Kovarianzmatrix berechnen\n",
    "# Manuelle Berechnung der Kovarianzmatrix für zentrierte Daten\n",
    "m = len(E)\n",
    "Cov_E_manual = (1/m) * E.T @ E\n",
    "\n",
    "print(\"Die manuell berechnete Kovarianzmatrix von E ist:\")\n",
    "print(Cov_E_manual)\n",
    "\n",
    "var_E = (1/len(E)) * np.sum(np.linalg.norm(E, axis=1)**2)\n",
    "print(\"Die Varianz von E ist:\")\n",
    "print(round(var_E,3))\n",
    "\n",
    "var_E_compressed = (1/len(E_compressed)) * np.sum(E_compressed**2)\n",
    "\n",
    "# Retained Variance berechnen\n",
    "retVar = var_E_compressed / var_E\n",
    "\n",
    "print(\"Die erhaltene Varianz ist:\")\n",
    "print(round(retVar,3))"
   ]
  },
  {
   "cell_type": "markdown",
   "id": "0fec8d48-1414-4e3d-8bfd-1c04391b457b",
   "metadata": {},
   "source": [
    "## 4 Reinforecement Learning <a name=4><a>"
   ]
  },
  {
   "cell_type": "markdown",
   "id": "95381b56-ea2c-46b0-af9b-4082ff6b20d6",
   "metadata": {},
   "source": [
    "### 4.1. Markov <a name=4.1.><a>"
   ]
  },
  {
   "cell_type": "markdown",
   "id": "b2179fcd-0db4-4adc-ad32-5d5b13b76d11",
   "metadata": {},
   "source": [
    "Ein Tupel $D = (S,A,P,R,s_0,S_t)$ wobei:\n",
    "\n",
    "$$S^{vc} = \\{s^{s}_o, s^{s}_u, s^{w}_o, s^{w}_u, s^t\\}$$\n",
    "$$A_{vc} = \\{hoch, runter, detektiere, beendeTag\\}$$\n",
    "$$s^0 = s^s_o$$\n",
    "$$S^t = s^t$$"
   ]
  },
  {
   "cell_type": "code",
   "execution_count": 30,
   "id": "ffcc676c-3339-4bb7-a8aa-536aefdb134c",
   "metadata": {},
   "outputs": [
    {
     "name": "stdout",
     "output_type": "stream",
     "text": [
      "Der Nutzen u1(sso) ist: 12.072\n"
     ]
    }
   ],
   "source": [
    "\n",
    "# Belohnungsfunktion\n",
    "R = {\n",
    "    ('sso', 'runter', 'ssu'): 15,\n",
    "    ('sso', 'runter', 'sso'): -3,\n",
    "    ('swu', 'hoch', 'swo'): 15,\n",
    "    ('swu', 'hoch', 'swu'): -3,\n",
    "    ('sso', 'detektiere', 'swo'): -2,\n",
    "    ('sso', 'detektiere', 'sso'): -2,\n",
    "    ('ssu', 'detektiere', 'swu'): -2,\n",
    "    ('ssu', 'detektiere', 'ssu'): -2,\n",
    "    ('swo', 'detektiere', 'sso'): -2,\n",
    "    ('swo', 'detektiere', 'swo'): -2,\n",
    "    ('swu', 'detektiere', 'ssu'): -2,\n",
    "    ('swu', 'detektiere', 'swu'): -2,\n",
    "    ('sso', 'beendeTag', 'st'): -10,\n",
    "    ('ssu', 'beendeTag', 'st'): 10,\n",
    "    ('swo', 'beendeTag', 'st'): 10,\n",
    "    ('swu', 'beendeTag', 'st'): -10,\n",
    "}\n",
    "\n",
    "# Übergangswahrscheinlichkeitsfunktion\n",
    "P = {\n",
    "    ('sso', 'runter', 'ssu'): 0.8,\n",
    "    ('sso', 'runter', 'sso'): 0.2,\n",
    "    ('swu', 'hoch', 'swo'): 0.8,\n",
    "    ('swu', 'hoch', 'swu'): 0.2,\n",
    "    ('sso', 'detektiere', 'swo'): 0.3,\n",
    "    ('sso', 'detektiere', 'sso'): 0.7,\n",
    "    ('ssu', 'detektiere', 'swu'): 0.3,\n",
    "    ('ssu', 'detektiere', 'ssu'): 0.7,\n",
    "    ('swo', 'detektiere', 'sso'): 0.3,\n",
    "    ('swo', 'detektiere', 'swo'): 0.7,\n",
    "    ('swu', 'detektiere', 'ssu'): 0.3,\n",
    "    ('swu', 'detektiere', 'swu'): 0.7,\n",
    "    ('sso', 'beendeTag', 'st'): 1,\n",
    "    ('ssu', 'beendeTag', 'st'): 1,\n",
    "    ('swo', 'beendeTag', 'st'): 1,\n",
    "    ('swu', 'beendeTag', 'st'): 1,\n",
    "}\n",
    "\n",
    "# Zustände und Aktionen\n",
    "S = ['sso', 'ssu', 'swo', 'swu', 'st']\n",
    "A = ['runter', 'hoch', 'detektiere', 'beendeTag']\n",
    "s0 = 'sso'\n",
    "\n",
    "\n",
    "gamma = 0.9\n"
   ]
  },
  {
   "cell_type": "markdown",
   "id": "3dd4a1f9-80af-493d-8e1d-d395ab14670d",
   "metadata": {},
   "source": [
    "\\begin{align*}\r\n",
    "        P(e) & = P(s_o^s,\\textit{detektiere},s_o^s) P(s_o^s,\\textit{runter},s_u^s) P(s_u^s,\\textit{beendeTag},s^t) \\\\\r\n",
    "        & = 0.7 \\cdot 0.8 \\cdot 1.0 \\\\\r\n",
    "        & = 0.56\r\n",
    "    \\end{align*}"
   ]
  },
  {
   "cell_type": "code",
   "execution_count": 16,
   "id": "40c4aedb-6644-4737-a218-5d1a877aa262",
   "metadata": {},
   "outputs": [
    {
     "data": {
      "text/plain": [
       "0.56"
      ]
     },
     "execution_count": 16,
     "metadata": {},
     "output_type": "execute_result"
    }
   ],
   "source": [
    "def P_e(P):\n",
    "        p_e = 1\n",
    "        for p in P:  # Schritte von 2, da Zustände und Aktionen abwechselnd sind\n",
    "            p_e *= p  # Diskontierte Belohnung\n",
    "        return p_e\n",
    "\n",
    "p_e = P_e([P.get(('sso', 'detektiere', 'sso')), P.get(('sso', 'runter', 'ssu')), P.get(('ssu', 'beendeTag', 'st'))])\n",
    "round(p_e)"
   ]
  },
  {
   "cell_type": "markdown",
   "id": "e58da424-97b0-4eb9-b09b-be0698ba7840",
   "metadata": {},
   "source": [
    "\\begin{align*}\n",
    "        U^\\gamma_D(e) & = R(s_o^s,\\textit{detektiere},s_o^s) + \\gamma R(s_o^s,\\textit{runter},s_u^s) + \\gamma^2 R(s_u^s,\\textit{beendeTag},s^t) \\\\\n",
    "        & = -2 + 0.9 \\cdot 15 + 0.9^2 \\cdot 10 \\\\\n",
    "        & = -2 + 13.5 + 8.1 \\\\\n",
    "        & = 19.6\n",
    "    \\end{align*}"
   ]
  },
  {
   "cell_type": "code",
   "execution_count": 32,
   "id": "79fc26b9-b2f1-4926-942e-819c364aa7e0",
   "metadata": {},
   "outputs": [
    {
     "data": {
      "text/plain": [
       "19.6"
      ]
     },
     "execution_count": 32,
     "metadata": {},
     "output_type": "execute_result"
    }
   ],
   "source": [
    "\n",
    "def U_gamma_D(R, gamma):\n",
    "        U = 0\n",
    "        for i, r in enumerate(R):  # Schritte von 2, da Zustände und Aktionen abwechselnd sind\n",
    "            U += (gamma ** i) * r  # Diskontierte Belohnung\n",
    "        return U\n",
    "\n",
    "rewards = [\n",
    "    R[('sso', 'detektiere', 'sso')], R[('sso', 'runter', 'ssu')], R[('ssu', 'beendeTag', 'st')]\n",
    "]\n",
    "round(U_gamma_D(rewards, gamma), 3)"
   ]
  },
  {
   "cell_type": "markdown",
   "id": "81237a39-d6fc-4dae-99d1-9624b0688cec",
   "metadata": {},
   "source": [
    "\\begin{align*}\n",
    "        u_1(s_o^s) = & \\max \\{ \\\\\n",
    "        & \\qquad P(s_o^s,\\textit{detektiere},s_o^s) \\left[ R(s_o^s,\\textit{detektiere},s_o^s) + \\gamma u_0(s_o^s)\\right]+ P(s_o^s,\\textit{detektiere},s_o^w) \\left[ R(s_o^s,\\textit{detektiere},s_o^w) + \\gamma u_0(s_o^w)\\right], \\\\\n",
    "        & \\qquad P(s_o^s,\\textit{runter},s_o^s) [ R(s_o^s,\\textit{runter},s_o^s) + \\gamma u_0(s_o^s)]+ P(s_o^s,\\textit{runter},s_u^s) \\left[ R(s_o^s,\\textit{runter},s_u^s) + \\gamma u_0(s_u^s)\\right], \\\\\n",
    "        & \\qquad P(s_o^s,\\textit{hoch},s_o^s) \\left[ R(s_o^s,\\textit{hoch},s_o^s) + \\gamma u_0(s_o^s)\\right], \\\\\n",
    "& \\qquad P(s_o^s,\\textit{beendeTag},s^t) \\left[ R(s_o^s,\\textit{beendeTag},s^t) + \\gamma u_0(s^t) \\right] \\quad \\} \\\\= & \\max \\{ \\\\\n",
    "        & \\qquad 0.7 \\left[-2 + 0.9 \\cdot 0.1\\right] + 0.3 \\left[-2 + 0.9 \\cdot 0.1\\right], \\\\\n",
    "        & \\qquad 0.2 \\left[0 + 0.9 \\cdot 0.1\\right] + 0.8 \\left[15 + 0.9 \\cdot 0.1\\right], \\\\\n",
    "        & \\qquad 1.0 \\left[-3 + 0.9 \\cdot 0.1\\right], \\\\\n",
    "        & \\qquad 1.0 \\left[-10 + 0.9 \\cdot 0.1\\right] \\quad \\} \\\\\n",
    "        u_1(s_o^s) = & \\max \\{ -1.91, 12.09, -2.91, -9.91 \\} \\\\\n",
    "        = & 12.09\n",
    "    \\end{align*}"
   ]
  },
  {
   "cell_type": "code",
   "execution_count": 35,
   "id": "a329033d-1ab7-4cce-9857-a4bc95920125",
   "metadata": {},
   "outputs": [
    {
     "name": "stdout",
     "output_type": "stream",
     "text": [
      "-0.5820000000000001\n",
      "12.072000000000001\n",
      "-1.337\n",
      "-0.573\n",
      "-10.0\n",
      "Der Nutzen u1(sso) ist: 12.072\n"
     ]
    }
   ],
   "source": [
    "# Initialer Nutzen\n",
    "u0 = {'swo': 0.1, 'sso': 0.1, 'swu': 0.1, 'ssu': 0.1, 'st': 0}\n",
    "\n",
    "# Der maximale Nutzen ist u1(sso)\n",
    "def max_utility(S,R,A,P,s0,u0, gamma):\n",
    "    max_utility = -float('inf')\n",
    "    # Durchlaufen Sie alle Aktionen\n",
    "    for action in A:\n",
    "        # Durchlaufen Sie alle Zustände\n",
    "        for state_prime in S:\n",
    "            # Überprüfen Sie, ob der Zustandsübergang in der Belohnungsfunktion R definiert ist\n",
    "            if (s0, action, state_prime) in R:\n",
    "                # Berechnen Sie den erwarteten Nutzen für diesen Übergang\n",
    "                expected_utility = P[(s0, action, state_prime)] * (R[(s0, action, state_prime)] +  gamma * u0[state_prime])\n",
    "                # Aktualisieren Sie den maximalen Nutzen, wenn der erwartete Nutzen größer ist\n",
    "                print(expected_utility)\n",
    "                if expected_utility > max_utility:\n",
    "                    max_utility = expected_utility\n",
    "    return max_utility\n",
    "\n",
    "u1_sso = max_utility(S,R,A,P,s0,u0, gamma)\n",
    "\n",
    "print(f\"Der Nutzen u1(sso) ist: {round(u1_sso,3)}\")"
   ]
  },
  {
   "cell_type": "markdown",
   "id": "3a09e2f7-d3eb-4d04-982e-ac05b1bb1812",
   "metadata": {},
   "source": [
    "### 4.2. Passives RL <a name=4.2.><a>"
   ]
  },
  {
   "cell_type": "markdown",
   "id": "cc2b35f8-1402-40df-806b-2fbefa808436",
   "metadata": {},
   "source": [
    "Ein Tupel $D = (S,A,P,R,s_0,S_t)$ wobei:\n",
    "\n",
    "$$S^{vc} = \\{s_0 = s^{v}_a, s^{u}_a, s^{v}_r, s^{u}_r, s^{w}_r, s^t = s^{w}_a\\}$$\n",
    "$$A_{vc} = \\{move,load,unload\\}$$\n",
    "$$s^0 = s^{v}_a$$\n",
    "$$S^t = s^{w}_a$$\n"
   ]
  },
  {
   "cell_type": "code",
   "execution_count": 39,
   "id": "9e1118ad-b5b8-48bb-93f1-53ca695426ea",
   "metadata": {},
   "outputs": [],
   "source": [
    "\n",
    "# Zustände und Aktionen\n",
    "S = ['sva','sua','svr','sur','swr','swa']\n",
    "A = ['move','load','unload']\n",
    "s0 = 'sva'\n",
    "st = 'swa'\n",
    "\n",
    "gamma = 0.9\n",
    "\n",
    "O = {\n",
    "    \"O1\": [(\"sva\", \"load\", \"sua\", 3), (\"sua\", \"move\", \"sur\", -1), (\"sur\", \"unload\", \"swr\", 8), (\"swr\", \"move\", \"swa\", 0)],\n",
    "    \"O2\": [(\"sva\", \"load\", \"sva\", -1), (\"sva\", \"load\", \"sua\", 3), (\"sua\", \"move\", \"sur\", -1), (\"sur\", \"unload\", \"svr\", 8), (\"svr\", \"move\", \"sva\", 0),\n",
    "           (\"sva\", \"load\", \"sua\", 3), (\"sua\", \"move\", \"sur\", -1), (\"sur\", \"unload\", \"swr\", 8), (\"swr\", \"move\", \"swa\", 0)],\n",
    "    \"O3\": [(\"sva\", \"load\", \"sua\", 3), (\"sua\", \"move\", \"sur\", -1), (\"sur\", \"unload\", \"sur\", -1), (\"sur\", \"unload\", \"sur\", -1), (\"sur\", \"unload\", \"swr\", 8), (\"swr\", \"move\", \"swa\", 0)],\n",
    "    \"O4\": [(\"sva\", \"load\", \"sua\", 3), (\"sua\", \"move\", \"sur\", -1), (\"sur\", \"unload\", \"svr\", 8), (\"svr\", \"move\", \"sva\", 0),\n",
    "           (\"sva\", \"load\", \"sua\", 3), (\"sua\", \"move\", \"sua\", -1), (\"sua\", \"move\", \"sur\", -1), (\"sur\", \"unload\", \"swr\", 8), (\"swr\", \"move\", \"swa\", 0)],\n",
    "    \"O5\": [(\"sva\", \"load\", \"sua\", 3), (\"sua\", \"move\", \"sur\", -1), (\"sur\", \"unload\", \"sur\", -1), (\"sur\", \"unload\", \"swr\", 8), (\"swr\", \"move\", \"swa\", 0)]\n",
    "}\n",
    "\n",
    "#gegebene strategie\n",
    "pi = {\"sva\": \"load\", \"sua\": \"move\", \"sur\": \"unload\", \"svr\": \"move\", \"swr\": \"move\"}\n"
   ]
  },
  {
   "cell_type": "markdown",
   "id": "0b11c068-e733-4cf7-a1be-4c0d6a6f4874",
   "metadata": {},
   "source": [
    "##### Multimenge der Probeläufen und der Nutzen $U^{\\gamma}_{\\partial}(s | \\pi)$\n",
    "$$\n",
    "U^\\gamma_{\\partial}(s | \\pi) = \\frac{\\sum_{O \\in \\partial_s} \\text{rew}^\\gamma (O)}{|\\partial_s|}\n",
    "$$\n",
    "$$rew^{\\gamma}(O) = \\sum_{i=1}^{n} \\gamma^{i-1}r_i$$\n"
   ]
  },
  {
   "cell_type": "markdown",
   "id": "731d4520-8e7c-41cf-aa1f-95efe3e06467",
   "metadata": {},
   "source": [
    "\\begin{align*}\n",
    "\t\t\t\\mathcal{O}_{s_a^{v}} &= \n",
    "\\{((s_a^{v},\\textit{load},s_a^{u},3),(s_a^{u},\\textit{move},s_r^{u},-1),(s_r^{u},\\textit{unload},s_r^{w},8),(s_r^{w},\\textit{move},s_a^{w},0)),\n",
    " \\\\\n",
    "\t\t\t& \n",
    "((s_a^{v},\\textit{load},s_a^{v},-1),(s_a^{v},\\textit{load},s_a^{u},3),(s_a^{u},\\textit{move},s_r^{u},-1),(s_r^{u},\\textit{unload},s_r^{v},8),(s_r^{v},\\textit{move},s_a^{v},0),\n",
    " \\\\\n",
    "                & \\qquad \n",
    "(s_a^{v},\\textit{load},s_a^{u},3),(s_a^{u},\\textit{move},s_r^{u},-1),(s_r^{u},\\textit{unload},s_r^{w},8),(s_r^{w},\\textit{move},s_a^{w},0)),\n",
    " \\\\\n",
    "\t\t\t& \n",
    "((s_a^{v},\\textit{load},s_a^{u},3),(s_a^{u},\\textit{move},s_r^{u},-1),(s_r^{u},\\textit{unload},s_r^{v},8),(s_r^{v},\\textit{move},s_a^{v},0),\n",
    " \\\\\n",
    "                & \\qquad \n",
    "(s_a^{v},\\textit{load},s_a^{u},3),(s_a^{u},\\textit{move},s_r^{u},-1),(s_r^{u},\\textit{unload},s_r^{w},8),(s_r^{w},\\textit{move},s_a^{w},0)),\n",
    " \\\\\n",
    "\t\t\t& \n",
    "((s_a^{v},\\textit{load},s_a^{u},3),(s_a^{u},\\textit{move},s_r^{u},-1),(s_r^{u},\\textit{unload},s_r^{w},8),(s_r^{w},\\textit{move},s_a^{w},0)),\n",
    " \\\\\n",
    "\t\t\t& \n",
    "((s_a^{v},\\textit{load},s_a^{u},3),(s_a^{u},\\textit{move},s_r^{u},-1),(s_r^{u},\\textit{unload},s_r^{u},-1),(s_r^{u},\\textit{unload},s_r^{u},-1),(s_r^{u},\\textit{unload},s_r^{w},8),(s_r^{w},\\textit{move},s_a^{w},0)),\n",
    " \\\\\n",
    "\t\t\t& \n",
    "((s_a^{v},\\textit{load},s_a^{u},3),(s_a^{u},\\textit{move},s_r^{u},-1),(s_r^{u},\\textit{unload},s_r^{v},8),(s_r^{v},\\textit{move},s_a^{v},0),\n",
    " \\\\\n",
    "                & \\qquad \n",
    "(s_a^{v},\\textit{load},s_a^{u},3),(s_a^{u},\\textit{move},s_a^{u},-1),(s_a^{u},\\textit{move},s_r^{u},-1),(s_r^{u},\\textit{unload},s_r^{w},8),(s_r^{w},\\textit{move},s_a^{w},0)),\n",
    " \\\\\n",
    "\t\t\t& \n",
    "((s_a^{v},\\textit{load},s_a^{u},3),(s_a^{u},\\textit{move},s_a^{u},-1),(s_a^{u},\\textit{move},s_r^{u},-1),(s_r^{u},\\textit{unload},s_r^{w},8),(s_r^{w},\\textit{move},s_a^{w},0)),\\\\\n",
    "\t\t\t& \n",
    "((s_a^{v},\\textit{load},s_a^{u},3),(s_a^{u},\\textit{move},s_r^{u},-1),(s_r^{u},\\textit{unload},s_r^{u},-1),(s_r^{u},\\textit{unload},s_r^{w},8),(s_r^{w},\\textit{move},s_a^{w},0))\\}\\\\\n",
    "\t\t\tU^\\gamma_\\mathcal{O}(s_a^{v}\\mid\\pi_{tr}) &= \\frac{\\sum_{O\\in \n",
    "\\mathcal{O}_{s_a^{v}}}\\textit{rew}_\\gamma(O)}{|\\mathcal{O}_{s_a^{v}}|} \n",
    "\\\\\n",
    "            & = \n",
    "\\frac{1}{8}(2(3+0.9\\cdot(-1)+0.9^2\\cdot8+0)+2(3+0.9\\cdot(-1)+0.9^2\\cdot(-1)+0.9^3\\cdot8+0)\n",
    " \\\\\n",
    "            & \\qquad \n",
    "+(3+0.9\\cdot(-1)+0.9^2\\cdot(-1)+0.9^3\\cdot(-1)+0.9^4\\cdot8+0) \\\\\n",
    "            & \\qquad \n",
    "+(-1+0.9\\cdot3+0.9^2\\cdot(-1)+0.9^3\\cdot8+0+0.9^5\\cdot3+0.9^6\\cdot(-1)+0.9^7\\cdot8+0)\n",
    " \\\\\n",
    "            & \\qquad \n",
    "+(3+0.9\\cdot(-1)+0.9^2\\cdot8+0+0.9^4\\cdot3+0.9^5\\cdot(-1)+0.9^6\\cdot8+0)\n",
    " \\\\\n",
    "            & \\qquad + \n",
    "(3+0.9\\cdot(-1)+0.9^2\\cdot8+0+0.9^4\\cdot3+0.9^5\\cdot(-1)+0.9^6\\cdot(-1)+0.9^7\\cdot8+0))\n",
    " \\\\\n",
    "            & = 9.558\\\\\n",
    "    \\end{align*}"
   ]
  },
  {
   "cell_type": "code",
   "execution_count": 40,
   "id": "b6525109-29d1-4ce8-804c-5892306ce6d4",
   "metadata": {},
   "outputs": [],
   "source": [
    "def get_subruns(O, s0):\n",
    "    subruns = {}\n",
    "    index = 0\n",
    "    for key in O:\n",
    "        run = O[key]\n",
    "        for i in range(len(run)):\n",
    "            if run[i][0] == s0:\n",
    "                subruns[index] = run[i:]\n",
    "                index += 1\n",
    "    return subruns"
   ]
  },
  {
   "cell_type": "code",
   "execution_count": 41,
   "id": "fe4952fb-9489-456e-9d57-e3ac3aebbaed",
   "metadata": {},
   "outputs": [
    {
     "name": "stdout",
     "output_type": "stream",
     "text": [
      "9.558\n",
      "6.841\n",
      "8.57\n",
      "7.066\n",
      "0.0\n"
     ]
    }
   ],
   "source": [
    "def calculate_rew(O, gamma):\n",
    "    rew = {}\n",
    "    for key in O:\n",
    "        sum_rew = 0\n",
    "        for i, observation in enumerate(O[key]):\n",
    "            _, _, _, r = observation\n",
    "            sum_rew += (gamma ** i) * r\n",
    "        rew[key] = sum_rew\n",
    "    return rew\n",
    "\n",
    "def calculate_U(O, gamma, s):\n",
    "    neue_O = get_subruns(O, s)\n",
    "    partial_s = [neue_O[key] for key in neue_O if neue_O[key][0][0] == s]\n",
    "    sum_rew = sum(calculate_rew({key: neue_O[key]}, gamma)[key] for key in neue_O if neue_O[key][0][0] == s)\n",
    "    U = sum_rew / len(partial_s) if partial_s else 0\n",
    "    return U\n",
    "\n",
    "# Beispielaufruf der Funktion\n",
    "print(round(calculate_U(O, gamma, \"sva\"),3))\n",
    "print(round(calculate_U(O, gamma, \"sua\"),3))\n",
    "print(round(calculate_U(O, gamma, \"sur\"),3))\n",
    "print(round(calculate_U(O, gamma, \"svr\"),3))\n",
    "print(round(calculate_U(O, gamma, \"swr\"),3))\n"
   ]
  },
  {
   "cell_type": "markdown",
   "id": "f38e1e5b-f316-46ab-8dec-93c99d5f67c4",
   "metadata": {
    "jp-MarkdownHeadingCollapsed": true
   },
   "source": [
    "##### daptive dynamische Programmierung:\n",
    "##### Die approximierte Übergangswahrscheinlichkeit $\\tilde{P}_{\\partial}(s,\\pi(s),s')$\n",
    "$$\\tilde{P}_{\\partial}(s,\\pi(s),s') = \\frac{\\left|\\{o^j_i | s^j_i = s,(s')^j_{i} = s'\\}\\right|}{\\left|\\{o^j_i | s^j_i = s\\}\\right|}$$\n",
    "\n",
    "$$\\tilde{P}_\\mathcal{O}(s_1,\\pi_\\text{tr}(s),s_a^{u})= 0$$\n",
    "$$\\tilde{P}_\\mathcal{O}(s_2,\\pi_\\text{tr}(s),s_a^{v}) = 0.125$$"
   ]
  },
  {
   "cell_type": "code",
   "execution_count": 42,
   "id": "2f0ed457-cde7-491c-8f7c-552277fd553d",
   "metadata": {},
   "outputs": [
    {
     "name": "stdout",
     "output_type": "stream",
     "text": [
      "{'sva': 0.0, 'sua': 0.0, 'sur': 0.3, 'svr': 0.2, 'swr': 0.5, 'swa': 0.0}\n"
     ]
    }
   ],
   "source": [
    "def calculate_transition_probabilities(O, s, pi):\n",
    "    transitions = {state: 0 for state in [\"sva\", \"sua\", \"sur\", \"svr\", \"swr\", \"swa\"]}\n",
    "    total_transitions = 0\n",
    "\n",
    "    for key in O:\n",
    "        run = O[key]\n",
    "        for i in range(len(run) - 1):\n",
    "            if run[i][0] == s and run[i][1] == pi[s]:\n",
    "                transitions[run[i+1][0]] += 1\n",
    "                total_transitions += 1\n",
    "\n",
    "    probabilities = {state: transitions[state] / total_transitions if total_transitions > 0 else 0 for state in transitions}\n",
    "\n",
    "    return probabilities\n",
    "\n",
    "# Beispielaufruf der Funktion\n",
    "#pi = {\"sva\": \"load\", \"sua\": \"move\", \"sur\": \"unload\", \"svr\": \"move\", \"swr\": \"move\", \"swa\": \"charge\"}\n",
    "s1 = \"sur\"\n",
    "s2 = 'sva'\n",
    "print(calculate_transition_probabilities(O, s1, pi))\n"
   ]
  },
  {
   "cell_type": "markdown",
   "id": "4d1ed2f5-9348-417c-80a6-1e9db18dda93",
   "metadata": {
    "jp-MarkdownHeadingCollapsed": true
   },
   "source": [
    "##### Die approximierte unmittelbare Belohnung $\\tilde{R}_{\\partial}(s,\\pi(s),s')$\n",
    "$$\\tilde{R}_{\\partial}(s,\\pi(s),s') = \\begin{cases} r^j_i & \\text{für beliebige } i, j \\text{ mit } s^j_i = s \\text{ und } (s')^j_{i} = s' \\\\ 0 & \\text{sonst} \\end{cases}$$"
   ]
  },
  {
   "cell_type": "markdown",
   "id": "da0f5092-27b0-44cd-ba6b-02291c04d8dd",
   "metadata": {},
   "source": [
    "##### Bellman-Gleichung: Die approximierte unmittelbare Belohnung $\\tilde{U}^\\gamma_{\\partial}(s | \\pi)$\n",
    "\n",
    "$$\\tilde{U}^\\gamma_{\\partial}(s | \\pi) = \\sum_{s' \\in S} \\tilde{P}_{\\partial}(s,\\pi(s),s') \\left[ \\tilde{R}_{\\partial}(s,\\pi(s),s') + \\gamma \\tilde{U}^\\gamma_{\\partial}(s' | \\pi) \\right] \\tag{3}$$"
   ]
  },
  {
   "cell_type": "markdown",
   "id": "0d8019ec-dac0-42cc-bc51-36fee23c2969",
   "metadata": {
    "jp-MarkdownHeadingCollapsed": true
   },
   "source": [
    "##### Temporal Difference Learning TD\n",
    "Die konkrete Updateregel des TD bei einer neuen Beobachtung $o = (s,\\pi(s),s',r)$ ist gegeben durch $$u^\\gamma(s | \\pi) := u^\\gamma(s | \\pi) + \\alpha(r + \\gamma u^\\gamma(s' | \\pi) - u^\\gamma(s | \\pi))$$\n",
    "\n",
    "\\begin{align*}\r\n",
    "\tu^\\gamma(s^{v}_a\\mid \\pi_\\text{tr}) & := u^\\gamma(s^{v}_a\\mid \\pi_\\text{tr})  + \\alpha(3 + \\gamma u^\\gamma(s^{u}_a\\mid \\pi_\\text{tr})  - u^\\gamma(s^{v}_a\\mid \\pi_\\text{tr})) = 0 + 1(3+0.9\\cdot0-0) = 3\\\\\r\n",
    "\tu^\\gamma(s^{u}_a\\mid \\pi_\\text{tr}) & := u^\\gamma(s^{u}_a\\mid \\pi_\\text{tr})  + \\alpha(-1 + \\gamma u^\\gamma(s^{u}_r\\mid \\pi_\\text{tr})  - u^\\gamma(s^{u}_a\\mid \\pi_\\text{tr})) = 0 + 0.5(-1+0.9\\cdot0-0) = -0.5\\\\\r\n",
    "\tu^\\gamma(s^{u}_r\\mid \\pi_\\text{tr}) & := u^\\gamma(s^{u}_r\\mid \\pi_\\text{tr})  + \\alpha(-1 + \\gamma u^\\gamma(s^{u}_r\\mid \\pi_\\text{tr})  - u^\\gamma(s^{u}_r\\mid \\pi_\\text{tr})) = 0 + 0.333(-1+0.9\\cdot0-0) = -0.333\\\\\r\n",
    "\tu^\\gamma(s^{u}_r\\mid \\pi_\\text{tr}) & := u^\\gamma(s^{u}_r\\mid \\pi_\\text{tr})  + \\alpha(-1 + \\gamma u^\\gamma(s^{u}_r\\mid \\pi_\\text{tr})  - u^\\gamma(s^{u}_r\\mid \\pi_\\text{tr})) = -0.333 + 0.25(-1+0.9\\cdot(-0.333)-(-0,333)) = -0.575\\\\\r\n",
    "\tu^\\gamma(s^{u}_r\\mid \\pi_\\text{tr}) & := u^\\gamma(s^{u}_r\\mid \\pi_\\text{tr})  + \\alpha(8 + \\gamma u^\\gamma(s^{w}_r\\mid \\pi_\\text{tr})  - u^\\gamma(s^{u}_r\\mid \\pi_\\text{tr})) = -0.575 + 0.2(8+0.9\\cdot0-(-0,575)) = 1.14\\\\\r\n",
    "\tu^\\gamma(s^{w}_r\\mid \\pi_\\text{tr}) & := u^\\gamma(s^{w}_r\\mid \\pi_\\text{tr})  + \\alpha(0 + \\gamma u^\\gamma(s^{w}_a\\mid \\pi_\\text{tr})  - u^\\gamma(s^{w}_r\\mid \\pi_\\text{tr})) = 0 + 0.167(0+0.9\\cdot0-0) = 0\\\\\r\n",
    "\t\\end{align*}"
   ]
  },
  {
   "cell_type": "code",
   "execution_count": 66,
   "id": "198edc1e-cff6-4f35-8575-dbaff8612a87",
   "metadata": {},
   "outputs": [
    {
     "data": {
      "text/plain": [
       "[('sva', 'load', 'sua', 3),\n",
       " ('sua', 'move', 'sur', -1),\n",
       " ('sur', 'unload', 'sur', -1),\n",
       " ('sur', 'unload', 'sur', -1),\n",
       " ('sur', 'unload', 'swr', 8),\n",
       " ('swr', 'move', 'swa', 0)]"
      ]
     },
     "execution_count": 66,
     "metadata": {},
     "output_type": "execute_result"
    }
   ],
   "source": [
    "# Initialisierung der Zustandsnutzen\n",
    "u_gamma = {\"sva\": 0, \"sua\": 0, \"sur\": 0, \"svr\": 0, \"swr\": 0, \"swa\": 0}\n",
    "data = [\"sva\", \"sua\",\"sur\",\"sur\",\"sur\",\"swr\"]\n",
    "\n",
    "# Beobachtungen aus dem dritten Probedurchlauf O3\n",
    "O3 = O['O3']\n",
    "gamma = 0.9\n",
    "O3"
   ]
  },
  {
   "cell_type": "code",
   "execution_count": 67,
   "id": "b482a1fc-c1db-4dd1-ad29-d2ca812352f1",
   "metadata": {},
   "outputs": [],
   "source": [
    "def update_u_gamma(u_gamma, data, O3, gamma):\n",
    "    n = 1\n",
    "    for s in data:\n",
    "        for o in O3:\n",
    "            if o[0] == s:\n",
    "                O3.remove(o)\n",
    "                break\n",
    "        _,_,s_prime,r = o\n",
    "        alpha = 1/n\n",
    "        u_gamma[s] = u_gamma[s] + alpha * (r + gamma * u_gamma[s_prime] - u_gamma[s])\n",
    "        print(f'Für n={n} und {s}: {u_gamma[s]}')\n",
    "        n+=1\n",
    "    return u_gamma\n",
    "\n"
   ]
  },
  {
   "cell_type": "code",
   "execution_count": 68,
   "id": "5e1861d4-6a4a-4645-87a6-b2b3e7ee993a",
   "metadata": {},
   "outputs": [
    {
     "name": "stdout",
     "output_type": "stream",
     "text": [
      "Für n=1 und sva: 3.0\n",
      "Für n=2 und sua: -0.5\n",
      "Für n=3 und sur: -0.3333333333333333\n",
      "Für n=4 und sur: -0.575\n",
      "Für n=5 und sur: 1.14\n",
      "Für n=6 und swr: 0.0\n",
      "{'sva': 3.0, 'sua': -0.5, 'sur': 1.14, 'svr': 0, 'swr': 0.0, 'swa': 0}\n"
     ]
    }
   ],
   "source": [
    "print(update_u_gamma(u_gamma, data, O3, gamma))"
   ]
  },
  {
   "cell_type": "markdown",
   "id": "96757244-5dbc-432c-8258-bfe8a1d8b2eb",
   "metadata": {},
   "source": [
    "### 4.3. Aktives RL <a name=4.3.><a>"
   ]
  },
  {
   "cell_type": "code",
   "execution_count": 39,
   "id": "6ea9c6f1-5c5a-4f07-b050-bb0460cd8832",
   "metadata": {},
   "outputs": [],
   "source": [
    "\n",
    "# Zustände und Aktionen\n",
    "S = ['sva','sua','svr','sur','swr','swa']\n",
    "A = ['move','load','unload']\n",
    "s0 = 'sva'\n",
    "st = 'swa'\n",
    "\n",
    "gamma = 0.9\n",
    "\n",
    "O = {\n",
    "    \"O1\": [(\"sva\", \"load\", \"sua\", 3), (\"sua\", \"move\", \"sur\", -1), (\"sur\", \"unload\", \"swr\", 8), (\"swr\", \"move\", \"swa\", 0)],\n",
    "    \"O2\": [(\"sva\", \"load\", \"sva\", -1), (\"sva\", \"load\", \"sua\", 3), (\"sua\", \"move\", \"sur\", -1), (\"sur\", \"unload\", \"svr\", 8), (\"svr\", \"move\", \"sva\", 0),\n",
    "           (\"sva\", \"load\", \"sua\", 3), (\"sua\", \"move\", \"sur\", -1), (\"sur\", \"unload\", \"swr\", 8), (\"swr\", \"move\", \"swa\", 0)],\n",
    "    \"O3\": [(\"sva\", \"load\", \"sua\", 3), (\"sua\", \"move\", \"sur\", -1), (\"sur\", \"unload\", \"sur\", -1), (\"sur\", \"unload\", \"sur\", -1), (\"sur\", \"unload\", \"swr\", 8), (\"swr\", \"move\", \"swa\", 0)],\n",
    "    \"O4\": [(\"sva\", \"load\", \"sua\", 3), (\"sua\", \"move\", \"sur\", -1), (\"sur\", \"unload\", \"svr\", 8), (\"svr\", \"move\", \"sva\", 0),\n",
    "           (\"sva\", \"load\", \"sua\", 3), (\"sua\", \"move\", \"sua\", -1), (\"sua\", \"move\", \"sur\", -1), (\"sur\", \"unload\", \"swr\", 8), (\"swr\", \"move\", \"swa\", 0)],\n",
    "    \"O5\": [(\"sva\", \"load\", \"sua\", 3), (\"sua\", \"move\", \"sur\", -1), (\"sur\", \"unload\", \"sur\", -1), (\"sur\", \"unload\", \"swr\", 8), (\"swr\", \"move\", \"swa\", 0)]\n",
    "}\n",
    "\n",
    "#gegebene strategie\n",
    "pi = {\"sva\": \"load\", \"sua\": \"move\", \"sur\": \"unload\", \"svr\": \"move\", \"swr\": \"move\"}\n"
   ]
  },
  {
   "cell_type": "markdown",
   "id": "4631f030-6520-4593-9e73-4ae5eedef51c",
   "metadata": {},
   "source": [
    "##### Q-Learning mit $\\epsilon$-Greedy"
   ]
  },
  {
   "cell_type": "markdown",
   "id": "bbebc8f9-1efc-44a0-ac2b-dbe80b0a71c2",
   "metadata": {},
   "source": [
    "eine Updateregel, die für das Q-Learning definiert ist durch: $$q_\\gamma (a,s) := q_\\gamma (a,s)+\\alpha(r +\\gamma \\max_{a' \\in A} q_\\gamma (a',s')−q_\\gamma (a,s))$$\n",
    "\n",
    "\\begin{align*}         q^\\gamma(\\textit{unload},s_r^{u}) & := q^\\gamma(\\textit{unload},s_r^{u}) +\\alpha(8 + \\gamma \\max\\{q^\\gamma(\\textit{move},s_r^{w}),q^\\gamma(\\textit{load},s_r^{w}),q^\\gamma(\\textit{unload},s_r^{w})\\}-q^\\gamma(\\textit{unload},s_r^{u}))\\\\         & = 0 + 0.2(8 + 0.9\\cdot 0 - 0) = 1.6\\\\         q^\\gamma(\\textit{move},s_a^{u}) & := q^\\gamma(\\textit{move},s_a^{u}) +\\alpha(-1 + \\gamma \\max\\{q^\\gamma(\\textit{move},s_r^{u}),q^\\gamma(\\textit{load},s_r^{u}),q^\\gamma(\\textit{unload},s_r^{u})\\}-q^\\gamma(\\textit{move},s_a^{u}))\\\\         & = 0 + 0.2(-1 + 0.9\\cdot{1.6} - 0) = 0.088\\\\         q^\\gamma(\\textit{move},s_r^{u}) & := q^\\gamma(\\textit{move},s_r^{u}) +\\alpha(-1 + \\gamma \\max\\{q^\\gamma(\\textit{move},s_a^{u}),q^\\gamma(\\textit{load},s_a^{u}),q^\\gamma(\\textit{unload},s_a^{u})\\}-q^\\gamma(\\textit{move},s_r^{u}))\\\\         & = 0 + 0.2(0 + 0.9\\cdot{0.088} - 0) = 0.016\\\\         \\end{align*}"
   ]
  },
  {
   "cell_type": "code",
   "execution_count": 70,
   "id": "597d1e6d-ae9e-414e-9a27-553bfda87363",
   "metadata": {},
   "outputs": [
    {
     "name": "stdout",
     "output_type": "stream",
     "text": [
      "{'sva': {'move': 0, 'load': 0, 'unload': 0}, 'sua': {'move': 0, 'load': 0, 'unload': 0}, 'svr': {'move': 0, 'load': 0, 'unload': 0}, 'sur': {'move': 0, 'load': 0, 'unload': 0}, 'swr': {'move': 0, 'load': 0, 'unload': 0}, 'swa': {'move': 0, 'load': 0, 'unload': 0}}\n",
      "q_gamma(unload, sur) = 1.6\n",
      "q_gamma(move, sua) = 0.08800000000000004\n",
      "q_gamma(move, sur) = 0.015840000000000007\n"
     ]
    }
   ],
   "source": [
    "# Initialisierung der Q-Werte\n",
    "Q = {s: {a: 0 for a in A} for s in S}\n",
    "print(Q)\n",
    "# Lernparameter und Discountfaktor\n",
    "alpha = 0.2\n",
    "gamma = 0.9\n",
    "\n",
    "# Beobachtungen\n",
    "observations = [(\"sur\", \"unload\", \"swr\", 8), (\"sua\", \"move\", \"sur\", -1), (\"sur\", \"move\", \"sua\", 0)]\n",
    "\n",
    "for s, a, s_prime, r in observations:\n",
    "    max_q = max(Q[s_prime].values())\n",
    "    Q[s][a] = Q[s][a] + alpha * (r + gamma * max_q - Q[s][a])\n",
    "\n",
    "# Ausgabe der aktualisierten Q-Werte\n",
    "print(\"q_gamma(unload, sur) =\", Q[\"sur\"][\"unload\"])\n",
    "print(\"q_gamma(move, sua) =\", Q[\"sua\"][\"move\"])\n",
    "print(\"q_gamma(move, sur) =\", Q[\"sur\"][\"move\"])\n"
   ]
  },
  {
   "cell_type": "markdown",
   "id": "c0965b81-1667-4a43-b839-fd277d851cb8",
   "metadata": {},
   "source": [
    "---\n",
    "## 5 Deep Learning <a name=5><a>"
   ]
  },
  {
   "cell_type": "markdown",
   "id": "c86f6283-1f63-4429-8e46-b865a38fef18",
   "metadata": {},
   "source": [
    "### 5.1. Künstliche Neuronale Netzwerke <a name=5.1.><a>"
   ]
  },
  {
   "cell_type": "code",
   "execution_count": 2,
   "id": "c6645688-56cc-46bf-ac4b-8f7da0372d5c",
   "metadata": {},
   "outputs": [],
   "source": [
    "import numpy as np\n",
    "import matplotlib.pyplot as plt"
   ]
  },
  {
   "cell_type": "code",
   "execution_count": 3,
   "id": "ac95bdc6-a815-4b77-8abd-6edac01b9401",
   "metadata": {},
   "outputs": [],
   "source": [
    "# Definieren Sie die Funktionen\n",
    "def hthresh(x):\n",
    "    return np.where(x > 0, 1, 0)\n",
    "\n",
    "def hid(x):\n",
    "    return x\n",
    "\n",
    "def hlogit(x):\n",
    "    return round(1 / (1 + np.exp(-x)), 3)\n",
    "\n",
    "def hrelu(x):\n",
    "    return np.maximum(0, x)\n",
    "\n",
    "def htanh(x):\n",
    "    return (np.exp(x) - np.exp(-x)) / (np.exp(x) + np.exp(-x))\n",
    "\n",
    "def hsplus(x):\n",
    "    return np.log(1 + np.exp(x))\n",
    "\n",
    "def logit_cost(y, a):\n",
    "    return -y * np.log(a) - (1 - y) * np.log(1 - a)"
   ]
  },
  {
   "cell_type": "code",
   "execution_count": 4,
   "id": "bf787b70-fe8f-498f-a97e-ce629406277c",
   "metadata": {},
   "outputs": [],
   "source": [
    "def multiply_matrix(matrix1, matrix2):\n",
    "    result = np.dot(matrix1, matrix2)\n",
    "    if np.size(result) > 1:\n",
    "        return result\n",
    "    else: return [result]"
   ]
  },
  {
   "cell_type": "markdown",
   "id": "e90a2731-0e65-47a0-8e83-464bc2f7db6e",
   "metadata": {},
   "source": [
    "#### Backpropagation-Algorithmus\n",
    "berechnen Sie $$z^{(i)} = W^{(i-1)}a^{(i-1)}$$ und $$a^{(i)} = act(z^{(i)})$$ für alle $i = 2,...,l$.\n",
    "\n",
    "$$\\phi_W(x) = \\text{act}\\left(W^{(l-1)}\\text{act}\\left(W^{(l-2)} ... \\text{act}\\left(W^{(1)}\\text{act}\\left(W^{(0)}x\\right)\\right)\\right)\\right) \\tag{1}$$\n",
    "\n",
    "1. Für die **Vorwärtspropagation** berechnen wir zunächst den linearen Anteil $z^{(1)}$ und den Aktivierungswert $a^{(1)}$ der ersten Schicht\n",
    "$$\n",
    "z^{(1)} = W^{(0)}x = \\begin{pmatrix} 2 & -1 & -1 \\\\ 0 & 1 & -1 \\end{pmatrix} \\begin{pmatrix} 1 \\\\ 2 \\\\ -1 \\end{pmatrix} = \\begin{pmatrix} 1 \\\\ 3 \\end{pmatrix}$$\n",
    "$$a^{(1)} = h_{\\text{logit}}(z^{(1)}) = \\begin{pmatrix} h_{\\text{logit}}(1) \\\\ h_{\\text{logit}}(3) \\end{pmatrix} = \\begin{pmatrix} \\frac{1}{1 + e^{-1}} \\\\ \\frac{1}{1 + e^{-3}} \\end{pmatrix} \\approx \\begin{pmatrix} 0.731 \\\\ 0.953 \\end{pmatrix}$$\n",
    "\n",
    "Wir ergänzen nun zunächst bei $a^{(1)}$ den Bias und schreiben $a^{(1)} = (1,0.731,0.953)^T$.\n",
    "\n",
    "$$a_1^{(2)}=h^{relu}(a_0^{(1)}+w_1h^{relu}(w_0x_1+x_0))=h^{relu}(0.05+1.5h^{relu}(1\\cdot 0.1 + 1 \\cdot 0.2)=h^{relu}(0.05+0.45)=0.5$$"
   ]
  },
  {
   "cell_type": "code",
   "execution_count": 7,
   "id": "1f46b131-7ea2-4e91-9845-d9d7fa035236",
   "metadata": {},
   "outputs": [
    {
     "data": {
      "text/plain": [
       "0.5000000000000001"
      ]
     },
     "execution_count": 7,
     "metadata": {},
     "output_type": "execute_result"
    }
   ],
   "source": [
    "x0 = 0.2\n",
    "x1 = 0.1\n",
    "x = np.array([x0, x1])\n",
    "w0 = 1\n",
    "w1 = 1.5\n",
    "a0 = 0.05\n",
    "y = 0.3\n",
    "\n",
    "\n",
    "# Berechnung des gewichteten Inputs\n",
    "z1 = w0*x1 + x0\n",
    "a1 = hrelu(z1)\n",
    "z2 = a0 + w1*a1\n",
    "a2 = hrelu(z2)\n",
    "# Da es nur eine versteckte Schicht gibt, ist der Ausgabewert phi(x) = a1\n",
    "phi_x = a2\n",
    "phi_x\n",
    "# phi_x = hrelu(a0 + w1*hrelu(w0*x1 + x0))"
   ]
  },
  {
   "cell_type": "code",
   "execution_count": 8,
   "id": "8dac674d-51fb-425d-9d9a-39092e727792",
   "metadata": {},
   "outputs": [
    {
     "data": {
      "text/plain": [
       "0.6931471805599454"
      ]
     },
     "execution_count": 8,
     "metadata": {},
     "output_type": "execute_result"
    }
   ],
   "source": [
    "logit_cost(y, phi_x)"
   ]
  },
  {
   "cell_type": "markdown",
   "id": "baa27ac7-ab5c-4b5b-8a49-fd21756325bc",
   "metadata": {},
   "source": [
    "##### Fehlerwert $\\delta(z^{(k)}_j)$\n",
    "1. in der ausgabeschicht : $$\\delta^{(l)}_i = a^{(l)}_i - y_i$$\n",
    "\n",
    "2. in der inneren Schicht: $$\\frac{\\partial cost(y,\\phi_W(x))}{\\partial W^{(k)}_{i,j}} = \\delta(z^{(k+1)}_i)a^{(k)}_j $$\n",
    "\n",
    "$$\\delta(z^{(k)}_j) = \\frac{\\partial cost(y,\\phi_W(x))}{\\partial z^{(k)}_{j}} \\\\\n",
    "= act'(z^{(k)}_j) \\sum_{i=1}^{n_{k+1}} \\delta(z^{(k+1)}_i) W^{(k)}_{i, j}$$\n",
    "\n",
    "die Ableitung der Sigmoid-Funktion gegeben ist durch $$(h_{\\text{logit}})'(x) = h_{\\text{logit}}(x)(1-h_{\\text{logit}}(x))$$\n",
    "\n",
    "$$\\delta(z^{(2)}_1)          =     \\frac{\\partial \\text{cost}_{L^\\text{logit}}(y,a^{(2)}_1)}{\\partial z^{(2)}_{1}}\\\\          = \\frac{\\partial(- y\\log h^\\text{relu}(z^{(2)}_1) - (1-y)\\log (1-h^\\text{relu}(z^{(2)}_1)))}{\\partial z^{(2)}_1}=-y\\frac{1}{h^\\text{relu}(z^{(2)}_1)}1-(1-y)\\frac{1}{(1-h^\\text{relu}(z^{(2)}_1))}(-1)=-0.3\\frac{1}{0.5}1-(0.7)\\frac{1}{1-0.5}(-1)1=-0.6+1.4=0.8$$\n",
    "\n",
    "$$4. (w1)_{neu} := w1 - \\gamma \\frac{\\partial L_{logit}(D, \\phi W)}{\\partial w1} = w1 - \\gamma \\frac{\\partial z^{(2)}_1}{\\partial a^{(1)}_1} = 1.5 - 0.1 \\cdot (0.8) \\cdot 0.3 = 1.476$$\n",
    "\n",
    "$$5. \\delta(z^{(1)}_1) = (h_{relu})'(z^{(1)}_1) \\delta(z^{(2)}_1) w1 = (h_{relu})'(0.3) \\cdot (0.8) \\cdot (1.5) = 1.2$$\n",
    "\n",
    "$$6. (w0)_{neu} := w0 - \\gamma \\frac{\\partial L_{logit}(D, \\phi W)}{\\partial w0} = w0 - \\gamma \\frac{\\partial z^{(1)}_1}{\\partial x_1} = 1 - 0.1 \\cdot (1.2) \\cdot (0.1) = 0.988$$\n",
    "\n",
    "$$7. a^{(2)}_1 = h_{relu}(a^{(1)}_0 + w1 h_{relu}(w0 x_1 + x_0)) = h_{relu}(0.05 + 1.476 h_{relu}(0.2 \\cdot 1 + 0.1 \\cdot 0.988)) = h_{relu}(0.05 + 0.441) = 0.491$$\n"
   ]
  },
  {
   "cell_type": "code",
   "execution_count": 14,
   "id": "d7d0cfbf-59c5-4fb2-aa73-228d5c65b6d9",
   "metadata": {},
   "outputs": [
    {
     "data": {
      "text/plain": [
       "0.20000000000000012"
      ]
     },
     "execution_count": 14,
     "metadata": {},
     "output_type": "execute_result"
    }
   ],
   "source": [
    "delta2 = hrelu(z2) - y\n",
    "delta2"
   ]
  },
  {
   "cell_type": "code",
   "execution_count": 46,
   "id": "d1607c85-d6b8-4909-9282-c52443452542",
   "metadata": {},
   "outputs": [
    {
     "data": {
      "text/plain": [
       "[1, 0.2, 0.1]"
      ]
     },
     "execution_count": 46,
     "metadata": {},
     "output_type": "execute_result"
    }
   ],
   "source": [
    "multiply_matrix(W, x)\n",
    "a1 = list(map(hrelu, z1))\n",
    "a1.insert(0, 1)\n",
    "a1\n",
    "z2 = multiply_matrix(w1, np.array(a1))\n",
    "a2 = list(map(hlogit, z2))\n",
    "print(a2)\n",
    "a2.insert(0, 1)\n",
    "a2"
   ]
  },
  {
   "cell_type": "markdown",
   "id": "9df5400e-5cb5-4d6d-9da9-7e7b968a1865",
   "metadata": {
    "jp-MarkdownHeadingCollapsed": true
   },
   "source": [
    "### 5.2. Convolutional <a name=5.2.><a>"
   ]
  },
  {
   "cell_type": "code",
   "execution_count": 24,
   "id": "796daefc-ebda-47ce-968c-e42f962da4e6",
   "metadata": {},
   "outputs": [],
   "source": [
    "import numpy as np\n",
    "\n",
    "def convolve(M_I, M_K):\n",
    "    # Höhe und Breite der Eingabematrix\n",
    "    I_H, I_W = M_I.shape\n",
    "\n",
    "    # Höhe und Breite des Kernels\n",
    "    K_H, K_W = M_K.shape\n",
    "\n",
    "    # Höhe und Breite der Ausgabematrix\n",
    "    O_H = I_H - K_H + 1\n",
    "    O_W = I_W - K_W + 1\n",
    "\n",
    "    # Initialisieren Sie die Ausgabematrix mit Nullen\n",
    "    output = np.zeros((O_H, O_W))\n",
    "\n",
    "    # Führen Sie die Faltung durch\n",
    "    for i in range(O_H):\n",
    "        for j in range(O_W):\n",
    "            output[i, j] = np.sum(M_I[i:i+K_H, j:j+K_W] * M_K)\n",
    "\n",
    "    return output"
   ]
  },
  {
   "cell_type": "markdown",
   "id": "b7cc92d0-6c6f-47fd-84ec-510bfe69cffe",
   "metadata": {
    "jp-MarkdownHeadingCollapsed": true
   },
   "source": [
    "##### Berechnen Sie die Faltung $M_I ∗ M_K$ ohne Padding und mit einem Stride von 1."
   ]
  },
  {
   "cell_type": "code",
   "execution_count": 26,
   "id": "c9b4711d-87de-4bb7-a538-86104a1c4065",
   "metadata": {},
   "outputs": [],
   "source": [
    "# Definieren Sie die Matrix MK\n",
    "M_K = np.array([[1, 0, -1],\n",
    "                [2, 0, -2],\n",
    "                [1, 0, -1]])\n",
    "\n",
    "# Definieren Sie die Matrix MI\n",
    "M_I = np.array([[1, 2, 3, 4, 5],\n",
    "                [3, 5, 2, 1, 3],\n",
    "                [5, 7, 10, 2, 7],\n",
    "                [6, 8, 13, 7, 1],\n",
    "                [10, 12, 10, 9, 8]])\n"
   ]
  },
  {
   "cell_type": "code",
   "execution_count": 27,
   "id": "a696998e-761f-4631-a62e-a996906cb5c8",
   "metadata": {},
   "outputs": [
    {
     "name": "stdout",
     "output_type": "stream",
     "text": [
      "[[ -5.  11.  -1.]\n",
      " [-16.  15.  17.]\n",
      " [-19.  10.  29.]]\n"
     ]
    }
   ],
   "source": [
    "from scipy.signal import convolve2d\n",
    "\n",
    "# Führen Sie die Faltung durch\n",
    "#M_J = np.round(convolve2d(M_I, M_K, mode='valid'))\n",
    "M_J = np.round(convolve(M_I, M_K))\n",
    "print(M_J)"
   ]
  },
  {
   "cell_type": "markdown",
   "id": "be80fdcb-fae5-4611-8aac-2c2036334697",
   "metadata": {
    "jp-MarkdownHeadingCollapsed": true
   },
   "source": [
    "##### Wenden Sie 2×2-Max-Pooling mit einem Stride von 2"
   ]
  },
  {
   "cell_type": "code",
   "execution_count": 25,
   "id": "19ebed1b-6582-4f1f-bec0-dd124b3993a4",
   "metadata": {},
   "outputs": [],
   "source": [
    "def max_pooling(M, pool_size, stride):\n",
    "    # Höhe und Breite der Eingabematrix\n",
    "    M_H, M_W = M.shape\n",
    "\n",
    "    # Höhe und Breite der Ausgabematrix\n",
    "    O_H = (M_H - pool_size) // stride + 1\n",
    "    O_W = (M_W - pool_size) // stride + 1\n",
    "\n",
    "    # Initialisieren Sie die Ausgabematrix mit Nullen\n",
    "    output = np.zeros((O_H, O_W))\n",
    "\n",
    "    # Führen Sie das Max-Pooling durch\n",
    "    for i in range(O_H):\n",
    "        for j in range(O_W):\n",
    "            output[i, j] = np.max(M[i*stride:i*stride+pool_size, j*stride:j*stride+pool_size])\n",
    "\n",
    "    return output"
   ]
  },
  {
   "cell_type": "code",
   "execution_count": 29,
   "id": "96b14400-ff87-440f-a694-66ed9d904795",
   "metadata": {},
   "outputs": [
    {
     "data": {
      "text/plain": [
       "array([[ 3., 12.],\n",
       "       [ 5.,  2.]])"
      ]
     },
     "execution_count": 29,
     "metadata": {},
     "output_type": "execute_result"
    }
   ],
   "source": [
    "M = np.array([[1, 3, 4, 10],\n",
    "              [1, 2, 5, 12],\n",
    "              [2, 3, 0, 1],\n",
    "              [4, 5, 2, 1]])\n",
    "max_pooling(M, pool_size=2, stride=2)"
   ]
  },
  {
   "cell_type": "markdown",
   "id": "1606eaea-ae9d-4bd2-92a5-171d8e0b8b1b",
   "metadata": {
    "jp-MarkdownHeadingCollapsed": true
   },
   "source": [
    "##### Ausgabe von W kalkulieren\n",
    "Angenommen, Sie haben als Eingabe für ein CNN ein RGB-Bild der Größe 994×994. Die Dimensionen dieser Eingabe sind also, die 3 Farbkanäle eingerechnet, 3×994×994.\n",
    "In der Architektur des CNNs ist festgelegt, dass als erstes eine Faltung mit 9 3×3-Filtern (ohne Padding und mit Stride 1) durchgeführt wird.\n",
    "\n",
    "1. Wie lauten nun die Dimensionen der Feature Map?"
   ]
  },
  {
   "cell_type": "code",
   "execution_count": 30,
   "id": "015085da-f13a-49b1-89b6-9378f8a2f80a",
   "metadata": {},
   "outputs": [],
   "source": [
    "def calculate_output_size(W, F, P, S):\n",
    "    \"\"\"\n",
    "    Berechnet die Ausgabegröße einer Faltungsschicht.\n",
    "\n",
    "    Parameter:\n",
    "    W (int): Die Größe der Eingabe (Breite oder Höhe).\n",
    "    F (int): Die Größe des Filters (Breite oder Höhe).\n",
    "    P (int): Das Padding.\n",
    "    S (int): Der Stride.\n",
    "\n",
    "    Rückgabe:\n",
    "    W_out (int): Die Größe der Ausgabe (Breite oder Höhe).\n",
    "    \"\"\"    \n",
    "    W_out = (W - F + P) // S + 1\n",
    "    return W_out"
   ]
  },
  {
   "cell_type": "code",
   "execution_count": 31,
   "id": "a8485983-3a11-4280-9ca0-4608f5bdefba",
   "metadata": {},
   "outputs": [
    {
     "name": "stdout",
     "output_type": "stream",
     "text": [
      "27  x  992  x  992\n"
     ]
    }
   ],
   "source": [
    "W_out = calculate_output_size(994, 3, 0, 1)\n",
    "print((3*9),\" x \",W_out, \" x \", W_out)"
   ]
  },
  {
   "cell_type": "markdown",
   "id": "4cc32c9e-2ecd-4df5-922b-5d9dca3eebb1",
   "metadata": {},
   "source": [
    "2. Nun wird auf der Feature Map eine 2×2\n",
    "-Pooling-Operation (mit Stride 2) durchgeführt."
   ]
  },
  {
   "cell_type": "code",
   "execution_count": 32,
   "id": "2b3ca877-d4cb-44fe-908e-a3ac797c8d45",
   "metadata": {},
   "outputs": [
    {
     "name": "stdout",
     "output_type": "stream",
     "text": [
      "27  x  496  x  496\n"
     ]
    }
   ],
   "source": [
    "W_out = calculate_output_size(W_out, 3, 2, 2)\n",
    "print((3*9),\" x \",W_out, \" x \", W_out)"
   ]
  },
  {
   "cell_type": "markdown",
   "id": "b1fef377-29fa-4b0f-8b02-670d1ff50d07",
   "metadata": {},
   "source": [
    "3. Nun wird eine Faltung mit 7 5×5-Filtern (wieder ohne Padding und mit Stride 1) durchgeführt.\n",
    "    Wie lauten die Dimensionen der resultierenden Feature Map?"
   ]
  },
  {
   "cell_type": "code",
   "execution_count": 33,
   "id": "744434bd-1da4-4d83-9856-16e8fb10ae3e",
   "metadata": {},
   "outputs": [
    {
     "name": "stdout",
     "output_type": "stream",
     "text": [
      "189  x  492  x  492\n"
     ]
    }
   ],
   "source": [
    "W_out = calculate_output_size(W_out, 5, 0, 1)\n",
    "print((27*7),\" x \",W_out, \" x \", W_out)"
   ]
  },
  {
   "cell_type": "markdown",
   "id": "824753e3-b69b-4e39-9dee-7dc1a8bc108d",
   "metadata": {},
   "source": [
    "4. Nun wird eine 4×4-Pooling-Operation (mit Stride 4) durchgeführt.\n",
    "    Wie lauten die Dimensionen der resultierenden Feature Map?"
   ]
  },
  {
   "cell_type": "code",
   "execution_count": 34,
   "id": "1d02884b-2054-4a28-ac40-d4f693cd0d9d",
   "metadata": {},
   "outputs": [
    {
     "name": "stdout",
     "output_type": "stream",
     "text": [
      "189  x  123  x  123\n"
     ]
    }
   ],
   "source": [
    "W_out = calculate_output_size(W_out, 5, 4, 4)\n",
    "print((27*7),\" x \",W_out, \" x \", W_out)"
   ]
  },
  {
   "cell_type": "markdown",
   "id": "34fb8722-6f82-47a1-a923-a72d1366e288",
   "metadata": {
    "jp-MarkdownHeadingCollapsed": true
   },
   "source": [
    "### 5.3. RNN <a name=5.3.><a>"
   ]
  },
  {
   "cell_type": "markdown",
   "id": "51772525-0900-4237-bb78-faa53dd26d72",
   "metadata": {},
   "source": [
    "#### One-Hot-Codierung\n"
   ]
  },
  {
   "cell_type": "markdown",
   "id": "eb6195b0-7376-4847-8bd3-254cc55853f2",
   "metadata": {
    "jp-MarkdownHeadingCollapsed": true
   },
   "source": [
    "Sei ein Alphabet gegeben durch\n",
    "\n",
    "Σ={a,e,s,t}\n",
    "\n",
    "1. Bestimmen Sie eine One-Hot-Codierung für Σ\n",
    ". (Anwortformat '(1,2,3,4,5,6)', Vektorlänge ist selbst zu wä\n",
    "2. Wie ist demnach das Wort test\n",
    " codiert \n",
    "\n",
    "(Anwortformat '((1,2,3,4,5,6),(7,8,9))')\n",
    "#### Lösung\n",
    "- a: (1, 0, 0, 0)\n",
    "- e: (0, 1, 0, 0)\n",
    "- s: (0, 0, 1, 0)\n",
    "- t: (0, 0, 0, 1)\n",
    "\n",
    "Unter Verwendung der zuvor definierten One-Hot-Codierung für das Alphabet Σ={a,e,s,t}, wird das Wort \"test\" wie folgt codiert:\n",
    "\n",
    "- t: (0, 0, 0, 1)\n",
    "- e: (0, 1, 0, 0)\n",
    "- s: (0, 0, 1, 0)\n",
    "- t: (0, 0, 0, 1)\n",
    "\n",
    "Daher ist die Codierung des Wortes \"test\" in dem von Ihnen angegebenen Antwortformat:\n",
    "\n",
    "((0, 0, 0, 1), (0, 1, 0, 0), (0, 0, 1, 0), (0, 0, 0, 1))"
   ]
  },
  {
   "cell_type": "markdown",
   "id": "7df485f3-6e46-4c86-9452-28009fadc40a",
   "metadata": {
    "jp-MarkdownHeadingCollapsed": true
   },
   "source": [
    "#### Berechnungsgraphen\n",
    "Im Allgemeinen gilt für eine Eingabe $x = (x^{(1)}, \\ldots, x^{(m)})$:\n",
    "\n",
    "$$\n",
    "h(i) = \\text{act}(Ux^{(i)} + Wh^{(i-1)}) \\quad \\text{(1)}\n",
    "$$ <a name=hi><a>\n",
    "\n",
    "$$\n",
    "o(i) = \\text{act}(Vh^{(i)}) \\quad \\text{(2)}\n",
    "$$<a name=oi><a>\n",
    "\n",
    "für $i = 1, \\ldots, m$. Zu beachten ist, dass diese Netzwerkarchitektur mit Eingaben beliebiger Länge umgehen kann, aber eine fixe Anzahl an Parametern besitzt (in den Matrizen $U$, $V$, $W$)."
   ]
  },
  {
   "cell_type": "markdown",
   "id": "fda19404-0a03-4c6c-b27b-c2d4602fbeab",
   "metadata": {},
   "source": [
    "Gegeben sei das abgebildete einfache RNN, wobei\n",
    "\n",
    "$$\\sum = \\{\\text{ist,nichts,niemand}\\} = \\{(1,0,0)^T,(0,1,0)^T,(0,0,1)^T\\}$$\n",
    "$$U= ((0, 0.9, 0.9), (0.5, 0.1, 0), (0.5, 0, 0.1))$$\n",
    "$$W = ((0, 0.45, 0.45), (0.25, 0.05, 0), (0.25, 0, 0.05))$$\n",
    "$$V = ((0.5, 0, 0), (0, 0.5, 0), (0, 0, 0.5))$$\n",
    "$$h_0 = (0,1,1)^T$$\n",
    "\n",
    "und die Aktivierungsfunktion $h^{relu}$ ist. Berechnen Sie die hidden states und die Ausgabe für die Eingabe $x = \\text{'Niemand ist'} = ((0,0,1)^T,(1,0,0)^T)$. \n",
    "(Antwortformat '(1,2,3.456)')"
   ]
  },
  {
   "cell_type": "code",
   "execution_count": 39,
   "id": "23528f1d-cd8f-4d9b-ba19-82de0847422c",
   "metadata": {},
   "outputs": [
    {
     "name": "stdout",
     "output_type": "stream",
     "text": [
      "h_1:  [1.8  0.05 0.15]\n",
      "h_2:  [0.09   0.9525 0.9575]\n",
      "o_1:  [0.9   0.025 0.075]\n",
      "o_2:  [0.045   0.47625 0.47875]\n"
     ]
    }
   ],
   "source": [
    "import numpy as np\n",
    "\n",
    "def hrelu(x):\n",
    "    return np.maximum(0, x)\n",
    "\n",
    "kodierung = {\n",
    "    'ist': np.array([1,0,0]).T,\n",
    "    'nichts': np.array([0,1,0]).T,\n",
    "    'niemand': np.array([0,0,1]).T\n",
    "}\n",
    "\n",
    "U = np.array([\n",
    "    [0, 0.9, 0.9], \n",
    "    [0.5, 0.1, 0], \n",
    "    [0.5, 0, 0.1]\n",
    "])\n",
    "\n",
    "W = np.array([\n",
    "    [0, 0.45, 0.45], \n",
    "    [0.25, 0.05, 0], \n",
    "    [0.25, 0, 0.05]\n",
    "])\n",
    "\n",
    "V = np.array([\n",
    "    [0.5, 0, 0], \n",
    "    [0, 0.5, 0], \n",
    "    [0, 0, 0.5]\n",
    "])\n",
    "\n",
    "h_0 = np.array([0,1,1]).T\n",
    "\n",
    "x = np.array([[0,0,1],[1,0,0]]).T\n",
    "\n",
    "h_1 = hrelu(np.dot(U, x[:,0]) + np.dot(W, h_0))\n",
    "h_2 = hrelu(np.dot(U, x[:,1]) + np.dot(W, h_1))\n",
    "\n",
    "o_1 = hrelu(np.dot(V, h_1))\n",
    "o_2 = hrelu(np.dot(V, h_2))\n",
    "\n",
    "print(\"h_1: \", h_1)\n",
    "print(\"h_2: \", h_2)\n",
    "print(\"o_1: \", o_1)\n",
    "print(\"o_2: \", o_2)"
   ]
  },
  {
   "cell_type": "code",
   "execution_count": 42,
   "id": "3d2f93c9-b445-43ab-aadc-354eea719cea",
   "metadata": {},
   "outputs": [
    {
     "name": "stdout",
     "output_type": "stream",
     "text": [
      "Schlüssel für o_1:  ist\n",
      "Schlüssel für o_2:  niemand\n"
     ]
    }
   ],
   "source": [
    "# Find the position of the maximum value in o_1 and o_2\n",
    "max_pos_o1 = np.argmax(o_1)\n",
    "max_pos_o2 = np.argmax(o_2)\n",
    "\n",
    "# Create a reverse dictionary from kodierung\n",
    "reverse_kodierung = {tuple(value): key for key, value in kodierung.items()}\n",
    "\n",
    "# Get the corresponding keys in kodierung\n",
    "key_o1 = reverse_kodierung.get(tuple(np.eye(3)[max_pos_o1]))\n",
    "key_o2 = reverse_kodierung.get(tuple(np.eye(3)[max_pos_o2]))\n",
    "\n",
    "print(\"Schlüssel für o_1: \", key_o1)\n",
    "print(\"Schlüssel für o_2: \", key_o2)\n"
   ]
  },
  {
   "cell_type": "markdown",
   "id": "6c04919f-d436-4682-8ff6-3929da2c6e77",
   "metadata": {
    "jp-MarkdownHeadingCollapsed": true
   },
   "source": [
    "### 5.3.4. Long short-term memory-Netzwerke <a name=5.3.4.><a>\n"
   ]
  },
  {
   "cell_type": "markdown",
   "id": "36bce749-40b6-4918-998d-004268a7c519",
   "metadata": {},
   "source": [
    "$$f^{(i)} = h^{logit} (U^f x^{(i)} + W^f h^{(i−1)})$$\n",
    "- Der Vektor $f^{(i)}$ soll steuern, was aus dem Langzeitgedächtnis `s` vergessen werden soll (auch als **forget gate** bezeichnet).\n",
    "\n",
    "$$g^{(i)} = h^{logit} (U^g x^{(i)} + W^g h^{(i−1)})$$\n",
    "$$k^{(i)} = h^{tanh} (U^k x^{(i)} + W^k h^{(i−1)})$$\n",
    "- Der Vektor $g^{(i)}$ (**input gate**) steuert, welche Informationen aus $k^{(i)}$ in das Langzeitgedächtnis aufgenommen werden sollen.\n",
    "$$q^{(i)} = h^{logit} (U^o x^{(i)} + W^o h^{(i−1)})$$\n",
    "- Der Vektor $q^{(i)}$ (**output gate**) steuert, welche Information in die Ausgabe und den nächsten versteckten Zustand $h^{(i)}$ einfließt.\n",
    "\n",
    "- Die Kernidee hinter LSTMs liegt in der Definition des Zellzustands: $$s^{(i)} = f^{(i)} \\cdot s^{(i-1)} + g^{(i)} \\cdot k^{(i)}$$"
   ]
  },
  {
   "cell_type": "code",
   "execution_count": null,
   "id": "60a88a14-5f08-468d-aba0-11eacee21d76",
   "metadata": {},
   "outputs": [],
   "source": []
  }
 ],
 "metadata": {
  "kernelspec": {
   "display_name": "Python 3 (ipykernel)",
   "language": "python",
   "name": "python3"
  },
  "language_info": {
   "codemirror_mode": {
    "name": "ipython",
    "version": 3
   },
   "file_extension": ".py",
   "mimetype": "text/x-python",
   "name": "python",
   "nbconvert_exporter": "python",
   "pygments_lexer": "ipython3",
   "version": "3.11.3"
  }
 },
 "nbformat": 4,
 "nbformat_minor": 5
}
