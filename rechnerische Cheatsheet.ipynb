{
 "cells": [
  {
   "cell_type": "markdown",
   "id": "dbd5d136-be08-4dfc-8ad9-5a5fa1c85e54",
   "metadata": {},
   "source": [
    "# Cheatsheet (rechnerisch)\n",
    ">## <ins>Table of contents</ins> <a name=\"up\"></a>[<sup>[1]</sup>](#cite_note-1)\n",
    ">* [**K2. Überwachtes Lernen**](#2)\n",
    "    * [**2.1. Lineare Regression**](#2.1.)\n",
    "    * [**2.2. Lineare Regression**](#2.2.)\n",
    "    * [**2.3. Lineare Regression**](#2.3.)\n",
    "    * [**2.4. Lineare Regression**](#2.4.)\n",
    ">* [**K3. Motivation und Grundlagen**](#3)\n",
    ">* [**K4. Motivation und Grundlagen**](#4)\n",
    ">* [**K5. Motivation und Grundlagen**](#5)\n",
    "    * [**5.1. RNN**](#5.1.)\n",
    "       * [**5.1. RNN**](#5.1.)\n",
    "    * [**5.3. RNN**](#5.3.)\n",
    "       * [**spaltenweise Konkatenation zweier Matrizen**](#5.3.1.)\n",
    "       * [**One-Hot-Codierung**](#5.3.2.)\n",
    "       * [**Berechnungsgraphen**](#5.3.3.)\n",
    "\n",
    ">\n"
   ]
  },
  {
   "cell_type": "code",
   "execution_count": 15,
   "id": "36d9e4dc-1af2-4d72-ad51-c8a914ff7040",
   "metadata": {},
   "outputs": [],
   "source": [
    "import pandas as pd\n",
    "import numpy as np\n",
    "from sklearn.linear_model import LinearRegression\n",
    "from sklearn.preprocessing import PolynomialFeatures\n",
    "from sklearn.model_selection import train_test_split\n",
    "from sklearn.model_selection import KFold\n",
    "import matplotlib.pyplot as plt"
   ]
  },
  {
   "cell_type": "code",
   "execution_count": 23,
   "id": "e3038ba3-8aa5-48c9-88a4-77ac81bf803d",
   "metadata": {},
   "outputs": [
    {
     "data": {
      "image/png": "[encoded data removed]",
      "text/plain": [
       "<Figure size 1000x600 with 1 Axes>"
      ]
     },
     "metadata": {},
     "output_type": "display_data"
    }
   ],
   "source": [
    "# Datensatz visualisieren\n",
    "def visualise_datensatz(x,y):\n",
    "    # Erstellen Sie das Diagramm\n",
    "    plt.figure(figsize=(10, 6))\n",
    "    plt.scatter(x,y)\n",
    "    plt.title('Visualisierung des Datensatzes')\n",
    "    plt.xlabel('x')\n",
    "    plt.ylabel('y')\n",
    "    plt.grid(True)\n",
    "    plt.show()\n",
    "    \n",
    "visualise_datensatz(X,y)"
   ]
  },
  {
   "cell_type": "markdown",
   "id": "a9bea975-c801-440d-bc50-cab55291db0a",
   "metadata": {},
   "source": [
    "## 2 Überwachtes Lernen <a name=2><a>"
   ]
  },
  {
   "cell_type": "markdown",
   "id": "dd419998-6f71-48c8-ae57-3b3d2898cf1d",
   "metadata": {},
   "source": [
    "### 2.1. Lineare Regression <a name=2.1.><a>"
   ]
  },
  {
   "cell_type": "markdown",
   "id": "ff67badb-52bf-47a3-b739-baef372d46d9",
   "metadata": {},
   "source": [
    "#### 1. 2D modell"
   ]
  },
  {
   "cell_type": "code",
   "execution_count": 10,
   "id": "e970972b-a302-467c-9585-6b2d2a03f5d3",
   "metadata": {},
   "outputs": [],
   "source": [
    "# Ihre Daten\n",
    "D = [\n",
    "    ((153.3), 47.1),\n",
    "    ((158.9), 46.8),\n",
    "    ((160.8), 49.3),\n",
    "    ((179.6), 53.2),\n",
    "    ((156.6), 47.7),\n",
    "    ((165.1), 49.0),\n",
    "    ((165.9), 50.6),\n",
    "    ((156.7), 47.1),\n",
    "    ((167.8), 51.7),\n",
    "    ((160.8), 47.8)\n",
    "]\n",
    "\n",
    "theta = (-4, 1/3)\n",
    "lambda_ = 0.1\n"
   ]
  },
  {
   "cell_type": "code",
   "execution_count": 11,
   "id": "e8c70093-ad2b-43fd-84d2-6da776b3bd0d",
   "metadata": {},
   "outputs": [
    {
     "name": "stdout",
     "output_type": "stream",
     "text": [
      "Der quadratische Fehler für D und theta ist 21.349\n"
     ]
    }
   ],
   "source": [
    "\n",
    "def h(theta, x):\n",
    "    return theta[0] + theta[1]*x\n",
    "\n",
    "def mse(D, h, theta):\n",
    "    return sum((h(theta, x) - y)**2 for (x, y) in D)\n",
    "\n",
    "L = mse(D, h, theta)\n",
    "print(f'Der quadratische Fehler für D und theta ist {round(L,3)}')\n"
   ]
  },
  {
   "cell_type": "markdown",
   "id": "ebf1db9d-a588-4370-9c71-92be4e61211f",
   "metadata": {},
   "source": [
    "R²-Wert"
   ]
  },
  {
   "cell_type": "code",
   "execution_count": 12,
   "id": "6d89c183-18bf-4f25-a943-297aab603b90",
   "metadata": {},
   "outputs": [
    {
     "name": "stdout",
     "output_type": "stream",
     "text": [
      "R²-Wert: 0.501\n"
     ]
    }
   ],
   "source": [
    "def r2_wert(L, D):\n",
    "    y_values = [y for (_, y) in D]\n",
    "    mean_y = sum(y_values) / len(y_values)  \n",
    "    squared_diff = sum((y - mean_y) ** 2 for y in y_values)\n",
    "    return 1 - L/squared_diff\n",
    "\n",
    "print(f'R²-Wert: {round(r2_wert(L, D),3)}')\n"
   ]
  },
  {
   "cell_type": "markdown",
   "id": "729bef95-be7f-44a8-8a67-a6a2a3af8ee3",
   "metadata": {},
   "source": [
    "tikhonov"
   ]
  },
  {
   "cell_type": "code",
   "execution_count": 13,
   "id": "458a1ed6-f5a7-4a12-9be0-b010f6ca20e6",
   "metadata": {},
   "outputs": [
    {
     "name": "stdout",
     "output_type": "stream",
     "text": [
      "Quadratischer Fehler mit Tikhonov-Regularisierung: 21.360\n"
     ]
    }
   ],
   "source": [
    "def tikhonov(L, lambda_, theta):\n",
    "    RT = sum(i**2 for i in theta[1:])\n",
    "    return L + lambda_ * RT\n",
    "\n",
    "print(f\"Quadratischer Fehler mit Tikhonov-Regularisierung: {tikhonov(L, lambda_, theta):.3f}\")\n"
   ]
  },
  {
   "cell_type": "markdown",
   "id": "44453af6-b82b-465c-8168-cc709a335932",
   "metadata": {},
   "source": [
    "Polynomische Merkmale"
   ]
  },
  {
   "cell_type": "code",
   "execution_count": 16,
   "id": "1d3dbe0d-91cf-4e73-b8bb-68e82785120b",
   "metadata": {},
   "outputs": [
    {
     "name": "stdout",
     "output_type": "stream",
     "text": [
      "Die polynomielle Merkmalserweiterung von D mit Maximalgrad 2 ist:\n",
      " {(674, 40, 454276, 26960, 1600): 998, (100, 19, 10000, 1900, 361): 71, (348, 1, 121104, 348, 1): 1} \n",
      "\n",
      "Die polynomielle Merkmalserweiterung von D mit Maximalgrad 3 ist:\n",
      " {(674, 40, 454276, 26960, 1600, 306182024, 18171040, 26962, 64000): 998, (100, 19, 10000, 1900, 361, 1000000, 190000, 1902, 6859): 71, (348, 1, 121104, 348, 1, 42144192, 121104, 350, 1): 1} \n",
      "\n",
      "[1, 674, 40, 454276, 26960, 1600]\n",
      "[1, 100, 19, 10000, 1900, 361]\n",
      "[1, 348, 1, 121104, 348, 1]\n"
     ]
    }
   ],
   "source": [
    "import math\n",
    "\n",
    "D = [((674,40),998),((100,19),71),((348,1),1)]\n",
    "\n",
    "def poly_2(D):\n",
    "    D_poly = {}\n",
    "\n",
    "    for features, target in D:\n",
    "        x1, x2 = features\n",
    "        D_poly[((x1, x2, x1**2, x1*x2, x2**2))] = target\n",
    "    \n",
    "    print(\"Die polynomielle Merkmalserweiterung von D mit Maximalgrad 2 ist:\\n\",D_poly,\"\\n\")\n",
    "\n",
    "def poly_3(D):\n",
    "    D_poly = {}\n",
    "\n",
    "    for features, target in D:\n",
    "        x1, x2 = features\n",
    "        D_poly[((x1, x2, x1**2, x1*x2, x2**2, x1**3, x1**2*x2, x1*x2^2, x2**3))] = target\n",
    "    \n",
    "    print(\"Die polynomielle Merkmalserweiterung von D mit Maximalgrad 3 ist:\\n\",D_poly,\"\\n\")\n",
    "\n",
    "poly_2(D)\n",
    "poly_3(D)\n",
    "\n",
    "# Trennen Sie die Merkmale und die Zielwerte\n",
    "features = np.array([x for (x, y) in D])\n",
    "targets = np.array([y for (x, y) in D])\n",
    "\n",
    "# Erstellen Sie das PolynomialFeatures-Objekt mit Grad 2\n",
    "poly = PolynomialFeatures(2)\n",
    "\n",
    "# Wenden Sie die Transformation auf Ihre Daten an\n",
    "features_poly = poly.fit_transform(features)\n",
    "\n",
    "# Jetzt enthält 'features_poly' die polynomiale Merkmalserweiterung von 'features'\n",
    "\n",
    "# Anwendung der math.floor oder math.ceil Funktion auf jede Zahl in jeder Liste\n",
    "correctly_rounded_data = [[math.floor(number + 0.5) if number >= 0 else math.ceil(number - 0.5) for number in sublist] for sublist in features_poly]\n",
    "\n",
    "# Ausgabe der korrekt gerundeten Daten\n",
    "for sublist in correctly_rounded_data:\n",
    "    print(sublist)"
   ]
  },
  {
   "cell_type": "markdown",
   "id": "ed8f8598-f883-4f1c-a6d1-440f29f95967",
   "metadata": {
    "jp-MarkdownHeadingCollapsed": true
   },
   "source": [
    "#### 2. 3D modell\n",
    "\n",
    "quadratische Fehler"
   ]
  },
  {
   "cell_type": "code",
   "execution_count": 51,
   "id": "32f147ae-50e0-4002-a1c5-e1738386585b",
   "metadata": {},
   "outputs": [
    {
     "name": "stdout",
     "output_type": "stream",
     "text": [
      "Der quadratische Fehler für D und theta ist 40.24\n"
     ]
    }
   ],
   "source": [
    "D = [((182,23),172),((180,12),168),((162,26),153)]\n",
    "theta = (-15, 1, 0.4)\n",
    "lambda_ = 0.1\n",
    "\n",
    "def h(theta, x):\n",
    "    return theta[0] + sum(t*x_i for t, x_i in zip(theta[1:], x))\n",
    "\n",
    "def mse(D, h, theta):\n",
    "    return sum((h(theta, x) - y)**2 for (x, y) in D)\n",
    "L = mse(D, h, theta)\n",
    "print(f'Der quadratische Fehler für D und theta ist {round(L,3)}')\n"
   ]
  },
  {
   "cell_type": "markdown",
   "id": "1adacc09-8ea6-4671-80fb-a6d64f283d0b",
   "metadata": {},
   "source": [
    "R²-Wert"
   ]
  },
  {
   "cell_type": "code",
   "execution_count": 52,
   "id": "4f97dc54-f10c-4452-bc6a-dce5caa100d5",
   "metadata": {},
   "outputs": [
    {
     "name": "stdout",
     "output_type": "stream",
     "text": [
      "R²-Wert: 0.799\n"
     ]
    }
   ],
   "source": [
    "def r2_wert(L, D):\n",
    "    y_values = [y for (_, y) in D]\n",
    "    mean_y = sum(y_values) / len(y_values)  \n",
    "    squared_diff = sum((y - mean_y) ** 2 for y in y_values)\n",
    "    return 1 - L/squared_diff\n",
    "\n",
    "print(f'R²-Wert: {round(r2_wert(L, D),3)}')\n"
   ]
  },
  {
   "cell_type": "markdown",
   "id": "622e3b78-5c3f-4df7-96ce-c23ffbf92c37",
   "metadata": {},
   "source": [
    "tikhonov"
   ]
  },
  {
   "cell_type": "code",
   "execution_count": 60,
   "id": "c69fab9c-d96b-4b13-afb3-9e59c13605e1",
   "metadata": {},
   "outputs": [
    {
     "name": "stdout",
     "output_type": "stream",
     "text": [
      "Quadratischer Fehler mit Tikhonov-Regularisierung: 40.356\n"
     ]
    }
   ],
   "source": [
    "def tikhonov(L, lambda_, theta):\n",
    "    RT = sum(i**2 for i in theta[1:])\n",
    "    return L + lambda_ * RT\n",
    "\n",
    "print(f\"Quadratischer Fehler mit Tikhonov-Regularisierung: {tikhonov(L, lambda_, theta):.3f}\")\n"
   ]
  },
  {
   "cell_type": "markdown",
   "id": "59070600-2324-45e5-9e69-f007f4efca74",
   "metadata": {},
   "source": [
    "Polynomische Merkmale"
   ]
  },
  {
   "cell_type": "code",
   "execution_count": 75,
   "id": "29038a48-ff41-4084-b5de-dc625cf2f886",
   "metadata": {},
   "outputs": [
    {
     "name": "stdout",
     "output_type": "stream",
     "text": [
      "Die polynomielle Merkmalserweiterung von D mit Maximalgrad 2 ist:\n",
      " {(674, 40, 454276, 26960, 1600): 998, (100, 19, 10000, 1900, 361): 71, (348, 1, 121104, 348, 1): 1} \n",
      "\n",
      "Die polynomielle Merkmalserweiterung von D mit Maximalgrad 3 ist:\n",
      " {(674, 40, 454276, 26960, 1600, 306182024, 18171040, 26962, 64000): 998, (100, 19, 10000, 1900, 361, 1000000, 190000, 1902, 6859): 71, (348, 1, 121104, 348, 1, 42144192, 121104, 350, 1): 1} \n",
      "\n",
      "[1, 674, 40, 454276, 26960, 1600]\n",
      "[1, 100, 19, 10000, 1900, 361]\n",
      "[1, 348, 1, 121104, 348, 1]\n"
     ]
    }
   ],
   "source": [
    "import math\n",
    "\n",
    "D = [((674,40),998),((100,19),71),((348,1),1)]\n",
    "\n",
    "def poly_2(D):\n",
    "    D_poly = {}\n",
    "\n",
    "    for features, target in D:\n",
    "        x1, x2 = features\n",
    "        D_poly[((x1, x2, x1**2, x1*x2, x2**2))] = target\n",
    "    \n",
    "    print(\"Die polynomielle Merkmalserweiterung von D mit Maximalgrad 2 ist:\\n\",D_poly,\"\\n\")\n",
    "\n",
    "def poly_3(D):\n",
    "    D_poly = {}\n",
    "\n",
    "    for features, target in D:\n",
    "        x1, x2 = features\n",
    "        D_poly[((x1, x2, x1**2, x1*x2, x2**2, x1**3, x1**2*x2, x1*x2^2, x2**3))] = target\n",
    "    \n",
    "    print(\"Die polynomielle Merkmalserweiterung von D mit Maximalgrad 3 ist:\\n\",D_poly,\"\\n\")\n",
    "\n",
    "poly_2(D)\n",
    "poly_3(D)\n",
    "\n",
    "# Trennen Sie die Merkmale und die Zielwerte\n",
    "features = np.array([x for (x, y) in D])\n",
    "targets = np.array([y for (x, y) in D])\n",
    "\n",
    "# Erstellen Sie das PolynomialFeatures-Objekt mit Grad 2\n",
    "poly = PolynomialFeatures(2)\n",
    "\n",
    "# Wenden Sie die Transformation auf Ihre Daten an\n",
    "features_poly = poly.fit_transform(features)\n",
    "\n",
    "# Jetzt enthält 'features_poly' die polynomiale Merkmalserweiterung von 'features'\n",
    "\n",
    "# Anwendung der math.floor oder math.ceil Funktion auf jede Zahl in jeder Liste\n",
    "correctly_rounded_data = [[math.floor(number + 0.5) if number >= 0 else math.ceil(number - 0.5) for number in sublist] for sublist in features_poly]\n",
    "\n",
    "# Ausgabe der korrekt gerundeten Daten\n",
    "for sublist in correctly_rounded_data:\n",
    "    print(sublist)"
   ]
  },
  {
   "cell_type": "markdown",
   "id": "36f6dae0-123d-4c3d-b6c9-7074d013cbd4",
   "metadata": {
    "jp-MarkdownHeadingCollapsed": true
   },
   "source": [
    "#### 6. Kreuzvalidierung (engl. cross validation)"
   ]
  },
  {
   "cell_type": "code",
   "execution_count": 34,
   "id": "bbec0ab2-5a06-4973-a2ec-89c82a58c61b",
   "metadata": {},
   "outputs": [
    {
     "data": {
      "text/plain": [
       "array([0.75468997, 0.74975476, 0.77382931])"
      ]
     },
     "execution_count": 34,
     "metadata": {},
     "output_type": "execute_result"
    }
   ],
   "source": [
    "from sklearn.model_selection import cross_val_score\n",
    "\n",
    "scores = cross_val_score(LinearRegression(), X, y, cv=3)\n",
    "scores"
   ]
  },
  {
   "cell_type": "code",
   "execution_count": 12,
   "id": "e3271dca-01c7-443e-84ea-e3bf42498062",
   "metadata": {},
   "outputs": [
    {
     "data": {
      "text/plain": [
       "0.7594246779223471"
      ]
     },
     "execution_count": 12,
     "metadata": {},
     "output_type": "execute_result"
    }
   ],
   "source": [
    "scores.mean()"
   ]
  },
  {
   "cell_type": "markdown",
   "id": "0bfb478a-57c0-41d2-a374-52bb244a1772",
   "metadata": {
    "jp-MarkdownHeadingCollapsed": true
   },
   "source": [
    "#### 7. Polynomiale Regression"
   ]
  },
  {
   "cell_type": "code",
   "execution_count": 39,
   "id": "3372c8f9-9e2e-4b01-b64f-8445be7db8e1",
   "metadata": {},
   "outputs": [
    {
     "data": {
      "text/plain": [
       "0.9999999999999843"
      ]
     },
     "execution_count": 39,
     "metadata": {},
     "output_type": "execute_result"
    }
   ],
   "source": [
    "from sklearn.preprocessing import PolynomialFeatures\n",
    "\n",
    "df = pd.read_csv(\"./KE2_ueberwachtes_Lernen/2_1_Lineare_Regression/dataset/sl_linreg_ex_fitting.csv\")\n",
    "\n",
    "X = df[\"x\"].to_numpy().reshape(-1, 1)\n",
    "y = df[\"y\"].to_numpy().reshape(-1, 1)\n",
    "\n",
    "df_test = pd.read_csv(\"./KE2_ueberwachtes_Lernen/2_1_Lineare_Regression/dataset/sl_linreg_ex_fitting_test.csv\")\n",
    "\n",
    "X_test = df_test[\"x\"].to_numpy().reshape(-1, 1)\n",
    "y_test = df_test[\"y\"].to_numpy().reshape(-1, 1)\n",
    "\n",
    "poly = PolynomialFeatures(9)\n",
    "X_ext = poly.fit_transform(X)\n",
    "X_ext_test = poly.transform(X_test)\n",
    "\n",
    "poly_regr = LinearRegression().fit(X_ext,y)\n",
    "poly_regr.score(X_ext,y)"
   ]
  },
  {
   "cell_type": "code",
   "execution_count": null,
   "id": "6d62d931-ef10-40cf-81ff-6f1797990cff",
   "metadata": {},
   "outputs": [],
   "source": [
    "poly_regr.score(X_ext_test,y_test)"
   ]
  },
  {
   "cell_type": "code",
   "execution_count": null,
   "id": "f3dee292-3066-45f7-af32-2f173224af0e",
   "metadata": {},
   "outputs": [],
   "source": [
    "import matplotlib.pyplot as plt\n",
    "import numpy as np\n",
    "\n",
    "# Erstellen Sie eine Reihe von x-Werten für die Plots\n",
    "x_values = np.linspace(X.min(), X.max(), 400).reshape(-1, 1)\n",
    "\n",
    "fig, axs = plt.subplots(3, 3, figsize=(15, 15))\n",
    "\n",
    "for i in range(1, 10):\n",
    "    # Erstellen Sie ein PolynomialFeatures-Objekt für den aktuellen Grad\n",
    "    poly = PolynomialFeatures(i)\n",
    "    \n",
    "    # Transformieren Sie die x-Werte\n",
    "    X_ext = poly.fit_transform(X)\n",
    "    x_values_ext = poly.transform(x_values)\n",
    "    \n",
    "    # Trainieren Sie das Modell\n",
    "    poly_regr = LinearRegression().fit(X_ext, y)\n",
    "    \n",
    "    # Berechnen Sie die y-Werte für das aktuelle Polynom\n",
    "    y_values = poly_regr.predict(x_values_ext)\n",
    "    \n",
    "    # Erstellen Sie einen Plot für das aktuelle Polynom\n",
    "    ax = axs[(i - 1) // 3, (i - 1) % 3]\n",
    "    ax.scatter(X, y, color='blue')\n",
    "    ax.plot(x_values, y_values, color='red')\n",
    "    ax.set_title(f'Polynomgrad {i}')\n",
    "\n",
    "plt.tight_layout()\n",
    "plt.show()"
   ]
  },
  {
   "cell_type": "markdown",
   "id": "04f55f88-a3b2-40e8-82ef-dba102f690df",
   "metadata": {
    "jp-MarkdownHeadingCollapsed": true
   },
   "source": [
    "#### 8. Ridge-Regression\n"
   ]
  },
  {
   "cell_type": "code",
   "execution_count": 40,
   "id": "4dd77450-c08a-4e7f-8084-7bb0c88cc8ad",
   "metadata": {},
   "outputs": [
    {
     "name": "stderr",
     "output_type": "stream",
     "text": [
      "C:\\Users\\maayo\\PycharmProjects\\Sem2_ML\\venv\\Lib\\site-packages\\sklearn\\linear_model\\_ridge.py:200: LinAlgWarning: Ill-conditioned matrix (rcond=1.95096e-19): result may not be accurate.\n",
      "  return linalg.solve(A, Xy, assume_a=\"pos\", overwrite_a=True).T\n"
     ]
    },
    {
     "data": {
      "text/plain": [
       "0.990780744926918"
      ]
     },
     "execution_count": 40,
     "metadata": {},
     "output_type": "execute_result"
    }
   ],
   "source": [
    "from sklearn.linear_model import Ridge\n",
    "\n",
    "ridge_regr = Ridge(alpha=0.2).fit(X_ext,y)\n",
    "ridge_regr.score(X_ext,y)"
   ]
  },
  {
   "cell_type": "code",
   "execution_count": 41,
   "id": "7ce9c4f4-b4ce-4777-90f6-a21b303a3f76",
   "metadata": {},
   "outputs": [
    {
     "data": {
      "text/plain": [
       "0.8679361093493759"
      ]
     },
     "execution_count": 41,
     "metadata": {},
     "output_type": "execute_result"
    }
   ],
   "source": [
    "ridge_regr.score(X_ext_test,y_test)"
   ]
  },
  {
   "cell_type": "markdown",
   "id": "8957903a-daa5-45c2-b554-30e07186e14b",
   "metadata": {
    "jp-MarkdownHeadingCollapsed": true
   },
   "source": [
    "### 2.2. logistische Regression <a name=2.2.><a>"
   ]
  },
  {
   "cell_type": "markdown",
   "id": "34fb8722-6f82-47a1-a923-a72d1366e288",
   "metadata": {},
   "source": [
    "---\n",
    "## 5.3. RNN <a name=5.1.><a>"
   ]
  },
  {
   "cell_type": "markdown",
   "id": "0ef20847-f681-44dc-b13e-90ebbe01e9db",
   "metadata": {
    "jp-MarkdownHeadingCollapsed": true
   },
   "source": [
    "### 5.3.1. spaltenweise Konkatenation zweier Matrizen <a name=5.3.1.><a>\n",
    "\n",
    "Sei $A \\in \\mathbb{R}^{n \\times m}$ und $B \\in \\mathbb{R}^{n \\times m'}$ zwei Matrizen mit gleicher Anzahl an Zeilen, so ist $A \\circ B \\in \\mathbb{R}^{n \\times (m + m')}$ die entsprechende Konkatenation:"
   ]
  },
  {
   "cell_type": "code",
   "execution_count": null,
   "id": "7917a1c0-3a58-4129-ab00-d9cde58459eb",
   "metadata": {},
   "outputs": [],
   "source": [
    "# Erstellen Sie die Matrizen A und B mit Dummy-Zahlen\n",
    "A = np.array([[1, 2, 3], \n",
    "              [4, 5, 6], \n",
    "              [7, 8, 9]])\n",
    "\n",
    "B = np.array([[10, 11, 12], \n",
    "              [13, 14, 15], \n",
    "              [16, 17, 18]])\n",
    "\n",
    "# Führen Sie die Konkatenation durch\n",
    "AB = np.concatenate((A, B), axis=1)\n",
    "print(AB)\n",
    "\n",
    "# Erstellen Sie die Vektoren v und w mit Dummy-Zahlen\n",
    "v = np.array([1, 2, 3])  # v = (v1, ..., vm)^T\n",
    "w = np.array([4, 5, 6])  # w = (w1, ..., wm')^T\n",
    "\n",
    "# Führen Sie die Konkatenation durch\n",
    "vw = np.concatenate((v, w))\n",
    "print(\"v ◦ w =\", vw)"
   ]
  },
  {
   "cell_type": "markdown",
   "id": "ebe44ddc-6fc8-47a8-9048-bdad3c010d90",
   "metadata": {},
   "source": [
    "Vergewissern Sie sich, dass für die obigen Definition gilt $(A \\circ B)(v \\circ w) = Av + Bw$."
   ]
  },
  {
   "cell_type": "code",
   "execution_count": null,
   "id": "f33bf573-d301-4809-866e-9711d253597d",
   "metadata": {},
   "outputs": [],
   "source": [
    "result1 = np.dot(AB,vw)\n",
    "result2 = np.dot(A,v) + np.dot(B,w)\n",
    "print(result1 == result2)"
   ]
  },
  {
   "cell_type": "markdown",
   "id": "51772525-0900-4237-bb78-faa53dd26d72",
   "metadata": {},
   "source": [
    "### 5.3.2. One-Hot-Codierung <a name=5.3.2.><a>\n"
   ]
  },
  {
   "cell_type": "markdown",
   "id": "eb6195b0-7376-4847-8bd3-254cc55853f2",
   "metadata": {},
   "source": [
    "Sei ein Alphabet gegeben durch\n",
    "\n",
    "Σ={a,e,s,t}\n",
    "\n",
    "1. Bestimmen Sie eine One-Hot-Codierung für Σ\n",
    ". (Anwortformat '(1,2,3,4,5,6)', Vektorlänge ist selbst zu wä\n",
    "2. Wie ist demnach das Wort test\n",
    " codiert \n",
    "\n",
    "(Anwortformat '((1,2,3,4,5,6),(7,8,9))')\n",
    "#### Lösung\n",
    "- a: (1, 0, 0, 0)\n",
    "- e: (0, 1, 0, 0)\n",
    "- s: (0, 0, 1, 0)\n",
    "- t: (0, 0, 0, 1)\n",
    "\n",
    "Unter Verwendung der zuvor definierten One-Hot-Codierung für das Alphabet Σ={a,e,s,t}, wird das Wort \"test\" wie folgt codiert:\n",
    "\n",
    "- t: (0, 0, 0, 1)\n",
    "- e: (0, 1, 0, 0)\n",
    "- s: (0, 0, 1, 0)\n",
    "- t: (0, 0, 0, 1)\n",
    "\n",
    "Daher ist die Codierung des Wortes \"test\" in dem von Ihnen angegebenen Antwortformat:\n",
    "\n",
    "((0, 0, 0, 1), (0, 1, 0, 0), (0, 0, 1, 0), (0, 0, 0, 1))"
   ]
  },
  {
   "cell_type": "markdown",
   "id": "7df485f3-6e46-4c86-9452-28009fadc40a",
   "metadata": {},
   "source": [
    "### 5.3.3. Berechnungsgraphen <a name=5.3.3.><a>\n",
    "Im Allgemeinen gilt für eine Eingabe $x = (x^{(1)}, \\ldots, x^{(m)})$:\n",
    "\n",
    "$$\n",
    "h(i) = \\text{act}(Ux^{(i)} + Wh^{(i-1)}) \\quad \\text{(1)}\n",
    "$$ <a name=hi><a>\n",
    "\n",
    "$$\n",
    "o(i) = \\text{act}(Vh^{(i)}) \\quad \\text{(2)}\n",
    "$$<a name=oi><a>\n",
    "\n",
    "für $i = 1, \\ldots, m$. Zu beachten ist, dass diese Netzwerkarchitektur mit Eingaben beliebiger Länge umgehen kann, aber eine fixe Anzahl an Parametern besitzt (in den Matrizen $U$, $V$, $W$)."
   ]
  },
  {
   "cell_type": "markdown",
   "id": "fda19404-0a03-4c6c-b27b-c2d4602fbeab",
   "metadata": {},
   "source": [
    "Gegeben sei das abgebildete einfache RNN, wobei\n",
    "\n",
    "$$\\sum = \\{\\text{ist,nichts,niemand}\\} = \\{(1,0,0)^T,(0,1,0)^T,(0,0,1)^T\\}$$\n",
    "$$U= ((0, 0.9, 0.9), (0.5, 0.1, 0), (0.5, 0, 0.1))$$\n",
    "$$W = ((0, 0.45, 0.45), (0.25, 0.05, 0), (0.25, 0, 0.05))$$\n",
    "$$V = ((0.5, 0, 0), (0, 0.5, 0), (0, 0, 0.5))$$\n",
    "$$h_0 = (0,1,1)^T$$\n",
    "\n",
    "und die Aktivierungsfunktion $h^{relu}$ ist. Berechnen Sie die hidden states und die Ausgabe für die Eingabe $x = \\text{'Niemand ist'} = ((0,0,1)^T,(1,0,0)^T)$. \n",
    "(Antwortformat '(1,2,3.456)')"
   ]
  },
  {
   "cell_type": "code",
   "execution_count": null,
   "id": "23528f1d-cd8f-4d9b-ba19-82de0847422c",
   "metadata": {},
   "outputs": [],
   "source": [
    "import numpy as np\n",
    "\n",
    "def hrelu(x):\n",
    "    return np.maximum(0, x)\n",
    "\n",
    "U = np.array([[0, 0.9, 0.9], [0.5, 0.1, 0], [0.5, 0, 0.1]])\n",
    "W = np.array([[0, 0.45, 0.45], [0.25, 0.05, 0], [0.25, 0, 0.05]])\n",
    "V = np.array([[0.5, 0, 0], [0, 0.5, 0], [0, 0, 0.5]])\n",
    "h_0 = np.array([0,1,1]).T\n",
    "x = np.array([[0,0,1],[1,0,0]]).T\n",
    "\n",
    "h_1 = hrelu(np.dot(U, x[:,0]) + np.dot(W, h_0))\n",
    "h_2 = hrelu(np.dot(U, x[:,1]) + np.dot(W, h_1))\n",
    "\n",
    "o_1 = hrelu(np.dot(V, h_1))\n",
    "o_2 = hrelu(np.dot(V, h_2))\n",
    "\n",
    "print(\"h_1: \", h_1)\n",
    "print(\"h_2: \", h_2)\n",
    "print(\"o_1: \", o_1)\n",
    "print(\"o_2: \", o_2)\n"
   ]
  },
  {
   "cell_type": "markdown",
   "id": "6c04919f-d436-4682-8ff6-3929da2c6e77",
   "metadata": {
    "jp-MarkdownHeadingCollapsed": true
   },
   "source": [
    "### 5.3.4. Long short-term memory-Netzwerke <a name=5.3.4.><a>\n"
   ]
  },
  {
   "cell_type": "markdown",
   "id": "36bce749-40b6-4918-998d-004268a7c519",
   "metadata": {},
   "source": [
    "$$f^{(i)} = h^{logit} (U^f x^{(i)} + W^f h^{(i−1)})$$\n",
    "- Der Vektor $f^{(i)}$ soll steuern, was aus dem Langzeitgedächtnis `s` vergessen werden soll (auch als **forget gate** bezeichnet).\n",
    "\n",
    "$$g^{(i)} = h^{logit} (U^g x^{(i)} + W^g h^{(i−1)})$$\n",
    "$$k^{(i)} = h^{tanh} (U^k x^{(i)} + W^k h^{(i−1)})$$\n",
    "- Der Vektor $g^{(i)}$ (**input gate**) steuert, welche Informationen aus $k^{(i)}$ in das Langzeitgedächtnis aufgenommen werden sollen.\n",
    "$$q^{(i)} = h^{logit} (U^o x^{(i)} + W^o h^{(i−1)})$$\n",
    "- Der Vektor $q^{(i)}$ (**output gate**) steuert, welche Information in die Ausgabe und den nächsten versteckten Zustand $h^{(i)}$ einfließt.\n",
    "\n",
    "- Die Kernidee hinter LSTMs liegt in der Definition des Zellzustands: $$s^{(i)} = f^{(i)} \\cdot s^{(i-1)} + g^{(i)} \\cdot k^{(i)}$$"
   ]
  },
  {
   "cell_type": "code",
   "execution_count": null,
   "id": "60a88a14-5f08-468d-aba0-11eacee21d76",
   "metadata": {},
   "outputs": [],
   "source": []
  }
 ],
 "metadata": {
  "kernelspec": {
   "display_name": "Python 3 (ipykernel)",
   "language": "python",
   "name": "python3"
  },
  "language_info": {
   "codemirror_mode": {
    "name": "ipython",
    "version": 3
   },
   "file_extension": ".py",
   "mimetype": "text/x-python",
   "name": "python",
   "nbconvert_exporter": "python",
   "pygments_lexer": "ipython3",
   "version": "3.11.3"
  }
 },
 "nbformat": 4,
 "nbformat_minor": 5
}
