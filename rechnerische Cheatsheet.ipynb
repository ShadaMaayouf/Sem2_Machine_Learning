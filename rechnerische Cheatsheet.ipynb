{
 "cells": [
  {
   "cell_type": "markdown",
   "id": "dbd5d136-be08-4dfc-8ad9-5a5fa1c85e54",
   "metadata": {},
   "source": [
    "# Cheatsheet (rechnerisch)\n",
    ">## <ins>Table of contents</ins> <a name=\"up\"></a>[<sup>[1]</sup>](#cite_note-1)\n",
    ">* [**K2. Überwachtes Lernen**](#2)\n",
    "    * [**2.1. Lineare Regression**](#2.1.)\n",
    "    * [**2.2. Lineare Regression**](#2.2.)\n",
    "    * [**2.3. Lineare Regression**](#2.3.)\n",
    "    * [**2.4. Lineare Regression**](#2.4.)\n",
    ">* [**K3. Motivation und Grundlagen**](#3)\n",
    ">* [**K4. Motivation und Grundlagen**](#4)\n",
    ">* [**K5. Motivation und Grundlagen**](#5)\n",
    "    * [**5.1. RNN**](#5.1.)\n",
    "       * [**5.1. RNN**](#5.1.)\n",
    "    * [**5.3. RNN**](#5.3.)\n",
    "       * [**spaltenweise Konkatenation zweier Matrizen**](#5.3.1.)\n",
    "       * [**One-Hot-Codierung**](#5.3.2.)\n",
    "       * [**Berechnungsgraphen**](#5.3.3.)\n",
    "\n",
    ">\n"
   ]
  },
  {
   "cell_type": "code",
   "execution_count": 1,
   "id": "36d9e4dc-1af2-4d72-ad51-c8a914ff7040",
   "metadata": {},
   "outputs": [],
   "source": [
    "import pandas as pd\n",
    "import numpy as np\n",
    "from sklearn.linear_model import LinearRegression\n",
    "from sklearn.preprocessing import PolynomialFeatures\n",
    "from sklearn.model_selection import train_test_split\n",
    "from sklearn.model_selection import KFold\n",
    "import matplotlib.pyplot as plt"
   ]
  },
  {
   "cell_type": "code",
   "execution_count": 23,
   "id": "e3038ba3-8aa5-48c9-88a4-77ac81bf803d",
   "metadata": {},
   "outputs": [
    {
     "data": {
      "image/png": "[encoded data removed]",
      "text/plain": [
       "<Figure size 1000x600 with 1 Axes>"
      ]
     },
     "metadata": {},
     "output_type": "display_data"
    }
   ],
   "source": [
    "# Datensatz visualisieren\n",
    "def visualise_datensatz(x,y):\n",
    "    # Erstellen Sie das Diagramm\n",
    "    plt.figure(figsize=(10, 6))\n",
    "    plt.scatter(x,y)\n",
    "    plt.title('Visualisierung des Datensatzes')\n",
    "    plt.xlabel('x')\n",
    "    plt.ylabel('y')\n",
    "    plt.grid(True)\n",
    "    plt.show()\n",
    "    \n",
    "visualise_datensatz(X,y)"
   ]
  },
  {
   "cell_type": "markdown",
   "id": "a9bea975-c801-440d-bc50-cab55291db0a",
   "metadata": {},
   "source": [
    "## 2 Überwachtes Lernen <a name=2><a>"
   ]
  },
  {
   "cell_type": "markdown",
   "id": "dd419998-6f71-48c8-ae57-3b3d2898cf1d",
   "metadata": {
    "jp-MarkdownHeadingCollapsed": true
   },
   "source": [
    "### 2.1. Lineare Regression <a name=2.1.><a>"
   ]
  },
  {
   "cell_type": "markdown",
   "id": "ff67badb-52bf-47a3-b739-baef372d46d9",
   "metadata": {
    "jp-MarkdownHeadingCollapsed": true
   },
   "source": [
    "#### 1. 2D modell"
   ]
  },
  {
   "cell_type": "code",
   "execution_count": 10,
   "id": "e970972b-a302-467c-9585-6b2d2a03f5d3",
   "metadata": {},
   "outputs": [],
   "source": [
    "# Ihre Daten\n",
    "D = [\n",
    "    ((153.3), 47.1),\n",
    "    ((158.9), 46.8),\n",
    "    ((160.8), 49.3),\n",
    "    ((179.6), 53.2),\n",
    "    ((156.6), 47.7),\n",
    "    ((165.1), 49.0),\n",
    "    ((165.9), 50.6),\n",
    "    ((156.7), 47.1),\n",
    "    ((167.8), 51.7),\n",
    "    ((160.8), 47.8)\n",
    "]\n",
    "\n",
    "theta = (-4, 1/3)\n",
    "lambda_ = 0.1\n"
   ]
  },
  {
   "cell_type": "code",
   "execution_count": 11,
   "id": "e8c70093-ad2b-43fd-84d2-6da776b3bd0d",
   "metadata": {},
   "outputs": [
    {
     "name": "stdout",
     "output_type": "stream",
     "text": [
      "Der quadratische Fehler für D und theta ist 21.349\n"
     ]
    }
   ],
   "source": [
    "\n",
    "def h(theta, x):\n",
    "    return theta[0] + theta[1]*x\n",
    "\n",
    "def mse(D, h, theta):\n",
    "    return sum((h(theta, x) - y)**2 for (x, y) in D)\n",
    "\n",
    "L = mse(D, h, theta)\n",
    "print(f'Der quadratische Fehler für D und theta ist {round(L,3)}')\n"
   ]
  },
  {
   "cell_type": "markdown",
   "id": "ebf1db9d-a588-4370-9c71-92be4e61211f",
   "metadata": {},
   "source": [
    "R²-Wert"
   ]
  },
  {
   "cell_type": "code",
   "execution_count": 12,
   "id": "6d89c183-18bf-4f25-a943-297aab603b90",
   "metadata": {},
   "outputs": [
    {
     "name": "stdout",
     "output_type": "stream",
     "text": [
      "R²-Wert: 0.501\n"
     ]
    }
   ],
   "source": [
    "def r2_wert(L, D):\n",
    "    y_values = [y for (_, y) in D]\n",
    "    mean_y = sum(y_values) / len(y_values)  \n",
    "    squared_diff = sum((y - mean_y) ** 2 for y in y_values)\n",
    "    return 1 - L/squared_diff\n",
    "\n",
    "print(f'R²-Wert: {round(r2_wert(L, D),3)}')\n"
   ]
  },
  {
   "cell_type": "markdown",
   "id": "729bef95-be7f-44a8-8a67-a6a2a3af8ee3",
   "metadata": {},
   "source": [
    "tikhonov"
   ]
  },
  {
   "cell_type": "code",
   "execution_count": 13,
   "id": "458a1ed6-f5a7-4a12-9be0-b010f6ca20e6",
   "metadata": {},
   "outputs": [
    {
     "name": "stdout",
     "output_type": "stream",
     "text": [
      "Quadratischer Fehler mit Tikhonov-Regularisierung: 21.360\n"
     ]
    }
   ],
   "source": [
    "def tikhonov(L, lambda_, theta):\n",
    "    RT = sum(i**2 for i in theta[1:])\n",
    "    return L + lambda_ * RT\n",
    "\n",
    "print(f\"Quadratischer Fehler mit Tikhonov-Regularisierung: {tikhonov(L, lambda_, theta):.3f}\")\n"
   ]
  },
  {
   "cell_type": "markdown",
   "id": "44453af6-b82b-465c-8168-cc709a335932",
   "metadata": {},
   "source": [
    "Polynomische Merkmale"
   ]
  },
  {
   "cell_type": "code",
   "execution_count": 16,
   "id": "1d3dbe0d-91cf-4e73-b8bb-68e82785120b",
   "metadata": {},
   "outputs": [
    {
     "name": "stdout",
     "output_type": "stream",
     "text": [
      "Die polynomielle Merkmalserweiterung von D mit Maximalgrad 2 ist:\n",
      " {(674, 40, 454276, 26960, 1600): 998, (100, 19, 10000, 1900, 361): 71, (348, 1, 121104, 348, 1): 1} \n",
      "\n",
      "Die polynomielle Merkmalserweiterung von D mit Maximalgrad 3 ist:\n",
      " {(674, 40, 454276, 26960, 1600, 306182024, 18171040, 26962, 64000): 998, (100, 19, 10000, 1900, 361, 1000000, 190000, 1902, 6859): 71, (348, 1, 121104, 348, 1, 42144192, 121104, 350, 1): 1} \n",
      "\n",
      "[1, 674, 40, 454276, 26960, 1600]\n",
      "[1, 100, 19, 10000, 1900, 361]\n",
      "[1, 348, 1, 121104, 348, 1]\n"
     ]
    }
   ],
   "source": [
    "import math\n",
    "\n",
    "D = [((674,40),998),((100,19),71),((348,1),1)]\n",
    "\n",
    "def poly_2(D):\n",
    "    D_poly = {}\n",
    "\n",
    "    for features, target in D:\n",
    "        x1, x2 = features\n",
    "        D_poly[((x1, x2, x1**2, x1*x2, x2**2))] = target\n",
    "    \n",
    "    print(\"Die polynomielle Merkmalserweiterung von D mit Maximalgrad 2 ist:\\n\",D_poly,\"\\n\")\n",
    "\n",
    "def poly_3(D):\n",
    "    D_poly = {}\n",
    "\n",
    "    for features, target in D:\n",
    "        x1, x2 = features\n",
    "        D_poly[((x1, x2, x1**2, x1*x2, x2**2, x1**3, x1**2*x2, x1*x2^2, x2**3))] = target\n",
    "    \n",
    "    print(\"Die polynomielle Merkmalserweiterung von D mit Maximalgrad 3 ist:\\n\",D_poly,\"\\n\")\n",
    "\n",
    "poly_2(D)\n",
    "poly_3(D)\n",
    "\n",
    "# Trennen Sie die Merkmale und die Zielwerte\n",
    "features = np.array([x for (x, y) in D])\n",
    "targets = np.array([y for (x, y) in D])\n",
    "\n",
    "# Erstellen Sie das PolynomialFeatures-Objekt mit Grad 2\n",
    "poly = PolynomialFeatures(2)\n",
    "\n",
    "# Wenden Sie die Transformation auf Ihre Daten an\n",
    "features_poly = poly.fit_transform(features)\n",
    "\n",
    "# Jetzt enthält 'features_poly' die polynomiale Merkmalserweiterung von 'features'\n",
    "\n",
    "# Anwendung der math.floor oder math.ceil Funktion auf jede Zahl in jeder Liste\n",
    "correctly_rounded_data = [[math.floor(number + 0.5) if number >= 0 else math.ceil(number - 0.5) for number in sublist] for sublist in features_poly]\n",
    "\n",
    "# Ausgabe der korrekt gerundeten Daten\n",
    "for sublist in correctly_rounded_data:\n",
    "    print(sublist)"
   ]
  },
  {
   "cell_type": "markdown",
   "id": "ed8f8598-f883-4f1c-a6d1-440f29f95967",
   "metadata": {
    "jp-MarkdownHeadingCollapsed": true
   },
   "source": [
    "#### 2. 3D modell\n",
    "\n",
    "quadratische Fehler"
   ]
  },
  {
   "cell_type": "code",
   "execution_count": 51,
   "id": "32f147ae-50e0-4002-a1c5-e1738386585b",
   "metadata": {},
   "outputs": [
    {
     "name": "stdout",
     "output_type": "stream",
     "text": [
      "Der quadratische Fehler für D und theta ist 40.24\n"
     ]
    }
   ],
   "source": [
    "D = [((182,23),172),((180,12),168),((162,26),153)]\n",
    "theta = (-15, 1, 0.4)\n",
    "lambda_ = 0.1\n",
    "\n",
    "def h(theta, x):\n",
    "    return theta[0] + sum(t*x_i for t, x_i in zip(theta[1:], x))\n",
    "\n",
    "def mse(D, h, theta):\n",
    "    return sum((h(theta, x) - y)**2 for (x, y) in D)\n",
    "L = mse(D, h, theta)\n",
    "print(f'Der quadratische Fehler für D und theta ist {round(L,3)}')\n"
   ]
  },
  {
   "cell_type": "markdown",
   "id": "1adacc09-8ea6-4671-80fb-a6d64f283d0b",
   "metadata": {},
   "source": [
    "R²-Wert"
   ]
  },
  {
   "cell_type": "code",
   "execution_count": 52,
   "id": "4f97dc54-f10c-4452-bc6a-dce5caa100d5",
   "metadata": {},
   "outputs": [
    {
     "name": "stdout",
     "output_type": "stream",
     "text": [
      "R²-Wert: 0.799\n"
     ]
    }
   ],
   "source": [
    "def r2_wert(L, D):\n",
    "    y_values = [y for (_, y) in D]\n",
    "    mean_y = sum(y_values) / len(y_values)  \n",
    "    squared_diff = sum((y - mean_y) ** 2 for y in y_values)\n",
    "    return 1 - L/squared_diff\n",
    "\n",
    "print(f'R²-Wert: {round(r2_wert(L, D),3)}')\n"
   ]
  },
  {
   "cell_type": "markdown",
   "id": "622e3b78-5c3f-4df7-96ce-c23ffbf92c37",
   "metadata": {},
   "source": [
    "tikhonov"
   ]
  },
  {
   "cell_type": "code",
   "execution_count": 60,
   "id": "c69fab9c-d96b-4b13-afb3-9e59c13605e1",
   "metadata": {},
   "outputs": [
    {
     "name": "stdout",
     "output_type": "stream",
     "text": [
      "Quadratischer Fehler mit Tikhonov-Regularisierung: 40.356\n"
     ]
    }
   ],
   "source": [
    "def tikhonov(L, lambda_, theta):\n",
    "    RT = sum(i**2 for i in theta[1:])\n",
    "    return L + lambda_ * RT\n",
    "\n",
    "print(f\"Quadratischer Fehler mit Tikhonov-Regularisierung: {tikhonov(L, lambda_, theta):.3f}\")\n"
   ]
  },
  {
   "cell_type": "markdown",
   "id": "59070600-2324-45e5-9e69-f007f4efca74",
   "metadata": {},
   "source": [
    "Polynomische Merkmale"
   ]
  },
  {
   "cell_type": "code",
   "execution_count": 75,
   "id": "29038a48-ff41-4084-b5de-dc625cf2f886",
   "metadata": {},
   "outputs": [
    {
     "name": "stdout",
     "output_type": "stream",
     "text": [
      "Die polynomielle Merkmalserweiterung von D mit Maximalgrad 2 ist:\n",
      " {(674, 40, 454276, 26960, 1600): 998, (100, 19, 10000, 1900, 361): 71, (348, 1, 121104, 348, 1): 1} \n",
      "\n",
      "Die polynomielle Merkmalserweiterung von D mit Maximalgrad 3 ist:\n",
      " {(674, 40, 454276, 26960, 1600, 306182024, 18171040, 26962, 64000): 998, (100, 19, 10000, 1900, 361, 1000000, 190000, 1902, 6859): 71, (348, 1, 121104, 348, 1, 42144192, 121104, 350, 1): 1} \n",
      "\n",
      "[1, 674, 40, 454276, 26960, 1600]\n",
      "[1, 100, 19, 10000, 1900, 361]\n",
      "[1, 348, 1, 121104, 348, 1]\n"
     ]
    }
   ],
   "source": [
    "import math\n",
    "\n",
    "D = [((674,40),998),((100,19),71),((348,1),1)]\n",
    "\n",
    "def poly_2(D):\n",
    "    D_poly = {}\n",
    "\n",
    "    for features, target in D:\n",
    "        x1, x2 = features\n",
    "        D_poly[((x1, x2, x1**2, x1*x2, x2**2))] = target\n",
    "    \n",
    "    print(\"Die polynomielle Merkmalserweiterung von D mit Maximalgrad 2 ist:\\n\",D_poly,\"\\n\")\n",
    "\n",
    "def poly_3(D):\n",
    "    D_poly = {}\n",
    "\n",
    "    for features, target in D:\n",
    "        x1, x2 = features\n",
    "        D_poly[((x1, x2, x1**2, x1*x2, x2**2, x1**3, x1**2*x2, x1*x2^2, x2**3))] = target\n",
    "    \n",
    "    print(\"Die polynomielle Merkmalserweiterung von D mit Maximalgrad 3 ist:\\n\",D_poly,\"\\n\")\n",
    "\n",
    "poly_2(D)\n",
    "poly_3(D)\n",
    "\n",
    "# Trennen Sie die Merkmale und die Zielwerte\n",
    "features = np.array([x for (x, y) in D])\n",
    "targets = np.array([y for (x, y) in D])\n",
    "\n",
    "# Erstellen Sie das PolynomialFeatures-Objekt mit Grad 2\n",
    "poly = PolynomialFeatures(2)\n",
    "\n",
    "# Wenden Sie die Transformation auf Ihre Daten an\n",
    "features_poly = poly.fit_transform(features)\n",
    "\n",
    "# Jetzt enthält 'features_poly' die polynomiale Merkmalserweiterung von 'features'\n",
    "\n",
    "# Anwendung der math.floor oder math.ceil Funktion auf jede Zahl in jeder Liste\n",
    "correctly_rounded_data = [[math.floor(number + 0.5) if number >= 0 else math.ceil(number - 0.5) for number in sublist] for sublist in features_poly]\n",
    "\n",
    "# Ausgabe der korrekt gerundeten Daten\n",
    "for sublist in correctly_rounded_data:\n",
    "    print(sublist)"
   ]
  },
  {
   "cell_type": "markdown",
   "id": "8957903a-daa5-45c2-b554-30e07186e14b",
   "metadata": {
    "jp-MarkdownHeadingCollapsed": true
   },
   "source": [
    "### 2.2. logistische Regression <a name=2.2.><a>"
   ]
  },
  {
   "cell_type": "code",
   "execution_count": 31,
   "id": "a5c2203c-6d1b-4d27-90a1-c64d2c6761d2",
   "metadata": {},
   "outputs": [],
   "source": [
    "import pandas as pd\n",
    "import numpy as np\n",
    "import matplotlib.pyplot as plt\n",
    "from sklearn.metrics import accuracy_score\n",
    "from sklearn.metrics import precision_score\n",
    "from sklearn.metrics import recall_score\n",
    "from sklearn.metrics import f1_score\n"
   ]
  },
  {
   "cell_type": "markdown",
   "id": "f66af76f-ec98-456f-8eea-d81fc1ec1048",
   "metadata": {
    "jp-MarkdownHeadingCollapsed": true
   },
   "source": [
    "#### 1. 2D modell"
   ]
  },
  {
   "cell_type": "code",
   "execution_count": 45,
   "id": "38c6b7a2-3ee2-472c-b5c3-b3538e0ae7d2",
   "metadata": {},
   "outputs": [],
   "source": [
    "# Ihre Daten\n",
    "D = [\n",
    "    ((5), 0),\n",
    "    ((14), 1),\n",
    "    ((10), 1),\n",
    "    ((7), 1),\n",
    "    ((2), 0),\n",
    "    ((1), 0),\n",
    "    ((9), 1),\n",
    "    ((8), 0),\n",
    "    ((3), 0),\n",
    "    ((13), 1)\n",
    "]\n",
    "theta = (-5.559, 0.771)\n"
   ]
  },
  {
   "cell_type": "code",
   "execution_count": 47,
   "id": "6a0b7684-6068-4392-8431-988f371d35c1",
   "metadata": {},
   "outputs": [
    {
     "name": "stdout",
     "output_type": "stream",
     "text": [
      "0.15394356385485433\n",
      "0.9947014002271793\n",
      "0.8957621861330917\n",
      "0.45958834166338\n",
      "0.01768839152299949\n",
      "0.008260298092663241\n",
      "0.7989910002494707\n",
      "0.6477126548282953\n",
      "0.03747088801638696\n",
      "0.9886149068701869\n"
     ]
    }
   ],
   "source": [
    "\n",
    "def sigmoid(theta, x):\n",
    "    return 1 / (1 + np.exp(-h(theta, x)))\n",
    "\n",
    "def h(theta, x):\n",
    "    return theta[0] + theta[1]*x\n",
    "\n",
    "for (x,y) in D:\n",
    "    print(sigmoid(theta, x))"
   ]
  },
  {
   "cell_type": "code",
   "execution_count": 48,
   "id": "828c26c8-d201-4cd5-a304-7dfbb4c8d737",
   "metadata": {},
   "outputs": [],
   "source": [
    "def L_logit(D, sigmoid, theta):\n",
    "    \n",
    "    m = len(D)  # Anzahl der Beobachtungen im Datensatz\n",
    "    total_cost = 0.0\n",
    "\n",
    "    for x, y in D:\n",
    "        prediction = sigmoid(theta, x)\n",
    "        cost = y * np.log(prediction) + (1 - y) * np.log(1 - prediction)\n",
    "        print(cost)\n",
    "        total_cost += cost\n",
    "\n",
    "    return -total_cost"
   ]
  },
  {
   "cell_type": "code",
   "execution_count": 49,
   "id": "9abb60b7-c54d-4262-b095-2307a03e7e18",
   "metadata": {},
   "outputs": [
    {
     "name": "stdout",
     "output_type": "stream",
     "text": [
      "-0.1671692122094611\n",
      "-0.005312687136834237\n",
      "-0.11008031849877639\n",
      "-0.7774240995969333\n",
      "-0.01784670072174623\n",
      "-0.00829460340028144\n",
      "-0.22440559704717059\n",
      "-1.0433081148827035\n",
      "-0.038190967060864556\n",
      "-0.011450399454817836\n",
      "Die logostische Kostenfunktion für D und theta ist 2.403\n"
     ]
    }
   ],
   "source": [
    "L = L_logit(D, sigmoid, theta)\n",
    "print(f'Die logostische Kostenfunktion für D und theta ist {round(L,3)}')"
   ]
  },
  {
   "cell_type": "markdown",
   "id": "3e3b7dcc-730e-467b-94c6-cbd7e368a142",
   "metadata": {},
   "source": [
    "Der Klassifikationsmatrix $clf_f$:"
   ]
  },
  {
   "cell_type": "code",
   "execution_count": 56,
   "id": "342f81ef-0181-4629-885c-b3c9cb285e73",
   "metadata": {},
   "outputs": [
    {
     "name": "stdout",
     "output_type": "stream",
     "text": [
      "y_actual:  [0, 1, 1, 1, 0, 0, 1, 0, 0, 1]\n",
      "y_predicted:  [0, 1, 1, 0, 0, 0, 1, 1, 0, 1]\n",
      "\n",
      "Genauigkeit: 0.800\n",
      "Präzesion: 0.800\n",
      "Sensitivität (Recall): 0.800\n",
      "F1-Maß: 0.800\n",
      "\n",
      "Konfusionsmatrix: \n",
      " [[4 1]\n",
      " [1 4]]\n"
     ]
    }
   ],
   "source": [
    "D = [\n",
    "    ((5), 0),\n",
    "    ((14), 1),\n",
    "    ((10), 1),\n",
    "    ((7), 1),\n",
    "    ((2), 0),\n",
    "    ((1), 0),\n",
    "    ((9), 1),\n",
    "    ((8), 0),\n",
    "    ((3), 0),\n",
    "    ((13), 1)\n",
    "]\n",
    "\n",
    "# Beispiel-Klassifikator c\n",
    "def clf_logit(x):\n",
    "    if x >= 0.5:\n",
    "        return 1\n",
    "    else:\n",
    "        return 0\n",
    "\n",
    "def clf(x):\n",
    "    if x == (0.33, 5) or x == (0.36,6) or x == (0.18,6):\n",
    "        return 1\n",
    "    else:\n",
    "        return 0\n",
    "        \n",
    "def create_confusion_matrix(D, clf):\n",
    "    # Extrahiere die tatsächlichen Klassenlabels aus dem Datensatz D\n",
    "    y_actual = [y for _, y in D]\n",
    "    print('y_actual: ', y_actual)\n",
    "    # Erstelle eine Liste der vorhergesagten Klassenlabels basierend auf dem Klassifikator c\n",
    "    y_predicted = [clf(x) for x, _ in D] #[clf_logit(sigmoid(theta,x)) for x, _ in D]\n",
    "    print('y_predicted: ', y_predicted)\n",
    "\n",
    "    # Berechne die Konfusionsmatrix\n",
    "    c_matrix = metrics.confusion_matrix(y_actual, y_predicted)\n",
    "\n",
    "    print(f\"\\nGenauigkeit: {accuracy_score(y_actual, y_predicted):.3f}\")\n",
    "    print(f\"Präzesion: {precision_score(y_actual, y_predicted, zero_division=0):.3f}\")\n",
    "    print(f\"Sensitivität (Recall): {recall_score(y_actual, y_predicted, zero_division=0):.3f}\")\n",
    "    print(f\"F1-Maß: {f1_score(y_actual, y_predicted, zero_division=0):.3f}\")\n",
    "\n",
    "    return c_matrix\n",
    "\n",
    "print(\"\\nKonfusionsmatrix: \\n\", create_confusion_matrix(D, clf))\n"
   ]
  },
  {
   "cell_type": "markdown",
   "id": "0266bbaf-82d9-4081-b75a-8516d9bf0595",
   "metadata": {
    "jp-MarkdownHeadingCollapsed": true
   },
   "source": [
    "#### 2. 3D modell\n",
    "\n",
    "Die logistische Kostenfunktion $L^{logit}(h^{logit}_{\\theta}, D)$:"
   ]
  },
  {
   "cell_type": "code",
   "execution_count": 20,
   "id": "d4c42924-ebc2-4a9e-bad3-06f3a155ebd6",
   "metadata": {},
   "outputs": [],
   "source": [
    "# Ihre Daten\n",
    "D = [\n",
    "    ((56,44),1),((50,37),0),((47,53),1),((18,40),0)\n",
    "]\n",
    "theta = (45, -0.5, -0.5)\n",
    "lambda_ = 0.1\n"
   ]
  },
  {
   "cell_type": "code",
   "execution_count": 21,
   "id": "7d1e1cac-472f-46ca-ba68-38954b9c3ac7",
   "metadata": {},
   "outputs": [
    {
     "name": "stdout",
     "output_type": "stream",
     "text": [
      "0.0066928509242848554\n",
      "0.8175744761936437\n",
      "0.0066928509242848554\n",
      "0.9999998874648379\n"
     ]
    }
   ],
   "source": [
    "\n",
    "def sigmoid(theta, x):\n",
    "    return 1 / (1 + np.exp(-h(theta, x)))\n",
    "\n",
    "def h(theta, x):\n",
    "    return theta[0] + sum(t*x_i for t, x_i in zip(theta[1:], x))\n",
    "\n",
    "for (x,y) in D:\n",
    "    print(sigmoid(theta, x))"
   ]
  },
  {
   "cell_type": "code",
   "execution_count": 24,
   "id": "44284b1f-ed22-439b-9a66-8669d8aa5888",
   "metadata": {},
   "outputs": [],
   "source": [
    "def L_logit(D, sigmoid, theta):\n",
    "    \n",
    "    m = len(D)  # Anzahl der Beobachtungen im Datensatz\n",
    "    total_cost = 0.0\n",
    "\n",
    "    for x, y in D:\n",
    "        prediction = sigmoid(theta, x)\n",
    "        cost = y * np.log(prediction) + (1 - y) * np.log(1 - prediction)\n",
    "        print(cost)\n",
    "        total_cost += cost\n",
    "\n",
    "    return -total_cost"
   ]
  },
  {
   "cell_type": "code",
   "execution_count": 25,
   "id": "cc43a5ba-5e14-4bc8-b3c2-fb8fc914e1b0",
   "metadata": {},
   "outputs": [
    {
     "name": "stdout",
     "output_type": "stream",
     "text": [
      "-5.006715348489118\n",
      "-1.7014132779827524\n",
      "-5.006715348489118\n",
      "-16.000000112332735\n",
      "Der quadratische Fehler für D und theta ist 27.715\n"
     ]
    }
   ],
   "source": [
    "L = L_logit(D, sigmoid, theta)\n",
    "print(f'Die logostische Kostenfunktion für D und theta ist {round(L,3)}')"
   ]
  },
  {
   "cell_type": "markdown",
   "id": "799460d3-9a5d-4f51-86e9-a38a0d04be88",
   "metadata": {},
   "source": [
    "Der Klassifikationsmatrix $clf_f$:"
   ]
  },
  {
   "cell_type": "code",
   "execution_count": 35,
   "id": "42f47e19-b5ef-4954-8216-c403afea4d96",
   "metadata": {},
   "outputs": [
    {
     "name": "stdout",
     "output_type": "stream",
     "text": [
      "y_actual:  [1, 1, 0, 0, 0]\n",
      "y_predicted:  [1, 0, 1, 0, 1]\n",
      "\n",
      "Genauigkeit: 0.400\n",
      "Präzesion: 0.333\n",
      "Sensitivität (Recall): 0.500\n",
      "F1-Maß: 0.400\n",
      "\n",
      "Konfusionsmatrix: \n",
      " [[1 2]\n",
      " [1 1]]\n"
     ]
    }
   ],
   "source": [
    "D = [\n",
    "    ((0.33,5),1),((0.31,4),1),((0.36,6),0),((0.05,29),0),((0.18,6),0)\n",
    "]\n",
    "\n",
    "# Beispiel-Klassifikator c\n",
    "def clf(x):\n",
    "    if x == (0.33, 5) or x == (0.36,6) or x == (0.18,6):\n",
    "        return 1\n",
    "    else:\n",
    "        return 0\n",
    "        \n",
    "def create_confusion_matrix(D, clf):\n",
    "    # Extrahiere die tatsächlichen Klassenlabels aus dem Datensatz D\n",
    "    y_actual = [y for _, y in D]\n",
    "    print('y_actual: ', y_actual)\n",
    "    # Erstelle eine Liste der vorhergesagten Klassenlabels basierend auf dem Klassifikator c\n",
    "    y_predicted = [clf(x) for x, _ in D]\n",
    "    print('y_predicted: ', y_predicted)\n",
    "\n",
    "    # Berechne die Konfusionsmatrix\n",
    "    c_matrix = metrics.confusion_matrix(y_actual, y_predicted)\n",
    "\n",
    "    print(f\"\\nGenauigkeit: {accuracy_score(y_actual, y_predicted):.3f}\")\n",
    "    print(f\"Präzesion: {precision_score(y_actual, y_predicted, zero_division=0):.3f}\")\n",
    "    print(f\"Sensitivität (Recall): {recall_score(y_actual, y_predicted, zero_division=0):.3f}\")\n",
    "    print(f\"F1-Maß: {f1_score(y_actual, y_predicted, zero_division=0):.3f}\")\n",
    "\n",
    "    return c_matrix\n",
    "\n",
    "print(\"\\nKonfusionsmatrix: \\n\", create_confusion_matrix(D, clf))\n"
   ]
  },
  {
   "cell_type": "markdown",
   "id": "8b3855de-a5f2-4ff0-8138-1947d8efd31b",
   "metadata": {
    "jp-MarkdownHeadingCollapsed": true
   },
   "source": [
    "### 2.3. SVM <a name=2.3.><a>"
   ]
  },
  {
   "cell_type": "code",
   "execution_count": 2,
   "id": "76ae47c4-26ca-4ad8-82aa-b38bd8fbf186",
   "metadata": {},
   "outputs": [],
   "source": [
    "# Ihre Daten\n",
    "D = [\n",
    "    ((1,2),-1),((1.5,0.5),-1),((1.5,3.5),1),((3.5,1),1),((3.5,3),1)\n",
    "]\n",
    "theta = (20/17, 16/17)\n",
    "b =  69/17"
   ]
  },
  {
   "cell_type": "markdown",
   "id": "6172b662-3b04-4cd9-ae77-9beaf5139982",
   "metadata": {
    "jp-MarkdownHeadingCollapsed": true
   },
   "source": [
    "##### Abstand von $h_1$ und $h_{-1}$ zu $h_0$  ist genau $\\frac{1}{\\|\\theta\\|}$\n"
   ]
  },
  {
   "cell_type": "code",
   "execution_count": 3,
   "id": "4e849e3a-f862-4190-a746-c356609533bd",
   "metadata": {},
   "outputs": [
    {
     "name": "stdout",
     "output_type": "stream",
     "text": [
      "Der Abstand von h_1 und h_{-1} zu h_0 ist: 0.664\n"
     ]
    }
   ],
   "source": [
    "import numpy as np\n",
    "\n",
    "def abstand_zu_h0(theta):\n",
    "    return 1 / np.linalg.norm(theta)\n",
    "\n",
    "abstand_zu_h0 = abstand_zu_h0(theta)\n",
    "print(\"Der Abstand von h_1 und h_{-1} zu h_0 ist:\", round(abstand_zu_h0,3))\n"
   ]
  },
  {
   "cell_type": "code",
   "execution_count": 4,
   "id": "991739b1-6d09-45e4-bb26-334466b120e3",
   "metadata": {},
   "outputs": [
    {
     "name": "stdout",
     "output_type": "stream",
     "text": [
      "Die Stützvektoren sind: [((1, 2), -1), ((1.5, 3.5), 1), ((3.5, 1), 1)]\n"
     ]
    }
   ],
   "source": [
    "def h0(theta, x, b):\n",
    "    return np.dot(theta, x) - b\n",
    "\n",
    "support_vectors = []\n",
    "\n",
    "for (x,y), target in D:\n",
    "    distance = h0(theta, (x,y), b)\n",
    "    if np.isclose(distance, 1) or np.isclose(distance, -1):\n",
    "        support_vectors.append(((x, y), target))\n",
    "\n",
    "print(\"Die Stützvektoren sind:\", support_vectors)"
   ]
  },
  {
   "cell_type": "markdown",
   "id": "c017968f-2347-49cb-b3aa-010d21740d87",
   "metadata": {
    "jp-MarkdownHeadingCollapsed": true
   },
   "source": [
    "##### Hinge-Kostenfunktion $L^{hinge}(D,f)$"
   ]
  },
  {
   "cell_type": "code",
   "execution_count": 7,
   "id": "e488dc9d-5602-48e1-ab98-f1fafaf08058",
   "metadata": {},
   "outputs": [
    {
     "name": "stdout",
     "output_type": "stream",
     "text": [
      "Die Hinge-Kostenfunktion L_hinge(D, f) ist 2.0\n"
     ]
    }
   ],
   "source": [
    "import numpy as np\n",
    "\n",
    "# Datensatz D\n",
    "D = [((1,3),-1),((4,3),1),((5,3.5),-1),((7,2.5),-1)]\n",
    "\n",
    "def f(x1, x2):\n",
    "    return np.cos((x1 + x2 - 3) * np.pi)\n",
    "\n",
    "def L_hinge(D, f):\n",
    "    cost = 0\n",
    "    for x, y in D:\n",
    "        cost += max(0, 1 - y * f(*x))\n",
    "    return cost\n",
    "##\n",
    "\n",
    "# Berechnen Sie die Hinge-Kostenfunktion\n",
    "cost = L_hinge(D, f)\n",
    "print(f\"Die Hinge-Kostenfunktion L_hinge(D, f) ist {round(cost, 3)}\")\n"
   ]
  },
  {
   "cell_type": "markdown",
   "id": "9aba2546-6ce8-4be3-af07-7e1b689180c1",
   "metadata": {
    "jp-MarkdownHeadingCollapsed": true
   },
   "source": [
    "##### Kernelfunktionen"
   ]
  },
  {
   "cell_type": "code",
   "execution_count": null,
   "id": "e8093b5b-3406-4efe-95bc-f610e6593039",
   "metadata": {},
   "outputs": [],
   "source": [
    "import numpy as np\n",
    "\n",
    "def phi(x):\n",
    "    \"\"\"\n",
    "    Eine Transformation φ : R² → R³.\n",
    "    In diesem Beispiel realisiert φ eine polynomielle Merkmalserweiterung.\n",
    "    \"\"\"\n",
    "    return np.array([x[0]**2, np.sqrt(2)*x[0]*x[1], x[1]**2])\n",
    "\n",
    "# Homogener polynomieller Kernel zu Grad 2\n",
    "def kernel(x, x_prime):\n",
    "    \"\"\"\n",
    "    Eine Kernelfunktion kφ, die das Skalarprodukt im R³ realisiert.\n",
    "    kφ (x, x′) = φ(x)ᵀ φ(x′)\n",
    "    \"\"\"\n",
    "    return np.dot(phi(x), phi(x_prime))\n",
    "\n",
    "# Homogener polynomieller Kernel zu Grad d > 0\n",
    "#f+r das lineare Kernel d = 1\n",
    "def poly_kernel_homogeneous(x, x_prime, d):\n",
    "    return np.dot(x, x_prime)**d\n",
    "\n",
    "# Inhomogener polynomieller Kernel zu Grad d > 0 mit r ∈ R\n",
    "def poly_kernel_inhomogeneous(x, x_prime, d, r):\n",
    "    return (np.dot(x, x_prime) + r)**d\n",
    "\n",
    "# Radiale Basisfunktion mit γ > 0 (Gaußscher Kernel)\n",
    "def rbf_kernel(x, x_prime, gamma):\n",
    "    return np.exp(-gamma * np.linalg.norm(x - x_prime)**2)\n",
    "    \n",
    "# Testen Sie die Funktionen mit zwei Vektoren a und b\n",
    "a = np.array([2, 3])\n",
    "b = np.array([4, 5])\n",
    "\n",
    "print(\"Das Skalarprodukt im transformierten Raum ist: \", kernel(a, b))\n"
   ]
  },
  {
   "cell_type": "markdown",
   "id": "66b9ecfc-af4b-4f65-8f57-3386b8a69fcb",
   "metadata": {
    "jp-MarkdownHeadingCollapsed": true
   },
   "source": [
    "### 2.4. KNN <a name=2.4.><a>"
   ]
  },
  {
   "cell_type": "markdown",
   "id": "01538c55-7c97-4795-977a-9d19691b6993",
   "metadata": {
    "jp-MarkdownHeadingCollapsed": true
   },
   "source": [
    "##### KNN-algorithmus"
   ]
  },
  {
   "cell_type": "code",
   "execution_count": 32,
   "id": "1ec32ab6-c655-48af-afea-de42a731b548",
   "metadata": {},
   "outputs": [
    {
     "name": "stdout",
     "output_type": "stream",
     "text": [
      "[5.80344725 5.93043    5.76974869 5.37587202 5.29528092]\n",
      "Der nächste Nachbar von x ist:  ((-6.8, 6), 3)\n"
     ]
    }
   ],
   "source": [
    "import numpy as np\n",
    "from scipy.spatial import distance\n",
    "\n",
    "def nearestk(D, x_new, k):\n",
    "    # Extrahieren Sie die Punkte aus D\n",
    "    points = np.array([x for x, y in D])\n",
    "    \n",
    "    # Berechnen Sie die euklidische Distanz zwischen x und allen Punkten in D\n",
    "    distances = np.array([distance.euclidean(x_new, point) for point in points])\n",
    "\n",
    "    print(distances)\n",
    "\n",
    "    # Finden Sie den Index des nächsten Nachbarn\n",
    "    nn_index = np.argmin(distances)\n",
    "    \n",
    "    # Der nächste Nachbar\n",
    "    nearest_neighbor = D[nn_index]\n",
    "    \n",
    "    print(\"Der nächste Nachbar von x ist: \", nearest_neighbor)\n",
    "\n",
    "# Testen der Funktion\n",
    "D = [\n",
    "    ((-2, 1), 1),\n",
    "    ((-1.9, 1.4), 1),\n",
    "    ((-2.6, 3.3), 2),\n",
    "    ((-3.9, 4.5), 2),\n",
    "    ((-6.8, 6), 3)\n",
    "]\n",
    "x = np.array([-7.8, 0.8])\n",
    "k = 2\n",
    "\n",
    "nearestk(D, x, k)\n"
   ]
  },
  {
   "cell_type": "markdown",
   "id": "7ed7dc2c-19ca-47e3-b5ca-6a913be5a70b",
   "metadata": {
    "jp-MarkdownHeadingCollapsed": true
   },
   "source": [
    "##### Anwenden der Z-Transformation auf jedes Merkmal\n"
   ]
  },
  {
   "cell_type": "code",
   "execution_count": 10,
   "id": "2b8d23a3-3e20-4c01-9f82-6bbea5045b35",
   "metadata": {},
   "outputs": [
    {
     "name": "stdout",
     "output_type": "stream",
     "text": [
      "Mittelwerte der Merkmale:  [13.7 23.8]\n",
      "Standardabweichungen der Merkmale:  [ 2.1        15.03861696]\n"
     ]
    }
   ],
   "source": [
    "import numpy as np\n",
    "\n",
    "# Datensatz\n",
    "D = [\n",
    "    ((12, 12), 'Hund'),\n",
    "    ((13, 34), 'Hund'),\n",
    "    ((16, 30), 'Wolf'),\n",
    "    ((14, 15), 'Dingo'),\n",
    "    ((15, 39), 'Wolf'),\n",
    "    ((15, 13), 'Dingo'),\n",
    "    ((10, 5), 'Hund'),\n",
    "    ((17, 56), 'Wolf'),\n",
    "    ((14, 11), 'Dingo'),\n",
    "    ((11, 23), 'Hund')\n",
    "]\n",
    "\n",
    "# Trennen Sie die Merkmale und die Ziele\n",
    "features = np.array([item[0] for item in D])\n",
    "targets = np.array([item[1] for item in D])\n",
    "\n",
    "# Berechnen Sie den Mittelwert und die Standardabweichung für jedes Merkmal\n",
    "mean_features = np.mean(features, axis=0)\n",
    "std_features = np.std(features, axis=0)\n",
    "\n",
    "print(\"Mittelwerte der Merkmale: \", mean_features)\n",
    "print(\"Standardabweichungen der Merkmale: \", std_features)\n"
   ]
  },
  {
   "cell_type": "code",
   "execution_count": 12,
   "id": "fd31a8d5-d8a8-4c63-8f5b-58b9106a90a4",
   "metadata": {},
   "outputs": [
    {
     "name": "stdout",
     "output_type": "stream",
     "text": [
      "Z-transformierter Datensatz:  [((-0.8095238095238092, -0.7846466223058651), 'Hund'), ((-0.333333333333333, 0.6782538599593071), 'Hund'), ((1.0952380952380956, 0.4122719540929121), 'Wolf'), ((0.14285714285714318, -0.5851601929060689), 'Dingo'), ((0.6190476190476194, 1.0107312422923007), 'Wolf'), ((0.6190476190476194, -0.7181511458392664), 'Dingo'), ((-1.7619047619047614, -1.2501149575720563), 'Hund'), ((1.5714285714285716, 2.1411543422244796), 'Wolf'), ((0.14285714285714318, -0.8511420987724638), 'Dingo'), ((-1.2857142857142854, -0.05319638117327904), 'Hund')]\n"
     ]
    }
   ],
   "source": [
    "# Anwenden der Z-Transformation auf jedes Merkmal\n",
    "z_transformed_features = (features - mean_features) / std_features\n",
    "\n",
    "# Kombinieren Sie die Z-transformierten Merkmale mit den Zielen, um den Z-transformierten Datensatz zu erhalten\n",
    "z_transformed_D = [(tuple(z_feature), target) for z_feature, target in zip(z_transformed_features, targets)]\n",
    "\n",
    "print(\"Z-transformierter Datensatz: \", z_transformed_D)"
   ]
  },
  {
   "cell_type": "markdown",
   "id": "87496ba0-5baf-42b2-8be6-b807ae2297a4",
   "metadata": {},
   "source": [
    "##### Nächste-Nachbarn-Regression\n",
    "$$regr_{D,k}(x) = \\frac{\\sum_{y \\in nearest_k(D,x)}y}{k} = \\frac{1}{k}\\sum_{y \\in nearest_k(D,x)} y$$"
   ]
  },
  {
   "cell_type": "code",
   "execution_count": 33,
   "id": "44e1dfec-7cff-4119-84f1-011a0d477ab5",
   "metadata": {},
   "outputs": [
    {
     "name": "stdout",
     "output_type": "stream",
     "text": [
      "Der nächste Nachbar von x ist:  [((7, 29), 80), ((5, 13), 54)]\n",
      "Der vorhergesagte Wert von y(6) ist:  67.0\n"
     ]
    }
   ],
   "source": [
    "def nearestk_long(D, x, k):\n",
    "    # Extrahieren Sie die Punkte aus D\n",
    "    points = np.array([point for point, category in D])\n",
    "    \n",
    "    # Berechnen Sie die euklidische Distanz zwischen x und allen Punkten in D\n",
    "    dists = np.array([distance.euclidean(x, point) for point in points])\n",
    "    \n",
    "    # Finden Sie die Indizes der k kleinsten Distanzen\n",
    "    idx = np.argpartition(dists, k)[:k]\n",
    "    \n",
    "    # Rückgabe der k nächsten Punkte und ihrer Kategorien\n",
    "    return [D[i] for i in idx]\n",
    "    \n",
    "def NN_reg(D, x_new, k):\n",
    "    knn = nearestk_long(D, x_new, k)\n",
    "    print(\"Der nächste Nachbar von x ist: \", knn)\n",
    "    return sum(y for x,y in knn)/k\n",
    "\n",
    "D = [\n",
    "    ((5,13),54),((7,29),80),((8,-48),48),((10,3),69),((11,-21),59)\n",
    "]\n",
    "\n",
    "# Neuer Datenpunkt\n",
    "x_new = np.array([9, 59])\n",
    "k = 2\n",
    "\n",
    "print(\"Der vorhergesagte Wert von y(6) ist: \", NN_reg(D, x_new, k))"
   ]
  },
  {
   "cell_type": "markdown",
   "id": "93785fc7-50bb-46ef-ad68-a8b984aac7b5",
   "metadata": {},
   "source": [
    "### 2.5. Bayes <a name=2.6.><a>"
   ]
  },
  {
   "cell_type": "markdown",
   "id": "76b162b1-3a4f-4a8b-ae07-11b85ecea0cf",
   "metadata": {},
   "source": [
    "##### Naives Bayes klassifikator"
   ]
  },
  {
   "cell_type": "code",
   "execution_count": 2,
   "id": "ffbd33d6-110c-4735-b151-398047741703",
   "metadata": {},
   "outputs": [],
   "source": [
    "D = [(1,0,'c1'),(0,1,'c1'),(1,1,'c2'),(0,0,'c2'),(0,1,'c1')]\n",
    "\n",
    "# Zählen Sie die Anzahl der Instanzen jeder Klasse\n",
    "count_c1 = sum(1 for x in D if x[2] == 'c1')\n",
    "count_c2 = sum(1 for x in D if x[2] == 'c2')"
   ]
  },
  {
   "cell_type": "markdown",
   "id": "e0992c82-808a-44f8-913b-28b2d49cecad",
   "metadata": {},
   "source": [
    "$P(c1 ∣ D)$ und $P(c2 ∣ D)$"
   ]
  },
  {
   "cell_type": "code",
   "execution_count": 3,
   "id": "2a6e31e0-b3f5-4ce0-879b-d2124f97e60f",
   "metadata": {},
   "outputs": [
    {
     "name": "stdout",
     "output_type": "stream",
     "text": [
      "P(c1|D) = 0.6\n",
      "P(c2|D) = 0.4\n"
     ]
    }
   ],
   "source": [
    "# Berechnen Sie die bedingten Wahrscheinlichkeiten\n",
    "P_c1_given_D = count_c1 / len(D)\n",
    "P_c2_given_D = count_c2 / len(D)\n",
    "\n",
    "print(f'P(c1|D) = {P_c1_given_D}')\n",
    "print(f'P(c2|D) = {P_c2_given_D}')"
   ]
  },
  {
   "cell_type": "code",
   "execution_count": 4,
   "id": "9de947a7-c575-45c8-acb0-6b7f9c6adcbf",
   "metadata": {},
   "outputs": [
    {
     "name": "stdout",
     "output_type": "stream",
     "text": [
      "P(x1=0|c=c1,D) = 0.6666666666666666\n",
      "P(x1=0|c=c2,D) = 0.5\n",
      "P(x1=1|c=c1,D) = 0.3333333333333333\n",
      "P(x1=1|c=c2,D) = 0.5\n",
      "P(x2=0|c=c1,D) = 0.3333333333333333\n",
      "P(x2=0|c=c2,D) = 0.5\n",
      "P(x2=1|c=c1,D) = 0.6666666666666666\n",
      "P(x2=1|c=c2,D) = 0.5\n"
     ]
    }
   ],
   "source": [
    "\n",
    "# Zählen Sie die Anzahl der Instanzen jeder Merkmalsausprägung für jede Klasse\n",
    "count_x1_0_c1 = sum(1 for x in D if x[0] == 0 and x[2] == 'c1')\n",
    "count_x1_0_c2 = sum(1 for x in D if x[0] == 0 and x[2] == 'c2')\n",
    "count_x1_1_c1 = sum(1 for x in D if x[0] == 1 and x[2] == 'c1')\n",
    "count_x1_1_c2 = sum(1 for x in D if x[0] == 1 and x[2] == 'c2')\n",
    "\n",
    "count_x2_0_c1 = sum(1 for x in D if x[1] == 0 and x[2] == 'c1')\n",
    "count_x2_0_c2 = sum(1 for x in D if x[1] == 0 and x[2] == 'c2')\n",
    "count_x2_1_c1 = sum(1 for x in D if x[1] == 1 and x[2] == 'c1')\n",
    "count_x2_1_c2 = sum(1 for x in D if x[1] == 1 and x[2] == 'c2')\n",
    "\n",
    "# Berechnen Sie die Wahrscheinlichkeitsverteilungen\n",
    "P_x1_0_given_c1_D = count_x1_0_c1 / count_c1\n",
    "P_x1_0_given_c2_D = count_x1_0_c2 / count_c2\n",
    "P_x1_1_given_c1_D = count_x1_1_c1 / count_c1\n",
    "P_x1_1_given_c2_D = count_x1_1_c2 / count_c2\n",
    "\n",
    "P_x2_0_given_c1_D = count_x2_0_c1 / count_c1\n",
    "P_x2_0_given_c2_D = count_x2_0_c2 / count_c2\n",
    "P_x2_1_given_c1_D = count_x2_1_c1 / count_c1\n",
    "P_x2_1_given_c2_D = count_x2_1_c2 / count_c2\n",
    "\n",
    "# Ausgabe der Ergebnisse\n",
    "print(f'P(x1=0|c=c1,D) = {P_x1_0_given_c1_D}')\n",
    "print(f'P(x1=0|c=c2,D) = {P_x1_0_given_c2_D}')\n",
    "print(f'P(x1=1|c=c1,D) = {P_x1_1_given_c1_D}')\n",
    "print(f'P(x1=1|c=c2,D) = {P_x1_1_given_c2_D}')\n",
    "\n",
    "print(f'P(x2=0|c=c1,D) = {P_x2_0_given_c1_D}')\n",
    "print(f'P(x2=0|c=c2,D) = {P_x2_0_given_c2_D}')\n",
    "print(f'P(x2=1|c=c1,D) = {P_x2_1_given_c1_D}')\n",
    "print(f'P(x2=1|c=c2,D) = {P_x2_1_given_c2_D}')\n"
   ]
  },
  {
   "cell_type": "code",
   "execution_count": 8,
   "id": "8c7cf118-f08c-43a4-8460-d3a03aacefeb",
   "metadata": {},
   "outputs": [
    {
     "name": "stdout",
     "output_type": "stream",
     "text": [
      "clf(x1=0,x2=0,D) = c1 with probability 0.13333333333333333\n",
      "clf(x1=0,x2=0,D) = c2 with probability 0.1\n"
     ]
    }
   ],
   "source": [
    "# Definieren Sie den Datenpunkt\n",
    "x = (0, 0)\n",
    "\n",
    "# Berechnen Sie die Wahrscheinlichkeiten für jede Klasse\n",
    "P_c1_given_x_D = P_x1_0_given_c1_D * P_x2_0_given_c1_D * P_c1_given_D\n",
    "P_c2_given_x_D = P_x1_0_given_c2_D * P_x2_0_given_c2_D * P_c2_given_D\n",
    "\n",
    "'''\n",
    "# Normalisieren Sie die Wahrscheinlichkeiten, so dass sie sich zu 1 addieren\n",
    "sum_P = P_c1_given_x_D + P_c2_given_x_D\n",
    "P_c1_given_x_D /= sum_P\n",
    "P_c2_given_x_D /= sum_P\n",
    "'''\n",
    "\n",
    "# Ausgabe der Ergebnisse\n",
    "print(f'clf(x1=0,x2=0,D) = c1 with probability {P_c1_given_x_D}')\n",
    "print(f'clf(x1=0,x2=0,D) = c2 with probability {round(P_c2_given_x_D,3)}')"
   ]
  },
  {
   "cell_type": "markdown",
   "id": "34fb8722-6f82-47a1-a923-a72d1366e288",
   "metadata": {},
   "source": [
    "---\n",
    "## 5.3. RNN <a name=5.1.><a>"
   ]
  },
  {
   "cell_type": "markdown",
   "id": "0ef20847-f681-44dc-b13e-90ebbe01e9db",
   "metadata": {
    "jp-MarkdownHeadingCollapsed": true
   },
   "source": [
    "### 5.3.1. spaltenweise Konkatenation zweier Matrizen <a name=5.3.1.><a>\n",
    "\n",
    "Sei $A \\in \\mathbb{R}^{n \\times m}$ und $B \\in \\mathbb{R}^{n \\times m'}$ zwei Matrizen mit gleicher Anzahl an Zeilen, so ist $A \\circ B \\in \\mathbb{R}^{n \\times (m + m')}$ die entsprechende Konkatenation:"
   ]
  },
  {
   "cell_type": "code",
   "execution_count": null,
   "id": "7917a1c0-3a58-4129-ab00-d9cde58459eb",
   "metadata": {},
   "outputs": [],
   "source": [
    "# Erstellen Sie die Matrizen A und B mit Dummy-Zahlen\n",
    "A = np.array([[1, 2, 3], \n",
    "              [4, 5, 6], \n",
    "              [7, 8, 9]])\n",
    "\n",
    "B = np.array([[10, 11, 12], \n",
    "              [13, 14, 15], \n",
    "              [16, 17, 18]])\n",
    "\n",
    "# Führen Sie die Konkatenation durch\n",
    "AB = np.concatenate((A, B), axis=1)\n",
    "print(AB)\n",
    "\n",
    "# Erstellen Sie die Vektoren v und w mit Dummy-Zahlen\n",
    "v = np.array([1, 2, 3])  # v = (v1, ..., vm)^T\n",
    "w = np.array([4, 5, 6])  # w = (w1, ..., wm')^T\n",
    "\n",
    "# Führen Sie die Konkatenation durch\n",
    "vw = np.concatenate((v, w))\n",
    "print(\"v ◦ w =\", vw)"
   ]
  },
  {
   "cell_type": "markdown",
   "id": "ebe44ddc-6fc8-47a8-9048-bdad3c010d90",
   "metadata": {},
   "source": [
    "Vergewissern Sie sich, dass für die obigen Definition gilt $(A \\circ B)(v \\circ w) = Av + Bw$."
   ]
  },
  {
   "cell_type": "code",
   "execution_count": null,
   "id": "f33bf573-d301-4809-866e-9711d253597d",
   "metadata": {},
   "outputs": [],
   "source": [
    "result1 = np.dot(AB,vw)\n",
    "result2 = np.dot(A,v) + np.dot(B,w)\n",
    "print(result1 == result2)"
   ]
  },
  {
   "cell_type": "markdown",
   "id": "51772525-0900-4237-bb78-faa53dd26d72",
   "metadata": {},
   "source": [
    "### 5.3.2. One-Hot-Codierung <a name=5.3.2.><a>\n"
   ]
  },
  {
   "cell_type": "markdown",
   "id": "eb6195b0-7376-4847-8bd3-254cc55853f2",
   "metadata": {},
   "source": [
    "Sei ein Alphabet gegeben durch\n",
    "\n",
    "Σ={a,e,s,t}\n",
    "\n",
    "1. Bestimmen Sie eine One-Hot-Codierung für Σ\n",
    ". (Anwortformat '(1,2,3,4,5,6)', Vektorlänge ist selbst zu wä\n",
    "2. Wie ist demnach das Wort test\n",
    " codiert \n",
    "\n",
    "(Anwortformat '((1,2,3,4,5,6),(7,8,9))')\n",
    "#### Lösung\n",
    "- a: (1, 0, 0, 0)\n",
    "- e: (0, 1, 0, 0)\n",
    "- s: (0, 0, 1, 0)\n",
    "- t: (0, 0, 0, 1)\n",
    "\n",
    "Unter Verwendung der zuvor definierten One-Hot-Codierung für das Alphabet Σ={a,e,s,t}, wird das Wort \"test\" wie folgt codiert:\n",
    "\n",
    "- t: (0, 0, 0, 1)\n",
    "- e: (0, 1, 0, 0)\n",
    "- s: (0, 0, 1, 0)\n",
    "- t: (0, 0, 0, 1)\n",
    "\n",
    "Daher ist die Codierung des Wortes \"test\" in dem von Ihnen angegebenen Antwortformat:\n",
    "\n",
    "((0, 0, 0, 1), (0, 1, 0, 0), (0, 0, 1, 0), (0, 0, 0, 1))"
   ]
  },
  {
   "cell_type": "markdown",
   "id": "7df485f3-6e46-4c86-9452-28009fadc40a",
   "metadata": {},
   "source": [
    "### 5.3.3. Berechnungsgraphen <a name=5.3.3.><a>\n",
    "Im Allgemeinen gilt für eine Eingabe $x = (x^{(1)}, \\ldots, x^{(m)})$:\n",
    "\n",
    "$$\n",
    "h(i) = \\text{act}(Ux^{(i)} + Wh^{(i-1)}) \\quad \\text{(1)}\n",
    "$$ <a name=hi><a>\n",
    "\n",
    "$$\n",
    "o(i) = \\text{act}(Vh^{(i)}) \\quad \\text{(2)}\n",
    "$$<a name=oi><a>\n",
    "\n",
    "für $i = 1, \\ldots, m$. Zu beachten ist, dass diese Netzwerkarchitektur mit Eingaben beliebiger Länge umgehen kann, aber eine fixe Anzahl an Parametern besitzt (in den Matrizen $U$, $V$, $W$)."
   ]
  },
  {
   "cell_type": "markdown",
   "id": "fda19404-0a03-4c6c-b27b-c2d4602fbeab",
   "metadata": {},
   "source": [
    "Gegeben sei das abgebildete einfache RNN, wobei\n",
    "\n",
    "$$\\sum = \\{\\text{ist,nichts,niemand}\\} = \\{(1,0,0)^T,(0,1,0)^T,(0,0,1)^T\\}$$\n",
    "$$U= ((0, 0.9, 0.9), (0.5, 0.1, 0), (0.5, 0, 0.1))$$\n",
    "$$W = ((0, 0.45, 0.45), (0.25, 0.05, 0), (0.25, 0, 0.05))$$\n",
    "$$V = ((0.5, 0, 0), (0, 0.5, 0), (0, 0, 0.5))$$\n",
    "$$h_0 = (0,1,1)^T$$\n",
    "\n",
    "und die Aktivierungsfunktion $h^{relu}$ ist. Berechnen Sie die hidden states und die Ausgabe für die Eingabe $x = \\text{'Niemand ist'} = ((0,0,1)^T,(1,0,0)^T)$. \n",
    "(Antwortformat '(1,2,3.456)')"
   ]
  },
  {
   "cell_type": "code",
   "execution_count": null,
   "id": "23528f1d-cd8f-4d9b-ba19-82de0847422c",
   "metadata": {},
   "outputs": [],
   "source": [
    "import numpy as np\n",
    "\n",
    "def hrelu(x):\n",
    "    return np.maximum(0, x)\n",
    "\n",
    "U = np.array([[0, 0.9, 0.9], [0.5, 0.1, 0], [0.5, 0, 0.1]])\n",
    "W = np.array([[0, 0.45, 0.45], [0.25, 0.05, 0], [0.25, 0, 0.05]])\n",
    "V = np.array([[0.5, 0, 0], [0, 0.5, 0], [0, 0, 0.5]])\n",
    "h_0 = np.array([0,1,1]).T\n",
    "x = np.array([[0,0,1],[1,0,0]]).T\n",
    "\n",
    "h_1 = hrelu(np.dot(U, x[:,0]) + np.dot(W, h_0))\n",
    "h_2 = hrelu(np.dot(U, x[:,1]) + np.dot(W, h_1))\n",
    "\n",
    "o_1 = hrelu(np.dot(V, h_1))\n",
    "o_2 = hrelu(np.dot(V, h_2))\n",
    "\n",
    "print(\"h_1: \", h_1)\n",
    "print(\"h_2: \", h_2)\n",
    "print(\"o_1: \", o_1)\n",
    "print(\"o_2: \", o_2)\n"
   ]
  },
  {
   "cell_type": "markdown",
   "id": "6c04919f-d436-4682-8ff6-3929da2c6e77",
   "metadata": {
    "jp-MarkdownHeadingCollapsed": true
   },
   "source": [
    "### 5.3.4. Long short-term memory-Netzwerke <a name=5.3.4.><a>\n"
   ]
  },
  {
   "cell_type": "markdown",
   "id": "36bce749-40b6-4918-998d-004268a7c519",
   "metadata": {},
   "source": [
    "$$f^{(i)} = h^{logit} (U^f x^{(i)} + W^f h^{(i−1)})$$\n",
    "- Der Vektor $f^{(i)}$ soll steuern, was aus dem Langzeitgedächtnis `s` vergessen werden soll (auch als **forget gate** bezeichnet).\n",
    "\n",
    "$$g^{(i)} = h^{logit} (U^g x^{(i)} + W^g h^{(i−1)})$$\n",
    "$$k^{(i)} = h^{tanh} (U^k x^{(i)} + W^k h^{(i−1)})$$\n",
    "- Der Vektor $g^{(i)}$ (**input gate**) steuert, welche Informationen aus $k^{(i)}$ in das Langzeitgedächtnis aufgenommen werden sollen.\n",
    "$$q^{(i)} = h^{logit} (U^o x^{(i)} + W^o h^{(i−1)})$$\n",
    "- Der Vektor $q^{(i)}$ (**output gate**) steuert, welche Information in die Ausgabe und den nächsten versteckten Zustand $h^{(i)}$ einfließt.\n",
    "\n",
    "- Die Kernidee hinter LSTMs liegt in der Definition des Zellzustands: $$s^{(i)} = f^{(i)} \\cdot s^{(i-1)} + g^{(i)} \\cdot k^{(i)}$$"
   ]
  },
  {
   "cell_type": "code",
   "execution_count": null,
   "id": "60a88a14-5f08-468d-aba0-11eacee21d76",
   "metadata": {},
   "outputs": [],
   "source": []
  }
 ],
 "metadata": {
  "kernelspec": {
   "display_name": "Python 3 (ipykernel)",
   "language": "python",
   "name": "python3"
  },
  "language_info": {
   "codemirror_mode": {
    "name": "ipython",
    "version": 3
   },
   "file_extension": ".py",
   "mimetype": "text/x-python",
   "name": "python",
   "nbconvert_exporter": "python",
   "pygments_lexer": "ipython3",
   "version": "3.11.3"
  }
 },
 "nbformat": 4,
 "nbformat_minor": 5
}
