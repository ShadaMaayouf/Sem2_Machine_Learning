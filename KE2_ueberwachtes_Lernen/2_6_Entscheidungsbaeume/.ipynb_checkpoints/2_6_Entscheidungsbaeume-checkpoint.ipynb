{
 "cells": [
  {
   "cell_type": "markdown",
   "id": "d6bf00e0-0feb-47ce-87ec-69d1dc66bf58",
   "metadata": {},
   "source": [
    "# 2.4. Nächste-Nachbarn-Klassifikation\n",
    "\n",
    ">## <ins>Table of contents</ins>\n",
    ">* [**2.6.1. Das Modell der Entscheidungsbäume**](#2_6_1)\n",
    ">* [**2.6.2.  Der ID3-Algorithmus**](#2_6_2)\n",
    ">* [**2.6.3. Der C4.5-Algorithmus**](#2_6_3)\n",
    ">* [**2.6.4. Zusammenfassung**](#2_6_4)\n",
    "\n",
    "## Imports"
   ]
  },
  {
   "cell_type": "code",
   "execution_count": 2,
   "id": "b365f923-eedf-4bc8-8a2f-8243f1fd6399",
   "metadata": {
    "ExecuteTime": {
     "end_time": "2024-01-21T22:37:09.255037Z",
     "start_time": "2024-01-21T22:36:59.001861Z"
    }
   },
   "outputs": [],
   "source": [
    "import pandas as pd\n",
    "import numpy as np\n",
    "from sklearn.linear_model import LinearRegression\n",
    "from sklearn.linear_model import LogisticRegression\n",
    "from sklearn.preprocessing import PolynomialFeatures\n",
    "from sklearn.model_selection import train_test_split\n",
    "from sklearn.model_selection import KFold\n",
    "from sklearn.metrics import f1_score\n",
    "from sklearn.metrics import precision_score\n",
    "from sklearn.metrics import accuracy_score\n",
    "from sklearn.metrics import recall_score\n",
    "\n",
    "import matplotlib.pyplot as plt\n"
   ]
  },
  {
   "cell_type": "markdown",
   "id": "bf58d299-a6e3-401b-8eed-1904cdb89b9a",
   "metadata": {},
   "source": [
    "## 2.6.1. Das Modell der Entscheidungsbäume <a name=\"2_6_1\"></a>\n",
    "\n",
    "**Entscheidungsbaum**\n",
    "- Ein Entscheidungsbaum ist ein gerichteter Baum.\n",
    "- Jeder Knoten stellt eine Fallunterscheidung für den Wert eines Merkmals eines gegebenen Datenpunktes dar.\n",
    "- Für jeden Fall gibt es einen eindeutigen Nachfolgerknoten.\n",
    "- Die Blätter des Baumes enthalten die möglichen Klassifikationen des betrachteten Datenpunkts.\n",
    "- Ein Pfad von der Wurzel des Entscheidungsbaums zu einem Blatt stellt eine Reihe von Entscheidungen bzgl. eines Datenpunktes dar, die zu einer Klassifikation führen.\n",
    "\n",
    "**Definition eines Entscheidungsbaums**\n",
    "- Sei $X = X_1 × ... × X_n$ der Merkmalsraum von $n$ Merkmalen und $Y$ die Menge der Klassen (oder der Zielraum bei Regressionsproblemen).\n",
    "- Ein Entscheidungsbaum $T$ für $X$ und $Y$ ist ein Tupel $T = (V,E,r)$ mit:\n",
    "    1. $(V,E)$ ist ein (abwärts) gerichteter Baum mit Wurzel r.\n",
    "    2. Ein Blattknoten $v ∈ V$ heißt auch Klassifikationsknoten mit $cl(v) ∈ Y$.\n",
    "    3. Ein innerer Knoten $v ∈ V$ heißt auch Entscheidungsknoten mit (sei ${v_1,..., v_k}$ die Menge der Nachfolger von v in T):\n",
    "        - $att(v) ∈ {1,...,n}$ ist das Entscheidungsmerkmal von v und\n",
    "        - $succ(v)$ ist eine Entscheidungsfunktion $succ(v) : X_{att(v)} → {v_1,..., v_k}$.\n",
    "\n",
    "**Klassifikation eines Datenpunkts**\n",
    "- Ist $x = (x1,..., xn)^T ∈ X_1 × ... × X_n$ ein Datenpunkt, so ist die Klassifikation von x bzgl. eines Entscheidungsbaums $T = (V,E,r)$ definiert via : \n",
    "$$clf_T(x, v) = \\begin{cases}\n",
    "   cl(v) &\\text{falls } v \\text{ ein Klassifikationsknoten ist} \\\\\n",
    "   clf_T\\left(x, succ(v)(x_{att(v)})\\right) &\\text{sonst }\n",
    "\\end{cases}\n",
    "$$\n",
    "\n",
    "**Entscheidungsfunktion**\n",
    "- Die Entscheidungsfunktion $succ(v)$ (für engl. successor) eines Entscheidungsknotens $v$ wird üblicherweise als einfacher Vergleich mit einer Konstanten realisiert (wie \"$x_i < 10$\") und $v$ besitzt dann zwei Nachfolger: einen falls der Vergleich positiv ausfällt und einen falls der Vergleich negativ ausfällt.\n",
    "- Für Merkmale mit endlich vielen Ausprägungen erhält $v$ einen Nachfolger für jede dieser Ausprägungen. \n"
   ]
  },
  {
   "cell_type": "markdown",
   "id": "8764ee17-f583-46e3-8c66-dcb31f559f45",
   "metadata": {},
   "source": [
    "### **Beispiel 1**\n",
    "\n",
    "Wir betrachten wieder den Datensatz $D_{\\text{apartment}}$ von Beispiel 2 aus Unterkapitel 2.2. Der Datensatz ist noch einmal in der folgenden Tabelle dargestellt.\n"
   ]
  },
  {
   "cell_type": "code",
   "execution_count": 3,
   "id": "2d31b5c0-fb2a-4188-be56-1116221208d0",
   "metadata": {},
   "outputs": [
    {
     "data": {
      "text/html": [
       "<div>\n",
       "<style scoped>\n",
       "    .dataframe tbody tr th:only-of-type {\n",
       "        vertical-align: middle;\n",
       "    }\n",
       "\n",
       "    .dataframe tbody tr th {\n",
       "        vertical-align: top;\n",
       "    }\n",
       "\n",
       "    .dataframe thead th {\n",
       "        text-align: right;\n",
       "    }\n",
       "</style>\n",
       "<table border=\"1\" class=\"dataframe\">\n",
       "  <thead>\n",
       "    <tr style=\"text-align: right;\">\n",
       "      <th></th>\n",
       "      <th>size</th>\n",
       "      <th>dist</th>\n",
       "      <th>ok</th>\n",
       "    </tr>\n",
       "  </thead>\n",
       "  <tbody>\n",
       "    <tr>\n",
       "      <th>0</th>\n",
       "      <td>40</td>\n",
       "      <td>4</td>\n",
       "      <td>1</td>\n",
       "    </tr>\n",
       "    <tr>\n",
       "      <th>1</th>\n",
       "      <td>30</td>\n",
       "      <td>3</td>\n",
       "      <td>1</td>\n",
       "    </tr>\n",
       "    <tr>\n",
       "      <th>2</th>\n",
       "      <td>45</td>\n",
       "      <td>8</td>\n",
       "      <td>0</td>\n",
       "    </tr>\n",
       "    <tr>\n",
       "      <th>3</th>\n",
       "      <td>35</td>\n",
       "      <td>6</td>\n",
       "      <td>0</td>\n",
       "    </tr>\n",
       "    <tr>\n",
       "      <th>4</th>\n",
       "      <td>20</td>\n",
       "      <td>4</td>\n",
       "      <td>0</td>\n",
       "    </tr>\n",
       "    <tr>\n",
       "      <th>5</th>\n",
       "      <td>50</td>\n",
       "      <td>7</td>\n",
       "      <td>1</td>\n",
       "    </tr>\n",
       "    <tr>\n",
       "      <th>6</th>\n",
       "      <td>30</td>\n",
       "      <td>4</td>\n",
       "      <td>0</td>\n",
       "    </tr>\n",
       "    <tr>\n",
       "      <th>7</th>\n",
       "      <td>45</td>\n",
       "      <td>4</td>\n",
       "      <td>1</td>\n",
       "    </tr>\n",
       "    <tr>\n",
       "      <th>8</th>\n",
       "      <td>40</td>\n",
       "      <td>5</td>\n",
       "      <td>0</td>\n",
       "    </tr>\n",
       "    <tr>\n",
       "      <th>9</th>\n",
       "      <td>25</td>\n",
       "      <td>1</td>\n",
       "      <td>1</td>\n",
       "    </tr>\n",
       "  </tbody>\n",
       "</table>\n",
       "</div>"
      ],
      "text/plain": [
       "   size  dist  ok\n",
       "0    40     4   1\n",
       "1    30     3   1\n",
       "2    45     8   0\n",
       "3    35     6   0\n",
       "4    20     4   0\n",
       "5    50     7   1\n",
       "6    30     4   0\n",
       "7    45     4   1\n",
       "8    40     5   0\n",
       "9    25     1   1"
      ]
     },
     "execution_count": 3,
     "metadata": {},
     "output_type": "execute_result"
    }
   ],
   "source": [
    "D_apartment = pd.DataFrame({\n",
    "    'size': [40, 30, 45, 35, 20, 50, 30, 45, 40, 25],\n",
    "    'dist': [4, 3, 8, 6, 4, 7, 4, 4, 5, 1],\n",
    "    'ok': [1, 1, 0, 0, 0, 1, 0, 1, 0, 1]\n",
    "})\n",
    "D_apartment"
   ]
  },
  {
   "cell_type": "markdown",
   "id": "806a1f9d-1bd9-4500-a2bd-258f35a8697d",
   "metadata": {},
   "source": [
    "Ein zu $D_{\\text{apartment}}$ passender Entscheidungsbaum $T_{\\text{apartment}}$ ist definiert durch:"
   ]
  },
  {
   "cell_type": "code",
   "execution_count": 11,
   "id": "40c9b543-16be-47f0-b9a2-44b85f6f80fd",
   "metadata": {},
   "outputs": [
    {
     "name": "stdout",
     "output_type": "stream",
     "text": [
      "Genauigkeit: 1.0\n"
     ]
    },
    {
     "data": {
      "image/png": "[encoded data removed]",
      "text/plain": [
       "<Figure size 640x480 with 1 Axes>"
      ]
     },
     "metadata": {},
     "output_type": "display_data"
    }
   ],
   "source": [
    "from sklearn.datasets import make_classification\n",
    "import sklearn.metrics as metrics\n",
    "from sklearn import tree\n",
    "\n",
    "# Convert DataFrame to numpy arrays for processing\n",
    "X = D_apartment.iloc[:, :-1].values\n",
    "y = D_apartment.iloc[:, -1].values\n",
    "\n",
    "clf = tree.DecisionTreeClassifier().fit(X, y)\n",
    "y_pred = clf.predict(X)\n",
    "tree.plot_tree(clf,proportion=True)\n",
    "\n",
    "print(\"Genauigkeit: \"+ str(metrics.accuracy_score(y,y_pred)))"
   ]
  },
  {
   "cell_type": "markdown",
   "id": "ee956cc7-22a2-4fde-9447-fb97aad33c71",
   "metadata": {},
   "source": [
    "![image.png](./Uebung_2_6/Entscheidungsbaum_D_apartments.PNG)\n",
    "\n",
    "Wir erhalten ein Entscheidungsbaums `clf` namens $T_{apartment} = (V_{apartment}, E_{apartment}, v_1)$ mit:\n",
    "\n",
    "- $V_apartment = {v_1,..., v_9}$: Dies definiert die Menge der Knoten im Baum. Es gibt insgesamt 9 Knoten, die als `v1` bis `v9` bezeichnet werden.\n",
    "- $E_apartment = {(v_1, v_2),(v_1, v_3),(v_3, v_4),(v_3, v_5),(v_5, v_6),(v_5, v_7),(v_7, v_8),(v_7, v_9)}$: Dies definiert die Kanten des Baums, d.h., die Verbindungen zwischen den Knoten. Jedes Paar $(v_i, v_j)$ repräsentiert eine Kante vom Knoten $v_i$ zum Knoten $v_j$.\n",
    "- $cl(v_i) = x$: Dies definiert die Klassifikation (Ausgabe) des Knotens $v_i$. Wenn ein Datenpunkt zu diesem Knoten gelangt, wird er als Klasse $x$ klassifiziert.\n",
    "$$cl(v2) = 1$$\n",
    "$$cl(v4) = 0$$\n",
    "$$cl(v6) = 1$$\n",
    "$$cl(v8) = 0$$\n",
    "$$cl(v9) = 1$$\n",
    "- $att(v_i) = x$: Dies definiert das Attribut, nach dem am Knoten $v_i$ geteilt wird. In Ihrem Beispiel sind die Attribute numerisch, daher repräsentiert $x$ den Index des Attributs in den Datenpunkten. Wenn Sie beispielsweise einen Datensatz mit den Attributen Alter, Einkommen und Bildungsniveau haben und Sie nach dem Alter (dem ersten Attribut im Datensatz) teilen möchten, wäre $x=1$. Wenn Sie nach dem Einkommen (dem zweiten Attribut) teilen möchten, wäre $x=2$, und so weiter.\n",
    "$$att(v1) = 2$$\n",
    "$$att(v3) = 1$$\n",
    "$$att(v5) = 2$$\n",
    "$$att(v7) = 1$$\n",
    "\n",
    "- $succ(v_i)(z)$: Dies definiert die Nachfolgerfunktion am Knoten $v_i$. Sie bestimmt, zu welchem Nachfolgerknoten wir gehen, basierend auf dem Wert $z$ des Attributs am Knoten `vi`. In Ihrem Beispiel ist die Nachfolgerfunktion eine einfache Bedingung auf $z$.\n",
    "$$att(v1) = 2$$\n",
    "$$succ(v1)(z) = \n",
    "    \\begin{cases} \n",
    "    v2 &\\text{falls } z < 4 \\\\\n",
    "    v3 &\\text{sonst}\n",
    "    \\end{cases}$$\n",
    "\n",
    "$$att(v3) = 1$$\n",
    "$$succ(v3)(z) = \n",
    "    \\begin{cases} \n",
    "    v4 &\\text{falls } z < 37 \\\\\n",
    "    v5 &\\text{sonst}\n",
    "    \\end{cases}$$\n",
    "\n",
    "$$att(v5) = 2$$\n",
    "$$succ(v5)(z) = \n",
    "    \\begin{cases} \n",
    "    v6 &\\text{falls } z < 5 \\\\\n",
    "    v7 &\\text{sonst}\n",
    "    \\end{cases}$$\n",
    "\n",
    "$$att(v7) = 1$$\n",
    "$$succ(v7)(z) = \n",
    "    \\begin{cases} \n",
    "    v8 &\\text{falls } z < 47 \\\\\n",
    "    v9 &\\text{sonst}\n",
    "    \\end{cases}$$\n",
    "\n",
    "\n",
    "Dieser Entscheidungsbaum in der Lage ist, jeden Datenpunkt im Datensatz `D_apartment` korrekt zu klassifizieren.\n",
    "\n",
    "Es ist zu beobachten, dass der Entscheidungsbaum $T_{\\text{apartment}}$ den Datensatz $D_{\\text{apartment}}$ perfekt klassifiziert, d. h, es gilt beispielsweise $$F_{10}(D_{\\text{apartment}}, clf_{T_{\\text{apartment}}}) = F_{11}(D_{\\text{apartment}}, clf_{T_{\\text{apartment}}}) = 1$$\n"
   ]
  },
  {
   "cell_type": "code",
   "execution_count": 12,
   "id": "a654258a-7101-40b7-95c0-a7a9c68ecb90",
   "metadata": {},
   "outputs": [
    {
     "name": "stdout",
     "output_type": "stream",
     "text": [
      "F1-Score für Klasse 0:  1.0\n",
      "F1-Score für Klasse 1:  1.0\n"
     ]
    }
   ],
   "source": [
    "# Berechnung der F1-Scores für jede Klasse\n",
    "f1_score_0 = f1_score(y, y_pred, pos_label=0)\n",
    "f1_score_1 = f1_score(y, y_pred, pos_label=1)\n",
    "\n",
    "print(\"F1-Score für Klasse 0: \", f1_score_0)\n",
    "print(\"F1-Score für Klasse 1: \", f1_score_1)"
   ]
  },
  {
   "cell_type": "markdown",
   "id": "647c9a60-1e76-43dd-ae04-d7a1841805ac",
   "metadata": {},
   "source": [
    "`clf` ist jetzt ein angepasster Entscheidungsbaum. Wir können damit die Klasse neuer Instanzen vorhersagen:"
   ]
  },
  {
   "cell_type": "code",
   "execution_count": 13,
   "id": "a525dd73-c77d-4513-a7b6-acc027f84af8",
   "metadata": {},
   "outputs": [
    {
     "name": "stdout",
     "output_type": "stream",
     "text": [
      "[1 1]\n"
     ]
    }
   ],
   "source": [
    "# Assume clf is your fitted DecisionTreeClassifier\n",
    "instances = [[40, 4], [30, 3]]  # Replace with your instances\n",
    "predictions = clf.predict(instances)\n",
    "print(predictions)"
   ]
  },
  {
   "cell_type": "markdown",
   "id": "88ff6901-8b4e-4d64-85cc-ad8652c3120c",
   "metadata": {},
   "source": [
    "### **Beispiel 2**\n",
    "\n",
    "Wir betrachten das klassische \"Tennis\"-Beispiel zu Entscheidungsbäumen, bei dem es darum geht, anhand der Wetterlage (insbesondere bzgl. Wetteransage, Temperatur, Luftfeuchtigkeit und Windstärke) vorherzusagen, ob wir Tennis spielen sollen. Die folgende Tabelle zeigt unseren Datensatz $D_{\\text{tennis}}$."
   ]
  },
  {
   "cell_type": "code",
   "execution_count": 27,
   "id": "bb2c40e9-311a-41c5-9786-8da159715852",
   "metadata": {},
   "outputs": [
    {
     "data": {
      "text/html": [
       "<div>\n",
       "<style scoped>\n",
       "    .dataframe tbody tr th:only-of-type {\n",
       "        vertical-align: middle;\n",
       "    }\n",
       "\n",
       "    .dataframe tbody tr th {\n",
       "        vertical-align: top;\n",
       "    }\n",
       "\n",
       "    .dataframe thead th {\n",
       "        text-align: right;\n",
       "    }\n",
       "</style>\n",
       "<table border=\"1\" class=\"dataframe\">\n",
       "  <thead>\n",
       "    <tr style=\"text-align: right;\">\n",
       "      <th></th>\n",
       "      <th>outlook</th>\n",
       "      <th>temperature</th>\n",
       "      <th>humidity</th>\n",
       "      <th>wind</th>\n",
       "      <th>tennis</th>\n",
       "    </tr>\n",
       "  </thead>\n",
       "  <tbody>\n",
       "    <tr>\n",
       "      <th>0</th>\n",
       "      <td>sunny</td>\n",
       "      <td>hot</td>\n",
       "      <td>high</td>\n",
       "      <td>weak</td>\n",
       "      <td>no</td>\n",
       "    </tr>\n",
       "    <tr>\n",
       "      <th>1</th>\n",
       "      <td>sunny</td>\n",
       "      <td>hot</td>\n",
       "      <td>high</td>\n",
       "      <td>strong</td>\n",
       "      <td>no</td>\n",
       "    </tr>\n",
       "    <tr>\n",
       "      <th>2</th>\n",
       "      <td>overcast</td>\n",
       "      <td>hot</td>\n",
       "      <td>high</td>\n",
       "      <td>weak</td>\n",
       "      <td>yes</td>\n",
       "    </tr>\n",
       "    <tr>\n",
       "      <th>3</th>\n",
       "      <td>rain</td>\n",
       "      <td>mild</td>\n",
       "      <td>high</td>\n",
       "      <td>weak</td>\n",
       "      <td>yes</td>\n",
       "    </tr>\n",
       "    <tr>\n",
       "      <th>4</th>\n",
       "      <td>rain</td>\n",
       "      <td>cool</td>\n",
       "      <td>normal</td>\n",
       "      <td>weak</td>\n",
       "      <td>yes</td>\n",
       "    </tr>\n",
       "    <tr>\n",
       "      <th>5</th>\n",
       "      <td>rain</td>\n",
       "      <td>cool</td>\n",
       "      <td>normal</td>\n",
       "      <td>strong</td>\n",
       "      <td>no</td>\n",
       "    </tr>\n",
       "    <tr>\n",
       "      <th>6</th>\n",
       "      <td>overcast</td>\n",
       "      <td>cool</td>\n",
       "      <td>normal</td>\n",
       "      <td>strong</td>\n",
       "      <td>yes</td>\n",
       "    </tr>\n",
       "    <tr>\n",
       "      <th>7</th>\n",
       "      <td>sunny</td>\n",
       "      <td>mild</td>\n",
       "      <td>high</td>\n",
       "      <td>weak</td>\n",
       "      <td>no</td>\n",
       "    </tr>\n",
       "    <tr>\n",
       "      <th>8</th>\n",
       "      <td>sunny</td>\n",
       "      <td>cool</td>\n",
       "      <td>normal</td>\n",
       "      <td>weak</td>\n",
       "      <td>yes</td>\n",
       "    </tr>\n",
       "    <tr>\n",
       "      <th>9</th>\n",
       "      <td>rain</td>\n",
       "      <td>mild</td>\n",
       "      <td>normal</td>\n",
       "      <td>weak</td>\n",
       "      <td>yes</td>\n",
       "    </tr>\n",
       "    <tr>\n",
       "      <th>10</th>\n",
       "      <td>sunny</td>\n",
       "      <td>mild</td>\n",
       "      <td>normal</td>\n",
       "      <td>strong</td>\n",
       "      <td>yes</td>\n",
       "    </tr>\n",
       "    <tr>\n",
       "      <th>11</th>\n",
       "      <td>overcast</td>\n",
       "      <td>mild</td>\n",
       "      <td>high</td>\n",
       "      <td>strong</td>\n",
       "      <td>yes</td>\n",
       "    </tr>\n",
       "    <tr>\n",
       "      <th>12</th>\n",
       "      <td>overcast</td>\n",
       "      <td>hot</td>\n",
       "      <td>normal</td>\n",
       "      <td>weak</td>\n",
       "      <td>yes</td>\n",
       "    </tr>\n",
       "    <tr>\n",
       "      <th>13</th>\n",
       "      <td>rain</td>\n",
       "      <td>mild</td>\n",
       "      <td>high</td>\n",
       "      <td>strong</td>\n",
       "      <td>no</td>\n",
       "    </tr>\n",
       "  </tbody>\n",
       "</table>\n",
       "</div>"
      ],
      "text/plain": [
       "     outlook temperature humidity    wind tennis\n",
       "0      sunny         hot     high    weak     no\n",
       "1      sunny         hot     high  strong     no\n",
       "2   overcast         hot     high    weak    yes\n",
       "3       rain        mild     high    weak    yes\n",
       "4       rain        cool   normal    weak    yes\n",
       "5       rain        cool   normal  strong     no\n",
       "6   overcast        cool   normal  strong    yes\n",
       "7      sunny        mild     high    weak     no\n",
       "8      sunny        cool   normal    weak    yes\n",
       "9       rain        mild   normal    weak    yes\n",
       "10     sunny        mild   normal  strong    yes\n",
       "11  overcast        mild     high  strong    yes\n",
       "12  overcast         hot   normal    weak    yes\n",
       "13      rain        mild     high  strong     no"
      ]
     },
     "execution_count": 27,
     "metadata": {},
     "output_type": "execute_result"
    }
   ],
   "source": [
    "import pandas as pd\n",
    "\n",
    "D_tennis = pd.read_csv(\"./dataset/dataset_tennis.csv\")\n",
    "D_tennis"
   ]
  },
  {
   "cell_type": "code",
   "execution_count": 34,
   "id": "e01078bb-71a4-4a19-afe6-239c248bde13",
   "metadata": {},
   "outputs": [
    {
     "data": {
      "text/html": [
       "<div>\n",
       "<style scoped>\n",
       "    .dataframe tbody tr th:only-of-type {\n",
       "        vertical-align: middle;\n",
       "    }\n",
       "\n",
       "    .dataframe tbody tr th {\n",
       "        vertical-align: top;\n",
       "    }\n",
       "\n",
       "    .dataframe thead th {\n",
       "        text-align: right;\n",
       "    }\n",
       "</style>\n",
       "<table border=\"1\" class=\"dataframe\">\n",
       "  <thead>\n",
       "    <tr style=\"text-align: right;\">\n",
       "      <th></th>\n",
       "      <th>outlook</th>\n",
       "      <th>temperature</th>\n",
       "      <th>humidity</th>\n",
       "      <th>wind</th>\n",
       "      <th>tennis</th>\n",
       "    </tr>\n",
       "  </thead>\n",
       "  <tbody>\n",
       "    <tr>\n",
       "      <th>0</th>\n",
       "      <td>2</td>\n",
       "      <td>1</td>\n",
       "      <td>0</td>\n",
       "      <td>1</td>\n",
       "      <td>0</td>\n",
       "    </tr>\n",
       "    <tr>\n",
       "      <th>1</th>\n",
       "      <td>2</td>\n",
       "      <td>1</td>\n",
       "      <td>0</td>\n",
       "      <td>0</td>\n",
       "      <td>0</td>\n",
       "    </tr>\n",
       "    <tr>\n",
       "      <th>2</th>\n",
       "      <td>0</td>\n",
       "      <td>1</td>\n",
       "      <td>0</td>\n",
       "      <td>1</td>\n",
       "      <td>1</td>\n",
       "    </tr>\n",
       "    <tr>\n",
       "      <th>3</th>\n",
       "      <td>1</td>\n",
       "      <td>2</td>\n",
       "      <td>0</td>\n",
       "      <td>1</td>\n",
       "      <td>1</td>\n",
       "    </tr>\n",
       "    <tr>\n",
       "      <th>4</th>\n",
       "      <td>1</td>\n",
       "      <td>0</td>\n",
       "      <td>1</td>\n",
       "      <td>1</td>\n",
       "      <td>1</td>\n",
       "    </tr>\n",
       "    <tr>\n",
       "      <th>5</th>\n",
       "      <td>1</td>\n",
       "      <td>0</td>\n",
       "      <td>1</td>\n",
       "      <td>0</td>\n",
       "      <td>0</td>\n",
       "    </tr>\n",
       "    <tr>\n",
       "      <th>6</th>\n",
       "      <td>0</td>\n",
       "      <td>0</td>\n",
       "      <td>1</td>\n",
       "      <td>0</td>\n",
       "      <td>1</td>\n",
       "    </tr>\n",
       "    <tr>\n",
       "      <th>7</th>\n",
       "      <td>2</td>\n",
       "      <td>2</td>\n",
       "      <td>0</td>\n",
       "      <td>1</td>\n",
       "      <td>0</td>\n",
       "    </tr>\n",
       "    <tr>\n",
       "      <th>8</th>\n",
       "      <td>2</td>\n",
       "      <td>0</td>\n",
       "      <td>1</td>\n",
       "      <td>1</td>\n",
       "      <td>1</td>\n",
       "    </tr>\n",
       "    <tr>\n",
       "      <th>9</th>\n",
       "      <td>1</td>\n",
       "      <td>2</td>\n",
       "      <td>1</td>\n",
       "      <td>1</td>\n",
       "      <td>1</td>\n",
       "    </tr>\n",
       "    <tr>\n",
       "      <th>10</th>\n",
       "      <td>2</td>\n",
       "      <td>2</td>\n",
       "      <td>1</td>\n",
       "      <td>0</td>\n",
       "      <td>1</td>\n",
       "    </tr>\n",
       "    <tr>\n",
       "      <th>11</th>\n",
       "      <td>0</td>\n",
       "      <td>2</td>\n",
       "      <td>0</td>\n",
       "      <td>0</td>\n",
       "      <td>1</td>\n",
       "    </tr>\n",
       "    <tr>\n",
       "      <th>12</th>\n",
       "      <td>0</td>\n",
       "      <td>1</td>\n",
       "      <td>1</td>\n",
       "      <td>1</td>\n",
       "      <td>1</td>\n",
       "    </tr>\n",
       "    <tr>\n",
       "      <th>13</th>\n",
       "      <td>1</td>\n",
       "      <td>2</td>\n",
       "      <td>0</td>\n",
       "      <td>0</td>\n",
       "      <td>0</td>\n",
       "    </tr>\n",
       "  </tbody>\n",
       "</table>\n",
       "</div>"
      ],
      "text/plain": [
       "    outlook  temperature  humidity  wind  tennis\n",
       "0         2            1         0     1       0\n",
       "1         2            1         0     0       0\n",
       "2         0            1         0     1       1\n",
       "3         1            2         0     1       1\n",
       "4         1            0         1     1       1\n",
       "5         1            0         1     0       0\n",
       "6         0            0         1     0       1\n",
       "7         2            2         0     1       0\n",
       "8         2            0         1     1       1\n",
       "9         1            2         1     1       1\n",
       "10        2            2         1     0       1\n",
       "11        0            2         0     0       1\n",
       "12        0            1         1     1       1\n",
       "13        1            2         0     0       0"
      ]
     },
     "execution_count": 34,
     "metadata": {},
     "output_type": "execute_result"
    }
   ],
   "source": [
    "from sklearn.preprocessing import LabelEncoder\n",
    "\n",
    "D_tennis = D_tennis.apply(LabelEncoder().fit_transform) #X_enc = preprocessing.OrdinalEncoder().fit_transform(X)\n",
    "D_tennis"
   ]
  },
  {
   "cell_type": "markdown",
   "id": "5748df8f-c6b5-41d7-89ab-c8a3f87bdf50",
   "metadata": {},
   "source": [
    "Ein Entscheidungsbaum $T_{\\text{tennis}}$, der $D_{\\text{tennis}}$ perfekt klassifiziert, ist im folgenden dargestellt (wir verzichten hier auf die formale Darstellung des Entscheidungsbaums). Beachten Sie in diesem Beispiel, dass nicht alle Merkmale für die Klassifikation erforderlich sind (es gibt keinen Entscheidungsknoten für Temperatur).\n",
    "![image.png](./Uebung_2_6/Entscheidungsbaum_D_Tennis.PNG)\n"
   ]
  },
  {
   "cell_type": "code",
   "execution_count": 31,
   "id": "71c3c705-1eed-41e6-a026-eb816e0d07dd",
   "metadata": {},
   "outputs": [
    {
     "data": {
      "text/plain": [
       "[Text(0.4444444444444444, 0.9, 'x[0] <= 0.5\\ngini = 0.459\\nsamples = 100.0%\\nvalue = [0.357, 0.643]'),\n",
       " Text(0.3333333333333333, 0.7, 'gini = 0.0\\nsamples = 28.6%\\nvalue = [0.0, 1.0]'),\n",
       " Text(0.5555555555555556, 0.7, 'x[1] <= 0.5\\ngini = 0.5\\nsamples = 71.4%\\nvalue = [0.5, 0.5]'),\n",
       " Text(0.3333333333333333, 0.5, 'x[0] <= 1.5\\ngini = 0.32\\nsamples = 35.7%\\nvalue = [0.8, 0.2]'),\n",
       " Text(0.2222222222222222, 0.3, 'x[2] <= 0.5\\ngini = 0.5\\nsamples = 14.3%\\nvalue = [0.5, 0.5]'),\n",
       " Text(0.1111111111111111, 0.1, 'gini = 0.0\\nsamples = 7.1%\\nvalue = [1.0, 0.0]'),\n",
       " Text(0.3333333333333333, 0.1, 'gini = 0.0\\nsamples = 7.1%\\nvalue = [0.0, 1.0]'),\n",
       " Text(0.4444444444444444, 0.3, 'gini = 0.0\\nsamples = 21.4%\\nvalue = [1.0, 0.0]'),\n",
       " Text(0.7777777777777778, 0.5, 'x[2] <= 0.5\\ngini = 0.32\\nsamples = 35.7%\\nvalue = [0.2, 0.8]'),\n",
       " Text(0.6666666666666666, 0.3, 'x[0] <= 1.5\\ngini = 0.5\\nsamples = 14.3%\\nvalue = [0.5, 0.5]'),\n",
       " Text(0.5555555555555556, 0.1, 'gini = 0.0\\nsamples = 7.1%\\nvalue = [1.0, 0.0]'),\n",
       " Text(0.7777777777777778, 0.1, 'gini = 0.0\\nsamples = 7.1%\\nvalue = [0.0, 1.0]'),\n",
       " Text(0.8888888888888888, 0.3, 'gini = 0.0\\nsamples = 21.4%\\nvalue = [0.0, 1.0]')]"
      ]
     },
     "execution_count": 31,
     "metadata": {},
     "output_type": "execute_result"
    },
    {
     "data": {
      "image/png": "[encoded data removed]",
      "text/plain": [
       "<Figure size 640x480 with 1 Axes>"
      ]
     },
     "metadata": {},
     "output_type": "display_data"
    }
   ],
   "source": [
    "X = D_tennis.iloc[:, 0:-1].values\n",
    "y = D_tennis.iloc[:, 4].values\n",
    "\n",
    "clf = tree.DecisionTreeClassifier().fit(X, y)\n",
    "tree.plot_tree(clf,proportion=True)"
   ]
  },
  {
   "cell_type": "markdown",
   "id": "25b432d4-ba3a-422e-9263-2c2899d6b3ab",
   "metadata": {},
   "source": [
    "<ins>Das Lernen eines Entscheidungsbaums erfolgt in der Regel durch spezielle prozedurale Algorithmen</ins> und nicht durch die Lösung eines Optimierungsproblems, wie es beispielsweise bei der logistischen Regression oder den Support Vector Machines der Fall ist.\n",
    "\n",
    "Die beiden bekanntesten Algorithmen für das Lernen von Entscheidungsbaummodellen sind der **ID3-Algorithmus** und der **C4.5-Algorithmus**:\n",
    "\n",
    "## 2.6.2. Der ID3-Algorithmus <a name=\"2_6_2\"></a>\n"
   ]
  },
  {
   "cell_type": "markdown",
   "id": "2d74e341-f2d0-4eed-8fa7-32015f50c17e",
   "metadata": {},
   "source": [
    "https://youtu.be/coOTEc-0OGw?si=iUOf-QfaRRZ5Zi8s\n",
    "\n",
    "https://youtu.be/K-oGwFoCGU0?si=oRTbbCoM3WuxnSyg"
   ]
  },
  {
   "cell_type": "markdown",
   "id": "9745fc4a-2763-4382-b43a-1157ceefbe2c",
   "metadata": {},
   "source": [
    "---\n",
    "**Algorithmus 1: Der allgemeine TDIDT-Algorithmus für das Lernen von Entscheidungsbäumen**\n",
    "\n",
    "---\n",
    "```\n",
    "**Eingabe**: Datensatz D\n",
    "**Ausgabe**: Wurzelknoten r des gelernten Baumes\n",
    "\n",
    "TDIDT(D)\n",
    "1: **if** \"Alle Beispiele in D sind als 0 klassifiziert\" **then**\n",
    "2:     **return** \"Neuer Klassifikationsknoten v mit cl(v) = 0\"\n",
    "3: **if** \"Alle Beispiele in D sind als 1 klassifiziert\" **then**\n",
    "4:     **return** \"Neuer Klassifikationsknoten v mit cl(v) = 1\"\n",
    "5: =  \"Alle Beispiele in D haben identische Merkmalsausprägungen\" **then**\n",
    "6:     **return** \"Neuer Klassifikationsknoten v mit cl(v) = x wobei x die am häufigsten in D vorkommende Klasse ist\"\n",
    "7: i = SelectFeature(D)\n",
    "8: v = \"Neuer Entscheidungsknoten mit att(v) = i\"\n",
    "9: **for** z ∈ Zi **do**\n",
    "10:    D' = {(x, y) ∈ D | xi = z}\n",
    "11:    v' = TDIDT(D')\n",
    "12:    succ(v)(z) = v'\n",
    "13: **return** v\n",
    "```"
   ]
  },
  {
   "cell_type": "markdown",
   "id": "835e1c47-9305-43a1-8584-02eb7c1dd31f",
   "metadata": {},
   "source": [
    " v'\n",
    "13: return v\n"
   ]
  },
  {
   "cell_type": "markdown",
   "id": "e414365b-bdd1-43e2-af2e-089473bfc7c6",
   "metadata": {},
   "source": [
    "### 1. Merkmal auswählen:\n",
    "Wir wählen ein Merkmal aus, machen es zur Wurzelknoten `r` des Baumes `T` und bauen den Baum von dort auf.\n",
    "   \n",
    "   Die Spalten `outlook`, `temperature`, `humidity` und `wind` sind die Merkmale des Datensatzes `D_Tennis`.\n",
    "   \n",
    "   Wir wählen den Merkmal `outlook`.\n",
    "   die Spalte `outlook` hat zwei mögliche Werte **0**, **1** und **2**.\n",
    "$$Vlaues(outlook) = \\{0, 1, 2\\}$$"
   ]
  },
  {
   "cell_type": "markdown",
   "id": "3a796e97-d256-4f8f-96dd-cad653cae208",
   "metadata": {},
   "source": [
    "### 2. Entropie $H$ berechnen:\n",
    "Wir berechnen die Entropie des gewählten Merkmals und die Entropie der vereinzelten Werte des Merkmals."
   ]
  },
  {
   "cell_type": "markdown",
   "id": "7c6a7076-dba0-4ed2-bd8a-b10351419c3c",
   "metadata": {},
   "source": [
    "Die Entropie misst die Unsicherheit oder das \"Chaos\" in den Daten. Im Kontext von Entscheidungsbaum-Algorithmen wird die Entropie verwendet, um das Merkmal zu bestimmen, das den größten Informationsgewinn liefert, d.h., das Merkmal, das die Unsicherheit am meisten reduziert, wenn wir danach teilen. \n",
    "\n",
    "* Eine hohe Entropie bedeutet eine hohe Unsicherheit,\n",
    "* während eine niedrige Entropie eine geringe Unsicherheit bedeutet. \n",
    "\n",
    "Die folgenden Formeln sind die allgemeinen Formeln zur Berechnung der Entropie für binäre und mehrklassige Klassifikationsprobleme:\n",
    "\n",
    "- Für ein **binäres** Klassifikationsproblem (zwei Klassen 0 und 1) ist die Entropie definiert als:\n",
    "\n",
    "$$\n",
    "H(D) = -\\frac{|{(x, y) \\in D | y = 0}|}{|D|} \\log_{10} \\left(\\frac{|{(x, y) \\in D | y = 0}|}{|D|}\\right) - \\frac{|{(x, y) \\in D | y = 1}|}{|D|} \\log_{10} \\left(\\frac{|{(x, y) \\in D | y = 1}|}{|D|}\\right)\n",
    "$$\n",
    "\n",
    "- Für ein **mehrklassiges** Klassifikationsproblem (Klassen $c_1, ..., c_k$) ist die Entropie definiert als:\n",
    "\n",
    "$$\n",
    "H(D) = -\\sum_{i=1}^{k} \\frac{|{(x, c) \\in D | c = c_i}|}{|D|} \\log_{10} \\left(\\frac{|{(x, c) \\in D | c = c_i}|}{|D|}\\right)\n",
    "$$\n",
    "\n",
    "#### Beispiel 3 fortsetzen:\n",
    "Für den Datensatz `D_tennis` Insgesamt gibt es 5 `No` und 9 `Yes`. (Beispiele 1,2,6,8,14 werden als Nein und die übrigen Beispiele als Ja klassifiziert).$$S = [+9, -5]$$\n",
    "Die Entropie ist definiert als:\n",
    "$$\n",
    "H(D_{tennis}) = - \\frac{5}{14} \\log_{10}\\left(\\frac{5}{14}\\right) - \\frac{9}{14} \\log_{10}\\left(\\frac{9}{14}\\right) \\approx 0.283\n",
    "$$\n",
    "\n",
    "\n",
    "$ Entropie(S_{Beispiel}) = -\\frac{\\text{Positive Beipsiele}}{\\text{alle beispiele}}*log_10\\frac{\\text{Positive Beipsiele}}{\\text{alle beispiele}} - \\frac{\\text{Negative Beipsiele}}{\\text{alle beispiele}}*log_10\\frac{\\text{Negative Beipsiele}}{\\text{alle beispiele}}$\n",
    "> - Wenn die Anzahl positive und negative Beispiele gelich sind --> $Entropie(S) = 1$\n",
    "> - Wenn es nur positive Beispiele bzw. nur negative Beispiele gibt --> $Entropie(S) = 0$"
   ]
  },
  {
   "cell_type": "code",
   "execution_count": 37,
   "id": "1e4431d4-f954-4f69-a7d4-a4390a8b564f",
   "metadata": {},
   "outputs": [
    {
     "data": {
      "text/plain": [
       "0.2810593177084132"
      ]
     },
     "execution_count": 37,
     "metadata": {},
     "output_type": "execute_result"
    }
   ],
   "source": [
    "import math\n",
    "\n",
    "def entropie(pos, neg, alle):\n",
    "    pos_term = -(pos/alle)*math.log10(pos/alle) if pos != 0 else 0\n",
    "    neg_term = -(neg/alle)*math.log10(neg/alle) if neg != 0 else 0\n",
    "    return pos_term + neg_term\n",
    "\n",
    "H_D = entropie(9, 6, 14)\n",
    "H_D"
   ]
  },
  {
   "cell_type": "markdown",
   "id": "f80f044c-a453-4c31-a892-17041572f5ac",
   "metadata": {},
   "source": [
    "### 3. Die bedingte Entropie $H (D | i)$ berechnen:\n",
    "\n",
    "\n",
    "Sei `D` ein Datensatz und `i ∈ {1,...,n}` ein Merkmal. Die bedingte Entropie `H(D | i)` von `D` bzgl. `i` ist definiert als:\n",
    "\n",
    "$$H(D | i) = \\sum_{j=1}^{ni} \\frac{{(x, y) ∈ D | xi = zi, j}}{|D|} H({(x, y) ∈ D | xi = zi, j})$$\n",
    "bzw. \n",
    "$$ H(D | i) = \\sum_{v \\in V} \\frac{|D_v|}{|D|} H(D_v) $$\n",
    "Die bedingte Entropie `H(D | i)` gibt an, wie gut die einzelnen durch das Merkmal `i` entstandenen Teildatensätze klassifiziert sind. Ein hoher Wert bedeutet, dass die entstandenen Teildatensätze (gewichtet nach deren Größe) recht ungeordnet sind, ein niedriger Wert bedeutet, dass die Klassen durch das Merkmal `i` gut getrennt w\n",
    "erden.\n",
    "\n",
    "Die Entropie der vereinzelnen Werte des Merkmals `outlook` berechnen: \n",
    "   - $H(D | outlook | sunny) = -\\frac{3}{5}*log_{10}\\frac{3}{5} - \\frac{2}{5}*log_{10}\\frac{2}{5} = 0.292 $\n",
    "   - $H(D | outlook | overcast) = -\\frac{4}{4}*log_{10}\\frac{4}{4} - \\frac{0}{4}*log_{10}\\frac{0}{4} = 0 $\n",
    "   - $H(D | outlook | rain) = -\\frac{3}{5}*log_{10}\\frac{3}{5} - \\frac{2}{5}*log_{10}\\frac{2}{5} = 0.292 $\n",
    "$$H(D | outlook) = \\frac{5}{14}*0.292 + \\frac{4}{14}*0 + \\frac{5}{14}*0.292 = 0.209 $$\n",
    "\n",
    "Die Entropie der vereinzelnen Werte des Merkmals `temprature` berechnen:\n",
    "   - $H(D | temperature | hot) = -\\frac{2}{4}*log_{10}\\frac{2}{4} - \\frac{2}{4}*log_{10}\\frac{2}{4} = 0.301 $\n",
    "   - $H(D | temperature | mild) = -\\frac{4}{6}*log_{10}\\frac{4}{6} - \\frac{2}{6}*log_{10}\\frac{2}{6} = 0.276 $\n",
    "   - $H(D | temperature | cool) = -\\frac{3}{4}*log_{10}\\frac{3}{4} - \\frac{1}{4}*log_{10}\\frac{1}{4} = 0.292 $\n",
    "$$H(D | temperature) = \\frac{4}{14}*0.301 + \\frac{6}{14}* 0.276 + \\frac{4}{14}*0.292 = 0.274 $$\n",
    "\n",
    "Die Entropie der vereinzelnen Werte des Merkmals `humidity` berechnen:\n",
    "   - $H(D | humidity | high) = -\\frac{3}{7}*log_{10}\\frac{3}{7} - \\frac{4}{7}*log_{10}\\frac{4}{7} = 0.297 $\n",
    "   - $H(D | humidity | normal) = -\\frac{6}{7}*log_{10}\\frac{6}{7} - \\frac{1}{7}*log_{10}\\frac{1}{7} = 0.178 $\n",
    "$$H(D | humidity) = \\frac{7}{14}*0.297 + \\frac{7}{14}*0.178 = 0.237 $$\n",
    "\n",
    "Die Entropie der vereinzelnen Werte des Merkmals `wind` berechnen:\n",
    "   - $H(D | wind | weak) = -\\frac{6}{8}*log_{10}\\frac{6}{8} - \\frac{2}{8}*log_{10}\\frac{2}{8} = 0.244 $\n",
    "   - $H(D | wind | strong) = -\\frac{3}{6}*log_{10}\\frac{3}{6} - \\frac{3}{6}*log_{10}\\frac{3}{6} = 0.301 $\n",
    "$$H(D | wind) = \\frac{8}{14}*0.244 + \\frac{6}{14}*0.301 = 0.269 $$\n"
   ]
  },
  {
   "cell_type": "code",
   "execution_count": 38,
   "id": "5c3e865b-2f61-4fae-b79d-fdae027da3a1",
   "metadata": {},
   "outputs": [
    {
     "name": "stdout",
     "output_type": "stream",
     "text": [
      "0.2087751808847349\n",
      "0.27425740924791686\n",
      "0.23734723774477834\n",
      "0.26856659830640084\n"
     ]
    }
   ],
   "source": [
    "def H_D_i_j(i, j):\n",
    "    return D_tennis[i].value_counts().loc[j]/len(D_tennis)\n",
    "\n",
    "H_D_outlook = entropie(2, 3, 5) * H_D_i_j('outlook', 'sunny') + entropie(4, 0, 4) * H_D_i_j('outlook', 'overcast') + entropie(3, 2, 5) * H_D_i_j('outlook', 'rain')\n",
    "print(H_D_outlook)\n",
    "\n",
    "H_D_temperature = entropie(2, 2, 4) * H_D_i_j('temperature', 'hot') + entropie(4, 2, 6) * H_D_i_j('temperature', 'mild') + entropie(3, 1, 4) * H_D_i_j('temperature', 'cool')\n",
    "print(H_D_temperature)\n",
    "\n",
    "H_D_humidity = entropie(3, 4, 7) * H_D_i_j('humidity', 'high') + entropie(6, 1, 7) * H_D_i_j('humidity', 'normal')\n",
    "print(H_D_humidity)\n",
    "\n",
    "H_D_wind = entropie(6, 2, 8) * H_D_i_j('wind', 'weak') + entropie(3, 3, 6) * H_D_i_j('wind', 'strong')\n",
    "print(H_D_wind)\n"
   ]
  },
  {
   "cell_type": "markdown",
   "id": "061f7c3a-3f4e-443f-9f64-7df06eefaa60",
   "metadata": {},
   "source": [
    "4\r\n",
    "D,i)$$\r\n"
   ]
  },
  {
   "cell_type": "markdown",
   "id": "f1ffffd2-1739-4226-8808-3e36611826fa",
   "metadata": {},
   "source": [
    "### 4. Der Informationsgewinm (Gain) berechnen:\n",
    "\n",
    "Sei D ein Datensatz und i ∈ {1,...,n} ein Merkmal. Der Informationsgewinn IG(D,i) von D bzgl. i ist definiert als:\n",
    "\n",
    "$$IG(D,i) = H(D) − H(D | i)$$\n",
    "\n",
    "Der Informationsgewinn IG(D,i) gibt an, wie sehr die Merkmalsauswahl i die Daten in D nach den Klassen (vor-)sortiert. Je höher der Informationsgewinn, desto besser klassifiziert das Merkmal i den Datensatz D. Beim ID3-Algorithmus wird die Funktion SelectFeature so definiert, dass dasjenige Merkmal ausgewählt, das den höchsten Informationsgewinn verspricht:\n",
    "\n",
    "$$SelectFeature_{ID3}(D) = \\arg\\max_{i∈{1,...,n}} IG(D,i)$$\n",
    "$$\n",
    "IG(D_{\\text{{tennis}}}, \\text{{Wetteransage}}) = H(D_{\\text{{tennis}}})−H(D_{\\text{{tennis}}} | \\text{{Wetteransage}}) \\approx 0.283−0.208 = 0.075 $$\n",
    "$$IG(D_{\\text{{tennis}}}, \\text{{Temperatur}}) = H(D_{\\text{{tennis}}})−H(D_{\\text{{tennis}}} | \\text{{Temperatur}}) \\approx 0.283−0.274 = 0.009$$\n",
    "$$IG(D_{\\text{{tennis}}}, \\text{{Luftfeuchtigkeit}}) = H(D_{\\text{{tennis}}})−H(D_{\\text{{tennis}}} | \\text{{Luftfeuchtigkeit}}) \\approx 0.283−0.237 = 0.046$$\n",
    "$$IG(D_{\\text{{tennis}}}, \\text{{Windstärke}}) = H(D_{\\text{{tennis}}})−H(D_{\\text{{tennis}}} | \\text{{Windstärke}}) \\approx 0.283−0.269 = 0.014$$\n",
    "\n"
   ]
  },
  {
   "cell_type": "code",
   "execution_count": 41,
   "id": "f1c3339c-8ff3-482d-a5a2-efe4cf6e0375",
   "metadata": {},
   "outputs": [
    {
     "name": "stdout",
     "output_type": "stream",
     "text": [
      "IG(D, outlook)\n"
     ]
    }
   ],
   "source": [
    "IG_D_outlook = H_D - H_D_outlook\n",
    "IG_D_temperature = H_D - H_D_temperature\n",
    "IG_D_humidity = H_D - H_D_humidity\n",
    "IG_D_wind = H_D - H_D_wind\n",
    "\n",
    "variables = {\n",
    "    'IG(D, outlook)': IG_D_outlook,\n",
    "    'IG(D, temperature)': IG_D_temperature,\n",
    "    'IG(D, humidity)': IG_D_humidity,\n",
    "    'IG(D, wind)': IG_D_wind\n",
    "}\n",
    "\n",
    "# Find the variable with the maximum value\n",
    "max_var = max(variables, key=variables.get)\n",
    "\n",
    "print(max_var)"
   ]
  },
  {
   "cell_type": "code",
   "execution_count": 43,
   "id": "23913de4-fc70-4131-b922-08c87dea6172",
   "metadata": {},
   "outputs": [
    {
     "data": {
      "text/plain": [
       "'outlook'"
      ]
     },
     "execution_count": 43,
     "metadata": {},
     "output_type": "execute_result"
    }
   ],
   "source": [
    "def SelectFeature(D):\n",
    "    # Berechnen Sie den Informationsgewinn für jedes Merkmal\n",
    "    info_gain = mutual_info_classif(D.drop(columns='tennis'), D['tennis'])\n",
    "\n",
    "    # Wählen Sie das Merkmal mit dem höchsten Informationsgewinn\n",
    "    return D.columns[np.argmax(info_gain)]\n",
    "\n",
    "SelectFeature(D_tennis)"
   ]
  },
  {
   "cell_type": "markdown",
   "id": "e9cb2504-b2a6-4066-908e-21c5ccf9d24c",
   "metadata": {},
   "source": [
    "Die Funktion `SelectFeatureID3` würde also hier das Merkmal `Wetteransage` auswählen."
   ]
  },
  {
   "cell_type": "markdown",
   "id": "e0966bd6-7d7d-4ade-8439-f5854817bbf8",
   "metadata": {},
   "source": [
    "## 2.6.3. Der C4.5-Algorithmus <a name=\"2_6_3\"></a>\n",
    "\n",
    "https://youtu.be/cmXLhqv67ns?si=ExbVwa4taKXa8z0Y\n",
    "\n",
    "https://youtu.be/FeGe35iYTXU?si=RR2oO9_9TxcAB3uN"
   ]
  },
  {
   "cell_type": "markdown",
   "id": "6dbb6fa0-ae62-45da-8228-0325b2f571aa",
   "metadata": {},
   "source": [
    "#### 1. Entropie des ganzen datensatzes $H(D)$ berechnen.\n",
    "#### 2. Bedingte Entropie der einzelnen Merkmale $H(D | i) $ berechnen.\n",
    "#### 3. Informationsgewinn $IG(D | i) $ berechnen.\n",
    "#### 4. Intervallaufteilung  der Merkmalsräume $Split_info(D_{tennis} | i) $ berechnen.\n",
    "$$ Split\\_info(D | i) = -\\sum_{v \\in V} \\frac{|D_v|}{|D|} * log_10 \\frac{|D_v|}{|D|} $$\n",
    "#### 5. Gain ratio $Gain_ratio(D | i) $ berechnen.\n",
    "$$Gain\\_ratio(D | i) = \\frac{\\text{IG(D | i)}}{Split_info(D | i)}$$\n",
    "\n",
    "\n",
    "Die drei wichtigsten Unterschiede des C4.5-Algorithmus im Vergleich zum ID3-Algorithmus, wie im Text beschrieben, sind:\r\n",
    "\r\n",
    "1. **Nachbearbeitungsschritt**: Der C4.5-Algorithmus enthält einen zusätzlichen Nachbearbeitungsschritt, der den Entscheidungsbaum kürzt. Dies geschieht durch Extraktion der implizit vorhandenen Klassifikationsregeln im Baum, Erkennung und Entfernung von \"wenig relevanten\" Vorbedingungen der Regeln und anschließende Konstruktion eines neuen (kleineren) Entscheidungsbaums.\r\n",
    "\r\n",
    "2. **Arbeit mit kontinuierlichen Merkmalen**: Der C4.5-Algorithmus kann mit Datensätzen mit kontinuierlichen Merkmalen arbeiten, indem er die entsprechenden Merkmalsräume in zwei Intervalle aufteilt und so jedes kontinuierliche Merkmal in ein Merkmal mit endlich vielen Ausprägungen konvertiert.\r\n",
    "\r\n",
    "3. **Optimierte Version des Informationsgewinns**: Der C4.5-Algorithmus verwendet eine optimierte Version des Informationsgewinns als Auswahlfunktion für Merkmale. Diese Version skaliert den Informationsgewinn, um das Phänomen zu vermeiden, dass Merkmale mit einer hohen Anzahl an Merkmalsausprägungen bevorzugt werden."
   ]
  },
  {
   "cell_type": "markdown",
   "id": "0883fe1a-c713-4435-882a-fd7a2e1652e8",
   "metadata": {},
   "source": [
    "## 2.6.4. Entscheidungswälder <a name=\"2_6_4\"></a>\n",
    "\n",
    "\n",
    "1. **Entscheidungswald (Random Forest)**: Ein Entscheidungswald ist eine Sammlung von Entscheidungsbäumen. Jeder Datenpunkt wird von jedem Baum im Wald klassifiziert. Die endgültige Klassifikation des Waldes ist die Klasse, die von der Mehrheit der Bäume gewählt wird.\n",
    "\n",
    "2. **Lernen eines Entscheidungswaldes**: Um einen Entscheidungswald aus einem Datensatz zu lernen, verwendet man mehrmals einen Algorithmus zum Lernen eines Entscheidungsbaums, jedoch jedes Mal auf einem leicht modifizierten Datensatz. Dieser Ansatz wird auch als Bootstrap Aggregating oder Bagging bezeichnet.\n",
    "\n",
    "3. **Randomisierung im Lernverfahren**: Beim Lernen eines einzelnen Entscheidungsbaums wird das Merkmal für den aktuellen Entscheidungsknoten nicht aus der gesamten Anzahl verfügbarer Merkmale ausgewählt, sondern aus einer zufällig gewählten Teilmenge. Dies stellt sicher, dass ein eventuell vorhandenes dominantes Merkmal nicht immer in den gelernten Bäumen in der Wurzel gewählt wird, was der Überanpassung entgegenwirkt.\n",
    "\n",
    "4. **Parameter des Lernverfahrens**: Die Größe dieser Teilmenge, die bei jeder Wahl eines Merkmals neu bestimmt wird, ist ein Parameter des Lernverfahrens, genau wie die Anzahl der Entscheidungsbäume. Oft in der Praxis auftretende Werte sind $$\\sqrt{n}$$ für die Anzahl zufälliger Merkmale, aus denen ein Entscheidungsmerkmal gewählt wird und $$l = 100$$ für die Anzahl der Entscheidungwissen. 😊"
   ]
  },
  {
   "cell_type": "code",
   "execution_count": null,
   "id": "c3d26d5f-1821-47db-99f8-26577d20bb81",
   "metadata": {},
   "outputs": [],
   "source": []
  }
 ],
 "metadata": {
  "kernelspec": {
   "display_name": "Python 3 (ipykernel)",
   "language": "python",
   "name": "python3"
  },
  "language_info": {
   "codemirror_mode": {
    "name": "ipython",
    "version": 3
   },
   "file_extension": ".py",
   "mimetype": "text/x-python",
   "name": "python",
   "nbconvert_exporter": "python",
   "pygments_lexer": "ipython3",
   "version": "3.11.3"
  }
 },
 "nbformat": 4,
 "nbformat_minor": 5
}
