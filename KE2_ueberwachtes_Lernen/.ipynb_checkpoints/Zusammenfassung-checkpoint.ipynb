{
 "cells": [
  {
   "cell_type": "markdown",
   "id": "3a52a997-6bbe-48df-a0c9-f34017d8a5a4",
   "metadata": {},
   "source": [
    ">## <ins>Table of contents</ins>\n",
    ">* [**2.1. lineare Regression**](#2_1)\n",
    ">* [**2.2. Die Logistische Regression (Sigmoid-Funktion)**](#2_2)\n",
    ">* [**2.3. Support Vecto Machine**](#2_3)\n",
    ">* [**2.4. KNN**](#2_4)\n",
    ">* [**2.5. Mehrklassenklassifizierung**](#2_5)\n",
    "\n",
    "\n",
    "| Type of SVM | python method | imports |\n",
    "| -------- | -------- | -------- |\n",
    "| **lineare Regression** | clf = LinearRegression().fit(X, Y) | from sklearn.linear_model import LinearRegression |\n",
    "| **logistische Regression**|\n",
    "| 1 class | clf = LogisticRegression().fit(X, Y) | from sklearn.linear_model import LogisticRegression |\n",
    "| Multi-class | clf = LogisticRegression(multi_class='ovr') | from sklearn.linear_model import LogisticRegression |\n",
    "| **Support Vector Machine**|\n",
    "| linear SVM        | clf =  SVC(kernel='linear').fit(X, y) | from sklearn.svm import SVC |\n",
    "| non-linear SVM | clf = SVC(kernel='linear',C=1).fit(X, y) | from sklearn.svm import SVC |\n",
    "| Kernel SVM | clf = SVC(kernel='rbf',C=1,gamma=1).fit(X, y) | from sklearn.svm import SVC|\n",
    "| **KNN**|\n",
    "| KNN-Algorithmus | clf = KNeighborsClassifier(n_neighbors=1).fit(X,y) | from sklearn.neighbors import KNeighborsClassifier |\n",
    "| Nächste-Nachbarn-Regression | clf = KNeighborsRegressor(n_neighbors=1).fit(X,y) | from sklearn.neighbors import KNeighborsRegressor |\n",
    "\n",
    "   |\r\n",
    "\n",
    "\n",
    "## 2.1. lineare Regression <a name=\"2_1\"></a>"
   ]
  },
  {
   "cell_type": "code",
   "execution_count": null,
   "id": "75785592-2fc8-4b9d-8504-a60fe8b4d219",
   "metadata": {},
   "outputs": [],
   "source": [
    "clf = LinearRegression().fit(X, Y)"
   ]
  },
  {
   "cell_type": "markdown",
   "id": "32d8f33d-3d01-42c7-83ae-0c554caee7c8",
   "metadata": {},
   "source": [
    "## 2.2. logistische Regression <a name=\"2_2\"></a>"
   ]
  },
  {
   "cell_type": "code",
   "execution_count": null,
   "id": "9f31567c-2a26-44b2-9466-9c297358120e",
   "metadata": {},
   "outputs": [],
   "source": []
  },
  {
   "cell_type": "markdown",
   "id": "1111bbe6-8c87-4ed0-b25d-d07db6155823",
   "metadata": {},
   "source": [
    "## 2.3. Support Vector Machine <a name=\"2_3\"></a>\n"
   ]
  },
  {
   "cell_type": "markdown",
   "id": "59bcce46-c130-4761-ba41-9f0b74a5741a",
   "metadata": {},
   "source": [
    "\n",
    "| Type of SVM | python method | Column 3 |\n",
    "| -------- | -------- | -------- |\n",
    "| linear SVM        | clf =  SVC(kernel='linear').fit(X, y) | 0        |\n",
    "| non-linear SVM | clf = SVC(kernel='linear',C=1).fit(X, y) | 0        |\n",
    "| Kernel SVM | clf = SVC(kernel='rbf',C=1,gamma=1).fit(X, y) | 0        |\n",
    "\n"
   ]
  },
  {
   "cell_type": "markdown",
   "id": "2ba72b0d-1b06-435d-9fb0-726fbd63758c",
   "metadata": {},
   "source": [
    "## 2.4. KNN <a name=\"2_4\"></a>\n"
   ]
  }
 ],
 "metadata": {
  "kernelspec": {
   "display_name": "Python 3 (ipykernel)",
   "language": "python",
   "name": "python3"
  },
  "language_info": {
   "codemirror_mode": {
    "name": "ipython",
    "version": 3
   },
   "file_extension": ".py",
   "mimetype": "text/x-python",
   "name": "python",
   "nbconvert_exporter": "python",
   "pygments_lexer": "ipython3",
   "version": "3.11.3"
  }
 },
 "nbformat": 4,
 "nbformat_minor": 5
}
