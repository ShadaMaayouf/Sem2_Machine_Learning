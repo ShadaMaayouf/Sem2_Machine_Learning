{
 "cells": [
  {
   "cell_type": "markdown",
   "id": "dbd81e44-071a-4c2b-bdf3-547a16a66edf",
   "metadata": {},
   "source": [
    "##  Der C4.5-Algorithmus <a name=\"2_6_3\"></a>\n",
    "\n",
    "https://youtu.be/cmXLhqv67ns?si=ExbVwa4taKXa8z0Y\n",
    "\n",
    "https://youtu.be/FeGe35iYTXU?si=RR2oO9_9TxcAB3uN"
   ]
  },
  {
   "cell_type": "code",
   "execution_count": null,
   "id": "7dcc2fc4-710a-4ccc-8ef9-6bd5827850f1",
   "metadata": {},
   "outputs": [],
   "source": [
    "import pandas as pd\n",
    "\n",
    "# Define the data\n",
    "data = {\n",
    "    'CGPA': ['>=9', '>=8', '>=9', '<8', '>=8', '>=9', '<8', '>=9', '>=8', '>=8'],\n",
    "    'Interactive': ['Yes', 'No', 'No', 'No', 'Yes', 'Yes', 'Yes', 'No', 'Yes', 'Yes'],\n",
    "    'Practical Knowledge': ['Very good', 'Good', 'Average', 'Average', 'Good', 'Good', 'Good', 'Very good', 'Good', 'Average'],\n",
    "    'Comm Skills': ['Good', 'Moderate', 'Poor', 'Good', 'Moderate', 'Moderate', 'Poor', 'Good', 'Good', 'Good'],\n",
    "    'Job Offer': ['Yes', 'Yes', 'No', 'No', 'Yes', 'Yes', 'No', 'Yes', 'Yes', 'Yes']\n",
    "}\n",
    "\n",
    "# Create the DataFrame\n",
    "df = pd.DataFrame(data)\n",
    "\n",
    "# Display the DataFrame\n",
    "print(df)\n"
   ]
  },
  {
   "cell_type": "code",
   "execution_count": null,
   "id": "90b42801-14d3-40be-9b49-56c11c8c32d8",
   "metadata": {},
   "outputs": [],
   "source": [
    "Class Entropy"
   ]
  }
 ],
 "metadata": {
  "kernelspec": {
   "display_name": "Python 3 (ipykernel)",
   "language": "python",
   "name": "python3"
  },
  "language_info": {
   "codemirror_mode": {
    "name": "ipython",
    "version": 3
   },
   "file_extension": ".py",
   "mimetype": "text/x-python",
   "name": "python",
   "nbconvert_exporter": "python",
   "pygments_lexer": "ipython3",
   "version": "3.11.3"
  }
 },
 "nbformat": 4,
 "nbformat_minor": 5
}
