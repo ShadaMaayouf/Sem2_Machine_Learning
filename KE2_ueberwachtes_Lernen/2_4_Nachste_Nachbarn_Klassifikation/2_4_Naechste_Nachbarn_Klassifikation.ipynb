{
 "cells": [
  {
   "cell_type": "markdown",
   "id": "d6bf00e0-0feb-47ce-87ec-69d1dc66bf58",
   "metadata": {},
   "source": [
    "# 2.4. Nächste-Nachbarn-Klassifikation\n",
    "\n",
    ">## <ins>Table of contents</ins>\n",
    ">* [**2.2.1. Klassifikation und Logistische Regression**](#klassifikation)\n",
    "    * [**Die Logistische Regression (Sigmoid-Funktion)**](#lr)\n",
    "    * [**Kostenfunktion L<sub>logit</sub>(D, f)**](#L_logit)\n",
    ">* [**2.2.2. Evaluation**](#evaluation)\n",
    ">* [**2.2.3. Mehrklassenklassifizierung**](#mehrklassenklassifizierung)\n",
    ">* [**2.2.4. Nicht-lineare Modelle**](#nl_modelle)\n",
    ">* [**2.2.5. Andere Beispiele**](#beispiele)\n",
    ">* [**2.2.6. Zusammenfassung**](#zusammenfassung)\n",
    ">*  * [**Für einen 2D-Modell**](#2d)\n",
    "    * [**Für einen 3D-Modell**](#3d)\n",
    ">   * [**Mehklassenklassifikation**](#mkk)\n",
    "\n",
    "## Imports"
   ]
  },
  {
   "cell_type": "code",
   "execution_count": null,
   "id": "b365f923-eedf-4bc8-8a2f-8243f1fd6399",
   "metadata": {},
   "outputs": [],
   "source": [
    "import pandas as pd\n",
    "import numpy as np\n",
    "from sklearn.linear_model import LinearRegression\n",
    "from sklearn.linear_model import LogisticRegression\n",
    "from sklearn.preprocessing import PolynomialFeatures\n",
    "from sklearn.model_selection import train_test_split\n",
    "from sklearn.model_selection import KFold\n",
    "from sklearn.metrics import f1_score\n",
    "from sklearn.metrics import precision_score\n",
    "from sklearn.metrics import accuracy_score\n",
    "from sklearn.metrics import recall_score\n",
    "\n",
    "import matplotlib.pyplot as plt\n"
   ]
  }
 ],
 "metadata": {
  "kernelspec": {
   "display_name": "Python 3 (ipykernel)",
   "language": "python",
   "name": "python3"
  },
  "language_info": {
   "codemirror_mode": {
    "name": "ipython",
    "version": 3
   },
   "file_extension": ".py",
   "mimetype": "text/x-python",
   "name": "python",
   "nbconvert_exporter": "python",
   "pygments_lexer": "ipython3",
   "version": "3.11.3"
  }
 },
 "nbformat": 4,
 "nbformat_minor": 5
}
