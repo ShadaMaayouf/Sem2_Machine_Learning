{
 "cells": [
  {
   "cell_type": "markdown",
   "id": "3a52a997-6bbe-48df-a0c9-f34017d8a5a4",
   "metadata": {},
   "source": [
    ">## <ins>Table of contents</ins>\n",
    ">* [**2. Überwachtes Lernen**](#2)\n",
    ">* [**3. Unüberwachtes Lernen**](#3)\n",
    ">* [**4. Support Vecto Machine**](#4)\n",
    ">* [**5. KNN**](#5)\n",
    ">* [**6. Mehrklassenklassifizierung**](#6)\n",
    "\n",
    "\n",
    "## 2. Überwachtes Lernen <a name=\"2\"></a>\n",
    "---\n",
    "| Type of classification | python method | imports |\n",
    "| -------- | -------- | -------- |\n",
    "| **lineare Regression** | clf = LinearRegression().fit(X, Y) | from sklearn.linear_model import LinearRegression |\n",
    "| **logistische Regression**|\n",
    "| 1 class | clf = LogisticRegression().fit(X, Y) | from sklearn.linear_model import LogisticRegression |\n",
    "| Multi-class | clf = LogisticRegression(multi_class='ovr') | from sklearn.linear_model import LogisticRegression |\n",
    "| **Support Vector Machine**|\n",
    "| linear SVM        | clf =  SVC(kernel='linear').fit(X, y) | from sklearn.svm import SVC |\n",
    "| non-linear SVM | clf = SVC(kernel='linear',C=1).fit(X, y) | from sklearn.svm import SVC |\n",
    "| Kernel SVM | clf = SVC(kernel='rbf',C=1,gamma=1).fit(X, y) | from sklearn.svm import SVC|\n",
    "| **KNN**|\n",
    "| KNN-Algorithmus | clf = KNeighborsClassifier(n_neighbors=1).fit(X,y) | from sklearn.neighbors import KNeighborsClassifier |\n",
    "| Nächste-Nachbarn-Regression | clf = KNeighborsRegressor(n_neighbors=1).fit(X,y) | from sklearn.neighbors import KNeighborsRegressor |\n",
    "| **Bayes Klassifikation**|\n",
    "| *Naive Bayes* | clf = GaussianNB().fit(X, y) | from sklearn.naive_bayes import GaussianNB |\n",
    "| **Entscheidungsbäume**|\n",
    "| *decision tree* | tree = tree.DecisionTreeClassifier().fit(X, y) | from sklearn import tree |\n",
    "| *encode describtive values to ordinal* | X_enc = preprocessing.OrdinalEncoder().fit_transform(X) | from sklearn import preprocessing  |\n",
    "\n",
    "\n",
    ">"
   ]
  },
  {
   "cell_type": "markdown",
   "id": "32d8f33d-3d01-42c7-83ae-0c554caee7c8",
   "metadata": {},
   "source": [
    "## 3. Unüberwachtes Lernen <a name=\"3\"></a>\n",
    "\n",
    "---\n",
    "| Type of classification | python method | imports |\n",
    "| -------- | -------- | -------- |\n",
    "| **K-Mean-Clustering**| clust = KMeans(n_clusters=3,n_init=10).fit(X) | from sklearn.cluster import KMeans |\n",
    "| **Hierarisches Clustering**|\n",
    "| ** |  |  |\n",
    "| ** |  |  |\n",
    "| **chapter**|\n",
    "| ** |  |  |\n",
    "| ** |  |  |\n",
    "| ** |  | |\n",
    "| **chapter**|\n",
    "| ** |  |  |\n",
    "| ** |  |  |  |\n",
    "\n",
    "\n"
   ]
  },
  {
   "cell_type": "markdown",
   "id": "5db8f159-90a5-4721-97e5-f3cff7642321",
   "metadata": {},
   "source": [
    "## 4.  <a name=\"3\"></a>\n",
    "\n",
    "---\n",
    "| Type of classification | python method | imports |\n",
    "| -------- | -------- | -------- |\n",
    "| **K-Mean-Clustering**| clust = KMeans(n_clusters=3,n_init=10).fit(X)\n",
    " | from sklearn.cluster import KMeans |\n",
    "| **chapter**|\n",
    "| ** |  |  |\n",
    "| ** |  |  |\n",
    "| **chapter**|\n",
    "| ** |  |  |\n",
    "| ** |  |  |\n",
    "| ** |  | |\n",
    "| **chapter**|\n",
    "| ** |  |  |\n",
    "| ** |  |  |  |\n",
    "\n",
    "\n"
   ]
  },
  {
   "cell_type": "code",
   "execution_count": null,
   "id": "a94437d2-c142-494e-8377-515654689115",
   "metadata": {},
   "outputs": [],
   "source": []
  }
 ],
 "metadata": {
  "kernelspec": {
   "display_name": "Python 3 (ipykernel)",
   "language": "python",
   "name": "python3"
  },
  "language_info": {
   "codemirror_mode": {
    "name": "ipython",
    "version": 3
   },
   "file_extension": ".py",
   "mimetype": "text/x-python",
   "name": "python",
   "nbconvert_exporter": "python",
   "pygments_lexer": "ipython3",
   "version": "3.11.3"
  }
 },
 "nbformat": 4,
 "nbformat_minor": 5
}
