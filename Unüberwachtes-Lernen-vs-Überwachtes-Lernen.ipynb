{
 "cells": [
  {
   "cell_type": "markdown",
   "id": "e258f05c-16ad-4557-baba-76e7f7cfd60d",
   "metadata": {},
   "source": [
    "# Überwachtes Lernen vs Unüberwachtes Lernen"
   ]
  },
  {
   "cell_type": "markdown",
   "id": "c09a1d10-d972-454f-a9a4-b7f24ee9bd5d",
   "metadata": {},
   "source": [
    "In der Regel können Sie feststellen, ob ein maschinelles Lernproblem überwacht oder unüberwacht ist, indem Sie die Art der Daten betrachten, die Sie haben, und was Sie mit diesen Daten erreichen möchten:\n",
    "\n",
    "- **Überwachtes Lernen**: Dies ist der Fall, wenn Sie sowohl Eingabedaten (Features) als auch Ausgabedaten (Zielvariable) haben. Das Ziel ist es, ein Modell zu erstellen, das die Beziehung zwischen den Features und der Zielvariable lernt, so dass Sie zukünftige Ausgaben vorhersagen können, wenn Sie nur die Features haben. Beispiele sind Klassifikation und Regression.\n",
    "\n",
    "- **Unüberwachtes Lernen**: Dies ist der Fall, wenn Sie nur Eingabedaten (Features) haben und keine zugehörigen Ausgabedaten. Das Ziel ist es, Muster, Zusammenhänge oder Strukturen in den Daten zu finden. Beispiele sind Clustering und Dimensionsreduktion.\n",
    "\n",
    "Es gibt auch semi-überwachtes Lernen und Bestärkungslernen, die andere Arten von Lernproblemen darstellen. Aber die oben genannten sind die grundlegendsten Arten. "
   ]
  },
  {
   "cell_type": "markdown",
   "id": "32644702-1e7a-4dbc-9b41-f1526526510b",
   "metadata": {},
   "source": [
    "![Unüberwachtes-Lernen-vs-Überwachtes-Lernen](./Unüberwachtes-Lernen-vs-Überwachtes-Lernen.jpg)\n"
   ]
  },
  {
   "cell_type": "markdown",
   "id": "360a7ca7-c1a2-4097-85bc-75136494312a",
   "metadata": {},
   "source": [
    "![Unüberwachtes-Lernen-vs-Überwachtes-Lernen](./Unüberwachtes-Lernen-vs-Überwachtes-Lernen-2.jpg)\n"
   ]
  },
  {
   "cell_type": "markdown",
   "id": "77812323-bd34-4c9e-95a7-07a428da78e7",
   "metadata": {},
   "source": [
    "![Unüberwachtes-Lernen-vs-Überwachtes-Lernen](./Unüberwachtes-Lernen-vs-Überwachtes-Lernen-3.jpeg)\n"
   ]
  },
  {
   "cell_type": "markdown",
   "id": "7a97b2cf-c570-4236-a156-8f7759e35bab",
   "metadata": {},
   "source": [
    "Ja, Reinforcement Learning, überwachtes Lernen (Supervised Learning) und unüberwachtes Lernen (Unsupervised Learning) fallen alle unter den Oberbegriff des maschinellen Lernens¹². \n",
    "\n",
    "- **Überwachtes Lernen**: Hierbei wird ein Modell auf einem Datensatz trainiert, bei dem jede Dateninstanz ein zugehöriges Label oder einen Ausgabewert hat. Das Modell lernt, Vorhersagen auf der Grundlage dieser Eingabe-Ausgabe-Paare zu treffen¹.\n",
    "- **Unüberwachtes Lernen**: In diesem Fall wird das Modell auf einem Datensatz trainiert, der keine zugehörigen Labels oder Ausgabewerte hat. Das Modell lernt, Muster und Beziehungen in den Daten zu erkennen¹.\n",
    "- **Reinforcement Learning**: Hierbei handelt es sich um eine Methode, bei der ein Agent in einer Umgebung agiert und durch Belohnungen oder Strafen lernt, optimale Aktionen auszuführen.\n",
    "\n",
    "Obwohl diese drei Arten des maschinellen Lernens unterschiedliche Ansätze und Anwendungen haben, teilen sie das gemeinsame Ziel, Maschinen das Lernen und die Anpassung an neue Daten oder Umgebungen zu ermöglichen².\n",
    "\n",
    "Deep Learning, Supervised Learning, Unsupervised Learning und Reinforcement Learning sind alle Teilgebiete des maschinellen Lernens, aber sie unterscheiden sich in der Art und Weise, wie sie lernen und Vorhersagen treffen.\n",
    "\n",
    "- **Supervised Learning (Überwachtes Lernen)**: Hierbei handelt es sich um eine Methode, bei der ein Modell eine Vorhersage auf der Grundlage von beschrifteten Daten trifft. Beschriftete Daten enthalten eine Sammlung von Variablen (Merkmale) und eine spezifische Ausgabe, die wir vorhersagen möchten¹. Beispiele für Techniken des überwachten Lernens sind lineare Klassifikatoren, Support-Vektor-Maschinen (SVM), Entscheidungsbäume, Random Forest, lineare Regression und logistische Regression¹.\n",
    "\n",
    "- **Unsupervised Learning (Unüberwachtes Lernen)**: Diese Methode wird verwendet, wenn die Daten, die wir haben, nicht beschriftet sind. Das Ziel des unüberwachten Lernens ist es, Muster, Zusammenhänge oder Cluster innerhalb der Daten zu finden¹.\n",
    "\n",
    "- **Reinforcement Learning (Bestärkendes Lernen)**: Dies ist eine Methode des maschinellen Lernens, bei der ein Agent lernt, Entscheidungen auf der Grundlage von Belohnungen und Strafen zu treffen. Der Agent führt Aktionen in einer Umgebung aus und erhält positive oder negative Rückmeldungen (Belohnungen oder Strafen), die er verwendet, um seine zukünftigen Entscheidungen zu verbessern¹.\n",
    "\n",
    "- **Deep Learning**: Dies ist eine Untergruppe des maschinellen Lernens, die sich auf neuronale Netzwerke mit vielen Schichten (tiefe Netzwerke) konzentriert. Sowohl überwachtes als auch unüberwachtes Lernen können Deep-Learning-Techniken verwenden. Fast alle Algorithmen des bestärkenden Lernens verwenden in irgendeiner Weise Deep Learning. Deep Learning ist besonders effektiv für die Erstellung von ML-Modellen, die unstrukturierte Daten verarbeiten, wie z.B. Bilder, Audioaufnahmen oder Rohtext¹..\n"
   ]
  },
  {
   "cell_type": "markdown",
   "id": "ec7d488c-887e-43a3-95fd-3e66273bd385",
   "metadata": {},
   "source": [
    "Sicher, hier ist eine Tabelle, die die Unterschiede zwischen Supervised Learning, Unsupervised Learning, Reinforcement Learning und Deep Learning zeigt:\r\n",
    "\r\n",
    "| **Lernmethode** | **Beschreibung** |\r\n",
    "|:----------------|:-----------------|\r\n",
    "| **Supervised Learning (Überwachtes Lernen)** | Ein Modell trifft eine Vorhersage auf der Grundlage von beschrifteten Daten. Beschriftete Daten enthalten eine Sammlung von Variablen (Merkmale) und eine spezifische Ausgabe, die wir vorhersagen möchten. |\r\n",
    "| **Unsupervised Learning (Unüberwachtes Lernen)** | Diese Methode wird verwendet, wenn die Daten, die wir haben, nicht beschriftet sind. Das Ziel des unüberwachten Lernens ist es, Muster, Zusammenhänge oder Cluster innerhalb der Daten zu finden. |\r\n",
    "| **Reinforcement Learning (Bestärkendes Lernen)** | Dies ist eine Methode des maschinellen Lernens, bei der ein Agent lernt, Entscheidungen auf der Grundlage von Belohnungen und Strafen zu treffen. |\r\n",
    "| **Deep Learning** | Dies ist eine Untergruppe des maschinellen Lernens, die sich auf neuronale Netzwerke mit vielen Schichten (tiefe Netzwerke) konzentriert. |\r\n",
    "\r\n",
    "Ich hoffe, das hilft Ihnen, die Unterschiede besser zu verstehen! 😊"
   ]
  },
  {
   "cell_type": "code",
   "execution_count": null,
   "id": "939fa052-fdec-4e84-a255-0d788e394155",
   "metadata": {},
   "outputs": [],
   "source": []
  }
 ],
 "metadata": {
  "kernelspec": {
   "display_name": "Python 3 (ipykernel)",
   "language": "python",
   "name": "python3"
  },
  "language_info": {
   "codemirror_mode": {
    "name": "ipython",
    "version": 3
   },
   "file_extension": ".py",
   "mimetype": "text/x-python",
   "name": "python",
   "nbconvert_exporter": "python",
   "pygments_lexer": "ipython3",
   "version": "3.11.3"
  }
 },
 "nbformat": 4,
 "nbformat_minor": 5
}
