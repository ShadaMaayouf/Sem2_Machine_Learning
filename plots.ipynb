{
 "cells": [
  {
   "cell_type": "markdown",
   "id": "721949e8-9caa-4982-b175-558a9388dab1",
   "metadata": {},
   "source": [
    "## 1 x-axis and 2 y-Axis"
   ]
  },
  {
   "cell_type": "code",
   "execution_count": null,
   "id": "d2d987ca-c613-4b7b-9b63-f56f865efe54",
   "metadata": {},
   "outputs": [],
   "source": [
    "import matplotlib.pyplot as plt\n",
    "import numpy as np\n",
    "\n",
    "# Create some data\n",
    "x = np.linspace(0, 2*np.pi, 100)\n",
    "y1 = np.sin(x)\n",
    "y2 = np.cos(x)\n",
    "y3 = np.cos(x)\n",
    "\n",
    "fig, ax1 = plt.subplots()\n",
    "\n",
    "# Plot the first line on the first y-axis\n",
    "ax1.plot(x, y1, 'b-')\n",
    "ax1.set_xlabel('X axis')\n",
    "ax1.set_ylabel('Y1', color='b')\n",
    "ax1.tick_params('y', colors='b')\n",
    "\n",
    "# Create the second y-axis and plot the second line\n",
    "ax2 = ax1.twinx()\n",
    "ax2.plot(x, y2, 'r-')\n",
    "ax2.set_ylabel('Y2', color='r')\n",
    "ax2.tick_params('y', colors='r')\n",
    "\n",
    "plt.show()\n"
   ]
  }
 ],
 "metadata": {
  "kernelspec": {
   "display_name": "Python 3 (ipykernel)",
   "language": "python",
   "name": "python3"
  },
  "language_info": {
   "codemirror_mode": {
    "name": "ipython",
    "version": 3
   },
   "file_extension": ".py",
   "mimetype": "text/x-python",
   "name": "python",
   "nbconvert_exporter": "python",
   "pygments_lexer": "ipython3",
   "version": "3.11.3"
  }
 },
 "nbformat": 4,
 "nbformat_minor": 5
}
