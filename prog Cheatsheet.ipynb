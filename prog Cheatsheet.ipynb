{
 "cells": [
  {
   "cell_type": "markdown",
   "id": "dbd5d136-be08-4dfc-8ad9-5a5fa1c85e54",
   "metadata": {},
   "source": [
    "# Cheatsheet (progmatisch)\n",
    ">## <ins>Table of contents</ins> <a name=\"up\"></a>[<sup>[1]</sup>](#cite_note-1)\n",
    ">* [**1. Allgemein**](#1.)\n",
    ">* [**K2. Überwachtes Lernen**](#K2)\n",
    "    * [**2.1. Lineare Regression**](#2.1.)\n",
    "    * [**2.2. logistische Regression**](#2.2.)\n",
    "    * [**2.3. SVM**](#2.3.)\n",
    "    * [**2.4. KNN**](#2.4.)\n",
    "    * [**2.5. Bayes**](#2.5.)\n",
    "    * [**2.6. Entscheidungsbäaume**](#2.6.)\n",
    "\n",
    ">* [**K3. Unüberwachtes Lernen**](#K3)\n",
    "    * [**3.1. K-Means-Clustering**](#3.1.)\n",
    "    * [**3.2 Hierarchisches Clustering**](#3.2.)\n",
    "    * [**3.3. Assoziationsregellern**](#3.3.)\n",
    "    * [**3.4. Anomalieerkennung**](#3.4.)\n",
    "    * [**3.5 Hauptkomponentenanalyse**](#3.5.)\n",
    "\n",
    ">* [**K4. Reinforcement Learning**](#K4)\n",
    "    * [**4.1. Markov-Entscheidungsprozess**](#4.1.)\n",
    "    * [**4.2. Passives-Reinforcement-Learning**](#4.2.)\n",
    "    * [**4.3. Aktives-Reinforcement-Learning**](#4.3.)\n",
    "\n",
    ">* [**K5. Deep Learning**](#5)\n",
    "    * [**5.1. Neuronale Netzwerke**](#5.1.)\n",
    "    * [**5.2. CNN**](#5.2.)\n",
    "    * [**5.3. RNN**](#5.3.)\n",
    "    * [**5.4. Lernen von Repräsentation**](#5.4.)\n",
    ">\n"
   ]
  },
  {
   "cell_type": "code",
   "execution_count": 75,
   "id": "36d9e4dc-1af2-4d72-ad51-c8a914ff7040",
   "metadata": {},
   "outputs": [],
   "source": [
    "import pandas as pd\n",
    "import numpy as np\n",
    "from sklearn.linear_model import LinearRegression\n",
    "from sklearn.linear_model import Ridge\n",
    "from sklearn.preprocessing import PolynomialFeatures\n",
    "from sklearn.model_selection import train_test_split\n",
    "from sklearn.model_selection import KFold\n",
    "import matplotlib.pyplot as plt\n"
   ]
  },
  {
   "cell_type": "markdown",
   "id": "ac07311b-0f52-46bf-bec4-244ef3ad7392",
   "metadata": {
    "jp-MarkdownHeadingCollapsed": true
   },
   "source": [
    "## 1. Allgemein <a name=1.><a>"
   ]
  },
  {
   "cell_type": "markdown",
   "id": "ead1f745-9c9d-40ae-9cb4-f685d626050d",
   "metadata": {
    "jp-MarkdownHeadingCollapsed": true
   },
   "source": [
    "### data preparation"
   ]
  },
  {
   "cell_type": "code",
   "execution_count": 7,
   "id": "749acd65-2f38-47fb-88d0-bd1fb49ea454",
   "metadata": {},
   "outputs": [],
   "source": [
    "# Ihre Daten\n",
    "data = {\n",
    "    'height': [153.3, 158.9, 160.8, 179.6, 156.6, 165.1, 165.9, 156.7, 167.8, 160.8],\n",
    "    'ringlength': [47.1, 46.8, 49.3, 53.2, 47.7, 49.0, 50.6, 47.1, 51.7, 47.8]\n",
    "}\n",
    "D = [\n",
    "    ((153.3), 47.1),\n",
    "    ((158.9), 46.8),\n",
    "    ((160.8), 49.3),\n",
    "    ((179.6), 53.2),\n",
    "    ((156.6), 47.7),\n",
    "    ((165.1), 49.0),\n",
    "    ((165.9), 50.6),\n",
    "    ((156.7), 47.1),\n",
    "    ((167.8), 51.7),\n",
    "    ((160.8), 47.8)\n",
    "]\n",
    "\n",
    "# Umwandlung in DataFrame\n",
    "df = pd.DataFrame(D, columns=['x', 'y'])\n",
    "\n",
    "# Umwandlung in Numpy Arrays\n",
    "x = np.array(df['x'])#.reshape(-1, 1)\n",
    "y = np.array(df['y'])#.reshape(-1, 1)"
   ]
  },
  {
   "cell_type": "markdown",
   "id": "a2e7e7e1-98ca-4186-a335-0a3a3d92a186",
   "metadata": {},
   "source": [
    "### data visualisieren"
   ]
  },
  {
   "cell_type": "code",
   "execution_count": 23,
   "id": "e3038ba3-8aa5-48c9-88a4-77ac81bf803d",
   "metadata": {},
   "outputs": [
    {
     "data": {
      "image/png": "[encoded data removed]",
      "text/plain": [
       "<Figure size 1000x600 with 1 Axes>"
      ]
     },
     "metadata": {},
     "output_type": "display_data"
    }
   ],
   "source": [
    "# Datensatz visualisieren\n",
    "def visualise_datensatz(x,y):\n",
    "    # Erstellen Sie das Diagramm\n",
    "    plt.figure(figsize=(10, 6))\n",
    "    plt.scatter(x,y)\n",
    "    plt.title('Visualisierung des Datensatzes')\n",
    "    plt.xlabel('x')\n",
    "    plt.ylabel('y')\n",
    "    plt.grid(True)\n",
    "    plt.show()\n",
    "    \n",
    "visualise_datensatz(X,y)"
   ]
  },
  {
   "cell_type": "markdown",
   "id": "a9bea975-c801-440d-bc50-cab55291db0a",
   "metadata": {
    "jp-MarkdownHeadingCollapsed": true
   },
   "source": [
    "## 2 Überwachtes Lernen <a name=2><a>"
   ]
  },
  {
   "cell_type": "markdown",
   "id": "8b3b8cda-4f0c-46ad-9d28-286f6f68cb0c",
   "metadata": {},
   "source": [
    "---\n",
    "| Type of classification | python method | imports |\n",
    "| -------- | -------- | -------- |\n",
    "| **lineare Regression** | clf = LinearRegression().fit(X, Y) | from sklearn.linear_model import LinearRegression |\n",
    "| **logistische Regression**|\n",
    "| 1 class | clf = LogisticRegression().fit(X, Y) | from sklearn.linear_model import LogisticRegression |\n",
    "| Multi-class | clf = LogisticRegression(multi_class='ovr') | from sklearn.linear_model import LogisticRegression |\n",
    "| **Support Vector Machine**|\n",
    "| linear SVM        | clf =  SVC(kernel='linear').fit(X, y) | from sklearn.svm import SVC |\n",
    "| non-linear SVM | clf = SVC(kernel='linear',C=1).fit(X, y) | from sklearn.svm import SVC |\n",
    "| Kernel SVM | clf = SVC(kernel='rbf',C=1,gamma=1).fit(X, y) | from sklearn.svm import SVC|\n",
    "| **KNN**|\n",
    "| KNN-Algorithmus | clf = KNeighborsClassifier(n_neighbors=1).fit(X,y) | from sklearn.neighbors import KNeighborsClassifier |\n",
    "| Nächste-Nachbarn-Regression | clf = KNeighborsRegressor(n_neighbors=1).fit(X,y) | from sklearn.neighbors import KNeighborsRegressor |\n",
    "| **Bayes Klassifikation**|\n",
    "| *Naive Bayes* | clf = GaussianNB().fit(X, y) | from sklearn.naive_bayes import GaussianNB |\n",
    "| **Entscheidungsbäume**|\n",
    "| *decision tree* | tree = tree.DecisionTreeClassifier().fit(X, y) | from sklearn import tree |\n",
    "| *encode describtive values to ordinal* | X_enc = preprocessing.OrdinalEncoder().fit_transform(X) | from sklearn import preprocessing  |\n"
   ]
  },
  {
   "cell_type": "markdown",
   "id": "dd419998-6f71-48c8-ae57-3b3d2898cf1d",
   "metadata": {
    "jp-MarkdownHeadingCollapsed": true
   },
   "source": [
    "### 2.1. Lineare Regression <a name=2.1.><a>"
   ]
  },
  {
   "cell_type": "markdown",
   "id": "ff67badb-52bf-47a3-b739-baef372d46d9",
   "metadata": {},
   "source": [
    "#### 1. 2D modell <a name=2_1_2D><a>"
   ]
  },
  {
   "cell_type": "markdown",
   "id": "cc5a5f36-abf8-41f2-b562-43a8132d5959",
   "metadata": {
    "jp-MarkdownHeadingCollapsed": true
   },
   "source": [
    "##### Das optimale linearer Modell berechnen"
   ]
  },
  {
   "cell_type": "code",
   "execution_count": 86,
   "id": "e970972b-a302-467c-9585-6b2d2a03f5d3",
   "metadata": {},
   "outputs": [],
   "source": [
    "D = [\n",
    "    ((153.3), 47.1),\n",
    "    ((158.9), 46.8),\n",
    "    ((160.8), 49.3),\n",
    "    ((179.6), 53.2),\n",
    "    ((156.6), 47.7),\n",
    "    ((165.1), 49.0),\n",
    "    ((165.9), 50.6),\n",
    "    ((156.7), 47.1),\n",
    "    ((167.8), 51.7),\n",
    "    ((160.8), 47.8)\n",
    "]\n",
    "\n",
    "# Umwandlung in DataFrame\n",
    "df = pd.DataFrame(D, columns=['x', 'y'])\n",
    "\n",
    "# Umwandlung in Numpy Arrays\n",
    "X = np.array(df['x']).reshape(-1, 1)\n",
    "y = np.array(df['y']).reshape(-1, 1)"
   ]
  },
  {
   "cell_type": "code",
   "execution_count": 19,
   "id": "95f39661-1240-4e71-a7d0-20b391ac7dcb",
   "metadata": {},
   "outputs": [
    {
     "name": "stdout",
     "output_type": "stream",
     "text": [
      "Das optimale trainierte Modell ist: h(x) = 5.3623451652386365 + 0.2686413708690333x \n"
     ]
    }
   ],
   "source": [
    "regr = LinearRegression().fit(X,y)\n",
    "ypts_pred = regr.predict(y)\n",
    "#y_pred = regr.predict(X)\n",
    "\n",
    "theta_0 = regr.intercept_[0] #konstante θ0 \n",
    "theta_koef = regr.coef_[0][0] #(θ1*x1 + θ2*x2 + ... + θk*xk)\n",
    "\n",
    "print(f\"Das optimale trainierte Modell ist: h(x) = {theta_0} + {theta_koef}x \")"
   ]
  },
  {
   "cell_type": "markdown",
   "id": "72c7b25b-b633-48cc-975b-9d17588a537a",
   "metadata": {
    "jp-MarkdownHeadingCollapsed": true
   },
   "source": [
    "##### Evaluation: Datensatz teilen"
   ]
  },
  {
   "cell_type": "code",
   "execution_count": 71,
   "id": "35a6b159-1064-4b7e-884c-5030b1a2e172",
   "metadata": {},
   "outputs": [
    {
     "data": {
      "text/html": [
       "<style>#sk-container-id-1 {color: black;}#sk-container-id-1 pre{padding: 0;}#sk-container-id-1 div.sk-toggleable {background-color: white;}#sk-container-id-1 label.sk-toggleable__label {cursor: pointer;display: block;width: 100%;margin-bottom: 0;padding: 0.3em;box-sizing: border-box;text-align: center;}#sk-container-id-1 label.sk-toggleable__label-arrow:before {content: \"▸\";float: left;margin-right: 0.25em;color: #696969;}#sk-container-id-1 label.sk-toggleable__label-arrow:hover:before {color: black;}#sk-container-id-1 div.sk-estimator:hover label.sk-toggleable__label-arrow:before {color: black;}#sk-container-id-1 div.sk-toggleable__content {max-height: 0;max-width: 0;overflow: hidden;text-align: left;background-color: #f0f8ff;}#sk-container-id-1 div.sk-toggleable__content pre {margin: 0.2em;color: black;border-radius: 0.25em;background-color: #f0f8ff;}#sk-container-id-1 input.sk-toggleable__control:checked~div.sk-toggleable__content {max-height: 200px;max-width: 100%;overflow: auto;}#sk-container-id-1 input.sk-toggleable__control:checked~label.sk-toggleable__label-arrow:before {content: \"▾\";}#sk-container-id-1 div.sk-estimator input.sk-toggleable__control:checked~label.sk-toggleable__label {background-color: #d4ebff;}#sk-container-id-1 div.sk-label input.sk-toggleable__control:checked~label.sk-toggleable__label {background-color: #d4ebff;}#sk-container-id-1 input.sk-hidden--visually {border: 0;clip: rect(1px 1px 1px 1px);clip: rect(1px, 1px, 1px, 1px);height: 1px;margin: -1px;overflow: hidden;padding: 0;position: absolute;width: 1px;}#sk-container-id-1 div.sk-estimator {font-family: monospace;background-color: #f0f8ff;border: 1px dotted black;border-radius: 0.25em;box-sizing: border-box;margin-bottom: 0.5em;}#sk-container-id-1 div.sk-estimator:hover {background-color: #d4ebff;}#sk-container-id-1 div.sk-parallel-item::after {content: \"\";width: 100%;border-bottom: 1px solid gray;flex-grow: 1;}#sk-container-id-1 div.sk-label:hover label.sk-toggleable__label {background-color: #d4ebff;}#sk-container-id-1 div.sk-serial::before {content: \"\";position: absolute;border-left: 1px solid gray;box-sizing: border-box;top: 0;bottom: 0;left: 50%;z-index: 0;}#sk-container-id-1 div.sk-serial {display: flex;flex-direction: column;align-items: center;background-color: white;padding-right: 0.2em;padding-left: 0.2em;position: relative;}#sk-container-id-1 div.sk-item {position: relative;z-index: 1;}#sk-container-id-1 div.sk-parallel {display: flex;align-items: stretch;justify-content: center;background-color: white;position: relative;}#sk-container-id-1 div.sk-item::before, #sk-container-id-1 div.sk-parallel-item::before {content: \"\";position: absolute;border-left: 1px solid gray;box-sizing: border-box;top: 0;bottom: 0;left: 50%;z-index: -1;}#sk-container-id-1 div.sk-parallel-item {display: flex;flex-direction: column;z-index: 1;position: relative;background-color: white;}#sk-container-id-1 div.sk-parallel-item:first-child::after {align-self: flex-end;width: 50%;}#sk-container-id-1 div.sk-parallel-item:last-child::after {align-self: flex-start;width: 50%;}#sk-container-id-1 div.sk-parallel-item:only-child::after {width: 0;}#sk-container-id-1 div.sk-dashed-wrapped {border: 1px dashed gray;margin: 0 0.4em 0.5em 0.4em;box-sizing: border-box;padding-bottom: 0.4em;background-color: white;}#sk-container-id-1 div.sk-label label {font-family: monospace;font-weight: bold;display: inline-block;line-height: 1.2em;}#sk-container-id-1 div.sk-label-container {text-align: center;}#sk-container-id-1 div.sk-container {/* jupyter's `normalize.less` sets `[hidden] { display: none; }` but bootstrap.min.css set `[hidden] { display: none !important; }` so we also need the `!important` here to be able to override the default hidden behavior on the sphinx rendered scikit-learn.org. See: https://github.com/scikit-learn/scikit-learn/issues/21755 */display: inline-block !important;position: relative;}#sk-container-id-1 div.sk-text-repr-fallback {display: none;}</style><div id=\"sk-container-id-1\" class=\"sk-top-container\"><div class=\"sk-text-repr-fallback\"><pre>LinearRegression()</pre><b>In a Jupyter environment, please rerun this cell to show the HTML representation or trust the notebook. <br />On GitHub, the HTML representation is unable to render, please try loading this page with nbviewer.org.</b></div><div class=\"sk-container\" hidden><div class=\"sk-item\"><div class=\"sk-estimator sk-toggleable\"><input class=\"sk-toggleable__control sk-hidden--visually\" id=\"sk-estimator-id-1\" type=\"checkbox\" checked><label for=\"sk-estimator-id-1\" class=\"sk-toggleable__label sk-toggleable__label-arrow\">LinearRegression</label><div class=\"sk-toggleable__content\"><pre>LinearRegression()</pre></div></div></div></div></div>"
      ],
      "text/plain": [
       "LinearRegression()"
      ]
     },
     "execution_count": 71,
     "metadata": {},
     "output_type": "execute_result"
    }
   ],
   "source": [
    "from sklearn.model_selection import train_test_split\n",
    "\n",
    "X_train, X_test, y_train, y_test = train_test_split(X, y, test_size=0.2)\n",
    "\n",
    "regr.fit(X_train,y_train)"
   ]
  },
  {
   "cell_type": "markdown",
   "id": "881c9002-2b85-40e5-8828-5efc6848dc23",
   "metadata": {
    "jp-MarkdownHeadingCollapsed": true
   },
   "source": [
    "##### Bestimmtheitsmaß $R^2$-Wert\n",
    "\n",
    "$R^2(D_{ring} , f)$, $R^2(D^{train}_{ring} , f)$, $R^2(D^{test}_{ring} , f)$"
   ]
  },
  {
   "cell_type": "code",
   "execution_count": 74,
   "id": "c42c938f-2ed4-4b92-8cf7-c7e401f6543d",
   "metadata": {},
   "outputs": [
    {
     "name": "stdout",
     "output_type": "stream",
     "text": [
      "R²(D): 0.767\n",
      "R²(Dtrain): 0.998\n",
      "R²(Dtest): 0.082\n"
     ]
    }
   ],
   "source": [
    "\n",
    "print(f'R²(D): {round(regr.score(X,y),3)}')\n",
    "print(f'R²(Dtrain): {round(regr.score(X_train, y_train),3)}')\n",
    "print(f'R²(Dtest): {round(regr.score(X_test, y_test),3)}')\n"
   ]
  },
  {
   "cell_type": "markdown",
   "id": "4a820115-0ab1-4d9f-a1b8-b1aa8c71243b",
   "metadata": {
    "jp-MarkdownHeadingCollapsed": true
   },
   "source": [
    "##### Ridge-Regression\n"
   ]
  },
  {
   "cell_type": "code",
   "execution_count": 83,
   "id": "aef9bd34-8188-4528-964d-bbfe8ae62d00",
   "metadata": {},
   "outputs": [
    {
     "name": "stdout",
     "output_type": "stream",
     "text": [
      "Das optimale Ridge-Regressions Modell ist: h(x) = 5.371 + \n",
      "[0.26858877] x\n",
      "\n",
      "R²(D): 0.862\n"
     ]
    }
   ],
   "source": [
    "D = [\n",
    "    ((153.3), 47.1),\n",
    "    ((158.9), 46.8),\n",
    "    ((160.8), 49.3),\n",
    "    ((179.6), 53.2),\n",
    "    ((156.6), 47.7),\n",
    "    ((165.1), 49.0),\n",
    "    ((165.9), 50.6),\n",
    "    ((156.7), 47.1),\n",
    "    ((167.8), 51.7),\n",
    "    ((160.8), 47.8)\n",
    "]\n",
    "\n",
    "# Trennen Sie die Merkmale und die Zielwerte\n",
    "features = np.array([x for (x, y) in D]).reshape(-1, 1)\n",
    "targets = np.array([y for (x, y) in D])\n",
    "\n",
    "ridge_regr = Ridge(alpha=0.1).fit(features,targets)\n",
    "ridge_regr.score(features,targets)\n",
    "\n",
    "theta_0 = ridge_regr.intercept_ #konstante θ0 \n",
    "theta_koef = ridge_regr.coef_ #(θ1*x1 + θ2*x2 + ... + θk*xk)\n",
    "\n",
    "print(f\"Das optimale Ridge-Regressions Modell ist: h(x) = {round(theta_0,3)} + \\n{theta_koef} x\\n\")\n",
    "print(f'R²(D): {round(ridge_regr.score(features,targets),3)}')\n"
   ]
  },
  {
   "cell_type": "markdown",
   "id": "ac9cac54-544e-495c-ae06-1c0e41c42d11",
   "metadata": {
    "jp-MarkdownHeadingCollapsed": true
   },
   "source": [
    "##### Polynomische Merkmale + Ridge-Regression\n"
   ]
  },
  {
   "cell_type": "code",
   "execution_count": 70,
   "id": "c8928e59-e8ea-46e2-99ec-ae2095232d04",
   "metadata": {},
   "outputs": [
    {
     "name": "stdout",
     "output_type": "stream",
     "text": [
      "[[1.000000e+00 1.533000e+02 2.350089e+04]\n",
      " [1.000000e+00 1.589000e+02 2.524921e+04]\n",
      " [1.000000e+00 1.608000e+02 2.585664e+04]\n",
      " [1.000000e+00 1.796000e+02 3.225616e+04]\n",
      " [1.000000e+00 1.566000e+02 2.452356e+04]\n",
      " [1.000000e+00 1.651000e+02 2.725801e+04]\n",
      " [1.000000e+00 1.659000e+02 2.752281e+04]\n",
      " [1.000000e+00 1.567000e+02 2.455489e+04]\n",
      " [1.000000e+00 1.678000e+02 2.815684e+04]\n",
      " [1.000000e+00 1.608000e+02 2.585664e+04]]\n",
      "[1, 153, 23501]\n",
      "[1, 159, 25249]\n",
      "[1, 161, 25857]\n",
      "[1, 180, 32256]\n",
      "[1, 157, 24524]\n",
      "[1, 165, 27258]\n",
      "[1, 166, 27523]\n",
      "[1, 157, 24555]\n",
      "[1, 168, 28157]\n",
      "[1, 161, 25857]\n",
      "Das optimale trainierte Modell ist: h(x) = -32.058 + \n",
      "[ 0.          0.7195757  -0.00135527] x\n"
     ]
    }
   ],
   "source": [
    "import math\n",
    "\n",
    "D = [\n",
    "    ((153.3), 47.1),\n",
    "    ((158.9), 46.8),\n",
    "    ((160.8), 49.3),\n",
    "    ((179.6), 53.2),\n",
    "    ((156.6), 47.7),\n",
    "    ((165.1), 49.0),\n",
    "    ((165.9), 50.6),\n",
    "    ((156.7), 47.1),\n",
    "    ((167.8), 51.7),\n",
    "    ((160.8), 47.8)\n",
    "]\n",
    "\n",
    "# Trennen Sie die Merkmale und die Zielwerte\n",
    "features = np.array([x for (x, y) in D]).reshape(-1, 1)\n",
    "targets = np.array([y for (x, y) in D])\n",
    "\n",
    "# Erstellen Sie das PolynomialFeatures-Objekt mit Grad 2\n",
    "poly = PolynomialFeatures(2)\n",
    "\n",
    "# Wenden Sie die Transformation auf Ihre Daten an\n",
    "features_poly = poly.fit_transform(features)\n",
    "\n",
    "# Jetzt enthält 'features_poly' die polynomiale Merkmalserweiterung von 'features'\n",
    "print(\"\\nLass die 1 weg:\")\n",
    "print(features_poly)\n",
    "\n",
    "# Anwendung der math.floor oder math.ceil Funktion auf jede Zahl in jeder Liste\n",
    "correctly_rounded_data = [[math.floor(number + 0.5) if number >= 0 else math.ceil(number - 0.5) for number in sublist] for sublist in features_poly]\n",
    "\n",
    "# Ausgabe der korrekt gerundeten Daten\n",
    "for sublist in correctly_rounded_data:\n",
    "    print(sublist)\n",
    "\n",
    "poly_regr = LinearRegression().fit(features_poly,targets)\n",
    "y_pred = poly_regr.predict(features_poly)\n",
    "\n",
    "theta_0 = poly_regr.intercept_ #konstante θ0 \n",
    "theta_koef = poly_regr.coef_ #(θ1*x1 + θ2*x2 + ... + θk*xk)\n",
    "\n",
    "print(f\"Das polynomialerweiterte Modell ist: h(x) = {round(theta_0,3)} + \\n{theta_koef} x\\n\")\n",
    "\n",
    "ridge_regr = Ridge(alpha=0.1).fit(features_poly,targets)\n",
    "ridge_regr.score(features_poly,targets)\n",
    "\n",
    "theta_0 = ridge_regr.intercept_ #konstante θ0 \n",
    "theta_koef = ridge_regr.coef_ #(θ1*x1 + θ2*x2 + ... + θk*xk)\n",
    "\n",
    "print(f\"Das optimale Ridge-Regressions Modell ist: h(x) = {round(theta_0,3)} + \\n{theta_koef} x\\n\")"
   ]
  },
  {
   "cell_type": "markdown",
   "id": "6c712012-8749-4ee1-abfe-100d402c583c",
   "metadata": {
    "jp-MarkdownHeadingCollapsed": true
   },
   "source": [
    "##### 6. Kreuzvalidierung (engl. cross validation)"
   ]
  },
  {
   "cell_type": "code",
   "execution_count": 87,
   "id": "983c8832-461a-4209-9550-990fe1a02447",
   "metadata": {},
   "outputs": [
    {
     "data": {
      "text/plain": [
       "array([0.75468997, 0.74975476, 0.77382931])"
      ]
     },
     "execution_count": 87,
     "metadata": {},
     "output_type": "execute_result"
    }
   ],
   "source": [
    "from sklearn.model_selection import cross_val_score\n",
    "\n",
    "scores = cross_val_score(LinearRegression(), X, y, cv=3)\n",
    "scores"
   ]
  },
  {
   "cell_type": "code",
   "execution_count": 12,
   "id": "facc57bd-554d-412f-8461-f1f670b3fd50",
   "metadata": {},
   "outputs": [
    {
     "data": {
      "text/plain": [
       "0.7594246779223471"
      ]
     },
     "execution_count": 12,
     "metadata": {},
     "output_type": "execute_result"
    }
   ],
   "source": [
    "scores.mean()"
   ]
  },
  {
   "cell_type": "markdown",
   "id": "ed8f8598-f883-4f1c-a6d1-440f29f95967",
   "metadata": {},
   "source": [
    "#### 2. 3D modell <a name=2_1_3D><a>"
   ]
  },
  {
   "cell_type": "markdown",
   "id": "cdaadc50-9b6a-4afb-95e3-bc7c810bf0fd",
   "metadata": {
    "jp-MarkdownHeadingCollapsed": true
   },
   "source": [
    "##### optimale trainierte Modell "
   ]
  },
  {
   "cell_type": "code",
   "execution_count": 84,
   "id": "ab692f59-d2fd-4b84-b1e7-913d77afa08f",
   "metadata": {},
   "outputs": [
    {
     "data": {
      "text/plain": [
       "array([[23, 36],\n",
       "       [23, 34],\n",
       "       [26, 29],\n",
       "       [21, 40],\n",
       "       [20, 33],\n",
       "       [25, 35]], dtype=int64)"
      ]
     },
     "execution_count": 84,
     "metadata": {},
     "output_type": "execute_result"
    }
   ],
   "source": [
    "# Ihr Datensatz\n",
    "D = [((23,36),0.1),((23,34),0),((26,29),1.2),((21,40),-0.5),((20,33),-1.5),((25,35),0.7)]\n",
    "\n",
    "# Umwandlung in DataFrame\n",
    "df = pd.DataFrame(D, columns=['x', 'y'])\n",
    "df[['x1', 'x2']] = pd.DataFrame(df['x'].tolist(), index=df.index)\n",
    "df = df.drop('x', axis=1)\n",
    "\n",
    "X = df[['x1', 'x2']].to_numpy()\n",
    "y = df['y'].to_numpy()#\n",
    "X"
   ]
  },
  {
   "cell_type": "code",
   "execution_count": 64,
   "id": "5ff07042-f6b1-4011-be66-06e08287ae63",
   "metadata": {},
   "outputs": [
    {
     "name": "stdout",
     "output_type": "stream",
     "text": [
      "Das optimale trainierte Modell ist: h(x) = -11.918 + 0.445x1 + 0.049x2 \n"
     ]
    }
   ],
   "source": [
    "regr = LinearRegression().fit(X,y)\n",
    "y_pred = regr.predict(X)\n",
    "\n",
    "theta_0 = regr.intercept_ #konstante θ0 \n",
    "theta_koef = regr.coef_ #(θ1*x1 + θ2*x2 + ... + θk*xk)\n",
    "\n",
    "print(f\"Das optimale trainierte Modell ist: h(x) = {round(theta_0,3)} + {round(theta_koef[0],3)}x1 + {round(theta_koef[1],3)}x2 \")"
   ]
  },
  {
   "cell_type": "markdown",
   "id": "4dc06458-a8d6-4cb4-a99a-a6093cfca0e2",
   "metadata": {
    "jp-MarkdownHeadingCollapsed": true
   },
   "source": [
    "##### Evaluation: Datensatz teilen"
   ]
  },
  {
   "cell_type": "code",
   "execution_count": 71,
   "id": "16bfade6-4f2b-4863-91a4-0106e609a76e",
   "metadata": {},
   "outputs": [
    {
     "data": {
      "text/html": [
       "<style>#sk-container-id-1 {color: black;}#sk-container-id-1 pre{padding: 0;}#sk-container-id-1 div.sk-toggleable {background-color: white;}#sk-container-id-1 label.sk-toggleable__label {cursor: pointer;display: block;width: 100%;margin-bottom: 0;padding: 0.3em;box-sizing: border-box;text-align: center;}#sk-container-id-1 label.sk-toggleable__label-arrow:before {content: \"▸\";float: left;margin-right: 0.25em;color: #696969;}#sk-container-id-1 label.sk-toggleable__label-arrow:hover:before {color: black;}#sk-container-id-1 div.sk-estimator:hover label.sk-toggleable__label-arrow:before {color: black;}#sk-container-id-1 div.sk-toggleable__content {max-height: 0;max-width: 0;overflow: hidden;text-align: left;background-color: #f0f8ff;}#sk-container-id-1 div.sk-toggleable__content pre {margin: 0.2em;color: black;border-radius: 0.25em;background-color: #f0f8ff;}#sk-container-id-1 input.sk-toggleable__control:checked~div.sk-toggleable__content {max-height: 200px;max-width: 100%;overflow: auto;}#sk-container-id-1 input.sk-toggleable__control:checked~label.sk-toggleable__label-arrow:before {content: \"▾\";}#sk-container-id-1 div.sk-estimator input.sk-toggleable__control:checked~label.sk-toggleable__label {background-color: #d4ebff;}#sk-container-id-1 div.sk-label input.sk-toggleable__control:checked~label.sk-toggleable__label {background-color: #d4ebff;}#sk-container-id-1 input.sk-hidden--visually {border: 0;clip: rect(1px 1px 1px 1px);clip: rect(1px, 1px, 1px, 1px);height: 1px;margin: -1px;overflow: hidden;padding: 0;position: absolute;width: 1px;}#sk-container-id-1 div.sk-estimator {font-family: monospace;background-color: #f0f8ff;border: 1px dotted black;border-radius: 0.25em;box-sizing: border-box;margin-bottom: 0.5em;}#sk-container-id-1 div.sk-estimator:hover {background-color: #d4ebff;}#sk-container-id-1 div.sk-parallel-item::after {content: \"\";width: 100%;border-bottom: 1px solid gray;flex-grow: 1;}#sk-container-id-1 div.sk-label:hover label.sk-toggleable__label {background-color: #d4ebff;}#sk-container-id-1 div.sk-serial::before {content: \"\";position: absolute;border-left: 1px solid gray;box-sizing: border-box;top: 0;bottom: 0;left: 50%;z-index: 0;}#sk-container-id-1 div.sk-serial {display: flex;flex-direction: column;align-items: center;background-color: white;padding-right: 0.2em;padding-left: 0.2em;position: relative;}#sk-container-id-1 div.sk-item {position: relative;z-index: 1;}#sk-container-id-1 div.sk-parallel {display: flex;align-items: stretch;justify-content: center;background-color: white;position: relative;}#sk-container-id-1 div.sk-item::before, #sk-container-id-1 div.sk-parallel-item::before {content: \"\";position: absolute;border-left: 1px solid gray;box-sizing: border-box;top: 0;bottom: 0;left: 50%;z-index: -1;}#sk-container-id-1 div.sk-parallel-item {display: flex;flex-direction: column;z-index: 1;position: relative;background-color: white;}#sk-container-id-1 div.sk-parallel-item:first-child::after {align-self: flex-end;width: 50%;}#sk-container-id-1 div.sk-parallel-item:last-child::after {align-self: flex-start;width: 50%;}#sk-container-id-1 div.sk-parallel-item:only-child::after {width: 0;}#sk-container-id-1 div.sk-dashed-wrapped {border: 1px dashed gray;margin: 0 0.4em 0.5em 0.4em;box-sizing: border-box;padding-bottom: 0.4em;background-color: white;}#sk-container-id-1 div.sk-label label {font-family: monospace;font-weight: bold;display: inline-block;line-height: 1.2em;}#sk-container-id-1 div.sk-label-container {text-align: center;}#sk-container-id-1 div.sk-container {/* jupyter's `normalize.less` sets `[hidden] { display: none; }` but bootstrap.min.css set `[hidden] { display: none !important; }` so we also need the `!important` here to be able to override the default hidden behavior on the sphinx rendered scikit-learn.org. See: https://github.com/scikit-learn/scikit-learn/issues/21755 */display: inline-block !important;position: relative;}#sk-container-id-1 div.sk-text-repr-fallback {display: none;}</style><div id=\"sk-container-id-1\" class=\"sk-top-container\"><div class=\"sk-text-repr-fallback\"><pre>LinearRegression()</pre><b>In a Jupyter environment, please rerun this cell to show the HTML representation or trust the notebook. <br />On GitHub, the HTML representation is unable to render, please try loading this page with nbviewer.org.</b></div><div class=\"sk-container\" hidden><div class=\"sk-item\"><div class=\"sk-estimator sk-toggleable\"><input class=\"sk-toggleable__control sk-hidden--visually\" id=\"sk-estimator-id-1\" type=\"checkbox\" checked><label for=\"sk-estimator-id-1\" class=\"sk-toggleable__label sk-toggleable__label-arrow\">LinearRegression</label><div class=\"sk-toggleable__content\"><pre>LinearRegression()</pre></div></div></div></div></div>"
      ],
      "text/plain": [
       "LinearRegression()"
      ]
     },
     "execution_count": 71,
     "metadata": {},
     "output_type": "execute_result"
    }
   ],
   "source": [
    "from sklearn.model_selection import train_test_split\n",
    "\n",
    "X_train, X_test, y_train, y_test = train_test_split(X, y, test_size=0.2)\n",
    "\n",
    "regr.fit(X_train,y_train)"
   ]
  },
  {
   "cell_type": "markdown",
   "id": "7a331cdc-6941-414c-8bb4-573a89235ff0",
   "metadata": {
    "jp-MarkdownHeadingCollapsed": true
   },
   "source": [
    "##### Bestimmtheitsmaß $R^2$-Wert\n",
    "\n",
    "$R^2(D_{ring} , f)$, $R^2(D^{train}_{ring} , f)$, $R^2(D^{test}_{ring} , f)$"
   ]
  },
  {
   "cell_type": "code",
   "execution_count": 74,
   "id": "51adf403-e01d-43e9-841e-9274c7c45832",
   "metadata": {},
   "outputs": [
    {
     "name": "stdout",
     "output_type": "stream",
     "text": [
      "R²(D): 0.767\n",
      "R²(Dtrain): 0.998\n",
      "R²(Dtest): 0.082\n"
     ]
    }
   ],
   "source": [
    "\n",
    "print(f'R²(D): {round(regr.score(X,y),3)}')\n",
    "print(f'R²(Dtrain): {round(regr.score(X_train, y_train),3)}')\n",
    "print(f'R²(Dtest): {round(regr.score(X_test, y_test),3)}')\n"
   ]
  },
  {
   "cell_type": "markdown",
   "id": "0d146768-7c75-45e2-9c73-e870c0cb1ae3",
   "metadata": {
    "jp-MarkdownHeadingCollapsed": true
   },
   "source": [
    "##### Ridge-Regression\n"
   ]
  },
  {
   "cell_type": "code",
   "execution_count": 81,
   "id": "c105365d-9c43-42b3-9434-fefaefa51439",
   "metadata": {},
   "outputs": [
    {
     "name": "stdout",
     "output_type": "stream",
     "text": [
      "Das optimale Ridge-Regressions Modell ist: h(x) = -0.278 + \n",
      "[0.34710592 0.36072884] x\n",
      "\n"
     ]
    }
   ],
   "source": [
    "D=[((12,7),5.5),((10,8),6),((10,7.5),7),((15,5),6.5),((16,9),7.5),((18,8),10)]\n",
    "\n",
    "# Trennen Sie die Merkmale und die Zielwerte\n",
    "features = np.array([x for (x, y) in D])\n",
    "targets = np.array([y for (x, y) in D])\n",
    "\n",
    "ridge_regr = Ridge(alpha=0.1).fit(features,targets)\n",
    "ridge_regr.score(features,targets)\n",
    "\n",
    "theta_0 = ridge_regr.intercept_ #konstante θ0 \n",
    "theta_koef = ridge_regr.coef_ #(θ1*x1 + θ2*x2 + ... + θk*xk)\n",
    "\n",
    "print(f\"Das optimale Ridge-Regressions Modell ist: h(x) = {round(theta_0,3)} + \\n{theta_koef} x\\n\")"
   ]
  },
  {
   "cell_type": "markdown",
   "id": "068c11b2-87b4-42ea-8993-0b7fdf8cac40",
   "metadata": {
    "jp-MarkdownHeadingCollapsed": true
   },
   "source": [
    "##### Polynomische Merkmale + Ridge-Regression\n"
   ]
  },
  {
   "cell_type": "code",
   "execution_count": 80,
   "id": "29038a48-ff41-4084-b5de-dc625cf2f886",
   "metadata": {},
   "outputs": [
    {
     "name": "stdout",
     "output_type": "stream",
     "text": [
      "[[  1.    12.     7.   144.    84.    49.  ]\n",
      " [  1.    10.     8.   100.    80.    64.  ]\n",
      " [  1.    10.     7.5  100.    75.    56.25]\n",
      " [  1.    15.     5.   225.    75.    25.  ]\n",
      " [  1.    16.     9.   256.   144.    81.  ]\n",
      " [  1.    18.     8.   324.   144.    64.  ]]\n",
      "[1, 12, 7, 144, 84, 49]\n",
      "[1, 10, 8, 100, 80, 64]\n",
      "[1, 10, 8, 100, 75, 56]\n",
      "[1, 15, 5, 225, 75, 25]\n",
      "[1, 16, 9, 256, 144, 81]\n",
      "[1, 18, 8, 324, 144, 64]\n",
      "Das polynomialerweiterte Modell ist: h(x) = 113.556 + \n",
      "[  0.          -9.56666667 -11.43333333   0.22777778   0.46111111\n",
      "   0.31111111] x\n",
      "\n",
      "Das optimale Ridge-Regressions Modell ist: h(x) = 16.685 + \n",
      "[ 0.         -2.36485976  0.72373789  0.10866119 -0.03182999 -0.01165762] x\n",
      "\n"
     ]
    }
   ],
   "source": [
    "import math\n",
    "\n",
    "D=[((12,7),5.5),((10,8),6),((10,7.5),7),((15,5),6.5),((16,9),7.5),((18,8),10)]\n",
    "\n",
    "# Trennen Sie die Merkmale und die Zielwerte\n",
    "features = np.array([x for (x, y) in D])\n",
    "targets = np.array([y for (x, y) in D])\n",
    "\n",
    "# Erstellen Sie das PolynomialFeatures-Objekt mit Grad 2\n",
    "poly = PolynomialFeatures(2)\n",
    "\n",
    "# Wenden Sie die Transformation auf Ihre Daten an\n",
    "features_poly = poly.fit_transform(features)\n",
    "\n",
    "# Jetzt enthält 'features_poly' die polynomiale Merkmalserweiterung von 'features'\n",
    "print(\"\\nLass die 1 weg:\")\n",
    "print(features_poly)\n",
    "\n",
    "# Anwendung der math.floor oder math.ceil Funktion auf jede Zahl in jeder Liste\n",
    "correctly_rounded_data = [[math.floor(number + 0.5) if number >= 0 else math.ceil(number - 0.5) for number in sublist] for sublist in features_poly]\n",
    "\n",
    "# Ausgabe der korrekt gerundeten Daten\n",
    "for sublist in correctly_rounded_data:\n",
    "    print(sublist)\n",
    "\n",
    "poly_regr = LinearRegression().fit(features_poly,targets)\n",
    "y_pred = poly_regr.predict(features_poly)\n",
    "\n",
    "theta_0 = poly_regr.intercept_ #konstante θ0 \n",
    "theta_koef = poly_regr.coef_ #(θ1*x1 + θ2*x2 + ... + θk*xk)\n",
    "\n",
    "print(f\"Das polynomialerweiterte Modell ist: h(x) = {round(theta_0,3)} + \\n{theta_koef} x\\n\")\n",
    "\n",
    "ridge_regr = Ridge(alpha=0.1).fit(features_poly,targets)\n",
    "ridge_regr.score(features_poly,targets)\n",
    "\n",
    "theta_0 = ridge_regr.intercept_ #konstante θ0 \n",
    "theta_koef = ridge_regr.coef_ #(θ1*x1 + θ2*x2 + ... + θk*xk)\n",
    "\n",
    "print(f\"Das optimale Ridge-Regressions Modell ist: h(x) = {round(theta_0,3)} + \\n{theta_koef} x\\n\")"
   ]
  },
  {
   "cell_type": "markdown",
   "id": "36f6dae0-123d-4c3d-b6c9-7074d013cbd4",
   "metadata": {
    "jp-MarkdownHeadingCollapsed": true
   },
   "source": [
    "##### 6. Kreuzvalidierung (engl. cross validation)"
   ]
  },
  {
   "cell_type": "code",
   "execution_count": 85,
   "id": "bbec0ab2-5a06-4973-a2ec-89c82a58c61b",
   "metadata": {},
   "outputs": [
    {
     "data": {
      "text/plain": [
       "array([0.384964  , 0.67602274, 0.92823118])"
      ]
     },
     "execution_count": 85,
     "metadata": {},
     "output_type": "execute_result"
    }
   ],
   "source": [
    "from sklearn.model_selection import cross_val_score\n",
    "\n",
    "scores = cross_val_score(LinearRegression(), X, y, cv=3)\n",
    "scores"
   ]
  },
  {
   "cell_type": "code",
   "execution_count": 12,
   "id": "e3271dca-01c7-443e-84ea-e3bf42498062",
   "metadata": {},
   "outputs": [
    {
     "data": {
      "text/plain": [
       "0.7594246779223471"
      ]
     },
     "execution_count": 12,
     "metadata": {},
     "output_type": "execute_result"
    }
   ],
   "source": [
    "scores.mean()"
   ]
  },
  {
   "cell_type": "markdown",
   "id": "8957903a-daa5-45c2-b554-30e07186e14b",
   "metadata": {
    "jp-MarkdownHeadingCollapsed": true
   },
   "source": [
    "### 2.2. logistische Regression <a name=2.2.><a>"
   ]
  },
  {
   "cell_type": "code",
   "execution_count": 13,
   "id": "ebcf1885-30ee-41be-9382-925526a61690",
   "metadata": {},
   "outputs": [],
   "source": [
    "import pandas as pd\n",
    "import numpy as np\n",
    "import matplotlib.pyplot as plt\n",
    "from sklearn.metrics import accuracy_score\n",
    "from sklearn.metrics import precision_score\n",
    "from sklearn.metrics import recall_score\n",
    "from sklearn.metrics import f1_score\n",
    "from sklearn.metrics import confusion_matrix\n"
   ]
  },
  {
   "cell_type": "markdown",
   "id": "66c0d096-0828-40b6-b092-361803495c3b",
   "metadata": {
    "jp-MarkdownHeadingCollapsed": true
   },
   "source": [
    "#### 1. 2D modell <a name=2_2_2D><a>"
   ]
  },
  {
   "cell_type": "code",
   "execution_count": 43,
   "id": "92693a69-51a3-46a4-bd6e-21127b9e238f",
   "metadata": {},
   "outputs": [],
   "source": [
    "# Ihre Daten\n",
    "D = [\n",
    "    ((5), 0),\n",
    "    ((14), 1),\n",
    "    ((10), 1),\n",
    "    ((7), 1),\n",
    "    ((2), 0),\n",
    "    ((1), 0),\n",
    "    ((9), 1),\n",
    "    ((8), 0),\n",
    "    ((3), 0),\n",
    "    ((13), 1)\n",
    "]\n",
    "\n",
    "# Umwandlung in DataFrame\n",
    "df = pd.DataFrame(D, columns=['x', 'y'])\n",
    "\n",
    "# Umwandlung in Numpy Arrays\n",
    "X = np.array(df['x']).reshape(-1, 1)\n",
    "y = np.array(df['y']).reshape(-1, 1)"
   ]
  },
  {
   "cell_type": "code",
   "execution_count": 42,
   "id": "13b0681a-3c35-4c23-b22b-1aa51a831a08",
   "metadata": {},
   "outputs": [
    {
     "name": "stderr",
     "output_type": "stream",
     "text": [
      "C:\\Users\\maayo\\PycharmProjects\\Sem2_ML\\venv\\Lib\\site-packages\\sklearn\\utils\\validation.py:1183: DataConversionWarning: A column-vector y was passed when a 1d array was expected. Please change the shape of y to (n_samples, ), for example using ravel().\n",
      "  y = column_or_1d(y, warn=True)\n"
     ]
    }
   ],
   "source": [
    "from sklearn.linear_model import LogisticRegression\n",
    "\n",
    "clf = LogisticRegression().fit(X,y)\n",
    "y_predicted = clf.predict(X)"
   ]
  },
  {
   "cell_type": "code",
   "execution_count": 44,
   "id": "47d5d20f-c6f9-4d18-9431-f73659220dcc",
   "metadata": {},
   "outputs": [
    {
     "data": {
      "text/plain": [
       "array([-5.559,  0.771])"
      ]
     },
     "execution_count": 44,
     "metadata": {},
     "output_type": "execute_result"
    }
   ],
   "source": [
    "theta = np.concatenate((clf.intercept_, clf.coef_[0]))\n",
    "np.round(theta, 3)"
   ]
  },
  {
   "cell_type": "code",
   "execution_count": 45,
   "id": "7c0592b7-7c2a-4f8f-8288-d1cef46edb11",
   "metadata": {},
   "outputs": [
    {
     "name": "stdout",
     "output_type": "stream",
     "text": [
      "\n",
      "Genauigkeit: 0.800\n",
      "Präzesion: 0.800\n",
      "Sensitivität (Recall): 0.800\n",
      "F1-Maß: 0.800\n",
      "[[4 1]\n",
      " [1 4]]\n"
     ]
    }
   ],
   "source": [
    "print(f\"\\nGenauigkeit: {accuracy_score(y, y_predicted):.3f}\")\n",
    "print(f\"Präzesion: {precision_score(y, y_predicted, zero_division=0):.3f}\")\n",
    "print(f\"Sensitivität (Recall): {recall_score(y, y_predicted, zero_division=0):.3f}\")\n",
    "print(f\"F1-Maß: {f1_score(y, y_predicted, zero_division=0):.3f}\")\n",
    "\n",
    "c_matrix = confusion_matrix(y, y_predicted)\n",
    "print(c_matrix)"
   ]
  },
  {
   "cell_type": "code",
   "execution_count": 47,
   "id": "d8d26f79-45e5-487a-960b-30359711b91a",
   "metadata": {},
   "outputs": [
    {
     "name": "stdout",
     "output_type": "stream",
     "text": [
      "[[  1.   5.  25.]\n",
      " [  1.  14. 196.]\n",
      " [  1.  10. 100.]\n",
      " [  1.   7.  49.]\n",
      " [  1.   2.   4.]\n",
      " [  1.   1.   1.]\n",
      " [  1.   9.  81.]\n",
      " [  1.   8.  64.]\n",
      " [  1.   3.   9.]\n",
      " [  1.  13. 169.]]\n",
      "[1, 5, 25]\n",
      "[1, 14, 196]\n",
      "[1, 10, 100]\n",
      "[1, 7, 49]\n",
      "[1, 2, 4]\n",
      "[1, 1, 1]\n",
      "[1, 9, 81]\n",
      "[1, 8, 64]\n",
      "[1, 3, 9]\n",
      "[1, 13, 169]\n",
      "Das polynomialerweiterte Modell ist: h(x) = -4.664 + \n",
      "[-0.     0.099  0.07 ] x\n",
      "\n"
     ]
    }
   ],
   "source": [
    "import math\n",
    "from sklearn.preprocessing import PolynomialFeatures\n",
    "\n",
    "D=[\n",
    "  ((5), 0),\n",
    "    ((14), 1),\n",
    "    ((10), 1),\n",
    "    ((7), 1),\n",
    "    ((2), 0),\n",
    "    ((1), 0),\n",
    "    ((9), 1),\n",
    "    ((8), 0),\n",
    "    ((3), 0),\n",
    "    ((13), 1)\n",
    "]\n",
    "\n",
    "# Trennen Sie die Merkmale und die Zielwerte\n",
    "features = np.array([x for (x, y) in D]).reshape(-1, 1)\n",
    "targets = np.array([y for (x, y) in D])\n",
    "\n",
    "# Erstellen Sie das PolynomialFeatures-Objekt mit Grad 2\n",
    "poly = PolynomialFeatures(2)\n",
    "\n",
    "# Wenden Sie die Transformation auf Ihre Daten an\n",
    "features_poly = poly.fit_transform(features)\n",
    "\n",
    "# Jetzt enthält 'features_poly' die polynomiale Merkmalserweiterung von 'features'\n",
    "print(\"\\nLass die 1 weg:\")\n",
    "print(features_poly)\n",
    "\n",
    "# Anwendung der math.floor oder math.ceil Funktion auf jede Zahl in jeder Liste\n",
    "correctly_rounded_data = [[math.floor(number + 0.5) if number >= 0 else math.ceil(number - 0.5) for number in sublist] for sublist in features_poly]\n",
    "\n",
    "# Ausgabe der korrekt gerundeten Daten\n",
    "for sublist in correctly_rounded_data:\n",
    "    print(sublist)\n",
    "\n",
    "poly_regr = LogisticRegression().fit(features_poly,targets)\n",
    "y_pred = poly_regr.predict(features_poly)\n",
    "\n",
    "\n",
    "theta = np.concatenate((poly_regr.intercept_, poly_regr.coef_[0]))\n",
    "theta = np.round(theta, 3)\n",
    "print(f\"Das polynomialerweiterte Modell ist: h(x) = {theta[0]} + \\n{theta[1:]} x\\n\")"
   ]
  },
  {
   "cell_type": "markdown",
   "id": "e8cec970-75bd-40e2-b48f-7697fb60b526",
   "metadata": {
    "jp-MarkdownHeadingCollapsed": true
   },
   "source": [
    "#### 2. 3D modell <a name=2_2_3D><a>"
   ]
  },
  {
   "cell_type": "code",
   "execution_count": 32,
   "id": "5c5572dd-554f-4e5d-ba5e-26f666619cdf",
   "metadata": {},
   "outputs": [
    {
     "data": {
      "text/plain": [
       "array([[12, 11],\n",
       "       [13, 14],\n",
       "       [11,  8],\n",
       "       [ 6,  2],\n",
       "       [12, 10],\n",
       "       [ 7, 11]], dtype=int64)"
      ]
     },
     "execution_count": 32,
     "metadata": {},
     "output_type": "execute_result"
    }
   ],
   "source": [
    "# Ihre Daten\n",
    "D = [\n",
    "    ((12,11),0),((13,14),1),((11,8),1),((6,2),0),((12,10),0),((7,11),0)\n",
    "]\n",
    "\n",
    "# Umwandlung in DataFrame\n",
    "df = pd.DataFrame(D, columns=['x', 'y'])\n",
    "df[['x1', 'x2']] = pd.DataFrame(df['x'].tolist(), index=df.index)\n",
    "df = df.drop('x', axis=1)\n",
    "\n",
    "X = df[['x1', 'x2']].to_numpy()\n",
    "y = df['y'].to_numpy()#\n",
    "X"
   ]
  },
  {
   "cell_type": "code",
   "execution_count": 33,
   "id": "be2e9a22-97e9-4502-aa3d-231996c0acb9",
   "metadata": {},
   "outputs": [],
   "source": [
    "from sklearn.linear_model import LogisticRegression\n",
    "\n",
    "clf = LogisticRegression().fit(X,y)\n",
    "y_predicted = clf.predict(X)"
   ]
  },
  {
   "cell_type": "code",
   "execution_count": 34,
   "id": "34837236-3dea-49a9-ac2c-876c0f283a77",
   "metadata": {},
   "outputs": [
    {
     "data": {
      "text/plain": [
       "array([-5.806,  0.438,  0.039])"
      ]
     },
     "execution_count": 34,
     "metadata": {},
     "output_type": "execute_result"
    }
   ],
   "source": [
    "theta = np.concatenate((clf.intercept_, clf.coef_[0]))\n",
    "np.round(theta, 3)"
   ]
  },
  {
   "cell_type": "code",
   "execution_count": 35,
   "id": "aa64b507-906f-43fb-bccf-37307ef824cc",
   "metadata": {},
   "outputs": [
    {
     "name": "stdout",
     "output_type": "stream",
     "text": [
      "\n",
      "Genauigkeit: 0.833\n",
      "Präzesion: 1.000\n",
      "Sensitivität (Recall): 0.500\n",
      "F1-Maß: 0.667\n",
      "[[4 0]\n",
      " [1 1]]\n"
     ]
    }
   ],
   "source": [
    "print(f\"\\nGenauigkeit: {accuracy_score(y, y_predicted):.3f}\")\n",
    "print(f\"Präzesion: {precision_score(y, y_predicted, zero_division=0):.3f}\")\n",
    "print(f\"Sensitivität (Recall): {recall_score(y, y_predicted, zero_division=0):.3f}\")\n",
    "print(f\"F1-Maß: {f1_score(y, y_predicted, zero_division=0):.3f}\")\n",
    "\n",
    "c_matrix = confusion_matrix(y, y_predicted)\n",
    "print(c_matrix)"
   ]
  },
  {
   "cell_type": "code",
   "execution_count": 40,
   "id": "190861dc-4f14-47fd-bab3-cc8db09c8a9a",
   "metadata": {},
   "outputs": [
    {
     "name": "stdout",
     "output_type": "stream",
     "text": [
      "[[  1.  12.  11. 144. 132. 121.]\n",
      " [  1.  13.  14. 169. 182. 196.]\n",
      " [  1.  11.   8. 121.  88.  64.]\n",
      " [  1.   6.   2.  36.  12.   4.]\n",
      " [  1.  12.  10. 144. 120. 100.]\n",
      " [  1.   7.  11.  49.  77. 121.]]\n",
      "[1, 12, 11, 144, 132, 121]\n",
      "[1, 13, 14, 169, 182, 196]\n",
      "[1, 11, 8, 121, 88, 64]\n",
      "[1, 6, 2, 36, 12, 4]\n",
      "[1, 12, 10, 144, 120, 100]\n",
      "[1, 7, 11, 49, 77, 121]\n",
      "[-1.12646697e+01  1.37983432e-06  6.43561596e-02 -2.01973206e-01\n",
      "  3.86460861e-01 -6.35349697e-01  3.29889191e-01]\n",
      "Das polynomialerweiterte Modell ist: h(x) = -11.265 + \n",
      "[ 0.     0.064 -0.202  0.386 -0.635  0.33 ] x\n",
      "\n"
     ]
    }
   ],
   "source": [
    "import math\n",
    "from sklearn.preprocessing import PolynomialFeatures\n",
    "\n",
    "D=[\n",
    "((12,11),0),((13,14),1),((11,8),1),((6,2),0),((12,10),0),((7,11),0)\n",
    "]\n",
    "\n",
    "# Trennen Sie die Merkmale und die Zielwerte\n",
    "features = np.array([x for (x, y) in D])\n",
    "targets = np.array([y for (x, y) in D])\n",
    "\n",
    "# Erstellen Sie das PolynomialFeatures-Objekt mit Grad 2\n",
    "poly = PolynomialFeatures(2)\n",
    "\n",
    "# Wenden Sie die Transformation auf Ihre Daten an\n",
    "features_poly = poly.fit_transform(features)\n",
    "\n",
    "# Jetzt enthält 'features_poly' die polynomiale Merkmalserweiterung von 'features'\n",
    "print(\"\\nLass die 1 weg:\")\n",
    "print(features_poly)\n",
    "\n",
    "# Anwendung der math.floor oder math.ceil Funktion auf jede Zahl in jeder Liste\n",
    "correctly_rounded_data = [[math.floor(number + 0.5) if number >= 0 else math.ceil(number - 0.5) for number in sublist] for sublist in features_poly]\n",
    "\n",
    "# Ausgabe der korrekt gerundeten Daten\n",
    "for sublist in correctly_rounded_data:\n",
    "    print(sublist)\n",
    "\n",
    "poly_regr = LogisticRegression().fit(features_poly,targets)\n",
    "y_pred = poly_regr.predict(features_poly)\n",
    "\n",
    "\n",
    "theta = np.concatenate((poly_regr.intercept_, poly_regr.coef_[0]))\n",
    "theta = np.round(theta, 3)\n",
    "print(f\"Das polynomialerweiterte Modell ist: h(x) = {theta[0]} + \\n{theta[1:]} x\\n\")"
   ]
  },
  {
   "cell_type": "markdown",
   "id": "8d86d7cc-185f-4d4c-ae6b-ea53d9b1fa1c",
   "metadata": {
    "jp-MarkdownHeadingCollapsed": true
   },
   "source": [
    "#### 3. Mehrklassen: 2D modell <a name=2_2_2D><a>"
   ]
  },
  {
   "cell_type": "code",
   "execution_count": 84,
   "id": "72269c04-fe76-4693-91c1-532ae638c7a0",
   "metadata": {},
   "outputs": [
    {
     "data": {
      "text/plain": [
       "array([1, 2, 3, 4], dtype=int64)"
      ]
     },
     "execution_count": 84,
     "metadata": {},
     "output_type": "execute_result"
    }
   ],
   "source": [
    "# Ihre Daten\n",
    "D = [\n",
    "    ((0.3),1),((0.24),4),((0.33),2),((0.35),3),((0.39),3),((0.42),1)\n",
    "]\n",
    "\n",
    "# Umwandlung in DataFrame\n",
    "df = pd.DataFrame(D, columns=['x', 'y'])\n",
    "\n",
    "# Umwandlung in Numpy Arrays\n",
    "X = np.array(df['x']).reshape(-1, 1)\n",
    "y = np.array(df['y']).reshape(-1, 1)\n",
    "np.unique(y)"
   ]
  },
  {
   "cell_type": "code",
   "execution_count": 85,
   "id": "8a281f35-654e-489d-8150-b22687ba827a",
   "metadata": {},
   "outputs": [
    {
     "name": "stdout",
     "output_type": "stream",
     "text": [
      "Modellparameter (Theta) für jede Klasse:\n",
      "Klasse 1: [-0.708  0.043]\n",
      "Klasse 2: [-1.607 -0.008]\n",
      "Klasse 3: [-0.714  0.063]\n",
      "Klasse 4: [-1.576 -0.098]\n",
      "D 1 : [(0.3, 1), (0.24, 0), (0.33, 0), (0.35, 0), (0.39, 0), (0.42, 1)]\n",
      "D 2 : [(0.3, 0), (0.24, 0), (0.33, 1), (0.35, 0), (0.39, 0), (0.42, 0)]\n",
      "D 3 : [(0.3, 0), (0.24, 0), (0.33, 0), (0.35, 1), (0.39, 1), (0.42, 0)]\n",
      "D 4 : [(0.3, 0), (0.24, 1), (0.33, 0), (0.35, 0), (0.39, 0), (0.42, 0)]\n"
     ]
    },
    {
     "name": "stderr",
     "output_type": "stream",
     "text": [
      "C:\\Users\\maayo\\PycharmProjects\\Sem2_ML\\venv\\Lib\\site-packages\\sklearn\\utils\\validation.py:1183: DataConversionWarning: A column-vector y was passed when a 1d array was expected. Please change the shape of y to (n_samples, ), for example using ravel().\n",
      "  y = column_or_1d(y, warn=True)\n"
     ]
    }
   ],
   "source": [
    "from sklearn.linear_model import LogisticRegression\n",
    "\n",
    "# Modell erstellen\n",
    "clf = LogisticRegression(multi_class='ovr').fit(X, y)\n",
    "y_predicted = clf.predict(X)\n",
    "\n",
    "# Modellparameter (Theta) für jede Klasse\n",
    "thetas = clf.coef_\n",
    "inter = clf.intercept_\n",
    "\n",
    "print(\"Modellparameter (Theta) für jede Klasse:\")\n",
    "\n",
    "for c, theta in enumerate(thetas):\n",
    "    theta = np.insert(theta, 0, inter[c])\n",
    "    print(f\"Klasse {c+1}: {np.round(theta, 3)}\")\n",
    "\n",
    "# Klassendatensätze erstellen\n",
    "for e in np.unique(y):\n",
    "    print(\"D\",e,\":\", [(x, 1 if y == e else 0) for (x, y) in D])\n"
   ]
  },
  {
   "cell_type": "code",
   "execution_count": 86,
   "id": "6a1b1f61-4637-429d-a4ef-c8214c78c364",
   "metadata": {},
   "outputs": [
    {
     "name": "stdout",
     "output_type": "stream",
     "text": [
      "\n",
      "Genauigkeit: 0.500\n",
      "Präzesion: 0.500\n",
      "Sensitivität (Recall): 0.500\n",
      "F1-Maß: 0.500\n",
      "[[1 0 1 0]\n",
      " [1 0 0 0]\n",
      " [0 0 2 0]\n",
      " [1 0 0 0]]\n"
     ]
    }
   ],
   "source": [
    "print(f\"\\nGenauigkeit: {accuracy_score(y, y_predicted):.3f}\")\n",
    "print(f\"Präzesion: {precision_score(y, y_predicted, zero_division=0, average=None)}\")\n",
    "print(f\"Sensitivität (Recall): {recall_score(y, y_predicted, average=None)}\")\n",
    "print(f\"F1-Maß: {f1_score(y, y_predicted, average=None)}\")\n",
    "\n",
    "c_matrix = confusion_matrix(y, y_predicted)\n",
    "print(c_matrix)"
   ]
  },
  {
   "cell_type": "code",
   "execution_count": 89,
   "id": "3fb32d17-e514-411c-9a83-7db3e1a5100b",
   "metadata": {},
   "outputs": [
    {
     "name": "stdout",
     "output_type": "stream",
     "text": [
      "\n",
      "Lass die 1 weg:\n",
      "[[1.     0.3    0.09  ]\n",
      " [1.     0.24   0.0576]\n",
      " [1.     0.33   0.1089]\n",
      " [1.     0.35   0.1225]\n",
      " [1.     0.39   0.1521]\n",
      " [1.     0.42   0.1764]]\n",
      "[1, 0, 0]\n",
      "[1, 0, 0]\n",
      "[1, 0, 0]\n",
      "[1, 0, 0]\n",
      "[1, 0, 0]\n",
      "[1, 0, 0]\n",
      "\n",
      "Modellparameter (Theta) für jede Klasse:\n",
      "Klasse 1: [-0.711  0.     0.043  0.03 ]\n",
      "Klasse 2: [-1.606 -0.    -0.008 -0.009]\n",
      "Klasse 3: [-0.719 -0.     0.063  0.038]\n",
      "Klasse 4: [-1.569  0.    -0.098 -0.06 ]\n",
      "D 1 : [(0.3, 1), (0.24, 0), (0.33, 0), (0.35, 0), (0.39, 0), (0.42, 1)]\n",
      "D 2 : [(0.3, 0), (0.24, 0), (0.33, 1), (0.35, 0), (0.39, 0), (0.42, 0)]\n",
      "D 3 : [(0.3, 0), (0.24, 0), (0.33, 0), (0.35, 1), (0.39, 1), (0.42, 0)]\n",
      "D 4 : [(0.3, 0), (0.24, 1), (0.33, 0), (0.35, 0), (0.39, 0), (0.42, 0)]\n"
     ]
    }
   ],
   "source": [
    "import math\n",
    "from sklearn.preprocessing import PolynomialFeatures\n",
    "\n",
    "D = [\n",
    "    ((0.3),1),((0.24),4),((0.33),2),((0.35),3),((0.39),3),((0.42),1)\n",
    "]\n",
    "\n",
    "# Trennen Sie die Merkmale und die Zielwerte\n",
    "features = np.array([x for (x, y) in D]).reshape(-1, 1)\n",
    "targets = np.array([y for (x, y) in D])\n",
    "\n",
    "# Erstellen Sie das PolynomialFeatures-Objekt mit Grad 2\n",
    "poly = PolynomialFeatures(2)\n",
    "\n",
    "# Wenden Sie die Transformation auf Ihre Daten an\n",
    "features_poly = poly.fit_transform(features)\n",
    "\n",
    "# Jetzt enthält 'features_poly' die polynomiale Merkmalserweiterung von 'features'\n",
    "print(\"\\nLass die 1 weg:\")\n",
    "print(features_poly)\n",
    "\n",
    "# Anwendung der math.floor oder math.ceil Funktion auf jede Zahl in jeder Liste\n",
    "correctly_rounded_data = [[math.floor(number + 0.5) if number >= 0 else math.ceil(number - 0.5) for number in sublist] for sublist in features_poly]\n",
    "\n",
    "# Ausgabe der korrekt gerundeten Daten\n",
    "for sublist in correctly_rounded_data:\n",
    "    print(sublist)\n",
    "\n",
    "\n",
    "# Modell erstellen\n",
    "poly_clf = LogisticRegression(multi_class='ovr', max_iter=10000).fit(features_poly, targets)\n",
    "y_predicted = poly_clf.predict(features_poly)\n",
    "\n",
    "# Modellparameter (Theta) für jede Klasse\n",
    "thetas = poly_clf.coef_\n",
    "inter = poly_clf.intercept_\n",
    "\n",
    "print(\"\\nModellparameter (Theta) für jede Klasse:\")\n",
    "\n",
    "for c, theta in enumerate(thetas):\n",
    "    theta = np.insert(theta, 0, inter[c])\n",
    "    print(f\"Klasse {c+1}: {np.round(theta, 3)}\")\n",
    "\n",
    "# Klassendatensätze erstellen\n",
    "for e in set(targets):\n",
    "    print(\"D\",e,\":\", [(x, 1 if y == e else 0) for (x, y) in D])"
   ]
  },
  {
   "cell_type": "markdown",
   "id": "742ef20b-1efc-43ff-82cd-512246f2e376",
   "metadata": {
    "jp-MarkdownHeadingCollapsed": true
   },
   "source": [
    "#### 4. Mehrklassen: 3D modell <a name=2_2_3D><a>"
   ]
  },
  {
   "cell_type": "code",
   "execution_count": 73,
   "id": "d4f9daf0-6fe2-418f-9c58-adcf6328826e",
   "metadata": {},
   "outputs": [
    {
     "data": {
      "text/plain": [
       "{1, 2, 3}"
      ]
     },
     "execution_count": 73,
     "metadata": {},
     "output_type": "execute_result"
    }
   ],
   "source": [
    "# Ihre Daten\n",
    "D = [\n",
    "    ((1,80),2),((20,3),2),((5,0),1),((13,12),1),((60,30),3),((10,40),3)\n",
    "]\n",
    "\n",
    "# Umwandlung in DataFrame\n",
    "df = pd.DataFrame(D, columns=['x', 'y'])\n",
    "df[['x1', 'x2']] = pd.DataFrame(df['x'].tolist(), index=df.index)\n",
    "df = df.drop('x', axis=1)\n",
    "\n",
    "X = df[['x1', 'x2']].to_numpy()\n",
    "y = df['y'].to_numpy()#    "
   ]
  },
  {
   "cell_type": "code",
   "execution_count": 77,
   "id": "816fcab0-3741-4032-938a-bc1c380dca8a",
   "metadata": {},
   "outputs": [
    {
     "name": "stdout",
     "output_type": "stream",
     "text": [
      "Modellparameter (Theta) für jede Klasse:\n",
      "Klasse 1: [14.689 -0.789 -0.246]\n",
      "Klasse 2: [-0.917 -0.03   0.024]\n",
      "Klasse 3: [-5.138  0.196  0.053]\n",
      "D 1 : [((1, 80), 0), ((20, 3), 0), ((5, 0), 1), ((13, 12), 1), ((60, 30), 0), ((10, 40), 0)]\n",
      "D 2 : [((1, 80), 1), ((20, 3), 1), ((5, 0), 0), ((13, 12), 0), ((60, 30), 0), ((10, 40), 0)]\n",
      "D 3 : [((1, 80), 0), ((20, 3), 0), ((5, 0), 0), ((13, 12), 0), ((60, 30), 1), ((10, 40), 1)]\n"
     ]
    }
   ],
   "source": [
    "from sklearn.linear_model import LogisticRegression\n",
    "\n",
    "# Modell erstellen\n",
    "clf = LogisticRegression(multi_class='ovr').fit(X, y)\n",
    "y_predicted = clf.predict(X)\n",
    "\n",
    "# Modellparameter (Theta) für jede Klasse\n",
    "thetas = clf.coef_\n",
    "inter = clf.intercept_\n",
    "\n",
    "print(\"Modellparameter (Theta) für jede Klasse:\")\n",
    "\n",
    "for c, theta in enumerate(thetas):\n",
    "    theta = np.insert(theta, 0, inter[c])\n",
    "    print(f\"Klasse {c+1}: {np.round(theta, 3)}\")\n",
    "\n",
    "# Klassendatensätze erstellen\n",
    "for e in set(y):\n",
    "    print(\"D\",e,\":\", [(x, 1 if y == e else 0) for (x, y) in D])\n"
   ]
  },
  {
   "cell_type": "code",
   "execution_count": 100,
   "id": "35d30e75-9299-45b2-b0cd-84a2b3a7d2e0",
   "metadata": {},
   "outputs": [
    {
     "name": "stdout",
     "output_type": "stream",
     "text": [
      "\n",
      "Genauigkeit: 0.500\n",
      "Präzesion: [0.33333333 0.         0.66666667 0.        ]\n",
      "Sensitivität (Recall): [0.5 0.  1.  0. ]\n",
      "F1-Maß: [0.4 0.  0.8 0. ]\n",
      "[[1 0 1 0]\n",
      " [1 0 0 0]\n",
      " [0 0 2 0]\n",
      " [1 0 0 0]]\n"
     ]
    }
   ],
   "source": [
    "print(f\"\\nGenauigkeit: {accuracy_score(y, y_predicted):.3f}\")\n",
    "print(f\"Präzesion: {precision_score(y, y_predicted, zero_division=0, average=None)}\")\n",
    "print(f\"Sensitivität (Recall): {recall_score(y, y_predicted, average=None)}\")\n",
    "print(f\"F1-Maß: {f1_score(y, y_predicted, average=None)}\")\n",
    "\n",
    "c_matrix = confusion_matrix(y, y_predicted)\n",
    "print(c_matrix)"
   ]
  },
  {
   "cell_type": "code",
   "execution_count": 79,
   "id": "44d636e0-0335-469a-b42c-62d3c07a638a",
   "metadata": {},
   "outputs": [
    {
     "name": "stdout",
     "output_type": "stream",
     "text": [
      "\n",
      "Lass die 1 weg:\n",
      "[[1.     0.3    0.3    0.09   0.09   0.09  ]\n",
      " [1.     0.24   0.26   0.0576 0.0624 0.0676]\n",
      " [1.     0.33   0.2    0.1089 0.066  0.04  ]\n",
      " [1.     0.35   0.4    0.1225 0.14   0.16  ]\n",
      " [1.     0.39   0.38   0.1521 0.1482 0.1444]\n",
      " [1.     0.42   0.26   0.1764 0.1092 0.0676]]\n",
      "[1, 0, 0, 0, 0, 0]\n",
      "[1, 0, 0, 0, 0, 0]\n",
      "[1, 0, 0, 0, 0, 0]\n",
      "[1, 0, 0, 0, 0, 0]\n",
      "[1, 0, 0, 0, 0, 0]\n",
      "[1, 0, 0, 0, 0, 0]\n",
      "\n",
      "Modellparameter (Theta) für jede Klasse:\n",
      "Klasse 1: [-0.696  0.     0.043 -0.04   0.03  -0.006 -0.032]\n",
      "Klasse 2: [-1.567  0.    -0.008 -0.099 -0.009 -0.036 -0.055]\n",
      "Klasse 3: [-0.791  0.     0.062  0.178  0.038  0.082  0.113]\n",
      "Klasse 4: [-1.551  0.    -0.098 -0.04  -0.06  -0.04  -0.027]\n",
      "D 1 : [((0.3, 0.3), 1), ((0.24, 0.26), 0), ((0.33, 0.2), 0), ((0.35, 0.4), 0), ((0.39, 0.38), 0), ((0.42, 0.26), 1)]\n",
      "D 2 : [((0.3, 0.3), 0), ((0.24, 0.26), 0), ((0.33, 0.2), 1), ((0.35, 0.4), 0), ((0.39, 0.38), 0), ((0.42, 0.26), 0)]\n",
      "D 3 : [((0.3, 0.3), 0), ((0.24, 0.26), 0), ((0.33, 0.2), 0), ((0.35, 0.4), 1), ((0.39, 0.38), 1), ((0.42, 0.26), 0)]\n",
      "D 4 : [((0.3, 0.3), 0), ((0.24, 0.26), 1), ((0.33, 0.2), 0), ((0.35, 0.4), 0), ((0.39, 0.38), 0), ((0.42, 0.26), 0)]\n"
     ]
    }
   ],
   "source": [
    "import math\n",
    "from sklearn.preprocessing import PolynomialFeatures\n",
    "\n",
    "D=[\n",
    "    ((0.3,0.3),1),((0.24,0.26),4),((0.33,0.2),2),((0.35,0.4),3),((0.39,0.38),3),((0.42,0.26),1)\n",
    "]\n",
    "\n",
    "# Trennen Sie die Merkmale und die Zielwerte\n",
    "features = np.array([x for (x, y) in D])\n",
    "targets = np.array([y for (x, y) in D])\n",
    "\n",
    "# Erstellen Sie das PolynomialFeatures-Objekt mit Grad 2\n",
    "poly = PolynomialFeatures(2)\n",
    "\n",
    "# Wenden Sie die Transformation auf Ihre Daten an\n",
    "features_poly = poly.fit_transform(features)\n",
    "\n",
    "# Jetzt enthält 'features_poly' die polynomiale Merkmalserweiterung von 'features'\n",
    "print(\"\\nLass die 1 weg:\")\n",
    "print(features_poly)\n",
    "\n",
    "# Anwendung der math.floor oder math.ceil Funktion auf jede Zahl in jeder Liste\n",
    "correctly_rounded_data = [[math.floor(number + 0.5) if number >= 0 else math.ceil(number - 0.5) for number in sublist] for sublist in features_poly]\n",
    "\n",
    "# Ausgabe der korrekt gerundeten Daten\n",
    "for sublist in correctly_rounded_data:\n",
    "    print(sublist)\n",
    "\n",
    "\n",
    "# Modell erstellen\n",
    "poly_clf = LogisticRegression(multi_class='ovr', max_iter=10000).fit(features_poly, targets)\n",
    "y_predicted = poly_clf.predict(features_poly)\n",
    "\n",
    "# Modellparameter (Theta) für jede Klasse\n",
    "thetas = poly_clf.coef_\n",
    "inter = poly_clf.intercept_\n",
    "\n",
    "print(\"\\nModellparameter (Theta) für jede Klasse:\")\n",
    "\n",
    "for c, theta in enumerate(thetas):\n",
    "    theta = np.insert(theta, 0, inter[c])\n",
    "    print(f\"Klasse {c+1}: {np.round(theta, 3)}\")\n",
    "\n",
    "# Klassendatensätze erstellen\n",
    "for e in set(targets):\n",
    "    print(\"D\",e,\":\", [(x, 1 if y == e else 0) for (x, y) in D])"
   ]
  },
  {
   "cell_type": "markdown",
   "id": "f46a7698-2aaa-4625-879f-1a60d3228f65",
   "metadata": {
    "jp-MarkdownHeadingCollapsed": true
   },
   "source": [
    "### 2.3. SVM <a name=2.3.><a>"
   ]
  },
  {
   "cell_type": "markdown",
   "id": "54090deb-9d60-4c55-b5c3-eeff2b671751",
   "metadata": {
    "jp-MarkdownHeadingCollapsed": true
   },
   "source": [
    "#### 1. 2D modell <a name=2_2_2D><a>"
   ]
  },
  {
   "cell_type": "code",
   "execution_count": 43,
   "id": "5645313f-2b76-4844-ab1a-f29d569ad85f",
   "metadata": {},
   "outputs": [],
   "source": [
    "# Ihre Daten\n",
    "D = [\n",
    "    ((5), 0),\n",
    "    ((14), 1),\n",
    "    ((10), 1),\n",
    "    ((7), 1),\n",
    "    ((2), 0),\n",
    "    ((1), 0),\n",
    "    ((9), 1),\n",
    "    ((8), 0),\n",
    "    ((3), 0),\n",
    "    ((13), 1)\n",
    "]\n",
    "\n",
    "# Umwandlung in DataFrame\n",
    "df = pd.DataFrame(D, columns=['x', 'y'])\n",
    "\n",
    "# Umwandlung in Numpy Arrays\n",
    "X = np.array(df['x']).reshape(-1, 1)\n",
    "y = np.array(df['y']).reshape(-1, 1)"
   ]
  },
  {
   "cell_type": "code",
   "execution_count": 42,
   "id": "520517ea-130e-44a7-82c0-dc1b6c5b0ad0",
   "metadata": {},
   "outputs": [
    {
     "name": "stderr",
     "output_type": "stream",
     "text": [
      "C:\\Users\\maayo\\PycharmProjects\\Sem2_ML\\venv\\Lib\\site-packages\\sklearn\\utils\\validation.py:1183: DataConversionWarning: A column-vector y was passed when a 1d array was expected. Please change the shape of y to (n_samples, ), for example using ravel().\n",
      "  y = column_or_1d(y, warn=True)\n"
     ]
    }
   ],
   "source": [
    "from sklearn import svm\n",
    "\n",
    "# Erstellen und Trainieren des Modells\n",
    "clf = svm.SVC(kernel='linear').fit(X, y)\n",
    "\n",
    "theta = clf.coef_\n",
    "b = clf.intercept_\n",
    "# Ausgabe der Parameter\n",
    "print(\"Theta: \", np.round(theta, 3))\n",
    "print(\"b: \", np.round(b, 3))"
   ]
  },
  {
   "cell_type": "markdown",
   "id": "b4549a1b-16a4-4b22-9867-d8545455b12c",
   "metadata": {
    "jp-MarkdownHeadingCollapsed": true
   },
   "source": [
    "#### 2. Soft-Margin - 3D modell <a name=2_2_3D><a>"
   ]
  },
  {
   "cell_type": "code",
   "execution_count": 81,
   "id": "c76d5e59-15b9-423f-9d17-f486e00e2664",
   "metadata": {},
   "outputs": [],
   "source": [
    "# Ihre Daten\n",
    "import pandas as pd\n",
    "import numpy as np\n",
    "\n",
    "D = [\n",
    "    ((2,7),-1),((7.5,0.5),-1),((3,3.3),-1),((2.5,7.5),1),((4,3.8),1),((5,2),1)\n",
    "]\n",
    "\n",
    "C = 1\n",
    "\n",
    "# Umwandlung in DataFrame\n",
    "df = pd.DataFrame(D, columns=['x', 'y'])\n",
    "df[['x1', 'x2']] = pd.DataFrame(df['x'].tolist(), index=df.index)\n",
    "df = df.drop('x', axis=1)\n",
    "\n",
    "X = df[['x1', 'x2']].to_numpy()\n",
    "y = df['y'].to_numpy()#"
   ]
  },
  {
   "cell_type": "code",
   "execution_count": 83,
   "id": "50699f6c-e73f-4003-bf3c-bb6295b01565",
   "metadata": {},
   "outputs": [
    {
     "name": "stdout",
     "output_type": "stream",
     "text": [
      "Theta:  [[0.32  0.515]]\n",
      "b: (achte auf den minus zeichen) [-3.659]\n"
     ]
    }
   ],
   "source": [
    "from sklearn import svm\n",
    "\n",
    "# Erstellen und Trainieren des Modells\n",
    "clf = svm.SVC(kernel='linear').fit(X, y)\n",
    "\n",
    "theta = clf.coef_\n",
    "b = clf.intercept_\n",
    "# Ausgabe der Parameter\n",
    "print(\"Theta: \", np.round(theta, 3))\n",
    "print(\"b: (achte auf den minus zeichen)\", np.round(b, 3))"
   ]
  },
  {
   "cell_type": "code",
   "execution_count": 84,
   "id": "77db2436-7980-40c7-9e1f-0da7c32dbf93",
   "metadata": {},
   "outputs": [
    {
     "name": "stdout",
     "output_type": "stream",
     "text": [
      "Supportvektoren:  [[2.  7. ]\n",
      " [7.5 0.5]\n",
      " [3.  3.3]\n",
      " [2.5 7.5]\n",
      " [4.  3.8]\n",
      " [5.  2. ]]\n"
     ]
    }
   ],
   "source": [
    "print(\"Supportvektoren: \", clf.support_vectors_)"
   ]
  },
  {
   "cell_type": "markdown",
   "id": "6334bd75-af12-4caa-9d58-3e0a84ef5eaa",
   "metadata": {},
   "source": [
    "#### 4. Kernelfunktion: 3D modell <a name=2_2_3D><a>"
   ]
  },
  {
   "cell_type": "code",
   "execution_count": 90,
   "id": "46c8a3d3-2726-4f0c-bde5-7521c41e7c92",
   "metadata": {},
   "outputs": [],
   "source": [
    "# Ihre Daten\n",
    "D_train = [\n",
    "   ((8.7,16.5),1),((10.8,14.8),1),((12,16.7),1),((12.2,12.2),1),((16.5,13),-1),((5.8,23.5),-1)\n",
    "]\n",
    "\n",
    "D_test = [\n",
    "    ((13,12.5),1),((6.2,21.3),-1),((6,25.8),1),((8.5,27.7),-1)\n",
    "]\n",
    "\n",
    "# Umwandlung in DataFrame\n",
    "df_train = pd.DataFrame(D_train, columns=['x', 'y'])\n",
    "df_train[['x1', 'x2']] = pd.DataFrame(df_train['x'].tolist(), index=df_train.index)\n",
    "df_train = df_train.drop('x', axis=1)\n",
    "\n",
    "X_train = df_train[['x1', 'x2']].to_numpy()\n",
    "y_train = df_train['y'].to_numpy()#\n",
    "\n",
    "# Umwandlung in DataFrame\n",
    "df_test = pd.DataFrame(D_test, columns=['x', 'y'])\n",
    "df_test[['x1', 'x2']] = pd.DataFrame(df_test['x'].tolist(), index=df_test.index)\n",
    "df_test = df_test.drop('x', axis=1)\n",
    "\n",
    "X_test = df_test[['x1', 'x2']].to_numpy()\n",
    "y_test = df_test['y'].to_numpy()#"
   ]
  },
  {
   "cell_type": "markdown",
   "id": "0838b8b8-a7b6-498b-908a-7f49654a9588",
   "metadata": {},
   "source": [
    "#####  Plotten Sie den Datensatz $D^{train}$"
   ]
  },
  {
   "cell_type": "code",
   "execution_count": 91,
   "id": "8abe87fd-330d-42d9-a21d-48233e169b28",
   "metadata": {},
   "outputs": [
    {
     "data": {
      "image/png": "[encoded data removed]",
      "text/plain": [
       "<Figure size 640x480 with 1 Axes>"
      ]
     },
     "metadata": {},
     "output_type": "display_data"
    }
   ],
   "source": [
    "import matplotlib.pyplot as plt\n",
    "\n",
    "# Datenpunkte für jede Klasse extrahieren\n",
    "class_1 = df_train[df_train['y'] == 1]\n",
    "class_minus_1 = df_train[df_train['y'] == -1]\n",
    "\n",
    "# Datenpunkte plotten\n",
    "plt.scatter(class_1['x1'], class_1['x2'], color='b', label='1')\n",
    "plt.scatter(class_minus_1['x1'], class_minus_1['x2'], color='r', label='-1')\n",
    "\n",
    "# Diagramm beschriften\n",
    "plt.xlabel('x1')\n",
    "plt.ylabel('x2')\n",
    "plt.legend()\n",
    "plt.title('Trainingsdatensatz D_train')\n",
    "plt.show()\n"
   ]
  },
  {
   "cell_type": "markdown",
   "id": "e63bcc45-3c06-4af3-a54a-5c6d58b4d9a2",
   "metadata": {},
   "source": [
    "##### Was ist die geeignete Kernel-Funktion für diese Daten? rbf, poly, inhomogene poly?\n"
   ]
  },
  {
   "cell_type": "code",
   "execution_count": 92,
   "id": "65d1a63e-8d23-454f-847c-7d3f5d02b0f7",
   "metadata": {},
   "outputs": [
    {
     "name": "stdout",
     "output_type": "stream",
     "text": [
      "Supportvektoren:  [[16.5 13. ]\n",
      " [ 5.8 23.5]\n",
      " [ 8.7 16.5]\n",
      " [12.  16.7]\n",
      " [12.2 12.2]]\n"
     ]
    }
   ],
   "source": [
    "from sklearn import svm\n",
    "\n",
    "# Erstellen und Trainieren des Modells\n",
    "clf = svm.SVC(kernel='rbf').fit(X_train, y_train)\n",
    "y_predicted = clf.predict(X_test)\n",
    "#clf = svm.SVC(kernel='poly', degree=d, coef0=r).fit(X, y)\n",
    "#clf = svm.SVC(kernel='linear', C=1.0).fit(X_train, y_train)\n",
    "#clf = svm.SVC(kernel='rbf', C=1, gamma=1).fit(X_train, y_train)\n",
    "\n",
    "# Ausgabe der Supportvektoren\n",
    "print(\"Supportvektoren: \", clf.support_vectors_)"
   ]
  },
  {
   "cell_type": "code",
   "execution_count": 94,
   "id": "118a5069-5734-4f98-9d2b-d0025393991b",
   "metadata": {},
   "outputs": [
    {
     "name": "stdout",
     "output_type": "stream",
     "text": [
      "\n",
      "Genauigkeit: 0.750\n",
      "Präzesion: 1.000\n",
      "Sensitivität (Recall): 0.500\n",
      "F1-Maß: 0.667\n"
     ]
    }
   ],
   "source": [
    "from sklearn.metrics import accuracy_score\n",
    "from sklearn.metrics import precision_score\n",
    "from sklearn.metrics import recall_score\n",
    "from sklearn.metrics import f1_score\n",
    "\n",
    "print(f\"\\nGenauigkeit: {accuracy_score(y_test, y_predicted):.3f}\")\n",
    "print(f\"Präzesion: {precision_score(y_test, y_predicted, zero_division=0):.3f}\")\n",
    "print(f\"Sensitivität (Recall): {recall_score(y_test, y_predicted, zero_division=0):.3f}\")\n",
    "print(f\"F1-Maß: {f1_score(y_test, y_predicted, zero_division=0):.3f}\")"
   ]
  },
  {
   "cell_type": "markdown",
   "id": "54c6694a-a75a-4e11-9368-e822c7809fcf",
   "metadata": {
    "jp-MarkdownHeadingCollapsed": true
   },
   "source": [
    "### 2.4. KNN <a name=2.4.><a>"
   ]
  },
  {
   "cell_type": "markdown",
   "id": "974a34ac-c0e2-4722-911d-0eab24e5657f",
   "metadata": {
    "jp-MarkdownHeadingCollapsed": true
   },
   "source": [
    "#####  KNN algorithmus"
   ]
  },
  {
   "cell_type": "code",
   "execution_count": 133,
   "id": "557ebf1e-5bb3-4a56-8b66-9eb331dbc5bb",
   "metadata": {},
   "outputs": [],
   "source": [
    "D = [\n",
    "   ((14.26,18.98),1),((9.45,8.61),1),((7.53,-0.7),1),((15.62,4.92),2),((17.47,-8.43),2),((6.66,-5.27),3)\n",
    "]\n",
    "k=1\n",
    "\n",
    "# Umwandlung in DataFrame\n",
    "df = pd.DataFrame(D, columns=['x', 'y'])\n",
    "df[['x1', 'x2']] = pd.DataFrame(df['x'].tolist(), index=df.index)\n",
    "df = df.drop('x', axis=1)\n",
    "\n",
    "X = df[['x1', 'x2']].to_numpy()\n",
    "y = df['y'].to_numpy()#"
   ]
  },
  {
   "cell_type": "code",
   "execution_count": 134,
   "id": "d928f9d4-d2d6-4fea-8380-4d2e15a24e5d",
   "metadata": {},
   "outputs": [
    {
     "name": "stdout",
     "output_type": "stream",
     "text": [
      "Die vorhergesagte Klassen ist [1 1 1 1 1 1]\n",
      "Die vorhergesagte Klasse für x7 ist [1]\n"
     ]
    }
   ],
   "source": [
    "from sklearn.neighbors import KNeighborsClassifier\n",
    "\n",
    "# Ihr Punkt\n",
    "x7 = np.array([13.92,-1.76])\n",
    "k=5\n",
    "\n",
    "\n",
    "knn = KNeighborsClassifier(n_neighbors=k).fit(X, y)\n",
    "\n",
    "# Vorhersage der Klasse für x7\n",
    "prediction = knn.predict(X)\n",
    "print(f\"Die vorhergesagte Klassen ist {prediction}\")\n",
    "\n",
    "# Vorhersage der Klasse für x7\n",
    "prediction = knn.predict([x7])\n",
    "print(f\"Die vorhergesagte Klasse für x7 ist {prediction}\")\n"
   ]
  },
  {
   "cell_type": "markdown",
   "id": "ca9f431d-1aae-42b9-b549-942a31e48355",
   "metadata": {
    "jp-MarkdownHeadingCollapsed": true
   },
   "source": [
    "#####  KNN - Regression"
   ]
  },
  {
   "cell_type": "code",
   "execution_count": 131,
   "id": "83bab0c1-d7bd-4df1-b2e5-0d57d19d3ad8",
   "metadata": {},
   "outputs": [],
   "source": [
    "D = [\n",
    "   ((3.1,4.1),5.9),((2.6,5.3),5.8),((9.7,9.3),2.3),((8.4,6.2),6.4),((3.3,8.3),2.7),((9.5,0.2),8.8)\n",
    "]\n",
    "k=1\n",
    "\n",
    "# Umwandlung in DataFrame\n",
    "df = pd.DataFrame(D, columns=['x', 'y'])\n",
    "df[['x1', 'x2']] = pd.DataFrame(df['x'].tolist(), index=df.index)\n",
    "df = df.drop('x', axis=1)\n",
    "\n",
    "X = df[['x1', 'x2']].to_numpy()\n",
    "y = df['y'].to_numpy()#"
   ]
  },
  {
   "cell_type": "code",
   "execution_count": 132,
   "id": "4ba11d2c-aae2-4f85-9a2c-00b587152149",
   "metadata": {},
   "outputs": [
    {
     "name": "stdout",
     "output_type": "stream",
     "text": [
      "Die vorhergesagte Klasse für x7 ist [4.96666667]\n"
     ]
    },
    {
     "data": {
      "text/plain": [
       "4.967"
      ]
     },
     "execution_count": 132,
     "metadata": {},
     "output_type": "execute_result"
    }
   ],
   "source": [
    "from sklearn.neighbors import KNeighborsRegressor\n",
    "\n",
    "x7 = np.array([4.1, 9.7])\n",
    "k = 3\n",
    "\n",
    "# Erstellen Sie den KNN Regressor\n",
    "knn = KNeighborsRegressor(n_neighbors=3).fit(X, y)\n",
    "prediction = knn.predict([x7])\n",
    "print(f\"Die vorhergesagte Klasse für x7 ist {prediction}\")\n",
    "round(prediction[0], 3)"
   ]
  },
  {
   "cell_type": "markdown",
   "id": "d6889b62-f57e-4340-9da7-f4e3a52867da",
   "metadata": {},
   "source": [
    "#####  z-transformation"
   ]
  },
  {
   "cell_type": "code",
   "execution_count": 100,
   "id": "de206fc6-35bb-45dd-a2ad-3f556827e26d",
   "metadata": {},
   "outputs": [],
   "source": [
    "D = [\n",
    "   ((9.8,40.29),1),((-0.1,37.54),1),((-18.46,46.52),1),((-30.33,22.56),2),((12.51,30.13),2),((36.45,13.2),3)\n",
    "]\n",
    "k=3\n",
    "\n",
    "# Umwandlung in DataFrame\n",
    "df = pd.DataFrame(D, columns=['x', 'y'])\n",
    "df[['x1', 'x2']] = pd.DataFrame(df['x'].tolist(), index=df.index)\n",
    "df = df.drop('x', axis=1)\n",
    "\n",
    "X = df[['x1', 'x2']].to_numpy()\n",
    "y = df['y'].to_numpy()#"
   ]
  },
  {
   "cell_type": "code",
   "execution_count": 106,
   "id": "a80a86bd-551b-4253-9dd6-aef7efb54c32",
   "metadata": {},
   "outputs": [
    {
     "data": {
      "text/plain": [
       "[((0.376, 0.765), 1),\n",
       " ((-0.08, 0.52), 1),\n",
       " ((-0.926, 1.32), 1),\n",
       " ((-1.473, -0.815), 2),\n",
       " ((0.501, -0.14), 2),\n",
       " ((1.604, -1.649), 3)]"
      ]
     },
     "execution_count": 106,
     "metadata": {},
     "output_type": "execute_result"
    }
   ],
   "source": [
    "from sklearn.preprocessing import StandardScaler\n",
    "\n",
    "scaler = StandardScaler()\n",
    "\n",
    "z_transformed_data = scaler.fit_transform(X)\n",
    "# Runden Sie die Werte auf die dritte Stelle\n",
    "z_transformed_data = np.round(z_transformed_data, 3)\n",
    "\n",
    "# Kombinieren Sie die transformierten Daten mit den Labels\n",
    "# Konvertieren Sie die transformierten Daten in eine Liste von Tupeln\n",
    "z_transformed_data = [tuple(row) for row in z_transformed_data]\n",
    "\n",
    "# Kombinieren Sie die transformierten Daten mit den Labels\n",
    "D_transformed = [(data, label) for data, label in zip(z_transformed_data, y)]\n",
    "\n",
    "D_transformed"
   ]
  },
  {
   "cell_type": "code",
   "execution_count": 109,
   "id": "acb2abc3-624c-4d19-8e49-8fdd4032e748",
   "metadata": {},
   "outputs": [
    {
     "name": "stdout",
     "output_type": "stream",
     "text": [
      "[2]\n",
      "Die vorhergesagte Klasse für x7 ist 2\n"
     ]
    }
   ],
   "source": [
    "from sklearn.neighbors import KNeighborsClassifier\n",
    "\n",
    "# Ihr Punkt\n",
    "x7 = np.array([-4.2, 21.45])\n",
    "k = 3\n",
    "\n",
    "# Z-Transformation von x7\n",
    "x7_transformed = scaler.transform([x7])\n",
    "x7_transformed = np.round(x7_transformed, 3)\n",
    "\n",
    "# Erstellen Sie den KNN Klassifikator und Trainieren Sie den Klassifikator mit den z-transformierten Daten und den Labels\n",
    "knn = KNeighborsClassifier(n_neighbors=k).fit(z_transformed_data, y)\n",
    "\n",
    "# Vorhersage der Klasse für x7\n",
    "prediction = knn.predict(x7_transformed)\n",
    "print(prediction)\n",
    "print(f\"Die vorhergesagte Klasse für x7 ist {prediction[0]}\")\n"
   ]
  },
  {
   "cell_type": "markdown",
   "id": "ead0d7bf-18a8-4920-b186-c2238edd40a4",
   "metadata": {
    "jp-MarkdownHeadingCollapsed": true
   },
   "source": [
    "### 2.5. Bayes <a name=2.5.><a>"
   ]
  },
  {
   "cell_type": "markdown",
   "id": "31792e5d-9936-43e2-9bc8-740761db8ff3",
   "metadata": {},
   "source": [
    "#####  Naive Bayes"
   ]
  },
  {
   "cell_type": "code",
   "execution_count": 135,
   "id": "f8c635b2-11dc-42c9-b012-422d13616aed",
   "metadata": {},
   "outputs": [
    {
     "name": "stdout",
     "output_type": "stream",
     "text": [
      "Der Punkt x7=(2,50) wird der Klasse 0 zugeordnet.\n"
     ]
    }
   ],
   "source": [
    "from sklearn.naive_bayes import GaussianNB\n",
    "\n",
    "# Definieren Sie den Datensatz D\n",
    "D = [((0,50),0),((1,200),2),((2,200),1),((0,100),1),((1,50),0),((0,200),2)]\n",
    "\n",
    "# Trennen Sie die Merkmale und die Zielvariable\n",
    "X = [d[0] for d in D]\n",
    "y = [d[1] for d in D]\n",
    "\n",
    "# Erstellen Sie den Naive Bayes Klassifikator\n",
    "clf = GaussianNB().fit(X, y)\n",
    "\n",
    "# Definieren Sie den Punkt x7\n",
    "x7 = [[2, 50]]\n",
    "\n",
    "# Klassifizieren Sie den Punkt x7\n",
    "pred = clf.predict(x7)\n",
    "\n",
    "print(f'Der Punkt x7=(2,50) wird der Klasse {pred[0]} zugeordnet.')\n"
   ]
  },
  {
   "cell_type": "code",
   "execution_count": 136,
   "id": "2abe9eee-37e2-49d1-9dd0-d17b3ab325c4",
   "metadata": {},
   "outputs": [
    {
     "name": "stdout",
     "output_type": "stream",
     "text": [
      "clf(Dtest) = [1 0 0 0]\n"
     ]
    }
   ],
   "source": [
    "from sklearn.naive_bayes import GaussianNB\n",
    "\n",
    "# Definieren Sie den Trainingsdatensatz Dtrain\n",
    "Dtrain = [((1.29,-1.83),1),((0.76,-0.95),1),((5.24,-1.59),0),((8.74,-0.27),0),((2.77,-2.23),0),((1.24,-1.65),1)]\n",
    "\n",
    "# Trennen Sie die Merkmale und die Zielvariable\n",
    "X_train = [d[0] for d in Dtrain]\n",
    "y_train = [d[1] for d in Dtrain]\n",
    "\n",
    "# Definieren Sie den Testdatensatz Dtest\n",
    "Dtest = [((0.62,-1.58),1),((6.82,0.07),0),((2.64,-0.15),1),((3.23,-1.58),0)]\n",
    "\n",
    "# Trennen Sie die Merkmale und die Zielvariable\n",
    "X_test = [d[0] for d in Dtest]\n",
    "y_test = [d[1] for d in Dtest]\n",
    "\n",
    "# Erstellen Sie den Naive Bayes Klassifikator\n",
    "clf = GaussianNB()\n",
    "\n",
    "# Trainieren Sie den Klassifikator mit dem Trainingsdatensatz Dtrain\n",
    "clf.fit(X_train, y_train)\n",
    "\n",
    "# Klassifizieren Sie den Testdatensatz Dtest\n",
    "y_pred = clf.predict(X_test)\n",
    "\n",
    "# Ausgabe der Ergebnisse\n",
    "print(f'clf(Dtest) = {y_pred}')\n"
   ]
  },
  {
   "cell_type": "code",
   "execution_count": 142,
   "id": "3f68e612-4f15-4df0-91cd-29b37835983c",
   "metadata": {},
   "outputs": [
    {
     "name": "stdout",
     "output_type": "stream",
     "text": [
      "Genauigkeit (Accuracy): 0.75\n",
      "Präzision (Precision): [0.66666667 1.        ]\n",
      "Sensitivität (Recall): [1.  0.5]\n",
      "F1-Score: [0.8        0.66666667]\n"
     ]
    }
   ],
   "source": [
    "from sklearn.metrics import accuracy_score, precision_score, recall_score, f1_score\n",
    "\n",
    "# Berechnen Sie die Metriken\n",
    "accuracy = accuracy_score(y_test, y_pred)\n",
    "precision = precision_score(y_test, y_pred, average=None)\n",
    "sensitivity = recall_score(y_test, y_pred, average=None)\n",
    "f1 = f1_score(y_test, y_pred, average=None)\n",
    "\n",
    "# Ausgabe der Ergebnisse\n",
    "print(f'Genauigkeit (Accuracy): {accuracy}')\n",
    "print(f'Präzision (Precision): {precision}')\n",
    "print(f'Sensitivität (Recall): {sensitivity}')\n",
    "print(f'F1-Score: {f1}')\n"
   ]
  },
  {
   "cell_type": "markdown",
   "id": "19f1a1b2-b62b-40e1-bf00-d89e0bed18eb",
   "metadata": {
    "jp-MarkdownHeadingCollapsed": true
   },
   "source": [
    "### 2.6. Entscheidungsbäume  <a name=2.6.><a>"
   ]
  },
  {
   "cell_type": "markdown",
   "id": "b0bab2b6-5479-4c6c-9d3d-6f36bd102518",
   "metadata": {},
   "source": [
    "#####  Entscheidungsbaum"
   ]
  },
  {
   "cell_type": "code",
   "execution_count": 4,
   "id": "db5c3157-4a4a-4fca-a70e-3f000b87187e",
   "metadata": {},
   "outputs": [
    {
     "name": "stdout",
     "output_type": "stream",
     "text": [
      "Die resultierenden Klassenzuweisungen für die Beispiele aus Dtest sind: [0 0 1 1]\n",
      "Die Konfusionsmatrix für die Beispiele aus Dtest ist:\n",
      "[[2 1]\n",
      " [0 1]]\n"
     ]
    }
   ],
   "source": [
    "from sklearn import tree\n",
    "from sklearn.metrics import confusion_matrix\n",
    "\n",
    "# Trainingsdaten\n",
    "Dtrain = [((37.5,2),1),((36,1),0),((39,1),1),((37.5,1),0),((39,0),1),((37.5,0),0),((37.5,1),0),((36,2),1)]\n",
    "X_train = [x[0] for x in Dtrain]\n",
    "y_train = [x[1] for x in Dtrain]\n",
    "\n",
    "# Testdaten\n",
    "Dtest = [((36,0),0),((37.5,1),0),((39,1),1),((39,2),0)]\n",
    "X_test = [x[0] for x in Dtest]\n",
    "y_test = [x[1] for x in Dtest]\n",
    "\n",
    "# Entscheidungsbaum-Modell erstellen\n",
    "clf = tree.DecisionTreeClassifier().fit(X_train, y_train)\n",
    "\n",
    "# Vorhersagen für Testdaten\n",
    "y_pred = clf.predict(X_test)\n",
    "\n",
    "print(\"Die resultierenden Klassenzuweisungen für die Beispiele aus Dtest sind:\", y_pred)\n",
    "\n",
    "\n",
    "cm = confusion_matrix(y_test, y_pred)\n",
    "\n",
    "print(\"Die Konfusionsmatrix für die Beispiele aus Dtest ist:\")\n",
    "print(cm)"
   ]
  },
  {
   "cell_type": "code",
   "execution_count": 14,
   "id": "e7a23316-ca60-444b-abd1-f3a8c485d416",
   "metadata": {},
   "outputs": [
    {
     "name": "stdout",
     "output_type": "stream",
     "text": [
      "clf = 0, y = 0 True Negatives:  2\n",
      "clf = 1, y = 0 False Positives:  1\n",
      "clf = 0, y = 1 False Negatives:  0\n",
      "clf = 1, y = 1 True Positives:  1\n"
     ]
    },
    {
     "data": {
      "text/plain": [
       "'\\ncm = [[TN, FP],\\n      [FN, TP]]\\n'"
      ]
     },
     "execution_count": 14,
     "metadata": {},
     "output_type": "execute_result"
    }
   ],
   "source": [
    "tn, fp, fn, tp = cm.ravel()\n",
    "print('clf = 0, y = 0 True Negatives: ', tn)\n",
    "print('clf = 1, y = 0 False Positives: ', fp)\n",
    "print('clf = 0, y = 1 False Negatives: ', fn)\n",
    "print('clf = 1, y = 1 True Positives: ', tp)\n",
    "'''\n",
    "cm = [[TN, FP],\n",
    "      [FN, TP]]\n",
    "'''"
   ]
  },
  {
   "cell_type": "markdown",
   "id": "1970d877-5b85-45c8-a35f-dd19d578f750",
   "metadata": {},
   "source": [
    "#####  Entscheidungswald"
   ]
  },
  {
   "cell_type": "code",
   "execution_count": 6,
   "id": "0987af4b-b159-4eb0-8a82-b0dd8ff3abba",
   "metadata": {},
   "outputs": [
    {
     "name": "stdout",
     "output_type": "stream",
     "text": [
      "Die resultierenden Klassenzuweisungen für die Beispiele aus Dtest sind: [0 0 1 1]\n"
     ]
    }
   ],
   "source": [
    "from sklearn.ensemble import RandomForestClassifier\n",
    "\n",
    "# Trainingsdaten\n",
    "Dtrain = [((37.5,2),1),((36,1),0),((39,1),1),((37.5,1),0),((39,0),1),((37.5,0),0),((37.5,1),0),((36,2),1)]\n",
    "X_train = [x[0] for x in Dtrain]\n",
    "y_train = [x[1] for x in Dtrain]\n",
    "\n",
    "# Testdaten\n",
    "Dtest = [((36,0),0),((37.5,1),0),((39,1),1),((39,2),0)]\n",
    "X_test = [x[0] for x in Dtest]\n",
    "y_test = [x[1] for x in Dtest]\n",
    "\n",
    "# Entscheidungswald-Modell erstellen\n",
    "clf = RandomForestClassifier(n_estimators=100)\n",
    "clf = clf.fit(X_train, y_train)\n",
    "\n",
    "# Vorhersagen für Testdaten\n",
    "y_pred = clf.predict(X_test)\n",
    "\n",
    "print(\"Die resultierenden Klassenzuweisungen für die Beispiele aus Dtest sind:\", y_pred)\n"
   ]
  },
  {
   "cell_type": "code",
   "execution_count": 8,
   "id": "3577a796-df90-4d18-9ff7-652a4c96fd15",
   "metadata": {},
   "outputs": [
    {
     "name": "stdout",
     "output_type": "stream",
     "text": [
      "Die Genauigkeit für die Beispiele aus Dtest ist: 0.75\n",
      "Der F1-Wert für die Beispiele aus Dtest ist: 0.667\n"
     ]
    }
   ],
   "source": [
    "from sklearn.metrics import accuracy_score, f1_score\n",
    "\n",
    "# Genauigkeit berechnen\n",
    "accuracy = accuracy_score(y_test, y_pred)\n",
    "print(\"Die Genauigkeit für die Beispiele aus Dtest ist:\", round(accuracy,3))\n",
    "\n",
    "# F1-Wert berechnen\n",
    "f1 = f1_score(y_test, y_pred)\n",
    "print(\"Der F1-Wert für die Beispiele aus Dtest ist:\", round(f1,3))\n"
   ]
  },
  {
   "cell_type": "code",
   "execution_count": 10,
   "id": "3d79411c-1e02-4ccb-9858-d17ad2f57401",
   "metadata": {},
   "outputs": [
    {
     "name": "stdout",
     "output_type": "stream",
     "text": [
      "Die resultierenden Klassenzuweisungen für die Beispiele aus Dtest mit 10 Bäumen sind: [0 0 1 1]\n",
      "Die Genauigkeit für die Beispiele aus Dtest ist: 0.75\n",
      "Der F1-Wert für die Beispiele aus Dtest ist: 0.667\n",
      "Die resultierenden Klassenzuweisungen für die Beispiele aus Dtest mit 1000 Bäumen sind: [0 0 1 1]\n",
      "Die Genauigkeit für die Beispiele aus Dtest ist: 0.75\n",
      "Der F1-Wert für die Beispiele aus Dtest ist: 0.667\n"
     ]
    }
   ],
   "source": [
    "# Entscheidungswald-Modell mit 10 Bäumen erstellen\n",
    "clf_10 = RandomForestClassifier(n_estimators=10)\n",
    "clf_10 = clf_10.fit(X_train, y_train)\n",
    "\n",
    "# Vorhersagen für Testdaten\n",
    "y_pred_10 = clf_10.predict(X_test)\n",
    "\n",
    "print(\"Die resultierenden Klassenzuweisungen für die Beispiele aus Dtest mit 10 Bäumen sind:\", y_pred_10)\n",
    "print(\"Die Genauigkeit für die Beispiele aus Dtest ist:\", round(accuracy_score(y_test, y_pred_10),3))\n",
    "print(\"Der F1-Wert für die Beispiele aus Dtest ist:\", round(f1_score(y_test, y_pred_10),3))\n",
    "\n",
    "# Entscheidungswald-Modell mit 1000 Bäumen erstellen\n",
    "clf_1000 = RandomForestClassifier(n_estimators=1000)\n",
    "clf_1000 = clf_1000.fit(X_train, y_train)\n",
    "\n",
    "# Vorhersagen für Testdaten\n",
    "y_pred_1000 = clf_1000.predict(X_test)\n",
    "\n",
    "print(\"Die resultierenden Klassenzuweisungen für die Beispiele aus Dtest mit 1000 Bäumen sind:\", y_pred_1000)\n",
    "print(\"Die Genauigkeit für die Beispiele aus Dtest ist:\", round(accuracy_score(y_test, y_pred_1000),3))\n",
    "print(\"Der F1-Wert für die Beispiele aus Dtest ist:\", round(f1_score(y_test, y_pred_1000),3))"
   ]
  },
  {
   "cell_type": "markdown",
   "id": "e2100b2e-fc11-4c84-9031-df143cf765f1",
   "metadata": {
    "jp-MarkdownHeadingCollapsed": true
   },
   "source": [
    "## 3 Unüberwachtes Lernen <a name=K3><a>"
   ]
  },
  {
   "cell_type": "markdown",
   "id": "a79a94e9-0eb9-4673-8f5e-6defee18742e",
   "metadata": {
    "jp-MarkdownHeadingCollapsed": true
   },
   "source": [
    "### 3.1. K-Means-Clustering <a name=3.1.><a>"
   ]
  },
  {
   "cell_type": "code",
   "execution_count": null,
   "id": "bb5786a2-2b5f-4f22-ae30-1c54fd1c613a",
   "metadata": {},
   "outputs": [],
   "source": [
    "from sklearn.cluster import KMeans\n",
    "\n",
    "clust = KMeans(n_clusters=2,n_init=10).fit(X)\n",
    "y = clust.predict(X)\n",
    "\n",
    "plt.figure()\n",
    "\n",
    "plt.scatter(X[y==0].T[0], X[y==0].T[1])\n",
    "plt.scatter(X[y==1].T[0], X[y==1].T[1])\n",
    "#plt.scatter(X[y==2].T[0], X[y==2].T[1])\n",
    "\n",
    "plt.show()."
   ]
  },
  {
   "cell_type": "code",
   "execution_count": 8,
   "id": "2279611f-a5f7-4ac7-bcbf-95b67771186f",
   "metadata": {},
   "outputs": [
    {
     "name": "stderr",
     "output_type": "stream",
     "text": [
      "C:\\Users\\maayo\\PycharmProjects\\Sem2_ML\\venv\\Lib\\site-packages\\sklearn\\cluster\\_kmeans.py:1416: FutureWarning: The default value of `n_init` will change from 10 to 'auto' in 1.4. Set the value of `n_init` explicitly to suppress the warning\n",
      "  super()._check_params_vs_input(X, default_n_init=10)\n"
     ]
    },
    {
     "name": "stdout",
     "output_type": "stream",
     "text": [
      "[0 1 0 0 1 1 0]\n",
      "zentroiden: [(8.325, 17.625), (14.3, 24.8)]\n",
      "69.875\n"
     ]
    },
    {
     "data": {
      "text/plain": [
       "array([0, 1, 0, 0, 1, 1, 0])"
      ]
     },
     "execution_count": 8,
     "metadata": {},
     "output_type": "execute_result"
    }
   ],
   "source": [
    "from sklearn.cluster import KMeans\n",
    "import numpy as np\n",
    "\n",
    "# Datensatz E\n",
    "E = np.array([(8.5,16),(12.4,26.8),(9.3,21),(11.5,17),(17.5,25),(13,22.6),(4,16.5)])\n",
    "k=2\n",
    "\n",
    "# K-Means-Modell erstellen und anpassen\n",
    "kmeans = KMeans(n_clusters=k, init='k-means++', random_state=42).fit(E)\n",
    "y = kmeans.predict(E)\n",
    "\n",
    "# Clusterzugehörigkeiten ausgeben\n",
    "print(kmeans.labels_) \n",
    "\n",
    "# Finalen Zentroiden ausgeben\n",
    "zentroiden = kmeans.cluster_centers_\n",
    "print(f'zentroiden: {[(round(z[0], 3), round(z[1], 3)) for z in zentroiden]}')\n",
    "# Verzerrung berechnen\n",
    "verzerrung = kmeans.inertia_\n",
    "print(round(verzerrung, 3))\n",
    "y"
   ]
  },
  {
   "cell_type": "markdown",
   "id": "5b1084f4-a672-4ce6-ad42-049b62268f96",
   "metadata": {
    "jp-MarkdownHeadingCollapsed": true
   },
   "source": [
    "### 3.2. hierarisches Clustering <a name=3.2.><a>"
   ]
  },
  {
   "cell_type": "code",
   "execution_count": 10,
   "id": "58ad4d55-8771-40b1-9751-ec34dd8b67bb",
   "metadata": {},
   "outputs": [
    {
     "name": "stderr",
     "output_type": "stream",
     "text": [
      "C:\\Users\\maayo\\PycharmProjects\\Sem2_ML\\venv\\Lib\\site-packages\\sklearn\\cluster\\_agglomerative.py:1006: FutureWarning: Attribute `affinity` was deprecated in version 1.2 and will be removed in 1.4. Use `metric` instead\n",
      "  warnings.warn(\n"
     ]
    },
    {
     "data": {
      "text/plain": [
       "array([0, 1, 0, 0, 0, 0, 0], dtype=int64)"
      ]
     },
     "execution_count": 10,
     "metadata": {},
     "output_type": "execute_result"
    }
   ],
   "source": [
    "from sklearn.cluster import AgglomerativeClustering\n",
    "import numpy as np\n",
    "\n",
    "# Datensatz E\n",
    "E = np.array([(7.1,1.5),(5,14.6),(9.7,8.1),(14,4.6),(15.5,2.2),(18.4,6.2),(20.3,10.3)])\n",
    "\n",
    "# Erstellen Sie das Modell\n",
    "clust = AgglomerativeClustering(n_clusters=2, affinity='euclidean', linkage='single')\n",
    "#clust = AgglomerativeClustering(n_clusters=2,distance_threshold=0,linkage='average').fit(X)\n",
    "\n",
    "# Modell anpassen und Vorhersagen machen\n",
    "clust.fit_predict(E)"
   ]
  },
  {
   "cell_type": "code",
   "execution_count": 6,
   "id": "484492cd-b701-4f31-b8b2-8404aef55e91",
   "metadata": {},
   "outputs": [
    {
     "name": "stderr",
     "output_type": "stream",
     "text": [
      "C:\\Users\\maayo\\PycharmProjects\\Sem2_ML\\venv\\Lib\\site-packages\\sklearn\\cluster\\_agglomerative.py:1006: FutureWarning: Attribute `affinity` was deprecated in version 1.2 and will be removed in 1.4. Use `metric` instead\n",
      "  warnings.warn(\n"
     ]
    },
    {
     "data": {
      "text/plain": [
       "array([2, 1, 0, 0, 0, 0, 0], dtype=int64)"
      ]
     },
     "execution_count": 6,
     "metadata": {},
     "output_type": "execute_result"
    }
   ],
   "source": [
    "\n",
    "# Erstellen Sie das Modell\n",
    "clust = AgglomerativeClustering(n_clusters=3, affinity='euclidean', linkage='single')\n",
    "#clust = AgglomerativeClustering(n_clusters=2,distance_threshold=0,linkage='average').fit(X)\n",
    "\n",
    "# Modell anpassen und Vorhersagen machen\n",
    "clust.fit_predict(E)"
   ]
  },
  {
   "cell_type": "code",
   "execution_count": 7,
   "id": "fafbc7d2-ed49-43db-849f-586899c3278d",
   "metadata": {},
   "outputs": [
    {
     "data": {
      "image/png": "[encoded data removed]",
      "text/plain": [
       "<Figure size 640x480 with 1 Axes>"
      ]
     },
     "metadata": {},
     "output_type": "display_data"
    }
   ],
   "source": [
    "from matplotlib import pyplot as plt\n",
    "from scipy.cluster.hierarchy import dendrogram\n",
    "\n",
    "plt.figure()\n",
    "dendrogram(np.column_stack([clust.children_, np.arange(clust.children_.shape[0]), np.arange(2, clust.children_.shape[0]+2)]).astype(float))\n",
    "plt.show()"
   ]
  },
  {
   "cell_type": "markdown",
   "id": "82fee54d-0228-4e2d-ac1e-462582215e67",
   "metadata": {
    "jp-MarkdownHeadingCollapsed": true
   },
   "source": [
    "### 3.4. Anomalieerkennung <a name=3.4.><a>"
   ]
  },
  {
   "cell_type": "code",
   "execution_count": 26,
   "id": "d912bea7-fb07-437d-b31e-dae54a52b297",
   "metadata": {},
   "outputs": [
    {
     "name": "stdout",
     "output_type": "stream",
     "text": [
      "[-1]\n",
      "x(8) ist ein Ausreißer.\n"
     ]
    }
   ],
   "source": [
    "from sklearn.covariance import EllipticEnvelope\n",
    "\n",
    "# Gegebener Datensatz\n",
    "E = [(11,0.8),(11.6,1),(9.2,0.9),(14.1,0.8),(13.4,0.9),(8.8,1.1),(12.2,0.8)]\n",
    "\n",
    "# Neuer Punkt\n",
    "x = [13.9, 1.1]\n",
    "\n",
    "# Erstellen Sie das EllipticEnvelope Modell\n",
    "model = EllipticEnvelope(contamination=0.1).fit(E)\n",
    "\n",
    "# Vorhersage für den neuen Punkt\n",
    "prediction = model.predict([x8])\n",
    "\n",
    "print(prediction)\n",
    "\n",
    "if prediction == -1:\n",
    "    print(\"x(8) ist ein Ausreißer.\")\n",
    "else:\n",
    "    print(\"x(8) ist kein Ausreißer.\")\n"
   ]
  },
  {
   "cell_type": "code",
   "execution_count": 39,
   "id": "b554b758-820e-4caf-a84b-66478c67d948",
   "metadata": {},
   "outputs": [
    {
     "data": {
      "image/png": "[encoded data removed]",
      "text/plain": [
       "<Figure size 640x480 with 1 Axes>"
      ]
     },
     "metadata": {},
     "output_type": "display_data"
    }
   ],
   "source": [
    "import numpy as np\n",
    "import matplotlib.pyplot as plt\n",
    "from sklearn.covariance import EllipticEnvelope\n",
    "\n",
    "max_x = max(x for x, y in E)\n",
    "min_x = min(x for x, y in E)\n",
    "max_y = max(y for x, y in E)\n",
    "min_y = min(y for x, y in E)\n",
    "\n",
    "# Erzeugen Sie ein Gitter für die Visualisierung\n",
    "xx, yy = np.meshgrid(np.linspace(min_x - 3, max_x + 3, 100), np.linspace(min_y - 0.3, max_y + 0.3, 100))\n",
    "Z = model.decision_function(np.c_[xx.ravel(), yy.ravel()])\n",
    "Z = Z.reshape(xx.shape)\n",
    "\n",
    "# Zeichnen Sie die Entscheidungsgrenze\n",
    "contour = plt.contour(xx, yy, Z, levels=[0], linewidths=2, colors='g')\n",
    "plt.scatter(x[0], x[1], color='red', label='Testpunkt x')\n",
    "\n",
    "# Zeichnen Sie die Datenpunkte\n",
    "E = np.array(E)\n",
    "plt.scatter(E[:, 0], E[:, 1], label='Datenpunkte')\n",
    "\n",
    "plt.xlabel('x')\n",
    "plt.ylabel('y')\n",
    "plt.legend()\n",
    "plt.show()"
   ]
  },
  {
   "cell_type": "markdown",
   "id": "518a69fd-bf7b-4ce6-8868-519faab5ec13",
   "metadata": {
    "jp-MarkdownHeadingCollapsed": true
   },
   "source": [
    "### 3.5. Hauptkomponentenanalyse <a name=3.5.><a>"
   ]
  },
  {
   "cell_type": "code",
   "execution_count": 1,
   "id": "6dcd38c7-14b8-4524-9ab6-554efc5d94ed",
   "metadata": {},
   "outputs": [
    {
     "name": "stdout",
     "output_type": "stream",
     "text": [
      "Die Eigenwerte der ersten beiden Hauptkomponenten sind: [2.06520402 1.17129394]\n"
     ]
    }
   ],
   "source": [
    "from sklearn.decomposition import PCA\n",
    "import numpy as np\n",
    "\n",
    "# Ihr Datensatz\n",
    "E = np.array([\n",
    "    [-1.222, -1.297, -1.648],\n",
    "    [-0.604, -0.208, 1.436],\n",
    "    [1.247, 0.809, -0.414],\n",
    "    [1.247, 1.826, -0.846],\n",
    "    [-0.693, 0.301, 1.128],\n",
    "    [-0.869, -1.006, 0.141],\n",
    "    [0.894, -0.425, 0.203]\n",
    "])\n",
    "\n",
    "# Erstellen Sie ein PCA-Objekt\n",
    "pca = PCA(n_components=2)\n",
    "\n",
    "# Führen Sie die PCA auf dem Datensatz durch\n",
    "pca.fit(E)\n",
    "\n",
    "# Die Eigenwerte der ersten beiden Hauptkomponenten\n",
    "eigenvalues = pca.explained_variance_\n",
    "\n",
    "print(\"Die Eigenwerte der ersten beiden Hauptkomponenten sind:\", eigenvalues)\n"
   ]
  },
  {
   "cell_type": "code",
   "execution_count": 2,
   "id": "b2ccc123-b350-4c06-8d75-ed31146f05b7",
   "metadata": {},
   "outputs": [
    {
     "name": "stdout",
     "output_type": "stream",
     "text": [
      "Die Eigenwerte der ersten drei Hauptkomponenten sind: [2.06520402 1.17129394 0.26330904]\n"
     ]
    }
   ],
   "source": [
    "# Erstellen Sie ein PCA-Objekt\n",
    "pca = PCA(n_components=3)\n",
    "\n",
    "# Führen Sie die PCA auf dem Datensatz durch\n",
    "pca.fit(E)\n",
    "\n",
    "# Die Eigenwerte der ersten drei Hauptkomponenten\n",
    "eigenvalues = pca.explained_variance_\n",
    "\n",
    "print(\"Die Eigenwerte der ersten drei Hauptkomponenten sind:\", eigenvalues)"
   ]
  },
  {
   "cell_type": "markdown",
   "id": "0dd5d8a3-d824-4b7c-b2c9-01456962a181",
   "metadata": {},
   "source": [
    "### 3.5. Hauptkomponentenanalyse <a name=3.5.><a>"
   ]
  },
  {
   "cell_type": "code",
   "execution_count": null,
   "id": "38688dc8-168f-47c6-8ef9-f2398585d8f6",
   "metadata": {},
   "outputs": [],
   "source": []
  },
  {
   "cell_type": "code",
   "execution_count": null,
   "id": "054e076e-96ef-4a60-a0f8-e67d5f0ed0f8",
   "metadata": {},
   "outputs": [],
   "source": []
  },
  {
   "cell_type": "code",
   "execution_count": null,
   "id": "2d09c032-72db-4018-a173-b34d9ec4e83b",
   "metadata": {},
   "outputs": [],
   "source": []
  },
  {
   "cell_type": "markdown",
   "id": "a04a0d4d-9821-4557-a57b-7c1162a3edf3",
   "metadata": {
    "jp-MarkdownHeadingCollapsed": true
   },
   "source": [
    "# 5 Deep Lerning <a name=3><a>"
   ]
  },
  {
   "cell_type": "markdown",
   "id": "34fb8722-6f82-47a1-a923-a72d1366e288",
   "metadata": {
    "jp-MarkdownHeadingCollapsed": true
   },
   "source": [
    "---\n",
    "## 5.3. RNN <a name=5.1.><a>"
   ]
  },
  {
   "cell_type": "markdown",
   "id": "0ef20847-f681-44dc-b13e-90ebbe01e9db",
   "metadata": {
    "jp-MarkdownHeadingCollapsed": true
   },
   "source": [
    "### 5.3.1. spaltenweise Konkatenation zweier Matrizen <a name=5.3.1.><a>\n",
    "\n",
    "Sei $A \\in \\mathbb{R}^{n \\times m}$ und $B \\in \\mathbb{R}^{n \\times m'}$ zwei Matrizen mit gleicher Anzahl an Zeilen, so ist $A \\circ B \\in \\mathbb{R}^{n \\times (m + m')}$ die entsprechende Konkatenation:"
   ]
  },
  {
   "cell_type": "code",
   "execution_count": null,
   "id": "7917a1c0-3a58-4129-ab00-d9cde58459eb",
   "metadata": {},
   "outputs": [],
   "source": [
    "# Erstellen Sie die Matrizen A und B mit Dummy-Zahlen\n",
    "A = np.array([[1, 2, 3], \n",
    "              [4, 5, 6], \n",
    "              [7, 8, 9]])\n",
    "\n",
    "B = np.array([[10, 11, 12], \n",
    "              [13, 14, 15], \n",
    "              [16, 17, 18]])\n",
    "\n",
    "# Führen Sie die Konkatenation durch\n",
    "AB = np.concatenate((A, B), axis=1)\n",
    "print(AB)\n",
    "\n",
    "# Erstellen Sie die Vektoren v und w mit Dummy-Zahlen\n",
    "v = np.array([1, 2, 3])  # v = (v1, ..., vm)^T\n",
    "w = np.array([4, 5, 6])  # w = (w1, ..., wm')^T\n",
    "\n",
    "# Führen Sie die Konkatenation durch\n",
    "vw = np.concatenate((v, w))\n",
    "print(\"v ◦ w =\", vw)"
   ]
  },
  {
   "cell_type": "markdown",
   "id": "ebe44ddc-6fc8-47a8-9048-bdad3c010d90",
   "metadata": {},
   "source": [
    "Vergewissern Sie sich, dass für die obigen Definition gilt $(A \\circ B)(v \\circ w) = Av + Bw$."
   ]
  },
  {
   "cell_type": "code",
   "execution_count": null,
   "id": "f33bf573-d301-4809-866e-9711d253597d",
   "metadata": {},
   "outputs": [],
   "source": [
    "result1 = np.dot(AB,vw)\n",
    "result2 = np.dot(A,v) + np.dot(B,w)\n",
    "print(result1 == result2)"
   ]
  },
  {
   "cell_type": "markdown",
   "id": "51772525-0900-4237-bb78-faa53dd26d72",
   "metadata": {},
   "source": [
    "### 5.3.2. One-Hot-Codierung <a name=5.3.2.><a>\n"
   ]
  },
  {
   "cell_type": "markdown",
   "id": "eb6195b0-7376-4847-8bd3-254cc55853f2",
   "metadata": {},
   "source": [
    "Sei ein Alphabet gegeben durch\n",
    "\n",
    "Σ={a,e,s,t}\n",
    "\n",
    "1. Bestimmen Sie eine One-Hot-Codierung für Σ\n",
    ". (Anwortformat '(1,2,3,4,5,6)', Vektorlänge ist selbst zu wä\n",
    "2. Wie ist demnach das Wort test\n",
    " codiert \n",
    "\n",
    "(Anwortformat '((1,2,3,4,5,6),(7,8,9))')\n",
    "#### Lösung\n",
    "- a: (1, 0, 0, 0)\n",
    "- e: (0, 1, 0, 0)\n",
    "- s: (0, 0, 1, 0)\n",
    "- t: (0, 0, 0, 1)\n",
    "\n",
    "Unter Verwendung der zuvor definierten One-Hot-Codierung für das Alphabet Σ={a,e,s,t}, wird das Wort \"test\" wie folgt codiert:\n",
    "\n",
    "- t: (0, 0, 0, 1)\n",
    "- e: (0, 1, 0, 0)\n",
    "- s: (0, 0, 1, 0)\n",
    "- t: (0, 0, 0, 1)\n",
    "\n",
    "Daher ist die Codierung des Wortes \"test\" in dem von Ihnen angegebenen Antwortformat:\n",
    "\n",
    "((0, 0, 0, 1), (0, 1, 0, 0), (0, 0, 1, 0), (0, 0, 0, 1))"
   ]
  },
  {
   "cell_type": "markdown",
   "id": "7df485f3-6e46-4c86-9452-28009fadc40a",
   "metadata": {
    "jp-MarkdownHeadingCollapsed": true
   },
   "source": [
    "### 5.3.3. Berechnungsgraphen <a name=5.3.3.><a>\n",
    "Im Allgemeinen gilt für eine Eingabe $x = (x^{(1)}, \\ldots, x^{(m)})$:\n",
    "\n",
    "$$\n",
    "h(i) = \\text{act}(Ux^{(i)} + Wh^{(i-1)}) \\quad \\text{(1)}\n",
    "$$ <a name=hi><a>\n",
    "\n",
    "$$\n",
    "o(i) = \\text{act}(Vh^{(i)}) \\quad \\text{(2)}\n",
    "$$<a name=oi><a>\n",
    "\n",
    "für $i = 1, \\ldots, m$. Zu beachten ist, dass diese Netzwerkarchitektur mit Eingaben beliebiger Länge umgehen kann, aber eine fixe Anzahl an Parametern besitzt (in den Matrizen $U$, $V$, $W$)."
   ]
  },
  {
   "cell_type": "markdown",
   "id": "fda19404-0a03-4c6c-b27b-c2d4602fbeab",
   "metadata": {},
   "source": [
    "Gegeben sei das abgebildete einfache RNN, wobei\n",
    "\n",
    "$$\\sum = \\{\\text{ist,nichts,niemand}\\} = \\{(1,0,0)^T,(0,1,0)^T,(0,0,1)^T\\}$$\n",
    "$$U= ((0, 0.9, 0.9), (0.5, 0.1, 0), (0.5, 0, 0.1))$$\n",
    "$$W = ((0, 0.45, 0.45), (0.25, 0.05, 0), (0.25, 0, 0.05))$$\n",
    "$$V = ((0.5, 0, 0), (0, 0.5, 0), (0, 0, 0.5))$$\n",
    "$$h_0 = (0,1,1)^T$$\n",
    "\n",
    "und die Aktivierungsfunktion $h^{relu}$ ist. Berechnen Sie die hidden states und die Ausgabe für die Eingabe $x = \\text{'Niemand ist'} = ((0,0,1)^T,(1,0,0)^T)$. \n",
    "(Antwortformat '(1,2,3.456)')"
   ]
  },
  {
   "cell_type": "code",
   "execution_count": null,
   "id": "23528f1d-cd8f-4d9b-ba19-82de0847422c",
   "metadata": {},
   "outputs": [],
   "source": [
    "import numpy as np\n",
    "\n",
    "def hrelu(x):\n",
    "    return np.maximum(0, x)\n",
    "\n",
    "U = np.array([[0, 0.9, 0.9], [0.5, 0.1, 0], [0.5, 0, 0.1]])\n",
    "W = np.array([[0, 0.45, 0.45], [0.25, 0.05, 0], [0.25, 0, 0.05]])\n",
    "V = np.array([[0.5, 0, 0], [0, 0.5, 0], [0, 0, 0.5]])\n",
    "h_0 = np.array([0,1,1]).T\n",
    "x = np.array([[0,0,1],[1,0,0]]).T\n",
    "\n",
    "h_1 = hrelu(np.dot(U, x[:,0]) + np.dot(W, h_0))\n",
    "h_2 = hrelu(np.dot(U, x[:,1]) + np.dot(W, h_1))\n",
    "\n",
    "o_1 = hrelu(np.dot(V, h_1))\n",
    "o_2 = hrelu(np.dot(V, h_2))\n",
    "\n",
    "print(\"h_1: \", h_1)\n",
    "print(\"h_2: \", h_2)\n",
    "print(\"o_1: \", o_1)\n",
    "print(\"o_2: \", o_2)\n"
   ]
  },
  {
   "cell_type": "markdown",
   "id": "6c04919f-d436-4682-8ff6-3929da2c6e77",
   "metadata": {
    "jp-MarkdownHeadingCollapsed": true
   },
   "source": [
    "### 5.3.4. Long short-term memory-Netzwerke <a name=5.3.4.><a>\n"
   ]
  },
  {
   "cell_type": "markdown",
   "id": "36bce749-40b6-4918-998d-004268a7c519",
   "metadata": {},
   "source": [
    "$$f^{(i)} = h^{logit} (U^f x^{(i)} + W^f h^{(i−1)})$$\n",
    "- Der Vektor $f^{(i)}$ soll steuern, was aus dem Langzeitgedächtnis `s` vergessen werden soll (auch als **forget gate** bezeichnet).\n",
    "\n",
    "$$g^{(i)} = h^{logit} (U^g x^{(i)} + W^g h^{(i−1)})$$\n",
    "$$k^{(i)} = h^{tanh} (U^k x^{(i)} + W^k h^{(i−1)})$$\n",
    "- Der Vektor $g^{(i)}$ (**input gate**) steuert, welche Informationen aus $k^{(i)}$ in das Langzeitgedächtnis aufgenommen werden sollen.\n",
    "$$q^{(i)} = h^{logit} (U^o x^{(i)} + W^o h^{(i−1)})$$\n",
    "- Der Vektor $q^{(i)}$ (**output gate**) steuert, welche Information in die Ausgabe und den nächsten versteckten Zustand $h^{(i)}$ einfließt.\n",
    "\n",
    "- Die Kernidee hinter LSTMs liegt in der Definition des Zellzustands: $$s^{(i)} = f^{(i)} \\cdot s^{(i-1)} + g^{(i)} \\cdot k^{(i)}$$"
   ]
  },
  {
   "cell_type": "code",
   "execution_count": null,
   "id": "60a88a14-5f08-468d-aba0-11eacee21d76",
   "metadata": {},
   "outputs": [],
   "source": []
  }
 ],
 "metadata": {
  "kernelspec": {
   "display_name": "Python 3 (ipykernel)",
   "language": "python",
   "name": "python3"
  },
  "language_info": {
   "codemirror_mode": {
    "name": "ipython",
    "version": 3
   },
   "file_extension": ".py",
   "mimetype": "text/x-python",
   "name": "python",
   "nbconvert_exporter": "python",
   "pygments_lexer": "ipython3",
   "version": "3.11.3"
  }
 },
 "nbformat": 4,
 "nbformat_minor": 5
}
