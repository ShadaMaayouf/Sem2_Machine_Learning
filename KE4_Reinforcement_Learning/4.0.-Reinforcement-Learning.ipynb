{
 "cells": [
  {
   "cell_type": "markdown",
   "metadata": {
    "ExecuteTime": {
     "end_time": "2024-01-22T15:05:33.584082Z",
     "start_time": "2024-01-22T15:05:33.537800Z"
    },
    "collapsed": true,
    "jupyter": {
     "outputs_hidden": true
    }
   },
   "source": [
    "# 4.0. - Reinforcement Learning\n",
    "\n",
    "## Imports"
   ]
  },
  {
   "cell_type": "code",
   "execution_count": 1,
   "metadata": {
    "collapsed": false,
    "jupyter": {
     "outputs_hidden": false
    }
   },
   "outputs": [],
   "source": [
    "import pandas as pd\n",
    "import numpy as np\n",
    "import matplotlib.pyplot as plt\n"
   ]
  },
  {
   "cell_type": "markdown",
   "metadata": {},
   "source": [
    "Reinforcement Learning (RL) ist eine Methode des maschinellen Lernens, bei der ein Agent in einer Umgebung agiert und durch Belohnungen lernt, optimale Aktionen auszuführen. Ein Beispiel ist ein Staubsaugerroboter, der lernt, wie er eine Wohnung effizient reinigt und seine Batterie auflädt.\r\n",
    "\r\n",
    "Es gibt zwei Arten von RL-Verfahren:\r\n",
    "1. **Offline-Lernverfahren**: Der Lernalgorithmus hat ein genaues Modell der Umgebung, der Aktionen und der Belohnungen.\r\n",
    "2. **Online-Lernverfahren**: Der Lernalgorithmus hat kein Vorwissen und führt verschiedene Aktionen aus, um zu lernen, welche Strategien erfolgversprechend sind.\r\n",
    "\r\n",
    "Zudem gibt es zwei Arten von RL-Lernmethoden:\r\n",
    "1. **Passives Reinforcement Learning**: Methoden, die ein Modell der Umgebung und die Qualität von Aktionen lernen.\r\n",
    "2. **Aktives Reinforcement Learning**: Methoden, die eine optimale Strategie für das Handeln des Agenten in der Umgebung lernen.\r\n",
    "\r\n",
    "Das Ziel von RL ist es, eine Strategie zu finden, die die Belohnung maximiert. Es wird auch auf Konzepte wie Markov-Entscheidungsprozesse zurückgegriffen."
   ]
  },
  {
   "cell_type": "markdown",
   "metadata": {},
   "source": [
    ">***Wie bezieht sich Reinforcement Learning mit überwachtes (Supervised) und unüberwachtes Lernen (Unsupervised)***\n",
    ">\n",
    ">\n",
    "> Ja, Reinforcement Learning, überwachtes Lernen (Supervised Learning) und unüberwachtes Lernen (Unsupervised Learning) fallen alle unter den Oberbegriff des maschinellen Lernens.\n",
    ">\n",
    "> - **Überwachtes Lernen**: Hierbei wird ein Modell auf einem Datensatz trainiert, bei dem jede Dateninstanz ein zugehöriges Label oder einen Ausgabewert hat. Das Modell lernt, Vorhersagen auf der Grundlage dieser Eingabe-Ausgabe-Paare zu treffen.\n",
    "> \n",
    "> - **Unüberwachtes Lernen**: In diesem Fall wird das Modell auf einem Datensatz trainiert, der keine zugehörigen Labels oder Ausgabewerte hat. Das Modell lernt, Muster und Beziehungen in den Daten zu erkennen.\n",
    ">\n",
    "> - **Reinforcement Learning**: Hierbei handelt es sich um eine Methode, bei der ein Agent in einer Umgebung agiert und durch Belohnungen oder Strafen lernt, optimale Aktionen auszuführen."
   ]
  }
 ],
 "metadata": {
  "kernelspec": {
   "display_name": "Python 3 (ipykernel)",
   "language": "python",
   "name": "python3"
  },
  "language_info": {
   "codemirror_mode": {
    "name": "ipython",
    "version": 3
   },
   "file_extension": ".py",
   "mimetype": "text/x-python",
   "name": "python",
   "nbconvert_exporter": "python",
   "pygments_lexer": "ipython3",
   "version": "3.11.3"
  }
 },
 "nbformat": 4,
 "nbformat_minor": 4
}
