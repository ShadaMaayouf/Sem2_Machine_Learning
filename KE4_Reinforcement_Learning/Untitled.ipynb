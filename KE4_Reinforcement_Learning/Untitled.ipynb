{
 "cells": [
  {
   "cell_type": "markdown",
   "id": "342ce35a-40ee-433c-b120-3fa12f0ff9f2",
   "metadata": {},
   "source": [
    "$$u_0(s^{1,1}_1) = u_0(s^{1,1}_2) = u_0(s^{1,0}_1) = u_0(s^{1,0}_2) = u_0(s^{0,1}_1) = u_0(s^{0,1}_2) = u_0(s^{0,0}_1) = u_0(s^{0,0}_2) = u_0(s^t) = 0$$und betrachten alle möglichen Aktionen (move, clean, charge) und berechnen wir den erwarteten Nutzen für jede Aktion mit für $\\gamma = 0.9$ exemplarisch (beachten Sie, dass wir nur Zustandsübergänge mit positiver Wahrscheinlichkeit in den Summen aufzählen)"
   ]
  },
  {
   "cell_type": "markdown",
   "id": "eadb599c-7af1-4f32-87e2-6f8ac1dbdd57",
   "metadata": {},
   "source": [
    "$$u_1(s^{1,1}_1) = \\max \\left\\{\n",
    "\\begin{array}{l}\n",
    "P(s^{1,1}_1,\\text{{move}},s^{1,1}_1) \\left[R(s^{1,1}_1,\\text{{move}},s^{1,1}_1) + \\gamma u_0(s^{1,1}_1)\\right] + P(s^{1,1}_1,\\text{{move}},s^{1,1}_2) \\left[R(s^{1,1}_1,\\text{{move}},s^{1,1}_2) + \\gamma u_0(s^{1,1}_2)\\right], \\\\\n",
    "P(s^{1,1}_1, \\text{{clean}},s^{1,1}_1) \\left[R(s^{1,1}_1, \\text{{clean}},s^{1,1}_1) + \\gamma u_0(s^{1,1}_1)\\right] + P(s^{1,1}_1, \\text{{clean}},s^{0,1}_1) \\left[R(s^{1,1}_1, \\text{{clean}},s^{0,1}_1) + \\gamma u_0(s^{0,1}_1)\\right], \\\\\n",
    "P(s^{1,1}_1, \\text{{charge}},s^t) \\left[R(s^{1,1}_1, \\text{{charge}},s^t) + \\gamma u_0(s^t)\\right]\n",
    "\\end{array}\n",
    "\\right\\}$$"
   ]
  },
  {
   "cell_type": "markdown",
   "id": "40194759-fa9d-47e5-89bc-3e88ccc7f4b9",
   "metadata": {},
   "source": [
    "\n",
    "$$= \\max \\left\\{0.1[-1+0.9 \\cdot 0] + 0.9[-1+0.9 \\cdot 0], 0.2[0+0.9 \\cdot 0] + 0.8[10+0.9 \\cdot 0], 1[-7+0.9 \\cdot 0]\\right\\} = \\max \\{-1, 8, -7\\} = 8$$\n"
   ]
  },
  {
   "cell_type": "code",
   "execution_count": null,
   "id": "ea7d501b-24d8-40e6-8d92-c731c28c1d5f",
   "metadata": {},
   "outputs": [],
   "source": []
  }
 ],
 "metadata": {
  "kernelspec": {
   "display_name": "Python 3 (ipykernel)",
   "language": "python",
   "name": "python3"
  },
  "language_info": {
   "codemirror_mode": {
    "name": "ipython",
    "version": 3
   },
   "file_extension": ".py",
   "mimetype": "text/x-python",
   "name": "python",
   "nbconvert_exporter": "python",
   "pygments_lexer": "ipython3",
   "version": "3.11.3"
  }
 },
 "nbformat": 4,
 "nbformat_minor": 5
}
