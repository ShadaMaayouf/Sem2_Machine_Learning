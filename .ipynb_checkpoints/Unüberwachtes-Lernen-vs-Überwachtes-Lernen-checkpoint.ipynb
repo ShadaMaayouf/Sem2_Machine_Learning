{
 "cells": [
  {
   "cell_type": "markdown",
   "id": "e258f05c-16ad-4557-baba-76e7f7cfd60d",
   "metadata": {},
   "source": [
    "# Überwachtes Lernen vs Unüberwachtes Lernen"
   ]
  },
  {
   "cell_type": "markdown",
   "id": "c09a1d10-d972-454f-a9a4-b7f24ee9bd5d",
   "metadata": {},
   "source": [
    "In der Regel können Sie feststellen, ob ein maschinelles Lernproblem überwacht oder unüberwacht ist, indem Sie die Art der Daten betrachten, die Sie haben, und was Sie mit diesen Daten erreichen möchten:\n",
    "\n",
    "- **Überwachtes Lernen**: Dies ist der Fall, wenn Sie sowohl Eingabedaten (Features) als auch Ausgabedaten (Zielvariable) haben. Das Ziel ist es, ein Modell zu erstellen, das die Beziehung zwischen den Features und der Zielvariable lernt, so dass Sie zukünftige Ausgaben vorhersagen können, wenn Sie nur die Features haben. Beispiele sind Klassifikation und Regression.\n",
    "\n",
    "- **Unüberwachtes Lernen**: Dies ist der Fall, wenn Sie nur Eingabedaten (Features) haben und keine zugehörigen Ausgabedaten. Das Ziel ist es, Muster, Zusammenhänge oder Strukturen in den Daten zu finden. Beispiele sind Clustering und Dimensionsreduktion.\n",
    "\n",
    "Es gibt auch semi-überwachtes Lernen und Bestärkungslernen, die andere Arten von Lernproblemen darstellen. Aber die oben genannten sind die grundlegendsten Arten. "
   ]
  },
  {
   "cell_type": "markdown",
   "id": "32644702-1e7a-4dbc-9b41-f1526526510b",
   "metadata": {},
   "source": [
    "![Unüberwachtes-Lernen-vs-Überwachtes-Lernen](./Unüberwachtes-Lernen-vs-Überwachtes-Lernen.jpg)\n"
   ]
  },
  {
   "cell_type": "markdown",
   "id": "360a7ca7-c1a2-4097-85bc-75136494312a",
   "metadata": {},
   "source": [
    "![Unüberwachtes-Lernen-vs-Überwachtes-Lernen](./Unüberwachtes-Lernen-vs-Überwachtes-Lernen-2.jpg)\n"
   ]
  },
  {
   "cell_type": "markdown",
   "id": "77812323-bd34-4c9e-95a7-07a428da78e7",
   "metadata": {},
   "source": [
    "![Unüberwachtes-Lernen-vs-Überwachtes-Lernen](./Unüberwachtes-Lernen-vs-Überwachtes-Lernen-3.jpeg)\n"
   ]
  },
  {
   "cell_type": "code",
   "execution_count": null,
   "id": "e9adfd64-34f2-436d-a302-3622fe5663ec",
   "metadata": {},
   "outputs": [],
   "source": []
  }
 ],
 "metadata": {
  "kernelspec": {
   "display_name": "Python 3 (ipykernel)",
   "language": "python",
   "name": "python3"
  },
  "language_info": {
   "codemirror_mode": {
    "name": "ipython",
    "version": 3
   },
   "file_extension": ".py",
   "mimetype": "text/x-python",
   "name": "python",
   "nbconvert_exporter": "python",
   "pygments_lexer": "ipython3",
   "version": "3.11.3"
  }
 },
 "nbformat": 4,
 "nbformat_minor": 5
}
