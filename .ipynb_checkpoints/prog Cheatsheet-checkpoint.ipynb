{
 "cells": [
  {
   "cell_type": "markdown",
   "id": "dbd5d136-be08-4dfc-8ad9-5a5fa1c85e54",
   "metadata": {},
   "source": [
    "# Cheatsheet (progmatisch)\n",
    ">## <ins>Table of contents</ins> <a name=\"up\"></a>[<sup>[1]</sup>](#cite_note-1)\n",
    ">* [**1. Allgemein**](#1.)\n",
    ">* [**K2. Überwachtes Lernen**](#K2)\n",
    "    * [**2.1. Lineare Regression**](#2.1.)\n",
    "       * [**2D**](#2_1_2D)\n",
    "       * [**3D**](#2_1_3D)\n",
    "    * [**2.2. logistische Regression**](#2.2.)\n",
    "       * [**2D**](#2_1_2D)\n",
    "       * [**3D**](#2_1_3D)\n",
    "    * [**2.3. SVM**](#2.3.)\n",
    "    * [**2.4. Lineare Regression**](#2.4.)\n",
    ">* [**K3. Motivation und Grundlagen**](#K3)\n",
    ">* [**K4. Motivation und Grundlagen**](#K4)\n",
    ">* [**K5. Motivation und Grundlagen**](#K5)\n",
    "    * [**5.1. RNN**](#5.1.)\n",
    "       * [**5.1. RNN**](#5.1.)\n",
    "    * [**5.3. RNN**](#5.3.)\n",
    "       * [**spaltenweise Konkatenation zweier Matrizen**](#5.3.1.)\n",
    "       * [**One-Hot-Codierung**](#5.3.2.)\n",
    "       * [**Berechnungsgraphen**](#5.3.3.)\n",
    "\n",
    ">\n"
   ]
  },
  {
   "cell_type": "code",
   "execution_count": 75,
   "id": "36d9e4dc-1af2-4d72-ad51-c8a914ff7040",
   "metadata": {},
   "outputs": [],
   "source": [
    "import pandas as pd\n",
    "import numpy as np\n",
    "from sklearn.linear_model import LinearRegression\n",
    "from sklearn.linear_model import Ridge\n",
    "from sklearn.preprocessing import PolynomialFeatures\n",
    "from sklearn.model_selection import train_test_split\n",
    "from sklearn.model_selection import KFold\n",
    "import matplotlib.pyplot as plt\n"
   ]
  },
  {
   "cell_type": "markdown",
   "id": "ac07311b-0f52-46bf-bec4-244ef3ad7392",
   "metadata": {},
   "source": [
    "## 1. Allgemein <a name=1.><a>"
   ]
  },
  {
   "cell_type": "markdown",
   "id": "ead1f745-9c9d-40ae-9cb4-f685d626050d",
   "metadata": {
    "jp-MarkdownHeadingCollapsed": true
   },
   "source": [
    "### data preparation"
   ]
  },
  {
   "cell_type": "code",
   "execution_count": 7,
   "id": "749acd65-2f38-47fb-88d0-bd1fb49ea454",
   "metadata": {},
   "outputs": [],
   "source": [
    "# Ihre Daten\n",
    "data = {\n",
    "    'height': [153.3, 158.9, 160.8, 179.6, 156.6, 165.1, 165.9, 156.7, 167.8, 160.8],\n",
    "    'ringlength': [47.1, 46.8, 49.3, 53.2, 47.7, 49.0, 50.6, 47.1, 51.7, 47.8]\n",
    "}\n",
    "D = [\n",
    "    ((153.3), 47.1),\n",
    "    ((158.9), 46.8),\n",
    "    ((160.8), 49.3),\n",
    "    ((179.6), 53.2),\n",
    "    ((156.6), 47.7),\n",
    "    ((165.1), 49.0),\n",
    "    ((165.9), 50.6),\n",
    "    ((156.7), 47.1),\n",
    "    ((167.8), 51.7),\n",
    "    ((160.8), 47.8)\n",
    "]\n",
    "\n",
    "# Umwandlung in DataFrame\n",
    "df = pd.DataFrame(D, columns=['x', 'y'])\n",
    "\n",
    "# Umwandlung in Numpy Arrays\n",
    "x = np.array(df['x'])#.reshape(-1, 1)\n",
    "y = np.array(df['y'])#.reshape(-1, 1)"
   ]
  },
  {
   "cell_type": "markdown",
   "id": "a2e7e7e1-98ca-4186-a335-0a3a3d92a186",
   "metadata": {
    "jp-MarkdownHeadingCollapsed": true
   },
   "source": [
    "### data visualisieren"
   ]
  },
  {
   "cell_type": "code",
   "execution_count": 23,
   "id": "e3038ba3-8aa5-48c9-88a4-77ac81bf803d",
   "metadata": {},
   "outputs": [
    {
     "data": {
      "image/png": "[encoded data removed]",
      "text/plain": [
       "<Figure size 1000x600 with 1 Axes>"
      ]
     },
     "metadata": {},
     "output_type": "display_data"
    }
   ],
   "source": [
    "# Datensatz visualisieren\n",
    "def visualise_datensatz(x,y):\n",
    "    # Erstellen Sie das Diagramm\n",
    "    plt.figure(figsize=(10, 6))\n",
    "    plt.scatter(x,y)\n",
    "    plt.title('Visualisierung des Datensatzes')\n",
    "    plt.xlabel('x')\n",
    "    plt.ylabel('y')\n",
    "    plt.grid(True)\n",
    "    plt.show()\n",
    "    \n",
    "visualise_datensatz(X,y)"
   ]
  },
  {
   "cell_type": "markdown",
   "id": "a9bea975-c801-440d-bc50-cab55291db0a",
   "metadata": {},
   "source": [
    "## 2 Überwachtes Lernen <a name=2><a>"
   ]
  },
  {
   "cell_type": "markdown",
   "id": "8b3b8cda-4f0c-46ad-9d28-286f6f68cb0c",
   "metadata": {},
   "source": [
    "---\n",
    "| Type of classification | python method | imports |\n",
    "| -------- | -------- | -------- |\n",
    "| **lineare Regression** | clf = LinearRegression().fit(X, Y) | from sklearn.linear_model import LinearRegression |\n",
    "| **logistische Regression**|\n",
    "| 1 class | clf = LogisticRegression().fit(X, Y) | from sklearn.linear_model import LogisticRegression |\n",
    "| Multi-class | clf = LogisticRegression(multi_class='ovr') | from sklearn.linear_model import LogisticRegression |\n",
    "| **Support Vector Machine**|\n",
    "| linear SVM        | clf =  SVC(kernel='linear').fit(X, y) | from sklearn.svm import SVC |\n",
    "| non-linear SVM | clf = SVC(kernel='linear',C=1).fit(X, y) | from sklearn.svm import SVC |\n",
    "| Kernel SVM | clf = SVC(kernel='rbf',C=1,gamma=1).fit(X, y) | from sklearn.svm import SVC|\n",
    "| **KNN**|\n",
    "| KNN-Algorithmus | clf = KNeighborsClassifier(n_neighbors=1).fit(X,y) | from sklearn.neighbors import KNeighborsClassifier |\n",
    "| Nächste-Nachbarn-Regression | clf = KNeighborsRegressor(n_neighbors=1).fit(X,y) | from sklearn.neighbors import KNeighborsRegressor |\n",
    "| **Bayes Klassifikation**|\n",
    "| *Naive Bayes* | clf = GaussianNB().fit(X, y) | from sklearn.naive_bayes import GaussianNB |\n",
    "| **Entscheidungsbäume**|\n",
    "| *decision tree* | tree = tree.DecisionTreeClassifier().fit(X, y) | from sklearn import tree |\n",
    "| *encode describtive values to ordinal* | X_enc = preprocessing.OrdinalEncoder().fit_transform(X) | from sklearn import preprocessing  |\n"
   ]
  },
  {
   "cell_type": "markdown",
   "id": "dd419998-6f71-48c8-ae57-3b3d2898cf1d",
   "metadata": {},
   "source": [
    "### 2.1. Lineare Regression <a name=2.1.><a>"
   ]
  },
  {
   "cell_type": "markdown",
   "id": "ff67badb-52bf-47a3-b739-baef372d46d9",
   "metadata": {
    "jp-MarkdownHeadingCollapsed": true
   },
   "source": [
    "#### 1. 2D modell <a name=2_1_2D><a>"
   ]
  },
  {
   "cell_type": "markdown",
   "id": "cc5a5f36-abf8-41f2-b562-43a8132d5959",
   "metadata": {
    "jp-MarkdownHeadingCollapsed": true
   },
   "source": [
    "##### Das optimale linearer Modell berechnen"
   ]
  },
  {
   "cell_type": "code",
   "execution_count": 86,
   "id": "e970972b-a302-467c-9585-6b2d2a03f5d3",
   "metadata": {},
   "outputs": [],
   "source": [
    "D = [\n",
    "    ((153.3), 47.1),\n",
    "    ((158.9), 46.8),\n",
    "    ((160.8), 49.3),\n",
    "    ((179.6), 53.2),\n",
    "    ((156.6), 47.7),\n",
    "    ((165.1), 49.0),\n",
    "    ((165.9), 50.6),\n",
    "    ((156.7), 47.1),\n",
    "    ((167.8), 51.7),\n",
    "    ((160.8), 47.8)\n",
    "]\n",
    "\n",
    "# Umwandlung in DataFrame\n",
    "df = pd.DataFrame(D, columns=['x', 'y'])\n",
    "\n",
    "# Umwandlung in Numpy Arrays\n",
    "X = np.array(df['x']).reshape(-1, 1)\n",
    "y = np.array(df['y']).reshape(-1, 1)"
   ]
  },
  {
   "cell_type": "code",
   "execution_count": 19,
   "id": "95f39661-1240-4e71-a7d0-20b391ac7dcb",
   "metadata": {},
   "outputs": [
    {
     "name": "stdout",
     "output_type": "stream",
     "text": [
      "Das optimale trainierte Modell ist: h(x) = 5.3623451652386365 + 0.2686413708690333x \n"
     ]
    }
   ],
   "source": [
    "regr = LinearRegression().fit(X,y)\n",
    "ypts_pred = regr.predict(y)\n",
    "#y_pred = regr.predict(X)\n",
    "\n",
    "theta_0 = regr.intercept_[0] #konstante θ0 \n",
    "theta_koef = regr.coef_[0][0] #(θ1*x1 + θ2*x2 + ... + θk*xk)\n",
    "\n",
    "print(f\"Das optimale trainierte Modell ist: h(x) = {theta_0} + {theta_koef}x \")"
   ]
  },
  {
   "cell_type": "markdown",
   "id": "72c7b25b-b633-48cc-975b-9d17588a537a",
   "metadata": {
    "jp-MarkdownHeadingCollapsed": true
   },
   "source": [
    "##### Evaluation: Datensatz teilen"
   ]
  },
  {
   "cell_type": "code",
   "execution_count": 71,
   "id": "35a6b159-1064-4b7e-884c-5030b1a2e172",
   "metadata": {},
   "outputs": [
    {
     "data": {
      "text/html": [
       "<style>#sk-container-id-1 {color: black;}#sk-container-id-1 pre{padding: 0;}#sk-container-id-1 div.sk-toggleable {background-color: white;}#sk-container-id-1 label.sk-toggleable__label {cursor: pointer;display: block;width: 100%;margin-bottom: 0;padding: 0.3em;box-sizing: border-box;text-align: center;}#sk-container-id-1 label.sk-toggleable__label-arrow:before {content: \"▸\";float: left;margin-right: 0.25em;color: #696969;}#sk-container-id-1 label.sk-toggleable__label-arrow:hover:before {color: black;}#sk-container-id-1 div.sk-estimator:hover label.sk-toggleable__label-arrow:before {color: black;}#sk-container-id-1 div.sk-toggleable__content {max-height: 0;max-width: 0;overflow: hidden;text-align: left;background-color: #f0f8ff;}#sk-container-id-1 div.sk-toggleable__content pre {margin: 0.2em;color: black;border-radius: 0.25em;background-color: #f0f8ff;}#sk-container-id-1 input.sk-toggleable__control:checked~div.sk-toggleable__content {max-height: 200px;max-width: 100%;overflow: auto;}#sk-container-id-1 input.sk-toggleable__control:checked~label.sk-toggleable__label-arrow:before {content: \"▾\";}#sk-container-id-1 div.sk-estimator input.sk-toggleable__control:checked~label.sk-toggleable__label {background-color: #d4ebff;}#sk-container-id-1 div.sk-label input.sk-toggleable__control:checked~label.sk-toggleable__label {background-color: #d4ebff;}#sk-container-id-1 input.sk-hidden--visually {border: 0;clip: rect(1px 1px 1px 1px);clip: rect(1px, 1px, 1px, 1px);height: 1px;margin: -1px;overflow: hidden;padding: 0;position: absolute;width: 1px;}#sk-container-id-1 div.sk-estimator {font-family: monospace;background-color: #f0f8ff;border: 1px dotted black;border-radius: 0.25em;box-sizing: border-box;margin-bottom: 0.5em;}#sk-container-id-1 div.sk-estimator:hover {background-color: #d4ebff;}#sk-container-id-1 div.sk-parallel-item::after {content: \"\";width: 100%;border-bottom: 1px solid gray;flex-grow: 1;}#sk-container-id-1 div.sk-label:hover label.sk-toggleable__label {background-color: #d4ebff;}#sk-container-id-1 div.sk-serial::before {content: \"\";position: absolute;border-left: 1px solid gray;box-sizing: border-box;top: 0;bottom: 0;left: 50%;z-index: 0;}#sk-container-id-1 div.sk-serial {display: flex;flex-direction: column;align-items: center;background-color: white;padding-right: 0.2em;padding-left: 0.2em;position: relative;}#sk-container-id-1 div.sk-item {position: relative;z-index: 1;}#sk-container-id-1 div.sk-parallel {display: flex;align-items: stretch;justify-content: center;background-color: white;position: relative;}#sk-container-id-1 div.sk-item::before, #sk-container-id-1 div.sk-parallel-item::before {content: \"\";position: absolute;border-left: 1px solid gray;box-sizing: border-box;top: 0;bottom: 0;left: 50%;z-index: -1;}#sk-container-id-1 div.sk-parallel-item {display: flex;flex-direction: column;z-index: 1;position: relative;background-color: white;}#sk-container-id-1 div.sk-parallel-item:first-child::after {align-self: flex-end;width: 50%;}#sk-container-id-1 div.sk-parallel-item:last-child::after {align-self: flex-start;width: 50%;}#sk-container-id-1 div.sk-parallel-item:only-child::after {width: 0;}#sk-container-id-1 div.sk-dashed-wrapped {border: 1px dashed gray;margin: 0 0.4em 0.5em 0.4em;box-sizing: border-box;padding-bottom: 0.4em;background-color: white;}#sk-container-id-1 div.sk-label label {font-family: monospace;font-weight: bold;display: inline-block;line-height: 1.2em;}#sk-container-id-1 div.sk-label-container {text-align: center;}#sk-container-id-1 div.sk-container {/* jupyter's `normalize.less` sets `[hidden] { display: none; }` but bootstrap.min.css set `[hidden] { display: none !important; }` so we also need the `!important` here to be able to override the default hidden behavior on the sphinx rendered scikit-learn.org. See: https://github.com/scikit-learn/scikit-learn/issues/21755 */display: inline-block !important;position: relative;}#sk-container-id-1 div.sk-text-repr-fallback {display: none;}</style><div id=\"sk-container-id-1\" class=\"sk-top-container\"><div class=\"sk-text-repr-fallback\"><pre>LinearRegression()</pre><b>In a Jupyter environment, please rerun this cell to show the HTML representation or trust the notebook. <br />On GitHub, the HTML representation is unable to render, please try loading this page with nbviewer.org.</b></div><div class=\"sk-container\" hidden><div class=\"sk-item\"><div class=\"sk-estimator sk-toggleable\"><input class=\"sk-toggleable__control sk-hidden--visually\" id=\"sk-estimator-id-1\" type=\"checkbox\" checked><label for=\"sk-estimator-id-1\" class=\"sk-toggleable__label sk-toggleable__label-arrow\">LinearRegression</label><div class=\"sk-toggleable__content\"><pre>LinearRegression()</pre></div></div></div></div></div>"
      ],
      "text/plain": [
       "LinearRegression()"
      ]
     },
     "execution_count": 71,
     "metadata": {},
     "output_type": "execute_result"
    }
   ],
   "source": [
    "from sklearn.model_selection import train_test_split\n",
    "\n",
    "X_train, X_test, y_train, y_test = train_test_split(X, y, test_size=0.2)\n",
    "\n",
    "regr.fit(X_train,y_train)"
   ]
  },
  {
   "cell_type": "markdown",
   "id": "881c9002-2b85-40e5-8828-5efc6848dc23",
   "metadata": {
    "jp-MarkdownHeadingCollapsed": true
   },
   "source": [
    "##### Bestimmtheitsmaß $R^2$-Wert\n",
    "\n",
    "$R^2(D_{ring} , f)$, $R^2(D^{train}_{ring} , f)$, $R^2(D^{test}_{ring} , f)$"
   ]
  },
  {
   "cell_type": "code",
   "execution_count": 74,
   "id": "c42c938f-2ed4-4b92-8cf7-c7e401f6543d",
   "metadata": {},
   "outputs": [
    {
     "name": "stdout",
     "output_type": "stream",
     "text": [
      "R²(D): 0.767\n",
      "R²(Dtrain): 0.998\n",
      "R²(Dtest): 0.082\n"
     ]
    }
   ],
   "source": [
    "\n",
    "print(f'R²(D): {round(regr.score(X,y),3)}')\n",
    "print(f'R²(Dtrain): {round(regr.score(X_train, y_train),3)}')\n",
    "print(f'R²(Dtest): {round(regr.score(X_test, y_test),3)}')\n"
   ]
  },
  {
   "cell_type": "markdown",
   "id": "4a820115-0ab1-4d9f-a1b8-b1aa8c71243b",
   "metadata": {
    "jp-MarkdownHeadingCollapsed": true
   },
   "source": [
    "##### Ridge-Regression\n"
   ]
  },
  {
   "cell_type": "code",
   "execution_count": 83,
   "id": "aef9bd34-8188-4528-964d-bbfe8ae62d00",
   "metadata": {},
   "outputs": [
    {
     "name": "stdout",
     "output_type": "stream",
     "text": [
      "Das optimale Ridge-Regressions Modell ist: h(x) = 5.371 + \n",
      "[0.26858877] x\n",
      "\n",
      "R²(D): 0.862\n"
     ]
    }
   ],
   "source": [
    "D = [\n",
    "    ((153.3), 47.1),\n",
    "    ((158.9), 46.8),\n",
    "    ((160.8), 49.3),\n",
    "    ((179.6), 53.2),\n",
    "    ((156.6), 47.7),\n",
    "    ((165.1), 49.0),\n",
    "    ((165.9), 50.6),\n",
    "    ((156.7), 47.1),\n",
    "    ((167.8), 51.7),\n",
    "    ((160.8), 47.8)\n",
    "]\n",
    "\n",
    "# Trennen Sie die Merkmale und die Zielwerte\n",
    "features = np.array([x for (x, y) in D]).reshape(-1, 1)\n",
    "targets = np.array([y for (x, y) in D])\n",
    "\n",
    "ridge_regr = Ridge(alpha=0.1).fit(features,targets)\n",
    "ridge_regr.score(features,targets)\n",
    "\n",
    "theta_0 = ridge_regr.intercept_ #konstante θ0 \n",
    "theta_koef = ridge_regr.coef_ #(θ1*x1 + θ2*x2 + ... + θk*xk)\n",
    "\n",
    "print(f\"Das optimale Ridge-Regressions Modell ist: h(x) = {round(theta_0,3)} + \\n{theta_koef} x\\n\")\n",
    "print(f'R²(D): {round(ridge_regr.score(features,targets),3)}')\n"
   ]
  },
  {
   "cell_type": "markdown",
   "id": "ac9cac54-544e-495c-ae06-1c0e41c42d11",
   "metadata": {
    "jp-MarkdownHeadingCollapsed": true
   },
   "source": [
    "##### Polynomische Merkmale + Ridge-Regression\n"
   ]
  },
  {
   "cell_type": "code",
   "execution_count": 70,
   "id": "c8928e59-e8ea-46e2-99ec-ae2095232d04",
   "metadata": {},
   "outputs": [
    {
     "name": "stdout",
     "output_type": "stream",
     "text": [
      "[[1.000000e+00 1.533000e+02 2.350089e+04]\n",
      " [1.000000e+00 1.589000e+02 2.524921e+04]\n",
      " [1.000000e+00 1.608000e+02 2.585664e+04]\n",
      " [1.000000e+00 1.796000e+02 3.225616e+04]\n",
      " [1.000000e+00 1.566000e+02 2.452356e+04]\n",
      " [1.000000e+00 1.651000e+02 2.725801e+04]\n",
      " [1.000000e+00 1.659000e+02 2.752281e+04]\n",
      " [1.000000e+00 1.567000e+02 2.455489e+04]\n",
      " [1.000000e+00 1.678000e+02 2.815684e+04]\n",
      " [1.000000e+00 1.608000e+02 2.585664e+04]]\n",
      "[1, 153, 23501]\n",
      "[1, 159, 25249]\n",
      "[1, 161, 25857]\n",
      "[1, 180, 32256]\n",
      "[1, 157, 24524]\n",
      "[1, 165, 27258]\n",
      "[1, 166, 27523]\n",
      "[1, 157, 24555]\n",
      "[1, 168, 28157]\n",
      "[1, 161, 25857]\n",
      "Das optimale trainierte Modell ist: h(x) = -32.058 + \n",
      "[ 0.          0.7195757  -0.00135527] x\n"
     ]
    }
   ],
   "source": [
    "import math\n",
    "\n",
    "D = [\n",
    "    ((153.3), 47.1),\n",
    "    ((158.9), 46.8),\n",
    "    ((160.8), 49.3),\n",
    "    ((179.6), 53.2),\n",
    "    ((156.6), 47.7),\n",
    "    ((165.1), 49.0),\n",
    "    ((165.9), 50.6),\n",
    "    ((156.7), 47.1),\n",
    "    ((167.8), 51.7),\n",
    "    ((160.8), 47.8)\n",
    "]\n",
    "\n",
    "# Trennen Sie die Merkmale und die Zielwerte\n",
    "features = np.array([x for (x, y) in D]).reshape(-1, 1)\n",
    "targets = np.array([y for (x, y) in D])\n",
    "\n",
    "# Erstellen Sie das PolynomialFeatures-Objekt mit Grad 2\n",
    "poly = PolynomialFeatures(2)\n",
    "\n",
    "# Wenden Sie die Transformation auf Ihre Daten an\n",
    "features_poly = poly.fit_transform(features)\n",
    "\n",
    "# Jetzt enthält 'features_poly' die polynomiale Merkmalserweiterung von 'features'\n",
    "print(features_poly)\n",
    "\n",
    "# Anwendung der math.floor oder math.ceil Funktion auf jede Zahl in jeder Liste\n",
    "correctly_rounded_data = [[math.floor(number + 0.5) if number >= 0 else math.ceil(number - 0.5) for number in sublist] for sublist in features_poly]\n",
    "\n",
    "# Ausgabe der korrekt gerundeten Daten\n",
    "for sublist in correctly_rounded_data:\n",
    "    print(sublist)\n",
    "\n",
    "poly_regr = LinearRegression().fit(features_poly,targets)\n",
    "y_pred = poly_regr.predict(features_poly)\n",
    "\n",
    "theta_0 = poly_regr.intercept_ #konstante θ0 \n",
    "theta_koef = poly_regr.coef_ #(θ1*x1 + θ2*x2 + ... + θk*xk)\n",
    "\n",
    "print(f\"Das polynomialerweiterte Modell ist: h(x) = {round(theta_0,3)} + \\n{theta_koef} x\\n\")\n",
    "\n",
    "ridge_regr = Ridge(alpha=0.1).fit(features_poly,targets)\n",
    "ridge_regr.score(features_poly,targets)\n",
    "\n",
    "theta_0 = ridge_regr.intercept_ #konstante θ0 \n",
    "theta_koef = ridge_regr.coef_ #(θ1*x1 + θ2*x2 + ... + θk*xk)\n",
    "\n",
    "print(f\"Das optimale Ridge-Regressions Modell ist: h(x) = {round(theta_0,3)} + \\n{theta_koef} x\\n\")"
   ]
  },
  {
   "cell_type": "markdown",
   "id": "6c712012-8749-4ee1-abfe-100d402c583c",
   "metadata": {
    "jp-MarkdownHeadingCollapsed": true
   },
   "source": [
    "##### 6. Kreuzvalidierung (engl. cross validation)"
   ]
  },
  {
   "cell_type": "code",
   "execution_count": 87,
   "id": "983c8832-461a-4209-9550-990fe1a02447",
   "metadata": {},
   "outputs": [
    {
     "data": {
      "text/plain": [
       "array([0.75468997, 0.74975476, 0.77382931])"
      ]
     },
     "execution_count": 87,
     "metadata": {},
     "output_type": "execute_result"
    }
   ],
   "source": [
    "from sklearn.model_selection import cross_val_score\n",
    "\n",
    "scores = cross_val_score(LinearRegression(), X, y, cv=3)\n",
    "scores"
   ]
  },
  {
   "cell_type": "code",
   "execution_count": 12,
   "id": "facc57bd-554d-412f-8461-f1f670b3fd50",
   "metadata": {},
   "outputs": [
    {
     "data": {
      "text/plain": [
       "0.7594246779223471"
      ]
     },
     "execution_count": 12,
     "metadata": {},
     "output_type": "execute_result"
    }
   ],
   "source": [
    "scores.mean()"
   ]
  },
  {
   "cell_type": "markdown",
   "id": "ed8f8598-f883-4f1c-a6d1-440f29f95967",
   "metadata": {
    "jp-MarkdownHeadingCollapsed": true
   },
   "source": [
    "#### 2. 3D modell <a name=2_1_3D><a>"
   ]
  },
  {
   "cell_type": "markdown",
   "id": "cdaadc50-9b6a-4afb-95e3-bc7c810bf0fd",
   "metadata": {
    "jp-MarkdownHeadingCollapsed": true
   },
   "source": [
    "##### optimale trainierte Modell "
   ]
  },
  {
   "cell_type": "code",
   "execution_count": 84,
   "id": "ab692f59-d2fd-4b84-b1e7-913d77afa08f",
   "metadata": {},
   "outputs": [
    {
     "data": {
      "text/plain": [
       "array([[23, 36],\n",
       "       [23, 34],\n",
       "       [26, 29],\n",
       "       [21, 40],\n",
       "       [20, 33],\n",
       "       [25, 35]], dtype=int64)"
      ]
     },
     "execution_count": 84,
     "metadata": {},
     "output_type": "execute_result"
    }
   ],
   "source": [
    "# Ihr Datensatz\n",
    "D = [((23,36),0.1),((23,34),0),((26,29),1.2),((21,40),-0.5),((20,33),-1.5),((25,35),0.7)]\n",
    "\n",
    "# Umwandlung in DataFrame\n",
    "df = pd.DataFrame(D, columns=['x', 'y'])\n",
    "df[['x1', 'x2']] = pd.DataFrame(df['x'].tolist(), index=df.index)\n",
    "df = df.drop('x', axis=1)\n",
    "\n",
    "X = df[['x1', 'x2']].to_numpy()\n",
    "y = df['y'].to_numpy()#\n",
    "X"
   ]
  },
  {
   "cell_type": "code",
   "execution_count": 64,
   "id": "5ff07042-f6b1-4011-be66-06e08287ae63",
   "metadata": {},
   "outputs": [
    {
     "name": "stdout",
     "output_type": "stream",
     "text": [
      "Das optimale trainierte Modell ist: h(x) = -11.918 + 0.445x1 + 0.049x2 \n"
     ]
    }
   ],
   "source": [
    "regr = LinearRegression().fit(X,y)\n",
    "y_pred = regr.predict(X)\n",
    "\n",
    "theta_0 = regr.intercept_ #konstante θ0 \n",
    "theta_koef = regr.coef_ #(θ1*x1 + θ2*x2 + ... + θk*xk)\n",
    "\n",
    "print(f\"Das optimale trainierte Modell ist: h(x) = {round(theta_0,3)} + {round(theta_koef[0],3)}x1 + {round(theta_koef[1],3)}x2 \")"
   ]
  },
  {
   "cell_type": "markdown",
   "id": "4dc06458-a8d6-4cb4-a99a-a6093cfca0e2",
   "metadata": {
    "jp-MarkdownHeadingCollapsed": true
   },
   "source": [
    "##### Evaluation: Datensatz teilen"
   ]
  },
  {
   "cell_type": "code",
   "execution_count": 71,
   "id": "16bfade6-4f2b-4863-91a4-0106e609a76e",
   "metadata": {},
   "outputs": [
    {
     "data": {
      "text/html": [
       "<style>#sk-container-id-1 {color: black;}#sk-container-id-1 pre{padding: 0;}#sk-container-id-1 div.sk-toggleable {background-color: white;}#sk-container-id-1 label.sk-toggleable__label {cursor: pointer;display: block;width: 100%;margin-bottom: 0;padding: 0.3em;box-sizing: border-box;text-align: center;}#sk-container-id-1 label.sk-toggleable__label-arrow:before {content: \"▸\";float: left;margin-right: 0.25em;color: #696969;}#sk-container-id-1 label.sk-toggleable__label-arrow:hover:before {color: black;}#sk-container-id-1 div.sk-estimator:hover label.sk-toggleable__label-arrow:before {color: black;}#sk-container-id-1 div.sk-toggleable__content {max-height: 0;max-width: 0;overflow: hidden;text-align: left;background-color: #f0f8ff;}#sk-container-id-1 div.sk-toggleable__content pre {margin: 0.2em;color: black;border-radius: 0.25em;background-color: #f0f8ff;}#sk-container-id-1 input.sk-toggleable__control:checked~div.sk-toggleable__content {max-height: 200px;max-width: 100%;overflow: auto;}#sk-container-id-1 input.sk-toggleable__control:checked~label.sk-toggleable__label-arrow:before {content: \"▾\";}#sk-container-id-1 div.sk-estimator input.sk-toggleable__control:checked~label.sk-toggleable__label {background-color: #d4ebff;}#sk-container-id-1 div.sk-label input.sk-toggleable__control:checked~label.sk-toggleable__label {background-color: #d4ebff;}#sk-container-id-1 input.sk-hidden--visually {border: 0;clip: rect(1px 1px 1px 1px);clip: rect(1px, 1px, 1px, 1px);height: 1px;margin: -1px;overflow: hidden;padding: 0;position: absolute;width: 1px;}#sk-container-id-1 div.sk-estimator {font-family: monospace;background-color: #f0f8ff;border: 1px dotted black;border-radius: 0.25em;box-sizing: border-box;margin-bottom: 0.5em;}#sk-container-id-1 div.sk-estimator:hover {background-color: #d4ebff;}#sk-container-id-1 div.sk-parallel-item::after {content: \"\";width: 100%;border-bottom: 1px solid gray;flex-grow: 1;}#sk-container-id-1 div.sk-label:hover label.sk-toggleable__label {background-color: #d4ebff;}#sk-container-id-1 div.sk-serial::before {content: \"\";position: absolute;border-left: 1px solid gray;box-sizing: border-box;top: 0;bottom: 0;left: 50%;z-index: 0;}#sk-container-id-1 div.sk-serial {display: flex;flex-direction: column;align-items: center;background-color: white;padding-right: 0.2em;padding-left: 0.2em;position: relative;}#sk-container-id-1 div.sk-item {position: relative;z-index: 1;}#sk-container-id-1 div.sk-parallel {display: flex;align-items: stretch;justify-content: center;background-color: white;position: relative;}#sk-container-id-1 div.sk-item::before, #sk-container-id-1 div.sk-parallel-item::before {content: \"\";position: absolute;border-left: 1px solid gray;box-sizing: border-box;top: 0;bottom: 0;left: 50%;z-index: -1;}#sk-container-id-1 div.sk-parallel-item {display: flex;flex-direction: column;z-index: 1;position: relative;background-color: white;}#sk-container-id-1 div.sk-parallel-item:first-child::after {align-self: flex-end;width: 50%;}#sk-container-id-1 div.sk-parallel-item:last-child::after {align-self: flex-start;width: 50%;}#sk-container-id-1 div.sk-parallel-item:only-child::after {width: 0;}#sk-container-id-1 div.sk-dashed-wrapped {border: 1px dashed gray;margin: 0 0.4em 0.5em 0.4em;box-sizing: border-box;padding-bottom: 0.4em;background-color: white;}#sk-container-id-1 div.sk-label label {font-family: monospace;font-weight: bold;display: inline-block;line-height: 1.2em;}#sk-container-id-1 div.sk-label-container {text-align: center;}#sk-container-id-1 div.sk-container {/* jupyter's `normalize.less` sets `[hidden] { display: none; }` but bootstrap.min.css set `[hidden] { display: none !important; }` so we also need the `!important` here to be able to override the default hidden behavior on the sphinx rendered scikit-learn.org. See: https://github.com/scikit-learn/scikit-learn/issues/21755 */display: inline-block !important;position: relative;}#sk-container-id-1 div.sk-text-repr-fallback {display: none;}</style><div id=\"sk-container-id-1\" class=\"sk-top-container\"><div class=\"sk-text-repr-fallback\"><pre>LinearRegression()</pre><b>In a Jupyter environment, please rerun this cell to show the HTML representation or trust the notebook. <br />On GitHub, the HTML representation is unable to render, please try loading this page with nbviewer.org.</b></div><div class=\"sk-container\" hidden><div class=\"sk-item\"><div class=\"sk-estimator sk-toggleable\"><input class=\"sk-toggleable__control sk-hidden--visually\" id=\"sk-estimator-id-1\" type=\"checkbox\" checked><label for=\"sk-estimator-id-1\" class=\"sk-toggleable__label sk-toggleable__label-arrow\">LinearRegression</label><div class=\"sk-toggleable__content\"><pre>LinearRegression()</pre></div></div></div></div></div>"
      ],
      "text/plain": [
       "LinearRegression()"
      ]
     },
     "execution_count": 71,
     "metadata": {},
     "output_type": "execute_result"
    }
   ],
   "source": [
    "from sklearn.model_selection import train_test_split\n",
    "\n",
    "X_train, X_test, y_train, y_test = train_test_split(X, y, test_size=0.2)\n",
    "\n",
    "regr.fit(X_train,y_train)"
   ]
  },
  {
   "cell_type": "markdown",
   "id": "7a331cdc-6941-414c-8bb4-573a89235ff0",
   "metadata": {
    "jp-MarkdownHeadingCollapsed": true
   },
   "source": [
    "##### Bestimmtheitsmaß $R^2$-Wert\n",
    "\n",
    "$R^2(D_{ring} , f)$, $R^2(D^{train}_{ring} , f)$, $R^2(D^{test}_{ring} , f)$"
   ]
  },
  {
   "cell_type": "code",
   "execution_count": 74,
   "id": "51adf403-e01d-43e9-841e-9274c7c45832",
   "metadata": {},
   "outputs": [
    {
     "name": "stdout",
     "output_type": "stream",
     "text": [
      "R²(D): 0.767\n",
      "R²(Dtrain): 0.998\n",
      "R²(Dtest): 0.082\n"
     ]
    }
   ],
   "source": [
    "\n",
    "print(f'R²(D): {round(regr.score(X,y),3)}')\n",
    "print(f'R²(Dtrain): {round(regr.score(X_train, y_train),3)}')\n",
    "print(f'R²(Dtest): {round(regr.score(X_test, y_test),3)}')\n"
   ]
  },
  {
   "cell_type": "markdown",
   "id": "0d146768-7c75-45e2-9c73-e870c0cb1ae3",
   "metadata": {
    "jp-MarkdownHeadingCollapsed": true
   },
   "source": [
    "##### Ridge-Regression\n"
   ]
  },
  {
   "cell_type": "code",
   "execution_count": 81,
   "id": "c105365d-9c43-42b3-9434-fefaefa51439",
   "metadata": {},
   "outputs": [
    {
     "name": "stdout",
     "output_type": "stream",
     "text": [
      "Das optimale Ridge-Regressions Modell ist: h(x) = -0.278 + \n",
      "[0.34710592 0.36072884] x\n",
      "\n"
     ]
    }
   ],
   "source": [
    "D=[((12,7),5.5),((10,8),6),((10,7.5),7),((15,5),6.5),((16,9),7.5),((18,8),10)]\n",
    "\n",
    "# Trennen Sie die Merkmale und die Zielwerte\n",
    "features = np.array([x for (x, y) in D])\n",
    "targets = np.array([y for (x, y) in D])\n",
    "\n",
    "ridge_regr = Ridge(alpha=0.1).fit(features,targets)\n",
    "ridge_regr.score(features,targets)\n",
    "\n",
    "theta_0 = ridge_regr.intercept_ #konstante θ0 \n",
    "theta_koef = ridge_regr.coef_ #(θ1*x1 + θ2*x2 + ... + θk*xk)\n",
    "\n",
    "print(f\"Das optimale Ridge-Regressions Modell ist: h(x) = {round(theta_0,3)} + \\n{theta_koef} x\\n\")"
   ]
  },
  {
   "cell_type": "markdown",
   "id": "068c11b2-87b4-42ea-8993-0b7fdf8cac40",
   "metadata": {
    "jp-MarkdownHeadingCollapsed": true
   },
   "source": [
    "##### Polynomische Merkmale + Ridge-Regression\n"
   ]
  },
  {
   "cell_type": "code",
   "execution_count": 80,
   "id": "29038a48-ff41-4084-b5de-dc625cf2f886",
   "metadata": {},
   "outputs": [
    {
     "name": "stdout",
     "output_type": "stream",
     "text": [
      "[[  1.    12.     7.   144.    84.    49.  ]\n",
      " [  1.    10.     8.   100.    80.    64.  ]\n",
      " [  1.    10.     7.5  100.    75.    56.25]\n",
      " [  1.    15.     5.   225.    75.    25.  ]\n",
      " [  1.    16.     9.   256.   144.    81.  ]\n",
      " [  1.    18.     8.   324.   144.    64.  ]]\n",
      "[1, 12, 7, 144, 84, 49]\n",
      "[1, 10, 8, 100, 80, 64]\n",
      "[1, 10, 8, 100, 75, 56]\n",
      "[1, 15, 5, 225, 75, 25]\n",
      "[1, 16, 9, 256, 144, 81]\n",
      "[1, 18, 8, 324, 144, 64]\n",
      "Das polynomialerweiterte Modell ist: h(x) = 113.556 + \n",
      "[  0.          -9.56666667 -11.43333333   0.22777778   0.46111111\n",
      "   0.31111111] x\n",
      "\n",
      "Das optimale Ridge-Regressions Modell ist: h(x) = 16.685 + \n",
      "[ 0.         -2.36485976  0.72373789  0.10866119 -0.03182999 -0.01165762] x\n",
      "\n"
     ]
    }
   ],
   "source": [
    "import math\n",
    "\n",
    "D=[((12,7),5.5),((10,8),6),((10,7.5),7),((15,5),6.5),((16,9),7.5),((18,8),10)]\n",
    "\n",
    "# Trennen Sie die Merkmale und die Zielwerte\n",
    "features = np.array([x for (x, y) in D])\n",
    "targets = np.array([y for (x, y) in D])\n",
    "\n",
    "# Erstellen Sie das PolynomialFeatures-Objekt mit Grad 2\n",
    "poly = PolynomialFeatures(2)\n",
    "\n",
    "# Wenden Sie die Transformation auf Ihre Daten an\n",
    "features_poly = poly.fit_transform(features)\n",
    "\n",
    "# Jetzt enthält 'features_poly' die polynomiale Merkmalserweiterung von 'features'\n",
    "print(features_poly)\n",
    "\n",
    "# Anwendung der math.floor oder math.ceil Funktion auf jede Zahl in jeder Liste\n",
    "correctly_rounded_data = [[math.floor(number + 0.5) if number >= 0 else math.ceil(number - 0.5) for number in sublist] for sublist in features_poly]\n",
    "\n",
    "# Ausgabe der korrekt gerundeten Daten\n",
    "for sublist in correctly_rounded_data:\n",
    "    print(sublist)\n",
    "\n",
    "poly_regr = LinearRegression().fit(features_poly,targets)\n",
    "y_pred = poly_regr.predict(features_poly)\n",
    "\n",
    "theta_0 = poly_regr.intercept_ #konstante θ0 \n",
    "theta_koef = poly_regr.coef_ #(θ1*x1 + θ2*x2 + ... + θk*xk)\n",
    "\n",
    "print(f\"Das polynomialerweiterte Modell ist: h(x) = {round(theta_0,3)} + \\n{theta_koef} x\\n\")\n",
    "\n",
    "ridge_regr = Ridge(alpha=0.1).fit(features_poly,targets)\n",
    "ridge_regr.score(features_poly,targets)\n",
    "\n",
    "theta_0 = ridge_regr.intercept_ #konstante θ0 \n",
    "theta_koef = ridge_regr.coef_ #(θ1*x1 + θ2*x2 + ... + θk*xk)\n",
    "\n",
    "print(f\"Das optimale Ridge-Regressions Modell ist: h(x) = {round(theta_0,3)} + \\n{theta_koef} x\\n\")"
   ]
  },
  {
   "cell_type": "markdown",
   "id": "36f6dae0-123d-4c3d-b6c9-7074d013cbd4",
   "metadata": {
    "jp-MarkdownHeadingCollapsed": true
   },
   "source": [
    "##### 6. Kreuzvalidierung (engl. cross validation)"
   ]
  },
  {
   "cell_type": "code",
   "execution_count": 85,
   "id": "bbec0ab2-5a06-4973-a2ec-89c82a58c61b",
   "metadata": {},
   "outputs": [
    {
     "data": {
      "text/plain": [
       "array([0.384964  , 0.67602274, 0.92823118])"
      ]
     },
     "execution_count": 85,
     "metadata": {},
     "output_type": "execute_result"
    }
   ],
   "source": [
    "from sklearn.model_selection import cross_val_score\n",
    "\n",
    "scores = cross_val_score(LinearRegression(), X, y, cv=3)\n",
    "scores"
   ]
  },
  {
   "cell_type": "code",
   "execution_count": 12,
   "id": "e3271dca-01c7-443e-84ea-e3bf42498062",
   "metadata": {},
   "outputs": [
    {
     "data": {
      "text/plain": [
       "0.7594246779223471"
      ]
     },
     "execution_count": 12,
     "metadata": {},
     "output_type": "execute_result"
    }
   ],
   "source": [
    "scores.mean()"
   ]
  },
  {
   "cell_type": "markdown",
   "id": "8957903a-daa5-45c2-b554-30e07186e14b",
   "metadata": {},
   "source": [
    "### 2.2. logistische Regression <a name=2.2.><a>"
   ]
  },
  {
   "cell_type": "markdown",
   "id": "66c0d096-0828-40b6-b092-361803495c3b",
   "metadata": {
    "jp-MarkdownHeadingCollapsed": true
   },
   "source": [
    "#### 1. 2D modell <a name=2_2_2D><a>"
   ]
  },
  {
   "cell_type": "markdown",
   "id": "e8cec970-75bd-40e2-b48f-7697fb60b526",
   "metadata": {
    "jp-MarkdownHeadingCollapsed": true
   },
   "source": [
    "#### 2. 3D modell <a name=2_2_3D><a>"
   ]
  },
  {
   "cell_type": "markdown",
   "id": "34fb8722-6f82-47a1-a923-a72d1366e288",
   "metadata": {
    "jp-MarkdownHeadingCollapsed": true
   },
   "source": [
    "---\n",
    "## 5.3. RNN <a name=5.1.><a>"
   ]
  },
  {
   "cell_type": "markdown",
   "id": "0ef20847-f681-44dc-b13e-90ebbe01e9db",
   "metadata": {
    "jp-MarkdownHeadingCollapsed": true
   },
   "source": [
    "### 5.3.1. spaltenweise Konkatenation zweier Matrizen <a name=5.3.1.><a>\n",
    "\n",
    "Sei $A \\in \\mathbb{R}^{n \\times m}$ und $B \\in \\mathbb{R}^{n \\times m'}$ zwei Matrizen mit gleicher Anzahl an Zeilen, so ist $A \\circ B \\in \\mathbb{R}^{n \\times (m + m')}$ die entsprechende Konkatenation:"
   ]
  },
  {
   "cell_type": "code",
   "execution_count": null,
   "id": "7917a1c0-3a58-4129-ab00-d9cde58459eb",
   "metadata": {},
   "outputs": [],
   "source": [
    "# Erstellen Sie die Matrizen A und B mit Dummy-Zahlen\n",
    "A = np.array([[1, 2, 3], \n",
    "              [4, 5, 6], \n",
    "              [7, 8, 9]])\n",
    "\n",
    "B = np.array([[10, 11, 12], \n",
    "              [13, 14, 15], \n",
    "              [16, 17, 18]])\n",
    "\n",
    "# Führen Sie die Konkatenation durch\n",
    "AB = np.concatenate((A, B), axis=1)\n",
    "print(AB)\n",
    "\n",
    "# Erstellen Sie die Vektoren v und w mit Dummy-Zahlen\n",
    "v = np.array([1, 2, 3])  # v = (v1, ..., vm)^T\n",
    "w = np.array([4, 5, 6])  # w = (w1, ..., wm')^T\n",
    "\n",
    "# Führen Sie die Konkatenation durch\n",
    "vw = np.concatenate((v, w))\n",
    "print(\"v ◦ w =\", vw)"
   ]
  },
  {
   "cell_type": "markdown",
   "id": "ebe44ddc-6fc8-47a8-9048-bdad3c010d90",
   "metadata": {},
   "source": [
    "Vergewissern Sie sich, dass für die obigen Definition gilt $(A \\circ B)(v \\circ w) = Av + Bw$."
   ]
  },
  {
   "cell_type": "code",
   "execution_count": null,
   "id": "f33bf573-d301-4809-866e-9711d253597d",
   "metadata": {},
   "outputs": [],
   "source": [
    "result1 = np.dot(AB,vw)\n",
    "result2 = np.dot(A,v) + np.dot(B,w)\n",
    "print(result1 == result2)"
   ]
  },
  {
   "cell_type": "markdown",
   "id": "51772525-0900-4237-bb78-faa53dd26d72",
   "metadata": {
    "jp-MarkdownHeadingCollapsed": true
   },
   "source": [
    "### 5.3.2. One-Hot-Codierung <a name=5.3.2.><a>\n"
   ]
  },
  {
   "cell_type": "markdown",
   "id": "eb6195b0-7376-4847-8bd3-254cc55853f2",
   "metadata": {},
   "source": [
    "Sei ein Alphabet gegeben durch\n",
    "\n",
    "Σ={a,e,s,t}\n",
    "\n",
    "1. Bestimmen Sie eine One-Hot-Codierung für Σ\n",
    ". (Anwortformat '(1,2,3,4,5,6)', Vektorlänge ist selbst zu wä\n",
    "2. Wie ist demnach das Wort test\n",
    " codiert \n",
    "\n",
    "(Anwortformat '((1,2,3,4,5,6),(7,8,9))')\n",
    "#### Lösung\n",
    "- a: (1, 0, 0, 0)\n",
    "- e: (0, 1, 0, 0)\n",
    "- s: (0, 0, 1, 0)\n",
    "- t: (0, 0, 0, 1)\n",
    "\n",
    "Unter Verwendung der zuvor definierten One-Hot-Codierung für das Alphabet Σ={a,e,s,t}, wird das Wort \"test\" wie folgt codiert:\n",
    "\n",
    "- t: (0, 0, 0, 1)\n",
    "- e: (0, 1, 0, 0)\n",
    "- s: (0, 0, 1, 0)\n",
    "- t: (0, 0, 0, 1)\n",
    "\n",
    "Daher ist die Codierung des Wortes \"test\" in dem von Ihnen angegebenen Antwortformat:\n",
    "\n",
    "((0, 0, 0, 1), (0, 1, 0, 0), (0, 0, 1, 0), (0, 0, 0, 1))"
   ]
  },
  {
   "cell_type": "markdown",
   "id": "7df485f3-6e46-4c86-9452-28009fadc40a",
   "metadata": {
    "jp-MarkdownHeadingCollapsed": true
   },
   "source": [
    "### 5.3.3. Berechnungsgraphen <a name=5.3.3.><a>\n",
    "Im Allgemeinen gilt für eine Eingabe $x = (x^{(1)}, \\ldots, x^{(m)})$:\n",
    "\n",
    "$$\n",
    "h(i) = \\text{act}(Ux^{(i)} + Wh^{(i-1)}) \\quad \\text{(1)}\n",
    "$$ <a name=hi><a>\n",
    "\n",
    "$$\n",
    "o(i) = \\text{act}(Vh^{(i)}) \\quad \\text{(2)}\n",
    "$$<a name=oi><a>\n",
    "\n",
    "für $i = 1, \\ldots, m$. Zu beachten ist, dass diese Netzwerkarchitektur mit Eingaben beliebiger Länge umgehen kann, aber eine fixe Anzahl an Parametern besitzt (in den Matrizen $U$, $V$, $W$)."
   ]
  },
  {
   "cell_type": "markdown",
   "id": "fda19404-0a03-4c6c-b27b-c2d4602fbeab",
   "metadata": {},
   "source": [
    "Gegeben sei das abgebildete einfache RNN, wobei\n",
    "\n",
    "$$\\sum = \\{\\text{ist,nichts,niemand}\\} = \\{(1,0,0)^T,(0,1,0)^T,(0,0,1)^T\\}$$\n",
    "$$U= ((0, 0.9, 0.9), (0.5, 0.1, 0), (0.5, 0, 0.1))$$\n",
    "$$W = ((0, 0.45, 0.45), (0.25, 0.05, 0), (0.25, 0, 0.05))$$\n",
    "$$V = ((0.5, 0, 0), (0, 0.5, 0), (0, 0, 0.5))$$\n",
    "$$h_0 = (0,1,1)^T$$\n",
    "\n",
    "und die Aktivierungsfunktion $h^{relu}$ ist. Berechnen Sie die hidden states und die Ausgabe für die Eingabe $x = \\text{'Niemand ist'} = ((0,0,1)^T,(1,0,0)^T)$. \n",
    "(Antwortformat '(1,2,3.456)')"
   ]
  },
  {
   "cell_type": "code",
   "execution_count": null,
   "id": "23528f1d-cd8f-4d9b-ba19-82de0847422c",
   "metadata": {},
   "outputs": [],
   "source": [
    "import numpy as np\n",
    "\n",
    "def hrelu(x):\n",
    "    return np.maximum(0, x)\n",
    "\n",
    "U = np.array([[0, 0.9, 0.9], [0.5, 0.1, 0], [0.5, 0, 0.1]])\n",
    "W = np.array([[0, 0.45, 0.45], [0.25, 0.05, 0], [0.25, 0, 0.05]])\n",
    "V = np.array([[0.5, 0, 0], [0, 0.5, 0], [0, 0, 0.5]])\n",
    "h_0 = np.array([0,1,1]).T\n",
    "x = np.array([[0,0,1],[1,0,0]]).T\n",
    "\n",
    "h_1 = hrelu(np.dot(U, x[:,0]) + np.dot(W, h_0))\n",
    "h_2 = hrelu(np.dot(U, x[:,1]) + np.dot(W, h_1))\n",
    "\n",
    "o_1 = hrelu(np.dot(V, h_1))\n",
    "o_2 = hrelu(np.dot(V, h_2))\n",
    "\n",
    "print(\"h_1: \", h_1)\n",
    "print(\"h_2: \", h_2)\n",
    "print(\"o_1: \", o_1)\n",
    "print(\"o_2: \", o_2)\n"
   ]
  },
  {
   "cell_type": "markdown",
   "id": "6c04919f-d436-4682-8ff6-3929da2c6e77",
   "metadata": {
    "jp-MarkdownHeadingCollapsed": true
   },
   "source": [
    "### 5.3.4. Long short-term memory-Netzwerke <a name=5.3.4.><a>\n"
   ]
  },
  {
   "cell_type": "markdown",
   "id": "36bce749-40b6-4918-998d-004268a7c519",
   "metadata": {},
   "source": [
    "$$f^{(i)} = h^{logit} (U^f x^{(i)} + W^f h^{(i−1)})$$\n",
    "- Der Vektor $f^{(i)}$ soll steuern, was aus dem Langzeitgedächtnis `s` vergessen werden soll (auch als **forget gate** bezeichnet).\n",
    "\n",
    "$$g^{(i)} = h^{logit} (U^g x^{(i)} + W^g h^{(i−1)})$$\n",
    "$$k^{(i)} = h^{tanh} (U^k x^{(i)} + W^k h^{(i−1)})$$\n",
    "- Der Vektor $g^{(i)}$ (**input gate**) steuert, welche Informationen aus $k^{(i)}$ in das Langzeitgedächtnis aufgenommen werden sollen.\n",
    "$$q^{(i)} = h^{logit} (U^o x^{(i)} + W^o h^{(i−1)})$$\n",
    "- Der Vektor $q^{(i)}$ (**output gate**) steuert, welche Information in die Ausgabe und den nächsten versteckten Zustand $h^{(i)}$ einfließt.\n",
    "\n",
    "- Die Kernidee hinter LSTMs liegt in der Definition des Zellzustands: $$s^{(i)} = f^{(i)} \\cdot s^{(i-1)} + g^{(i)} \\cdot k^{(i)}$$"
   ]
  },
  {
   "cell_type": "code",
   "execution_count": null,
   "id": "60a88a14-5f08-468d-aba0-11eacee21d76",
   "metadata": {},
   "outputs": [],
   "source": []
  }
 ],
 "metadata": {
  "kernelspec": {
   "display_name": "Python 3 (ipykernel)",
   "language": "python",
   "name": "python3"
  },
  "language_info": {
   "codemirror_mode": {
    "name": "ipython",
    "version": 3
   },
   "file_extension": ".py",
   "mimetype": "text/x-python",
   "name": "python",
   "nbconvert_exporter": "python",
   "pygments_lexer": "ipython3",
   "version": "3.11.3"
  }
 },
 "nbformat": 4,
 "nbformat_minor": 5
}
